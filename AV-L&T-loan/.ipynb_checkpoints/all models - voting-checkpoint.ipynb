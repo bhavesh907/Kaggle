{
 "cells": [
  {
   "cell_type": "code",
   "execution_count": 1,
   "metadata": {},
   "outputs": [],
   "source": [
    "import pandas as pd\n",
    "import numpy as np\n",
    "import matplotlib.pyplot as plt"
   ]
  },
  {
   "cell_type": "code",
   "execution_count": 2,
   "metadata": {},
   "outputs": [],
   "source": [
    "train_df = pd.read_csv('/home/monster/Downloads/kaggle/AV-L&T-loan/train.csv')\n",
    "test_df = pd.read_csv('/home/monster/Downloads/kaggle/AV-L&T-loan/test.csv')\n",
    "sub_df = pd.read_csv('/home/monster/Downloads/kaggle/AV-L&T-loan/sample_submission.csv')"
   ]
  },
  {
   "cell_type": "code",
   "execution_count": 3,
   "metadata": {},
   "outputs": [
    {
     "data": {
      "text/plain": [
       "((233154, 41), (112392, 40))"
      ]
     },
     "execution_count": 3,
     "metadata": {},
     "output_type": "execute_result"
    }
   ],
   "source": [
    "train_df.shape,test_df.shape"
   ]
  },
  {
   "cell_type": "code",
   "execution_count": 4,
   "metadata": {},
   "outputs": [],
   "source": [
    "train_df['is_train'] = ''\n",
    "test_df['is_train'] = ''\n",
    "data = pd.DataFrame()\n",
    "train_df.loc[:,'is_train'] = 1\n",
    "test_df.loc[:,'is_train'] = 0\n",
    "data = data.append(train_df,sort=False).append(test_df,sort=False)"
   ]
  },
  {
   "cell_type": "code",
   "execution_count": 5,
   "metadata": {},
   "outputs": [],
   "source": [
    "data.reset_index(inplace=True)"
   ]
  },
  {
   "cell_type": "code",
   "execution_count": 6,
   "metadata": {},
   "outputs": [],
   "source": [
    "#Treat missing values\n",
    "#86 % values are no so it is safe to impute NO\n",
    "data['Employment.Type'].fillna('Self employed',inplace=True)"
   ]
  },
  {
   "cell_type": "code",
   "execution_count": 7,
   "metadata": {},
   "outputs": [
    {
     "data": {
      "text/plain": [
       "index                                       0\n",
       "UniqueID                                    0\n",
       "disbursed_amount                            0\n",
       "asset_cost                                  0\n",
       "ltv                                         0\n",
       "branch_id                                   0\n",
       "supplier_id                                 0\n",
       "manufacturer_id                             0\n",
       "Current_pincode_ID                          0\n",
       "Date.of.Birth                               0\n",
       "Employment.Type                             0\n",
       "DisbursalDate                               0\n",
       "State_ID                                    0\n",
       "Employee_code_ID                            0\n",
       "MobileNo_Avl_Flag                           0\n",
       "Aadhar_flag                                 0\n",
       "PAN_flag                                    0\n",
       "VoterID_flag                                0\n",
       "Driving_flag                                0\n",
       "Passport_flag                               0\n",
       "PERFORM_CNS.SCORE                           0\n",
       "PERFORM_CNS.SCORE.DESCRIPTION               0\n",
       "PRI.NO.OF.ACCTS                             0\n",
       "PRI.ACTIVE.ACCTS                            0\n",
       "PRI.OVERDUE.ACCTS                           0\n",
       "PRI.CURRENT.BALANCE                         0\n",
       "PRI.SANCTIONED.AMOUNT                       0\n",
       "PRI.DISBURSED.AMOUNT                        0\n",
       "SEC.NO.OF.ACCTS                             0\n",
       "SEC.ACTIVE.ACCTS                            0\n",
       "SEC.OVERDUE.ACCTS                           0\n",
       "SEC.CURRENT.BALANCE                         0\n",
       "SEC.SANCTIONED.AMOUNT                       0\n",
       "SEC.DISBURSED.AMOUNT                        0\n",
       "PRIMARY.INSTAL.AMT                          0\n",
       "SEC.INSTAL.AMT                              0\n",
       "NEW.ACCTS.IN.LAST.SIX.MONTHS                0\n",
       "DELINQUENT.ACCTS.IN.LAST.SIX.MONTHS         0\n",
       "AVERAGE.ACCT.AGE                            0\n",
       "CREDIT.HISTORY.LENGTH                       0\n",
       "NO.OF_INQUIRIES                             0\n",
       "loan_default                           112392\n",
       "is_train                                    0\n",
       "dtype: int64"
      ]
     },
     "execution_count": 7,
     "metadata": {},
     "output_type": "execute_result"
    }
   ],
   "source": [
    "data.apply(lambda x: sum(x.isnull()),axis=0)"
   ]
  },
  {
   "cell_type": "code",
   "execution_count": 8,
   "metadata": {},
   "outputs": [
    {
     "data": {
      "text/plain": [
       "((345546, 43), (233154, 42), (112392, 41))"
      ]
     },
     "execution_count": 8,
     "metadata": {},
     "output_type": "execute_result"
    }
   ],
   "source": [
    "data.shape,train_df.shape,test_df.shape"
   ]
  },
  {
   "cell_type": "code",
   "execution_count": 9,
   "metadata": {},
   "outputs": [],
   "source": [
    "#create mean and st dev features- leakage features\n",
    "ft_name = ['loan_default']\n",
    "var = ['branch_id','State_ID']\n",
    "fntouse = list([np.mean,np.sum])\n",
    "\n",
    "# temp2 = data.pivot_table(values='ltv',index=['Current_pincode_ID'],aggfunc=np.std)\n",
    "# # temp2.plot(kind='bar')\n",
    "# temp2.reset_index(inplace=True)\n",
    "# temp2.columns = ['Current_pincode_ID', 'ltv_stdev']\n",
    "for ftname in ft_name:\n",
    "    for fn2use in fntouse:\n",
    "        for var_name in var:\n",
    "            temp3 = train_df.pivot_table(values=ftname,index=[var_name],aggfunc=fn2use)\n",
    "            # temp2.plot(kind='bar')\n",
    "            temp3.reset_index(inplace=True)\n",
    "            temp3.columns = [var_name, var_name+'_'+ftname+'_'+str(fn2use).split(' ')[1]]\n",
    "            data = data.merge(temp3,on=var_name, how = 'left')\n",
    "    #         data[var_name+'_stdev'] = data[ftname]-data[var_name+'_'+ftname+'_mean']\n",
    "\n",
    "            # df = pd.concat([temp2,temp3],axis=1)"
   ]
  },
  {
   "cell_type": "code",
   "execution_count": 10,
   "metadata": {},
   "outputs": [
    {
     "data": {
      "text/plain": [
       "index                                       0\n",
       "UniqueID                                    0\n",
       "disbursed_amount                            0\n",
       "asset_cost                                  0\n",
       "ltv                                         0\n",
       "branch_id                                   0\n",
       "supplier_id                                 0\n",
       "manufacturer_id                             0\n",
       "Current_pincode_ID                          0\n",
       "Date.of.Birth                               0\n",
       "Employment.Type                             0\n",
       "DisbursalDate                               0\n",
       "State_ID                                    0\n",
       "Employee_code_ID                            0\n",
       "MobileNo_Avl_Flag                           0\n",
       "Aadhar_flag                                 0\n",
       "PAN_flag                                    0\n",
       "VoterID_flag                                0\n",
       "Driving_flag                                0\n",
       "Passport_flag                               0\n",
       "PERFORM_CNS.SCORE                           0\n",
       "PERFORM_CNS.SCORE.DESCRIPTION               0\n",
       "PRI.NO.OF.ACCTS                             0\n",
       "PRI.ACTIVE.ACCTS                            0\n",
       "PRI.OVERDUE.ACCTS                           0\n",
       "PRI.CURRENT.BALANCE                         0\n",
       "PRI.SANCTIONED.AMOUNT                       0\n",
       "PRI.DISBURSED.AMOUNT                        0\n",
       "SEC.NO.OF.ACCTS                             0\n",
       "SEC.ACTIVE.ACCTS                            0\n",
       "SEC.OVERDUE.ACCTS                           0\n",
       "SEC.CURRENT.BALANCE                         0\n",
       "SEC.SANCTIONED.AMOUNT                       0\n",
       "SEC.DISBURSED.AMOUNT                        0\n",
       "PRIMARY.INSTAL.AMT                          0\n",
       "SEC.INSTAL.AMT                              0\n",
       "NEW.ACCTS.IN.LAST.SIX.MONTHS                0\n",
       "DELINQUENT.ACCTS.IN.LAST.SIX.MONTHS         0\n",
       "AVERAGE.ACCT.AGE                            0\n",
       "CREDIT.HISTORY.LENGTH                       0\n",
       "NO.OF_INQUIRIES                             0\n",
       "loan_default                           112392\n",
       "is_train                                    0\n",
       "branch_id_loan_default_mean                 0\n",
       "State_ID_loan_default_mean                  0\n",
       "branch_id_loan_default_sum                  0\n",
       "State_ID_loan_default_sum                   0\n",
       "dtype: int64"
      ]
     },
     "execution_count": 10,
     "metadata": {},
     "output_type": "execute_result"
    }
   ],
   "source": [
    "data.apply(lambda x: sum(x.isnull()),axis=0)"
   ]
  },
  {
   "cell_type": "code",
   "execution_count": 11,
   "metadata": {},
   "outputs": [
    {
     "data": {
      "text/plain": [
       "Index(['index', 'UniqueID', 'disbursed_amount', 'asset_cost', 'ltv',\n",
       "       'branch_id', 'supplier_id', 'manufacturer_id', 'Current_pincode_ID',\n",
       "       'Date.of.Birth', 'Employment.Type', 'DisbursalDate', 'State_ID',\n",
       "       'Employee_code_ID', 'MobileNo_Avl_Flag', 'Aadhar_flag', 'PAN_flag',\n",
       "       'VoterID_flag', 'Driving_flag', 'Passport_flag', 'PERFORM_CNS.SCORE',\n",
       "       'PERFORM_CNS.SCORE.DESCRIPTION', 'PRI.NO.OF.ACCTS', 'PRI.ACTIVE.ACCTS',\n",
       "       'PRI.OVERDUE.ACCTS', 'PRI.CURRENT.BALANCE', 'PRI.SANCTIONED.AMOUNT',\n",
       "       'PRI.DISBURSED.AMOUNT', 'SEC.NO.OF.ACCTS', 'SEC.ACTIVE.ACCTS',\n",
       "       'SEC.OVERDUE.ACCTS', 'SEC.CURRENT.BALANCE', 'SEC.SANCTIONED.AMOUNT',\n",
       "       'SEC.DISBURSED.AMOUNT', 'PRIMARY.INSTAL.AMT', 'SEC.INSTAL.AMT',\n",
       "       'NEW.ACCTS.IN.LAST.SIX.MONTHS', 'DELINQUENT.ACCTS.IN.LAST.SIX.MONTHS',\n",
       "       'AVERAGE.ACCT.AGE', 'CREDIT.HISTORY.LENGTH', 'NO.OF_INQUIRIES',\n",
       "       'loan_default', 'is_train', 'branch_id_loan_default_mean',\n",
       "       'State_ID_loan_default_mean', 'branch_id_loan_default_sum',\n",
       "       'State_ID_loan_default_sum'],\n",
       "      dtype='object')"
      ]
     },
     "execution_count": 11,
     "metadata": {},
     "output_type": "execute_result"
    }
   ],
   "source": [
    "data.columns"
   ]
  },
  {
   "cell_type": "code",
   "execution_count": null,
   "metadata": {},
   "outputs": [],
   "source": []
  },
  {
   "cell_type": "code",
   "execution_count": null,
   "metadata": {},
   "outputs": [],
   "source": []
  },
  {
   "cell_type": "code",
   "execution_count": 12,
   "metadata": {},
   "outputs": [],
   "source": [
    "data['CREDIT.HISTORY.LENGTH.YEARS'] = data['CREDIT.HISTORY.LENGTH'].map(lambda x : int(x.split(' ')[0][:-3]))"
   ]
  },
  {
   "cell_type": "code",
   "execution_count": 13,
   "metadata": {},
   "outputs": [],
   "source": [
    "data['CREDIT.HISTORY.LENGTH.MONTHS'] = data['CREDIT.HISTORY.LENGTH'].map(lambda x : int(x.split(' ')[1][:-3]))"
   ]
  },
  {
   "cell_type": "code",
   "execution_count": 14,
   "metadata": {},
   "outputs": [],
   "source": [
    "data['CREDIT.HISTORY.LENGTH.TOTMONS'] = data['CREDIT.HISTORY.LENGTH.MONTHS'] + np.dot(data['CREDIT.HISTORY.LENGTH.YEARS'],12)"
   ]
  },
  {
   "cell_type": "code",
   "execution_count": null,
   "metadata": {},
   "outputs": [],
   "source": []
  },
  {
   "cell_type": "code",
   "execution_count": 15,
   "metadata": {},
   "outputs": [],
   "source": [
    "data['AVERAGE.ACCT.AGE.YEARS'] = data['AVERAGE.ACCT.AGE'].map(lambda x : int(x.split(' ')[0][:-3]))\n",
    "\n",
    "data['AVERAGE.ACCT.AGE.MONTHS'] = data['AVERAGE.ACCT.AGE'].map(lambda x : int(x.split(' ')[1][:-3]))\n",
    "\n",
    "data['AVERAGE.ACCT.AGE.TOTMONS'] = data['AVERAGE.ACCT.AGE.MONTHS'] + np.dot(data['AVERAGE.ACCT.AGE.YEARS'],12)"
   ]
  },
  {
   "cell_type": "code",
   "execution_count": 16,
   "metadata": {},
   "outputs": [
    {
     "data": {
      "text/plain": [
       "'01-01-84'"
      ]
     },
     "execution_count": 16,
     "metadata": {},
     "output_type": "execute_result"
    }
   ],
   "source": [
    "data['Date.of.Birth'][0]"
   ]
  },
  {
   "cell_type": "code",
   "execution_count": 17,
   "metadata": {},
   "outputs": [],
   "source": [
    "data['Date.of.Birth.YEAR'] = data['Date.of.Birth'].map(lambda x : int(x.split('-')[2]))"
   ]
  },
  {
   "cell_type": "code",
   "execution_count": 18,
   "metadata": {},
   "outputs": [
    {
     "data": {
      "text/plain": [
       "874     16-07-00\n",
       "1300    05-03-00\n",
       "1864    01-01-00\n",
       "1872    18-08-00\n",
       "1874    01-01-00\n",
       "Name: Date.of.Birth, dtype: object"
      ]
     },
     "execution_count": 18,
     "metadata": {},
     "output_type": "execute_result"
    }
   ],
   "source": [
    "data.loc[data['Date.of.Birth.YEAR']==0,'Date.of.Birth'].head()"
   ]
  },
  {
   "cell_type": "code",
   "execution_count": 19,
   "metadata": {},
   "outputs": [],
   "source": [
    "data['Date.of.Birth.YEAR.conv'] = ''"
   ]
  },
  {
   "cell_type": "code",
   "execution_count": 20,
   "metadata": {},
   "outputs": [],
   "source": [
    "data.loc[data['Date.of.Birth.YEAR']==0,'Date.of.Birth.YEAR.conv'] = 2000"
   ]
  },
  {
   "cell_type": "code",
   "execution_count": 21,
   "metadata": {},
   "outputs": [],
   "source": [
    "data.loc[data['Date.of.Birth.YEAR']>0,'Date.of.Birth.YEAR.conv'] = data.loc[data['Date.of.Birth.YEAR']>0,'Date.of.Birth.YEAR']+1900"
   ]
  },
  {
   "cell_type": "code",
   "execution_count": 22,
   "metadata": {},
   "outputs": [],
   "source": [
    "data['Date.of.Birth.AGE'] = ''\n",
    "\n",
    "data['Date.of.Birth.AGE'] = 2019 - data.loc[:,'Date.of.Birth.YEAR.conv']"
   ]
  },
  {
   "cell_type": "code",
   "execution_count": 23,
   "metadata": {},
   "outputs": [],
   "source": [
    "#st dev and mean of ltv feature"
   ]
  },
  {
   "cell_type": "code",
   "execution_count": null,
   "metadata": {},
   "outputs": [],
   "source": []
  },
  {
   "cell_type": "code",
   "execution_count": 24,
   "metadata": {},
   "outputs": [
    {
     "data": {
      "text/plain": [
       "<matplotlib.axes._subplots.AxesSubplot at 0x7f97f1891d68>"
      ]
     },
     "execution_count": 24,
     "metadata": {},
     "output_type": "execute_result"
    },
    {
     "data": {
      "image/png": "[encoded data removed]",
      "text/plain": [
       "<Figure size 432x288 with 1 Axes>"
      ]
     },
     "metadata": {
      "needs_background": "light"
     },
     "output_type": "display_data"
    }
   ],
   "source": [
    "temp2 = data.pivot_table(values='loan_default',index=['branch_id'],aggfunc=np.mean)\n",
    "# print('Frequency Table for Credit History:') \n",
    "# print(temp2)\n",
    "\n",
    "# fig = plt.figure(figsize=(8,4))\n",
    "# ax1 = fig.add_subplot(121)\n",
    "# ax1.set_xlabel('Credit_History')\n",
    "# ax1.set_ylabel('Count of Applicants')\n",
    "# ax1.set_title(\"Applicants by Credit_History\")\n",
    "temp2.plot(kind='bar')\n",
    "\n"
   ]
  },
  {
   "cell_type": "code",
   "execution_count": 25,
   "metadata": {},
   "outputs": [],
   "source": [
    "#create mean and st dev features\n",
    "\n",
    "\n",
    "ft_name = ['disbursed_amount','asset_cost','ltv','PERFORM_CNS.SCORE','PRIMARY.INSTAL.AMT']\n",
    "\n",
    "\n",
    "#All 208 features - aggregated\n",
    "\n",
    "# ft_name = ['disbursed_amount','asset_cost','ltv','PERFORM_CNS.SCORE','PRIMARY.INSTAL.AMT',\n",
    "#            'PRI.NO.OF.ACCTS', 'PRI.ACTIVE.ACCTS',\n",
    "#        'PRI.OVERDUE.ACCTS', 'PRI.CURRENT.BALANCE', 'PRI.SANCTIONED.AMOUNT',\n",
    "#        'PRI.DISBURSED.AMOUNT', 'SEC.NO.OF.ACCTS', 'SEC.ACTIVE.ACCTS',\n",
    "#        'SEC.OVERDUE.ACCTS', 'SEC.CURRENT.BALANCE', 'SEC.SANCTIONED.AMOUNT',\n",
    "#        'SEC.DISBURSED.AMOUNT', 'SEC.INSTAL.AMT',\n",
    "#        'NEW.ACCTS.IN.LAST.SIX.MONTHS', 'DELINQUENT.ACCTS.IN.LAST.SIX.MONTHS',]\n",
    "\n",
    "\n",
    "    \n",
    "var = ['Current_pincode_ID','branch_id','supplier_id','manufacturer_id','State_ID','Employee_code_ID']\n",
    "# temp2 = data.pivot_table(values='ltv',index=['Current_pincode_ID'],aggfunc=np.std)\n",
    "# # temp2.plot(kind='bar')\n",
    "# temp2.reset_index(inplace=True)\n",
    "# temp2.columns = ['Current_pincode_ID', 'ltv_stdev']\n",
    "for ftname in ft_name:\n",
    "    for var_name in var:\n",
    "        temp3 = data.pivot_table(values=ftname,index=[var_name],aggfunc=np.mean)\n",
    "        # temp2.plot(kind='bar')\n",
    "        temp3.reset_index(inplace=True)\n",
    "        temp3.columns = [var_name, var_name+'_'+ftname+'_mean']\n",
    "        data = data.merge(temp3,on=var_name, how = 'left')\n",
    "        data[var_name+'_stdev'] = data[ftname]-data[var_name+'_'+ftname+'_mean']\n",
    "\n",
    "        # df = pd.concat([temp2,temp3],axis=1)"
   ]
  },
  {
   "cell_type": "code",
   "execution_count": 26,
   "metadata": {},
   "outputs": [],
   "source": [
    "# data = data.merge(temp3,on='Current_pincode_ID', how = 'left')"
   ]
  },
  {
   "cell_type": "code",
   "execution_count": 27,
   "metadata": {},
   "outputs": [],
   "source": [
    "# data['ltv_stdev'] = data['ltv']-data['ltv_mean']"
   ]
  },
  {
   "cell_type": "code",
   "execution_count": null,
   "metadata": {},
   "outputs": [],
   "source": []
  },
  {
   "cell_type": "code",
   "execution_count": null,
   "metadata": {},
   "outputs": [],
   "source": []
  },
  {
   "cell_type": "code",
   "execution_count": null,
   "metadata": {},
   "outputs": [],
   "source": []
  },
  {
   "cell_type": "code",
   "execution_count": 28,
   "metadata": {},
   "outputs": [],
   "source": [
    "data['PERFORM_CNS.SCORE.DESCRIPTION'] = data['PERFORM_CNS.SCORE.DESCRIPTION'].replace(' ', '_', regex=True)"
   ]
  },
  {
   "cell_type": "code",
   "execution_count": 29,
   "metadata": {},
   "outputs": [],
   "source": [
    "#treat categorical variables\n",
    "from sklearn.preprocessing import OneHotEncoder\n",
    "\n",
    "d = pd.DataFrame()\n",
    "\n",
    "var_mod = ['Employment.Type','PERFORM_CNS.SCORE.DESCRIPTION']\n",
    "\n",
    "x = pd.get_dummies(data[var_mod])\n",
    "\n",
    "data  = data.drop(var_mod,axis=1)\n",
    "data = pd.concat([data,x], axis=1)\n",
    "    \n",
    "# for i in var_mod:\n",
    "#     print(i)\n",
    "# #     d[str(i)] \n",
    "#     dd = le.fit_transform(data.loc[:,i]).toarray()\n",
    "#     print(dd.shape)\n",
    "# d.dtypes\n"
   ]
  },
  {
   "cell_type": "code",
   "execution_count": 30,
   "metadata": {},
   "outputs": [
    {
     "data": {
      "text/plain": [
       "(345546, 112)"
      ]
     },
     "execution_count": 30,
     "metadata": {},
     "output_type": "execute_result"
    }
   ],
   "source": [
    "data.shape"
   ]
  },
  {
   "cell_type": "code",
   "execution_count": 31,
   "metadata": {},
   "outputs": [
    {
     "data": {
      "image/png": "[encoded data removed]",
      "text/plain": [
       "<Figure size 432x288 with 1 Axes>"
      ]
     },
     "metadata": {
      "needs_background": "light"
     },
     "output_type": "display_data"
    }
   ],
   "source": [
    "data['ltv'].hist(bins=50)\n",
    "plt.show()"
   ]
  },
  {
   "cell_type": "code",
   "execution_count": 32,
   "metadata": {},
   "outputs": [
    {
     "data": {
      "image/png": "[encoded data removed]",
      "text/plain": [
       "<Figure size 432x288 with 1 Axes>"
      ]
     },
     "metadata": {
      "needs_background": "light"
     },
     "output_type": "display_data"
    }
   ],
   "source": [
    "(data['ltv']**2).hist(bins=50)\n",
    "plt.show()"
   ]
  },
  {
   "cell_type": "code",
   "execution_count": 33,
   "metadata": {},
   "outputs": [
    {
     "data": {
      "image/png": "[encoded data removed]",
      "text/plain": [
       "<Figure size 432x288 with 1 Axes>"
      ]
     },
     "metadata": {
      "needs_background": "light"
     },
     "output_type": "display_data"
    }
   ],
   "source": [
    "(data['ltv']**1/3).hist(bins=50)\n",
    "plt.show()"
   ]
  },
  {
   "cell_type": "code",
   "execution_count": 34,
   "metadata": {},
   "outputs": [],
   "source": [
    "data['log_disbursed_amount'] = np.log(data['disbursed_amount'])\n",
    "data['log_asset_cost'] = np.log(data['asset_cost'])"
   ]
  },
  {
   "cell_type": "code",
   "execution_count": 35,
   "metadata": {},
   "outputs": [],
   "source": [
    "data['ltv_squared'] = data['ltv']**2\n",
    "data['log_ltv'] = np.log(data['ltv'])"
   ]
  },
  {
   "cell_type": "code",
   "execution_count": null,
   "metadata": {},
   "outputs": [],
   "source": []
  },
  {
   "cell_type": "code",
   "execution_count": 36,
   "metadata": {},
   "outputs": [],
   "source": [
    "data['DisbursalDate_month'] = data['DisbursalDate'].map(lambda x : int(x.split('-')[1]))\n",
    "data['DisbursalDate_dayofmonth'] = data['DisbursalDate'].map(lambda x : int(x.split('-')[0]))"
   ]
  },
  {
   "cell_type": "code",
   "execution_count": null,
   "metadata": {},
   "outputs": [],
   "source": []
  },
  {
   "cell_type": "code",
   "execution_count": 37,
   "metadata": {},
   "outputs": [
    {
     "data": {
      "text/plain": [
       "str"
      ]
     },
     "execution_count": 37,
     "metadata": {},
     "output_type": "execute_result"
    }
   ],
   "source": [
    "type(data['AVERAGE.ACCT.AGE'][0])"
   ]
  },
  {
   "cell_type": "code",
   "execution_count": 38,
   "metadata": {},
   "outputs": [
    {
     "data": {
      "text/plain": [
       "str"
      ]
     },
     "execution_count": 38,
     "metadata": {},
     "output_type": "execute_result"
    }
   ],
   "source": [
    "type(data['CREDIT.HISTORY.LENGTH'][0])"
   ]
  },
  {
   "cell_type": "code",
   "execution_count": 39,
   "metadata": {},
   "outputs": [],
   "source": [
    "train_df = data.loc[data['is_train']==1,:]\n",
    "train_df = train_df.drop(['is_train'],axis=1)"
   ]
  },
  {
   "cell_type": "code",
   "execution_count": 40,
   "metadata": {},
   "outputs": [],
   "source": [
    "test_df = data.loc[data['is_train']==0,:]\n",
    "test_df = test_df.drop(['is_train','loan_default'],axis=1)"
   ]
  },
  {
   "cell_type": "code",
   "execution_count": 41,
   "metadata": {},
   "outputs": [
    {
     "data": {
      "text/plain": [
       "index                                                                                    0\n",
       "UniqueID                                                                                 0\n",
       "disbursed_amount                                                                         0\n",
       "asset_cost                                                                               0\n",
       "ltv                                                                                      0\n",
       "branch_id                                                                                0\n",
       "supplier_id                                                                              0\n",
       "manufacturer_id                                                                          0\n",
       "Current_pincode_ID                                                                       0\n",
       "Date.of.Birth                                                                            0\n",
       "DisbursalDate                                                                            0\n",
       "State_ID                                                                                 0\n",
       "Employee_code_ID                                                                         0\n",
       "MobileNo_Avl_Flag                                                                        0\n",
       "Aadhar_flag                                                                              0\n",
       "PAN_flag                                                                                 0\n",
       "VoterID_flag                                                                             0\n",
       "Driving_flag                                                                             0\n",
       "Passport_flag                                                                            0\n",
       "PERFORM_CNS.SCORE                                                                        0\n",
       "PRI.NO.OF.ACCTS                                                                          0\n",
       "PRI.ACTIVE.ACCTS                                                                         0\n",
       "PRI.OVERDUE.ACCTS                                                                        0\n",
       "PRI.CURRENT.BALANCE                                                                      0\n",
       "PRI.SANCTIONED.AMOUNT                                                                    0\n",
       "PRI.DISBURSED.AMOUNT                                                                     0\n",
       "SEC.NO.OF.ACCTS                                                                          0\n",
       "SEC.ACTIVE.ACCTS                                                                         0\n",
       "SEC.OVERDUE.ACCTS                                                                        0\n",
       "SEC.CURRENT.BALANCE                                                                      0\n",
       "                                                                                        ..\n",
       "State_ID_PRIMARY.INSTAL.AMT_mean                                                         0\n",
       "Employee_code_ID_PRIMARY.INSTAL.AMT_mean                                                 0\n",
       "Employment.Type_Salaried                                                                 0\n",
       "Employment.Type_Self employed                                                            0\n",
       "PERFORM_CNS.SCORE.DESCRIPTION_A-Very_Low_Risk                                            0\n",
       "PERFORM_CNS.SCORE.DESCRIPTION_B-Very_Low_Risk                                            0\n",
       "PERFORM_CNS.SCORE.DESCRIPTION_C-Very_Low_Risk                                            0\n",
       "PERFORM_CNS.SCORE.DESCRIPTION_D-Very_Low_Risk                                            0\n",
       "PERFORM_CNS.SCORE.DESCRIPTION_E-Low_Risk                                                 0\n",
       "PERFORM_CNS.SCORE.DESCRIPTION_F-Low_Risk                                                 0\n",
       "PERFORM_CNS.SCORE.DESCRIPTION_G-Low_Risk                                                 0\n",
       "PERFORM_CNS.SCORE.DESCRIPTION_H-Medium_Risk                                              0\n",
       "PERFORM_CNS.SCORE.DESCRIPTION_I-Medium_Risk                                              0\n",
       "PERFORM_CNS.SCORE.DESCRIPTION_J-High_Risk                                                0\n",
       "PERFORM_CNS.SCORE.DESCRIPTION_K-High_Risk                                                0\n",
       "PERFORM_CNS.SCORE.DESCRIPTION_L-Very_High_Risk                                           0\n",
       "PERFORM_CNS.SCORE.DESCRIPTION_M-Very_High_Risk                                           0\n",
       "PERFORM_CNS.SCORE.DESCRIPTION_No_Bureau_History_Available                                0\n",
       "PERFORM_CNS.SCORE.DESCRIPTION_Not_Scored:_More_than_50_active_Accounts_found             0\n",
       "PERFORM_CNS.SCORE.DESCRIPTION_Not_Scored:_No_Activity_seen_on_the_customer_(Inactive)    0\n",
       "PERFORM_CNS.SCORE.DESCRIPTION_Not_Scored:_No_Updates_available_in_last_36_months         0\n",
       "PERFORM_CNS.SCORE.DESCRIPTION_Not_Scored:_Not_Enough_Info_available_on_the_customer      0\n",
       "PERFORM_CNS.SCORE.DESCRIPTION_Not_Scored:_Only_a_Guarantor                               0\n",
       "PERFORM_CNS.SCORE.DESCRIPTION_Not_Scored:_Sufficient_History_Not_Available               0\n",
       "log_disbursed_amount                                                                     0\n",
       "log_asset_cost                                                                           0\n",
       "ltv_squared                                                                              0\n",
       "log_ltv                                                                                  0\n",
       "DisbursalDate_month                                                                      0\n",
       "DisbursalDate_dayofmonth                                                                 0\n",
       "Length: 117, dtype: int64"
      ]
     },
     "execution_count": 41,
     "metadata": {},
     "output_type": "execute_result"
    }
   ],
   "source": [
    "train_df.apply(lambda x: sum(x.isnull()),axis=0)"
   ]
  },
  {
   "cell_type": "code",
   "execution_count": 42,
   "metadata": {},
   "outputs": [
    {
     "data": {
      "text/plain": [
       "index                                                                                    0\n",
       "UniqueID                                                                                 0\n",
       "disbursed_amount                                                                         0\n",
       "asset_cost                                                                               0\n",
       "ltv                                                                                      0\n",
       "branch_id                                                                                0\n",
       "supplier_id                                                                              0\n",
       "manufacturer_id                                                                          0\n",
       "Current_pincode_ID                                                                       0\n",
       "Date.of.Birth                                                                            0\n",
       "DisbursalDate                                                                            0\n",
       "State_ID                                                                                 0\n",
       "Employee_code_ID                                                                         0\n",
       "MobileNo_Avl_Flag                                                                        0\n",
       "Aadhar_flag                                                                              0\n",
       "PAN_flag                                                                                 0\n",
       "VoterID_flag                                                                             0\n",
       "Driving_flag                                                                             0\n",
       "Passport_flag                                                                            0\n",
       "PERFORM_CNS.SCORE                                                                        0\n",
       "PRI.NO.OF.ACCTS                                                                          0\n",
       "PRI.ACTIVE.ACCTS                                                                         0\n",
       "PRI.OVERDUE.ACCTS                                                                        0\n",
       "PRI.CURRENT.BALANCE                                                                      0\n",
       "PRI.SANCTIONED.AMOUNT                                                                    0\n",
       "PRI.DISBURSED.AMOUNT                                                                     0\n",
       "SEC.NO.OF.ACCTS                                                                          0\n",
       "SEC.ACTIVE.ACCTS                                                                         0\n",
       "SEC.OVERDUE.ACCTS                                                                        0\n",
       "SEC.CURRENT.BALANCE                                                                      0\n",
       "                                                                                        ..\n",
       "State_ID_PRIMARY.INSTAL.AMT_mean                                                         0\n",
       "Employee_code_ID_PRIMARY.INSTAL.AMT_mean                                                 0\n",
       "Employment.Type_Salaried                                                                 0\n",
       "Employment.Type_Self employed                                                            0\n",
       "PERFORM_CNS.SCORE.DESCRIPTION_A-Very_Low_Risk                                            0\n",
       "PERFORM_CNS.SCORE.DESCRIPTION_B-Very_Low_Risk                                            0\n",
       "PERFORM_CNS.SCORE.DESCRIPTION_C-Very_Low_Risk                                            0\n",
       "PERFORM_CNS.SCORE.DESCRIPTION_D-Very_Low_Risk                                            0\n",
       "PERFORM_CNS.SCORE.DESCRIPTION_E-Low_Risk                                                 0\n",
       "PERFORM_CNS.SCORE.DESCRIPTION_F-Low_Risk                                                 0\n",
       "PERFORM_CNS.SCORE.DESCRIPTION_G-Low_Risk                                                 0\n",
       "PERFORM_CNS.SCORE.DESCRIPTION_H-Medium_Risk                                              0\n",
       "PERFORM_CNS.SCORE.DESCRIPTION_I-Medium_Risk                                              0\n",
       "PERFORM_CNS.SCORE.DESCRIPTION_J-High_Risk                                                0\n",
       "PERFORM_CNS.SCORE.DESCRIPTION_K-High_Risk                                                0\n",
       "PERFORM_CNS.SCORE.DESCRIPTION_L-Very_High_Risk                                           0\n",
       "PERFORM_CNS.SCORE.DESCRIPTION_M-Very_High_Risk                                           0\n",
       "PERFORM_CNS.SCORE.DESCRIPTION_No_Bureau_History_Available                                0\n",
       "PERFORM_CNS.SCORE.DESCRIPTION_Not_Scored:_More_than_50_active_Accounts_found             0\n",
       "PERFORM_CNS.SCORE.DESCRIPTION_Not_Scored:_No_Activity_seen_on_the_customer_(Inactive)    0\n",
       "PERFORM_CNS.SCORE.DESCRIPTION_Not_Scored:_No_Updates_available_in_last_36_months         0\n",
       "PERFORM_CNS.SCORE.DESCRIPTION_Not_Scored:_Not_Enough_Info_available_on_the_customer      0\n",
       "PERFORM_CNS.SCORE.DESCRIPTION_Not_Scored:_Only_a_Guarantor                               0\n",
       "PERFORM_CNS.SCORE.DESCRIPTION_Not_Scored:_Sufficient_History_Not_Available               0\n",
       "log_disbursed_amount                                                                     0\n",
       "log_asset_cost                                                                           0\n",
       "ltv_squared                                                                              0\n",
       "log_ltv                                                                                  0\n",
       "DisbursalDate_month                                                                      0\n",
       "DisbursalDate_dayofmonth                                                                 0\n",
       "Length: 116, dtype: int64"
      ]
     },
     "execution_count": 42,
     "metadata": {},
     "output_type": "execute_result"
    }
   ],
   "source": [
    "test_df.apply(lambda x: sum(x.isnull()),axis=0)"
   ]
  },
  {
   "cell_type": "code",
   "execution_count": 43,
   "metadata": {},
   "outputs": [
    {
     "data": {
      "text/plain": [
       "((233154, 117), (112392, 116))"
      ]
     },
     "execution_count": 43,
     "metadata": {},
     "output_type": "execute_result"
    }
   ],
   "source": [
    "train_df.shape,test_df.shape"
   ]
  },
  {
   "cell_type": "code",
   "execution_count": 44,
   "metadata": {},
   "outputs": [
    {
     "data": {
      "text/plain": [
       "['index',\n",
       " 'UniqueID',\n",
       " 'disbursed_amount',\n",
       " 'asset_cost',\n",
       " 'ltv',\n",
       " 'branch_id',\n",
       " 'supplier_id',\n",
       " 'manufacturer_id',\n",
       " 'Current_pincode_ID',\n",
       " 'Date.of.Birth',\n",
       " 'DisbursalDate',\n",
       " 'State_ID',\n",
       " 'Employee_code_ID',\n",
       " 'MobileNo_Avl_Flag',\n",
       " 'Aadhar_flag',\n",
       " 'PAN_flag',\n",
       " 'VoterID_flag',\n",
       " 'Driving_flag',\n",
       " 'Passport_flag',\n",
       " 'PERFORM_CNS.SCORE',\n",
       " 'PRI.NO.OF.ACCTS',\n",
       " 'PRI.ACTIVE.ACCTS',\n",
       " 'PRI.OVERDUE.ACCTS',\n",
       " 'PRI.CURRENT.BALANCE',\n",
       " 'PRI.SANCTIONED.AMOUNT',\n",
       " 'PRI.DISBURSED.AMOUNT',\n",
       " 'SEC.NO.OF.ACCTS',\n",
       " 'SEC.ACTIVE.ACCTS',\n",
       " 'SEC.OVERDUE.ACCTS',\n",
       " 'SEC.CURRENT.BALANCE',\n",
       " 'SEC.SANCTIONED.AMOUNT',\n",
       " 'SEC.DISBURSED.AMOUNT',\n",
       " 'PRIMARY.INSTAL.AMT',\n",
       " 'SEC.INSTAL.AMT',\n",
       " 'NEW.ACCTS.IN.LAST.SIX.MONTHS',\n",
       " 'DELINQUENT.ACCTS.IN.LAST.SIX.MONTHS',\n",
       " 'AVERAGE.ACCT.AGE',\n",
       " 'CREDIT.HISTORY.LENGTH',\n",
       " 'NO.OF_INQUIRIES',\n",
       " 'loan_default',\n",
       " 'branch_id_loan_default_mean',\n",
       " 'State_ID_loan_default_mean',\n",
       " 'branch_id_loan_default_sum',\n",
       " 'State_ID_loan_default_sum',\n",
       " 'CREDIT.HISTORY.LENGTH.YEARS',\n",
       " 'CREDIT.HISTORY.LENGTH.MONTHS',\n",
       " 'CREDIT.HISTORY.LENGTH.TOTMONS',\n",
       " 'AVERAGE.ACCT.AGE.YEARS',\n",
       " 'AVERAGE.ACCT.AGE.MONTHS',\n",
       " 'AVERAGE.ACCT.AGE.TOTMONS',\n",
       " 'Date.of.Birth.YEAR',\n",
       " 'Date.of.Birth.YEAR.conv',\n",
       " 'Date.of.Birth.AGE',\n",
       " 'Current_pincode_ID_disbursed_amount_mean',\n",
       " 'Current_pincode_ID_stdev',\n",
       " 'branch_id_disbursed_amount_mean',\n",
       " 'branch_id_stdev',\n",
       " 'supplier_id_disbursed_amount_mean',\n",
       " 'supplier_id_stdev',\n",
       " 'manufacturer_id_disbursed_amount_mean',\n",
       " 'manufacturer_id_stdev',\n",
       " 'State_ID_disbursed_amount_mean',\n",
       " 'State_ID_stdev',\n",
       " 'Employee_code_ID_disbursed_amount_mean',\n",
       " 'Employee_code_ID_stdev',\n",
       " 'Current_pincode_ID_asset_cost_mean',\n",
       " 'branch_id_asset_cost_mean',\n",
       " 'supplier_id_asset_cost_mean',\n",
       " 'manufacturer_id_asset_cost_mean',\n",
       " 'State_ID_asset_cost_mean',\n",
       " 'Employee_code_ID_asset_cost_mean',\n",
       " 'Current_pincode_ID_ltv_mean',\n",
       " 'branch_id_ltv_mean',\n",
       " 'supplier_id_ltv_mean',\n",
       " 'manufacturer_id_ltv_mean',\n",
       " 'State_ID_ltv_mean',\n",
       " 'Employee_code_ID_ltv_mean',\n",
       " 'Current_pincode_ID_PERFORM_CNS.SCORE_mean',\n",
       " 'branch_id_PERFORM_CNS.SCORE_mean',\n",
       " 'supplier_id_PERFORM_CNS.SCORE_mean',\n",
       " 'manufacturer_id_PERFORM_CNS.SCORE_mean',\n",
       " 'State_ID_PERFORM_CNS.SCORE_mean',\n",
       " 'Employee_code_ID_PERFORM_CNS.SCORE_mean',\n",
       " 'Current_pincode_ID_PRIMARY.INSTAL.AMT_mean',\n",
       " 'branch_id_PRIMARY.INSTAL.AMT_mean',\n",
       " 'supplier_id_PRIMARY.INSTAL.AMT_mean',\n",
       " 'manufacturer_id_PRIMARY.INSTAL.AMT_mean',\n",
       " 'State_ID_PRIMARY.INSTAL.AMT_mean',\n",
       " 'Employee_code_ID_PRIMARY.INSTAL.AMT_mean',\n",
       " 'Employment.Type_Salaried',\n",
       " 'Employment.Type_Self employed',\n",
       " 'PERFORM_CNS.SCORE.DESCRIPTION_A-Very_Low_Risk',\n",
       " 'PERFORM_CNS.SCORE.DESCRIPTION_B-Very_Low_Risk',\n",
       " 'PERFORM_CNS.SCORE.DESCRIPTION_C-Very_Low_Risk',\n",
       " 'PERFORM_CNS.SCORE.DESCRIPTION_D-Very_Low_Risk',\n",
       " 'PERFORM_CNS.SCORE.DESCRIPTION_E-Low_Risk',\n",
       " 'PERFORM_CNS.SCORE.DESCRIPTION_F-Low_Risk',\n",
       " 'PERFORM_CNS.SCORE.DESCRIPTION_G-Low_Risk',\n",
       " 'PERFORM_CNS.SCORE.DESCRIPTION_H-Medium_Risk',\n",
       " 'PERFORM_CNS.SCORE.DESCRIPTION_I-Medium_Risk',\n",
       " 'PERFORM_CNS.SCORE.DESCRIPTION_J-High_Risk',\n",
       " 'PERFORM_CNS.SCORE.DESCRIPTION_K-High_Risk',\n",
       " 'PERFORM_CNS.SCORE.DESCRIPTION_L-Very_High_Risk',\n",
       " 'PERFORM_CNS.SCORE.DESCRIPTION_M-Very_High_Risk',\n",
       " 'PERFORM_CNS.SCORE.DESCRIPTION_No_Bureau_History_Available',\n",
       " 'PERFORM_CNS.SCORE.DESCRIPTION_Not_Scored:_More_than_50_active_Accounts_found',\n",
       " 'PERFORM_CNS.SCORE.DESCRIPTION_Not_Scored:_No_Activity_seen_on_the_customer_(Inactive)',\n",
       " 'PERFORM_CNS.SCORE.DESCRIPTION_Not_Scored:_No_Updates_available_in_last_36_months',\n",
       " 'PERFORM_CNS.SCORE.DESCRIPTION_Not_Scored:_Not_Enough_Info_available_on_the_customer',\n",
       " 'PERFORM_CNS.SCORE.DESCRIPTION_Not_Scored:_Only_a_Guarantor',\n",
       " 'PERFORM_CNS.SCORE.DESCRIPTION_Not_Scored:_Sufficient_History_Not_Available',\n",
       " 'log_disbursed_amount',\n",
       " 'log_asset_cost',\n",
       " 'ltv_squared',\n",
       " 'log_ltv',\n",
       " 'DisbursalDate_month',\n",
       " 'DisbursalDate_dayofmonth']"
      ]
     },
     "execution_count": 44,
     "metadata": {},
     "output_type": "execute_result"
    }
   ],
   "source": [
    "list(train_df.columns)"
   ]
  },
  {
   "cell_type": "code",
   "execution_count": 45,
   "metadata": {},
   "outputs": [],
   "source": [
    "# predictors = [\n",
    "#  'disbursed_amount',\n",
    "#  'asset_cost',\n",
    "#  'ltv',\n",
    "#  'branch_id',\n",
    "#  'supplier_id',\n",
    "#  'manufacturer_id',\n",
    "#  'Current_pincode_ID',\n",
    "#  'State_ID',\n",
    "#  'Employee_code_ID',\n",
    "#  'MobileNo_Avl_Flag',\n",
    "#  'Aadhar_flag',\n",
    "#  'PAN_flag',\n",
    "#  'VoterID_flag',\n",
    "#  'Driving_flag',\n",
    "#  'Passport_flag',\n",
    "#  'PERFORM_CNS.SCORE',\n",
    "#  'PRI.NO.OF.ACCTS',\n",
    "#  'PRI.ACTIVE.ACCTS',\n",
    "#  'PRI.OVERDUE.ACCTS',\n",
    "#  'PRI.CURRENT.BALANCE',\n",
    "#  'PRI.SANCTIONED.AMOUNT',\n",
    "#  'PRI.DISBURSED.AMOUNT',\n",
    "#  'SEC.NO.OF.ACCTS',\n",
    "#  'SEC.ACTIVE.ACCTS',\n",
    "#  'SEC.OVERDUE.ACCTS',\n",
    "#  'SEC.CURRENT.BALANCE',\n",
    "#  'SEC.SANCTIONED.AMOUNT',\n",
    "#  'SEC.DISBURSED.AMOUNT',\n",
    "#  'PRIMARY.INSTAL.AMT',\n",
    "#  'SEC.INSTAL.AMT',\n",
    "#  'NEW.ACCTS.IN.LAST.SIX.MONTHS',\n",
    "#  'DELINQUENT.ACCTS.IN.LAST.SIX.MONTHS',\n",
    "#  'NO.OF_INQUIRIES',\n",
    "#  'branch_id_loan_default_mean',\n",
    "#  'State_ID_loan_default_mean',\n",
    "#  'branch_id_loan_default_sum',\n",
    "#  'State_ID_loan_default_sum',\n",
    "#  'CREDIT.HISTORY.LENGTH.YEARS',\n",
    "#  'CREDIT.HISTORY.LENGTH.MONTHS',\n",
    "#  'CREDIT.HISTORY.LENGTH.TOTMONS',\n",
    "#  'AVERAGE.ACCT.AGE.YEARS',\n",
    "#  'AVERAGE.ACCT.AGE.MONTHS',\n",
    "#  'AVERAGE.ACCT.AGE.TOTMONS',\n",
    "#  'Date.of.Birth.YEAR',\n",
    "#  'Date.of.Birth.YEAR.conv',\n",
    "#  'Date.of.Birth.AGE',\n",
    "#  'Current_pincode_ID_disbursed_amount_mean',\n",
    "#  'Current_pincode_ID_stdev',\n",
    "#  'branch_id_disbursed_amount_mean',\n",
    "#  'branch_id_stdev',\n",
    "#  'supplier_id_disbursed_amount_mean',\n",
    "#  'supplier_id_stdev',\n",
    "#  'manufacturer_id_disbursed_amount_mean',\n",
    "#  'manufacturer_id_stdev',\n",
    "#  'State_ID_disbursed_amount_mean',\n",
    "#  'State_ID_stdev',\n",
    "#  'Employee_code_ID_disbursed_amount_mean',\n",
    "#  'Employee_code_ID_stdev',\n",
    "#  'Current_pincode_ID_asset_cost_mean',\n",
    "#  'branch_id_asset_cost_mean',\n",
    "#  'supplier_id_asset_cost_mean',\n",
    "#  'manufacturer_id_asset_cost_mean',\n",
    "#  'State_ID_asset_cost_mean',\n",
    "#  'Employee_code_ID_asset_cost_mean',\n",
    "#  'Current_pincode_ID_ltv_mean',\n",
    "#  'branch_id_ltv_mean',\n",
    "#  'supplier_id_ltv_mean',\n",
    "#  'manufacturer_id_ltv_mean',\n",
    "#  'State_ID_ltv_mean',\n",
    "#  'Employee_code_ID_ltv_mean',\n",
    "#  'Current_pincode_ID_PERFORM_CNS.SCORE_mean',\n",
    "#  'branch_id_PERFORM_CNS.SCORE_mean',\n",
    "#  'supplier_id_PERFORM_CNS.SCORE_mean',\n",
    "#  'manufacturer_id_PERFORM_CNS.SCORE_mean',\n",
    "#  'State_ID_PERFORM_CNS.SCORE_mean',\n",
    "#  'Employee_code_ID_PERFORM_CNS.SCORE_mean',\n",
    "#  'Current_pincode_ID_PRIMARY.INSTAL.AMT_mean',\n",
    "#  'branch_id_PRIMARY.INSTAL.AMT_mean',\n",
    "#  'supplier_id_PRIMARY.INSTAL.AMT_mean',\n",
    "#  'manufacturer_id_PRIMARY.INSTAL.AMT_mean',\n",
    "#  'State_ID_PRIMARY.INSTAL.AMT_mean',\n",
    "#  'Employee_code_ID_PRIMARY.INSTAL.AMT_mean',\n",
    "#  'Current_pincode_ID_PRI.NO.OF.ACCTS_mean',\n",
    "#  'branch_id_PRI.NO.OF.ACCTS_mean',\n",
    "#  'supplier_id_PRI.NO.OF.ACCTS_mean',\n",
    "#  'manufacturer_id_PRI.NO.OF.ACCTS_mean',\n",
    "#  'State_ID_PRI.NO.OF.ACCTS_mean',\n",
    "#  'Employee_code_ID_PRI.NO.OF.ACCTS_mean',\n",
    "#  'Current_pincode_ID_PRI.ACTIVE.ACCTS_mean',\n",
    "#  'branch_id_PRI.ACTIVE.ACCTS_mean',\n",
    "#  'supplier_id_PRI.ACTIVE.ACCTS_mean',\n",
    "#  'manufacturer_id_PRI.ACTIVE.ACCTS_mean',\n",
    "#  'State_ID_PRI.ACTIVE.ACCTS_mean',\n",
    "#  'Employee_code_ID_PRI.ACTIVE.ACCTS_mean',\n",
    "#  'Current_pincode_ID_PRI.OVERDUE.ACCTS_mean',\n",
    "#  'branch_id_PRI.OVERDUE.ACCTS_mean',\n",
    "#  'supplier_id_PRI.OVERDUE.ACCTS_mean',\n",
    "#  'manufacturer_id_PRI.OVERDUE.ACCTS_mean',\n",
    "#  'State_ID_PRI.OVERDUE.ACCTS_mean',\n",
    "#  'Employee_code_ID_PRI.OVERDUE.ACCTS_mean',\n",
    "#  'Current_pincode_ID_PRI.CURRENT.BALANCE_mean',\n",
    "#  'branch_id_PRI.CURRENT.BALANCE_mean',\n",
    "#  'supplier_id_PRI.CURRENT.BALANCE_mean',\n",
    "#  'manufacturer_id_PRI.CURRENT.BALANCE_mean',\n",
    "#  'State_ID_PRI.CURRENT.BALANCE_mean',\n",
    "#  'Employee_code_ID_PRI.CURRENT.BALANCE_mean',\n",
    "#  'Current_pincode_ID_PRI.SANCTIONED.AMOUNT_mean',\n",
    "#  'branch_id_PRI.SANCTIONED.AMOUNT_mean',\n",
    "#  'supplier_id_PRI.SANCTIONED.AMOUNT_mean',\n",
    "#  'manufacturer_id_PRI.SANCTIONED.AMOUNT_mean',\n",
    "#  'State_ID_PRI.SANCTIONED.AMOUNT_mean',\n",
    "#  'Employee_code_ID_PRI.SANCTIONED.AMOUNT_mean',\n",
    "#  'Current_pincode_ID_PRI.DISBURSED.AMOUNT_mean',\n",
    "#  'branch_id_PRI.DISBURSED.AMOUNT_mean',\n",
    "#  'supplier_id_PRI.DISBURSED.AMOUNT_mean',\n",
    "#  'manufacturer_id_PRI.DISBURSED.AMOUNT_mean',\n",
    "#  'State_ID_PRI.DISBURSED.AMOUNT_mean',\n",
    "#  'Employee_code_ID_PRI.DISBURSED.AMOUNT_mean',\n",
    "#  'Current_pincode_ID_SEC.NO.OF.ACCTS_mean',\n",
    "#  'branch_id_SEC.NO.OF.ACCTS_mean',\n",
    "#  'supplier_id_SEC.NO.OF.ACCTS_mean',\n",
    "#  'manufacturer_id_SEC.NO.OF.ACCTS_mean',\n",
    "#  'State_ID_SEC.NO.OF.ACCTS_mean',\n",
    "#  'Employee_code_ID_SEC.NO.OF.ACCTS_mean',\n",
    "#  'Current_pincode_ID_SEC.ACTIVE.ACCTS_mean',\n",
    "#  'branch_id_SEC.ACTIVE.ACCTS_mean',\n",
    "#  'supplier_id_SEC.ACTIVE.ACCTS_mean',\n",
    "#  'manufacturer_id_SEC.ACTIVE.ACCTS_mean',\n",
    "#  'State_ID_SEC.ACTIVE.ACCTS_mean',\n",
    "#  'Employee_code_ID_SEC.ACTIVE.ACCTS_mean',\n",
    "#  'Current_pincode_ID_SEC.OVERDUE.ACCTS_mean',\n",
    "#  'branch_id_SEC.OVERDUE.ACCTS_mean',\n",
    "#  'supplier_id_SEC.OVERDUE.ACCTS_mean',\n",
    "#  'manufacturer_id_SEC.OVERDUE.ACCTS_mean',\n",
    "#  'State_ID_SEC.OVERDUE.ACCTS_mean',\n",
    "#  'Employee_code_ID_SEC.OVERDUE.ACCTS_mean',\n",
    "#  'Current_pincode_ID_SEC.CURRENT.BALANCE_mean',\n",
    "#  'branch_id_SEC.CURRENT.BALANCE_mean',\n",
    "#  'supplier_id_SEC.CURRENT.BALANCE_mean',\n",
    "#  'manufacturer_id_SEC.CURRENT.BALANCE_mean',\n",
    "#  'State_ID_SEC.CURRENT.BALANCE_mean',\n",
    "#  'Employee_code_ID_SEC.CURRENT.BALANCE_mean',\n",
    "#  'Current_pincode_ID_SEC.SANCTIONED.AMOUNT_mean',\n",
    "#  'branch_id_SEC.SANCTIONED.AMOUNT_mean',\n",
    "#  'supplier_id_SEC.SANCTIONED.AMOUNT_mean',\n",
    "#  'manufacturer_id_SEC.SANCTIONED.AMOUNT_mean',\n",
    "#  'State_ID_SEC.SANCTIONED.AMOUNT_mean',\n",
    "#  'Employee_code_ID_SEC.SANCTIONED.AMOUNT_mean',\n",
    "#  'Current_pincode_ID_SEC.DISBURSED.AMOUNT_mean',\n",
    "#  'branch_id_SEC.DISBURSED.AMOUNT_mean',\n",
    "#  'supplier_id_SEC.DISBURSED.AMOUNT_mean',\n",
    "#  'manufacturer_id_SEC.DISBURSED.AMOUNT_mean',\n",
    "#  'State_ID_SEC.DISBURSED.AMOUNT_mean',\n",
    "#  'Employee_code_ID_SEC.DISBURSED.AMOUNT_mean',\n",
    "#  'Current_pincode_ID_SEC.INSTAL.AMT_mean',\n",
    "#  'branch_id_SEC.INSTAL.AMT_mean',\n",
    "#  'supplier_id_SEC.INSTAL.AMT_mean',\n",
    "#  'manufacturer_id_SEC.INSTAL.AMT_mean',\n",
    "#  'State_ID_SEC.INSTAL.AMT_mean',\n",
    "#  'Employee_code_ID_SEC.INSTAL.AMT_mean',\n",
    "#  'Current_pincode_ID_NEW.ACCTS.IN.LAST.SIX.MONTHS_mean',\n",
    "#  'branch_id_NEW.ACCTS.IN.LAST.SIX.MONTHS_mean',\n",
    "#  'supplier_id_NEW.ACCTS.IN.LAST.SIX.MONTHS_mean',\n",
    "#  'manufacturer_id_NEW.ACCTS.IN.LAST.SIX.MONTHS_mean',\n",
    "#  'State_ID_NEW.ACCTS.IN.LAST.SIX.MONTHS_mean',\n",
    "#  'Employee_code_ID_NEW.ACCTS.IN.LAST.SIX.MONTHS_mean',\n",
    "#  'Current_pincode_ID_DELINQUENT.ACCTS.IN.LAST.SIX.MONTHS_mean',\n",
    "#  'branch_id_DELINQUENT.ACCTS.IN.LAST.SIX.MONTHS_mean',\n",
    "#  'supplier_id_DELINQUENT.ACCTS.IN.LAST.SIX.MONTHS_mean',\n",
    "#  'manufacturer_id_DELINQUENT.ACCTS.IN.LAST.SIX.MONTHS_mean',\n",
    "#  'State_ID_DELINQUENT.ACCTS.IN.LAST.SIX.MONTHS_mean',\n",
    "#  'Employee_code_ID_DELINQUENT.ACCTS.IN.LAST.SIX.MONTHS_mean',\n",
    "#  'Employment.Type_Salaried',\n",
    "#  'Employment.Type_Self employed',\n",
    "#  'PERFORM_CNS.SCORE.DESCRIPTION_A-Very_Low_Risk',\n",
    "#  'PERFORM_CNS.SCORE.DESCRIPTION_B-Very_Low_Risk',\n",
    "#  'PERFORM_CNS.SCORE.DESCRIPTION_C-Very_Low_Risk',\n",
    "#  'PERFORM_CNS.SCORE.DESCRIPTION_D-Very_Low_Risk',\n",
    "#  'PERFORM_CNS.SCORE.DESCRIPTION_E-Low_Risk',\n",
    "#  'PERFORM_CNS.SCORE.DESCRIPTION_F-Low_Risk',\n",
    "#  'PERFORM_CNS.SCORE.DESCRIPTION_G-Low_Risk',\n",
    "#  'PERFORM_CNS.SCORE.DESCRIPTION_H-Medium_Risk',\n",
    "#  'PERFORM_CNS.SCORE.DESCRIPTION_I-Medium_Risk',\n",
    "#  'PERFORM_CNS.SCORE.DESCRIPTION_J-High_Risk',\n",
    "#  'PERFORM_CNS.SCORE.DESCRIPTION_K-High_Risk',\n",
    "#  'PERFORM_CNS.SCORE.DESCRIPTION_L-Very_High_Risk',\n",
    "#  'PERFORM_CNS.SCORE.DESCRIPTION_M-Very_High_Risk',\n",
    "#  'PERFORM_CNS.SCORE.DESCRIPTION_No_Bureau_History_Available',\n",
    "#  'PERFORM_CNS.SCORE.DESCRIPTION_Not_Scored:_More_than_50_active_Accounts_found',\n",
    "#  'PERFORM_CNS.SCORE.DESCRIPTION_Not_Scored:_No_Activity_seen_on_the_customer_(Inactive)',\n",
    "#  'PERFORM_CNS.SCORE.DESCRIPTION_Not_Scored:_No_Updates_available_in_last_36_months',\n",
    "#  'PERFORM_CNS.SCORE.DESCRIPTION_Not_Scored:_Not_Enough_Info_available_on_the_customer',\n",
    "#  'PERFORM_CNS.SCORE.DESCRIPTION_Not_Scored:_Only_a_Guarantor',\n",
    "#  'PERFORM_CNS.SCORE.DESCRIPTION_Not_Scored:_Sufficient_History_Not_Available',\n",
    "#  'log_disbursed_amount',\n",
    "#  'log_asset_cost',\n",
    "#  'ltv_squared',\n",
    "#  'DisbursalDate_month',\n",
    "#  'DisbursalDate_dayofmonth'\n",
    "#              ]"
   ]
  },
  {
   "cell_type": "code",
   "execution_count": 46,
   "metadata": {},
   "outputs": [],
   "source": [
    "\n",
    "##Single best model predictors\n",
    "\n",
    "\n",
    "\n",
    "predictors = ['disbursed_amount', 'asset_cost', 'ltv',\n",
    "       'branch_id', 'supplier_id', 'manufacturer_id', 'Current_pincode_ID',\n",
    "       'State_ID', 'Employee_code_ID',\n",
    "       'MobileNo_Avl_Flag', 'Aadhar_flag', 'PAN_flag', 'VoterID_flag',\n",
    "       'Driving_flag', 'Passport_flag', 'PERFORM_CNS.SCORE', 'PRI.NO.OF.ACCTS',\n",
    "       'PRI.ACTIVE.ACCTS', 'PRI.OVERDUE.ACCTS', 'PRI.CURRENT.BALANCE',\n",
    "       'PRI.SANCTIONED.AMOUNT', 'PRI.DISBURSED.AMOUNT', 'SEC.NO.OF.ACCTS',\n",
    "       'SEC.ACTIVE.ACCTS', 'SEC.OVERDUE.ACCTS', 'SEC.CURRENT.BALANCE',\n",
    "       'SEC.SANCTIONED.AMOUNT', 'SEC.DISBURSED.AMOUNT', 'PRIMARY.INSTAL.AMT',\n",
    "       'SEC.INSTAL.AMT', 'NEW.ACCTS.IN.LAST.SIX.MONTHS',\n",
    "       'DELINQUENT.ACCTS.IN.LAST.SIX.MONTHS', 'NO.OF_INQUIRIES',\n",
    "       'CREDIT.HISTORY.LENGTH.YEARS', 'CREDIT.HISTORY.LENGTH.MONTHS',\n",
    "       'CREDIT.HISTORY.LENGTH.TOTMONS', 'AVERAGE.ACCT.AGE.YEARS',\n",
    "       'AVERAGE.ACCT.AGE.MONTHS', 'AVERAGE.ACCT.AGE.TOTMONS',\n",
    "       'Date.of.Birth.YEAR', 'Date.of.Birth.YEAR.conv', 'Date.of.Birth.AGE',\n",
    "       'Employment.Type_Salaried', 'Employment.Type_Self employed',\n",
    "       'PERFORM_CNS.SCORE.DESCRIPTION_A-Very_Low_Risk',\n",
    "       'PERFORM_CNS.SCORE.DESCRIPTION_B-Very_Low_Risk',\n",
    "       'PERFORM_CNS.SCORE.DESCRIPTION_C-Very_Low_Risk',\n",
    "       'PERFORM_CNS.SCORE.DESCRIPTION_D-Very_Low_Risk',\n",
    "       'PERFORM_CNS.SCORE.DESCRIPTION_E-Low_Risk',\n",
    "       'PERFORM_CNS.SCORE.DESCRIPTION_F-Low_Risk',\n",
    "       'PERFORM_CNS.SCORE.DESCRIPTION_G-Low_Risk',\n",
    "       'PERFORM_CNS.SCORE.DESCRIPTION_H-Medium_Risk',\n",
    "       'PERFORM_CNS.SCORE.DESCRIPTION_I-Medium_Risk',\n",
    "       'PERFORM_CNS.SCORE.DESCRIPTION_J-High_Risk',\n",
    "       'PERFORM_CNS.SCORE.DESCRIPTION_K-High_Risk',\n",
    "       'PERFORM_CNS.SCORE.DESCRIPTION_L-Very_High_Risk',\n",
    "       'PERFORM_CNS.SCORE.DESCRIPTION_M-Very_High_Risk',\n",
    "       'PERFORM_CNS.SCORE.DESCRIPTION_No_Bureau_History_Available',\n",
    "       'PERFORM_CNS.SCORE.DESCRIPTION_Not_Scored:_More_than_50_active_Accounts_found',\n",
    "       'PERFORM_CNS.SCORE.DESCRIPTION_Not_Scored:_No_Activity_seen_on_the_customer_(Inactive)',\n",
    "       'PERFORM_CNS.SCORE.DESCRIPTION_Not_Scored:_No_Updates_available_in_last_36_months',\n",
    "       'PERFORM_CNS.SCORE.DESCRIPTION_Not_Scored:_Not_Enough_Info_available_on_the_customer',\n",
    "       'PERFORM_CNS.SCORE.DESCRIPTION_Not_Scored:_Only_a_Guarantor',\n",
    "       'PERFORM_CNS.SCORE.DESCRIPTION_Not_Scored:_Sufficient_History_Not_Available',\n",
    "       'log_disbursed_amount', 'log_asset_cost', 'DisbursalDate_month',\n",
    "       'DisbursalDate_dayofmonth','Current_pincode_ID_disbursed_amount_mean',\n",
    " 'Current_pincode_ID_stdev',\n",
    " 'branch_id_disbursed_amount_mean',\n",
    " 'branch_id_stdev',\n",
    " 'supplier_id_disbursed_amount_mean',\n",
    " 'supplier_id_stdev',\n",
    " 'manufacturer_id_disbursed_amount_mean',\n",
    " 'manufacturer_id_stdev',\n",
    " 'State_ID_disbursed_amount_mean',\n",
    " 'State_ID_stdev',\n",
    " 'Employee_code_ID_disbursed_amount_mean',\n",
    " 'Employee_code_ID_stdev',\n",
    " 'Current_pincode_ID_asset_cost_mean',\n",
    " 'branch_id_asset_cost_mean',\n",
    " 'supplier_id_asset_cost_mean',\n",
    " 'manufacturer_id_asset_cost_mean',\n",
    " 'State_ID_asset_cost_mean',\n",
    " 'Employee_code_ID_asset_cost_mean',\n",
    " 'Current_pincode_ID_ltv_mean',\n",
    " 'branch_id_ltv_mean',\n",
    " 'supplier_id_ltv_mean',\n",
    " 'manufacturer_id_ltv_mean',\n",
    " 'State_ID_ltv_mean',\n",
    " 'Employee_code_ID_ltv_mean',\n",
    " 'Current_pincode_ID_PERFORM_CNS.SCORE_mean',\n",
    " 'branch_id_PERFORM_CNS.SCORE_mean',\n",
    " 'supplier_id_PERFORM_CNS.SCORE_mean',\n",
    " 'manufacturer_id_PERFORM_CNS.SCORE_mean',\n",
    " 'State_ID_PERFORM_CNS.SCORE_mean',\n",
    " 'Employee_code_ID_PERFORM_CNS.SCORE_mean',\n",
    " 'Current_pincode_ID_PRIMARY.INSTAL.AMT_mean',\n",
    " 'branch_id_PRIMARY.INSTAL.AMT_mean',\n",
    " 'supplier_id_PRIMARY.INSTAL.AMT_mean',\n",
    " 'manufacturer_id_PRIMARY.INSTAL.AMT_mean',\n",
    " 'State_ID_PRIMARY.INSTAL.AMT_mean',\n",
    " 'Employee_code_ID_PRIMARY.INSTAL.AMT_mean','branch_id_loan_default_mean',\n",
    "       'State_ID_loan_default_mean', 'branch_id_loan_default_sum',\n",
    "       'State_ID_loan_default_sum','ltv_squared','log_ltv']\n",
    "\n",
    "\n",
    "outcome = ['loan_default']"
   ]
  },
  {
   "cell_type": "code",
   "execution_count": 47,
   "metadata": {},
   "outputs": [],
   "source": [
    "from sklearn.model_selection import train_test_split\n",
    "\n",
    "X_train, X_validation, y_train, y_validation = train_test_split(train_df[predictors], train_df[outcome], test_size=0.3, random_state=1234)"
   ]
  },
  {
   "cell_type": "code",
   "execution_count": 48,
   "metadata": {},
   "outputs": [
    {
     "data": {
      "text/plain": [
       "((163207, 110), (69947, 110))"
      ]
     },
     "execution_count": 48,
     "metadata": {},
     "output_type": "execute_result"
    }
   ],
   "source": [
    "X_train.shape,X_validation.shape"
   ]
  },
  {
   "cell_type": "code",
   "execution_count": null,
   "metadata": {},
   "outputs": [],
   "source": []
  },
  {
   "cell_type": "code",
   "execution_count": 49,
   "metadata": {},
   "outputs": [],
   "source": [
    "import xgboost as xgb\n",
    "from xgboost.sklearn import XGBClassifier\n",
    "from sklearn.model_selection import cross_validate\n",
    "from sklearn import metrics \n",
    "from sklearn.model_selection import GridSearchCV   #Perforing grid search\n",
    "from sklearn.model_selection import cross_validate\n",
    "from sklearn.model_selection import KFold"
   ]
  },
  {
   "cell_type": "code",
   "execution_count": 50,
   "metadata": {},
   "outputs": [],
   "source": [
    "\n",
    "alg = XGBClassifier()"
   ]
  },
  {
   "cell_type": "code",
   "execution_count": null,
   "metadata": {},
   "outputs": [],
   "source": [
    "#kf = loo.split(X_train_std[predictor_var])\n",
    "kf = KFold(n_splits=10).split(X_train[['State_ID','branch_id']])\n",
    "# ['branch_id', 'supplier_id', 'manufacturer_id', 'Current_pincode_ID','State_ID', 'Employee_code_ID']\n",
    "error = []\n",
    "# yavg = pd.DataFrame()\n",
    "\n",
    "for train, test in kf:\n",
    "    # Filter training data\n",
    "    print(\"training stared\")\n",
    "    train_predictors = X_train[predictors].iloc[train,:]\n",
    "\n",
    "    # The target we're using to train the algorithm.\n",
    "    train_target = y_train.iloc[train].values\n",
    "\n",
    "    # Training the algorithm using the predictors and target.\n",
    "    alg.fit(train_predictors, train_target)\n",
    "    y1 = alg.predict(X_train[predictors].iloc[test,:])\n",
    "#     yavg = yavg.append(pd.Series(y1),ignore_index=True)\n",
    "\n",
    "    #Record error from each cross-validation run\n",
    "    error.append(metrics.roc_auc_score(y_train.iloc[test], y1))\n",
    "    print('score for current fold',metrics.roc_auc_score(y_train.iloc[test], y1))\n",
    "    print(\"training finished\")\n",
    "print (\"Cross-Validation AUC Score : %f\" % np.mean(error))\n"
   ]
  },
  {
   "cell_type": "code",
   "execution_count": null,
   "metadata": {},
   "outputs": [],
   "source": []
  },
  {
   "cell_type": "code",
   "execution_count": 50,
   "metadata": {},
   "outputs": [],
   "source": [
    "def modelfit(alg, dtrain,ytrain,dtest,ytest,test,sub_df, predictors,outcome_var,useTrainCV=True, cv_folds=5, early_stopping_rounds=50):\n",
    "    \n",
    "    if useTrainCV:\n",
    "        xgb_param = alg.get_xgb_params()\n",
    "        xgtrain = xgb.DMatrix(dtrain[predictors].values, label=ytrain.values)\n",
    "        cvresult = xgb.cv(xgb_param, xgtrain, num_boost_round=alg.get_params()['n_estimators'], nfold=cv_folds,\n",
    "            metrics='auc', early_stopping_rounds=early_stopping_rounds,verbose_eval=True,\n",
    "            show_stdv=True)\n",
    "        alg.set_params(n_estimators=cvresult.shape[0])\n",
    "    \n",
    "    #Fit the algorithm on the data\n",
    "    alg.fit(dtrain[predictors], ytrain,eval_metric='auc')\n",
    "        \n",
    "    #Predict training set:\n",
    "    dtrain_predictions = alg.predict(dtest[predictors])\n",
    "    dtrain_predprob = alg.predict_proba(dtest[predictors])[:,1]\n",
    "    \n",
    "    dtrain_predprob1 = alg.predict_proba(test[predictors])[:,1]\n",
    "    sub_df['loan_default']= dtrain_predprob1\n",
    "    sub_df.to_csv('sub1.csv',index=False)    \n",
    "    #Print model report:\n",
    "    print(\"\\nModel Report\")\n",
    "    print(\"Accuracy : %.4g\" % metrics.accuracy_score(ytest.values, dtrain_predictions))\n",
    "    print(\"AUC Score (Train): %f\" % metrics.roc_auc_score(ytest, dtrain_predprob))\n",
    "                    \n",
    "    feat_imp = pd.Series(alg.get_booster().get_fscore()).sort_values(ascending=False)\n",
    "    feat_imp.plot(kind='bar', title='Feature Importances')\n",
    "    plt.ylabel('Feature Importance Score')  \n",
    "  "
   ]
  },
  {
   "cell_type": "code",
   "execution_count": 51,
   "metadata": {},
   "outputs": [],
   "source": [
    "def modelfit_mod(alg, dtrain,ytrain,dtest,ytest,test,sub_df, predictors,outcome_var,useTrainCV=True, cv_folds=5, early_stopping_rounds=50):\n",
    "    \n",
    "    if useTrainCV:\n",
    "        xgb_param = alg.get_xgb_params()\n",
    "        xgtrain = xgb.DMatrix(dtrain[predictors].values, label=ytrain.values)\n",
    "        cvresult = xgb.cv(xgb_param, xgtrain, num_boost_round=alg.get_params()['n_estimators'], nfold=cv_folds,\n",
    "            metrics='auc', early_stopping_rounds=early_stopping_rounds,verbose_eval=True,\n",
    "            show_stdv=True)\n",
    "        alg.set_params(n_estimators=cvresult.shape[0])\n",
    "    \n",
    "    #Fit the algorithm on the data\n",
    "    alg.fit(dtrain[predictors], ytrain)\n",
    "        \n",
    "    #Predict training set:\n",
    "    dtrain_predictions = alg.predict(dtest[predictors])\n",
    "    dtrain_predprob = alg.predict_proba(dtest[predictors])[:,1]\n",
    "    \n",
    "    dtrain_predprob1 = alg.predict_proba(test[predictors])[:,1]\n",
    "#     sub_df['loan_default']= dtrain_predprob1\n",
    "#     sub_df.to_csv('sub1.csv',index=False)    \n",
    "    #Print model report:\n",
    "    print(\"\\nModel Report\")\n",
    "    print(\"Accuracy : %.4g\" % metrics.accuracy_score(ytest.values, dtrain_predictions))\n",
    "    print(\"AUC Score (Train): %f\" % metrics.roc_auc_score(ytest, dtrain_predprob))\n",
    "                    \n",
    "#     feat_imp = pd.Series(alg.get_booster().get_fscore()).sort_values(ascending=False)\n",
    "#     feat_imp.plot(kind='bar', title='Feature Importances')\n",
    "#     plt.ylabel('Feature Importance Score')  \n",
    "  "
   ]
  },
  {
   "cell_type": "code",
   "execution_count": 72,
   "metadata": {},
   "outputs": [
    {
     "ename": "AttributeError",
     "evalue": "'XGBClassifier' object has no attribute 'DMatrix'",
     "output_type": "error",
     "traceback": [
      "\u001b[0;31m---------------------------------------------------------------------------\u001b[0m",
      "\u001b[0;31mAttributeError\u001b[0m                            Traceback (most recent call last)",
      "\u001b[0;32m<timed eval>\u001b[0m in \u001b[0;36m<module>\u001b[0;34m\u001b[0m\n",
      "\u001b[0;32m<ipython-input-51-cdcd369d4929>\u001b[0m in \u001b[0;36mmodelfit\u001b[0;34m(alg, dtrain, ytrain, dtest, ytest, test, sub_df, predictors, outcome_var, useTrainCV, cv_folds, early_stopping_rounds)\u001b[0m\n\u001b[1;32m      3\u001b[0m     \u001b[0;32mif\u001b[0m \u001b[0museTrainCV\u001b[0m\u001b[0;34m:\u001b[0m\u001b[0;34m\u001b[0m\u001b[0;34m\u001b[0m\u001b[0m\n\u001b[1;32m      4\u001b[0m         \u001b[0mxgb_param\u001b[0m \u001b[0;34m=\u001b[0m \u001b[0malg\u001b[0m\u001b[0;34m.\u001b[0m\u001b[0mget_xgb_params\u001b[0m\u001b[0;34m(\u001b[0m\u001b[0;34m)\u001b[0m\u001b[0;34m\u001b[0m\u001b[0;34m\u001b[0m\u001b[0m\n\u001b[0;32m----> 5\u001b[0;31m         \u001b[0mxgtrain\u001b[0m \u001b[0;34m=\u001b[0m \u001b[0mxgb\u001b[0m\u001b[0;34m.\u001b[0m\u001b[0mDMatrix\u001b[0m\u001b[0;34m(\u001b[0m\u001b[0mdtrain\u001b[0m\u001b[0;34m[\u001b[0m\u001b[0mpredictors\u001b[0m\u001b[0;34m]\u001b[0m\u001b[0;34m.\u001b[0m\u001b[0mvalues\u001b[0m\u001b[0;34m,\u001b[0m \u001b[0mlabel\u001b[0m\u001b[0;34m=\u001b[0m\u001b[0mytrain\u001b[0m\u001b[0;34m.\u001b[0m\u001b[0mvalues\u001b[0m\u001b[0;34m)\u001b[0m\u001b[0;34m\u001b[0m\u001b[0;34m\u001b[0m\u001b[0m\n\u001b[0m\u001b[1;32m      6\u001b[0m         cvresult = xgb.cv(xgb_param, xgtrain, num_boost_round=alg.get_params()['n_estimators'], nfold=cv_folds,\n\u001b[1;32m      7\u001b[0m             \u001b[0mmetrics\u001b[0m\u001b[0;34m=\u001b[0m\u001b[0;34m'auc'\u001b[0m\u001b[0;34m,\u001b[0m \u001b[0mearly_stopping_rounds\u001b[0m\u001b[0;34m=\u001b[0m\u001b[0mearly_stopping_rounds\u001b[0m\u001b[0;34m,\u001b[0m\u001b[0mverbose_eval\u001b[0m\u001b[0;34m=\u001b[0m\u001b[0;32mTrue\u001b[0m\u001b[0;34m,\u001b[0m\u001b[0;34m\u001b[0m\u001b[0;34m\u001b[0m\u001b[0m\n",
      "\u001b[0;31mAttributeError\u001b[0m: 'XGBClassifier' object has no attribute 'DMatrix'"
     ]
    }
   ],
   "source": [
    "%%time\n",
    "modelfit(XGBClassifier(), X_train,y_train,X_validation,y_validation,test_df,sub_df,predictors,outcome,useTrainCV=True, cv_folds=5, early_stopping_rounds=50)"
   ]
  },
  {
   "cell_type": "code",
   "execution_count": null,
   "metadata": {},
   "outputs": [],
   "source": [
    "from sklearn.ensemble import RandomForestClassifier\n",
    "model6 = RandomForestClassifier(n_estimators = 100, oob_score = True, n_jobs = -1,random_state =50, max_features = \"auto\", min_samples_leaf = 5)\n",
    "\n",
    "modelfit_mod(model6, X_train,y_train,X_validation,y_validation,test_df,sub_df,predictors,outcome,useTrainCV=False, cv_folds=5, early_stopping_rounds=50)"
   ]
  },
  {
   "cell_type": "code",
   "execution_count": null,
   "metadata": {},
   "outputs": [],
   "source": [
    "from sklearn.ensemble import AdaBoostClassifier\n",
    "from sklearn.tree import DecisionTreeClassifier\n",
    "\n",
    "tree = DecisionTreeClassifier(criterion='entropy',max_depth=6)\n",
    "ada = AdaBoostClassifier(base_estimator=tree, n_estimators=29, learning_rate=0.1, random_state=0)\n",
    "\n",
    "modelfit_mod(ada, X_train,y_train,X_validation,y_validation,test_df,sub_df,predictors,outcome,useTrainCV=False, cv_folds=5, early_stopping_rounds=50)"
   ]
  },
  {
   "cell_type": "code",
   "execution_count": null,
   "metadata": {},
   "outputs": [],
   "source": [
    "%%time\n",
    "\n",
    "from sklearn.ensemble import VotingClassifier\n",
    "\n",
    "model9 = VotingClassifier(estimators=[('RF', model6),('Xgb', XGBClassifier()), ('adaboost', ada)], voting='soft')\n",
    "\n",
    "modelfit_mod(model9, X_train,y_train,X_validation,y_validation,test_df,sub_df,predictors,outcome,useTrainCV=False, cv_folds=5, early_stopping_rounds=50)"
   ]
  },
  {
   "cell_type": "code",
   "execution_count": null,
   "metadata": {},
   "outputs": [],
   "source": []
  },
  {
   "cell_type": "code",
   "execution_count": null,
   "metadata": {},
   "outputs": [],
   "source": []
  },
  {
   "cell_type": "code",
   "execution_count": null,
   "metadata": {},
   "outputs": [],
   "source": []
  },
  {
   "cell_type": "code",
   "execution_count": null,
   "metadata": {},
   "outputs": [],
   "source": []
  },
  {
   "cell_type": "code",
   "execution_count": null,
   "metadata": {},
   "outputs": [],
   "source": []
  },
  {
   "cell_type": "code",
   "execution_count": null,
   "metadata": {},
   "outputs": [],
   "source": []
  },
  {
   "cell_type": "code",
   "execution_count": null,
   "metadata": {},
   "outputs": [],
   "source": []
  },
  {
   "cell_type": "code",
   "execution_count": 55,
   "metadata": {},
   "outputs": [],
   "source": [
    "model1 = XGBClassifier(\n",
    " learning_rate =0.2,\n",
    " n_estimators=500,\n",
    " max_depth=5,\n",
    " min_child_weight=1,\n",
    " gamma=0,\n",
    " subsample=0.8,\n",
    " colsample_bytree=0.8,\n",
    " objective= 'binary:logistic',\n",
    " nthread=-1,\n",
    " scale_pos_weight=1,\n",
    " seed=27)"
   ]
  },
  {
   "cell_type": "code",
   "execution_count": 56,
   "metadata": {},
   "outputs": [
    {
     "name": "stdout",
     "output_type": "stream",
     "text": [
      "[0]\ttrain-auc:0.629527+0.00182547\ttest-auc:0.621523+0.0017791\n",
      "[1]\ttrain-auc:0.641806+0.00214953\ttest-auc:0.634012+0.00154621\n",
      "[2]\ttrain-auc:0.647278+0.0023821\ttest-auc:0.63795+0.00161221\n",
      "[3]\ttrain-auc:0.651252+0.00219846\ttest-auc:0.640654+0.0018581\n",
      "[4]\ttrain-auc:0.654388+0.00183708\ttest-auc:0.643445+0.0014865\n",
      "[5]\ttrain-auc:0.657016+0.00141711\ttest-auc:0.64561+0.00144591\n",
      "[6]\ttrain-auc:0.659434+0.000736005\ttest-auc:0.647198+0.0012389\n",
      "[7]\ttrain-auc:0.661819+0.000855405\ttest-auc:0.648904+0.00140562\n",
      "[8]\ttrain-auc:0.664099+0.000617476\ttest-auc:0.650439+0.00145771\n",
      "[9]\ttrain-auc:0.665998+0.000704486\ttest-auc:0.65174+0.00130801\n",
      "[10]\ttrain-auc:0.668229+0.000539035\ttest-auc:0.65313+0.00136532\n",
      "[11]\ttrain-auc:0.670021+0.000652041\ttest-auc:0.654294+0.00146496\n",
      "[12]\ttrain-auc:0.672137+0.000889291\ttest-auc:0.655531+0.00116037\n",
      "[13]\ttrain-auc:0.674025+0.000858833\ttest-auc:0.656431+0.000828221\n",
      "[14]\ttrain-auc:0.67581+0.000901163\ttest-auc:0.657511+0.000860829\n",
      "[15]\ttrain-auc:0.67754+0.000988925\ttest-auc:0.658314+0.000763757\n",
      "[16]\ttrain-auc:0.679275+0.000942385\ttest-auc:0.659256+0.000945349\n",
      "[17]\ttrain-auc:0.680607+0.000927964\ttest-auc:0.65993+0.000971131\n",
      "[18]\ttrain-auc:0.68192+0.000954661\ttest-auc:0.660367+0.000997221\n",
      "[19]\ttrain-auc:0.683542+0.000816954\ttest-auc:0.661238+0.00118978\n",
      "[20]\ttrain-auc:0.685057+0.00088668\ttest-auc:0.661803+0.000963737\n",
      "[21]\ttrain-auc:0.686187+0.000900116\ttest-auc:0.66212+0.000881867\n",
      "[22]\ttrain-auc:0.687494+0.000952013\ttest-auc:0.66268+0.00103288\n",
      "[23]\ttrain-auc:0.688604+0.000892532\ttest-auc:0.663091+0.00123438\n",
      "[24]\ttrain-auc:0.689889+0.000815842\ttest-auc:0.663581+0.00155628\n",
      "[25]\ttrain-auc:0.691058+0.000786586\ttest-auc:0.663972+0.00160228\n",
      "[26]\ttrain-auc:0.692073+0.00074108\ttest-auc:0.664373+0.00165014\n",
      "[27]\ttrain-auc:0.693073+0.000683882\ttest-auc:0.6649+0.00172879\n",
      "[28]\ttrain-auc:0.694035+0.000699573\ttest-auc:0.664997+0.001651\n",
      "[29]\ttrain-auc:0.695041+0.000753531\ttest-auc:0.665351+0.00183663\n",
      "[30]\ttrain-auc:0.695957+0.000815138\ttest-auc:0.665661+0.00170128\n",
      "[31]\ttrain-auc:0.696895+0.00077693\ttest-auc:0.665902+0.00181216\n",
      "[32]\ttrain-auc:0.697856+0.000643297\ttest-auc:0.666034+0.00188435\n",
      "[33]\ttrain-auc:0.698682+0.000706725\ttest-auc:0.666145+0.00188556\n",
      "[34]\ttrain-auc:0.699466+0.000849444\ttest-auc:0.666383+0.00196774\n",
      "[35]\ttrain-auc:0.700339+0.000963212\ttest-auc:0.666507+0.00191549\n",
      "[36]\ttrain-auc:0.70131+0.00094717\ttest-auc:0.666604+0.00172739\n",
      "[37]\ttrain-auc:0.702058+0.000974623\ttest-auc:0.666748+0.00178235\n",
      "[38]\ttrain-auc:0.702908+0.000792584\ttest-auc:0.666962+0.00188792\n",
      "[39]\ttrain-auc:0.703685+0.000888993\ttest-auc:0.667129+0.00200743\n",
      "[40]\ttrain-auc:0.704393+0.00090058\ttest-auc:0.667192+0.00206054\n",
      "[41]\ttrain-auc:0.705241+0.000923914\ttest-auc:0.667246+0.00210126\n",
      "[42]\ttrain-auc:0.705943+0.000890605\ttest-auc:0.667447+0.00208145\n",
      "[43]\ttrain-auc:0.706739+0.000837615\ttest-auc:0.667547+0.00212976\n",
      "[44]\ttrain-auc:0.70749+0.000826179\ttest-auc:0.667725+0.00211858\n",
      "[45]\ttrain-auc:0.708265+0.000747298\ttest-auc:0.66786+0.00221629\n",
      "[46]\ttrain-auc:0.708991+0.000680383\ttest-auc:0.667879+0.00220235\n",
      "[47]\ttrain-auc:0.709592+0.000760293\ttest-auc:0.667843+0.00222159\n",
      "[48]\ttrain-auc:0.710238+0.000753465\ttest-auc:0.667972+0.00217548\n",
      "[49]\ttrain-auc:0.710883+0.000772179\ttest-auc:0.668037+0.00224595\n",
      "[50]\ttrain-auc:0.711523+0.000796837\ttest-auc:0.668144+0.00220018\n",
      "[51]\ttrain-auc:0.712166+0.000980093\ttest-auc:0.668303+0.00215228\n",
      "[52]\ttrain-auc:0.712735+0.000860084\ttest-auc:0.668405+0.00211892\n",
      "[53]\ttrain-auc:0.713356+0.000697198\ttest-auc:0.668465+0.0022166\n",
      "[54]\ttrain-auc:0.713912+0.000781474\ttest-auc:0.66865+0.0022451\n",
      "[55]\ttrain-auc:0.714585+0.00082424\ttest-auc:0.668723+0.00225383\n",
      "[56]\ttrain-auc:0.715147+0.000682122\ttest-auc:0.668744+0.00238101\n",
      "[57]\ttrain-auc:0.715726+0.000511081\ttest-auc:0.668709+0.00237842\n",
      "[58]\ttrain-auc:0.716271+0.000396992\ttest-auc:0.668683+0.00225729\n",
      "[59]\ttrain-auc:0.716826+0.000491193\ttest-auc:0.668725+0.00222089\n",
      "[60]\ttrain-auc:0.717393+0.000521685\ttest-auc:0.668839+0.00229353\n",
      "[61]\ttrain-auc:0.717769+0.000546585\ttest-auc:0.668909+0.00233077\n",
      "[62]\ttrain-auc:0.718414+0.000465169\ttest-auc:0.669033+0.0023008\n",
      "[63]\ttrain-auc:0.719036+0.000520481\ttest-auc:0.668984+0.00235135\n",
      "[64]\ttrain-auc:0.719509+0.000478576\ttest-auc:0.668977+0.00229052\n",
      "[65]\ttrain-auc:0.72018+0.00035387\ttest-auc:0.669021+0.00220458\n",
      "[66]\ttrain-auc:0.720764+0.000363191\ttest-auc:0.669179+0.0022078\n",
      "[67]\ttrain-auc:0.72148+0.00030404\ttest-auc:0.669195+0.0021675\n",
      "[68]\ttrain-auc:0.722085+0.000323133\ttest-auc:0.669201+0.00219905\n",
      "[69]\ttrain-auc:0.722653+0.000425975\ttest-auc:0.669269+0.0021739\n",
      "[70]\ttrain-auc:0.723255+0.000383461\ttest-auc:0.669155+0.00219949\n",
      "[71]\ttrain-auc:0.723812+0.000466099\ttest-auc:0.669151+0.00216453\n",
      "[72]\ttrain-auc:0.724365+0.000478457\ttest-auc:0.66914+0.0021543\n",
      "[73]\ttrain-auc:0.724707+0.000476197\ttest-auc:0.669168+0.00222421\n",
      "[74]\ttrain-auc:0.72523+0.000457356\ttest-auc:0.669076+0.0021688\n",
      "[75]\ttrain-auc:0.725862+0.00037358\ttest-auc:0.669101+0.00219195\n",
      "[76]\ttrain-auc:0.726504+0.000296633\ttest-auc:0.669206+0.00213772\n",
      "[77]\ttrain-auc:0.726981+0.000337644\ttest-auc:0.669204+0.00213432\n",
      "[78]\ttrain-auc:0.727497+0.00040706\ttest-auc:0.669251+0.00215724\n",
      "[79]\ttrain-auc:0.728031+0.000330202\ttest-auc:0.6692+0.00214148\n",
      "[80]\ttrain-auc:0.728395+0.000422053\ttest-auc:0.669125+0.00201878\n",
      "[81]\ttrain-auc:0.728915+0.000471332\ttest-auc:0.669096+0.00200534\n",
      "[82]\ttrain-auc:0.729461+0.00053523\ttest-auc:0.669051+0.0020546\n",
      "[83]\ttrain-auc:0.729892+0.000598732\ttest-auc:0.668981+0.00210795\n",
      "[84]\ttrain-auc:0.730419+0.000764011\ttest-auc:0.669057+0.00212481\n",
      "[85]\ttrain-auc:0.731041+0.000814822\ttest-auc:0.669022+0.00212673\n",
      "[86]\ttrain-auc:0.731604+0.000820659\ttest-auc:0.669056+0.00218603\n",
      "[87]\ttrain-auc:0.732128+0.000777271\ttest-auc:0.669115+0.00230938\n",
      "[88]\ttrain-auc:0.732585+0.000833576\ttest-auc:0.669063+0.00237544\n",
      "[89]\ttrain-auc:0.733039+0.000941926\ttest-auc:0.669051+0.00239557\n",
      "[90]\ttrain-auc:0.733513+0.000996059\ttest-auc:0.669107+0.00233192\n",
      "[91]\ttrain-auc:0.734081+0.00105592\ttest-auc:0.669115+0.00236559\n",
      "[92]\ttrain-auc:0.734539+0.00112963\ttest-auc:0.669097+0.00243741\n",
      "[93]\ttrain-auc:0.73514+0.00102536\ttest-auc:0.669156+0.00231398\n",
      "[94]\ttrain-auc:0.735668+0.000912166\ttest-auc:0.669189+0.00238236\n",
      "[95]\ttrain-auc:0.736187+0.000854596\ttest-auc:0.669148+0.00238957\n",
      "[96]\ttrain-auc:0.736642+0.000917906\ttest-auc:0.669071+0.00246713\n",
      "[97]\ttrain-auc:0.736942+0.000939674\ttest-auc:0.669039+0.00235756\n",
      "[98]\ttrain-auc:0.737452+0.000944071\ttest-auc:0.668988+0.00243411\n",
      "[99]\ttrain-auc:0.737941+0.000911092\ttest-auc:0.668922+0.00252286\n",
      "[100]\ttrain-auc:0.738395+0.000841707\ttest-auc:0.668982+0.00247223\n",
      "[101]\ttrain-auc:0.738793+0.000777947\ttest-auc:0.668958+0.00245877\n",
      "[102]\ttrain-auc:0.739266+0.000864409\ttest-auc:0.668842+0.00238873\n",
      "[103]\ttrain-auc:0.73971+0.000971586\ttest-auc:0.668741+0.00247454\n",
      "[104]\ttrain-auc:0.740164+0.00103402\ttest-auc:0.668767+0.00248223\n",
      "[105]\ttrain-auc:0.740622+0.000975438\ttest-auc:0.668726+0.00257853\n",
      "[106]\ttrain-auc:0.741013+0.000908853\ttest-auc:0.668679+0.00256904\n",
      "[107]\ttrain-auc:0.741433+0.000896972\ttest-auc:0.668671+0.00251499\n",
      "[108]\ttrain-auc:0.741833+0.000930423\ttest-auc:0.668794+0.00248887\n",
      "[109]\ttrain-auc:0.742292+0.000891057\ttest-auc:0.668796+0.00253\n",
      "[110]\ttrain-auc:0.742756+0.000887286\ttest-auc:0.668736+0.00249304\n",
      "[111]\ttrain-auc:0.743228+0.000853349\ttest-auc:0.668757+0.00242928\n",
      "[112]\ttrain-auc:0.743724+0.000802914\ttest-auc:0.668752+0.00242473\n",
      "[113]\ttrain-auc:0.744138+0.000795003\ttest-auc:0.668786+0.00242508\n",
      "[114]\ttrain-auc:0.74462+0.0008256\ttest-auc:0.668767+0.00240876\n",
      "[115]\ttrain-auc:0.745116+0.000825421\ttest-auc:0.668704+0.0022957\n",
      "[116]\ttrain-auc:0.745512+0.000797083\ttest-auc:0.668765+0.00227852\n",
      "[117]\ttrain-auc:0.745924+0.000728466\ttest-auc:0.668761+0.00227603\n",
      "[118]\ttrain-auc:0.746412+0.000834877\ttest-auc:0.668728+0.00222249\n"
     ]
    },
    {
     "name": "stderr",
     "output_type": "stream",
     "text": [
      "/home/monster/.conda/envs/tensorflow/lib/python3.6/site-packages/sklearn/preprocessing/label.py:219: DataConversionWarning: A column-vector y was passed when a 1d array was expected. Please change the shape of y to (n_samples, ), for example using ravel().\n",
      "  y = column_or_1d(y, warn=True)\n",
      "/home/monster/.conda/envs/tensorflow/lib/python3.6/site-packages/sklearn/preprocessing/label.py:252: DataConversionWarning: A column-vector y was passed when a 1d array was expected. Please change the shape of y to (n_samples, ), for example using ravel().\n",
      "  y = column_or_1d(y, warn=True)\n"
     ]
    },
    {
     "name": "stdout",
     "output_type": "stream",
     "text": [
      "\n",
      "Model Report\n",
      "Accuracy : 0.7843\n",
      "AUC Score (Train): 0.673268\n",
      "CPU times: user 5min 39s, sys: 648 ms, total: 5min 40s\n",
      "Wall time: 5min 39s\n"
     ]
    },
    {
     "data": {
      "image/png": "[encoded data removed]",
      "text/plain": [
       "<Figure size 432x288 with 1 Axes>"
      ]
     },
     "metadata": {
      "needs_background": "light"
     },
     "output_type": "display_data"
    }
   ],
   "source": [
    "%%time\n",
    "#replce top_20_ft with predictors to run model on all the features\n",
    "modelfit(model1, X_train,y_train,X_validation,y_validation,test_df,sub_df,predictors,outcome,useTrainCV=True, cv_folds=5, early_stopping_rounds=50)"
   ]
  },
  {
   "cell_type": "code",
   "execution_count": null,
   "metadata": {},
   "outputs": [],
   "source": [
    "top_20_features = pd.Series(model1.get_booster().get_fscore()).sort_values(ascending=False)[:25]"
   ]
  },
  {
   "cell_type": "code",
   "execution_count": null,
   "metadata": {},
   "outputs": [],
   "source": [
    "top_20_ft = list(top_20_features.index)"
   ]
  },
  {
   "cell_type": "code",
   "execution_count": null,
   "metadata": {},
   "outputs": [],
   "source": [
    "top_20_ft"
   ]
  },
  {
   "cell_type": "code",
   "execution_count": null,
   "metadata": {},
   "outputs": [],
   "source": [
    "%%time\n",
    "#top features only\n",
    "modelfit(model1, X_train,y_train,X_validation,y_validation,test_df,sub_df,top_20_ft,outcome,useTrainCV=True, cv_folds=5, early_stopping_rounds=50)"
   ]
  },
  {
   "cell_type": "code",
   "execution_count": null,
   "metadata": {},
   "outputs": [],
   "source": [
    "%%time\n",
    "#top features only\n",
    "modelfit(model1, X_train,y_train,X_validation,y_validation,test_df,sub_df,top_20_ft,outcome,useTrainCV=True, cv_folds=5, early_stopping_rounds=50)"
   ]
  },
  {
   "cell_type": "code",
   "execution_count": null,
   "metadata": {},
   "outputs": [],
   "source": [
    "from sklearn.metrics import roc_curve, auc\n",
    "def Performance(Model,Y,X):\n",
    "    # Perforamnce of the model\n",
    "    fpr, tpr, _ = roc_curve(Y, Model.predict_proba(X)[:,1])\n",
    "    AUC  = auc(fpr, tpr)\n",
    "    print ('the AUC is : %0.4f' %  AUC)\n",
    "    plt.figure()\n",
    "    plt.plot(fpr, tpr, label='ROC curve (area = %0.4f)' % AUC)\n",
    "    plt.plot([0, 1], [0, 1], 'k--')\n",
    "    plt.xlim([0.0, 1.0])\n",
    "    plt.ylim([0.0, 1.05])\n",
    "    plt.xlabel('False Positive Rate')\n",
    "    plt.ylabel('True Positive Rate')\n",
    "    plt.title('ROC Curve')\n",
    "    plt.legend(loc=\"lower right\")\n",
    "    plt.show()"
   ]
  },
  {
   "cell_type": "code",
   "execution_count": null,
   "metadata": {},
   "outputs": [],
   "source": [
    "Performance(model1,y_validation,X_validation)"
   ]
  },
  {
   "cell_type": "code",
   "execution_count": null,
   "metadata": {},
   "outputs": [],
   "source": [
    "from hyperopt import fmin, tpe, hp, STATUS_OK, Trials"
   ]
  },
  {
   "cell_type": "code",
   "execution_count": null,
   "metadata": {},
   "outputs": [],
   "source": [
    "%%time\n",
    "np.linspace(0,1,11)"
   ]
  },
  {
   "cell_type": "code",
   "execution_count": null,
   "metadata": {},
   "outputs": [],
   "source": [
    "%%time\n",
    "from sklearn.model_selection import cross_val_score\n",
    "def acc_model(params):\n",
    "    clf = XGBClassifier(**params)\n",
    "    return cross_val_score(clf, X_train, y_train, scoring='roc_auc',cv=5).mean()\n",
    "\n",
    "param_space = {\n",
    "    'learning_rate': hp.choice('learning_rate', [0.1,0.1]),#np.linspace(0,1,11)),\n",
    "    \n",
    "    'n_estimators': hp.choice('n_estimators', [300,300]),\n",
    "    \n",
    "    'max_depth': hp.choice('max_depth', [3, 5, 7, 9]), #range(1,20)),\n",
    "                               \n",
    "    'min_child_weight': hp.choice('min_child_weight', [1, 3, 5]), #range(1,7)),\n",
    "    \n",
    "    'gamma': hp.choice('gamma', [0,0]),#np.linspace(0,1,11)),\n",
    "    \n",
    "    'subsample': hp.choice('subsample', [0.8,0.8]),#np.linspace(0,1,11)),\n",
    "    \n",
    "    'colsample_bytree': hp.choice('colsample_bytree',[0.8,0.8])# np.linspace(0,1,11)),\n",
    "    \n",
    "#     'max_features': hp.choice('max_features', range(1,55)),\n",
    "    \n",
    "#     'criterion': hp.choice('criterion', [\"gini\", \"entropy\"])\n",
    "#                        \n",
    "     }\n",
    "\n",
    "best = 0\n",
    "def f(params):\n",
    "    global best\n",
    "    acc = acc_model(params)\n",
    "    if acc > best:\n",
    "        best = acc\n",
    "    print ('new best:', best, params)\n",
    "    return {'loss': -acc, 'status': STATUS_OK}\n",
    "\n",
    "trials = Trials()\n",
    "best = fmin(f, param_space, algo=tpe.suggest, max_evals=5, trials=trials)\n",
    "print ('best:')\n",
    "print (best)\n"
   ]
  },
  {
   "cell_type": "code",
   "execution_count": null,
   "metadata": {},
   "outputs": [],
   "source": []
  },
  {
   "cell_type": "code",
   "execution_count": null,
   "metadata": {},
   "outputs": [],
   "source": []
  },
  {
   "cell_type": "code",
   "execution_count": null,
   "metadata": {},
   "outputs": [],
   "source": []
  },
  {
   "cell_type": "code",
   "execution_count": 57,
   "metadata": {},
   "outputs": [],
   "source": [
    "from sklearn.model_selection import learning_curve, GridSearchCV"
   ]
  },
  {
   "cell_type": "code",
   "execution_count": 60,
   "metadata": {},
   "outputs": [
    {
     "name": "stderr",
     "output_type": "stream",
     "text": [
      "/home/monster/.conda/envs/tensorflow/lib/python3.6/site-packages/sklearn/preprocessing/label.py:219: DataConversionWarning: A column-vector y was passed when a 1d array was expected. Please change the shape of y to (n_samples, ), for example using ravel().\n",
      "  y = column_or_1d(y, warn=True)\n",
      "/home/monster/.conda/envs/tensorflow/lib/python3.6/site-packages/sklearn/preprocessing/label.py:252: DataConversionWarning: A column-vector y was passed when a 1d array was expected. Please change the shape of y to (n_samples, ), for example using ravel().\n",
      "  y = column_or_1d(y, warn=True)\n"
     ]
    },
    {
     "name": "stdout",
     "output_type": "stream",
     "text": [
      "{'mean_fit_time': array([ 45.37967043,  44.93024373,  44.10679684,  83.76554694,\n",
      "        82.15233011,  80.35409398, 145.00305653, 139.94675436,\n",
      "        99.89689574]), 'std_fit_time': array([ 0.19210073,  0.32886027,  1.05613563,  1.21314664,  0.83966623,\n",
      "        0.90907717,  1.72734365,  0.97686123, 29.83450631]), 'mean_score_time': array([0.2406517 , 0.19833255, 0.2236064 , 0.20102949, 0.23576007,\n",
      "       0.19190054, 0.24622092, 0.20152025, 0.16355977]), 'std_score_time': array([0.04627277, 0.03499582, 0.04406807, 0.03330652, 0.04104175,\n",
      "       0.01327469, 0.02208765, 0.02943257, 0.03485512]), 'param_max_depth': masked_array(data=[3, 3, 3, 5, 5, 5, 7, 7, 7],\n",
      "             mask=[False, False, False, False, False, False, False, False,\n",
      "                   False],\n",
      "       fill_value='?',\n",
      "            dtype=object), 'param_min_child_weight': masked_array(data=[1, 3, 5, 1, 3, 5, 1, 3, 5],\n",
      "             mask=[False, False, False, False, False, False, False, False,\n",
      "                   False],\n",
      "       fill_value='?',\n",
      "            dtype=object), 'params': [{'max_depth': 3, 'min_child_weight': 1}, {'max_depth': 3, 'min_child_weight': 3}, {'max_depth': 3, 'min_child_weight': 5}, {'max_depth': 5, 'min_child_weight': 1}, {'max_depth': 5, 'min_child_weight': 3}, {'max_depth': 5, 'min_child_weight': 5}, {'max_depth': 7, 'min_child_weight': 1}, {'max_depth': 7, 'min_child_weight': 3}, {'max_depth': 7, 'min_child_weight': 5}], 'split0_test_score': array([0.67216156, 0.67212622, 0.67186355, 0.67657936, 0.67639723,\n",
      "       0.67656224, 0.67660942, 0.67692728, 0.67700515]), 'split1_test_score': array([0.67054007, 0.67037356, 0.67052563, 0.67392493, 0.67407862,\n",
      "       0.67402603, 0.67429528, 0.67543175, 0.67424735]), 'split2_test_score': array([0.66521729, 0.66577666, 0.66511392, 0.6704331 , 0.66961643,\n",
      "       0.67062826, 0.66769914, 0.66789137, 0.66840999]), 'split3_test_score': array([0.66685846, 0.66683675, 0.66671161, 0.67193906, 0.67255271,\n",
      "       0.67218195, 0.67036517, 0.67069139, 0.671447  ]), 'split4_test_score': array([0.66271753, 0.66291561, 0.66288192, 0.66628155, 0.66756947,\n",
      "       0.66687982, 0.6647902 , 0.66709996, 0.66782   ]), 'mean_test_score': array([0.66749898, 0.66760576, 0.66741933, 0.6718316 , 0.67204289,\n",
      "       0.67205566, 0.67075184, 0.67160835, 0.6717859 ]), 'std_test_score': array([0.00344867, 0.00328724, 0.00334078, 0.00345525, 0.0031389 ,\n",
      "       0.00325682, 0.00428665, 0.00394694, 0.00347964]), 'rank_test_score': array([8, 7, 9, 3, 2, 1, 6, 5, 4], dtype=int32), 'split0_train_score': array([0.68011363, 0.67999678, 0.67972128, 0.72007786, 0.71823535,\n",
      "       0.71783348, 0.79648605, 0.79096967, 0.78379208]), 'split1_train_score': array([0.68035942, 0.6801395 , 0.68031985, 0.71832712, 0.71728691,\n",
      "       0.71599402, 0.7946327 , 0.78631084, 0.77967959]), 'split2_train_score': array([0.68165565, 0.68185482, 0.68151465, 0.72023302, 0.7196438 ,\n",
      "       0.71892819, 0.79254899, 0.78700784, 0.78225675]), 'split3_train_score': array([0.68104739, 0.68072271, 0.68105399, 0.72136571, 0.71929879,\n",
      "       0.71749067, 0.79575074, 0.78749705, 0.7819064 ]), 'split4_train_score': array([0.68178368, 0.68185251, 0.68181521, 0.72283905, 0.72085744,\n",
      "       0.71918654, 0.79510951, 0.786946  , 0.78379073]), 'mean_train_score': array([0.68099195, 0.68091326, 0.680885  , 0.72056855, 0.71906446,\n",
      "       0.71788658, 0.7949056 , 0.78774628, 0.78228511]), 'std_train_score': array([0.00066962, 0.00080544, 0.00076993, 0.00149453, 0.00122086,\n",
      "       0.00114159, 0.0013328 , 0.00165521, 0.00151465])} {'max_depth': 5, 'min_child_weight': 5} 0.672055660875796\n",
      "CPU times: user 1min 27s, sys: 260 ms, total: 1min 27s\n",
      "Wall time: 11min 22s\n"
     ]
    }
   ],
   "source": [
    "%%time\n",
    "param_test1 = {\n",
    " 'max_depth':[3, 5, 7],\n",
    " 'min_child_weight':[1, 3, 5]\n",
    "}\n",
    "\n",
    "gsearch1 = GridSearchCV(estimator = XGBClassifier( learning_rate =0.1, n_estimators=118, max_depth=5,\n",
    " min_child_weight=1, gamma=0, subsample=0.8, colsample_bytree=0.8,\n",
    " objective= 'binary:logistic', nthread=6, scale_pos_weight=1, seed=27), \n",
    " param_grid = param_test1, scoring='roc_auc',n_jobs=6,iid=False, cv=5)\n",
    "gsearch1.fit(X_train,y_train)\n",
    "print(gsearch1.best_params_, gsearch1.best_score_)\n"
   ]
  },
  {
   "cell_type": "code",
   "execution_count": 62,
   "metadata": {},
   "outputs": [
    {
     "name": "stderr",
     "output_type": "stream",
     "text": [
      "/home/monster/.conda/envs/tensorflow/lib/python3.6/site-packages/sklearn/preprocessing/label.py:219: DataConversionWarning: A column-vector y was passed when a 1d array was expected. Please change the shape of y to (n_samples, ), for example using ravel().\n",
      "  y = column_or_1d(y, warn=True)\n",
      "/home/monster/.conda/envs/tensorflow/lib/python3.6/site-packages/sklearn/preprocessing/label.py:252: DataConversionWarning: A column-vector y was passed when a 1d array was expected. Please change the shape of y to (n_samples, ), for example using ravel().\n",
      "  y = column_or_1d(y, warn=True)\n"
     ]
    },
    {
     "name": "stdout",
     "output_type": "stream",
     "text": [
      "{'mean_fit_time': array([ 45.14868565,  45.21200333,  43.69998231,  83.92551851,\n",
      "        81.38507123,  80.60479994, 144.64127479, 138.95342746,\n",
      "        99.7673481 ]), 'std_fit_time': array([ 0.3269354 ,  0.45307279,  0.71610326,  0.61766653,  0.48277546,\n",
      "        0.96381784,  0.56272825,  0.49930138, 29.05432546]), 'mean_score_time': array([0.20277929, 0.22266493, 0.21884179, 0.19620438, 0.19781914,\n",
      "       0.19020543, 0.24461169, 0.2269712 , 0.15418077]), 'std_score_time': array([0.04175352, 0.07087484, 0.03951036, 0.03527176, 0.02168644,\n",
      "       0.01792149, 0.02651033, 0.04371199, 0.02215073]), 'param_max_depth': masked_array(data=[3, 3, 3, 5, 5, 5, 7, 7, 7],\n",
      "             mask=[False, False, False, False, False, False, False, False,\n",
      "                   False],\n",
      "       fill_value='?',\n",
      "            dtype=object), 'param_min_child_weight': masked_array(data=[1, 3, 5, 1, 3, 5, 1, 3, 5],\n",
      "             mask=[False, False, False, False, False, False, False, False,\n",
      "                   False],\n",
      "       fill_value='?',\n",
      "            dtype=object), 'params': [{'max_depth': 3, 'min_child_weight': 1}, {'max_depth': 3, 'min_child_weight': 3}, {'max_depth': 3, 'min_child_weight': 5}, {'max_depth': 5, 'min_child_weight': 1}, {'max_depth': 5, 'min_child_weight': 3}, {'max_depth': 5, 'min_child_weight': 5}, {'max_depth': 7, 'min_child_weight': 1}, {'max_depth': 7, 'min_child_weight': 3}, {'max_depth': 7, 'min_child_weight': 5}], 'split0_test_score': array([0.67216156, 0.67212622, 0.67186355, 0.67657936, 0.67639723,\n",
      "       0.67656224, 0.67660942, 0.67692728, 0.67700515]), 'split1_test_score': array([0.67054007, 0.67037356, 0.67052563, 0.67392493, 0.67407862,\n",
      "       0.67402603, 0.67429528, 0.67543175, 0.67424735]), 'split2_test_score': array([0.66521729, 0.66577666, 0.66511392, 0.6704331 , 0.66961643,\n",
      "       0.67062826, 0.66769914, 0.66789137, 0.66840999]), 'split3_test_score': array([0.66685846, 0.66683675, 0.66671161, 0.67193906, 0.67255271,\n",
      "       0.67218195, 0.67036517, 0.67069139, 0.671447  ]), 'split4_test_score': array([0.66271753, 0.66291561, 0.66288192, 0.66628155, 0.66756947,\n",
      "       0.66687982, 0.6647902 , 0.66709996, 0.66782   ]), 'mean_test_score': array([0.66749898, 0.66760576, 0.66741933, 0.6718316 , 0.67204289,\n",
      "       0.67205566, 0.67075184, 0.67160835, 0.6717859 ]), 'std_test_score': array([0.00344867, 0.00328724, 0.00334078, 0.00345525, 0.0031389 ,\n",
      "       0.00325682, 0.00428665, 0.00394694, 0.00347964]), 'rank_test_score': array([8, 7, 9, 3, 2, 1, 6, 5, 4], dtype=int32), 'split0_train_score': array([0.68011363, 0.67999678, 0.67972128, 0.72007786, 0.71823535,\n",
      "       0.71783348, 0.79648605, 0.79096967, 0.78379208]), 'split1_train_score': array([0.68035942, 0.6801395 , 0.68031985, 0.71832712, 0.71728691,\n",
      "       0.71599402, 0.7946327 , 0.78631084, 0.77967959]), 'split2_train_score': array([0.68165565, 0.68185482, 0.68151465, 0.72023302, 0.7196438 ,\n",
      "       0.71892819, 0.79254899, 0.78700784, 0.78225675]), 'split3_train_score': array([0.68104739, 0.68072271, 0.68105399, 0.72136571, 0.71929879,\n",
      "       0.71749067, 0.79575074, 0.78749705, 0.7819064 ]), 'split4_train_score': array([0.68178368, 0.68185251, 0.68181521, 0.72283905, 0.72085744,\n",
      "       0.71918654, 0.79510951, 0.786946  , 0.78379073]), 'mean_train_score': array([0.68099195, 0.68091326, 0.680885  , 0.72056855, 0.71906446,\n",
      "       0.71788658, 0.7949056 , 0.78774628, 0.78228511]), 'std_train_score': array([0.00066962, 0.00080544, 0.00076993, 0.00149453, 0.00122086,\n",
      "       0.00114159, 0.0013328 , 0.00165521, 0.00151465])} {'max_depth': 5, 'min_child_weight': 5} 0.672055660875796\n"
     ]
    }
   ],
   "source": [
    "param_test1 = {\n",
    " 'max_depth':[3, 5, 7],\n",
    " 'min_child_weight':[1, 3, 5]\n",
    "}\n",
    "\n",
    "gsearch1 = GridSearchCV(estimator = XGBClassifier( learning_rate =0.1, n_estimators=118, max_depth=5,\n",
    " min_child_weight=1, gamma=0, subsample=0.8, colsample_bytree=0.8,\n",
    " objective= 'binary:logistic', nthread=6, scale_pos_weight=1, seed=27), \n",
    " param_grid = param_test1, scoring='roc_auc',n_jobs=6,iid=False, cv=5)\n",
    "gsearch1.fit(X_train,y_train)\n",
    "print(gsearch1.best_params_, gsearch1.best_score_)\n"
   ]
  },
  {
   "cell_type": "code",
   "execution_count": 63,
   "metadata": {},
   "outputs": [
    {
     "data": {
      "text/plain": [
       "{'max_depth': 5, 'min_child_weight': 5}"
      ]
     },
     "execution_count": 63,
     "metadata": {},
     "output_type": "execute_result"
    }
   ],
   "source": [
    "gsearch1.best_params_"
   ]
  },
  {
   "cell_type": "code",
   "execution_count": 64,
   "metadata": {},
   "outputs": [
    {
     "data": {
      "text/plain": [
       "0.672055660875796"
      ]
     },
     "execution_count": 64,
     "metadata": {},
     "output_type": "execute_result"
    }
   ],
   "source": [
    "gsearch1.best_score_"
   ]
  },
  {
   "cell_type": "code",
   "execution_count": 66,
   "metadata": {},
   "outputs": [
    {
     "name": "stderr",
     "output_type": "stream",
     "text": [
      "/home/monster/.conda/envs/tensorflow/lib/python3.6/site-packages/sklearn/preprocessing/label.py:219: DataConversionWarning: A column-vector y was passed when a 1d array was expected. Please change the shape of y to (n_samples, ), for example using ravel().\n",
      "  y = column_or_1d(y, warn=True)\n",
      "/home/monster/.conda/envs/tensorflow/lib/python3.6/site-packages/sklearn/preprocessing/label.py:252: DataConversionWarning: A column-vector y was passed when a 1d array was expected. Please change the shape of y to (n_samples, ), for example using ravel().\n",
      "  y = column_or_1d(y, warn=True)\n"
     ]
    },
    {
     "name": "stdout",
     "output_type": "stream",
     "text": [
      "{'max_depth': 6, 'min_child_weight': 5} 0.6725648594461321\n"
     ]
    }
   ],
   "source": [
    "param_test2 = {\n",
    " 'max_depth':[4, 5, 6],\n",
    " 'min_child_weight':[4,5,6]\n",
    "}\n",
    "\n",
    "gsearch1 = GridSearchCV(estimator = XGBClassifier( learning_rate =0.1, n_estimators=118, max_depth=5,\n",
    " min_child_weight=2, gamma=0, subsample=0.8, colsample_bytree=0.8,\n",
    " objective= 'binary:logistic', nthread=6, scale_pos_weight=1, seed=27), \n",
    " param_grid = param_test2, scoring='roc_auc',n_jobs=6,iid=False, cv=5)\n",
    "gsearch1.fit(X_train,y_train)\n",
    "\n",
    "print(gsearch1.best_params_, gsearch1.best_score_)"
   ]
  },
  {
   "cell_type": "code",
   "execution_count": 67,
   "metadata": {},
   "outputs": [
    {
     "name": "stderr",
     "output_type": "stream",
     "text": [
      "/home/monster/.conda/envs/tensorflow/lib/python3.6/site-packages/sklearn/preprocessing/label.py:219: DataConversionWarning: A column-vector y was passed when a 1d array was expected. Please change the shape of y to (n_samples, ), for example using ravel().\n",
      "  y = column_or_1d(y, warn=True)\n",
      "/home/monster/.conda/envs/tensorflow/lib/python3.6/site-packages/sklearn/preprocessing/label.py:252: DataConversionWarning: A column-vector y was passed when a 1d array was expected. Please change the shape of y to (n_samples, ), for example using ravel().\n",
      "  y = column_or_1d(y, warn=True)\n"
     ]
    },
    {
     "name": "stdout",
     "output_type": "stream",
     "text": [
      "{'min_child_weight': 8} 0.6726510205201933\n"
     ]
    }
   ],
   "source": [
    "param_test2b = {\n",
    " 'min_child_weight':[5,6,7,8,9]\n",
    "}\n",
    "\n",
    "gsearch2b = GridSearchCV(estimator = XGBClassifier( learning_rate=0.1, n_estimators=118, max_depth=6,\n",
    " min_child_weight=2, gamma=0, subsample=0.8, colsample_bytree=0.8,\n",
    " objective= 'binary:logistic', nthread=6, scale_pos_weight=1,seed=27), \n",
    " param_grid = param_test2b, scoring='roc_auc',n_jobs=6,iid=False, cv=5)\n",
    "gsearch2b.fit(X_train,y_train)\n",
    "\n",
    "print(gsearch2b.best_params_, gsearch2b.best_score_)"
   ]
  },
  {
   "cell_type": "code",
   "execution_count": 68,
   "metadata": {},
   "outputs": [
    {
     "name": "stderr",
     "output_type": "stream",
     "text": [
      "/home/monster/.conda/envs/tensorflow/lib/python3.6/site-packages/sklearn/preprocessing/label.py:219: DataConversionWarning: A column-vector y was passed when a 1d array was expected. Please change the shape of y to (n_samples, ), for example using ravel().\n",
      "  y = column_or_1d(y, warn=True)\n",
      "/home/monster/.conda/envs/tensorflow/lib/python3.6/site-packages/sklearn/preprocessing/label.py:252: DataConversionWarning: A column-vector y was passed when a 1d array was expected. Please change the shape of y to (n_samples, ), for example using ravel().\n",
      "  y = column_or_1d(y, warn=True)\n"
     ]
    },
    {
     "name": "stdout",
     "output_type": "stream",
     "text": [
      "{'gamma': 0.0} 0.6726510205201933\n"
     ]
    }
   ],
   "source": [
    "param_test3 = {\n",
    " 'gamma':[i/10.0 for i in range(0,5)]\n",
    "}\n",
    "gsearch3 = GridSearchCV(estimator = XGBClassifier( learning_rate =0.1, n_estimators=118, max_depth=6,\n",
    " min_child_weight=8, gamma=0, subsample=0.8, colsample_bytree=0.8,\n",
    " objective= 'binary:logistic', nthread=-1, scale_pos_weight=1,seed=27), \n",
    " param_grid = param_test3, scoring='roc_auc',n_jobs=4,iid=False, cv=5)\n",
    "gsearch3.fit(X_train,y_train)\n",
    "\n",
    "print(gsearch3.best_params_, gsearch3.best_score_)\n"
   ]
  },
  {
   "cell_type": "code",
   "execution_count": 68,
   "metadata": {},
   "outputs": [],
   "source": [
    "xgb1 = XGBClassifier(\n",
    " learning_rate =0.1,\n",
    " n_estimators=1000,\n",
    " max_depth=6,\n",
    " min_child_weight=8,\n",
    " gamma=0,\n",
    " subsample=0.8,\n",
    " colsample_bytree=0.8,\n",
    " objective= 'binary:logistic',\n",
    " nthread=4,\n",
    " scale_pos_weight=1,\n",
    " seed=27)"
   ]
  },
  {
   "cell_type": "code",
   "execution_count": null,
   "metadata": {},
   "outputs": [
    {
     "name": "stdout",
     "output_type": "stream",
     "text": [
      "[0]\ttrain-auc:0.638382+0.00237601\ttest-auc:0.626398+0.0018753\n",
      "[1]\ttrain-auc:0.651085+0.00213855\ttest-auc:0.636344+0.000860115\n",
      "[2]\ttrain-auc:0.656519+0.00169077\ttest-auc:0.640765+0.00171511\n",
      "[3]\ttrain-auc:0.659724+0.00111387\ttest-auc:0.64306+0.00148819\n",
      "[4]\ttrain-auc:0.662454+0.00156762\ttest-auc:0.644909+0.00147811\n",
      "[5]\ttrain-auc:0.664916+0.00158404\ttest-auc:0.646509+0.00142669\n",
      "[6]\ttrain-auc:0.666849+0.00121918\ttest-auc:0.647523+0.00137746\n",
      "[7]\ttrain-auc:0.668349+0.00105691\ttest-auc:0.648387+0.00137536\n",
      "[8]\ttrain-auc:0.669693+0.000998863\ttest-auc:0.649264+0.00110649\n",
      "[9]\ttrain-auc:0.670966+0.000794528\ttest-auc:0.64987+0.000921159\n",
      "[10]\ttrain-auc:0.672193+0.000791817\ttest-auc:0.650708+0.000867008\n",
      "[11]\ttrain-auc:0.673654+0.000885319\ttest-auc:0.651635+0.000784754\n",
      "[12]\ttrain-auc:0.675131+0.000655353\ttest-auc:0.652532+0.000770285\n",
      "[13]\ttrain-auc:0.676409+0.000612452\ttest-auc:0.653171+0.000694957\n",
      "[14]\ttrain-auc:0.677776+0.000428107\ttest-auc:0.653858+0.000987236\n",
      "[15]\ttrain-auc:0.678943+0.000497729\ttest-auc:0.654506+0.000769308\n",
      "[16]\ttrain-auc:0.6802+0.000492441\ttest-auc:0.655196+0.000731472\n",
      "[17]\ttrain-auc:0.681249+0.000413542\ttest-auc:0.655515+0.000798601\n",
      "[18]\ttrain-auc:0.6824+0.000434425\ttest-auc:0.655928+0.000878869\n",
      "[19]\ttrain-auc:0.683365+0.000377079\ttest-auc:0.656674+0.000936769\n",
      "[20]\ttrain-auc:0.684606+0.000336122\ttest-auc:0.657477+0.000924339\n",
      "[21]\ttrain-auc:0.685991+0.000285846\ttest-auc:0.658047+0.000980164\n",
      "[22]\ttrain-auc:0.687123+0.000201859\ttest-auc:0.658501+0.00116468\n",
      "[23]\ttrain-auc:0.688544+0.000165542\ttest-auc:0.6591+0.00124202\n",
      "[24]\ttrain-auc:0.68957+0.00022612\ttest-auc:0.659443+0.0013218\n",
      "[25]\ttrain-auc:0.690656+0.000226401\ttest-auc:0.659725+0.00129823\n"
     ]
    }
   ],
   "source": [
    "modelfit(xgb1, X_train,y_train,X_validation,y_validation,test_df,sub_df,predictors,outcome,useTrainCV=True, cv_folds=5, early_stopping_rounds=50)"
   ]
  },
  {
   "cell_type": "code",
   "execution_count": 53,
   "metadata": {},
   "outputs": [
    {
     "name": "stderr",
     "output_type": "stream",
     "text": [
      "/home/monster/.conda/envs/tensorflow/lib/python3.6/site-packages/sklearn/preprocessing/label.py:219: DataConversionWarning: A column-vector y was passed when a 1d array was expected. Please change the shape of y to (n_samples, ), for example using ravel().\n",
      "  y = column_or_1d(y, warn=True)\n",
      "/home/monster/.conda/envs/tensorflow/lib/python3.6/site-packages/sklearn/preprocessing/label.py:252: DataConversionWarning: A column-vector y was passed when a 1d array was expected. Please change the shape of y to (n_samples, ), for example using ravel().\n",
      "  y = column_or_1d(y, warn=True)\n"
     ]
    },
    {
     "name": "stdout",
     "output_type": "stream",
     "text": [
      "{'colsample_bytree': 0.7, 'subsample': 0.9} 0.6733562951759898\n"
     ]
    }
   ],
   "source": [
    "param_test4 = {\n",
    " 'subsample':[i/10.0 for i in range(6,10)],\n",
    " 'colsample_bytree':[i/10.0 for i in range(6,10)]\n",
    "}\n",
    "\n",
    "gsearch4 = GridSearchCV(estimator = XGBClassifier( learning_rate =0.1, n_estimators=200, max_depth=6,\n",
    " min_child_weight=8, gamma=0, subsample=0.8, colsample_bytree=0.8,\n",
    " objective= 'binary:logistic', nthread=-1, scale_pos_weight=1,seed=27), \n",
    " param_grid = param_test4, scoring='roc_auc',n_jobs=4,iid=False, cv=5)\n",
    "gsearch4.fit(X_train,y_train)\n",
    "\n",
    "print(gsearch4.best_params_, gsearch4.best_score_)\n"
   ]
  },
  {
   "cell_type": "code",
   "execution_count": 57,
   "metadata": {},
   "outputs": [
    {
     "name": "stderr",
     "output_type": "stream",
     "text": [
      "/home/monster/.conda/envs/tensorflow/lib/python3.6/site-packages/sklearn/preprocessing/label.py:219: DataConversionWarning: A column-vector y was passed when a 1d array was expected. Please change the shape of y to (n_samples, ), for example using ravel().\n",
      "  y = column_or_1d(y, warn=True)\n",
      "/home/monster/.conda/envs/tensorflow/lib/python3.6/site-packages/sklearn/preprocessing/label.py:252: DataConversionWarning: A column-vector y was passed when a 1d array was expected. Please change the shape of y to (n_samples, ), for example using ravel().\n",
      "  y = column_or_1d(y, warn=True)\n"
     ]
    },
    {
     "name": "stdout",
     "output_type": "stream",
     "text": [
      "{'colsample_bytree': 0.7, 'subsample': 0.95} 0.6736259793369135\n"
     ]
    }
   ],
   "source": [
    "param_test5 = {\n",
    " 'subsample':[i/100.0 for i in range(85,100,5)],\n",
    " 'colsample_bytree':[i/100.0 for i in range(65,80,5)]\n",
    "}\n",
    "\n",
    "gsearch5 = GridSearchCV(estimator = XGBClassifier( learning_rate =0.1, n_estimators=200, max_depth=6,\n",
    " min_child_weight=8, gamma=0, subsample=0.8, colsample_bytree=0.8,\n",
    " objective= 'binary:logistic', nthread=4, scale_pos_weight=1,seed=27), \n",
    " param_grid = param_test5, scoring='roc_auc',n_jobs=4,iid=False, cv=5)\n",
    "\n",
    "gsearch5.fit(X_train,y_train)\n",
    "print(gsearch5.best_params_, gsearch5.best_score_)\n"
   ]
  },
  {
   "cell_type": "code",
   "execution_count": 58,
   "metadata": {},
   "outputs": [
    {
     "name": "stderr",
     "output_type": "stream",
     "text": [
      "/home/monster/.conda/envs/tensorflow/lib/python3.6/site-packages/sklearn/preprocessing/label.py:219: DataConversionWarning: A column-vector y was passed when a 1d array was expected. Please change the shape of y to (n_samples, ), for example using ravel().\n",
      "  y = column_or_1d(y, warn=True)\n",
      "/home/monster/.conda/envs/tensorflow/lib/python3.6/site-packages/sklearn/preprocessing/label.py:252: DataConversionWarning: A column-vector y was passed when a 1d array was expected. Please change the shape of y to (n_samples, ), for example using ravel().\n",
      "  y = column_or_1d(y, warn=True)\n"
     ]
    },
    {
     "name": "stdout",
     "output_type": "stream",
     "text": [
      "{'reg_alpha': 1e-05} 0.6736259887264915\n"
     ]
    }
   ],
   "source": [
    "# param_test6 = {\n",
    "#  'reg_alpha':[1e-5, 1e-2, 0.1, 1, 100]\n",
    "# }\n",
    "\n",
    "# gsearch6 = GridSearchCV(estimator = XGBClassifier( learning_rate =0.1, n_estimators=200, max_depth=6,\n",
    "#  min_child_weight=8, gamma=0, subsample=0.95, colsample_bytree=0.7,\n",
    "#  objective= 'binary:logistic', nthread=-1, scale_pos_weight=1,seed=27), \n",
    "#  param_grid = param_test6, scoring='roc_auc',n_jobs=4,iid=False, cv=5)\n",
    "\n",
    "# gsearch6.fit(X_train,y_train)\n",
    "\n",
    "\n",
    "# print(gsearch6.best_params_, gsearch6.best_score_)"
   ]
  },
  {
   "cell_type": "code",
   "execution_count": 59,
   "metadata": {},
   "outputs": [
    {
     "name": "stderr",
     "output_type": "stream",
     "text": [
      "/home/monster/.conda/envs/tensorflow/lib/python3.6/site-packages/sklearn/preprocessing/label.py:219: DataConversionWarning: A column-vector y was passed when a 1d array was expected. Please change the shape of y to (n_samples, ), for example using ravel().\n",
      "  y = column_or_1d(y, warn=True)\n",
      "/home/monster/.conda/envs/tensorflow/lib/python3.6/site-packages/sklearn/preprocessing/label.py:252: DataConversionWarning: A column-vector y was passed when a 1d array was expected. Please change the shape of y to (n_samples, ), for example using ravel().\n",
      "  y = column_or_1d(y, warn=True)\n"
     ]
    },
    {
     "name": "stdout",
     "output_type": "stream",
     "text": [
      "{'reg_alpha': 0} 0.6735705668923194\n"
     ]
    }
   ],
   "source": [
    "# param_test7 = {\n",
    "#  'reg_alpha':[0, 0.001, 0.005, 0.01, 0.05,0.09]\n",
    "# }\n",
    "\n",
    "# gsearch7 = GridSearchCV(estimator = XGBClassifier( learning_rate =0.1, n_estimators=200, max_depth=6,\n",
    "#  min_child_weight=8, gamma=0.1,subsample=0.95, colsample_bytree=0.7,\n",
    "#  objective= 'binary:logistic', nthread=-1, scale_pos_weight=1,seed=27), \n",
    "#  param_grid = param_test7, scoring='roc_auc',n_jobs=4,iid=False, cv=5)\n",
    "# gsearch7.fit(X_train,y_train)\n",
    "\n",
    "# print(gsearch7.best_params_, gsearch7.best_score_)\n"
   ]
  },
  {
   "cell_type": "code",
   "execution_count": null,
   "metadata": {},
   "outputs": [],
   "source": []
  },
  {
   "cell_type": "code",
   "execution_count": null,
   "metadata": {},
   "outputs": [],
   "source": []
  },
  {
   "cell_type": "code",
   "execution_count": null,
   "metadata": {},
   "outputs": [],
   "source": []
  },
  {
   "cell_type": "code",
   "execution_count": 66,
   "metadata": {},
   "outputs": [],
   "source": [
    "xgb4 = XGBClassifier(\n",
    " learning_rate =0.1,\n",
    " n_estimators=1000,\n",
    " max_depth=6,\n",
    " min_child_weight=8,\n",
    " gamma=0,\n",
    " subsample=0.95,\n",
    " colsample_bytree=0.7,\n",
    " objective= 'binary:logistic',\n",
    " nthread=-1,\n",
    " scale_pos_weight=1,\n",
    " seed=27)\n"
   ]
  },
  {
   "cell_type": "code",
   "execution_count": 67,
   "metadata": {},
   "outputs": [
    {
     "name": "stdout",
     "output_type": "stream",
     "text": [
      "[0]\ttrain-auc:0.639062+0.00139519\ttest-auc:0.625783+0.00273762\n",
      "[1]\ttrain-auc:0.65123+0.00171542\ttest-auc:0.636562+0.000886634\n",
      "[2]\ttrain-auc:0.65605+0.00153356\ttest-auc:0.640179+0.00178579\n",
      "[3]\ttrain-auc:0.659106+0.00118228\ttest-auc:0.642691+0.00193393\n",
      "[4]\ttrain-auc:0.661761+0.00158335\ttest-auc:0.644231+0.0013916\n",
      "[5]\ttrain-auc:0.664787+0.00151881\ttest-auc:0.646224+0.00163526\n",
      "[6]\ttrain-auc:0.666724+0.001098\ttest-auc:0.64791+0.00169052\n",
      "[7]\ttrain-auc:0.668517+0.00143914\ttest-auc:0.649019+0.00183751\n",
      "[8]\ttrain-auc:0.670068+0.00108357\ttest-auc:0.649997+0.00170385\n",
      "[9]\ttrain-auc:0.671579+0.000998035\ttest-auc:0.651161+0.00163142\n",
      "[10]\ttrain-auc:0.673064+0.00100867\ttest-auc:0.651873+0.00165286\n",
      "[11]\ttrain-auc:0.674226+0.00118138\ttest-auc:0.652465+0.00165378\n",
      "[12]\ttrain-auc:0.675663+0.00117735\ttest-auc:0.653294+0.0016119\n",
      "[13]\ttrain-auc:0.676719+0.000875763\ttest-auc:0.654009+0.00186393\n",
      "[14]\ttrain-auc:0.677874+0.000945083\ttest-auc:0.65464+0.0019068\n",
      "[15]\ttrain-auc:0.679008+0.000841802\ttest-auc:0.655288+0.0018128\n",
      "[16]\ttrain-auc:0.680177+0.000856775\ttest-auc:0.655962+0.00160434\n",
      "[17]\ttrain-auc:0.681349+0.000772196\ttest-auc:0.656513+0.0014953\n",
      "[18]\ttrain-auc:0.682601+0.000748185\ttest-auc:0.657179+0.00148341\n",
      "[19]\ttrain-auc:0.683794+0.000763833\ttest-auc:0.657683+0.00144823\n",
      "[20]\ttrain-auc:0.684839+0.000742594\ttest-auc:0.658203+0.00142177\n",
      "[21]\ttrain-auc:0.686096+0.000840201\ttest-auc:0.658819+0.00141081\n",
      "[22]\ttrain-auc:0.687309+0.000863602\ttest-auc:0.65922+0.00124378\n",
      "[23]\ttrain-auc:0.688605+0.000849634\ttest-auc:0.65989+0.0013539\n",
      "[24]\ttrain-auc:0.689921+0.00102397\ttest-auc:0.660528+0.00132807\n",
      "[25]\ttrain-auc:0.690995+0.00101184\ttest-auc:0.661055+0.00126134\n",
      "[26]\ttrain-auc:0.692091+0.000942996\ttest-auc:0.661536+0.00118037\n",
      "[27]\ttrain-auc:0.693201+0.0010731\ttest-auc:0.661933+0.00121978\n",
      "[28]\ttrain-auc:0.694091+0.000957736\ttest-auc:0.662206+0.001007\n",
      "[29]\ttrain-auc:0.69509+0.00097023\ttest-auc:0.662561+0.00103599\n",
      "[30]\ttrain-auc:0.696258+0.000902829\ttest-auc:0.662992+0.00116159\n",
      "[31]\ttrain-auc:0.697379+0.000838772\ttest-auc:0.663369+0.00133048\n",
      "[32]\ttrain-auc:0.69849+0.000836003\ttest-auc:0.663772+0.00125259\n",
      "[33]\ttrain-auc:0.699464+0.000753002\ttest-auc:0.664105+0.001239\n",
      "[34]\ttrain-auc:0.700493+0.000803251\ttest-auc:0.664475+0.00129913\n",
      "[35]\ttrain-auc:0.701462+0.000794951\ttest-auc:0.664841+0.00125174\n",
      "[36]\ttrain-auc:0.702458+0.000834626\ttest-auc:0.665302+0.00131742\n",
      "[37]\ttrain-auc:0.703265+0.000890669\ttest-auc:0.665592+0.00142593\n",
      "[38]\ttrain-auc:0.70422+0.000754377\ttest-auc:0.665973+0.00148571\n",
      "[39]\ttrain-auc:0.705165+0.000808784\ttest-auc:0.666205+0.00144041\n",
      "[40]\ttrain-auc:0.706016+0.000892994\ttest-auc:0.666445+0.00135965\n",
      "[41]\ttrain-auc:0.706813+0.000894083\ttest-auc:0.666655+0.00145612\n",
      "[42]\ttrain-auc:0.707661+0.000858617\ttest-auc:0.666868+0.00151211\n",
      "[43]\ttrain-auc:0.708649+0.000773799\ttest-auc:0.667223+0.00147815\n",
      "[44]\ttrain-auc:0.709303+0.000737983\ttest-auc:0.667506+0.00140976\n",
      "[45]\ttrain-auc:0.71007+0.000794246\ttest-auc:0.667851+0.00139667\n",
      "[46]\ttrain-auc:0.710846+0.000804766\ttest-auc:0.668136+0.00143502\n",
      "[47]\ttrain-auc:0.711621+0.000917991\ttest-auc:0.668258+0.00148147\n",
      "[48]\ttrain-auc:0.712454+0.000934499\ttest-auc:0.66843+0.00166504\n",
      "[49]\ttrain-auc:0.713087+0.000857905\ttest-auc:0.668611+0.00164533\n",
      "[50]\ttrain-auc:0.713795+0.000885116\ttest-auc:0.668834+0.00161658\n",
      "[51]\ttrain-auc:0.714582+0.000898432\ttest-auc:0.669003+0.00164345\n",
      "[52]\ttrain-auc:0.715314+0.000848615\ttest-auc:0.669176+0.0017072\n",
      "[53]\ttrain-auc:0.716023+0.000777748\ttest-auc:0.669398+0.00166091\n",
      "[54]\ttrain-auc:0.716659+0.000732158\ttest-auc:0.669584+0.00163451\n",
      "[55]\ttrain-auc:0.717223+0.000664456\ttest-auc:0.669642+0.00158257\n",
      "[56]\ttrain-auc:0.71784+0.000742569\ttest-auc:0.66978+0.0016094\n",
      "[57]\ttrain-auc:0.718353+0.00078207\ttest-auc:0.669859+0.00160182\n",
      "[58]\ttrain-auc:0.718874+0.000718646\ttest-auc:0.66995+0.00158799\n",
      "[59]\ttrain-auc:0.719477+0.000891021\ttest-auc:0.670015+0.00161771\n",
      "[60]\ttrain-auc:0.720057+0.00096719\ttest-auc:0.670121+0.00161182\n",
      "[61]\ttrain-auc:0.72064+0.000990331\ttest-auc:0.670233+0.00159619\n",
      "[62]\ttrain-auc:0.721269+0.000920822\ttest-auc:0.670338+0.00164104\n",
      "[63]\ttrain-auc:0.721587+0.000856173\ttest-auc:0.670451+0.00158761\n",
      "[64]\ttrain-auc:0.722003+0.000873439\ttest-auc:0.67047+0.00160888\n",
      "[65]\ttrain-auc:0.722482+0.000772391\ttest-auc:0.670551+0.00166228\n",
      "[66]\ttrain-auc:0.723084+0.000780763\ttest-auc:0.670662+0.00164426\n",
      "[67]\ttrain-auc:0.723671+0.000548035\ttest-auc:0.67069+0.00161351\n",
      "[68]\ttrain-auc:0.724071+0.000588308\ttest-auc:0.670753+0.00156576\n",
      "[69]\ttrain-auc:0.724483+0.00048834\ttest-auc:0.670817+0.00155587\n",
      "[70]\ttrain-auc:0.724946+0.000634768\ttest-auc:0.670825+0.00160263\n",
      "[71]\ttrain-auc:0.725366+0.000673722\ttest-auc:0.670863+0.00161768\n",
      "[72]\ttrain-auc:0.725972+0.000603456\ttest-auc:0.670976+0.00167812\n",
      "[73]\ttrain-auc:0.726457+0.000715589\ttest-auc:0.671058+0.00168445\n",
      "[74]\ttrain-auc:0.727011+0.000673136\ttest-auc:0.671134+0.001666\n",
      "[75]\ttrain-auc:0.727489+0.000694395\ttest-auc:0.671167+0.00171272\n",
      "[76]\ttrain-auc:0.727938+0.000582147\ttest-auc:0.671203+0.00169672\n",
      "[77]\ttrain-auc:0.728446+0.000647635\ttest-auc:0.67129+0.00167007\n",
      "[78]\ttrain-auc:0.728962+0.000796022\ttest-auc:0.671364+0.00160567\n",
      "[79]\ttrain-auc:0.729344+0.000737847\ttest-auc:0.671355+0.00161782\n",
      "[80]\ttrain-auc:0.729628+0.000721194\ttest-auc:0.671414+0.00156972\n",
      "[81]\ttrain-auc:0.730174+0.000749904\ttest-auc:0.671469+0.0015244\n",
      "[82]\ttrain-auc:0.730501+0.000746868\ttest-auc:0.671486+0.00152447\n",
      "[83]\ttrain-auc:0.731+0.000680056\ttest-auc:0.671532+0.00149661\n",
      "[84]\ttrain-auc:0.7313+0.000728388\ttest-auc:0.67157+0.00146426\n",
      "[85]\ttrain-auc:0.73168+0.000736973\ttest-auc:0.67162+0.00147057\n",
      "[86]\ttrain-auc:0.732174+0.000763668\ttest-auc:0.671775+0.00141667\n",
      "[87]\ttrain-auc:0.732786+0.000784348\ttest-auc:0.671879+0.00139264\n",
      "[88]\ttrain-auc:0.733155+0.000997914\ttest-auc:0.671925+0.00136131\n",
      "[89]\ttrain-auc:0.733562+0.000921475\ttest-auc:0.671983+0.00140551\n",
      "[90]\ttrain-auc:0.733982+0.000921287\ttest-auc:0.6721+0.00134962\n",
      "[91]\ttrain-auc:0.734402+0.000887714\ttest-auc:0.672132+0.00136835\n",
      "[92]\ttrain-auc:0.734809+0.000964938\ttest-auc:0.672168+0.0013598\n",
      "[93]\ttrain-auc:0.735143+0.00103562\ttest-auc:0.672183+0.00140727\n",
      "[94]\ttrain-auc:0.735515+0.00115506\ttest-auc:0.672202+0.00144451\n",
      "[95]\ttrain-auc:0.735883+0.00118936\ttest-auc:0.672177+0.0014487\n",
      "[96]\ttrain-auc:0.736233+0.00121413\ttest-auc:0.672273+0.00150493\n",
      "[97]\ttrain-auc:0.736458+0.00122437\ttest-auc:0.672255+0.00150863\n",
      "[98]\ttrain-auc:0.736748+0.00117893\ttest-auc:0.672235+0.00149539\n",
      "[99]\ttrain-auc:0.736977+0.00111452\ttest-auc:0.672266+0.00153511\n",
      "[100]\ttrain-auc:0.737351+0.0011894\ttest-auc:0.67226+0.00157586\n",
      "[101]\ttrain-auc:0.737677+0.00121673\ttest-auc:0.672311+0.00164935\n",
      "[102]\ttrain-auc:0.738161+0.00123817\ttest-auc:0.672363+0.00165458\n",
      "[103]\ttrain-auc:0.738503+0.00123147\ttest-auc:0.672354+0.00167336\n",
      "[104]\ttrain-auc:0.738857+0.00124785\ttest-auc:0.672388+0.00164291\n",
      "[105]\ttrain-auc:0.73928+0.00121846\ttest-auc:0.672459+0.00161929\n",
      "[106]\ttrain-auc:0.739665+0.00119773\ttest-auc:0.6725+0.00164751\n",
      "[107]\ttrain-auc:0.740143+0.001306\ttest-auc:0.672549+0.00169485\n",
      "[108]\ttrain-auc:0.740534+0.00126614\ttest-auc:0.672539+0.00173013\n",
      "[109]\ttrain-auc:0.740846+0.00126597\ttest-auc:0.67257+0.00167882\n",
      "[110]\ttrain-auc:0.741245+0.0013383\ttest-auc:0.672588+0.00177779\n",
      "[111]\ttrain-auc:0.741538+0.00139996\ttest-auc:0.67263+0.0017756\n",
      "[112]\ttrain-auc:0.741826+0.00132472\ttest-auc:0.67264+0.00175804\n",
      "[113]\ttrain-auc:0.742105+0.00139957\ttest-auc:0.672616+0.0017252\n",
      "[114]\ttrain-auc:0.742445+0.00148782\ttest-auc:0.672682+0.00172171\n",
      "[115]\ttrain-auc:0.742816+0.00151127\ttest-auc:0.672712+0.00171721\n",
      "[116]\ttrain-auc:0.74324+0.00159482\ttest-auc:0.672745+0.0017606\n",
      "[117]\ttrain-auc:0.743446+0.00149408\ttest-auc:0.672748+0.00177973\n",
      "[118]\ttrain-auc:0.743695+0.00148058\ttest-auc:0.672747+0.00177467\n",
      "[119]\ttrain-auc:0.744052+0.00153767\ttest-auc:0.672739+0.00183347\n",
      "[120]\ttrain-auc:0.74437+0.00154999\ttest-auc:0.672705+0.00176637\n",
      "[121]\ttrain-auc:0.744612+0.00151532\ttest-auc:0.672717+0.00176202\n",
      "[122]\ttrain-auc:0.745029+0.00151001\ttest-auc:0.672694+0.00174844\n",
      "[123]\ttrain-auc:0.745326+0.001527\ttest-auc:0.672679+0.00176884\n",
      "[124]\ttrain-auc:0.745746+0.0016153\ttest-auc:0.672647+0.00176732\n",
      "[125]\ttrain-auc:0.746182+0.00168973\ttest-auc:0.672658+0.00180096\n",
      "[126]\ttrain-auc:0.746544+0.00162487\ttest-auc:0.672642+0.00179377\n",
      "[127]\ttrain-auc:0.746806+0.00175374\ttest-auc:0.672649+0.00178728\n"
     ]
    },
    {
     "name": "stdout",
     "output_type": "stream",
     "text": [
      "[128]\ttrain-auc:0.747071+0.00167565\ttest-auc:0.672667+0.00176653\n",
      "[129]\ttrain-auc:0.747325+0.00164216\ttest-auc:0.672676+0.00177347\n",
      "[130]\ttrain-auc:0.747628+0.00163367\ttest-auc:0.672664+0.00176756\n",
      "[131]\ttrain-auc:0.74794+0.00163744\ttest-auc:0.67267+0.00180189\n",
      "[132]\ttrain-auc:0.748279+0.0015372\ttest-auc:0.672684+0.00182938\n",
      "[133]\ttrain-auc:0.748611+0.00142458\ttest-auc:0.672696+0.00181092\n",
      "[134]\ttrain-auc:0.748911+0.00142589\ttest-auc:0.672732+0.00181633\n",
      "[135]\ttrain-auc:0.749344+0.00147717\ttest-auc:0.672765+0.00179115\n",
      "[136]\ttrain-auc:0.74973+0.0015233\ttest-auc:0.672807+0.00179344\n",
      "[137]\ttrain-auc:0.750052+0.00146053\ttest-auc:0.672827+0.00180715\n",
      "[138]\ttrain-auc:0.75031+0.00152808\ttest-auc:0.67282+0.00180126\n",
      "[139]\ttrain-auc:0.750654+0.00147749\ttest-auc:0.67283+0.00172879\n",
      "[140]\ttrain-auc:0.750902+0.00148589\ttest-auc:0.672845+0.00171088\n",
      "[141]\ttrain-auc:0.751189+0.00149407\ttest-auc:0.672843+0.00166099\n",
      "[142]\ttrain-auc:0.751547+0.00161628\ttest-auc:0.672883+0.00165097\n",
      "[143]\ttrain-auc:0.751936+0.00161324\ttest-auc:0.672875+0.00175736\n",
      "[144]\ttrain-auc:0.752253+0.00151936\ttest-auc:0.672938+0.00177187\n",
      "[145]\ttrain-auc:0.752605+0.0014909\ttest-auc:0.672962+0.00177014\n",
      "[146]\ttrain-auc:0.753028+0.00143131\ttest-auc:0.672968+0.00176452\n",
      "[147]\ttrain-auc:0.75344+0.00134131\ttest-auc:0.672988+0.00179488\n",
      "[148]\ttrain-auc:0.753694+0.00143253\ttest-auc:0.672995+0.00180654\n",
      "[149]\ttrain-auc:0.754031+0.00131685\ttest-auc:0.673048+0.00185978\n",
      "[150]\ttrain-auc:0.754269+0.00126841\ttest-auc:0.673073+0.00184742\n",
      "[151]\ttrain-auc:0.75477+0.00126015\ttest-auc:0.673043+0.00182154\n",
      "[152]\ttrain-auc:0.755132+0.00116511\ttest-auc:0.673099+0.00186685\n",
      "[153]\ttrain-auc:0.755445+0.00108457\ttest-auc:0.673152+0.00189362\n",
      "[154]\ttrain-auc:0.755747+0.00110668\ttest-auc:0.673102+0.00194372\n",
      "[155]\ttrain-auc:0.756021+0.00119414\ttest-auc:0.673125+0.00194452\n",
      "[156]\ttrain-auc:0.75635+0.00116684\ttest-auc:0.673113+0.00190509\n",
      "[157]\ttrain-auc:0.756633+0.0012174\ttest-auc:0.673135+0.00190336\n",
      "[158]\ttrain-auc:0.756927+0.00124675\ttest-auc:0.673173+0.00191272\n",
      "[159]\ttrain-auc:0.757106+0.00121802\ttest-auc:0.67316+0.00190058\n",
      "[160]\ttrain-auc:0.75737+0.00119904\ttest-auc:0.673169+0.00191431\n",
      "[161]\ttrain-auc:0.757623+0.00119128\ttest-auc:0.673167+0.00188896\n",
      "[162]\ttrain-auc:0.757968+0.0011246\ttest-auc:0.673197+0.00190251\n",
      "[163]\ttrain-auc:0.758284+0.00103815\ttest-auc:0.6732+0.00189724\n",
      "[164]\ttrain-auc:0.758638+0.00101715\ttest-auc:0.673191+0.00186602\n",
      "[165]\ttrain-auc:0.75894+0.000960796\ttest-auc:0.673256+0.0018466\n",
      "[166]\ttrain-auc:0.75928+0.000935833\ttest-auc:0.673274+0.00186152\n",
      "[167]\ttrain-auc:0.759626+0.000948884\ttest-auc:0.673282+0.00185997\n",
      "[168]\ttrain-auc:0.759973+0.000913801\ttest-auc:0.673352+0.00185628\n",
      "[169]\ttrain-auc:0.76041+0.000920716\ttest-auc:0.673379+0.00188622\n",
      "[170]\ttrain-auc:0.760681+0.000899113\ttest-auc:0.673327+0.0019067\n",
      "[171]\ttrain-auc:0.760962+0.000932891\ttest-auc:0.673269+0.00188616\n",
      "[172]\ttrain-auc:0.76138+0.00100927\ttest-auc:0.673345+0.00187794\n",
      "[173]\ttrain-auc:0.761739+0.00103087\ttest-auc:0.673354+0.00188318\n",
      "[174]\ttrain-auc:0.76198+0.00107695\ttest-auc:0.673382+0.00191344\n",
      "[175]\ttrain-auc:0.76231+0.00112721\ttest-auc:0.673418+0.00189106\n",
      "[176]\ttrain-auc:0.762615+0.0011889\ttest-auc:0.673426+0.0018464\n",
      "[177]\ttrain-auc:0.762875+0.00107637\ttest-auc:0.673463+0.00182513\n",
      "[178]\ttrain-auc:0.763146+0.00106891\ttest-auc:0.673451+0.0018479\n",
      "[179]\ttrain-auc:0.763373+0.00114753\ttest-auc:0.673424+0.00182943\n",
      "[180]\ttrain-auc:0.763717+0.00128836\ttest-auc:0.673455+0.00179665\n",
      "[181]\ttrain-auc:0.764047+0.00128116\ttest-auc:0.673497+0.00177292\n",
      "[182]\ttrain-auc:0.764325+0.00129754\ttest-auc:0.673502+0.00179497\n",
      "[183]\ttrain-auc:0.764596+0.00132964\ttest-auc:0.673518+0.0017647\n",
      "[184]\ttrain-auc:0.764856+0.0013959\ttest-auc:0.673488+0.00176348\n",
      "[185]\ttrain-auc:0.765124+0.00137904\ttest-auc:0.67344+0.00180067\n",
      "[186]\ttrain-auc:0.765442+0.00137023\ttest-auc:0.673451+0.00175691\n",
      "[187]\ttrain-auc:0.765615+0.00134148\ttest-auc:0.673462+0.00175785\n",
      "[188]\ttrain-auc:0.765905+0.00139731\ttest-auc:0.673487+0.00178095\n",
      "[189]\ttrain-auc:0.766167+0.00130424\ttest-auc:0.673483+0.00176093\n",
      "[190]\ttrain-auc:0.766433+0.00133689\ttest-auc:0.673504+0.00176874\n",
      "[191]\ttrain-auc:0.766627+0.00138558\ttest-auc:0.673529+0.00180437\n",
      "[192]\ttrain-auc:0.766924+0.00134812\ttest-auc:0.673491+0.00179501\n",
      "[193]\ttrain-auc:0.767068+0.00136969\ttest-auc:0.673513+0.00178319\n",
      "[194]\ttrain-auc:0.767271+0.00136029\ttest-auc:0.673513+0.00176063\n",
      "[195]\ttrain-auc:0.767682+0.00140392\ttest-auc:0.673511+0.00178452\n",
      "[196]\ttrain-auc:0.768033+0.00147445\ttest-auc:0.673465+0.00181931\n",
      "[197]\ttrain-auc:0.768296+0.00149095\ttest-auc:0.673422+0.00179206\n",
      "[198]\ttrain-auc:0.768564+0.00146938\ttest-auc:0.673407+0.00181771\n",
      "[199]\ttrain-auc:0.768811+0.00136087\ttest-auc:0.673416+0.0018374\n",
      "[200]\ttrain-auc:0.769083+0.00126982\ttest-auc:0.673416+0.0018418\n",
      "[201]\ttrain-auc:0.769377+0.00126752\ttest-auc:0.673461+0.00180138\n",
      "[202]\ttrain-auc:0.769753+0.00120705\ttest-auc:0.673505+0.00180019\n",
      "[203]\ttrain-auc:0.770024+0.00125642\ttest-auc:0.673505+0.00178692\n",
      "[204]\ttrain-auc:0.770371+0.00132537\ttest-auc:0.673506+0.00177969\n",
      "[205]\ttrain-auc:0.770748+0.00141449\ttest-auc:0.67355+0.00177257\n",
      "[206]\ttrain-auc:0.771007+0.00149485\ttest-auc:0.673521+0.00173623\n",
      "[207]\ttrain-auc:0.771314+0.00142319\ttest-auc:0.673506+0.00176394\n",
      "[208]\ttrain-auc:0.771511+0.00146705\ttest-auc:0.673515+0.00170557\n",
      "[209]\ttrain-auc:0.77175+0.00142452\ttest-auc:0.673483+0.0017066\n",
      "[210]\ttrain-auc:0.771974+0.00151353\ttest-auc:0.67347+0.00170611\n",
      "[211]\ttrain-auc:0.772304+0.00150124\ttest-auc:0.673433+0.00168764\n",
      "[212]\ttrain-auc:0.772539+0.00154182\ttest-auc:0.673419+0.00169696\n",
      "[213]\ttrain-auc:0.772844+0.00159867\ttest-auc:0.673383+0.0016839\n",
      "[214]\ttrain-auc:0.773143+0.00154101\ttest-auc:0.673369+0.00164295\n",
      "[215]\ttrain-auc:0.773439+0.0016346\ttest-auc:0.673396+0.00165192\n",
      "[216]\ttrain-auc:0.773651+0.00164383\ttest-auc:0.673384+0.00165733\n",
      "[217]\ttrain-auc:0.773885+0.00163481\ttest-auc:0.673404+0.00165225\n",
      "[218]\ttrain-auc:0.774201+0.0017192\ttest-auc:0.67336+0.00164449\n",
      "[219]\ttrain-auc:0.774433+0.0017643\ttest-auc:0.673393+0.00157582\n",
      "[220]\ttrain-auc:0.774779+0.00175724\ttest-auc:0.6734+0.00155988\n",
      "[221]\ttrain-auc:0.775018+0.00177212\ttest-auc:0.673377+0.00154706\n",
      "[222]\ttrain-auc:0.775292+0.00185226\ttest-auc:0.673368+0.00152141\n",
      "[223]\ttrain-auc:0.775536+0.00191969\ttest-auc:0.673334+0.0015315\n",
      "[224]\ttrain-auc:0.775755+0.00184292\ttest-auc:0.673326+0.00153286\n",
      "[225]\ttrain-auc:0.776091+0.00183572\ttest-auc:0.673328+0.00155975\n",
      "[226]\ttrain-auc:0.776407+0.00191503\ttest-auc:0.67335+0.00156717\n",
      "[227]\ttrain-auc:0.77674+0.0018014\ttest-auc:0.673351+0.00156369\n",
      "[228]\ttrain-auc:0.777073+0.00177979\ttest-auc:0.673356+0.00153788\n",
      "[229]\ttrain-auc:0.777243+0.00186908\ttest-auc:0.673314+0.00153761\n",
      "[230]\ttrain-auc:0.77753+0.00186103\ttest-auc:0.673331+0.00152754\n",
      "[231]\ttrain-auc:0.777753+0.00173698\ttest-auc:0.673307+0.00153545\n",
      "[232]\ttrain-auc:0.777993+0.00176673\ttest-auc:0.673323+0.00152876\n",
      "[233]\ttrain-auc:0.778249+0.00181058\ttest-auc:0.673335+0.00153806\n",
      "[234]\ttrain-auc:0.778511+0.00179569\ttest-auc:0.67332+0.00153518\n",
      "[235]\ttrain-auc:0.778733+0.00191195\ttest-auc:0.673318+0.00152832\n",
      "[236]\ttrain-auc:0.778954+0.00192149\ttest-auc:0.673306+0.00157866\n",
      "[237]\ttrain-auc:0.779197+0.00187955\ttest-auc:0.673315+0.0015024\n",
      "[238]\ttrain-auc:0.779417+0.00187388\ttest-auc:0.673308+0.00146838\n",
      "[239]\ttrain-auc:0.779712+0.00191104\ttest-auc:0.673323+0.00150806\n",
      "[240]\ttrain-auc:0.779962+0.00184826\ttest-auc:0.673216+0.0015246\n",
      "[241]\ttrain-auc:0.780131+0.00191018\ttest-auc:0.673205+0.0015357\n",
      "[242]\ttrain-auc:0.780306+0.00189825\ttest-auc:0.67323+0.00153322\n",
      "[243]\ttrain-auc:0.780555+0.00185808\ttest-auc:0.67317+0.00152747\n",
      "[244]\ttrain-auc:0.780825+0.00190307\ttest-auc:0.67315+0.0014977\n",
      "[245]\ttrain-auc:0.78101+0.00183651\ttest-auc:0.67314+0.00150119\n",
      "[246]\ttrain-auc:0.781283+0.00184957\ttest-auc:0.673154+0.00148316\n",
      "[247]\ttrain-auc:0.781459+0.00194244\ttest-auc:0.673153+0.00146162\n",
      "[248]\ttrain-auc:0.781697+0.00208275\ttest-auc:0.673151+0.0015116\n",
      "[249]\ttrain-auc:0.78195+0.00205212\ttest-auc:0.67313+0.00155438\n",
      "[250]\ttrain-auc:0.782145+0.00201013\ttest-auc:0.67312+0.00156577\n",
      "[251]\ttrain-auc:0.782397+0.00195973\ttest-auc:0.673098+0.00150734\n",
      "[252]\ttrain-auc:0.782574+0.00191159\ttest-auc:0.673115+0.00148595\n",
      "[253]\ttrain-auc:0.782817+0.00195912\ttest-auc:0.673105+0.00153576\n",
      "[254]\ttrain-auc:0.783101+0.00198058\ttest-auc:0.67309+0.00151962\n"
     ]
    },
    {
     "name": "stderr",
     "output_type": "stream",
     "text": [
      "/home/monster/.conda/envs/tensorflow/lib/python3.6/site-packages/sklearn/preprocessing/label.py:219: DataConversionWarning: A column-vector y was passed when a 1d array was expected. Please change the shape of y to (n_samples, ), for example using ravel().\n",
      "  y = column_or_1d(y, warn=True)\n",
      "/home/monster/.conda/envs/tensorflow/lib/python3.6/site-packages/sklearn/preprocessing/label.py:252: DataConversionWarning: A column-vector y was passed when a 1d array was expected. Please change the shape of y to (n_samples, ), for example using ravel().\n",
      "  y = column_or_1d(y, warn=True)\n"
     ]
    },
    {
     "name": "stdout",
     "output_type": "stream",
     "text": [
      "\n",
      "Model Report\n",
      "Accuracy : 0.7846\n",
      "AUC Score (Train): 0.676801\n"
     ]
    },
    {
     "data": {
      "image/png": "[encoded data removed]",
      "text/plain": [
       "<Figure size 432x288 with 1 Axes>"
      ]
     },
     "metadata": {
      "needs_background": "light"
     },
     "output_type": "display_data"
    }
   ],
   "source": [
    "modelfit(xgb4, X_train,y_train,X_validation,y_validation,test_df,sub_df,predictors,outcome,useTrainCV=True, cv_folds=5, early_stopping_rounds=50)"
   ]
  },
  {
   "cell_type": "code",
   "execution_count": null,
   "metadata": {},
   "outputs": [],
   "source": []
  },
  {
   "cell_type": "code",
   "execution_count": null,
   "metadata": {},
   "outputs": [],
   "source": []
  },
  {
   "cell_type": "code",
   "execution_count": null,
   "metadata": {},
   "outputs": [],
   "source": []
  },
  {
   "cell_type": "code",
   "execution_count": null,
   "metadata": {},
   "outputs": [],
   "source": []
  },
  {
   "cell_type": "code",
   "execution_count": null,
   "metadata": {},
   "outputs": [],
   "source": []
  },
  {
   "cell_type": "code",
   "execution_count": null,
   "metadata": {},
   "outputs": [],
   "source": []
  },
  {
   "cell_type": "code",
   "execution_count": null,
   "metadata": {},
   "outputs": [],
   "source": []
  },
  {
   "cell_type": "code",
   "execution_count": null,
   "metadata": {},
   "outputs": [],
   "source": []
  },
  {
   "cell_type": "code",
   "execution_count": null,
   "metadata": {},
   "outputs": [],
   "source": []
  },
  {
   "cell_type": "code",
   "execution_count": null,
   "metadata": {},
   "outputs": [],
   "source": []
  },
  {
   "cell_type": "code",
   "execution_count": null,
   "metadata": {},
   "outputs": [],
   "source": []
  },
  {
   "cell_type": "code",
   "execution_count": null,
   "metadata": {},
   "outputs": [],
   "source": []
  },
  {
   "cell_type": "code",
   "execution_count": null,
   "metadata": {},
   "outputs": [],
   "source": [
    "\n",
    "\n",
    "\n",
    "\n",
    "\n",
    "\n",
    "\n",
    "\n",
    "\n",
    "\n",
    "\n",
    " \n",
    "\n",
    "\n",
    "\n",
    "\n",
    "\n",
    "\n",
    "\n",
    "\n",
    "\n",
    "\n",
    "\n",
    "\n",
    "\n",
    "\n",
    "\n"
   ]
  },
  {
   "cell_type": "code",
   "execution_count": null,
   "metadata": {},
   "outputs": [],
   "source": []
  },
  {
   "cell_type": "code",
   "execution_count": null,
   "metadata": {},
   "outputs": [],
   "source": []
  },
  {
   "cell_type": "code",
   "execution_count": null,
   "metadata": {},
   "outputs": [],
   "source": []
  },
  {
   "cell_type": "code",
   "execution_count": null,
   "metadata": {},
   "outputs": [],
   "source": []
  }
 ],
 "metadata": {
  "kernelspec": {
   "display_name": "tensorflow",
   "language": "python",
   "name": "tensorflow"
  },
  "language_info": {
   "codemirror_mode": {
    "name": "ipython",
    "version": 3
   },
   "file_extension": ".py",
   "mimetype": "text/x-python",
   "name": "python",
   "nbconvert_exporter": "python",
   "pygments_lexer": "ipython3",
   "version": "3.6.8"
  }
 },
 "nbformat": 4,
 "nbformat_minor": 2
}
