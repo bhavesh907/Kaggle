{
 "cells": [
  {
   "cell_type": "code",
   "execution_count": 1,
   "metadata": {},
   "outputs": [],
   "source": [
    "import pandas as pd\n",
    "import numpy as np\n",
    "import matplotlib.pyplot as plt"
   ]
  },
  {
   "cell_type": "code",
   "execution_count": 2,
   "metadata": {},
   "outputs": [],
   "source": [
    "train_df = pd.read_csv('/home/monster/Downloads/kaggle/AV-L&T-loan/train.csv')\n",
    "test_df = pd.read_csv('/home/monster/Downloads/kaggle/AV-L&T-loan/test.csv')\n",
    "sub_df = pd.read_csv('/home/monster/Downloads/kaggle/AV-L&T-loan/sample_submission.csv')"
   ]
  },
  {
   "cell_type": "code",
   "execution_count": 3,
   "metadata": {},
   "outputs": [
    {
     "data": {
      "text/plain": [
       "((233154, 41), (112392, 40))"
      ]
     },
     "execution_count": 3,
     "metadata": {},
     "output_type": "execute_result"
    }
   ],
   "source": [
    "train_df.shape,test_df.shape"
   ]
  },
  {
   "cell_type": "code",
   "execution_count": 4,
   "metadata": {},
   "outputs": [],
   "source": [
    "train_df['is_train'] = ''\n",
    "test_df['is_train'] = ''\n",
    "data = pd.DataFrame()\n",
    "train_df.loc[:,'is_train'] = 1\n",
    "test_df.loc[:,'is_train'] = 0\n",
    "data = data.append(train_df,sort=False).append(test_df,sort=False)"
   ]
  },
  {
   "cell_type": "code",
   "execution_count": 5,
   "metadata": {},
   "outputs": [],
   "source": [
    "data.reset_index(inplace=True)"
   ]
  },
  {
   "cell_type": "code",
   "execution_count": 6,
   "metadata": {},
   "outputs": [],
   "source": [
    "#Treat missing values\n",
    "#86 % values are no so it is safe to impute NO\n",
    "data['Employment.Type'].fillna('Self employed',inplace=True)"
   ]
  },
  {
   "cell_type": "code",
   "execution_count": 7,
   "metadata": {},
   "outputs": [
    {
     "data": {
      "text/plain": [
       "index                                       0\n",
       "UniqueID                                    0\n",
       "disbursed_amount                            0\n",
       "asset_cost                                  0\n",
       "ltv                                         0\n",
       "branch_id                                   0\n",
       "supplier_id                                 0\n",
       "manufacturer_id                             0\n",
       "Current_pincode_ID                          0\n",
       "Date.of.Birth                               0\n",
       "Employment.Type                             0\n",
       "DisbursalDate                               0\n",
       "State_ID                                    0\n",
       "Employee_code_ID                            0\n",
       "MobileNo_Avl_Flag                           0\n",
       "Aadhar_flag                                 0\n",
       "PAN_flag                                    0\n",
       "VoterID_flag                                0\n",
       "Driving_flag                                0\n",
       "Passport_flag                               0\n",
       "PERFORM_CNS.SCORE                           0\n",
       "PERFORM_CNS.SCORE.DESCRIPTION               0\n",
       "PRI.NO.OF.ACCTS                             0\n",
       "PRI.ACTIVE.ACCTS                            0\n",
       "PRI.OVERDUE.ACCTS                           0\n",
       "PRI.CURRENT.BALANCE                         0\n",
       "PRI.SANCTIONED.AMOUNT                       0\n",
       "PRI.DISBURSED.AMOUNT                        0\n",
       "SEC.NO.OF.ACCTS                             0\n",
       "SEC.ACTIVE.ACCTS                            0\n",
       "SEC.OVERDUE.ACCTS                           0\n",
       "SEC.CURRENT.BALANCE                         0\n",
       "SEC.SANCTIONED.AMOUNT                       0\n",
       "SEC.DISBURSED.AMOUNT                        0\n",
       "PRIMARY.INSTAL.AMT                          0\n",
       "SEC.INSTAL.AMT                              0\n",
       "NEW.ACCTS.IN.LAST.SIX.MONTHS                0\n",
       "DELINQUENT.ACCTS.IN.LAST.SIX.MONTHS         0\n",
       "AVERAGE.ACCT.AGE                            0\n",
       "CREDIT.HISTORY.LENGTH                       0\n",
       "NO.OF_INQUIRIES                             0\n",
       "loan_default                           112392\n",
       "is_train                                    0\n",
       "dtype: int64"
      ]
     },
     "execution_count": 7,
     "metadata": {},
     "output_type": "execute_result"
    }
   ],
   "source": [
    "data.apply(lambda x: sum(x.isnull()),axis=0)"
   ]
  },
  {
   "cell_type": "code",
   "execution_count": 8,
   "metadata": {},
   "outputs": [
    {
     "data": {
      "text/plain": [
       "((345546, 43), (233154, 42), (112392, 41))"
      ]
     },
     "execution_count": 8,
     "metadata": {},
     "output_type": "execute_result"
    }
   ],
   "source": [
    "data.shape,train_df.shape,test_df.shape"
   ]
  },
  {
   "cell_type": "code",
   "execution_count": 9,
   "metadata": {},
   "outputs": [],
   "source": [
    "#create mean and st dev features- leakage features\n",
    "ft_name = ['loan_default']\n",
    "var = ['branch_id','State_ID']\n",
    "fntouse = list([np.mean,np.sum])\n",
    "\n",
    "# temp2 = data.pivot_table(values='ltv',index=['Current_pincode_ID'],aggfunc=np.std)\n",
    "# # temp2.plot(kind='bar')\n",
    "# temp2.reset_index(inplace=True)\n",
    "# temp2.columns = ['Current_pincode_ID', 'ltv_stdev']\n",
    "for ftname in ft_name:\n",
    "    for fn2use in fntouse:\n",
    "        for var_name in var:\n",
    "            temp3 = train_df.pivot_table(values=ftname,index=[var_name],aggfunc=fn2use)\n",
    "            # temp2.plot(kind='bar')\n",
    "            temp3.reset_index(inplace=True)\n",
    "            temp3.columns = [var_name, var_name+'_'+ftname+'_'+str(fn2use).split(' ')[1]]\n",
    "            data = data.merge(temp3,on=var_name, how = 'left')\n",
    "    #         data[var_name+'_stdev'] = data[ftname]-data[var_name+'_'+ftname+'_mean']\n",
    "\n",
    "            # df = pd.concat([temp2,temp3],axis=1)"
   ]
  },
  {
   "cell_type": "code",
   "execution_count": 10,
   "metadata": {},
   "outputs": [
    {
     "data": {
      "text/plain": [
       "index                                       0\n",
       "UniqueID                                    0\n",
       "disbursed_amount                            0\n",
       "asset_cost                                  0\n",
       "ltv                                         0\n",
       "branch_id                                   0\n",
       "supplier_id                                 0\n",
       "manufacturer_id                             0\n",
       "Current_pincode_ID                          0\n",
       "Date.of.Birth                               0\n",
       "Employment.Type                             0\n",
       "DisbursalDate                               0\n",
       "State_ID                                    0\n",
       "Employee_code_ID                            0\n",
       "MobileNo_Avl_Flag                           0\n",
       "Aadhar_flag                                 0\n",
       "PAN_flag                                    0\n",
       "VoterID_flag                                0\n",
       "Driving_flag                                0\n",
       "Passport_flag                               0\n",
       "PERFORM_CNS.SCORE                           0\n",
       "PERFORM_CNS.SCORE.DESCRIPTION               0\n",
       "PRI.NO.OF.ACCTS                             0\n",
       "PRI.ACTIVE.ACCTS                            0\n",
       "PRI.OVERDUE.ACCTS                           0\n",
       "PRI.CURRENT.BALANCE                         0\n",
       "PRI.SANCTIONED.AMOUNT                       0\n",
       "PRI.DISBURSED.AMOUNT                        0\n",
       "SEC.NO.OF.ACCTS                             0\n",
       "SEC.ACTIVE.ACCTS                            0\n",
       "SEC.OVERDUE.ACCTS                           0\n",
       "SEC.CURRENT.BALANCE                         0\n",
       "SEC.SANCTIONED.AMOUNT                       0\n",
       "SEC.DISBURSED.AMOUNT                        0\n",
       "PRIMARY.INSTAL.AMT                          0\n",
       "SEC.INSTAL.AMT                              0\n",
       "NEW.ACCTS.IN.LAST.SIX.MONTHS                0\n",
       "DELINQUENT.ACCTS.IN.LAST.SIX.MONTHS         0\n",
       "AVERAGE.ACCT.AGE                            0\n",
       "CREDIT.HISTORY.LENGTH                       0\n",
       "NO.OF_INQUIRIES                             0\n",
       "loan_default                           112392\n",
       "is_train                                    0\n",
       "branch_id_loan_default_mean                 0\n",
       "State_ID_loan_default_mean                  0\n",
       "branch_id_loan_default_sum                  0\n",
       "State_ID_loan_default_sum                   0\n",
       "dtype: int64"
      ]
     },
     "execution_count": 10,
     "metadata": {},
     "output_type": "execute_result"
    }
   ],
   "source": [
    "data.apply(lambda x: sum(x.isnull()),axis=0)"
   ]
  },
  {
   "cell_type": "code",
   "execution_count": 11,
   "metadata": {},
   "outputs": [
    {
     "data": {
      "text/plain": [
       "Index(['index', 'UniqueID', 'disbursed_amount', 'asset_cost', 'ltv',\n",
       "       'branch_id', 'supplier_id', 'manufacturer_id', 'Current_pincode_ID',\n",
       "       'Date.of.Birth', 'Employment.Type', 'DisbursalDate', 'State_ID',\n",
       "       'Employee_code_ID', 'MobileNo_Avl_Flag', 'Aadhar_flag', 'PAN_flag',\n",
       "       'VoterID_flag', 'Driving_flag', 'Passport_flag', 'PERFORM_CNS.SCORE',\n",
       "       'PERFORM_CNS.SCORE.DESCRIPTION', 'PRI.NO.OF.ACCTS', 'PRI.ACTIVE.ACCTS',\n",
       "       'PRI.OVERDUE.ACCTS', 'PRI.CURRENT.BALANCE', 'PRI.SANCTIONED.AMOUNT',\n",
       "       'PRI.DISBURSED.AMOUNT', 'SEC.NO.OF.ACCTS', 'SEC.ACTIVE.ACCTS',\n",
       "       'SEC.OVERDUE.ACCTS', 'SEC.CURRENT.BALANCE', 'SEC.SANCTIONED.AMOUNT',\n",
       "       'SEC.DISBURSED.AMOUNT', 'PRIMARY.INSTAL.AMT', 'SEC.INSTAL.AMT',\n",
       "       'NEW.ACCTS.IN.LAST.SIX.MONTHS', 'DELINQUENT.ACCTS.IN.LAST.SIX.MONTHS',\n",
       "       'AVERAGE.ACCT.AGE', 'CREDIT.HISTORY.LENGTH', 'NO.OF_INQUIRIES',\n",
       "       'loan_default', 'is_train', 'branch_id_loan_default_mean',\n",
       "       'State_ID_loan_default_mean', 'branch_id_loan_default_sum',\n",
       "       'State_ID_loan_default_sum'],\n",
       "      dtype='object')"
      ]
     },
     "execution_count": 11,
     "metadata": {},
     "output_type": "execute_result"
    }
   ],
   "source": [
    "data.columns"
   ]
  },
  {
   "cell_type": "code",
   "execution_count": null,
   "metadata": {},
   "outputs": [],
   "source": []
  },
  {
   "cell_type": "code",
   "execution_count": null,
   "metadata": {},
   "outputs": [],
   "source": []
  },
  {
   "cell_type": "code",
   "execution_count": 12,
   "metadata": {},
   "outputs": [],
   "source": [
    "data['CREDIT.HISTORY.LENGTH.YEARS'] = data['CREDIT.HISTORY.LENGTH'].map(lambda x : int(x.split(' ')[0][:-3]))"
   ]
  },
  {
   "cell_type": "code",
   "execution_count": 13,
   "metadata": {},
   "outputs": [],
   "source": [
    "data['CREDIT.HISTORY.LENGTH.MONTHS'] = data['CREDIT.HISTORY.LENGTH'].map(lambda x : int(x.split(' ')[1][:-3]))"
   ]
  },
  {
   "cell_type": "code",
   "execution_count": 14,
   "metadata": {},
   "outputs": [],
   "source": [
    "data['CREDIT.HISTORY.LENGTH.TOTMONS'] = data['CREDIT.HISTORY.LENGTH.MONTHS'] + np.dot(data['CREDIT.HISTORY.LENGTH.YEARS'],12)"
   ]
  },
  {
   "cell_type": "code",
   "execution_count": null,
   "metadata": {},
   "outputs": [],
   "source": []
  },
  {
   "cell_type": "code",
   "execution_count": 15,
   "metadata": {},
   "outputs": [],
   "source": [
    "data['AVERAGE.ACCT.AGE.YEARS'] = data['AVERAGE.ACCT.AGE'].map(lambda x : int(x.split(' ')[0][:-3]))\n",
    "\n",
    "data['AVERAGE.ACCT.AGE.MONTHS'] = data['AVERAGE.ACCT.AGE'].map(lambda x : int(x.split(' ')[1][:-3]))\n",
    "\n",
    "data['AVERAGE.ACCT.AGE.TOTMONS'] = data['AVERAGE.ACCT.AGE.MONTHS'] + np.dot(data['AVERAGE.ACCT.AGE.YEARS'],12)"
   ]
  },
  {
   "cell_type": "code",
   "execution_count": 16,
   "metadata": {},
   "outputs": [
    {
     "data": {
      "text/plain": [
       "'01-01-84'"
      ]
     },
     "execution_count": 16,
     "metadata": {},
     "output_type": "execute_result"
    }
   ],
   "source": [
    "data['Date.of.Birth'][0]"
   ]
  },
  {
   "cell_type": "code",
   "execution_count": 17,
   "metadata": {},
   "outputs": [],
   "source": [
    "data['Date.of.Birth.YEAR'] = data['Date.of.Birth'].map(lambda x : int(x.split('-')[2]))"
   ]
  },
  {
   "cell_type": "code",
   "execution_count": 18,
   "metadata": {},
   "outputs": [
    {
     "data": {
      "text/plain": [
       "874     16-07-00\n",
       "1300    05-03-00\n",
       "1864    01-01-00\n",
       "1872    18-08-00\n",
       "1874    01-01-00\n",
       "Name: Date.of.Birth, dtype: object"
      ]
     },
     "execution_count": 18,
     "metadata": {},
     "output_type": "execute_result"
    }
   ],
   "source": [
    "data.loc[data['Date.of.Birth.YEAR']==0,'Date.of.Birth'].head()"
   ]
  },
  {
   "cell_type": "code",
   "execution_count": 19,
   "metadata": {},
   "outputs": [],
   "source": [
    "data['Date.of.Birth.YEAR.conv'] = ''"
   ]
  },
  {
   "cell_type": "code",
   "execution_count": 20,
   "metadata": {},
   "outputs": [],
   "source": [
    "data.loc[data['Date.of.Birth.YEAR']==0,'Date.of.Birth.YEAR.conv'] = 2000"
   ]
  },
  {
   "cell_type": "code",
   "execution_count": 21,
   "metadata": {},
   "outputs": [],
   "source": [
    "data.loc[data['Date.of.Birth.YEAR']>0,'Date.of.Birth.YEAR.conv'] = data.loc[data['Date.of.Birth.YEAR']>0,'Date.of.Birth.YEAR']+1900"
   ]
  },
  {
   "cell_type": "code",
   "execution_count": 22,
   "metadata": {},
   "outputs": [],
   "source": [
    "data['Date.of.Birth.AGE'] = ''\n",
    "\n",
    "data['Date.of.Birth.AGE'] = 2019 - data.loc[:,'Date.of.Birth.YEAR.conv']"
   ]
  },
  {
   "cell_type": "code",
   "execution_count": 23,
   "metadata": {},
   "outputs": [],
   "source": [
    "#st dev and mean of ltv feature"
   ]
  },
  {
   "cell_type": "code",
   "execution_count": null,
   "metadata": {},
   "outputs": [],
   "source": []
  },
  {
   "cell_type": "code",
   "execution_count": 24,
   "metadata": {},
   "outputs": [
    {
     "data": {
      "text/plain": [
       "<matplotlib.axes._subplots.AxesSubplot at 0x7f97f1891d68>"
      ]
     },
     "execution_count": 24,
     "metadata": {},
     "output_type": "execute_result"
    },
    {
     "data": {
      "image/png": "[encoded data removed]",
      "text/plain": [
       "<Figure size 432x288 with 1 Axes>"
      ]
     },
     "metadata": {
      "needs_background": "light"
     },
     "output_type": "display_data"
    }
   ],
   "source": [
    "temp2 = data.pivot_table(values='loan_default',index=['branch_id'],aggfunc=np.mean)\n",
    "# print('Frequency Table for Credit History:') \n",
    "# print(temp2)\n",
    "\n",
    "# fig = plt.figure(figsize=(8,4))\n",
    "# ax1 = fig.add_subplot(121)\n",
    "# ax1.set_xlabel('Credit_History')\n",
    "# ax1.set_ylabel('Count of Applicants')\n",
    "# ax1.set_title(\"Applicants by Credit_History\")\n",
    "temp2.plot(kind='bar')\n",
    "\n"
   ]
  },
  {
   "cell_type": "code",
   "execution_count": 25,
   "metadata": {},
   "outputs": [],
   "source": [
    "#create mean and st dev features\n",
    "\n",
    "\n",
    "ft_name = ['disbursed_amount','asset_cost','ltv','PERFORM_CNS.SCORE','PRIMARY.INSTAL.AMT']\n",
    "\n",
    "\n",
    "#All 208 features - aggregated\n",
    "\n",
    "# ft_name = ['disbursed_amount','asset_cost','ltv','PERFORM_CNS.SCORE','PRIMARY.INSTAL.AMT',\n",
    "#            'PRI.NO.OF.ACCTS', 'PRI.ACTIVE.ACCTS',\n",
    "#        'PRI.OVERDUE.ACCTS', 'PRI.CURRENT.BALANCE', 'PRI.SANCTIONED.AMOUNT',\n",
    "#        'PRI.DISBURSED.AMOUNT', 'SEC.NO.OF.ACCTS', 'SEC.ACTIVE.ACCTS',\n",
    "#        'SEC.OVERDUE.ACCTS', 'SEC.CURRENT.BALANCE', 'SEC.SANCTIONED.AMOUNT',\n",
    "#        'SEC.DISBURSED.AMOUNT', 'SEC.INSTAL.AMT',\n",
    "#        'NEW.ACCTS.IN.LAST.SIX.MONTHS', 'DELINQUENT.ACCTS.IN.LAST.SIX.MONTHS',]\n",
    "\n",
    "\n",
    "    \n",
    "var = ['Current_pincode_ID','branch_id','supplier_id','manufacturer_id','State_ID','Employee_code_ID']\n",
    "# temp2 = data.pivot_table(values='ltv',index=['Current_pincode_ID'],aggfunc=np.std)\n",
    "# # temp2.plot(kind='bar')\n",
    "# temp2.reset_index(inplace=True)\n",
    "# temp2.columns = ['Current_pincode_ID', 'ltv_stdev']\n",
    "for ftname in ft_name:\n",
    "    for var_name in var:\n",
    "        temp3 = data.pivot_table(values=ftname,index=[var_name],aggfunc=np.mean)\n",
    "        # temp2.plot(kind='bar')\n",
    "        temp3.reset_index(inplace=True)\n",
    "        temp3.columns = [var_name, var_name+'_'+ftname+'_mean']\n",
    "        data = data.merge(temp3,on=var_name, how = 'left')\n",
    "        data[var_name+'_stdev'] = data[ftname]-data[var_name+'_'+ftname+'_mean']\n",
    "\n",
    "        # df = pd.concat([temp2,temp3],axis=1)"
   ]
  },
  {
   "cell_type": "code",
   "execution_count": 26,
   "metadata": {},
   "outputs": [],
   "source": [
    "# data = data.merge(temp3,on='Current_pincode_ID', how = 'left')"
   ]
  },
  {
   "cell_type": "code",
   "execution_count": 27,
   "metadata": {},
   "outputs": [],
   "source": [
    "# data['ltv_stdev'] = data['ltv']-data['ltv_mean']"
   ]
  },
  {
   "cell_type": "code",
   "execution_count": null,
   "metadata": {},
   "outputs": [],
   "source": []
  },
  {
   "cell_type": "code",
   "execution_count": null,
   "metadata": {},
   "outputs": [],
   "source": []
  },
  {
   "cell_type": "code",
   "execution_count": null,
   "metadata": {},
   "outputs": [],
   "source": []
  },
  {
   "cell_type": "code",
   "execution_count": 28,
   "metadata": {},
   "outputs": [],
   "source": [
    "data['PERFORM_CNS.SCORE.DESCRIPTION'] = data['PERFORM_CNS.SCORE.DESCRIPTION'].replace(' ', '_', regex=True)"
   ]
  },
  {
   "cell_type": "code",
   "execution_count": 29,
   "metadata": {},
   "outputs": [],
   "source": [
    "#treat categorical variables\n",
    "from sklearn.preprocessing import OneHotEncoder\n",
    "\n",
    "d = pd.DataFrame()\n",
    "\n",
    "var_mod = ['Employment.Type','PERFORM_CNS.SCORE.DESCRIPTION']\n",
    "\n",
    "x = pd.get_dummies(data[var_mod])\n",
    "\n",
    "data  = data.drop(var_mod,axis=1)\n",
    "data = pd.concat([data,x], axis=1)\n",
    "    \n",
    "# for i in var_mod:\n",
    "#     print(i)\n",
    "# #     d[str(i)] \n",
    "#     dd = le.fit_transform(data.loc[:,i]).toarray()\n",
    "#     print(dd.shape)\n",
    "# d.dtypes\n"
   ]
  },
  {
   "cell_type": "code",
   "execution_count": 30,
   "metadata": {},
   "outputs": [
    {
     "data": {
      "text/plain": [
       "(345546, 112)"
      ]
     },
     "execution_count": 30,
     "metadata": {},
     "output_type": "execute_result"
    }
   ],
   "source": [
    "data.shape"
   ]
  },
  {
   "cell_type": "code",
   "execution_count": 31,
   "metadata": {},
   "outputs": [
    {
     "data": {
      "image/png": "[encoded data removed]",
      "text/plain": [
       "<Figure size 432x288 with 1 Axes>"
      ]
     },
     "metadata": {
      "needs_background": "light"
     },
     "output_type": "display_data"
    }
   ],
   "source": [
    "data['ltv'].hist(bins=50)\n",
    "plt.show()"
   ]
  },
  {
   "cell_type": "code",
   "execution_count": 32,
   "metadata": {},
   "outputs": [
    {
     "data": {
      "image/png": "[encoded data removed]",
      "text/plain": [
       "<Figure size 432x288 with 1 Axes>"
      ]
     },
     "metadata": {
      "needs_background": "light"
     },
     "output_type": "display_data"
    }
   ],
   "source": [
    "(data['ltv']**2).hist(bins=50)\n",
    "plt.show()"
   ]
  },
  {
   "cell_type": "code",
   "execution_count": 33,
   "metadata": {},
   "outputs": [
    {
     "data": {
      "image/png": "[encoded data removed]",
      "text/plain": [
       "<Figure size 432x288 with 1 Axes>"
      ]
     },
     "metadata": {
      "needs_background": "light"
     },
     "output_type": "display_data"
    }
   ],
   "source": [
    "(data['ltv']**1/3).hist(bins=50)\n",
    "plt.show()"
   ]
  },
  {
   "cell_type": "code",
   "execution_count": 34,
   "metadata": {},
   "outputs": [],
   "source": [
    "data['log_disbursed_amount'] = np.log(data['disbursed_amount'])\n",
    "data['log_asset_cost'] = np.log(data['asset_cost'])"
   ]
  },
  {
   "cell_type": "code",
   "execution_count": 35,
   "metadata": {},
   "outputs": [],
   "source": [
    "data['ltv_squared'] = data['ltv']**2\n",
    "data['log_ltv'] = np.log(data['ltv'])"
   ]
  },
  {
   "cell_type": "code",
   "execution_count": null,
   "metadata": {},
   "outputs": [],
   "source": []
  },
  {
   "cell_type": "code",
   "execution_count": 36,
   "metadata": {},
   "outputs": [],
   "source": [
    "data['DisbursalDate_month'] = data['DisbursalDate'].map(lambda x : int(x.split('-')[1]))\n",
    "data['DisbursalDate_dayofmonth'] = data['DisbursalDate'].map(lambda x : int(x.split('-')[0]))"
   ]
  },
  {
   "cell_type": "code",
   "execution_count": null,
   "metadata": {},
   "outputs": [],
   "source": []
  },
  {
   "cell_type": "code",
   "execution_count": 37,
   "metadata": {},
   "outputs": [
    {
     "data": {
      "text/plain": [
       "str"
      ]
     },
     "execution_count": 37,
     "metadata": {},
     "output_type": "execute_result"
    }
   ],
   "source": [
    "type(data['AVERAGE.ACCT.AGE'][0])"
   ]
  },
  {
   "cell_type": "code",
   "execution_count": 38,
   "metadata": {},
   "outputs": [
    {
     "data": {
      "text/plain": [
       "str"
      ]
     },
     "execution_count": 38,
     "metadata": {},
     "output_type": "execute_result"
    }
   ],
   "source": [
    "type(data['CREDIT.HISTORY.LENGTH'][0])"
   ]
  },
  {
   "cell_type": "code",
   "execution_count": 39,
   "metadata": {},
   "outputs": [],
   "source": [
    "train_df = data.loc[data['is_train']==1,:]\n",
    "train_df = train_df.drop(['is_train'],axis=1)"
   ]
  },
  {
   "cell_type": "code",
   "execution_count": 40,
   "metadata": {},
   "outputs": [],
   "source": [
    "test_df = data.loc[data['is_train']==0,:]\n",
    "test_df = test_df.drop(['is_train','loan_default'],axis=1)"
   ]
  },
  {
   "cell_type": "code",
   "execution_count": 41,
   "metadata": {},
   "outputs": [
    {
     "data": {
      "text/plain": [
       "index                                                                                    0\n",
       "UniqueID                                                                                 0\n",
       "disbursed_amount                                                                         0\n",
       "asset_cost                                                                               0\n",
       "ltv                                                                                      0\n",
       "branch_id                                                                                0\n",
       "supplier_id                                                                              0\n",
       "manufacturer_id                                                                          0\n",
       "Current_pincode_ID                                                                       0\n",
       "Date.of.Birth                                                                            0\n",
       "DisbursalDate                                                                            0\n",
       "State_ID                                                                                 0\n",
       "Employee_code_ID                                                                         0\n",
       "MobileNo_Avl_Flag                                                                        0\n",
       "Aadhar_flag                                                                              0\n",
       "PAN_flag                                                                                 0\n",
       "VoterID_flag                                                                             0\n",
       "Driving_flag                                                                             0\n",
       "Passport_flag                                                                            0\n",
       "PERFORM_CNS.SCORE                                                                        0\n",
       "PRI.NO.OF.ACCTS                                                                          0\n",
       "PRI.ACTIVE.ACCTS                                                                         0\n",
       "PRI.OVERDUE.ACCTS                                                                        0\n",
       "PRI.CURRENT.BALANCE                                                                      0\n",
       "PRI.SANCTIONED.AMOUNT                                                                    0\n",
       "PRI.DISBURSED.AMOUNT                                                                     0\n",
       "SEC.NO.OF.ACCTS                                                                          0\n",
       "SEC.ACTIVE.ACCTS                                                                         0\n",
       "SEC.OVERDUE.ACCTS                                                                        0\n",
       "SEC.CURRENT.BALANCE                                                                      0\n",
       "                                                                                        ..\n",
       "State_ID_PRIMARY.INSTAL.AMT_mean                                                         0\n",
       "Employee_code_ID_PRIMARY.INSTAL.AMT_mean                                                 0\n",
       "Employment.Type_Salaried                                                                 0\n",
       "Employment.Type_Self employed                                                            0\n",
       "PERFORM_CNS.SCORE.DESCRIPTION_A-Very_Low_Risk                                            0\n",
       "PERFORM_CNS.SCORE.DESCRIPTION_B-Very_Low_Risk                                            0\n",
       "PERFORM_CNS.SCORE.DESCRIPTION_C-Very_Low_Risk                                            0\n",
       "PERFORM_CNS.SCORE.DESCRIPTION_D-Very_Low_Risk                                            0\n",
       "PERFORM_CNS.SCORE.DESCRIPTION_E-Low_Risk                                                 0\n",
       "PERFORM_CNS.SCORE.DESCRIPTION_F-Low_Risk                                                 0\n",
       "PERFORM_CNS.SCORE.DESCRIPTION_G-Low_Risk                                                 0\n",
       "PERFORM_CNS.SCORE.DESCRIPTION_H-Medium_Risk                                              0\n",
       "PERFORM_CNS.SCORE.DESCRIPTION_I-Medium_Risk                                              0\n",
       "PERFORM_CNS.SCORE.DESCRIPTION_J-High_Risk                                                0\n",
       "PERFORM_CNS.SCORE.DESCRIPTION_K-High_Risk                                                0\n",
       "PERFORM_CNS.SCORE.DESCRIPTION_L-Very_High_Risk                                           0\n",
       "PERFORM_CNS.SCORE.DESCRIPTION_M-Very_High_Risk                                           0\n",
       "PERFORM_CNS.SCORE.DESCRIPTION_No_Bureau_History_Available                                0\n",
       "PERFORM_CNS.SCORE.DESCRIPTION_Not_Scored:_More_than_50_active_Accounts_found             0\n",
       "PERFORM_CNS.SCORE.DESCRIPTION_Not_Scored:_No_Activity_seen_on_the_customer_(Inactive)    0\n",
       "PERFORM_CNS.SCORE.DESCRIPTION_Not_Scored:_No_Updates_available_in_last_36_months         0\n",
       "PERFORM_CNS.SCORE.DESCRIPTION_Not_Scored:_Not_Enough_Info_available_on_the_customer      0\n",
       "PERFORM_CNS.SCORE.DESCRIPTION_Not_Scored:_Only_a_Guarantor                               0\n",
       "PERFORM_CNS.SCORE.DESCRIPTION_Not_Scored:_Sufficient_History_Not_Available               0\n",
       "log_disbursed_amount                                                                     0\n",
       "log_asset_cost                                                                           0\n",
       "ltv_squared                                                                              0\n",
       "log_ltv                                                                                  0\n",
       "DisbursalDate_month                                                                      0\n",
       "DisbursalDate_dayofmonth                                                                 0\n",
       "Length: 117, dtype: int64"
      ]
     },
     "execution_count": 41,
     "metadata": {},
     "output_type": "execute_result"
    }
   ],
   "source": [
    "train_df.apply(lambda x: sum(x.isnull()),axis=0)"
   ]
  },
  {
   "cell_type": "code",
   "execution_count": 42,
   "metadata": {},
   "outputs": [
    {
     "data": {
      "text/plain": [
       "index                                                                                    0\n",
       "UniqueID                                                                                 0\n",
       "disbursed_amount                                                                         0\n",
       "asset_cost                                                                               0\n",
       "ltv                                                                                      0\n",
       "branch_id                                                                                0\n",
       "supplier_id                                                                              0\n",
       "manufacturer_id                                                                          0\n",
       "Current_pincode_ID                                                                       0\n",
       "Date.of.Birth                                                                            0\n",
       "DisbursalDate                                                                            0\n",
       "State_ID                                                                                 0\n",
       "Employee_code_ID                                                                         0\n",
       "MobileNo_Avl_Flag                                                                        0\n",
       "Aadhar_flag                                                                              0\n",
       "PAN_flag                                                                                 0\n",
       "VoterID_flag                                                                             0\n",
       "Driving_flag                                                                             0\n",
       "Passport_flag                                                                            0\n",
       "PERFORM_CNS.SCORE                                                                        0\n",
       "PRI.NO.OF.ACCTS                                                                          0\n",
       "PRI.ACTIVE.ACCTS                                                                         0\n",
       "PRI.OVERDUE.ACCTS                                                                        0\n",
       "PRI.CURRENT.BALANCE                                                                      0\n",
       "PRI.SANCTIONED.AMOUNT                                                                    0\n",
       "PRI.DISBURSED.AMOUNT                                                                     0\n",
       "SEC.NO.OF.ACCTS                                                                          0\n",
       "SEC.ACTIVE.ACCTS                                                                         0\n",
       "SEC.OVERDUE.ACCTS                                                                        0\n",
       "SEC.CURRENT.BALANCE                                                                      0\n",
       "                                                                                        ..\n",
       "State_ID_PRIMARY.INSTAL.AMT_mean                                                         0\n",
       "Employee_code_ID_PRIMARY.INSTAL.AMT_mean                                                 0\n",
       "Employment.Type_Salaried                                                                 0\n",
       "Employment.Type_Self employed                                                            0\n",
       "PERFORM_CNS.SCORE.DESCRIPTION_A-Very_Low_Risk                                            0\n",
       "PERFORM_CNS.SCORE.DESCRIPTION_B-Very_Low_Risk                                            0\n",
       "PERFORM_CNS.SCORE.DESCRIPTION_C-Very_Low_Risk                                            0\n",
       "PERFORM_CNS.SCORE.DESCRIPTION_D-Very_Low_Risk                                            0\n",
       "PERFORM_CNS.SCORE.DESCRIPTION_E-Low_Risk                                                 0\n",
       "PERFORM_CNS.SCORE.DESCRIPTION_F-Low_Risk                                                 0\n",
       "PERFORM_CNS.SCORE.DESCRIPTION_G-Low_Risk                                                 0\n",
       "PERFORM_CNS.SCORE.DESCRIPTION_H-Medium_Risk                                              0\n",
       "PERFORM_CNS.SCORE.DESCRIPTION_I-Medium_Risk                                              0\n",
       "PERFORM_CNS.SCORE.DESCRIPTION_J-High_Risk                                                0\n",
       "PERFORM_CNS.SCORE.DESCRIPTION_K-High_Risk                                                0\n",
       "PERFORM_CNS.SCORE.DESCRIPTION_L-Very_High_Risk                                           0\n",
       "PERFORM_CNS.SCORE.DESCRIPTION_M-Very_High_Risk                                           0\n",
       "PERFORM_CNS.SCORE.DESCRIPTION_No_Bureau_History_Available                                0\n",
       "PERFORM_CNS.SCORE.DESCRIPTION_Not_Scored:_More_than_50_active_Accounts_found             0\n",
       "PERFORM_CNS.SCORE.DESCRIPTION_Not_Scored:_No_Activity_seen_on_the_customer_(Inactive)    0\n",
       "PERFORM_CNS.SCORE.DESCRIPTION_Not_Scored:_No_Updates_available_in_last_36_months         0\n",
       "PERFORM_CNS.SCORE.DESCRIPTION_Not_Scored:_Not_Enough_Info_available_on_the_customer      0\n",
       "PERFORM_CNS.SCORE.DESCRIPTION_Not_Scored:_Only_a_Guarantor                               0\n",
       "PERFORM_CNS.SCORE.DESCRIPTION_Not_Scored:_Sufficient_History_Not_Available               0\n",
       "log_disbursed_amount                                                                     0\n",
       "log_asset_cost                                                                           0\n",
       "ltv_squared                                                                              0\n",
       "log_ltv                                                                                  0\n",
       "DisbursalDate_month                                                                      0\n",
       "DisbursalDate_dayofmonth                                                                 0\n",
       "Length: 116, dtype: int64"
      ]
     },
     "execution_count": 42,
     "metadata": {},
     "output_type": "execute_result"
    }
   ],
   "source": [
    "test_df.apply(lambda x: sum(x.isnull()),axis=0)"
   ]
  },
  {
   "cell_type": "code",
   "execution_count": 43,
   "metadata": {},
   "outputs": [
    {
     "data": {
      "text/plain": [
       "((233154, 117), (112392, 116))"
      ]
     },
     "execution_count": 43,
     "metadata": {},
     "output_type": "execute_result"
    }
   ],
   "source": [
    "train_df.shape,test_df.shape"
   ]
  },
  {
   "cell_type": "code",
   "execution_count": 44,
   "metadata": {},
   "outputs": [
    {
     "data": {
      "text/plain": [
       "['index',\n",
       " 'UniqueID',\n",
       " 'disbursed_amount',\n",
       " 'asset_cost',\n",
       " 'ltv',\n",
       " 'branch_id',\n",
       " 'supplier_id',\n",
       " 'manufacturer_id',\n",
       " 'Current_pincode_ID',\n",
       " 'Date.of.Birth',\n",
       " 'DisbursalDate',\n",
       " 'State_ID',\n",
       " 'Employee_code_ID',\n",
       " 'MobileNo_Avl_Flag',\n",
       " 'Aadhar_flag',\n",
       " 'PAN_flag',\n",
       " 'VoterID_flag',\n",
       " 'Driving_flag',\n",
       " 'Passport_flag',\n",
       " 'PERFORM_CNS.SCORE',\n",
       " 'PRI.NO.OF.ACCTS',\n",
       " 'PRI.ACTIVE.ACCTS',\n",
       " 'PRI.OVERDUE.ACCTS',\n",
       " 'PRI.CURRENT.BALANCE',\n",
       " 'PRI.SANCTIONED.AMOUNT',\n",
       " 'PRI.DISBURSED.AMOUNT',\n",
       " 'SEC.NO.OF.ACCTS',\n",
       " 'SEC.ACTIVE.ACCTS',\n",
       " 'SEC.OVERDUE.ACCTS',\n",
       " 'SEC.CURRENT.BALANCE',\n",
       " 'SEC.SANCTIONED.AMOUNT',\n",
       " 'SEC.DISBURSED.AMOUNT',\n",
       " 'PRIMARY.INSTAL.AMT',\n",
       " 'SEC.INSTAL.AMT',\n",
       " 'NEW.ACCTS.IN.LAST.SIX.MONTHS',\n",
       " 'DELINQUENT.ACCTS.IN.LAST.SIX.MONTHS',\n",
       " 'AVERAGE.ACCT.AGE',\n",
       " 'CREDIT.HISTORY.LENGTH',\n",
       " 'NO.OF_INQUIRIES',\n",
       " 'loan_default',\n",
       " 'branch_id_loan_default_mean',\n",
       " 'State_ID_loan_default_mean',\n",
       " 'branch_id_loan_default_sum',\n",
       " 'State_ID_loan_default_sum',\n",
       " 'CREDIT.HISTORY.LENGTH.YEARS',\n",
       " 'CREDIT.HISTORY.LENGTH.MONTHS',\n",
       " 'CREDIT.HISTORY.LENGTH.TOTMONS',\n",
       " 'AVERAGE.ACCT.AGE.YEARS',\n",
       " 'AVERAGE.ACCT.AGE.MONTHS',\n",
       " 'AVERAGE.ACCT.AGE.TOTMONS',\n",
       " 'Date.of.Birth.YEAR',\n",
       " 'Date.of.Birth.YEAR.conv',\n",
       " 'Date.of.Birth.AGE',\n",
       " 'Current_pincode_ID_disbursed_amount_mean',\n",
       " 'Current_pincode_ID_stdev',\n",
       " 'branch_id_disbursed_amount_mean',\n",
       " 'branch_id_stdev',\n",
       " 'supplier_id_disbursed_amount_mean',\n",
       " 'supplier_id_stdev',\n",
       " 'manufacturer_id_disbursed_amount_mean',\n",
       " 'manufacturer_id_stdev',\n",
       " 'State_ID_disbursed_amount_mean',\n",
       " 'State_ID_stdev',\n",
       " 'Employee_code_ID_disbursed_amount_mean',\n",
       " 'Employee_code_ID_stdev',\n",
       " 'Current_pincode_ID_asset_cost_mean',\n",
       " 'branch_id_asset_cost_mean',\n",
       " 'supplier_id_asset_cost_mean',\n",
       " 'manufacturer_id_asset_cost_mean',\n",
       " 'State_ID_asset_cost_mean',\n",
       " 'Employee_code_ID_asset_cost_mean',\n",
       " 'Current_pincode_ID_ltv_mean',\n",
       " 'branch_id_ltv_mean',\n",
       " 'supplier_id_ltv_mean',\n",
       " 'manufacturer_id_ltv_mean',\n",
       " 'State_ID_ltv_mean',\n",
       " 'Employee_code_ID_ltv_mean',\n",
       " 'Current_pincode_ID_PERFORM_CNS.SCORE_mean',\n",
       " 'branch_id_PERFORM_CNS.SCORE_mean',\n",
       " 'supplier_id_PERFORM_CNS.SCORE_mean',\n",
       " 'manufacturer_id_PERFORM_CNS.SCORE_mean',\n",
       " 'State_ID_PERFORM_CNS.SCORE_mean',\n",
       " 'Employee_code_ID_PERFORM_CNS.SCORE_mean',\n",
       " 'Current_pincode_ID_PRIMARY.INSTAL.AMT_mean',\n",
       " 'branch_id_PRIMARY.INSTAL.AMT_mean',\n",
       " 'supplier_id_PRIMARY.INSTAL.AMT_mean',\n",
       " 'manufacturer_id_PRIMARY.INSTAL.AMT_mean',\n",
       " 'State_ID_PRIMARY.INSTAL.AMT_mean',\n",
       " 'Employee_code_ID_PRIMARY.INSTAL.AMT_mean',\n",
       " 'Employment.Type_Salaried',\n",
       " 'Employment.Type_Self employed',\n",
       " 'PERFORM_CNS.SCORE.DESCRIPTION_A-Very_Low_Risk',\n",
       " 'PERFORM_CNS.SCORE.DESCRIPTION_B-Very_Low_Risk',\n",
       " 'PERFORM_CNS.SCORE.DESCRIPTION_C-Very_Low_Risk',\n",
       " 'PERFORM_CNS.SCORE.DESCRIPTION_D-Very_Low_Risk',\n",
       " 'PERFORM_CNS.SCORE.DESCRIPTION_E-Low_Risk',\n",
       " 'PERFORM_CNS.SCORE.DESCRIPTION_F-Low_Risk',\n",
       " 'PERFORM_CNS.SCORE.DESCRIPTION_G-Low_Risk',\n",
       " 'PERFORM_CNS.SCORE.DESCRIPTION_H-Medium_Risk',\n",
       " 'PERFORM_CNS.SCORE.DESCRIPTION_I-Medium_Risk',\n",
       " 'PERFORM_CNS.SCORE.DESCRIPTION_J-High_Risk',\n",
       " 'PERFORM_CNS.SCORE.DESCRIPTION_K-High_Risk',\n",
       " 'PERFORM_CNS.SCORE.DESCRIPTION_L-Very_High_Risk',\n",
       " 'PERFORM_CNS.SCORE.DESCRIPTION_M-Very_High_Risk',\n",
       " 'PERFORM_CNS.SCORE.DESCRIPTION_No_Bureau_History_Available',\n",
       " 'PERFORM_CNS.SCORE.DESCRIPTION_Not_Scored:_More_than_50_active_Accounts_found',\n",
       " 'PERFORM_CNS.SCORE.DESCRIPTION_Not_Scored:_No_Activity_seen_on_the_customer_(Inactive)',\n",
       " 'PERFORM_CNS.SCORE.DESCRIPTION_Not_Scored:_No_Updates_available_in_last_36_months',\n",
       " 'PERFORM_CNS.SCORE.DESCRIPTION_Not_Scored:_Not_Enough_Info_available_on_the_customer',\n",
       " 'PERFORM_CNS.SCORE.DESCRIPTION_Not_Scored:_Only_a_Guarantor',\n",
       " 'PERFORM_CNS.SCORE.DESCRIPTION_Not_Scored:_Sufficient_History_Not_Available',\n",
       " 'log_disbursed_amount',\n",
       " 'log_asset_cost',\n",
       " 'ltv_squared',\n",
       " 'log_ltv',\n",
       " 'DisbursalDate_month',\n",
       " 'DisbursalDate_dayofmonth']"
      ]
     },
     "execution_count": 44,
     "metadata": {},
     "output_type": "execute_result"
    }
   ],
   "source": [
    "list(train_df.columns)"
   ]
  },
  {
   "cell_type": "code",
   "execution_count": 45,
   "metadata": {},
   "outputs": [],
   "source": [
    "# predictors = [\n",
    "#  'disbursed_amount',\n",
    "#  'asset_cost',\n",
    "#  'ltv',\n",
    "#  'branch_id',\n",
    "#  'supplier_id',\n",
    "#  'manufacturer_id',\n",
    "#  'Current_pincode_ID',\n",
    "#  'State_ID',\n",
    "#  'Employee_code_ID',\n",
    "#  'MobileNo_Avl_Flag',\n",
    "#  'Aadhar_flag',\n",
    "#  'PAN_flag',\n",
    "#  'VoterID_flag',\n",
    "#  'Driving_flag',\n",
    "#  'Passport_flag',\n",
    "#  'PERFORM_CNS.SCORE',\n",
    "#  'PRI.NO.OF.ACCTS',\n",
    "#  'PRI.ACTIVE.ACCTS',\n",
    "#  'PRI.OVERDUE.ACCTS',\n",
    "#  'PRI.CURRENT.BALANCE',\n",
    "#  'PRI.SANCTIONED.AMOUNT',\n",
    "#  'PRI.DISBURSED.AMOUNT',\n",
    "#  'SEC.NO.OF.ACCTS',\n",
    "#  'SEC.ACTIVE.ACCTS',\n",
    "#  'SEC.OVERDUE.ACCTS',\n",
    "#  'SEC.CURRENT.BALANCE',\n",
    "#  'SEC.SANCTIONED.AMOUNT',\n",
    "#  'SEC.DISBURSED.AMOUNT',\n",
    "#  'PRIMARY.INSTAL.AMT',\n",
    "#  'SEC.INSTAL.AMT',\n",
    "#  'NEW.ACCTS.IN.LAST.SIX.MONTHS',\n",
    "#  'DELINQUENT.ACCTS.IN.LAST.SIX.MONTHS',\n",
    "#  'NO.OF_INQUIRIES',\n",
    "#  'branch_id_loan_default_mean',\n",
    "#  'State_ID_loan_default_mean',\n",
    "#  'branch_id_loan_default_sum',\n",
    "#  'State_ID_loan_default_sum',\n",
    "#  'CREDIT.HISTORY.LENGTH.YEARS',\n",
    "#  'CREDIT.HISTORY.LENGTH.MONTHS',\n",
    "#  'CREDIT.HISTORY.LENGTH.TOTMONS',\n",
    "#  'AVERAGE.ACCT.AGE.YEARS',\n",
    "#  'AVERAGE.ACCT.AGE.MONTHS',\n",
    "#  'AVERAGE.ACCT.AGE.TOTMONS',\n",
    "#  'Date.of.Birth.YEAR',\n",
    "#  'Date.of.Birth.YEAR.conv',\n",
    "#  'Date.of.Birth.AGE',\n",
    "#  'Current_pincode_ID_disbursed_amount_mean',\n",
    "#  'Current_pincode_ID_stdev',\n",
    "#  'branch_id_disbursed_amount_mean',\n",
    "#  'branch_id_stdev',\n",
    "#  'supplier_id_disbursed_amount_mean',\n",
    "#  'supplier_id_stdev',\n",
    "#  'manufacturer_id_disbursed_amount_mean',\n",
    "#  'manufacturer_id_stdev',\n",
    "#  'State_ID_disbursed_amount_mean',\n",
    "#  'State_ID_stdev',\n",
    "#  'Employee_code_ID_disbursed_amount_mean',\n",
    "#  'Employee_code_ID_stdev',\n",
    "#  'Current_pincode_ID_asset_cost_mean',\n",
    "#  'branch_id_asset_cost_mean',\n",
    "#  'supplier_id_asset_cost_mean',\n",
    "#  'manufacturer_id_asset_cost_mean',\n",
    "#  'State_ID_asset_cost_mean',\n",
    "#  'Employee_code_ID_asset_cost_mean',\n",
    "#  'Current_pincode_ID_ltv_mean',\n",
    "#  'branch_id_ltv_mean',\n",
    "#  'supplier_id_ltv_mean',\n",
    "#  'manufacturer_id_ltv_mean',\n",
    "#  'State_ID_ltv_mean',\n",
    "#  'Employee_code_ID_ltv_mean',\n",
    "#  'Current_pincode_ID_PERFORM_CNS.SCORE_mean',\n",
    "#  'branch_id_PERFORM_CNS.SCORE_mean',\n",
    "#  'supplier_id_PERFORM_CNS.SCORE_mean',\n",
    "#  'manufacturer_id_PERFORM_CNS.SCORE_mean',\n",
    "#  'State_ID_PERFORM_CNS.SCORE_mean',\n",
    "#  'Employee_code_ID_PERFORM_CNS.SCORE_mean',\n",
    "#  'Current_pincode_ID_PRIMARY.INSTAL.AMT_mean',\n",
    "#  'branch_id_PRIMARY.INSTAL.AMT_mean',\n",
    "#  'supplier_id_PRIMARY.INSTAL.AMT_mean',\n",
    "#  'manufacturer_id_PRIMARY.INSTAL.AMT_mean',\n",
    "#  'State_ID_PRIMARY.INSTAL.AMT_mean',\n",
    "#  'Employee_code_ID_PRIMARY.INSTAL.AMT_mean',\n",
    "#  'Current_pincode_ID_PRI.NO.OF.ACCTS_mean',\n",
    "#  'branch_id_PRI.NO.OF.ACCTS_mean',\n",
    "#  'supplier_id_PRI.NO.OF.ACCTS_mean',\n",
    "#  'manufacturer_id_PRI.NO.OF.ACCTS_mean',\n",
    "#  'State_ID_PRI.NO.OF.ACCTS_mean',\n",
    "#  'Employee_code_ID_PRI.NO.OF.ACCTS_mean',\n",
    "#  'Current_pincode_ID_PRI.ACTIVE.ACCTS_mean',\n",
    "#  'branch_id_PRI.ACTIVE.ACCTS_mean',\n",
    "#  'supplier_id_PRI.ACTIVE.ACCTS_mean',\n",
    "#  'manufacturer_id_PRI.ACTIVE.ACCTS_mean',\n",
    "#  'State_ID_PRI.ACTIVE.ACCTS_mean',\n",
    "#  'Employee_code_ID_PRI.ACTIVE.ACCTS_mean',\n",
    "#  'Current_pincode_ID_PRI.OVERDUE.ACCTS_mean',\n",
    "#  'branch_id_PRI.OVERDUE.ACCTS_mean',\n",
    "#  'supplier_id_PRI.OVERDUE.ACCTS_mean',\n",
    "#  'manufacturer_id_PRI.OVERDUE.ACCTS_mean',\n",
    "#  'State_ID_PRI.OVERDUE.ACCTS_mean',\n",
    "#  'Employee_code_ID_PRI.OVERDUE.ACCTS_mean',\n",
    "#  'Current_pincode_ID_PRI.CURRENT.BALANCE_mean',\n",
    "#  'branch_id_PRI.CURRENT.BALANCE_mean',\n",
    "#  'supplier_id_PRI.CURRENT.BALANCE_mean',\n",
    "#  'manufacturer_id_PRI.CURRENT.BALANCE_mean',\n",
    "#  'State_ID_PRI.CURRENT.BALANCE_mean',\n",
    "#  'Employee_code_ID_PRI.CURRENT.BALANCE_mean',\n",
    "#  'Current_pincode_ID_PRI.SANCTIONED.AMOUNT_mean',\n",
    "#  'branch_id_PRI.SANCTIONED.AMOUNT_mean',\n",
    "#  'supplier_id_PRI.SANCTIONED.AMOUNT_mean',\n",
    "#  'manufacturer_id_PRI.SANCTIONED.AMOUNT_mean',\n",
    "#  'State_ID_PRI.SANCTIONED.AMOUNT_mean',\n",
    "#  'Employee_code_ID_PRI.SANCTIONED.AMOUNT_mean',\n",
    "#  'Current_pincode_ID_PRI.DISBURSED.AMOUNT_mean',\n",
    "#  'branch_id_PRI.DISBURSED.AMOUNT_mean',\n",
    "#  'supplier_id_PRI.DISBURSED.AMOUNT_mean',\n",
    "#  'manufacturer_id_PRI.DISBURSED.AMOUNT_mean',\n",
    "#  'State_ID_PRI.DISBURSED.AMOUNT_mean',\n",
    "#  'Employee_code_ID_PRI.DISBURSED.AMOUNT_mean',\n",
    "#  'Current_pincode_ID_SEC.NO.OF.ACCTS_mean',\n",
    "#  'branch_id_SEC.NO.OF.ACCTS_mean',\n",
    "#  'supplier_id_SEC.NO.OF.ACCTS_mean',\n",
    "#  'manufacturer_id_SEC.NO.OF.ACCTS_mean',\n",
    "#  'State_ID_SEC.NO.OF.ACCTS_mean',\n",
    "#  'Employee_code_ID_SEC.NO.OF.ACCTS_mean',\n",
    "#  'Current_pincode_ID_SEC.ACTIVE.ACCTS_mean',\n",
    "#  'branch_id_SEC.ACTIVE.ACCTS_mean',\n",
    "#  'supplier_id_SEC.ACTIVE.ACCTS_mean',\n",
    "#  'manufacturer_id_SEC.ACTIVE.ACCTS_mean',\n",
    "#  'State_ID_SEC.ACTIVE.ACCTS_mean',\n",
    "#  'Employee_code_ID_SEC.ACTIVE.ACCTS_mean',\n",
    "#  'Current_pincode_ID_SEC.OVERDUE.ACCTS_mean',\n",
    "#  'branch_id_SEC.OVERDUE.ACCTS_mean',\n",
    "#  'supplier_id_SEC.OVERDUE.ACCTS_mean',\n",
    "#  'manufacturer_id_SEC.OVERDUE.ACCTS_mean',\n",
    "#  'State_ID_SEC.OVERDUE.ACCTS_mean',\n",
    "#  'Employee_code_ID_SEC.OVERDUE.ACCTS_mean',\n",
    "#  'Current_pincode_ID_SEC.CURRENT.BALANCE_mean',\n",
    "#  'branch_id_SEC.CURRENT.BALANCE_mean',\n",
    "#  'supplier_id_SEC.CURRENT.BALANCE_mean',\n",
    "#  'manufacturer_id_SEC.CURRENT.BALANCE_mean',\n",
    "#  'State_ID_SEC.CURRENT.BALANCE_mean',\n",
    "#  'Employee_code_ID_SEC.CURRENT.BALANCE_mean',\n",
    "#  'Current_pincode_ID_SEC.SANCTIONED.AMOUNT_mean',\n",
    "#  'branch_id_SEC.SANCTIONED.AMOUNT_mean',\n",
    "#  'supplier_id_SEC.SANCTIONED.AMOUNT_mean',\n",
    "#  'manufacturer_id_SEC.SANCTIONED.AMOUNT_mean',\n",
    "#  'State_ID_SEC.SANCTIONED.AMOUNT_mean',\n",
    "#  'Employee_code_ID_SEC.SANCTIONED.AMOUNT_mean',\n",
    "#  'Current_pincode_ID_SEC.DISBURSED.AMOUNT_mean',\n",
    "#  'branch_id_SEC.DISBURSED.AMOUNT_mean',\n",
    "#  'supplier_id_SEC.DISBURSED.AMOUNT_mean',\n",
    "#  'manufacturer_id_SEC.DISBURSED.AMOUNT_mean',\n",
    "#  'State_ID_SEC.DISBURSED.AMOUNT_mean',\n",
    "#  'Employee_code_ID_SEC.DISBURSED.AMOUNT_mean',\n",
    "#  'Current_pincode_ID_SEC.INSTAL.AMT_mean',\n",
    "#  'branch_id_SEC.INSTAL.AMT_mean',\n",
    "#  'supplier_id_SEC.INSTAL.AMT_mean',\n",
    "#  'manufacturer_id_SEC.INSTAL.AMT_mean',\n",
    "#  'State_ID_SEC.INSTAL.AMT_mean',\n",
    "#  'Employee_code_ID_SEC.INSTAL.AMT_mean',\n",
    "#  'Current_pincode_ID_NEW.ACCTS.IN.LAST.SIX.MONTHS_mean',\n",
    "#  'branch_id_NEW.ACCTS.IN.LAST.SIX.MONTHS_mean',\n",
    "#  'supplier_id_NEW.ACCTS.IN.LAST.SIX.MONTHS_mean',\n",
    "#  'manufacturer_id_NEW.ACCTS.IN.LAST.SIX.MONTHS_mean',\n",
    "#  'State_ID_NEW.ACCTS.IN.LAST.SIX.MONTHS_mean',\n",
    "#  'Employee_code_ID_NEW.ACCTS.IN.LAST.SIX.MONTHS_mean',\n",
    "#  'Current_pincode_ID_DELINQUENT.ACCTS.IN.LAST.SIX.MONTHS_mean',\n",
    "#  'branch_id_DELINQUENT.ACCTS.IN.LAST.SIX.MONTHS_mean',\n",
    "#  'supplier_id_DELINQUENT.ACCTS.IN.LAST.SIX.MONTHS_mean',\n",
    "#  'manufacturer_id_DELINQUENT.ACCTS.IN.LAST.SIX.MONTHS_mean',\n",
    "#  'State_ID_DELINQUENT.ACCTS.IN.LAST.SIX.MONTHS_mean',\n",
    "#  'Employee_code_ID_DELINQUENT.ACCTS.IN.LAST.SIX.MONTHS_mean',\n",
    "#  'Employment.Type_Salaried',\n",
    "#  'Employment.Type_Self employed',\n",
    "#  'PERFORM_CNS.SCORE.DESCRIPTION_A-Very_Low_Risk',\n",
    "#  'PERFORM_CNS.SCORE.DESCRIPTION_B-Very_Low_Risk',\n",
    "#  'PERFORM_CNS.SCORE.DESCRIPTION_C-Very_Low_Risk',\n",
    "#  'PERFORM_CNS.SCORE.DESCRIPTION_D-Very_Low_Risk',\n",
    "#  'PERFORM_CNS.SCORE.DESCRIPTION_E-Low_Risk',\n",
    "#  'PERFORM_CNS.SCORE.DESCRIPTION_F-Low_Risk',\n",
    "#  'PERFORM_CNS.SCORE.DESCRIPTION_G-Low_Risk',\n",
    "#  'PERFORM_CNS.SCORE.DESCRIPTION_H-Medium_Risk',\n",
    "#  'PERFORM_CNS.SCORE.DESCRIPTION_I-Medium_Risk',\n",
    "#  'PERFORM_CNS.SCORE.DESCRIPTION_J-High_Risk',\n",
    "#  'PERFORM_CNS.SCORE.DESCRIPTION_K-High_Risk',\n",
    "#  'PERFORM_CNS.SCORE.DESCRIPTION_L-Very_High_Risk',\n",
    "#  'PERFORM_CNS.SCORE.DESCRIPTION_M-Very_High_Risk',\n",
    "#  'PERFORM_CNS.SCORE.DESCRIPTION_No_Bureau_History_Available',\n",
    "#  'PERFORM_CNS.SCORE.DESCRIPTION_Not_Scored:_More_than_50_active_Accounts_found',\n",
    "#  'PERFORM_CNS.SCORE.DESCRIPTION_Not_Scored:_No_Activity_seen_on_the_customer_(Inactive)',\n",
    "#  'PERFORM_CNS.SCORE.DESCRIPTION_Not_Scored:_No_Updates_available_in_last_36_months',\n",
    "#  'PERFORM_CNS.SCORE.DESCRIPTION_Not_Scored:_Not_Enough_Info_available_on_the_customer',\n",
    "#  'PERFORM_CNS.SCORE.DESCRIPTION_Not_Scored:_Only_a_Guarantor',\n",
    "#  'PERFORM_CNS.SCORE.DESCRIPTION_Not_Scored:_Sufficient_History_Not_Available',\n",
    "#  'log_disbursed_amount',\n",
    "#  'log_asset_cost',\n",
    "#  'ltv_squared',\n",
    "#  'DisbursalDate_month',\n",
    "#  'DisbursalDate_dayofmonth'\n",
    "#              ]"
   ]
  },
  {
   "cell_type": "code",
   "execution_count": 46,
   "metadata": {},
   "outputs": [],
   "source": [
    "\n",
    "##Single best model predictors\n",
    "\n",
    "\n",
    "\n",
    "predictors = ['disbursed_amount', 'asset_cost', 'ltv',\n",
    "       'branch_id', 'supplier_id', 'manufacturer_id', 'Current_pincode_ID',\n",
    "       'State_ID', 'Employee_code_ID',\n",
    "       'MobileNo_Avl_Flag', 'Aadhar_flag', 'PAN_flag', 'VoterID_flag',\n",
    "       'Driving_flag', 'Passport_flag', 'PERFORM_CNS.SCORE', 'PRI.NO.OF.ACCTS',\n",
    "       'PRI.ACTIVE.ACCTS', 'PRI.OVERDUE.ACCTS', 'PRI.CURRENT.BALANCE',\n",
    "       'PRI.SANCTIONED.AMOUNT', 'PRI.DISBURSED.AMOUNT', 'SEC.NO.OF.ACCTS',\n",
    "       'SEC.ACTIVE.ACCTS', 'SEC.OVERDUE.ACCTS', 'SEC.CURRENT.BALANCE',\n",
    "       'SEC.SANCTIONED.AMOUNT', 'SEC.DISBURSED.AMOUNT', 'PRIMARY.INSTAL.AMT',\n",
    "       'SEC.INSTAL.AMT', 'NEW.ACCTS.IN.LAST.SIX.MONTHS',\n",
    "       'DELINQUENT.ACCTS.IN.LAST.SIX.MONTHS', 'NO.OF_INQUIRIES',\n",
    "       'CREDIT.HISTORY.LENGTH.YEARS', 'CREDIT.HISTORY.LENGTH.MONTHS',\n",
    "       'CREDIT.HISTORY.LENGTH.TOTMONS', 'AVERAGE.ACCT.AGE.YEARS',\n",
    "       'AVERAGE.ACCT.AGE.MONTHS', 'AVERAGE.ACCT.AGE.TOTMONS',\n",
    "       'Date.of.Birth.YEAR', 'Date.of.Birth.YEAR.conv', 'Date.of.Birth.AGE',\n",
    "       'Employment.Type_Salaried', 'Employment.Type_Self employed',\n",
    "       'PERFORM_CNS.SCORE.DESCRIPTION_A-Very_Low_Risk',\n",
    "       'PERFORM_CNS.SCORE.DESCRIPTION_B-Very_Low_Risk',\n",
    "       'PERFORM_CNS.SCORE.DESCRIPTION_C-Very_Low_Risk',\n",
    "       'PERFORM_CNS.SCORE.DESCRIPTION_D-Very_Low_Risk',\n",
    "       'PERFORM_CNS.SCORE.DESCRIPTION_E-Low_Risk',\n",
    "       'PERFORM_CNS.SCORE.DESCRIPTION_F-Low_Risk',\n",
    "       'PERFORM_CNS.SCORE.DESCRIPTION_G-Low_Risk',\n",
    "       'PERFORM_CNS.SCORE.DESCRIPTION_H-Medium_Risk',\n",
    "       'PERFORM_CNS.SCORE.DESCRIPTION_I-Medium_Risk',\n",
    "       'PERFORM_CNS.SCORE.DESCRIPTION_J-High_Risk',\n",
    "       'PERFORM_CNS.SCORE.DESCRIPTION_K-High_Risk',\n",
    "       'PERFORM_CNS.SCORE.DESCRIPTION_L-Very_High_Risk',\n",
    "       'PERFORM_CNS.SCORE.DESCRIPTION_M-Very_High_Risk',\n",
    "       'PERFORM_CNS.SCORE.DESCRIPTION_No_Bureau_History_Available',\n",
    "       'PERFORM_CNS.SCORE.DESCRIPTION_Not_Scored:_More_than_50_active_Accounts_found',\n",
    "       'PERFORM_CNS.SCORE.DESCRIPTION_Not_Scored:_No_Activity_seen_on_the_customer_(Inactive)',\n",
    "       'PERFORM_CNS.SCORE.DESCRIPTION_Not_Scored:_No_Updates_available_in_last_36_months',\n",
    "       'PERFORM_CNS.SCORE.DESCRIPTION_Not_Scored:_Not_Enough_Info_available_on_the_customer',\n",
    "       'PERFORM_CNS.SCORE.DESCRIPTION_Not_Scored:_Only_a_Guarantor',\n",
    "       'PERFORM_CNS.SCORE.DESCRIPTION_Not_Scored:_Sufficient_History_Not_Available',\n",
    "       'log_disbursed_amount', 'log_asset_cost', 'DisbursalDate_month',\n",
    "       'DisbursalDate_dayofmonth','Current_pincode_ID_disbursed_amount_mean',\n",
    " 'Current_pincode_ID_stdev',\n",
    " 'branch_id_disbursed_amount_mean',\n",
    " 'branch_id_stdev',\n",
    " 'supplier_id_disbursed_amount_mean',\n",
    " 'supplier_id_stdev',\n",
    " 'manufacturer_id_disbursed_amount_mean',\n",
    " 'manufacturer_id_stdev',\n",
    " 'State_ID_disbursed_amount_mean',\n",
    " 'State_ID_stdev',\n",
    " 'Employee_code_ID_disbursed_amount_mean',\n",
    " 'Employee_code_ID_stdev',\n",
    " 'Current_pincode_ID_asset_cost_mean',\n",
    " 'branch_id_asset_cost_mean',\n",
    " 'supplier_id_asset_cost_mean',\n",
    " 'manufacturer_id_asset_cost_mean',\n",
    " 'State_ID_asset_cost_mean',\n",
    " 'Employee_code_ID_asset_cost_mean',\n",
    " 'Current_pincode_ID_ltv_mean',\n",
    " 'branch_id_ltv_mean',\n",
    " 'supplier_id_ltv_mean',\n",
    " 'manufacturer_id_ltv_mean',\n",
    " 'State_ID_ltv_mean',\n",
    " 'Employee_code_ID_ltv_mean',\n",
    " 'Current_pincode_ID_PERFORM_CNS.SCORE_mean',\n",
    " 'branch_id_PERFORM_CNS.SCORE_mean',\n",
    " 'supplier_id_PERFORM_CNS.SCORE_mean',\n",
    " 'manufacturer_id_PERFORM_CNS.SCORE_mean',\n",
    " 'State_ID_PERFORM_CNS.SCORE_mean',\n",
    " 'Employee_code_ID_PERFORM_CNS.SCORE_mean',\n",
    " 'Current_pincode_ID_PRIMARY.INSTAL.AMT_mean',\n",
    " 'branch_id_PRIMARY.INSTAL.AMT_mean',\n",
    " 'supplier_id_PRIMARY.INSTAL.AMT_mean',\n",
    " 'manufacturer_id_PRIMARY.INSTAL.AMT_mean',\n",
    " 'State_ID_PRIMARY.INSTAL.AMT_mean',\n",
    " 'Employee_code_ID_PRIMARY.INSTAL.AMT_mean','branch_id_loan_default_mean',\n",
    "       'State_ID_loan_default_mean', 'branch_id_loan_default_sum',\n",
    "       'State_ID_loan_default_sum','ltv_squared','log_ltv']\n",
    "\n",
    "\n",
    "outcome = ['loan_default']"
   ]
  },
  {
   "cell_type": "code",
   "execution_count": 47,
   "metadata": {},
   "outputs": [],
   "source": [
    "from sklearn.model_selection import train_test_split\n",
    "\n",
    "X_train, X_validation, y_train, y_validation = train_test_split(train_df[predictors], train_df[outcome], test_size=0.3, random_state=1234)"
   ]
  },
  {
   "cell_type": "code",
   "execution_count": 48,
   "metadata": {},
   "outputs": [
    {
     "data": {
      "text/plain": [
       "((163207, 110), (69947, 110))"
      ]
     },
     "execution_count": 48,
     "metadata": {},
     "output_type": "execute_result"
    }
   ],
   "source": [
    "X_train.shape,X_validation.shape"
   ]
  },
  {
   "cell_type": "code",
   "execution_count": null,
   "metadata": {},
   "outputs": [],
   "source": []
  },
  {
   "cell_type": "code",
   "execution_count": 49,
   "metadata": {},
   "outputs": [],
   "source": [
    "import xgboost as xgb\n",
    "from xgboost.sklearn import XGBClassifier\n",
    "from sklearn.model_selection import cross_validate\n",
    "from sklearn import metrics \n",
    "from sklearn.model_selection import GridSearchCV   #Perforing grid search\n",
    "from sklearn.model_selection import cross_validate\n",
    "from sklearn.model_selection import KFold"
   ]
  },
  {
   "cell_type": "code",
   "execution_count": 50,
   "metadata": {},
   "outputs": [],
   "source": [
    "\n",
    "alg = XGBClassifier()"
   ]
  },
  {
   "cell_type": "code",
   "execution_count": null,
   "metadata": {},
   "outputs": [],
   "source": [
    "#kf = loo.split(X_train_std[predictor_var])\n",
    "kf = KFold(n_splits=10).split(X_train[['State_ID','branch_id']])\n",
    "# ['branch_id', 'supplier_id', 'manufacturer_id', 'Current_pincode_ID','State_ID', 'Employee_code_ID']\n",
    "error = []\n",
    "# yavg = pd.DataFrame()\n",
    "\n",
    "for train, test in kf:\n",
    "    # Filter training data\n",
    "    print(\"training stared\")\n",
    "    train_predictors = X_train[predictors].iloc[train,:]\n",
    "\n",
    "    # The target we're using to train the algorithm.\n",
    "    train_target = y_train.iloc[train].values\n",
    "\n",
    "    # Training the algorithm using the predictors and target.\n",
    "    alg.fit(train_predictors, train_target)\n",
    "    y1 = alg.predict(X_train[predictors].iloc[test,:])\n",
    "#     yavg = yavg.append(pd.Series(y1),ignore_index=True)\n",
    "\n",
    "    #Record error from each cross-validation run\n",
    "    error.append(metrics.roc_auc_score(y_train.iloc[test], y1))\n",
    "    print('score for current fold',metrics.roc_auc_score(y_train.iloc[test], y1))\n",
    "    print(\"training finished\")\n",
    "print (\"Cross-Validation AUC Score : %f\" % np.mean(error))\n"
   ]
  },
  {
   "cell_type": "code",
   "execution_count": null,
   "metadata": {},
   "outputs": [],
   "source": []
  },
  {
   "cell_type": "code",
   "execution_count": 50,
   "metadata": {},
   "outputs": [],
   "source": [
    "def modelfit(alg, dtrain,ytrain,dtest,ytest,test,sub_df, predictors,outcome_var,useTrainCV=True, cv_folds=5, early_stopping_rounds=50):\n",
    "    \n",
    "    if useTrainCV:\n",
    "        xgb_param = alg.get_xgb_params()\n",
    "        xgtrain = xgb.DMatrix(dtrain[predictors].values, label=ytrain.values)\n",
    "        cvresult = xgb.cv(xgb_param, xgtrain, num_boost_round=alg.get_params()['n_estimators'], nfold=cv_folds,\n",
    "            metrics='auc', early_stopping_rounds=early_stopping_rounds,verbose_eval=True,\n",
    "            show_stdv=True)\n",
    "        alg.set_params(n_estimators=cvresult.shape[0])\n",
    "    \n",
    "    #Fit the algorithm on the data\n",
    "    alg.fit(dtrain[predictors], ytrain,eval_metric='auc')\n",
    "        \n",
    "    #Predict training set:\n",
    "    dtrain_predictions = alg.predict(dtest[predictors])\n",
    "    dtrain_predprob = alg.predict_proba(dtest[predictors])[:,1]\n",
    "    \n",
    "    dtrain_predprob1 = alg.predict_proba(test[predictors])[:,1]\n",
    "    sub_df['loan_default']= dtrain_predprob1\n",
    "    sub_df.to_csv('sub1.csv',index=False)    \n",
    "    #Print model report:\n",
    "    print(\"\\nModel Report\")\n",
    "    print(\"Accuracy : %.4g\" % metrics.accuracy_score(ytest.values, dtrain_predictions))\n",
    "    print(\"AUC Score (Train): %f\" % metrics.roc_auc_score(ytest, dtrain_predprob))\n",
    "                    \n",
    "    feat_imp = pd.Series(alg.get_booster().get_fscore()).sort_values(ascending=False)\n",
    "    feat_imp.plot(kind='bar', title='Feature Importances')\n",
    "    plt.ylabel('Feature Importance Score')  \n",
    "  "
   ]
  },
  {
   "cell_type": "code",
   "execution_count": 51,
   "metadata": {},
   "outputs": [],
   "source": [
    "def modelfit_mod(alg, dtrain,ytrain,dtest,ytest,test,sub_df, predictors,outcome_var,useTrainCV=True, cv_folds=5, early_stopping_rounds=50):\n",
    "    \n",
    "    if useTrainCV:\n",
    "        xgb_param = alg.get_xgb_params()\n",
    "        xgtrain = xgb.DMatrix(dtrain[predictors].values, label=ytrain.values)\n",
    "        cvresult = xgb.cv(xgb_param, xgtrain, num_boost_round=alg.get_params()['n_estimators'], nfold=cv_folds,\n",
    "            metrics='auc', early_stopping_rounds=early_stopping_rounds,verbose_eval=True,\n",
    "            show_stdv=True)\n",
    "        alg.set_params(n_estimators=cvresult.shape[0])\n",
    "    \n",
    "    #Fit the algorithm on the data\n",
    "    alg.fit(dtrain[predictors], ytrain)\n",
    "        \n",
    "    #Predict training set:\n",
    "    dtrain_predictions = alg.predict(dtest[predictors])\n",
    "    dtrain_predprob = alg.predict_proba(dtest[predictors])[:,1]\n",
    "    \n",
    "    dtrain_predprob1 = alg.predict_proba(test[predictors])[:,1]\n",
    "#     sub_df['loan_default']= dtrain_predprob1\n",
    "#     sub_df.to_csv('sub1.csv',index=False)    \n",
    "    #Print model report:\n",
    "    print(\"\\nModel Report\")\n",
    "    print(\"Accuracy : %.4g\" % metrics.accuracy_score(ytest.values, dtrain_predictions))\n",
    "    print(\"AUC Score (Train): %f\" % metrics.roc_auc_score(ytest, dtrain_predprob))\n",
    "                    \n",
    "#     feat_imp = pd.Series(alg.get_booster().get_fscore()).sort_values(ascending=False)\n",
    "#     feat_imp.plot(kind='bar', title='Feature Importances')\n",
    "#     plt.ylabel('Feature Importance Score')  \n",
    "  "
   ]
  },
  {
   "cell_type": "code",
   "execution_count": 72,
   "metadata": {},
   "outputs": [
    {
     "ename": "AttributeError",
     "evalue": "'XGBClassifier' object has no attribute 'DMatrix'",
     "output_type": "error",
     "traceback": [
      "\u001b[0;31m---------------------------------------------------------------------------\u001b[0m",
      "\u001b[0;31mAttributeError\u001b[0m                            Traceback (most recent call last)",
      "\u001b[0;32m<timed eval>\u001b[0m in \u001b[0;36m<module>\u001b[0;34m\u001b[0m\n",
      "\u001b[0;32m<ipython-input-51-cdcd369d4929>\u001b[0m in \u001b[0;36mmodelfit\u001b[0;34m(alg, dtrain, ytrain, dtest, ytest, test, sub_df, predictors, outcome_var, useTrainCV, cv_folds, early_stopping_rounds)\u001b[0m\n\u001b[1;32m      3\u001b[0m     \u001b[0;32mif\u001b[0m \u001b[0museTrainCV\u001b[0m\u001b[0;34m:\u001b[0m\u001b[0;34m\u001b[0m\u001b[0;34m\u001b[0m\u001b[0m\n\u001b[1;32m      4\u001b[0m         \u001b[0mxgb_param\u001b[0m \u001b[0;34m=\u001b[0m \u001b[0malg\u001b[0m\u001b[0;34m.\u001b[0m\u001b[0mget_xgb_params\u001b[0m\u001b[0;34m(\u001b[0m\u001b[0;34m)\u001b[0m\u001b[0;34m\u001b[0m\u001b[0;34m\u001b[0m\u001b[0m\n\u001b[0;32m----> 5\u001b[0;31m         \u001b[0mxgtrain\u001b[0m \u001b[0;34m=\u001b[0m \u001b[0mxgb\u001b[0m\u001b[0;34m.\u001b[0m\u001b[0mDMatrix\u001b[0m\u001b[0;34m(\u001b[0m\u001b[0mdtrain\u001b[0m\u001b[0;34m[\u001b[0m\u001b[0mpredictors\u001b[0m\u001b[0;34m]\u001b[0m\u001b[0;34m.\u001b[0m\u001b[0mvalues\u001b[0m\u001b[0;34m,\u001b[0m \u001b[0mlabel\u001b[0m\u001b[0;34m=\u001b[0m\u001b[0mytrain\u001b[0m\u001b[0;34m.\u001b[0m\u001b[0mvalues\u001b[0m\u001b[0;34m)\u001b[0m\u001b[0;34m\u001b[0m\u001b[0;34m\u001b[0m\u001b[0m\n\u001b[0m\u001b[1;32m      6\u001b[0m         cvresult = xgb.cv(xgb_param, xgtrain, num_boost_round=alg.get_params()['n_estimators'], nfold=cv_folds,\n\u001b[1;32m      7\u001b[0m             \u001b[0mmetrics\u001b[0m\u001b[0;34m=\u001b[0m\u001b[0;34m'auc'\u001b[0m\u001b[0;34m,\u001b[0m \u001b[0mearly_stopping_rounds\u001b[0m\u001b[0;34m=\u001b[0m\u001b[0mearly_stopping_rounds\u001b[0m\u001b[0;34m,\u001b[0m\u001b[0mverbose_eval\u001b[0m\u001b[0;34m=\u001b[0m\u001b[0;32mTrue\u001b[0m\u001b[0;34m,\u001b[0m\u001b[0;34m\u001b[0m\u001b[0;34m\u001b[0m\u001b[0m\n",
      "\u001b[0;31mAttributeError\u001b[0m: 'XGBClassifier' object has no attribute 'DMatrix'"
     ]
    }
   ],
   "source": [
    "%%time\n",
    "modelfit(XGBClassifier(), X_train,y_train,X_validation,y_validation,test_df,sub_df,predictors,outcome,useTrainCV=True, cv_folds=5, early_stopping_rounds=50)"
   ]
  },
  {
   "cell_type": "code",
   "execution_count": null,
   "metadata": {},
   "outputs": [],
   "source": [
    "from sklearn.ensemble import RandomForestClassifier\n",
    "model6 = RandomForestClassifier(n_estimators = 100, oob_score = True, n_jobs = -1,random_state =50, max_features = \"auto\", min_samples_leaf = 5)\n",
    "\n",
    "modelfit_mod(model6, X_train,y_train,X_validation,y_validation,test_df,sub_df,predictors,outcome,useTrainCV=False, cv_folds=5, early_stopping_rounds=50)"
   ]
  },
  {
   "cell_type": "code",
   "execution_count": null,
   "metadata": {},
   "outputs": [],
   "source": [
    "from sklearn.ensemble import AdaBoostClassifier\n",
    "from sklearn.tree import DecisionTreeClassifier\n",
    "\n",
    "tree = DecisionTreeClassifier(criterion='entropy',max_depth=6)\n",
    "ada = AdaBoostClassifier(base_estimator=tree, n_estimators=29, learning_rate=0.1, random_state=0)\n",
    "\n",
    "modelfit_mod(ada, X_train,y_train,X_validation,y_validation,test_df,sub_df,predictors,outcome,useTrainCV=False, cv_folds=5, early_stopping_rounds=50)"
   ]
  },
  {
   "cell_type": "code",
   "execution_count": null,
   "metadata": {},
   "outputs": [],
   "source": [
    "%%time\n",
    "\n",
    "from sklearn.ensemble import VotingClassifier\n",
    "\n",
    "model9 = VotingClassifier(estimators=[('RF', model6),('Xgb', XGBClassifier()), ('adaboost', ada)], voting='soft')\n",
    "\n",
    "modelfit_mod(model9, X_train,y_train,X_validation,y_validation,test_df,sub_df,predictors,outcome,useTrainCV=False, cv_folds=5, early_stopping_rounds=50)"
   ]
  },
  {
   "cell_type": "code",
   "execution_count": null,
   "metadata": {},
   "outputs": [],
   "source": []
  },
  {
   "cell_type": "code",
   "execution_count": null,
   "metadata": {},
   "outputs": [],
   "source": []
  },
  {
   "cell_type": "code",
   "execution_count": null,
   "metadata": {},
   "outputs": [],
   "source": []
  },
  {
   "cell_type": "code",
   "execution_count": null,
   "metadata": {},
   "outputs": [],
   "source": []
  },
  {
   "cell_type": "code",
   "execution_count": null,
   "metadata": {},
   "outputs": [],
   "source": []
  },
  {
   "cell_type": "code",
   "execution_count": null,
   "metadata": {},
   "outputs": [],
   "source": []
  },
  {
   "cell_type": "code",
   "execution_count": null,
   "metadata": {},
   "outputs": [],
   "source": []
  },
  {
   "cell_type": "code",
   "execution_count": 55,
   "metadata": {},
   "outputs": [],
   "source": [
    "model1 = XGBClassifier(\n",
    " learning_rate =0.2,\n",
    " n_estimators=500,\n",
    " max_depth=5,\n",
    " min_child_weight=1,\n",
    " gamma=0,\n",
    " subsample=0.8,\n",
    " colsample_bytree=0.8,\n",
    " objective= 'binary:logistic',\n",
    " nthread=-1,\n",
    " scale_pos_weight=1,\n",
    " seed=27)"
   ]
  },
  {
   "cell_type": "code",
   "execution_count": 56,
   "metadata": {},
   "outputs": [
    {
     "name": "stdout",
     "output_type": "stream",
     "text": [
      "[0]\ttrain-auc:0.629527+0.00182547\ttest-auc:0.621523+0.0017791\n",
      "[1]\ttrain-auc:0.641806+0.00214953\ttest-auc:0.634012+0.00154621\n",
      "[2]\ttrain-auc:0.647278+0.0023821\ttest-auc:0.63795+0.00161221\n",
      "[3]\ttrain-auc:0.651252+0.00219846\ttest-auc:0.640654+0.0018581\n",
      "[4]\ttrain-auc:0.654388+0.00183708\ttest-auc:0.643445+0.0014865\n",
      "[5]\ttrain-auc:0.657016+0.00141711\ttest-auc:0.64561+0.00144591\n",
      "[6]\ttrain-auc:0.659434+0.000736005\ttest-auc:0.647198+0.0012389\n",
      "[7]\ttrain-auc:0.661819+0.000855405\ttest-auc:0.648904+0.00140562\n",
      "[8]\ttrain-auc:0.664099+0.000617476\ttest-auc:0.650439+0.00145771\n",
      "[9]\ttrain-auc:0.665998+0.000704486\ttest-auc:0.65174+0.00130801\n",
      "[10]\ttrain-auc:0.668229+0.000539035\ttest-auc:0.65313+0.00136532\n",
      "[11]\ttrain-auc:0.670021+0.000652041\ttest-auc:0.654294+0.00146496\n",
      "[12]\ttrain-auc:0.672137+0.000889291\ttest-auc:0.655531+0.00116037\n",
      "[13]\ttrain-auc:0.674025+0.000858833\ttest-auc:0.656431+0.000828221\n",
      "[14]\ttrain-auc:0.67581+0.000901163\ttest-auc:0.657511+0.000860829\n",
      "[15]\ttrain-auc:0.67754+0.000988925\ttest-auc:0.658314+0.000763757\n",
      "[16]\ttrain-auc:0.679275+0.000942385\ttest-auc:0.659256+0.000945349\n",
      "[17]\ttrain-auc:0.680607+0.000927964\ttest-auc:0.65993+0.000971131\n",
      "[18]\ttrain-auc:0.68192+0.000954661\ttest-auc:0.660367+0.000997221\n",
      "[19]\ttrain-auc:0.683542+0.000816954\ttest-auc:0.661238+0.00118978\n",
      "[20]\ttrain-auc:0.685057+0.00088668\ttest-auc:0.661803+0.000963737\n",
      "[21]\ttrain-auc:0.686187+0.000900116\ttest-auc:0.66212+0.000881867\n",
      "[22]\ttrain-auc:0.687494+0.000952013\ttest-auc:0.66268+0.00103288\n",
      "[23]\ttrain-auc:0.688604+0.000892532\ttest-auc:0.663091+0.00123438\n",
      "[24]\ttrain-auc:0.689889+0.000815842\ttest-auc:0.663581+0.00155628\n",
      "[25]\ttrain-auc:0.691058+0.000786586\ttest-auc:0.663972+0.00160228\n",
      "[26]\ttrain-auc:0.692073+0.00074108\ttest-auc:0.664373+0.00165014\n",
      "[27]\ttrain-auc:0.693073+0.000683882\ttest-auc:0.6649+0.00172879\n",
      "[28]\ttrain-auc:0.694035+0.000699573\ttest-auc:0.664997+0.001651\n",
      "[29]\ttrain-auc:0.695041+0.000753531\ttest-auc:0.665351+0.00183663\n",
      "[30]\ttrain-auc:0.695957+0.000815138\ttest-auc:0.665661+0.00170128\n",
      "[31]\ttrain-auc:0.696895+0.00077693\ttest-auc:0.665902+0.00181216\n",
      "[32]\ttrain-auc:0.697856+0.000643297\ttest-auc:0.666034+0.00188435\n",
      "[33]\ttrain-auc:0.698682+0.000706725\ttest-auc:0.666145+0.00188556\n",
      "[34]\ttrain-auc:0.699466+0.000849444\ttest-auc:0.666383+0.00196774\n",
      "[35]\ttrain-auc:0.700339+0.000963212\ttest-auc:0.666507+0.00191549\n",
      "[36]\ttrain-auc:0.70131+0.00094717\ttest-auc:0.666604+0.00172739\n",
      "[37]\ttrain-auc:0.702058+0.000974623\ttest-auc:0.666748+0.00178235\n",
      "[38]\ttrain-auc:0.702908+0.000792584\ttest-auc:0.666962+0.00188792\n",
      "[39]\ttrain-auc:0.703685+0.000888993\ttest-auc:0.667129+0.00200743\n",
      "[40]\ttrain-auc:0.704393+0.00090058\ttest-auc:0.667192+0.00206054\n",
      "[41]\ttrain-auc:0.705241+0.000923914\ttest-auc:0.667246+0.00210126\n",
      "[42]\ttrain-auc:0.705943+0.000890605\ttest-auc:0.667447+0.00208145\n",
      "[43]\ttrain-auc:0.706739+0.000837615\ttest-auc:0.667547+0.00212976\n",
      "[44]\ttrain-auc:0.70749+0.000826179\ttest-auc:0.667725+0.00211858\n",
      "[45]\ttrain-auc:0.708265+0.000747298\ttest-auc:0.66786+0.00221629\n",
      "[46]\ttrain-auc:0.708991+0.000680383\ttest-auc:0.667879+0.00220235\n",
      "[47]\ttrain-auc:0.709592+0.000760293\ttest-auc:0.667843+0.00222159\n",
      "[48]\ttrain-auc:0.710238+0.000753465\ttest-auc:0.667972+0.00217548\n",
      "[49]\ttrain-auc:0.710883+0.000772179\ttest-auc:0.668037+0.00224595\n",
      "[50]\ttrain-auc:0.711523+0.000796837\ttest-auc:0.668144+0.00220018\n",
      "[51]\ttrain-auc:0.712166+0.000980093\ttest-auc:0.668303+0.00215228\n",
      "[52]\ttrain-auc:0.712735+0.000860084\ttest-auc:0.668405+0.00211892\n",
      "[53]\ttrain-auc:0.713356+0.000697198\ttest-auc:0.668465+0.0022166\n",
      "[54]\ttrain-auc:0.713912+0.000781474\ttest-auc:0.66865+0.0022451\n",
      "[55]\ttrain-auc:0.714585+0.00082424\ttest-auc:0.668723+0.00225383\n",
      "[56]\ttrain-auc:0.715147+0.000682122\ttest-auc:0.668744+0.00238101\n",
      "[57]\ttrain-auc:0.715726+0.000511081\ttest-auc:0.668709+0.00237842\n",
      "[58]\ttrain-auc:0.716271+0.000396992\ttest-auc:0.668683+0.00225729\n",
      "[59]\ttrain-auc:0.716826+0.000491193\ttest-auc:0.668725+0.00222089\n",
      "[60]\ttrain-auc:0.717393+0.000521685\ttest-auc:0.668839+0.00229353\n",
      "[61]\ttrain-auc:0.717769+0.000546585\ttest-auc:0.668909+0.00233077\n",
      "[62]\ttrain-auc:0.718414+0.000465169\ttest-auc:0.669033+0.0023008\n",
      "[63]\ttrain-auc:0.719036+0.000520481\ttest-auc:0.668984+0.00235135\n",
      "[64]\ttrain-auc:0.719509+0.000478576\ttest-auc:0.668977+0.00229052\n",
      "[65]\ttrain-auc:0.72018+0.00035387\ttest-auc:0.669021+0.00220458\n",
      "[66]\ttrain-auc:0.720764+0.000363191\ttest-auc:0.669179+0.0022078\n",
      "[67]\ttrain-auc:0.72148+0.00030404\ttest-auc:0.669195+0.0021675\n",
      "[68]\ttrain-auc:0.722085+0.000323133\ttest-auc:0.669201+0.00219905\n",
      "[69]\ttrain-auc:0.722653+0.000425975\ttest-auc:0.669269+0.0021739\n",
      "[70]\ttrain-auc:0.723255+0.000383461\ttest-auc:0.669155+0.00219949\n",
      "[71]\ttrain-auc:0.723812+0.000466099\ttest-auc:0.669151+0.00216453\n",
      "[72]\ttrain-auc:0.724365+0.000478457\ttest-auc:0.66914+0.0021543\n",
      "[73]\ttrain-auc:0.724707+0.000476197\ttest-auc:0.669168+0.00222421\n",
      "[74]\ttrain-auc:0.72523+0.000457356\ttest-auc:0.669076+0.0021688\n",
      "[75]\ttrain-auc:0.725862+0.00037358\ttest-auc:0.669101+0.00219195\n",
      "[76]\ttrain-auc:0.726504+0.000296633\ttest-auc:0.669206+0.00213772\n",
      "[77]\ttrain-auc:0.726981+0.000337644\ttest-auc:0.669204+0.00213432\n",
      "[78]\ttrain-auc:0.727497+0.00040706\ttest-auc:0.669251+0.00215724\n",
      "[79]\ttrain-auc:0.728031+0.000330202\ttest-auc:0.6692+0.00214148\n",
      "[80]\ttrain-auc:0.728395+0.000422053\ttest-auc:0.669125+0.00201878\n",
      "[81]\ttrain-auc:0.728915+0.000471332\ttest-auc:0.669096+0.00200534\n",
      "[82]\ttrain-auc:0.729461+0.00053523\ttest-auc:0.669051+0.0020546\n",
      "[83]\ttrain-auc:0.729892+0.000598732\ttest-auc:0.668981+0.00210795\n",
      "[84]\ttrain-auc:0.730419+0.000764011\ttest-auc:0.669057+0.00212481\n",
      "[85]\ttrain-auc:0.731041+0.000814822\ttest-auc:0.669022+0.00212673\n",
      "[86]\ttrain-auc:0.731604+0.000820659\ttest-auc:0.669056+0.00218603\n",
      "[87]\ttrain-auc:0.732128+0.000777271\ttest-auc:0.669115+0.00230938\n",
      "[88]\ttrain-auc:0.732585+0.000833576\ttest-auc:0.669063+0.00237544\n",
      "[89]\ttrain-auc:0.733039+0.000941926\ttest-auc:0.669051+0.00239557\n",
      "[90]\ttrain-auc:0.733513+0.000996059\ttest-auc:0.669107+0.00233192\n",
      "[91]\ttrain-auc:0.734081+0.00105592\ttest-auc:0.669115+0.00236559\n",
      "[92]\ttrain-auc:0.734539+0.00112963\ttest-auc:0.669097+0.00243741\n",
      "[93]\ttrain-auc:0.73514+0.00102536\ttest-auc:0.669156+0.00231398\n",
      "[94]\ttrain-auc:0.735668+0.000912166\ttest-auc:0.669189+0.00238236\n",
      "[95]\ttrain-auc:0.736187+0.000854596\ttest-auc:0.669148+0.00238957\n",
      "[96]\ttrain-auc:0.736642+0.000917906\ttest-auc:0.669071+0.00246713\n",
      "[97]\ttrain-auc:0.736942+0.000939674\ttest-auc:0.669039+0.00235756\n",
      "[98]\ttrain-auc:0.737452+0.000944071\ttest-auc:0.668988+0.00243411\n",
      "[99]\ttrain-auc:0.737941+0.000911092\ttest-auc:0.668922+0.00252286\n",
      "[100]\ttrain-auc:0.738395+0.000841707\ttest-auc:0.668982+0.00247223\n",
      "[101]\ttrain-auc:0.738793+0.000777947\ttest-auc:0.668958+0.00245877\n",
      "[102]\ttrain-auc:0.739266+0.000864409\ttest-auc:0.668842+0.00238873\n",
      "[103]\ttrain-auc:0.73971+0.000971586\ttest-auc:0.668741+0.00247454\n",
      "[104]\ttrain-auc:0.740164+0.00103402\ttest-auc:0.668767+0.00248223\n",
      "[105]\ttrain-auc:0.740622+0.000975438\ttest-auc:0.668726+0.00257853\n",
      "[106]\ttrain-auc:0.741013+0.000908853\ttest-auc:0.668679+0.00256904\n",
      "[107]\ttrain-auc:0.741433+0.000896972\ttest-auc:0.668671+0.00251499\n",
      "[108]\ttrain-auc:0.741833+0.000930423\ttest-auc:0.668794+0.00248887\n",
      "[109]\ttrain-auc:0.742292+0.000891057\ttest-auc:0.668796+0.00253\n",
      "[110]\ttrain-auc:0.742756+0.000887286\ttest-auc:0.668736+0.00249304\n",
      "[111]\ttrain-auc:0.743228+0.000853349\ttest-auc:0.668757+0.00242928\n",
      "[112]\ttrain-auc:0.743724+0.000802914\ttest-auc:0.668752+0.00242473\n",
      "[113]\ttrain-auc:0.744138+0.000795003\ttest-auc:0.668786+0.00242508\n",
      "[114]\ttrain-auc:0.74462+0.0008256\ttest-auc:0.668767+0.00240876\n",
      "[115]\ttrain-auc:0.745116+0.000825421\ttest-auc:0.668704+0.0022957\n",
      "[116]\ttrain-auc:0.745512+0.000797083\ttest-auc:0.668765+0.00227852\n",
      "[117]\ttrain-auc:0.745924+0.000728466\ttest-auc:0.668761+0.00227603\n",
      "[118]\ttrain-auc:0.746412+0.000834877\ttest-auc:0.668728+0.00222249\n"
     ]
    },
    {
     "name": "stderr",
     "output_type": "stream",
     "text": [
      "/home/monster/.conda/envs/tensorflow/lib/python3.6/site-packages/sklearn/preprocessing/label.py:219: DataConversionWarning: A column-vector y was passed when a 1d array was expected. Please change the shape of y to (n_samples, ), for example using ravel().\n",
      "  y = column_or_1d(y, warn=True)\n",
      "/home/monster/.conda/envs/tensorflow/lib/python3.6/site-packages/sklearn/preprocessing/label.py:252: DataConversionWarning: A column-vector y was passed when a 1d array was expected. Please change the shape of y to (n_samples, ), for example using ravel().\n",
      "  y = column_or_1d(y, warn=True)\n"
     ]
    },
    {
     "name": "stdout",
     "output_type": "stream",
     "text": [
      "\n",
      "Model Report\n",
      "Accuracy : 0.7843\n",
      "AUC Score (Train): 0.673268\n",
      "CPU times: user 5min 39s, sys: 648 ms, total: 5min 40s\n",
      "Wall time: 5min 39s\n"
     ]
    },
    {
     "data": {
      "image/png": "[encoded data removed]",
      "text/plain": [
       "<Figure size 432x288 with 1 Axes>"
      ]
     },
     "metadata": {
      "needs_background": "light"
     },
     "output_type": "display_data"
    }
   ],
   "source": [
    "%%time\n",
    "#replce top_20_ft with predictors to run model on all the features\n",
    "modelfit(model1, X_train,y_train,X_validation,y_validation,test_df,sub_df,predictors,outcome,useTrainCV=True, cv_folds=5, early_stopping_rounds=50)"
   ]
  },
  {
   "cell_type": "code",
   "execution_count": null,
   "metadata": {},
   "outputs": [],
   "source": [
    "top_20_features = pd.Series(model1.get_booster().get_fscore()).sort_values(ascending=False)[:25]"
   ]
  },
  {
   "cell_type": "code",
   "execution_count": null,
   "metadata": {},
   "outputs": [],
   "source": [
    "top_20_ft = list(top_20_features.index)"
   ]
  },
  {
   "cell_type": "code",
   "execution_count": null,
   "metadata": {},
   "outputs": [],
   "source": [
    "top_20_ft"
   ]
  },
  {
   "cell_type": "code",
   "execution_count": null,
   "metadata": {},
   "outputs": [],
   "source": [
    "%%time\n",
    "#top features only\n",
    "modelfit(model1, X_train,y_train,X_validation,y_validation,test_df,sub_df,top_20_ft,outcome,useTrainCV=True, cv_folds=5, early_stopping_rounds=50)"
   ]
  },
  {
   "cell_type": "code",
   "execution_count": null,
   "metadata": {},
   "outputs": [],
   "source": [
    "%%time\n",
    "#top features only\n",
    "modelfit(model1, X_train,y_train,X_validation,y_validation,test_df,sub_df,top_20_ft,outcome,useTrainCV=True, cv_folds=5, early_stopping_rounds=50)"
   ]
  },
  {
   "cell_type": "code",
   "execution_count": null,
   "metadata": {},
   "outputs": [],
   "source": [
    "from sklearn.metrics import roc_curve, auc\n",
    "def Performance(Model,Y,X):\n",
    "    # Perforamnce of the model\n",
    "    fpr, tpr, _ = roc_curve(Y, Model.predict_proba(X)[:,1])\n",
    "    AUC  = auc(fpr, tpr)\n",
    "    print ('the AUC is : %0.4f' %  AUC)\n",
    "    plt.figure()\n",
    "    plt.plot(fpr, tpr, label='ROC curve (area = %0.4f)' % AUC)\n",
    "    plt.plot([0, 1], [0, 1], 'k--')\n",
    "    plt.xlim([0.0, 1.0])\n",
    "    plt.ylim([0.0, 1.05])\n",
    "    plt.xlabel('False Positive Rate')\n",
    "    plt.ylabel('True Positive Rate')\n",
    "    plt.title('ROC Curve')\n",
    "    plt.legend(loc=\"lower right\")\n",
    "    plt.show()"
   ]
  },
  {
   "cell_type": "code",
   "execution_count": null,
   "metadata": {},
   "outputs": [],
   "source": [
    "Performance(model1,y_validation,X_validation)"
   ]
  },
  {
   "cell_type": "code",
   "execution_count": null,
   "metadata": {},
   "outputs": [],
   "source": [
    "from hyperopt import fmin, tpe, hp, STATUS_OK, Trials"
   ]
  },
  {
   "cell_type": "code",
   "execution_count": null,
   "metadata": {},
   "outputs": [],
   "source": [
    "%%time\n",
    "np.linspace(0,1,11)"
   ]
  },
  {
   "cell_type": "code",
   "execution_count": null,
   "metadata": {},
   "outputs": [],
   "source": [
    "%%time\n",
    "from sklearn.model_selection import cross_val_score\n",
    "def acc_model(params):\n",
    "    clf = XGBClassifier(**params)\n",
    "    return cross_val_score(clf, X_train, y_train, scoring='roc_auc',cv=5).mean()\n",
    "\n",
    "param_space = {\n",
    "    'learning_rate': hp.choice('learning_rate', [0.1,0.1]),#np.linspace(0,1,11)),\n",
    "    \n",
    "    'n_estimators': hp.choice('n_estimators', [300,300]),\n",
    "    \n",
    "    'max_depth': hp.choice('max_depth', [3, 5, 7, 9]), #range(1,20)),\n",
    "                               \n",
    "    'min_child_weight': hp.choice('min_child_weight', [1, 3, 5]), #range(1,7)),\n",
    "    \n",
    "    'gamma': hp.choice('gamma', [0,0]),#np.linspace(0,1,11)),\n",
    "    \n",
    "    'subsample': hp.choice('subsample', [0.8,0.8]),#np.linspace(0,1,11)),\n",
    "    \n",
    "    'colsample_bytree': hp.choice('colsample_bytree',[0.8,0.8])# np.linspace(0,1,11)),\n",
    "    \n",
    "#     'max_features': hp.choice('max_features', range(1,55)),\n",
    "    \n",
    "#     'criterion': hp.choice('criterion', [\"gini\", \"entropy\"])\n",
    "#                        \n",
    "     }\n",
    "\n",
    "best = 0\n",
    "def f(params):\n",
    "    global best\n",
    "    acc = acc_model(params)\n",
    "    if acc > best:\n",
    "        best = acc\n",
    "    print ('new best:', best, params)\n",
    "    return {'loss': -acc, 'status': STATUS_OK}\n",
    "\n",
    "trials = Trials()\n",
    "best = fmin(f, param_space, algo=tpe.suggest, max_evals=5, trials=trials)\n",
    "print ('best:')\n",
    "print (best)\n"
   ]
  },
  {
   "cell_type": "code",
   "execution_count": null,
   "metadata": {},
   "outputs": [],
   "source": []
  },
  {
   "cell_type": "code",
   "execution_count": null,
   "metadata": {},
   "outputs": [],
   "source": []
  },
  {
   "cell_type": "code",
   "execution_count": null,
   "metadata": {},
   "outputs": [],
   "source": []
  },
  {
   "cell_type": "code",
   "execution_count": 57,
   "metadata": {},
   "outputs": [],
   "source": [
    "from sklearn.model_selection import learning_curve, GridSearchCV"
   ]
  },
  {
   "cell_type": "code",
   "execution_count": 60,
   "metadata": {},
   "outputs": [
    {
     "name": "stderr",
     "output_type": "stream",
     "text": [
      "/home/monster/.conda/envs/tensorflow/lib/python3.6/site-packages/sklearn/preprocessing/label.py:219: DataConversionWarning: A column-vector y was passed when a 1d array was expected. Please change the shape of y to (n_samples, ), for example using ravel().\n",
      "  y = column_or_1d(y, warn=True)\n",
      "/home/monster/.conda/envs/tensorflow/lib/python3.6/site-packages/sklearn/preprocessing/label.py:252: DataConversionWarning: A column-vector y was passed when a 1d array was expected. Please change the shape of y to (n_samples, ), for example using ravel().\n",
      "  y = column_or_1d(y, warn=True)\n"
     ]
    },
    {
     "name": "stdout",
     "output_type": "stream",
     "text": [
      "{'mean_fit_time': array([ 45.37967043,  44.93024373,  44.10679684,  83.76554694,\n",
      "        82.15233011,  80.35409398, 145.00305653, 139.94675436,\n",
      "        99.89689574]), 'std_fit_time': array([ 0.19210073,  0.32886027,  1.05613563,  1.21314664,  0.83966623,\n",
      "        0.90907717,  1.72734365,  0.97686123, 29.83450631]), 'mean_score_time': array([0.2406517 , 0.19833255, 0.2236064 , 0.20102949, 0.23576007,\n",
      "       0.19190054, 0.24622092, 0.20152025, 0.16355977]), 'std_score_time': array([0.04627277, 0.03499582, 0.04406807, 0.03330652, 0.04104175,\n",
      "       0.01327469, 0.02208765, 0.02943257, 0.03485512]), 'param_max_depth': masked_array(data=[3, 3, 3, 5, 5, 5, 7, 7, 7],\n",
      "             mask=[False, False, False, False, False, False, False, False,\n",
      "                   False],\n",
      "       fill_value='?',\n",
      "            dtype=object), 'param_min_child_weight': masked_array(data=[1, 3, 5, 1, 3, 5, 1, 3, 5],\n",
      "             mask=[False, False, False, False, False, False, False, False,\n",
      "                   False],\n",
      "       fill_value='?',\n",
      "            dtype=object), 'params': [{'max_depth': 3, 'min_child_weight': 1}, {'max_depth': 3, 'min_child_weight': 3}, {'max_depth': 3, 'min_child_weight': 5}, {'max_depth': 5, 'min_child_weight': 1}, {'max_depth': 5, 'min_child_weight': 3}, {'max_depth': 5, 'min_child_weight': 5}, {'max_depth': 7, 'min_child_weight': 1}, {'max_depth': 7, 'min_child_weight': 3}, {'max_depth': 7, 'min_child_weight': 5}], 'split0_test_score': array([0.67216156, 0.67212622, 0.67186355, 0.67657936, 0.67639723,\n",
      "       0.67656224, 0.67660942, 0.67692728, 0.67700515]), 'split1_test_score': array([0.67054007, 0.67037356, 0.67052563, 0.67392493, 0.67407862,\n",
      "       0.67402603, 0.67429528, 0.67543175, 0.67424735]), 'split2_test_score': array([0.66521729, 0.66577666, 0.66511392, 0.6704331 , 0.66961643,\n",
      "       0.67062826, 0.66769914, 0.66789137, 0.66840999]), 'split3_test_score': array([0.66685846, 0.66683675, 0.66671161, 0.67193906, 0.67255271,\n",
      "       0.67218195, 0.67036517, 0.67069139, 0.671447  ]), 'split4_test_score': array([0.66271753, 0.66291561, 0.66288192, 0.66628155, 0.66756947,\n",
      "       0.66687982, 0.6647902 , 0.66709996, 0.66782   ]), 'mean_test_score': array([0.66749898, 0.66760576, 0.66741933, 0.6718316 , 0.67204289,\n",
      "       0.67205566, 0.67075184, 0.67160835, 0.6717859 ]), 'std_test_score': array([0.00344867, 0.00328724, 0.00334078, 0.00345525, 0.0031389 ,\n",
      "       0.00325682, 0.00428665, 0.00394694, 0.00347964]), 'rank_test_score': array([8, 7, 9, 3, 2, 1, 6, 5, 4], dtype=int32), 'split0_train_score': array([0.68011363, 0.67999678, 0.67972128, 0.72007786, 0.71823535,\n",
      "       0.71783348, 0.79648605, 0.79096967, 0.78379208]), 'split1_train_score': array([0.68035942, 0.6801395 , 0.68031985, 0.71832712, 0.71728691,\n",
      "       0.71599402, 0.7946327 , 0.78631084, 0.77967959]), 'split2_train_score': array([0.68165565, 0.68185482, 0.68151465, 0.72023302, 0.7196438 ,\n",
      "       0.71892819, 0.79254899, 0.78700784, 0.78225675]), 'split3_train_score': array([0.68104739, 0.68072271, 0.68105399, 0.72136571, 0.71929879,\n",
      "       0.71749067, 0.79575074, 0.78749705, 0.7819064 ]), 'split4_train_score': array([0.68178368, 0.68185251, 0.68181521, 0.72283905, 0.72085744,\n",
      "       0.71918654, 0.79510951, 0.786946  , 0.78379073]), 'mean_train_score': array([0.68099195, 0.68091326, 0.680885  , 0.72056855, 0.71906446,\n",
      "       0.71788658, 0.7949056 , 0.78774628, 0.78228511]), 'std_train_score': array([0.00066962, 0.00080544, 0.00076993, 0.00149453, 0.00122086,\n",
      "       0.00114159, 0.0013328 , 0.00165521, 0.00151465])} {'max_depth': 5, 'min_child_weight': 5} 0.672055660875796\n",
      "CPU times: user 1min 27s, sys: 260 ms, total: 1min 27s\n",
      "Wall time: 11min 22s\n"
     ]
    }
   ],
   "source": [
    "%%time\n",
    "param_test1 = {\n",
    " 'max_depth':[3, 5, 7],\n",
    " 'min_child_weight':[1, 3, 5]\n",
    "}\n",
    "\n",
    "gsearch1 = GridSearchCV(estimator = XGBClassifier( learning_rate =0.1, n_estimators=118, max_depth=5,\n",
    " min_child_weight=1, gamma=0, subsample=0.8, colsample_bytree=0.8,\n",
    " objective= 'binary:logistic', nthread=6, scale_pos_weight=1, seed=27), \n",
    " param_grid = param_test1, scoring='roc_auc',n_jobs=6,iid=False, cv=5)\n",
    "gsearch1.fit(X_train,y_train)\n",
    "print(gsearch1.best_params_, gsearch1.best_score_)\n"
   ]
  },
  {
   "cell_type": "code",
   "execution_count": 62,
   "metadata": {},
   "outputs": [
    {
     "name": "stderr",
     "output_type": "stream",
     "text": [
      "/home/monster/.conda/envs/tensorflow/lib/python3.6/site-packages/sklearn/preprocessing/label.py:219: DataConversionWarning: A column-vector y was passed when a 1d array was expected. Please change the shape of y to (n_samples, ), for example using ravel().\n",
      "  y = column_or_1d(y, warn=True)\n",
      "/home/monster/.conda/envs/tensorflow/lib/python3.6/site-packages/sklearn/preprocessing/label.py:252: DataConversionWarning: A column-vector y was passed when a 1d array was expected. Please change the shape of y to (n_samples, ), for example using ravel().\n",
      "  y = column_or_1d(y, warn=True)\n"
     ]
    },
    {
     "name": "stdout",
     "output_type": "stream",
     "text": [
      "{'mean_fit_time': array([ 45.14868565,  45.21200333,  43.69998231,  83.92551851,\n",
      "        81.38507123,  80.60479994, 144.64127479, 138.95342746,\n",
      "        99.7673481 ]), 'std_fit_time': array([ 0.3269354 ,  0.45307279,  0.71610326,  0.61766653,  0.48277546,\n",
      "        0.96381784,  0.56272825,  0.49930138, 29.05432546]), 'mean_score_time': array([0.20277929, 0.22266493, 0.21884179, 0.19620438, 0.19781914,\n",
      "       0.19020543, 0.24461169, 0.2269712 , 0.15418077]), 'std_score_time': array([0.04175352, 0.07087484, 0.03951036, 0.03527176, 0.02168644,\n",
      "       0.01792149, 0.02651033, 0.04371199, 0.02215073]), 'param_max_depth': masked_array(data=[3, 3, 3, 5, 5, 5, 7, 7, 7],\n",
      "             mask=[False, False, False, False, False, False, False, False,\n",
      "                   False],\n",
      "       fill_value='?',\n",
      "            dtype=object), 'param_min_child_weight': masked_array(data=[1, 3, 5, 1, 3, 5, 1, 3, 5],\n",
      "             mask=[False, False, False, False, False, False, False, False,\n",
      "                   False],\n",
      "       fill_value='?',\n",
      "            dtype=object), 'params': [{'max_depth': 3, 'min_child_weight': 1}, {'max_depth': 3, 'min_child_weight': 3}, {'max_depth': 3, 'min_child_weight': 5}, {'max_depth': 5, 'min_child_weight': 1}, {'max_depth': 5, 'min_child_weight': 3}, {'max_depth': 5, 'min_child_weight': 5}, {'max_depth': 7, 'min_child_weight': 1}, {'max_depth': 7, 'min_child_weight': 3}, {'max_depth': 7, 'min_child_weight': 5}], 'split0_test_score': array([0.67216156, 0.67212622, 0.67186355, 0.67657936, 0.67639723,\n",
      "       0.67656224, 0.67660942, 0.67692728, 0.67700515]), 'split1_test_score': array([0.67054007, 0.67037356, 0.67052563, 0.67392493, 0.67407862,\n",
      "       0.67402603, 0.67429528, 0.67543175, 0.67424735]), 'split2_test_score': array([0.66521729, 0.66577666, 0.66511392, 0.6704331 , 0.66961643,\n",
      "       0.67062826, 0.66769914, 0.66789137, 0.66840999]), 'split3_test_score': array([0.66685846, 0.66683675, 0.66671161, 0.67193906, 0.67255271,\n",
      "       0.67218195, 0.67036517, 0.67069139, 0.671447  ]), 'split4_test_score': array([0.66271753, 0.66291561, 0.66288192, 0.66628155, 0.66756947,\n",
      "       0.66687982, 0.6647902 , 0.66709996, 0.66782   ]), 'mean_test_score': array([0.66749898, 0.66760576, 0.66741933, 0.6718316 , 0.67204289,\n",
      "       0.67205566, 0.67075184, 0.67160835, 0.6717859 ]), 'std_test_score': array([0.00344867, 0.00328724, 0.00334078, 0.00345525, 0.0031389 ,\n",
      "       0.00325682, 0.00428665, 0.00394694, 0.00347964]), 'rank_test_score': array([8, 7, 9, 3, 2, 1, 6, 5, 4], dtype=int32), 'split0_train_score': array([0.68011363, 0.67999678, 0.67972128, 0.72007786, 0.71823535,\n",
      "       0.71783348, 0.79648605, 0.79096967, 0.78379208]), 'split1_train_score': array([0.68035942, 0.6801395 , 0.68031985, 0.71832712, 0.71728691,\n",
      "       0.71599402, 0.7946327 , 0.78631084, 0.77967959]), 'split2_train_score': array([0.68165565, 0.68185482, 0.68151465, 0.72023302, 0.7196438 ,\n",
      "       0.71892819, 0.79254899, 0.78700784, 0.78225675]), 'split3_train_score': array([0.68104739, 0.68072271, 0.68105399, 0.72136571, 0.71929879,\n",
      "       0.71749067, 0.79575074, 0.78749705, 0.7819064 ]), 'split4_train_score': array([0.68178368, 0.68185251, 0.68181521, 0.72283905, 0.72085744,\n",
      "       0.71918654, 0.79510951, 0.786946  , 0.78379073]), 'mean_train_score': array([0.68099195, 0.68091326, 0.680885  , 0.72056855, 0.71906446,\n",
      "       0.71788658, 0.7949056 , 0.78774628, 0.78228511]), 'std_train_score': array([0.00066962, 0.00080544, 0.00076993, 0.00149453, 0.00122086,\n",
      "       0.00114159, 0.0013328 , 0.00165521, 0.00151465])} {'max_depth': 5, 'min_child_weight': 5} 0.672055660875796\n"
     ]
    }
   ],
   "source": [
    "param_test1 = {\n",
    " 'max_depth':[3, 5, 7],\n",
    " 'min_child_weight':[1, 3, 5]\n",
    "}\n",
    "\n",
    "gsearch1 = GridSearchCV(estimator = XGBClassifier( learning_rate =0.1, n_estimators=118, max_depth=5,\n",
    " min_child_weight=1, gamma=0, subsample=0.8, colsample_bytree=0.8,\n",
    " objective= 'binary:logistic', nthread=6, scale_pos_weight=1, seed=27), \n",
    " param_grid = param_test1, scoring='roc_auc',n_jobs=6,iid=False, cv=5)\n",
    "gsearch1.fit(X_train,y_train)\n",
    "print(gsearch1.best_params_, gsearch1.best_score_)\n"
   ]
  },
  {
   "cell_type": "code",
   "execution_count": 63,
   "metadata": {},
   "outputs": [
    {
     "data": {
      "text/plain": [
       "{'max_depth': 5, 'min_child_weight': 5}"
      ]
     },
     "execution_count": 63,
     "metadata": {},
     "output_type": "execute_result"
    }
   ],
   "source": [
    "gsearch1.best_params_"
   ]
  },
  {
   "cell_type": "code",
   "execution_count": 64,
   "metadata": {},
   "outputs": [
    {
     "data": {
      "text/plain": [
       "0.672055660875796"
      ]
     },
     "execution_count": 64,
     "metadata": {},
     "output_type": "execute_result"
    }
   ],
   "source": [
    "gsearch1.best_score_"
   ]
  },
  {
   "cell_type": "code",
   "execution_count": 66,
   "metadata": {},
   "outputs": [
    {
     "name": "stderr",
     "output_type": "stream",
     "text": [
      "/home/monster/.conda/envs/tensorflow/lib/python3.6/site-packages/sklearn/preprocessing/label.py:219: DataConversionWarning: A column-vector y was passed when a 1d array was expected. Please change the shape of y to (n_samples, ), for example using ravel().\n",
      "  y = column_or_1d(y, warn=True)\n",
      "/home/monster/.conda/envs/tensorflow/lib/python3.6/site-packages/sklearn/preprocessing/label.py:252: DataConversionWarning: A column-vector y was passed when a 1d array was expected. Please change the shape of y to (n_samples, ), for example using ravel().\n",
      "  y = column_or_1d(y, warn=True)\n"
     ]
    },
    {
     "name": "stdout",
     "output_type": "stream",
     "text": [
      "{'max_depth': 6, 'min_child_weight': 5} 0.6725648594461321\n"
     ]
    }
   ],
   "source": [
    "param_test2 = {\n",
    " 'max_depth':[4, 5, 6],\n",
    " 'min_child_weight':[4,5,6]\n",
    "}\n",
    "\n",
    "gsearch1 = GridSearchCV(estimator = XGBClassifier( learning_rate =0.1, n_estimators=118, max_depth=5,\n",
    " min_child_weight=2, gamma=0, subsample=0.8, colsample_bytree=0.8,\n",
    " objective= 'binary:logistic', nthread=6, scale_pos_weight=1, seed=27), \n",
    " param_grid = param_test2, scoring='roc_auc',n_jobs=6,iid=False, cv=5)\n",
    "gsearch1.fit(X_train,y_train)\n",
    "\n",
    "print(gsearch1.best_params_, gsearch1.best_score_)"
   ]
  },
  {
   "cell_type": "code",
   "execution_count": 67,
   "metadata": {},
   "outputs": [
    {
     "name": "stderr",
     "output_type": "stream",
     "text": [
      "/home/monster/.conda/envs/tensorflow/lib/python3.6/site-packages/sklearn/preprocessing/label.py:219: DataConversionWarning: A column-vector y was passed when a 1d array was expected. Please change the shape of y to (n_samples, ), for example using ravel().\n",
      "  y = column_or_1d(y, warn=True)\n",
      "/home/monster/.conda/envs/tensorflow/lib/python3.6/site-packages/sklearn/preprocessing/label.py:252: DataConversionWarning: A column-vector y was passed when a 1d array was expected. Please change the shape of y to (n_samples, ), for example using ravel().\n",
      "  y = column_or_1d(y, warn=True)\n"
     ]
    },
    {
     "name": "stdout",
     "output_type": "stream",
     "text": [
      "{'min_child_weight': 8} 0.6726510205201933\n"
     ]
    }
   ],
   "source": [
    "param_test2b = {\n",
    " 'min_child_weight':[5,6,7,8,9]\n",
    "}\n",
    "\n",
    "gsearch2b = GridSearchCV(estimator = XGBClassifier( learning_rate=0.1, n_estimators=118, max_depth=6,\n",
    " min_child_weight=2, gamma=0, subsample=0.8, colsample_bytree=0.8,\n",
    " objective= 'binary:logistic', nthread=6, scale_pos_weight=1,seed=27), \n",
    " param_grid = param_test2b, scoring='roc_auc',n_jobs=6,iid=False, cv=5)\n",
    "gsearch2b.fit(X_train,y_train)\n",
    "\n",
    "print(gsearch2b.best_params_, gsearch2b.best_score_)"
   ]
  },
  {
   "cell_type": "code",
   "execution_count": 68,
   "metadata": {},
   "outputs": [
    {
     "name": "stderr",
     "output_type": "stream",
     "text": [
      "/home/monster/.conda/envs/tensorflow/lib/python3.6/site-packages/sklearn/preprocessing/label.py:219: DataConversionWarning: A column-vector y was passed when a 1d array was expected. Please change the shape of y to (n_samples, ), for example using ravel().\n",
      "  y = column_or_1d(y, warn=True)\n",
      "/home/monster/.conda/envs/tensorflow/lib/python3.6/site-packages/sklearn/preprocessing/label.py:252: DataConversionWarning: A column-vector y was passed when a 1d array was expected. Please change the shape of y to (n_samples, ), for example using ravel().\n",
      "  y = column_or_1d(y, warn=True)\n"
     ]
    },
    {
     "name": "stdout",
     "output_type": "stream",
     "text": [
      "{'gamma': 0.0} 0.6726510205201933\n"
     ]
    }
   ],
   "source": [
    "param_test3 = {\n",
    " 'gamma':[i/10.0 for i in range(0,5)]\n",
    "}\n",
    "gsearch3 = GridSearchCV(estimator = XGBClassifier( learning_rate =0.1, n_estimators=118, max_depth=6,\n",
    " min_child_weight=8, gamma=0, subsample=0.8, colsample_bytree=0.8,\n",
    " objective= 'binary:logistic', nthread=-1, scale_pos_weight=1,seed=27), \n",
    " param_grid = param_test3, scoring='roc_auc',n_jobs=4,iid=False, cv=5)\n",
    "gsearch3.fit(X_train,y_train)\n",
    "\n",
    "print(gsearch3.best_params_, gsearch3.best_score_)\n"
   ]
  },
  {
   "cell_type": "code",
   "execution_count": 68,
   "metadata": {},
   "outputs": [],
   "source": [
    "xgb1 = XGBClassifier(\n",
    " learning_rate =0.1,\n",
    " n_estimators=1000,\n",
    " max_depth=6,\n",
    " min_child_weight=8,\n",
    " gamma=0,\n",
    " subsample=0.8,\n",
    " colsample_bytree=0.8,\n",
    " objective= 'binary:logistic',\n",
    " nthread=4,\n",
    " scale_pos_weight=1,\n",
    " seed=27)"
   ]
  },
  {
   "cell_type": "code",
   "execution_count": 69,
   "metadata": {},
   "outputs": [
    {
     "name": "stdout",
     "output_type": "stream",
     "text": [
      "[0]\ttrain-auc:0.638382+0.00237601\ttest-auc:0.626398+0.0018753\n",
      "[1]\ttrain-auc:0.651085+0.00213855\ttest-auc:0.636344+0.000860115\n",
      "[2]\ttrain-auc:0.656519+0.00169077\ttest-auc:0.640765+0.00171511\n",
      "[3]\ttrain-auc:0.659724+0.00111387\ttest-auc:0.64306+0.00148819\n",
      "[4]\ttrain-auc:0.662454+0.00156762\ttest-auc:0.644909+0.00147811\n",
      "[5]\ttrain-auc:0.664916+0.00158404\ttest-auc:0.646509+0.00142669\n",
      "[6]\ttrain-auc:0.666849+0.00121918\ttest-auc:0.647523+0.00137746\n",
      "[7]\ttrain-auc:0.668349+0.00105691\ttest-auc:0.648387+0.00137536\n",
      "[8]\ttrain-auc:0.669693+0.000998863\ttest-auc:0.649264+0.00110649\n",
      "[9]\ttrain-auc:0.670966+0.000794528\ttest-auc:0.64987+0.000921159\n",
      "[10]\ttrain-auc:0.672193+0.000791817\ttest-auc:0.650708+0.000867008\n",
      "[11]\ttrain-auc:0.673654+0.000885319\ttest-auc:0.651635+0.000784754\n",
      "[12]\ttrain-auc:0.675131+0.000655353\ttest-auc:0.652532+0.000770285\n",
      "[13]\ttrain-auc:0.676409+0.000612452\ttest-auc:0.653171+0.000694957\n",
      "[14]\ttrain-auc:0.677776+0.000428107\ttest-auc:0.653858+0.000987236\n",
      "[15]\ttrain-auc:0.678943+0.000497729\ttest-auc:0.654506+0.000769308\n",
      "[16]\ttrain-auc:0.6802+0.000492441\ttest-auc:0.655196+0.000731472\n",
      "[17]\ttrain-auc:0.681249+0.000413542\ttest-auc:0.655515+0.000798601\n",
      "[18]\ttrain-auc:0.6824+0.000434425\ttest-auc:0.655928+0.000878869\n",
      "[19]\ttrain-auc:0.683365+0.000377079\ttest-auc:0.656674+0.000936769\n",
      "[20]\ttrain-auc:0.684606+0.000336122\ttest-auc:0.657477+0.000924339\n",
      "[21]\ttrain-auc:0.685991+0.000285846\ttest-auc:0.658047+0.000980164\n",
      "[22]\ttrain-auc:0.687123+0.000201859\ttest-auc:0.658501+0.00116468\n",
      "[23]\ttrain-auc:0.688544+0.000165542\ttest-auc:0.6591+0.00124202\n",
      "[24]\ttrain-auc:0.68957+0.00022612\ttest-auc:0.659443+0.0013218\n",
      "[25]\ttrain-auc:0.690656+0.000226401\ttest-auc:0.659725+0.00129823\n",
      "[26]\ttrain-auc:0.691684+0.000205682\ttest-auc:0.660193+0.00131367\n",
      "[27]\ttrain-auc:0.692656+0.00033455\ttest-auc:0.660746+0.00145002\n",
      "[28]\ttrain-auc:0.693886+0.000335514\ttest-auc:0.661236+0.00133666\n",
      "[29]\ttrain-auc:0.695061+0.000467201\ttest-auc:0.661737+0.00120227\n",
      "[30]\ttrain-auc:0.696093+0.00054426\ttest-auc:0.662065+0.00112143\n",
      "[31]\ttrain-auc:0.697119+0.000581162\ttest-auc:0.662472+0.00116485\n",
      "[32]\ttrain-auc:0.698272+0.000512952\ttest-auc:0.662955+0.00124883\n",
      "[33]\ttrain-auc:0.699093+0.000389413\ttest-auc:0.663348+0.00119583\n",
      "[34]\ttrain-auc:0.699968+0.000288651\ttest-auc:0.66369+0.00115335\n",
      "[35]\ttrain-auc:0.700768+0.000282956\ttest-auc:0.664082+0.00118578\n",
      "[36]\ttrain-auc:0.701784+0.000413529\ttest-auc:0.66449+0.00132526\n",
      "[37]\ttrain-auc:0.7027+0.000438266\ttest-auc:0.664761+0.00145947\n",
      "[38]\ttrain-auc:0.703692+0.000486817\ttest-auc:0.665108+0.00138686\n",
      "[39]\ttrain-auc:0.704487+0.000549476\ttest-auc:0.665409+0.00137471\n",
      "[40]\ttrain-auc:0.705432+0.000614625\ttest-auc:0.665747+0.00142492\n",
      "[41]\ttrain-auc:0.706288+0.000613734\ttest-auc:0.666016+0.00139986\n",
      "[42]\ttrain-auc:0.707015+0.000533788\ttest-auc:0.666237+0.00142586\n",
      "[43]\ttrain-auc:0.707786+0.000524264\ttest-auc:0.666492+0.00150537\n",
      "[44]\ttrain-auc:0.708602+0.000498486\ttest-auc:0.666613+0.00149206\n",
      "[45]\ttrain-auc:0.709253+0.000438126\ttest-auc:0.666963+0.00153046\n",
      "[46]\ttrain-auc:0.710034+0.000359729\ttest-auc:0.667176+0.00165586\n",
      "[47]\ttrain-auc:0.710834+0.000239112\ttest-auc:0.667429+0.00162039\n",
      "[48]\ttrain-auc:0.711653+0.000235725\ttest-auc:0.667665+0.00153375\n",
      "[49]\ttrain-auc:0.712289+0.000251683\ttest-auc:0.667828+0.00148086\n",
      "[50]\ttrain-auc:0.71297+0.000369803\ttest-auc:0.668054+0.001479\n",
      "[51]\ttrain-auc:0.713767+0.000356132\ttest-auc:0.668281+0.00155959\n",
      "[52]\ttrain-auc:0.714316+0.00036164\ttest-auc:0.668362+0.00156157\n",
      "[53]\ttrain-auc:0.714916+0.000296148\ttest-auc:0.668428+0.00158049\n",
      "[54]\ttrain-auc:0.715487+0.000297209\ttest-auc:0.668506+0.00157045\n",
      "[55]\ttrain-auc:0.715889+0.000349683\ttest-auc:0.668629+0.00149607\n",
      "[56]\ttrain-auc:0.716443+0.000447625\ttest-auc:0.668726+0.00146178\n",
      "[57]\ttrain-auc:0.717076+0.000516026\ttest-auc:0.668809+0.00144695\n",
      "[58]\ttrain-auc:0.717739+0.000484535\ttest-auc:0.668874+0.00151359\n",
      "[59]\ttrain-auc:0.71837+0.000412663\ttest-auc:0.669028+0.00164335\n",
      "[60]\ttrain-auc:0.718938+0.000326524\ttest-auc:0.66918+0.00168314\n",
      "[61]\ttrain-auc:0.71946+0.000368604\ttest-auc:0.66926+0.0016932\n",
      "[62]\ttrain-auc:0.72011+0.000476743\ttest-auc:0.669405+0.00166439\n",
      "[63]\ttrain-auc:0.720667+0.00048405\ttest-auc:0.66948+0.00163709\n",
      "[64]\ttrain-auc:0.72127+0.000395459\ttest-auc:0.669655+0.00170243\n",
      "[65]\ttrain-auc:0.721822+0.000490526\ttest-auc:0.669753+0.00166957\n",
      "[66]\ttrain-auc:0.722315+0.000633036\ttest-auc:0.669875+0.00171109\n",
      "[67]\ttrain-auc:0.722944+0.000579366\ttest-auc:0.67+0.00178568\n",
      "[68]\ttrain-auc:0.7233+0.000590443\ttest-auc:0.670008+0.00174181\n",
      "[69]\ttrain-auc:0.723841+0.000659564\ttest-auc:0.670084+0.00172012\n",
      "[70]\ttrain-auc:0.724415+0.000738958\ttest-auc:0.67017+0.00176391\n",
      "[71]\ttrain-auc:0.724915+0.00089615\ttest-auc:0.670226+0.00174813\n",
      "[72]\ttrain-auc:0.725386+0.000728864\ttest-auc:0.670284+0.001754\n",
      "[73]\ttrain-auc:0.72582+0.000806398\ttest-auc:0.670335+0.001758\n",
      "[74]\ttrain-auc:0.726346+0.000869171\ttest-auc:0.670403+0.00176431\n",
      "[75]\ttrain-auc:0.726901+0.000815538\ttest-auc:0.670475+0.00179197\n",
      "[76]\ttrain-auc:0.727558+0.00073084\ttest-auc:0.670512+0.00178632\n",
      "[77]\ttrain-auc:0.727973+0.000625768\ttest-auc:0.670621+0.00188348\n",
      "[78]\ttrain-auc:0.72853+0.000518052\ttest-auc:0.670679+0.00182518\n",
      "[79]\ttrain-auc:0.728868+0.000637033\ttest-auc:0.670706+0.00190431\n",
      "[80]\ttrain-auc:0.729345+0.000637948\ttest-auc:0.670757+0.00185617\n",
      "[81]\ttrain-auc:0.72976+0.000732018\ttest-auc:0.670804+0.00186755\n",
      "[82]\ttrain-auc:0.730135+0.000751287\ttest-auc:0.67081+0.00186889\n",
      "[83]\ttrain-auc:0.73041+0.000809041\ttest-auc:0.670806+0.00191661\n",
      "[84]\ttrain-auc:0.730821+0.00078424\ttest-auc:0.670906+0.00193394\n",
      "[85]\ttrain-auc:0.731265+0.000819313\ttest-auc:0.670987+0.00191844\n",
      "[86]\ttrain-auc:0.731601+0.000855312\ttest-auc:0.671037+0.001911\n",
      "[87]\ttrain-auc:0.732166+0.000956316\ttest-auc:0.671153+0.00184528\n",
      "[88]\ttrain-auc:0.732603+0.00101102\ttest-auc:0.671235+0.0018246\n",
      "[89]\ttrain-auc:0.733037+0.000947569\ttest-auc:0.671283+0.00174722\n",
      "[90]\ttrain-auc:0.733416+0.000957509\ttest-auc:0.671334+0.00171029\n",
      "[91]\ttrain-auc:0.73384+0.00100209\ttest-auc:0.671373+0.00177598\n",
      "[92]\ttrain-auc:0.73421+0.00103766\ttest-auc:0.671479+0.00170601\n",
      "[93]\ttrain-auc:0.734699+0.00104173\ttest-auc:0.671493+0.0017197\n",
      "[94]\ttrain-auc:0.735156+0.00102443\ttest-auc:0.671567+0.00180768\n",
      "[95]\ttrain-auc:0.735476+0.00104855\ttest-auc:0.671584+0.00182546\n",
      "[96]\ttrain-auc:0.735863+0.00112259\ttest-auc:0.671682+0.00188677\n",
      "[97]\ttrain-auc:0.73614+0.00114071\ttest-auc:0.671713+0.00189254\n",
      "[98]\ttrain-auc:0.736635+0.00128357\ttest-auc:0.671764+0.00195064\n",
      "[99]\ttrain-auc:0.736972+0.00135027\ttest-auc:0.671791+0.00196716\n",
      "[100]\ttrain-auc:0.737266+0.00135377\ttest-auc:0.671822+0.00201118\n",
      "[101]\ttrain-auc:0.737571+0.00145458\ttest-auc:0.671838+0.00195143\n",
      "[102]\ttrain-auc:0.737981+0.00156496\ttest-auc:0.671874+0.00195305\n",
      "[103]\ttrain-auc:0.738214+0.00161618\ttest-auc:0.671855+0.00200515\n",
      "[104]\ttrain-auc:0.738518+0.00154485\ttest-auc:0.671861+0.00200359\n",
      "[105]\ttrain-auc:0.738878+0.00138977\ttest-auc:0.671936+0.00202666\n",
      "[106]\ttrain-auc:0.739235+0.00142982\ttest-auc:0.671965+0.00200775\n",
      "[107]\ttrain-auc:0.739748+0.00138817\ttest-auc:0.672004+0.00194419\n",
      "[108]\ttrain-auc:0.740201+0.00131383\ttest-auc:0.672024+0.00192041\n",
      "[109]\ttrain-auc:0.740662+0.00128272\ttest-auc:0.672021+0.00188622\n",
      "[110]\ttrain-auc:0.741083+0.00130344\ttest-auc:0.672046+0.00194903\n",
      "[111]\ttrain-auc:0.741406+0.00142255\ttest-auc:0.672032+0.00195459\n",
      "[112]\ttrain-auc:0.741769+0.00154053\ttest-auc:0.672072+0.00193358\n",
      "[113]\ttrain-auc:0.742083+0.00146308\ttest-auc:0.67211+0.00191878\n",
      "[114]\ttrain-auc:0.742446+0.00134332\ttest-auc:0.672095+0.00194717\n",
      "[115]\ttrain-auc:0.742757+0.00142454\ttest-auc:0.672016+0.00191242\n",
      "[116]\ttrain-auc:0.743153+0.00135416\ttest-auc:0.672074+0.00192027\n",
      "[117]\ttrain-auc:0.743516+0.00117906\ttest-auc:0.67207+0.00193607\n",
      "[118]\ttrain-auc:0.743846+0.0012275\ttest-auc:0.67207+0.00191486\n",
      "[119]\ttrain-auc:0.744131+0.00118875\ttest-auc:0.672102+0.0019023\n",
      "[120]\ttrain-auc:0.744411+0.00123214\ttest-auc:0.672113+0.001874\n",
      "[121]\ttrain-auc:0.744663+0.00122631\ttest-auc:0.672146+0.00191828\n",
      "[122]\ttrain-auc:0.745007+0.0011444\ttest-auc:0.672164+0.00193053\n",
      "[123]\ttrain-auc:0.745413+0.000998092\ttest-auc:0.672191+0.00200455\n",
      "[124]\ttrain-auc:0.745797+0.000967712\ttest-auc:0.672221+0.00202596\n",
      "[125]\ttrain-auc:0.746067+0.00103155\ttest-auc:0.672214+0.00203943\n",
      "[126]\ttrain-auc:0.746308+0.00107308\ttest-auc:0.672224+0.00204688\n",
      "[127]\ttrain-auc:0.746619+0.00110211\ttest-auc:0.672249+0.00200447\n"
     ]
    },
    {
     "name": "stdout",
     "output_type": "stream",
     "text": [
      "[128]\ttrain-auc:0.746986+0.00118264\ttest-auc:0.672285+0.00196003\n",
      "[129]\ttrain-auc:0.747266+0.00116986\ttest-auc:0.672283+0.00193377\n",
      "[130]\ttrain-auc:0.747519+0.00118222\ttest-auc:0.67227+0.00192063\n",
      "[131]\ttrain-auc:0.747874+0.001327\ttest-auc:0.672298+0.00190036\n",
      "[132]\ttrain-auc:0.748267+0.00115474\ttest-auc:0.672278+0.00192477\n",
      "[133]\ttrain-auc:0.74867+0.00111588\ttest-auc:0.672322+0.0019571\n",
      "[134]\ttrain-auc:0.749031+0.00114127\ttest-auc:0.672362+0.0019545\n",
      "[135]\ttrain-auc:0.749405+0.00102647\ttest-auc:0.67235+0.00193994\n",
      "[136]\ttrain-auc:0.749709+0.000996634\ttest-auc:0.672353+0.00194021\n",
      "[137]\ttrain-auc:0.749967+0.00103719\ttest-auc:0.67239+0.0019672\n",
      "[138]\ttrain-auc:0.750293+0.00104991\ttest-auc:0.672407+0.0019904\n",
      "[139]\ttrain-auc:0.750604+0.00110667\ttest-auc:0.6724+0.00198597\n",
      "[140]\ttrain-auc:0.750977+0.00121404\ttest-auc:0.6724+0.00202465\n",
      "[141]\ttrain-auc:0.751466+0.0012674\ttest-auc:0.672396+0.00202997\n",
      "[142]\ttrain-auc:0.751789+0.00126448\ttest-auc:0.672381+0.00204567\n",
      "[143]\ttrain-auc:0.752115+0.00125801\ttest-auc:0.672366+0.00205191\n",
      "[144]\ttrain-auc:0.752474+0.00125564\ttest-auc:0.67234+0.00205731\n",
      "[145]\ttrain-auc:0.752861+0.0012864\ttest-auc:0.672312+0.00212487\n",
      "[146]\ttrain-auc:0.75317+0.00134756\ttest-auc:0.672336+0.00210945\n",
      "[147]\ttrain-auc:0.753457+0.00122799\ttest-auc:0.672348+0.00209388\n",
      "[148]\ttrain-auc:0.753684+0.00116335\ttest-auc:0.672313+0.00211027\n",
      "[149]\ttrain-auc:0.753992+0.00113663\ttest-auc:0.672381+0.00210896\n",
      "[150]\ttrain-auc:0.754361+0.00102986\ttest-auc:0.672299+0.00214874\n",
      "[151]\ttrain-auc:0.754653+0.00107461\ttest-auc:0.672384+0.00215987\n",
      "[152]\ttrain-auc:0.754982+0.0010148\ttest-auc:0.672414+0.00216496\n",
      "[153]\ttrain-auc:0.755367+0.000917737\ttest-auc:0.672376+0.00212568\n",
      "[154]\ttrain-auc:0.755654+0.000903861\ttest-auc:0.672332+0.00213217\n",
      "[155]\ttrain-auc:0.755932+0.000981144\ttest-auc:0.672315+0.00217165\n",
      "[156]\ttrain-auc:0.756268+0.000895298\ttest-auc:0.672242+0.00219815\n",
      "[157]\ttrain-auc:0.756589+0.000865905\ttest-auc:0.67223+0.00218912\n",
      "[158]\ttrain-auc:0.756963+0.000784547\ttest-auc:0.672198+0.00220861\n",
      "[159]\ttrain-auc:0.757223+0.000798076\ttest-auc:0.672225+0.00218583\n",
      "[160]\ttrain-auc:0.757605+0.00077757\ttest-auc:0.672217+0.00216331\n",
      "[161]\ttrain-auc:0.757851+0.000768057\ttest-auc:0.672246+0.00212746\n",
      "[162]\ttrain-auc:0.758061+0.00075522\ttest-auc:0.67225+0.00212955\n",
      "[163]\ttrain-auc:0.758533+0.000757221\ttest-auc:0.672294+0.00216133\n",
      "[164]\ttrain-auc:0.758761+0.000786663\ttest-auc:0.672263+0.00214964\n",
      "[165]\ttrain-auc:0.759033+0.000892643\ttest-auc:0.672275+0.00212356\n",
      "[166]\ttrain-auc:0.759298+0.000896445\ttest-auc:0.672259+0.00209994\n",
      "[167]\ttrain-auc:0.75952+0.000853455\ttest-auc:0.672266+0.00209218\n",
      "[168]\ttrain-auc:0.75988+0.000876455\ttest-auc:0.672228+0.00206155\n",
      "[169]\ttrain-auc:0.760287+0.000889703\ttest-auc:0.672212+0.00213886\n",
      "[170]\ttrain-auc:0.760627+0.000882962\ttest-auc:0.672297+0.00216143\n",
      "[171]\ttrain-auc:0.760967+0.000844667\ttest-auc:0.672298+0.00216821\n",
      "[172]\ttrain-auc:0.761291+0.000968189\ttest-auc:0.672325+0.00214786\n",
      "[173]\ttrain-auc:0.761703+0.00105689\ttest-auc:0.672371+0.00206996\n",
      "[174]\ttrain-auc:0.762149+0.000992675\ttest-auc:0.672352+0.00204421\n",
      "[175]\ttrain-auc:0.762447+0.000931722\ttest-auc:0.672298+0.00206696\n",
      "[176]\ttrain-auc:0.76279+0.0010136\ttest-auc:0.672281+0.00207807\n",
      "[177]\ttrain-auc:0.763026+0.000946205\ttest-auc:0.67233+0.00210683\n",
      "[178]\ttrain-auc:0.763309+0.00101799\ttest-auc:0.672343+0.0021031\n",
      "[179]\ttrain-auc:0.763637+0.00100796\ttest-auc:0.672319+0.0020942\n",
      "[180]\ttrain-auc:0.764032+0.000957619\ttest-auc:0.672327+0.00206464\n",
      "[181]\ttrain-auc:0.764323+0.000985676\ttest-auc:0.672314+0.00211176\n",
      "[182]\ttrain-auc:0.764656+0.000910816\ttest-auc:0.672286+0.00207156\n",
      "[183]\ttrain-auc:0.76494+0.00085247\ttest-auc:0.672305+0.00211137\n",
      "[184]\ttrain-auc:0.765173+0.000863267\ttest-auc:0.672289+0.00209835\n",
      "[185]\ttrain-auc:0.765494+0.000975628\ttest-auc:0.672318+0.00215907\n",
      "[186]\ttrain-auc:0.765805+0.00104393\ttest-auc:0.672312+0.00218277\n",
      "[187]\ttrain-auc:0.766138+0.00107488\ttest-auc:0.672304+0.00220079\n",
      "[188]\ttrain-auc:0.766439+0.00114251\ttest-auc:0.672279+0.00222745\n",
      "[189]\ttrain-auc:0.766643+0.00114104\ttest-auc:0.672273+0.0022398\n",
      "[190]\ttrain-auc:0.76698+0.00114137\ttest-auc:0.672251+0.00223709\n",
      "[191]\ttrain-auc:0.767329+0.00107393\ttest-auc:0.672198+0.00223385\n",
      "[192]\ttrain-auc:0.767639+0.00106555\ttest-auc:0.672206+0.00222482\n",
      "[193]\ttrain-auc:0.767925+0.00101226\ttest-auc:0.672194+0.00223003\n",
      "[194]\ttrain-auc:0.768174+0.00101406\ttest-auc:0.672175+0.00217705\n",
      "[195]\ttrain-auc:0.768425+0.00102735\ttest-auc:0.672205+0.00219763\n",
      "[196]\ttrain-auc:0.768636+0.00103809\ttest-auc:0.672195+0.00221065\n",
      "[197]\ttrain-auc:0.768813+0.00101572\ttest-auc:0.672203+0.00223936\n",
      "[198]\ttrain-auc:0.769105+0.00105457\ttest-auc:0.672151+0.00223191\n",
      "[199]\ttrain-auc:0.769343+0.00104568\ttest-auc:0.672097+0.00220633\n",
      "[200]\ttrain-auc:0.769606+0.00107157\ttest-auc:0.672072+0.00221858\n",
      "[201]\ttrain-auc:0.769868+0.00114639\ttest-auc:0.672114+0.0021661\n"
     ]
    },
    {
     "name": "stderr",
     "output_type": "stream",
     "text": [
      "/home/monster/.conda/envs/tensorflow/lib/python3.6/site-packages/sklearn/preprocessing/label.py:219: DataConversionWarning: A column-vector y was passed when a 1d array was expected. Please change the shape of y to (n_samples, ), for example using ravel().\n",
      "  y = column_or_1d(y, warn=True)\n",
      "/home/monster/.conda/envs/tensorflow/lib/python3.6/site-packages/sklearn/preprocessing/label.py:252: DataConversionWarning: A column-vector y was passed when a 1d array was expected. Please change the shape of y to (n_samples, ), for example using ravel().\n",
      "  y = column_or_1d(y, warn=True)\n"
     ]
    },
    {
     "name": "stdout",
     "output_type": "stream",
     "text": [
      "\n",
      "Model Report\n",
      "Accuracy : 0.7846\n",
      "AUC Score (Train): 0.676898\n"
     ]
    },
    {
     "data": {
      "image/png": "[encoded data removed]",
      "text/plain": [
       "<Figure size 432x288 with 1 Axes>"
      ]
     },
     "metadata": {
      "needs_background": "light"
     },
     "output_type": "display_data"
    }
   ],
   "source": [
    "modelfit(xgb1, X_train,y_train,X_validation,y_validation,test_df,sub_df,predictors,outcome,useTrainCV=True, cv_folds=5, early_stopping_rounds=50)"
   ]
  },
  {
   "cell_type": "code",
   "execution_count": 53,
   "metadata": {},
   "outputs": [
    {
     "name": "stderr",
     "output_type": "stream",
     "text": [
      "/home/monster/.conda/envs/tensorflow/lib/python3.6/site-packages/sklearn/preprocessing/label.py:219: DataConversionWarning: A column-vector y was passed when a 1d array was expected. Please change the shape of y to (n_samples, ), for example using ravel().\n",
      "  y = column_or_1d(y, warn=True)\n",
      "/home/monster/.conda/envs/tensorflow/lib/python3.6/site-packages/sklearn/preprocessing/label.py:252: DataConversionWarning: A column-vector y was passed when a 1d array was expected. Please change the shape of y to (n_samples, ), for example using ravel().\n",
      "  y = column_or_1d(y, warn=True)\n"
     ]
    },
    {
     "name": "stdout",
     "output_type": "stream",
     "text": [
      "{'colsample_bytree': 0.7, 'subsample': 0.9} 0.6733562951759898\n"
     ]
    }
   ],
   "source": [
    "param_test4 = {\n",
    " 'subsample':[i/10.0 for i in range(6,10)],\n",
    " 'colsample_bytree':[i/10.0 for i in range(6,10)]\n",
    "}\n",
    "\n",
    "gsearch4 = GridSearchCV(estimator = XGBClassifier( learning_rate =0.1, n_estimators=200, max_depth=6,\n",
    " min_child_weight=8, gamma=0, subsample=0.8, colsample_bytree=0.8,\n",
    " objective= 'binary:logistic', nthread=-1, scale_pos_weight=1,seed=27), \n",
    " param_grid = param_test4, scoring='roc_auc',n_jobs=4,iid=False, cv=5)\n",
    "gsearch4.fit(X_train,y_train)\n",
    "\n",
    "print(gsearch4.best_params_, gsearch4.best_score_)\n"
   ]
  },
  {
   "cell_type": "code",
   "execution_count": 57,
   "metadata": {},
   "outputs": [
    {
     "name": "stderr",
     "output_type": "stream",
     "text": [
      "/home/monster/.conda/envs/tensorflow/lib/python3.6/site-packages/sklearn/preprocessing/label.py:219: DataConversionWarning: A column-vector y was passed when a 1d array was expected. Please change the shape of y to (n_samples, ), for example using ravel().\n",
      "  y = column_or_1d(y, warn=True)\n",
      "/home/monster/.conda/envs/tensorflow/lib/python3.6/site-packages/sklearn/preprocessing/label.py:252: DataConversionWarning: A column-vector y was passed when a 1d array was expected. Please change the shape of y to (n_samples, ), for example using ravel().\n",
      "  y = column_or_1d(y, warn=True)\n"
     ]
    },
    {
     "name": "stdout",
     "output_type": "stream",
     "text": [
      "{'colsample_bytree': 0.7, 'subsample': 0.95} 0.6736259793369135\n"
     ]
    }
   ],
   "source": [
    "param_test5 = {\n",
    " 'subsample':[i/100.0 for i in range(85,100,5)],\n",
    " 'colsample_bytree':[i/100.0 for i in range(65,80,5)]\n",
    "}\n",
    "\n",
    "gsearch5 = GridSearchCV(estimator = XGBClassifier( learning_rate =0.1, n_estimators=200, max_depth=6,\n",
    " min_child_weight=8, gamma=0, subsample=0.8, colsample_bytree=0.8,\n",
    " objective= 'binary:logistic', nthread=4, scale_pos_weight=1,seed=27), \n",
    " param_grid = param_test5, scoring='roc_auc',n_jobs=4,iid=False, cv=5)\n",
    "\n",
    "gsearch5.fit(X_train,y_train)\n",
    "print(gsearch5.best_params_, gsearch5.best_score_)\n"
   ]
  },
  {
   "cell_type": "code",
   "execution_count": 58,
   "metadata": {},
   "outputs": [
    {
     "name": "stderr",
     "output_type": "stream",
     "text": [
      "/home/monster/.conda/envs/tensorflow/lib/python3.6/site-packages/sklearn/preprocessing/label.py:219: DataConversionWarning: A column-vector y was passed when a 1d array was expected. Please change the shape of y to (n_samples, ), for example using ravel().\n",
      "  y = column_or_1d(y, warn=True)\n",
      "/home/monster/.conda/envs/tensorflow/lib/python3.6/site-packages/sklearn/preprocessing/label.py:252: DataConversionWarning: A column-vector y was passed when a 1d array was expected. Please change the shape of y to (n_samples, ), for example using ravel().\n",
      "  y = column_or_1d(y, warn=True)\n"
     ]
    },
    {
     "name": "stdout",
     "output_type": "stream",
     "text": [
      "{'reg_alpha': 1e-05} 0.6736259887264915\n"
     ]
    }
   ],
   "source": [
    "# param_test6 = {\n",
    "#  'reg_alpha':[1e-5, 1e-2, 0.1, 1, 100]\n",
    "# }\n",
    "\n",
    "# gsearch6 = GridSearchCV(estimator = XGBClassifier( learning_rate =0.1, n_estimators=200, max_depth=6,\n",
    "#  min_child_weight=8, gamma=0, subsample=0.95, colsample_bytree=0.7,\n",
    "#  objective= 'binary:logistic', nthread=-1, scale_pos_weight=1,seed=27), \n",
    "#  param_grid = param_test6, scoring='roc_auc',n_jobs=4,iid=False, cv=5)\n",
    "\n",
    "# gsearch6.fit(X_train,y_train)\n",
    "\n",
    "\n",
    "# print(gsearch6.best_params_, gsearch6.best_score_)"
   ]
  },
  {
   "cell_type": "code",
   "execution_count": 59,
   "metadata": {},
   "outputs": [
    {
     "name": "stderr",
     "output_type": "stream",
     "text": [
      "/home/monster/.conda/envs/tensorflow/lib/python3.6/site-packages/sklearn/preprocessing/label.py:219: DataConversionWarning: A column-vector y was passed when a 1d array was expected. Please change the shape of y to (n_samples, ), for example using ravel().\n",
      "  y = column_or_1d(y, warn=True)\n",
      "/home/monster/.conda/envs/tensorflow/lib/python3.6/site-packages/sklearn/preprocessing/label.py:252: DataConversionWarning: A column-vector y was passed when a 1d array was expected. Please change the shape of y to (n_samples, ), for example using ravel().\n",
      "  y = column_or_1d(y, warn=True)\n"
     ]
    },
    {
     "name": "stdout",
     "output_type": "stream",
     "text": [
      "{'reg_alpha': 0} 0.6735705668923194\n"
     ]
    }
   ],
   "source": [
    "# param_test7 = {\n",
    "#  'reg_alpha':[0, 0.001, 0.005, 0.01, 0.05,0.09]\n",
    "# }\n",
    "\n",
    "# gsearch7 = GridSearchCV(estimator = XGBClassifier( learning_rate =0.1, n_estimators=200, max_depth=6,\n",
    "#  min_child_weight=8, gamma=0.1,subsample=0.95, colsample_bytree=0.7,\n",
    "#  objective= 'binary:logistic', nthread=-1, scale_pos_weight=1,seed=27), \n",
    "#  param_grid = param_test7, scoring='roc_auc',n_jobs=4,iid=False, cv=5)\n",
    "# gsearch7.fit(X_train,y_train)\n",
    "\n",
    "# print(gsearch7.best_params_, gsearch7.best_score_)\n"
   ]
  },
  {
   "cell_type": "code",
   "execution_count": null,
   "metadata": {},
   "outputs": [],
   "source": []
  },
  {
   "cell_type": "code",
   "execution_count": null,
   "metadata": {},
   "outputs": [],
   "source": []
  },
  {
   "cell_type": "code",
   "execution_count": null,
   "metadata": {},
   "outputs": [],
   "source": []
  },
  {
   "cell_type": "code",
   "execution_count": 73,
   "metadata": {},
   "outputs": [],
   "source": [
    "xgb4 = XGBClassifier(\n",
    " learning_rate =0.1,\n",
    " n_estimators=1000,\n",
    " max_depth=6,\n",
    " min_child_weight=8,\n",
    " gamma=0,\n",
    " subsample=0.9,\n",
    " colsample_bytree=1,\n",
    " objective= 'binary:logistic',\n",
    " nthread=-1,\n",
    " scale_pos_weight=1,\n",
    " seed=27)\n"
   ]
  },
  {
   "cell_type": "code",
   "execution_count": 74,
   "metadata": {},
   "outputs": [
    {
     "name": "stdout",
     "output_type": "stream",
     "text": [
      "[0]\ttrain-auc:0.641044+0.00102676\ttest-auc:0.627981+0.00281759\n",
      "[1]\ttrain-auc:0.649599+0.00188012\ttest-auc:0.635125+0.00237959\n",
      "[2]\ttrain-auc:0.654455+0.00161769\ttest-auc:0.638625+0.00212048\n",
      "[3]\ttrain-auc:0.656957+0.00155937\ttest-auc:0.640714+0.0016168\n",
      "[4]\ttrain-auc:0.660045+0.00131354\ttest-auc:0.64236+0.00126039\n",
      "[5]\ttrain-auc:0.662808+0.000907502\ttest-auc:0.643841+0.00130584\n",
      "[6]\ttrain-auc:0.664286+0.000619887\ttest-auc:0.644885+0.00146297\n",
      "[7]\ttrain-auc:0.666409+0.00070704\ttest-auc:0.646173+0.00177108\n",
      "[8]\ttrain-auc:0.668139+0.000578035\ttest-auc:0.647405+0.00185577\n",
      "[9]\ttrain-auc:0.670159+0.000420486\ttest-auc:0.648775+0.0020101\n",
      "[10]\ttrain-auc:0.671761+0.0005422\ttest-auc:0.649621+0.00193704\n",
      "[11]\ttrain-auc:0.673297+0.000428784\ttest-auc:0.650614+0.00175678\n",
      "[12]\ttrain-auc:0.674758+0.00035596\ttest-auc:0.651418+0.00156005\n",
      "[13]\ttrain-auc:0.675976+0.000474503\ttest-auc:0.652219+0.00159193\n",
      "[14]\ttrain-auc:0.677221+0.000416195\ttest-auc:0.652705+0.00156201\n",
      "[15]\ttrain-auc:0.678467+0.000212558\ttest-auc:0.653367+0.00160939\n",
      "[16]\ttrain-auc:0.679684+7.89643e-05\ttest-auc:0.653871+0.00141321\n",
      "[17]\ttrain-auc:0.681098+0.000249458\ttest-auc:0.654483+0.00131673\n",
      "[18]\ttrain-auc:0.682313+0.000365847\ttest-auc:0.654979+0.00119952\n",
      "[19]\ttrain-auc:0.683598+0.00055922\ttest-auc:0.65565+0.000943411\n",
      "[20]\ttrain-auc:0.684829+0.000465795\ttest-auc:0.656433+0.00106579\n",
      "[21]\ttrain-auc:0.686225+0.000552637\ttest-auc:0.657118+0.000946435\n",
      "[22]\ttrain-auc:0.687461+0.000560581\ttest-auc:0.657788+0.000975185\n",
      "[23]\ttrain-auc:0.688628+0.000707356\ttest-auc:0.658419+0.000951675\n",
      "[24]\ttrain-auc:0.689916+0.000653566\ttest-auc:0.659051+0.00111371\n",
      "[25]\ttrain-auc:0.691091+0.000563487\ttest-auc:0.659566+0.00117167\n",
      "[26]\ttrain-auc:0.692155+0.000788128\ttest-auc:0.660065+0.00107501\n",
      "[27]\ttrain-auc:0.69325+0.000619386\ttest-auc:0.660508+0.00118314\n",
      "[28]\ttrain-auc:0.694444+0.000669573\ttest-auc:0.661003+0.0011811\n",
      "[29]\ttrain-auc:0.69579+0.000639601\ttest-auc:0.66149+0.00123131\n",
      "[30]\ttrain-auc:0.696833+0.000620531\ttest-auc:0.661896+0.0011306\n",
      "[31]\ttrain-auc:0.697918+0.000660998\ttest-auc:0.662284+0.000964785\n",
      "[32]\ttrain-auc:0.698975+0.000584204\ttest-auc:0.662629+0.0010398\n",
      "[33]\ttrain-auc:0.699949+0.000569381\ttest-auc:0.662944+0.000927235\n",
      "[34]\ttrain-auc:0.700831+0.000664748\ttest-auc:0.663259+0.000867165\n",
      "[35]\ttrain-auc:0.701717+0.000550069\ttest-auc:0.663604+0.000879767\n",
      "[36]\ttrain-auc:0.702834+0.000531015\ttest-auc:0.664071+0.00103341\n",
      "[37]\ttrain-auc:0.70391+0.000563746\ttest-auc:0.664471+0.00100382\n",
      "[38]\ttrain-auc:0.704831+0.000559718\ttest-auc:0.66479+0.00101566\n",
      "[39]\ttrain-auc:0.705707+0.000629469\ttest-auc:0.665052+0.00102687\n",
      "[40]\ttrain-auc:0.706607+0.000613231\ttest-auc:0.665295+0.00102055\n",
      "[41]\ttrain-auc:0.707538+0.000560993\ttest-auc:0.665547+0.000985369\n",
      "[42]\ttrain-auc:0.708381+0.000632187\ttest-auc:0.66582+0.000925604\n",
      "[43]\ttrain-auc:0.709275+0.000541278\ttest-auc:0.666247+0.000990523\n",
      "[44]\ttrain-auc:0.710052+0.000543789\ttest-auc:0.666426+0.00102861\n",
      "[45]\ttrain-auc:0.710875+0.000441377\ttest-auc:0.666579+0.00112304\n",
      "[46]\ttrain-auc:0.71162+0.00038743\ttest-auc:0.66677+0.00107852\n",
      "[47]\ttrain-auc:0.71232+0.000363233\ttest-auc:0.666907+0.00111261\n",
      "[48]\ttrain-auc:0.713013+0.000297516\ttest-auc:0.667131+0.00126162\n",
      "[49]\ttrain-auc:0.713757+0.000362258\ttest-auc:0.667347+0.00127889\n",
      "[50]\ttrain-auc:0.714504+0.000371267\ttest-auc:0.667573+0.00125443\n",
      "[51]\ttrain-auc:0.715112+0.000251214\ttest-auc:0.667654+0.00129092\n",
      "[52]\ttrain-auc:0.715905+0.000395081\ttest-auc:0.667799+0.00136499\n",
      "[53]\ttrain-auc:0.716534+0.000420644\ttest-auc:0.668007+0.0013499\n",
      "[54]\ttrain-auc:0.717136+0.00031345\ttest-auc:0.668168+0.0014276\n",
      "[55]\ttrain-auc:0.717693+0.000306141\ttest-auc:0.668299+0.00144722\n",
      "[56]\ttrain-auc:0.718372+0.000534748\ttest-auc:0.668416+0.00143622\n",
      "[57]\ttrain-auc:0.719038+0.000583945\ttest-auc:0.668573+0.00142581\n",
      "[58]\ttrain-auc:0.719691+0.000454\ttest-auc:0.668792+0.00141778\n",
      "[59]\ttrain-auc:0.720395+0.000425771\ttest-auc:0.668999+0.00145695\n",
      "[60]\ttrain-auc:0.720871+0.000417316\ttest-auc:0.669073+0.00145982\n",
      "[61]\ttrain-auc:0.721376+0.000392024\ttest-auc:0.669188+0.0014091\n",
      "[62]\ttrain-auc:0.722031+0.000411327\ttest-auc:0.669322+0.00140067\n",
      "[63]\ttrain-auc:0.7224+0.000401641\ttest-auc:0.669409+0.00139587\n",
      "[64]\ttrain-auc:0.722933+0.000411512\ttest-auc:0.669489+0.0014083\n",
      "[65]\ttrain-auc:0.723396+0.000347504\ttest-auc:0.669597+0.00143533\n",
      "[66]\ttrain-auc:0.723793+0.000441083\ttest-auc:0.669643+0.00140354\n",
      "[67]\ttrain-auc:0.724458+0.000504856\ttest-auc:0.669853+0.00147858\n",
      "[68]\ttrain-auc:0.725046+0.000552533\ttest-auc:0.669941+0.00148764\n",
      "[69]\ttrain-auc:0.725566+0.000651768\ttest-auc:0.670043+0.00154965\n",
      "[70]\ttrain-auc:0.725972+0.000507721\ttest-auc:0.670171+0.00148821\n",
      "[71]\ttrain-auc:0.72639+0.000440828\ttest-auc:0.670195+0.00146973\n",
      "[72]\ttrain-auc:0.726881+0.000548062\ttest-auc:0.67027+0.0014744\n",
      "[73]\ttrain-auc:0.72732+0.000637278\ttest-auc:0.670357+0.00154311\n",
      "[74]\ttrain-auc:0.727894+0.000631839\ttest-auc:0.670436+0.00161529\n",
      "[75]\ttrain-auc:0.728409+0.000712982\ttest-auc:0.670505+0.00164836\n",
      "[76]\ttrain-auc:0.728925+0.000722793\ttest-auc:0.670526+0.00163067\n",
      "[77]\ttrain-auc:0.729401+0.000642376\ttest-auc:0.670616+0.0015361\n",
      "[78]\ttrain-auc:0.729989+0.000672965\ttest-auc:0.670714+0.0015505\n",
      "[79]\ttrain-auc:0.730434+0.000734615\ttest-auc:0.670756+0.00169607\n",
      "[80]\ttrain-auc:0.730956+0.000809277\ttest-auc:0.670787+0.001712\n",
      "[81]\ttrain-auc:0.731391+0.0008341\ttest-auc:0.670796+0.00164624\n",
      "[82]\ttrain-auc:0.731861+0.000888275\ttest-auc:0.670875+0.00163831\n",
      "[83]\ttrain-auc:0.732327+0.000921712\ttest-auc:0.670875+0.00162496\n",
      "[84]\ttrain-auc:0.732749+0.000971209\ttest-auc:0.670991+0.00170032\n",
      "[85]\ttrain-auc:0.73318+0.00102323\ttest-auc:0.671011+0.00166878\n",
      "[86]\ttrain-auc:0.733585+0.000920667\ttest-auc:0.671085+0.00170931\n",
      "[87]\ttrain-auc:0.733964+0.000869581\ttest-auc:0.671158+0.00175222\n",
      "[88]\ttrain-auc:0.73437+0.000951275\ttest-auc:0.671171+0.001741\n",
      "[89]\ttrain-auc:0.734933+0.00095741\ttest-auc:0.671219+0.00176972\n",
      "[90]\ttrain-auc:0.735205+0.00100571\ttest-auc:0.671242+0.00179493\n",
      "[91]\ttrain-auc:0.735446+0.000952324\ttest-auc:0.671283+0.00186918\n",
      "[92]\ttrain-auc:0.735845+0.00080225\ttest-auc:0.671373+0.00185073\n",
      "[93]\ttrain-auc:0.736157+0.000872036\ttest-auc:0.67141+0.00184003\n",
      "[94]\ttrain-auc:0.736626+0.00088517\ttest-auc:0.671496+0.00179604\n",
      "[95]\ttrain-auc:0.737143+0.000887482\ttest-auc:0.671518+0.0018454\n",
      "[96]\ttrain-auc:0.737441+0.000802251\ttest-auc:0.671576+0.00183148\n",
      "[97]\ttrain-auc:0.737791+0.000703297\ttest-auc:0.671584+0.00179185\n",
      "[98]\ttrain-auc:0.738104+0.000767053\ttest-auc:0.671613+0.00181603\n",
      "[99]\ttrain-auc:0.73864+0.00059949\ttest-auc:0.671608+0.00179138\n",
      "[100]\ttrain-auc:0.738976+0.000646492\ttest-auc:0.671617+0.00179107\n",
      "[101]\ttrain-auc:0.739262+0.000772582\ttest-auc:0.671653+0.0018184\n",
      "[102]\ttrain-auc:0.739637+0.000720655\ttest-auc:0.671675+0.00182421\n",
      "[103]\ttrain-auc:0.739961+0.000624378\ttest-auc:0.671742+0.00183195\n",
      "[104]\ttrain-auc:0.74031+0.000579493\ttest-auc:0.671803+0.00180467\n",
      "[105]\ttrain-auc:0.740599+0.000579583\ttest-auc:0.671814+0.00181357\n",
      "[106]\ttrain-auc:0.740957+0.000669218\ttest-auc:0.671761+0.00185914\n",
      "[107]\ttrain-auc:0.741374+0.000551716\ttest-auc:0.671766+0.00183718\n",
      "[108]\ttrain-auc:0.741865+0.000532427\ttest-auc:0.671788+0.00185167\n",
      "[109]\ttrain-auc:0.742298+0.000610768\ttest-auc:0.671826+0.00187251\n",
      "[110]\ttrain-auc:0.742659+0.000637217\ttest-auc:0.671843+0.00189909\n",
      "[111]\ttrain-auc:0.742925+0.000593196\ttest-auc:0.671884+0.00186907\n",
      "[112]\ttrain-auc:0.743363+0.000586155\ttest-auc:0.671879+0.00187584\n",
      "[113]\ttrain-auc:0.743751+0.00055872\ttest-auc:0.671946+0.00185124\n",
      "[114]\ttrain-auc:0.744106+0.000598237\ttest-auc:0.671964+0.0018556\n",
      "[115]\ttrain-auc:0.744478+0.000632275\ttest-auc:0.671972+0.00184835\n",
      "[116]\ttrain-auc:0.74484+0.000649222\ttest-auc:0.672036+0.00185703\n",
      "[117]\ttrain-auc:0.745279+0.000608021\ttest-auc:0.672006+0.00191298\n",
      "[118]\ttrain-auc:0.745606+0.00049732\ttest-auc:0.671999+0.00188709\n",
      "[119]\ttrain-auc:0.745854+0.00051148\ttest-auc:0.672003+0.00188463\n",
      "[120]\ttrain-auc:0.746288+0.000539197\ttest-auc:0.672022+0.00190417\n",
      "[121]\ttrain-auc:0.746614+0.000560462\ttest-auc:0.672062+0.00188273\n",
      "[122]\ttrain-auc:0.746984+0.000529676\ttest-auc:0.672073+0.00193664\n",
      "[123]\ttrain-auc:0.747336+0.000475428\ttest-auc:0.672123+0.00197033\n",
      "[124]\ttrain-auc:0.74765+0.000421013\ttest-auc:0.672122+0.00194279\n",
      "[125]\ttrain-auc:0.747914+0.000422249\ttest-auc:0.67211+0.00204679\n",
      "[126]\ttrain-auc:0.748362+0.000471501\ttest-auc:0.672158+0.00206631\n"
     ]
    },
    {
     "name": "stdout",
     "output_type": "stream",
     "text": [
      "[127]\ttrain-auc:0.748668+0.000584025\ttest-auc:0.672195+0.00203064\n",
      "[128]\ttrain-auc:0.748937+0.000626723\ttest-auc:0.672238+0.00202106\n",
      "[129]\ttrain-auc:0.749245+0.000537484\ttest-auc:0.672255+0.00200208\n",
      "[130]\ttrain-auc:0.749628+0.000644704\ttest-auc:0.672272+0.00206171\n",
      "[131]\ttrain-auc:0.750071+0.000525392\ttest-auc:0.672209+0.00205257\n",
      "[132]\ttrain-auc:0.750314+0.000512504\ttest-auc:0.67221+0.00204024\n",
      "[133]\ttrain-auc:0.750629+0.000600788\ttest-auc:0.672182+0.0020418\n",
      "[134]\ttrain-auc:0.750919+0.000588353\ttest-auc:0.672226+0.00206235\n",
      "[135]\ttrain-auc:0.751285+0.000540275\ttest-auc:0.672241+0.00206912\n",
      "[136]\ttrain-auc:0.751756+0.000483264\ttest-auc:0.672238+0.00209045\n",
      "[137]\ttrain-auc:0.752086+0.000471621\ttest-auc:0.672233+0.00213113\n",
      "[138]\ttrain-auc:0.752371+0.00057003\ttest-auc:0.672204+0.00214141\n",
      "[139]\ttrain-auc:0.752689+0.000624765\ttest-auc:0.672234+0.0021788\n",
      "[140]\ttrain-auc:0.753053+0.000590022\ttest-auc:0.672234+0.00221798\n",
      "[141]\ttrain-auc:0.753495+0.000634152\ttest-auc:0.672225+0.00222004\n",
      "[142]\ttrain-auc:0.753773+0.000602592\ttest-auc:0.672252+0.0022037\n",
      "[143]\ttrain-auc:0.754066+0.000575898\ttest-auc:0.672236+0.00222768\n",
      "[144]\ttrain-auc:0.754423+0.000654517\ttest-auc:0.67224+0.00222951\n",
      "[145]\ttrain-auc:0.754644+0.000732694\ttest-auc:0.672235+0.0022238\n",
      "[146]\ttrain-auc:0.754967+0.000748325\ttest-auc:0.672242+0.00221313\n",
      "[147]\ttrain-auc:0.755276+0.000660908\ttest-auc:0.672253+0.00225858\n",
      "[148]\ttrain-auc:0.755531+0.000741051\ttest-auc:0.672262+0.0022757\n",
      "[149]\ttrain-auc:0.755908+0.000740306\ttest-auc:0.672191+0.00224425\n",
      "[150]\ttrain-auc:0.756277+0.000899192\ttest-auc:0.672188+0.00227197\n",
      "[151]\ttrain-auc:0.756587+0.000827894\ttest-auc:0.672165+0.00229922\n",
      "[152]\ttrain-auc:0.756837+0.000880775\ttest-auc:0.67217+0.00229234\n",
      "[153]\ttrain-auc:0.757053+0.00092322\ttest-auc:0.672159+0.00226818\n",
      "[154]\ttrain-auc:0.75728+0.000980824\ttest-auc:0.67217+0.00230854\n",
      "[155]\ttrain-auc:0.757665+0.00102889\ttest-auc:0.672176+0.00232522\n",
      "[156]\ttrain-auc:0.757904+0.000934495\ttest-auc:0.672141+0.00234047\n",
      "[157]\ttrain-auc:0.758137+0.000909161\ttest-auc:0.672155+0.00234478\n",
      "[158]\ttrain-auc:0.75857+0.000960853\ttest-auc:0.672211+0.00230795\n",
      "[159]\ttrain-auc:0.758777+0.0010288\ttest-auc:0.672171+0.00235673\n",
      "[160]\ttrain-auc:0.759092+0.000970558\ttest-auc:0.672178+0.00236372\n",
      "[161]\ttrain-auc:0.759447+0.000928824\ttest-auc:0.672196+0.00241648\n",
      "[162]\ttrain-auc:0.759744+0.00090536\ttest-auc:0.672156+0.00242271\n",
      "[163]\ttrain-auc:0.759977+0.000875168\ttest-auc:0.672175+0.00243171\n",
      "[164]\ttrain-auc:0.760204+0.000902268\ttest-auc:0.672186+0.00246395\n",
      "[165]\ttrain-auc:0.76044+0.000912581\ttest-auc:0.672135+0.00248626\n",
      "[166]\ttrain-auc:0.760802+0.0008648\ttest-auc:0.672028+0.00253413\n",
      "[167]\ttrain-auc:0.761147+0.000812776\ttest-auc:0.671996+0.00252865\n",
      "[168]\ttrain-auc:0.761381+0.000754175\ttest-auc:0.671966+0.00253573\n",
      "[169]\ttrain-auc:0.761721+0.000672935\ttest-auc:0.671931+0.00248407\n",
      "[170]\ttrain-auc:0.761994+0.00073213\ttest-auc:0.671981+0.00247857\n",
      "[171]\ttrain-auc:0.762332+0.000850699\ttest-auc:0.671929+0.00246393\n",
      "[172]\ttrain-auc:0.762706+0.000804934\ttest-auc:0.671961+0.00237931\n",
      "[173]\ttrain-auc:0.763035+0.000848267\ttest-auc:0.671965+0.00232813\n",
      "[174]\ttrain-auc:0.763394+0.000764448\ttest-auc:0.67196+0.00233917\n",
      "[175]\ttrain-auc:0.763747+0.000800371\ttest-auc:0.671977+0.00238637\n",
      "[176]\ttrain-auc:0.764093+0.000787804\ttest-auc:0.671946+0.00239409\n",
      "[177]\ttrain-auc:0.764392+0.000768989\ttest-auc:0.671974+0.0023963\n",
      "[178]\ttrain-auc:0.764772+0.000822532\ttest-auc:0.672033+0.00238915\n",
      "[179]\ttrain-auc:0.765162+0.000819115\ttest-auc:0.672078+0.00240499\n"
     ]
    },
    {
     "name": "stderr",
     "output_type": "stream",
     "text": [
      "/home/monster/.conda/envs/tensorflow/lib/python3.6/site-packages/sklearn/preprocessing/label.py:219: DataConversionWarning: A column-vector y was passed when a 1d array was expected. Please change the shape of y to (n_samples, ), for example using ravel().\n",
      "  y = column_or_1d(y, warn=True)\n",
      "/home/monster/.conda/envs/tensorflow/lib/python3.6/site-packages/sklearn/preprocessing/label.py:252: DataConversionWarning: A column-vector y was passed when a 1d array was expected. Please change the shape of y to (n_samples, ), for example using ravel().\n",
      "  y = column_or_1d(y, warn=True)\n"
     ]
    },
    {
     "name": "stdout",
     "output_type": "stream",
     "text": [
      "\n",
      "Model Report\n",
      "Accuracy : 0.7846\n",
      "AUC Score (Train): 0.676386\n"
     ]
    },
    {
     "data": {
      "image/png": "[encoded data removed]",
      "text/plain": [
       "<Figure size 432x288 with 1 Axes>"
      ]
     },
     "metadata": {
      "needs_background": "light"
     },
     "output_type": "display_data"
    }
   ],
   "source": [
    "modelfit(xgb4, X_train,y_train,X_validation,y_validation,test_df,sub_df,predictors,outcome,useTrainCV=True, cv_folds=5, early_stopping_rounds=50)"
   ]
  },
  {
   "cell_type": "code",
   "execution_count": null,
   "metadata": {},
   "outputs": [],
   "source": []
  },
  {
   "cell_type": "code",
   "execution_count": null,
   "metadata": {},
   "outputs": [],
   "source": []
  },
  {
   "cell_type": "code",
   "execution_count": null,
   "metadata": {},
   "outputs": [],
   "source": []
  },
  {
   "cell_type": "code",
   "execution_count": null,
   "metadata": {},
   "outputs": [],
   "source": []
  },
  {
   "cell_type": "code",
   "execution_count": null,
   "metadata": {},
   "outputs": [],
   "source": []
  },
  {
   "cell_type": "code",
   "execution_count": null,
   "metadata": {},
   "outputs": [],
   "source": []
  },
  {
   "cell_type": "code",
   "execution_count": null,
   "metadata": {},
   "outputs": [],
   "source": []
  },
  {
   "cell_type": "code",
   "execution_count": null,
   "metadata": {},
   "outputs": [],
   "source": []
  },
  {
   "cell_type": "code",
   "execution_count": null,
   "metadata": {},
   "outputs": [],
   "source": []
  },
  {
   "cell_type": "code",
   "execution_count": null,
   "metadata": {},
   "outputs": [],
   "source": []
  },
  {
   "cell_type": "code",
   "execution_count": null,
   "metadata": {},
   "outputs": [],
   "source": []
  },
  {
   "cell_type": "code",
   "execution_count": null,
   "metadata": {},
   "outputs": [],
   "source": []
  },
  {
   "cell_type": "code",
   "execution_count": null,
   "metadata": {},
   "outputs": [],
   "source": [
    "\n",
    "\n",
    "\n",
    "\n",
    "\n",
    "\n",
    "\n",
    "\n",
    "\n",
    "\n",
    "\n",
    " \n",
    "\n",
    "\n",
    "\n",
    "\n",
    "\n",
    "\n",
    "\n",
    "\n",
    "\n",
    "\n",
    "\n",
    "\n",
    "\n",
    "\n",
    "\n"
   ]
  },
  {
   "cell_type": "code",
   "execution_count": null,
   "metadata": {},
   "outputs": [],
   "source": []
  },
  {
   "cell_type": "code",
   "execution_count": null,
   "metadata": {},
   "outputs": [],
   "source": []
  },
  {
   "cell_type": "code",
   "execution_count": null,
   "metadata": {},
   "outputs": [],
   "source": []
  },
  {
   "cell_type": "code",
   "execution_count": null,
   "metadata": {},
   "outputs": [],
   "source": []
  }
 ],
 "metadata": {
  "kernelspec": {
   "display_name": "tensorflow",
   "language": "python",
   "name": "tensorflow"
  },
  "language_info": {
   "codemirror_mode": {
    "name": "ipython",
    "version": 3
   },
   "file_extension": ".py",
   "mimetype": "text/x-python",
   "name": "python",
   "nbconvert_exporter": "python",
   "pygments_lexer": "ipython3",
   "version": "3.6.8"
  }
 },
 "nbformat": 4,
 "nbformat_minor": 2
}
