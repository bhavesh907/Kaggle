{
 "cells": [
  {
   "cell_type": "code",
   "execution_count": 1,
   "metadata": {},
   "outputs": [],
   "source": [
    "import pandas as pd\n",
    "import numpy as np\n",
    "import matplotlib.pyplot as plt"
   ]
  },
  {
   "cell_type": "code",
   "execution_count": null,
   "metadata": {},
   "outputs": [],
   "source": [
    "from feature_selector import FeatureSelector"
   ]
  },
  {
   "cell_type": "code",
   "execution_count": 2,
   "metadata": {},
   "outputs": [],
   "source": [
    "train_df = pd.read_csv('/home/monster/Downloads/kaggle/AV-L&T-loan/train.csv')\n",
    "test_df = pd.read_csv('/home/monster/Downloads/kaggle/AV-L&T-loan/test.csv')\n",
    "sub_df = pd.read_csv('/home/monster/Downloads/kaggle/AV-L&T-loan/sample_submission.csv')"
   ]
  },
  {
   "cell_type": "code",
   "execution_count": 3,
   "metadata": {},
   "outputs": [
    {
     "data": {
      "text/plain": [
       "((233154, 41), (112392, 40))"
      ]
     },
     "execution_count": 3,
     "metadata": {},
     "output_type": "execute_result"
    }
   ],
   "source": [
    "train_df.shape,test_df.shape"
   ]
  },
  {
   "cell_type": "code",
   "execution_count": 4,
   "metadata": {},
   "outputs": [],
   "source": [
    "train_df['is_train'] = ''\n",
    "test_df['is_train'] = ''\n",
    "data = pd.DataFrame()\n",
    "train_df.loc[:,'is_train'] = 1\n",
    "test_df.loc[:,'is_train'] = 0\n",
    "data = data.append(train_df,sort=False).append(test_df,sort=False)"
   ]
  },
  {
   "cell_type": "code",
   "execution_count": 5,
   "metadata": {},
   "outputs": [],
   "source": [
    "data.reset_index(inplace=True)"
   ]
  },
  {
   "cell_type": "code",
   "execution_count": 6,
   "metadata": {},
   "outputs": [],
   "source": [
    "#Treat missing values\n",
    "#86 % values are no so it is safe to impute NO\n",
    "data['Employment.Type'].fillna('Self employed',inplace=True)"
   ]
  },
  {
   "cell_type": "code",
   "execution_count": null,
   "metadata": {},
   "outputs": [],
   "source": [
    "data.apply(lambda x: sum(x.isnull()),axis=0)"
   ]
  },
  {
   "cell_type": "code",
   "execution_count": 7,
   "metadata": {},
   "outputs": [
    {
     "data": {
      "text/plain": [
       "((345546, 43), (233154, 42), (112392, 41))"
      ]
     },
     "execution_count": 7,
     "metadata": {},
     "output_type": "execute_result"
    }
   ],
   "source": [
    "data.shape,train_df.shape,test_df.shape"
   ]
  },
  {
   "cell_type": "code",
   "execution_count": 8,
   "metadata": {},
   "outputs": [],
   "source": [
    "#create mean and st dev features- leakage features\n",
    "ft_name = ['loan_default']\n",
    "var = ['branch_id','State_ID']\n",
    "fntouse = list([np.mean,np.sum])\n",
    "\n",
    "# temp2 = data.pivot_table(values='ltv',index=['Current_pincode_ID'],aggfunc=np.std)\n",
    "# # temp2.plot(kind='bar')\n",
    "# temp2.reset_index(inplace=True)\n",
    "# temp2.columns = ['Current_pincode_ID', 'ltv_stdev']\n",
    "for ftname in ft_name:\n",
    "    for fn2use in fntouse:\n",
    "        for var_name in var:\n",
    "            temp3 = train_df.pivot_table(values=ftname,index=[var_name],aggfunc=fn2use)\n",
    "            # temp2.plot(kind='bar')\n",
    "            temp3.reset_index(inplace=True)\n",
    "            temp3.columns = [var_name, var_name+'_'+ftname+'_'+str(fn2use).split(' ')[1]]\n",
    "            data = data.merge(temp3,on=var_name, how = 'left')\n",
    "    #         data[var_name+'_stdev'] = data[ftname]-data[var_name+'_'+ftname+'_mean']\n",
    "\n",
    "            # df = pd.concat([temp2,temp3],axis=1)"
   ]
  },
  {
   "cell_type": "code",
   "execution_count": null,
   "metadata": {},
   "outputs": [],
   "source": [
    "data.apply(lambda x: sum(x.isnull()),axis=0)"
   ]
  },
  {
   "cell_type": "code",
   "execution_count": null,
   "metadata": {},
   "outputs": [],
   "source": [
    "data.columns"
   ]
  },
  {
   "cell_type": "code",
   "execution_count": null,
   "metadata": {},
   "outputs": [],
   "source": []
  },
  {
   "cell_type": "code",
   "execution_count": null,
   "metadata": {},
   "outputs": [],
   "source": []
  },
  {
   "cell_type": "code",
   "execution_count": 9,
   "metadata": {},
   "outputs": [],
   "source": [
    "data['CREDIT.HISTORY.LENGTH.YEARS'] = data['CREDIT.HISTORY.LENGTH'].map(lambda x : int(x.split(' ')[0][:-3]))"
   ]
  },
  {
   "cell_type": "code",
   "execution_count": 10,
   "metadata": {},
   "outputs": [],
   "source": [
    "data['CREDIT.HISTORY.LENGTH.MONTHS'] = data['CREDIT.HISTORY.LENGTH'].map(lambda x : int(x.split(' ')[1][:-3]))"
   ]
  },
  {
   "cell_type": "code",
   "execution_count": 11,
   "metadata": {},
   "outputs": [],
   "source": [
    "data['CREDIT.HISTORY.LENGTH.TOTMONS'] = data['CREDIT.HISTORY.LENGTH.MONTHS'] + np.dot(data['CREDIT.HISTORY.LENGTH.YEARS'],12)"
   ]
  },
  {
   "cell_type": "code",
   "execution_count": null,
   "metadata": {},
   "outputs": [],
   "source": []
  },
  {
   "cell_type": "code",
   "execution_count": 12,
   "metadata": {},
   "outputs": [],
   "source": [
    "data['AVERAGE.ACCT.AGE.YEARS'] = data['AVERAGE.ACCT.AGE'].map(lambda x : int(x.split(' ')[0][:-3]))\n",
    "\n",
    "data['AVERAGE.ACCT.AGE.MONTHS'] = data['AVERAGE.ACCT.AGE'].map(lambda x : int(x.split(' ')[1][:-3]))\n",
    "\n",
    "data['AVERAGE.ACCT.AGE.TOTMONS'] = data['AVERAGE.ACCT.AGE.MONTHS'] + np.dot(data['AVERAGE.ACCT.AGE.YEARS'],12)"
   ]
  },
  {
   "cell_type": "code",
   "execution_count": null,
   "metadata": {},
   "outputs": [],
   "source": [
    "data['Date.of.Birth'][0]"
   ]
  },
  {
   "cell_type": "code",
   "execution_count": 13,
   "metadata": {},
   "outputs": [],
   "source": [
    "data['Date.of.Birth.YEAR'] = data['Date.of.Birth'].map(lambda x : int(x.split('-')[2]))"
   ]
  },
  {
   "cell_type": "code",
   "execution_count": 14,
   "metadata": {},
   "outputs": [
    {
     "data": {
      "text/plain": [
       "874     16-07-00\n",
       "1300    05-03-00\n",
       "1864    01-01-00\n",
       "1872    18-08-00\n",
       "1874    01-01-00\n",
       "Name: Date.of.Birth, dtype: object"
      ]
     },
     "execution_count": 14,
     "metadata": {},
     "output_type": "execute_result"
    }
   ],
   "source": [
    "data.loc[data['Date.of.Birth.YEAR']==0,'Date.of.Birth'].head()"
   ]
  },
  {
   "cell_type": "code",
   "execution_count": 15,
   "metadata": {},
   "outputs": [],
   "source": [
    "data['Date.of.Birth.YEAR.conv'] = ''"
   ]
  },
  {
   "cell_type": "code",
   "execution_count": 16,
   "metadata": {},
   "outputs": [],
   "source": [
    "data.loc[data['Date.of.Birth.YEAR']==0,'Date.of.Birth.YEAR.conv'] = 2000"
   ]
  },
  {
   "cell_type": "code",
   "execution_count": 17,
   "metadata": {},
   "outputs": [],
   "source": [
    "data.loc[data['Date.of.Birth.YEAR']>0,'Date.of.Birth.YEAR.conv'] = data.loc[data['Date.of.Birth.YEAR']>0,'Date.of.Birth.YEAR']+1900"
   ]
  },
  {
   "cell_type": "code",
   "execution_count": 18,
   "metadata": {},
   "outputs": [],
   "source": [
    "data['Date.of.Birth.AGE'] = ''\n",
    "\n",
    "data['Date.of.Birth.AGE'] = 2019 - data.loc[:,'Date.of.Birth.YEAR.conv']"
   ]
  },
  {
   "cell_type": "code",
   "execution_count": null,
   "metadata": {},
   "outputs": [],
   "source": [
    "#st dev and mean of ltv feature"
   ]
  },
  {
   "cell_type": "code",
   "execution_count": null,
   "metadata": {},
   "outputs": [],
   "source": []
  },
  {
   "cell_type": "code",
   "execution_count": null,
   "metadata": {},
   "outputs": [],
   "source": [
    "temp2 = data.pivot_table(values='loan_default',index=['branch_id'],aggfunc=np.mean)\n",
    "# print('Frequency Table for Credit History:') \n",
    "# print(temp2)\n",
    "\n",
    "# fig = plt.figure(figsize=(8,4))\n",
    "# ax1 = fig.add_subplot(121)\n",
    "# ax1.set_xlabel('Credit_History')\n",
    "# ax1.set_ylabel('Count of Applicants')\n",
    "# ax1.set_title(\"Applicants by Credit_History\")\n",
    "temp2.plot(kind='bar')\n",
    "\n"
   ]
  },
  {
   "cell_type": "code",
   "execution_count": 19,
   "metadata": {},
   "outputs": [],
   "source": [
    "#create mean and st dev features\n",
    "\n",
    "\n",
    "ft_name = ['disbursed_amount','asset_cost','ltv','PERFORM_CNS.SCORE','PRIMARY.INSTAL.AMT']\n",
    "\n",
    "\n",
    "#All 208 features - aggregated\n",
    "\n",
    "# ft_name = ['disbursed_amount','asset_cost','ltv','PERFORM_CNS.SCORE','PRIMARY.INSTAL.AMT',\n",
    "#            'PRI.NO.OF.ACCTS', 'PRI.ACTIVE.ACCTS',\n",
    "#        'PRI.OVERDUE.ACCTS', 'PRI.CURRENT.BALANCE', 'PRI.SANCTIONED.AMOUNT',\n",
    "#        'PRI.DISBURSED.AMOUNT', 'SEC.NO.OF.ACCTS', 'SEC.ACTIVE.ACCTS',\n",
    "#        'SEC.OVERDUE.ACCTS', 'SEC.CURRENT.BALANCE', 'SEC.SANCTIONED.AMOUNT',\n",
    "#        'SEC.DISBURSED.AMOUNT', 'SEC.INSTAL.AMT',\n",
    "#        'NEW.ACCTS.IN.LAST.SIX.MONTHS', 'DELINQUENT.ACCTS.IN.LAST.SIX.MONTHS',]\n",
    "\n",
    "\n",
    "    \n",
    "var = ['Current_pincode_ID','branch_id','supplier_id','manufacturer_id','State_ID','Employee_code_ID']\n",
    "# temp2 = data.pivot_table(values='ltv',index=['Current_pincode_ID'],aggfunc=np.std)\n",
    "# # temp2.plot(kind='bar')\n",
    "# temp2.reset_index(inplace=True)\n",
    "# temp2.columns = ['Current_pincode_ID', 'ltv_stdev']\n",
    "for ftname in ft_name:\n",
    "    for var_name in var:\n",
    "        temp3 = data.pivot_table(values=ftname,index=[var_name],aggfunc=np.mean)\n",
    "        # temp2.plot(kind='bar')\n",
    "        temp3.reset_index(inplace=True)\n",
    "        temp3.columns = [var_name, var_name+'_'+ftname+'_mean']\n",
    "        data = data.merge(temp3,on=var_name, how = 'left')\n",
    "        data[var_name+'_stdev'] = data[ftname]-data[var_name+'_'+ftname+'_mean']\n",
    "\n",
    "        # df = pd.concat([temp2,temp3],axis=1)"
   ]
  },
  {
   "cell_type": "code",
   "execution_count": null,
   "metadata": {},
   "outputs": [],
   "source": [
    "# data = data.merge(temp3,on='Current_pincode_ID', how = 'left')"
   ]
  },
  {
   "cell_type": "code",
   "execution_count": null,
   "metadata": {},
   "outputs": [],
   "source": [
    "# data['ltv_stdev'] = data['ltv']-data['ltv_mean']"
   ]
  },
  {
   "cell_type": "code",
   "execution_count": null,
   "metadata": {},
   "outputs": [],
   "source": []
  },
  {
   "cell_type": "code",
   "execution_count": null,
   "metadata": {},
   "outputs": [],
   "source": []
  },
  {
   "cell_type": "code",
   "execution_count": null,
   "metadata": {},
   "outputs": [],
   "source": []
  },
  {
   "cell_type": "code",
   "execution_count": 20,
   "metadata": {},
   "outputs": [],
   "source": [
    "data['PERFORM_CNS.SCORE.DESCRIPTION'] = data['PERFORM_CNS.SCORE.DESCRIPTION'].replace(' ', '_', regex=True)"
   ]
  },
  {
   "cell_type": "code",
   "execution_count": 21,
   "metadata": {},
   "outputs": [],
   "source": [
    "#treat categorical variables\n",
    "from sklearn.preprocessing import OneHotEncoder\n",
    "\n",
    "d = pd.DataFrame()\n",
    "\n",
    "var_mod = ['Employment.Type','PERFORM_CNS.SCORE.DESCRIPTION']\n",
    "\n",
    "x = pd.get_dummies(data[var_mod])\n",
    "\n",
    "data  = data.drop(var_mod,axis=1)\n",
    "data = pd.concat([data,x], axis=1)\n",
    "    \n",
    "# for i in var_mod:\n",
    "#     print(i)\n",
    "# #     d[str(i)] \n",
    "#     dd = le.fit_transform(data.loc[:,i]).toarray()\n",
    "#     print(dd.shape)\n",
    "# d.dtypes\n"
   ]
  },
  {
   "cell_type": "code",
   "execution_count": null,
   "metadata": {},
   "outputs": [],
   "source": [
    "data.shape"
   ]
  },
  {
   "cell_type": "code",
   "execution_count": null,
   "metadata": {},
   "outputs": [],
   "source": [
    "data['ltv'].hist(bins=50)\n",
    "plt.show()"
   ]
  },
  {
   "cell_type": "code",
   "execution_count": null,
   "metadata": {},
   "outputs": [],
   "source": [
    "(data['ltv']**2).hist(bins=50)\n",
    "plt.show()"
   ]
  },
  {
   "cell_type": "code",
   "execution_count": null,
   "metadata": {},
   "outputs": [],
   "source": [
    "(data['ltv']**1/3).hist(bins=50)\n",
    "plt.show()"
   ]
  },
  {
   "cell_type": "code",
   "execution_count": 22,
   "metadata": {},
   "outputs": [],
   "source": [
    "data['log_disbursed_amount'] = np.log(data['disbursed_amount'])\n",
    "data['log_asset_cost'] = np.log(data['asset_cost'])"
   ]
  },
  {
   "cell_type": "code",
   "execution_count": 23,
   "metadata": {},
   "outputs": [],
   "source": [
    "data['ltv_squared'] = data['ltv']**2\n",
    "data['log_ltv'] = np.log(data['ltv'])"
   ]
  },
  {
   "cell_type": "code",
   "execution_count": null,
   "metadata": {},
   "outputs": [],
   "source": []
  },
  {
   "cell_type": "code",
   "execution_count": 24,
   "metadata": {},
   "outputs": [],
   "source": [
    "data['DisbursalDate_month'] = data['DisbursalDate'].map(lambda x : int(x.split('-')[1]))\n",
    "data['DisbursalDate_dayofmonth'] = data['DisbursalDate'].map(lambda x : int(x.split('-')[0]))"
   ]
  },
  {
   "cell_type": "code",
   "execution_count": null,
   "metadata": {},
   "outputs": [],
   "source": []
  },
  {
   "cell_type": "code",
   "execution_count": null,
   "metadata": {},
   "outputs": [],
   "source": [
    "type(data['AVERAGE.ACCT.AGE'][0])"
   ]
  },
  {
   "cell_type": "code",
   "execution_count": null,
   "metadata": {},
   "outputs": [],
   "source": [
    "type(data['CREDIT.HISTORY.LENGTH'][0])"
   ]
  },
  {
   "cell_type": "code",
   "execution_count": 25,
   "metadata": {},
   "outputs": [],
   "source": [
    "train_df = data.loc[data['is_train']==1,:]\n",
    "train_df = train_df.drop(['is_train'],axis=1)"
   ]
  },
  {
   "cell_type": "code",
   "execution_count": 26,
   "metadata": {},
   "outputs": [],
   "source": [
    "test_df = data.loc[data['is_train']==0,:]\n",
    "test_df = test_df.drop(['is_train','loan_default'],axis=1)"
   ]
  },
  {
   "cell_type": "code",
   "execution_count": null,
   "metadata": {},
   "outputs": [],
   "source": [
    "train_df.apply(lambda x: sum(x.isnull()),axis=0)"
   ]
  },
  {
   "cell_type": "code",
   "execution_count": null,
   "metadata": {},
   "outputs": [],
   "source": [
    "test_df.apply(lambda x: sum(x.isnull()),axis=0)"
   ]
  },
  {
   "cell_type": "code",
   "execution_count": null,
   "metadata": {},
   "outputs": [],
   "source": [
    "train_df.shape,test_df.shape"
   ]
  },
  {
   "cell_type": "code",
   "execution_count": null,
   "metadata": {},
   "outputs": [],
   "source": [
    "list(train_df.columns)"
   ]
  },
  {
   "cell_type": "code",
   "execution_count": 84,
   "metadata": {},
   "outputs": [],
   "source": [
    "predictors = [\n",
    "#  'disbursed_amount',\n",
    " 'asset_cost',\n",
    "#  'ltv',\n",
    " 'branch_id',\n",
    " 'supplier_id',\n",
    " 'manufacturer_id',\n",
    " 'Current_pincode_ID',\n",
    " 'State_ID',\n",
    " 'Employee_code_ID',\n",
    "#  'MobileNo_Avl_Flag',\n",
    " 'Aadhar_flag',\n",
    " 'PAN_flag',\n",
    " 'VoterID_flag',\n",
    " 'Driving_flag',\n",
    " 'Passport_flag',\n",
    " 'PERFORM_CNS.SCORE',\n",
    " 'PRI.NO.OF.ACCTS',\n",
    " 'PRI.ACTIVE.ACCTS',\n",
    " 'PRI.OVERDUE.ACCTS',\n",
    " 'PRI.CURRENT.BALANCE',\n",
    " 'PRI.SANCTIONED.AMOUNT',\n",
    " 'PRI.DISBURSED.AMOUNT',\n",
    " 'SEC.NO.OF.ACCTS',\n",
    " 'SEC.ACTIVE.ACCTS',\n",
    " 'SEC.OVERDUE.ACCTS',\n",
    " 'SEC.CURRENT.BALANCE',\n",
    " 'SEC.SANCTIONED.AMOUNT',\n",
    " 'SEC.DISBURSED.AMOUNT',\n",
    " 'PRIMARY.INSTAL.AMT',\n",
    " 'SEC.INSTAL.AMT',\n",
    " 'NEW.ACCTS.IN.LAST.SIX.MONTHS',\n",
    " 'DELINQUENT.ACCTS.IN.LAST.SIX.MONTHS',\n",
    " 'NO.OF_INQUIRIES',\n",
    " 'branch_id_loan_default_mean',\n",
    " 'State_ID_loan_default_mean',\n",
    " 'branch_id_loan_default_sum',\n",
    " 'State_ID_loan_default_sum',\n",
    " 'CREDIT.HISTORY.LENGTH.YEARS',\n",
    " 'CREDIT.HISTORY.LENGTH.MONTHS',\n",
    " 'CREDIT.HISTORY.LENGTH.TOTMONS',\n",
    " 'AVERAGE.ACCT.AGE.YEARS',\n",
    " 'AVERAGE.ACCT.AGE.MONTHS',\n",
    " 'AVERAGE.ACCT.AGE.TOTMONS',\n",
    " 'Date.of.Birth.YEAR',\n",
    " 'Date.of.Birth.YEAR.conv',\n",
    " 'Date.of.Birth.AGE',\n",
    " 'Current_pincode_ID_disbursed_amount_mean',\n",
    " 'Current_pincode_ID_stdev',\n",
    " 'branch_id_disbursed_amount_mean',\n",
    " 'branch_id_stdev',\n",
    " 'supplier_id_disbursed_amount_mean',\n",
    " 'supplier_id_stdev',\n",
    " 'manufacturer_id_disbursed_amount_mean',\n",
    " 'manufacturer_id_stdev',\n",
    " 'State_ID_disbursed_amount_mean',\n",
    " 'State_ID_stdev',\n",
    " 'Employee_code_ID_disbursed_amount_mean',\n",
    " 'Employee_code_ID_stdev',\n",
    " 'Current_pincode_ID_asset_cost_mean',\n",
    " 'branch_id_asset_cost_mean',\n",
    " 'supplier_id_asset_cost_mean',\n",
    " 'manufacturer_id_asset_cost_mean',\n",
    " 'State_ID_asset_cost_mean',\n",
    " 'Employee_code_ID_asset_cost_mean',\n",
    " 'Current_pincode_ID_ltv_mean',\n",
    " 'branch_id_ltv_mean',\n",
    " 'supplier_id_ltv_mean',\n",
    " 'manufacturer_id_ltv_mean',\n",
    " 'State_ID_ltv_mean',\n",
    " 'Employee_code_ID_ltv_mean',\n",
    " 'Current_pincode_ID_PERFORM_CNS.SCORE_mean',\n",
    " 'branch_id_PERFORM_CNS.SCORE_mean',\n",
    " 'supplier_id_PERFORM_CNS.SCORE_mean',\n",
    " 'manufacturer_id_PERFORM_CNS.SCORE_mean',\n",
    " 'State_ID_PERFORM_CNS.SCORE_mean',\n",
    " 'Employee_code_ID_PERFORM_CNS.SCORE_mean',\n",
    " 'Current_pincode_ID_PRIMARY.INSTAL.AMT_mean',\n",
    " 'branch_id_PRIMARY.INSTAL.AMT_mean',\n",
    " 'supplier_id_PRIMARY.INSTAL.AMT_mean',\n",
    " 'manufacturer_id_PRIMARY.INSTAL.AMT_mean',\n",
    " 'State_ID_PRIMARY.INSTAL.AMT_mean',\n",
    " 'Employee_code_ID_PRIMARY.INSTAL.AMT_mean',\n",
    " 'Employment.Type_Salaried',\n",
    " 'Employment.Type_Self employed',\n",
    " 'PERFORM_CNS.SCORE.DESCRIPTION_A-Very_Low_Risk',\n",
    " 'PERFORM_CNS.SCORE.DESCRIPTION_B-Very_Low_Risk',\n",
    " 'PERFORM_CNS.SCORE.DESCRIPTION_C-Very_Low_Risk',\n",
    " 'PERFORM_CNS.SCORE.DESCRIPTION_D-Very_Low_Risk',\n",
    " 'PERFORM_CNS.SCORE.DESCRIPTION_E-Low_Risk',\n",
    " 'PERFORM_CNS.SCORE.DESCRIPTION_F-Low_Risk',\n",
    " 'PERFORM_CNS.SCORE.DESCRIPTION_G-Low_Risk',\n",
    " 'PERFORM_CNS.SCORE.DESCRIPTION_H-Medium_Risk',\n",
    " 'PERFORM_CNS.SCORE.DESCRIPTION_I-Medium_Risk',\n",
    " 'PERFORM_CNS.SCORE.DESCRIPTION_J-High_Risk',\n",
    " 'PERFORM_CNS.SCORE.DESCRIPTION_K-High_Risk',\n",
    " 'PERFORM_CNS.SCORE.DESCRIPTION_L-Very_High_Risk',\n",
    " 'PERFORM_CNS.SCORE.DESCRIPTION_M-Very_High_Risk',\n",
    " 'PERFORM_CNS.SCORE.DESCRIPTION_No_Bureau_History_Available',\n",
    "#  'PERFORM_CNS.SCORE.DESCRIPTION_Not_Scored:_More_than_50_active_Accounts_found',\n",
    " 'PERFORM_CNS.SCORE.DESCRIPTION_Not_Scored:_No_Activity_seen_on_the_customer_(Inactive)',\n",
    " 'PERFORM_CNS.SCORE.DESCRIPTION_Not_Scored:_No_Updates_available_in_last_36_months',\n",
    " 'PERFORM_CNS.SCORE.DESCRIPTION_Not_Scored:_Not_Enough_Info_available_on_the_customer',\n",
    " 'PERFORM_CNS.SCORE.DESCRIPTION_Not_Scored:_Only_a_Guarantor',\n",
    " 'PERFORM_CNS.SCORE.DESCRIPTION_Not_Scored:_Sufficient_History_Not_Available',\n",
    " 'log_disbursed_amount',\n",
    "#  'log_asset_cost',\n",
    "#  'ltv_squared',\n",
    " 'log_ltv',\n",
    " 'DisbursalDate_month',\n",
    " 'DisbursalDate_dayofmonth']"
   ]
  },
  {
   "cell_type": "code",
   "execution_count": 28,
   "metadata": {},
   "outputs": [],
   "source": [
    "\n",
    "##Single best model predictors\n",
    "\n",
    "\n",
    "\n",
    "# predictors = ['disbursed_amount', 'asset_cost', 'ltv',\n",
    "#        'branch_id', 'supplier_id', 'manufacturer_id', 'Current_pincode_ID',\n",
    "#        'State_ID', 'Employee_code_ID',\n",
    "#        'MobileNo_Avl_Flag', 'Aadhar_flag', 'PAN_flag', 'VoterID_flag',\n",
    "#        'Driving_flag', 'Passport_flag', 'PERFORM_CNS.SCORE', 'PRI.NO.OF.ACCTS',\n",
    "#        'PRI.ACTIVE.ACCTS', 'PRI.OVERDUE.ACCTS', 'PRI.CURRENT.BALANCE',\n",
    "#        'PRI.SANCTIONED.AMOUNT', 'PRI.DISBURSED.AMOUNT', 'SEC.NO.OF.ACCTS',\n",
    "#        'SEC.ACTIVE.ACCTS', 'SEC.OVERDUE.ACCTS', 'SEC.CURRENT.BALANCE',\n",
    "#        'SEC.SANCTIONED.AMOUNT', 'SEC.DISBURSED.AMOUNT', 'PRIMARY.INSTAL.AMT',\n",
    "#        'SEC.INSTAL.AMT', 'NEW.ACCTS.IN.LAST.SIX.MONTHS',\n",
    "#        'DELINQUENT.ACCTS.IN.LAST.SIX.MONTHS', 'NO.OF_INQUIRIES',\n",
    "#        'CREDIT.HISTORY.LENGTH.YEARS', 'CREDIT.HISTORY.LENGTH.MONTHS',\n",
    "#        'CREDIT.HISTORY.LENGTH.TOTMONS', 'AVERAGE.ACCT.AGE.YEARS',\n",
    "#        'AVERAGE.ACCT.AGE.MONTHS', 'AVERAGE.ACCT.AGE.TOTMONS',\n",
    "#        'Date.of.Birth.YEAR', 'Date.of.Birth.YEAR.conv', 'Date.of.Birth.AGE',\n",
    "#        'Employment.Type_Salaried', 'Employment.Type_Self employed',\n",
    "#        'PERFORM_CNS.SCORE.DESCRIPTION_A-Very_Low_Risk',\n",
    "#        'PERFORM_CNS.SCORE.DESCRIPTION_B-Very_Low_Risk',\n",
    "#        'PERFORM_CNS.SCORE.DESCRIPTION_C-Very_Low_Risk',\n",
    "#        'PERFORM_CNS.SCORE.DESCRIPTION_D-Very_Low_Risk',\n",
    "#        'PERFORM_CNS.SCORE.DESCRIPTION_E-Low_Risk',\n",
    "#        'PERFORM_CNS.SCORE.DESCRIPTION_F-Low_Risk',\n",
    "#        'PERFORM_CNS.SCORE.DESCRIPTION_G-Low_Risk',\n",
    "#        'PERFORM_CNS.SCORE.DESCRIPTION_H-Medium_Risk',\n",
    "#        'PERFORM_CNS.SCORE.DESCRIPTION_I-Medium_Risk',\n",
    "#        'PERFORM_CNS.SCORE.DESCRIPTION_J-High_Risk',\n",
    "#        'PERFORM_CNS.SCORE.DESCRIPTION_K-High_Risk',\n",
    "#        'PERFORM_CNS.SCORE.DESCRIPTION_L-Very_High_Risk',\n",
    "#        'PERFORM_CNS.SCORE.DESCRIPTION_M-Very_High_Risk',\n",
    "#        'PERFORM_CNS.SCORE.DESCRIPTION_No_Bureau_History_Available',\n",
    "#        'PERFORM_CNS.SCORE.DESCRIPTION_Not_Scored:_More_than_50_active_Accounts_found',\n",
    "#        'PERFORM_CNS.SCORE.DESCRIPTION_Not_Scored:_No_Activity_seen_on_the_customer_(Inactive)',\n",
    "#        'PERFORM_CNS.SCORE.DESCRIPTION_Not_Scored:_No_Updates_available_in_last_36_months',\n",
    "#        'PERFORM_CNS.SCORE.DESCRIPTION_Not_Scored:_Not_Enough_Info_available_on_the_customer',\n",
    "#        'PERFORM_CNS.SCORE.DESCRIPTION_Not_Scored:_Only_a_Guarantor',\n",
    "#        'PERFORM_CNS.SCORE.DESCRIPTION_Not_Scored:_Sufficient_History_Not_Available',\n",
    "#        'log_disbursed_amount', 'log_asset_cost', 'DisbursalDate_month',\n",
    "#        'DisbursalDate_dayofmonth','Current_pincode_ID_disbursed_amount_mean',\n",
    "#  'Current_pincode_ID_stdev',\n",
    "#  'branch_id_disbursed_amount_mean',\n",
    "#  'branch_id_stdev',\n",
    "#  'supplier_id_disbursed_amount_mean',\n",
    "#  'supplier_id_stdev',\n",
    "#  'manufacturer_id_disbursed_amount_mean',\n",
    "#  'manufacturer_id_stdev',\n",
    "#  'State_ID_disbursed_amount_mean',\n",
    "#  'State_ID_stdev',\n",
    "#  'Employee_code_ID_disbursed_amount_mean',\n",
    "#  'Employee_code_ID_stdev',\n",
    "#  'Current_pincode_ID_asset_cost_mean',\n",
    "#  'branch_id_asset_cost_mean',\n",
    "#  'supplier_id_asset_cost_mean',\n",
    "#  'manufacturer_id_asset_cost_mean',\n",
    "#  'State_ID_asset_cost_mean',\n",
    "#  'Employee_code_ID_asset_cost_mean',\n",
    "#  'Current_pincode_ID_ltv_mean',\n",
    "#  'branch_id_ltv_mean',\n",
    "#  'supplier_id_ltv_mean',\n",
    "#  'manufacturer_id_ltv_mean',\n",
    "#  'State_ID_ltv_mean',\n",
    "#  'Employee_code_ID_ltv_mean',\n",
    "#  'Current_pincode_ID_PERFORM_CNS.SCORE_mean',\n",
    "#  'branch_id_PERFORM_CNS.SCORE_mean',\n",
    "#  'supplier_id_PERFORM_CNS.SCORE_mean',\n",
    "#  'manufacturer_id_PERFORM_CNS.SCORE_mean',\n",
    "#  'State_ID_PERFORM_CNS.SCORE_mean',\n",
    "#  'Employee_code_ID_PERFORM_CNS.SCORE_mean',\n",
    "#  'Current_pincode_ID_PRIMARY.INSTAL.AMT_mean',\n",
    "#  'branch_id_PRIMARY.INSTAL.AMT_mean',\n",
    "#  'supplier_id_PRIMARY.INSTAL.AMT_mean',\n",
    "#  'manufacturer_id_PRIMARY.INSTAL.AMT_mean',\n",
    "#  'State_ID_PRIMARY.INSTAL.AMT_mean',\n",
    "#  'Employee_code_ID_PRIMARY.INSTAL.AMT_mean','branch_id_loan_default_mean',\n",
    "#        'State_ID_loan_default_mean', 'branch_id_loan_default_sum',\n",
    "#        'State_ID_loan_default_sum','ltv_squared','log_ltv']\n",
    "\n",
    "\n",
    "outcome = ['loan_default']"
   ]
  },
  {
   "cell_type": "code",
   "execution_count": 86,
   "metadata": {},
   "outputs": [],
   "source": [
    "from sklearn.model_selection import train_test_split\n",
    "\n",
    "X_train, X_validation, y_train, y_validation = train_test_split(train_df[predictors], train_df[outcome], test_size=0.3, random_state=1234)"
   ]
  },
  {
   "cell_type": "code",
   "execution_count": 87,
   "metadata": {},
   "outputs": [
    {
     "data": {
      "text/plain": [
       "((163207, 96), (69947, 96))"
      ]
     },
     "execution_count": 87,
     "metadata": {},
     "output_type": "execute_result"
    }
   ],
   "source": [
    "X_train.shape,X_validation.shape"
   ]
  },
  {
   "cell_type": "code",
   "execution_count": null,
   "metadata": {},
   "outputs": [],
   "source": []
  },
  {
   "cell_type": "code",
   "execution_count": 57,
   "metadata": {},
   "outputs": [],
   "source": [
    "import xgboost as xgb\n",
    "from xgboost.sklearn import XGBClassifier\n",
    "from sklearn.model_selection import cross_validate\n",
    "from sklearn import metrics \n",
    "from sklearn.model_selection import GridSearchCV   #Perforing grid search\n",
    "from sklearn.model_selection import cross_validate\n",
    "from sklearn.model_selection import KFold"
   ]
  },
  {
   "cell_type": "code",
   "execution_count": null,
   "metadata": {},
   "outputs": [],
   "source": [
    "\n",
    "alg = XGBClassifier()"
   ]
  },
  {
   "cell_type": "code",
   "execution_count": null,
   "metadata": {},
   "outputs": [],
   "source": [
    "#kf = loo.split(X_train_std[predictor_var])\n",
    "kf = KFold(n_splits=10).split(X_train[['State_ID','branch_id']])\n",
    "# ['branch_id', 'supplier_id', 'manufacturer_id', 'Current_pincode_ID','State_ID', 'Employee_code_ID']\n",
    "error = []\n",
    "# yavg = pd.DataFrame()\n",
    "\n",
    "for train, test in kf:\n",
    "    # Filter training data\n",
    "    print(\"training stared\")\n",
    "    train_predictors = X_train[predictors].iloc[train,:]\n",
    "\n",
    "    # The target we're using to train the algorithm.\n",
    "    train_target = y_train.iloc[train].values\n",
    "\n",
    "    # Training the algorithm using the predictors and target.\n",
    "    alg.fit(train_predictors, train_target)\n",
    "    y1 = alg.predict(X_train[predictors].iloc[test,:])\n",
    "#     yavg = yavg.append(pd.Series(y1),ignore_index=True)\n",
    "\n",
    "    #Record error from each cross-validation run\n",
    "    error.append(metrics.roc_auc_score(y_train.iloc[test], y1))\n",
    "    print('score for current fold',metrics.roc_auc_score(y_train.iloc[test], y1))\n",
    "    print(\"training finished\")\n",
    "print (\"Cross-Validation AUC Score : %f\" % np.mean(error))\n"
   ]
  },
  {
   "cell_type": "code",
   "execution_count": null,
   "metadata": {},
   "outputs": [],
   "source": []
  },
  {
   "cell_type": "code",
   "execution_count": 32,
   "metadata": {},
   "outputs": [],
   "source": [
    "def modelfit(alg, dtrain,ytrain,dtest,ytest,test,sub_df, predictors,outcome_var,useTrainCV=True, cv_folds=5, early_stopping_rounds=50):\n",
    "    \n",
    "    if useTrainCV:\n",
    "        xgb_param = alg.get_xgb_params()\n",
    "        xgtrain = xgb.DMatrix(dtrain[predictors].values, label=ytrain.values)\n",
    "        cvresult = xgb.cv(xgb_param, xgtrain, num_boost_round=alg.get_params()['n_estimators'], nfold=cv_folds,\n",
    "            metrics='auc', early_stopping_rounds=early_stopping_rounds,verbose_eval=True,\n",
    "            show_stdv=True)\n",
    "        alg.set_params(n_estimators=cvresult.shape[0])\n",
    "    \n",
    "    #Fit the algorithm on the data\n",
    "    alg.fit(dtrain[predictors], ytrain,eval_metric='auc')\n",
    "        \n",
    "    #Predict training set:\n",
    "    dtrain_predictions = alg.predict(dtest[predictors])\n",
    "    dtrain_predprob = alg.predict_proba(dtest[predictors])[:,1]\n",
    "    \n",
    "    dtrain_predprob1 = alg.predict_proba(test[predictors])[:,1]\n",
    "    sub_df['loan_default']= dtrain_predprob1\n",
    "    sub_df.to_csv('sub1.csv',index=False)    \n",
    "    #Print model report:\n",
    "    print(\"\\nModel Report\")\n",
    "    print(\"Accuracy : %.4g\" % metrics.accuracy_score(ytest.values, dtrain_predictions))\n",
    "    print(\"AUC Score (Train): %f\" % metrics.roc_auc_score(ytest, dtrain_predprob))\n",
    "                    \n",
    "    feat_imp = pd.Series(alg.get_booster().get_fscore()).sort_values(ascending=False)\n",
    "    feat_imp.plot(kind='bar', title='Feature Importances')\n",
    "    plt.ylabel('Feature Importance Score')  \n",
    "  "
   ]
  },
  {
   "cell_type": "code",
   "execution_count": 33,
   "metadata": {},
   "outputs": [],
   "source": [
    "def modelfit_mod(alg, dtrain,ytrain,dtest,ytest,test,sub_df, predictors,outcome_var,useTrainCV=True, cv_folds=5, early_stopping_rounds=50):\n",
    "    \n",
    "    if useTrainCV:\n",
    "        xgb_param = alg.get_xgb_params()\n",
    "        xgtrain = xgb.DMatrix(dtrain[predictors].values, label=ytrain.values)\n",
    "        cvresult = xgb.cv(xgb_param, xgtrain, num_boost_round=alg.get_params()['n_estimators'], nfold=cv_folds,\n",
    "            metrics='auc', early_stopping_rounds=early_stopping_rounds,verbose_eval=True,\n",
    "            show_stdv=True)\n",
    "        alg.set_params(n_estimators=cvresult.shape[0])\n",
    "    \n",
    "    #Fit the algorithm on the data\n",
    "    alg.fit(dtrain[predictors], ytrain)\n",
    "        \n",
    "    #Predict training set:\n",
    "    dtrain_predictions = alg.predict(dtest[predictors])\n",
    "    dtrain_predprob = alg.predict_proba(dtest[predictors])[:,1]\n",
    "    \n",
    "    dtrain_predprob1 = alg.predict_proba(test[predictors])[:,1]\n",
    "#     sub_df['loan_default']= dtrain_predprob1\n",
    "#     sub_df.to_csv('sub1.csv',index=False)    \n",
    "    #Print model report:\n",
    "    print(\"\\nModel Report\")\n",
    "    print(\"Accuracy : %.4g\" % metrics.accuracy_score(ytest.values, dtrain_predictions))\n",
    "    print(\"AUC Score (Train): %f\" % metrics.roc_auc_score(ytest, dtrain_predprob))\n",
    "                    \n",
    "#     feat_imp = pd.Series(alg.get_booster().get_fscore()).sort_values(ascending=False)\n",
    "#     feat_imp.plot(kind='bar', title='Feature Importances')\n",
    "#     plt.ylabel('Feature Importance Score')  \n",
    "  "
   ]
  },
  {
   "cell_type": "code",
   "execution_count": 88,
   "metadata": {},
   "outputs": [
    {
     "name": "stdout",
     "output_type": "stream",
     "text": [
      "[0]\ttrain-auc:0.610541+0.000759099\ttest-auc:0.608001+0.000770768\n",
      "[1]\ttrain-auc:0.616707+0.00308687\ttest-auc:0.614294+0.00301279\n",
      "[2]\ttrain-auc:0.621948+0.00171709\ttest-auc:0.618501+0.0015573\n",
      "[3]\ttrain-auc:0.625117+0.00132889\ttest-auc:0.622304+0.000774875\n",
      "[4]\ttrain-auc:0.626773+0.00111993\ttest-auc:0.623818+0.00148455\n",
      "[5]\ttrain-auc:0.629158+0.00098187\ttest-auc:0.626304+0.00187701\n",
      "[6]\ttrain-auc:0.63008+0.000691722\ttest-auc:0.627567+0.00184645\n",
      "[7]\ttrain-auc:0.633112+0.000862982\ttest-auc:0.630159+0.00183385\n",
      "[8]\ttrain-auc:0.634534+0.00070832\ttest-auc:0.631273+0.00171884\n",
      "[9]\ttrain-auc:0.635772+0.000536233\ttest-auc:0.632467+0.0014084\n",
      "[10]\ttrain-auc:0.636994+0.000579151\ttest-auc:0.633637+0.000922018\n",
      "[11]\ttrain-auc:0.638038+0.00050104\ttest-auc:0.634479+0.000924709\n",
      "[12]\ttrain-auc:0.639132+0.000420093\ttest-auc:0.635352+0.00106833\n",
      "[13]\ttrain-auc:0.640157+0.000442205\ttest-auc:0.635978+0.00102608\n",
      "[14]\ttrain-auc:0.641279+0.000427634\ttest-auc:0.636981+0.00101535\n",
      "[15]\ttrain-auc:0.642282+0.000371516\ttest-auc:0.637842+0.00109262\n",
      "[16]\ttrain-auc:0.643157+0.000428433\ttest-auc:0.638587+0.00123265\n",
      "[17]\ttrain-auc:0.643994+0.000366829\ttest-auc:0.639317+0.00110312\n",
      "[18]\ttrain-auc:0.645094+0.000484172\ttest-auc:0.64025+0.00107554\n",
      "[19]\ttrain-auc:0.64613+0.000458096\ttest-auc:0.641092+0.00110977\n",
      "[20]\ttrain-auc:0.646972+0.000431433\ttest-auc:0.641821+0.00113918\n",
      "[21]\ttrain-auc:0.647875+0.00028216\ttest-auc:0.642695+0.00117269\n",
      "[22]\ttrain-auc:0.648785+0.000319118\ttest-auc:0.643425+0.00103821\n",
      "[23]\ttrain-auc:0.64998+0.00041486\ttest-auc:0.644529+0.000976592\n",
      "[24]\ttrain-auc:0.650924+0.000351629\ttest-auc:0.64525+0.00104448\n",
      "[25]\ttrain-auc:0.651806+0.000443202\ttest-auc:0.646005+0.00093455\n",
      "[26]\ttrain-auc:0.652617+0.000418263\ttest-auc:0.64672+0.000988604\n",
      "[27]\ttrain-auc:0.653329+0.000462483\ttest-auc:0.647374+0.00100231\n",
      "[28]\ttrain-auc:0.654071+0.000588297\ttest-auc:0.647952+0.001014\n",
      "[29]\ttrain-auc:0.654947+0.00053237\ttest-auc:0.648654+0.00103075\n",
      "[30]\ttrain-auc:0.655754+0.0004749\ttest-auc:0.649276+0.00100159\n",
      "[31]\ttrain-auc:0.656339+0.000440379\ttest-auc:0.649757+0.00100341\n",
      "[32]\ttrain-auc:0.657168+0.000526335\ttest-auc:0.650555+0.000995945\n",
      "[33]\ttrain-auc:0.657822+0.000469233\ttest-auc:0.651073+0.00101475\n",
      "[34]\ttrain-auc:0.658311+0.000532379\ttest-auc:0.651635+0.000923881\n",
      "[35]\ttrain-auc:0.658918+0.000524123\ttest-auc:0.652069+0.00106677\n",
      "[36]\ttrain-auc:0.659582+0.000494257\ttest-auc:0.652622+0.001122\n",
      "[37]\ttrain-auc:0.660183+0.000487036\ttest-auc:0.653114+0.00112477\n",
      "[38]\ttrain-auc:0.660668+0.000464464\ttest-auc:0.653467+0.00106627\n",
      "[39]\ttrain-auc:0.661073+0.000448694\ttest-auc:0.653806+0.0010413\n",
      "[40]\ttrain-auc:0.661539+0.000485072\ttest-auc:0.654139+0.00109155\n",
      "[41]\ttrain-auc:0.662075+0.000408818\ttest-auc:0.654624+0.00110119\n",
      "[42]\ttrain-auc:0.6627+0.000407207\ttest-auc:0.655189+0.00116681\n",
      "[43]\ttrain-auc:0.663183+0.000372149\ttest-auc:0.655584+0.00107284\n",
      "[44]\ttrain-auc:0.66361+0.000435724\ttest-auc:0.655937+0.000992418\n",
      "[45]\ttrain-auc:0.664025+0.000395014\ttest-auc:0.656243+0.000969929\n",
      "[46]\ttrain-auc:0.66446+0.000363556\ttest-auc:0.656568+0.000987672\n",
      "[47]\ttrain-auc:0.664776+0.000384793\ttest-auc:0.656853+0.00106203\n",
      "[48]\ttrain-auc:0.665068+0.00032629\ttest-auc:0.657061+0.00102258\n",
      "[49]\ttrain-auc:0.665513+0.000370558\ttest-auc:0.657429+0.00113324\n",
      "[50]\ttrain-auc:0.665838+0.000396598\ttest-auc:0.657623+0.0011895\n",
      "[51]\ttrain-auc:0.666208+0.000419414\ttest-auc:0.657892+0.00114462\n",
      "[52]\ttrain-auc:0.666562+0.000443596\ttest-auc:0.658207+0.00109876\n",
      "[53]\ttrain-auc:0.666998+0.000502264\ttest-auc:0.658517+0.00103128\n",
      "[54]\ttrain-auc:0.667262+0.000464821\ttest-auc:0.658674+0.00106822\n",
      "[55]\ttrain-auc:0.667578+0.00048171\ttest-auc:0.658861+0.00105898\n",
      "[56]\ttrain-auc:0.667858+0.000544057\ttest-auc:0.659125+0.00102974\n",
      "[57]\ttrain-auc:0.668123+0.000490172\ttest-auc:0.659273+0.00107804\n",
      "[58]\ttrain-auc:0.668474+0.00050965\ttest-auc:0.659561+0.00104981\n",
      "[59]\ttrain-auc:0.668795+0.000604032\ttest-auc:0.659776+0.00103929\n",
      "[60]\ttrain-auc:0.669078+0.000564351\ttest-auc:0.660039+0.00104037\n",
      "[61]\ttrain-auc:0.66931+0.000481126\ttest-auc:0.660186+0.00106656\n",
      "[62]\ttrain-auc:0.669626+0.000472834\ttest-auc:0.660354+0.00108965\n",
      "[63]\ttrain-auc:0.669855+0.000433271\ttest-auc:0.660536+0.0010945\n",
      "[64]\ttrain-auc:0.670108+0.000442272\ttest-auc:0.660677+0.00113587\n",
      "[65]\ttrain-auc:0.670365+0.000405129\ttest-auc:0.660794+0.00118079\n",
      "[66]\ttrain-auc:0.670723+0.000431865\ttest-auc:0.661078+0.00126813\n",
      "[67]\ttrain-auc:0.67106+0.000406795\ttest-auc:0.661364+0.00125335\n",
      "[68]\ttrain-auc:0.671385+0.000398416\ttest-auc:0.661576+0.00132012\n",
      "[69]\ttrain-auc:0.671653+0.000430897\ttest-auc:0.661742+0.00131747\n",
      "[70]\ttrain-auc:0.671907+0.000461738\ttest-auc:0.661867+0.00122852\n",
      "[71]\ttrain-auc:0.672169+0.000415264\ttest-auc:0.662017+0.00123425\n",
      "[72]\ttrain-auc:0.672399+0.000451507\ttest-auc:0.662156+0.001184\n",
      "[73]\ttrain-auc:0.67266+0.000499746\ttest-auc:0.662324+0.00112881\n",
      "[74]\ttrain-auc:0.672882+0.000521563\ttest-auc:0.662486+0.00112985\n",
      "[75]\ttrain-auc:0.673157+0.000503099\ttest-auc:0.66268+0.00113624\n",
      "[76]\ttrain-auc:0.673411+0.000411751\ttest-auc:0.662849+0.00122081\n",
      "[77]\ttrain-auc:0.673593+0.000445161\ttest-auc:0.662941+0.00114143\n",
      "[78]\ttrain-auc:0.673866+0.000482959\ttest-auc:0.663119+0.00105159\n",
      "[79]\ttrain-auc:0.674105+0.000525419\ttest-auc:0.663261+0.00105531\n",
      "[80]\ttrain-auc:0.674324+0.000516195\ttest-auc:0.663433+0.00109041\n",
      "[81]\ttrain-auc:0.674548+0.000478832\ttest-auc:0.663598+0.00114547\n",
      "[82]\ttrain-auc:0.67478+0.000504478\ttest-auc:0.663742+0.00111264\n",
      "[83]\ttrain-auc:0.67496+0.000520354\ttest-auc:0.66381+0.00112318\n",
      "[84]\ttrain-auc:0.675173+0.000523809\ttest-auc:0.663968+0.00114072\n",
      "[85]\ttrain-auc:0.675393+0.000570967\ttest-auc:0.664083+0.00116342\n",
      "[86]\ttrain-auc:0.675627+0.000529805\ttest-auc:0.664242+0.00115464\n",
      "[87]\ttrain-auc:0.675842+0.00052071\ttest-auc:0.664358+0.00121131\n",
      "[88]\ttrain-auc:0.676061+0.000547129\ttest-auc:0.664484+0.00120573\n",
      "[89]\ttrain-auc:0.676247+0.000514119\ttest-auc:0.664553+0.00127268\n",
      "[90]\ttrain-auc:0.676397+0.000544101\ttest-auc:0.664599+0.00124607\n",
      "[91]\ttrain-auc:0.676594+0.000555708\ttest-auc:0.664723+0.00120486\n",
      "[92]\ttrain-auc:0.676767+0.000545833\ttest-auc:0.664827+0.00116446\n",
      "[93]\ttrain-auc:0.676938+0.000566503\ttest-auc:0.664925+0.00115907\n",
      "[94]\ttrain-auc:0.677123+0.000538648\ttest-auc:0.665071+0.00122425\n",
      "[95]\ttrain-auc:0.677292+0.000514245\ttest-auc:0.66512+0.00127193\n",
      "[96]\ttrain-auc:0.677494+0.000501636\ttest-auc:0.665206+0.001261\n",
      "[97]\ttrain-auc:0.677669+0.000507086\ttest-auc:0.665281+0.00127902\n",
      "[98]\ttrain-auc:0.67786+0.000525418\ttest-auc:0.665342+0.00124767\n",
      "[99]\ttrain-auc:0.678015+0.000543448\ttest-auc:0.665393+0.00124867\n"
     ]
    },
    {
     "name": "stderr",
     "output_type": "stream",
     "text": [
      "/home/monster/.conda/envs/tensorflow/lib/python3.6/site-packages/sklearn/preprocessing/label.py:219: DataConversionWarning: A column-vector y was passed when a 1d array was expected. Please change the shape of y to (n_samples, ), for example using ravel().\n",
      "  y = column_or_1d(y, warn=True)\n",
      "/home/monster/.conda/envs/tensorflow/lib/python3.6/site-packages/sklearn/preprocessing/label.py:252: DataConversionWarning: A column-vector y was passed when a 1d array was expected. Please change the shape of y to (n_samples, ), for example using ravel().\n",
      "  y = column_or_1d(y, warn=True)\n"
     ]
    },
    {
     "name": "stdout",
     "output_type": "stream",
     "text": [
      "\n",
      "Model Report\n",
      "Accuracy : 0.7835\n",
      "AUC Score (Train): 0.669667\n",
      "CPU times: user 2min 59s, sys: 532 ms, total: 2min 59s\n",
      "Wall time: 2min 59s\n"
     ]
    },
    {
     "data": {
      "image/png": "[encoded data removed]",
      "text/plain": [
       "<Figure size 432x288 with 1 Axes>"
      ]
     },
     "metadata": {
      "needs_background": "light"
     },
     "output_type": "display_data"
    }
   ],
   "source": [
    "%%time\n",
    "modelfit(XGBClassifier(), X_train,y_train,X_validation,y_validation,test_df,sub_df,predictors,outcome,useTrainCV=True, cv_folds=5, early_stopping_rounds=50)"
   ]
  },
  {
   "cell_type": "code",
   "execution_count": null,
   "metadata": {},
   "outputs": [],
   "source": [
    "from sklearn.ensemble import RandomForestClassifier\n",
    "model6 = RandomForestClassifier()\n",
    "\n",
    "modelfit_mod(model6, X_train,y_train,X_validation,y_validation,test_df,sub_df,predictors,outcome,useTrainCV=False, cv_folds=5, early_stopping_rounds=50)"
   ]
  },
  {
   "cell_type": "code",
   "execution_count": null,
   "metadata": {},
   "outputs": [],
   "source": [
    "from sklearn.ensemble import AdaBoostClassifier\n",
    "from sklearn.tree import DecisionTreeClassifier\n",
    "\n",
    "tree = DecisionTreeClassifier(criterion='entropy',max_depth=6)\n",
    "ada = AdaBoostClassifier(base_estimator=tree, n_estimators=29, learning_rate=0.1, random_state=0)\n",
    "\n",
    "modelfit_mod(ada, X_train,y_train,X_validation,y_validation,test_df,sub_df,predictors,outcome,useTrainCV=False, cv_folds=5, early_stopping_rounds=50)"
   ]
  },
  {
   "cell_type": "code",
   "execution_count": null,
   "metadata": {},
   "outputs": [],
   "source": [
    "%%time\n",
    "\n",
    "from sklearn.ensemble import VotingClassifier\n",
    "\n",
    "model9 = VotingClassifier(estimators=[('RF', model6),('Xgb', XGBClassifier()), ('adaboost', ada)], voting='soft')\n",
    "\n",
    "modelfit_mod(model9, X_train,y_train,X_validation,y_validation,test_df,sub_df,predictors,outcome,useTrainCV=False, cv_folds=5, early_stopping_rounds=50)"
   ]
  },
  {
   "cell_type": "code",
   "execution_count": 89,
   "metadata": {},
   "outputs": [
    {
     "name": "stderr",
     "output_type": "stream",
     "text": [
      "/home/monster/.conda/envs/tensorflow/lib/python3.6/site-packages/sklearn/ensemble/forest.py:246: FutureWarning: The default value of n_estimators will change from 10 in version 0.20 to 100 in 0.22.\n",
      "  \"10 in version 0.20 to 100 in 0.22.\", FutureWarning)\n",
      "/home/monster/.conda/envs/tensorflow/lib/python3.6/site-packages/ipykernel_launcher.py:10: DataConversionWarning: A column-vector y was passed when a 1d array was expected. Please change the shape of y to (n_samples,), for example using ravel().\n",
      "  # Remove the CWD from sys.path while we load stuff.\n"
     ]
    },
    {
     "name": "stdout",
     "output_type": "stream",
     "text": [
      "[0.042638   0.00691328 0.01973873 0.00486347 0.02595036 0.00397504\n",
      " 0.02329659 0.         0.00377574 0.0025775  0.00384329 0.00149351\n",
      " 0.00030433 0.01624012 0.00992159 0.00676851 0.00404722 0.01318266\n",
      " 0.0139874  0.00115764 0.00076791 0.00034832 0.00075951 0.00093469\n",
      " 0.01094887 0.00068919 0.00416653 0.00311424 0.00741364 0.00868223\n",
      " 0.00415972 0.0066383  0.0030208  0.00726685 0.01033309 0.005114\n",
      " 0.00997495 0.01248168 0.03660511 0.03579244 0.02720698 0.02846258\n",
      " 0.00634373 0.01826452 0.00440673 0.00309512 0.02138615 0.02685843\n",
      " 0.00677272 0.01747607 0.00464328 0.00326572 0.02201343 0.02713471\n",
      " 0.0067677  0.0192917  0.00477357 0.00249894 0.02330447 0.02919494\n",
      " 0.00723635 0.02043179 0.00491882 0.00368425 0.02596549 0.02608737\n",
      " 0.00663639 0.01965518 0.00484412 0.00447843 0.0229093  0.00656999\n",
      " 0.00095616 0.00080355 0.0011466  0.00098213 0.00081206 0.00107265\n",
      " 0.00074159 0.00117956 0.00128562 0.00082218 0.00118295 0.00050177\n",
      " 0.0015453  0.00188443 0.         0.00063787 0.00039682 0.00094572\n",
      " 0.00028292 0.00086855 0.04872187 0.05273767 0.01237264 0.03765339]\n"
     ]
    }
   ],
   "source": [
    "# Feature Importance\n",
    "from sklearn import datasets\n",
    "from sklearn.ensemble import RandomForestClassifier\n",
    "# from sklearn import metrics\n",
    "# from sklearn.ensemble import ExtraTreesClassifier\n",
    "# load the iris datasets\n",
    "# dataset = datasets.load_iris()\n",
    "# fit an Extra Trees model to the data\n",
    "model = RandomForestClassifier()\n",
    "model.fit(X_train, y_train)\n",
    "# display the relative importance of each attribute\n",
    "print(model.feature_importances_)"
   ]
  },
  {
   "cell_type": "code",
   "execution_count": 90,
   "metadata": {},
   "outputs": [],
   "source": [
    "fimp = pd.Series(X_train.columns)\n",
    "\n",
    "d = pd.concat([fimp,pd.Series(model.feature_importances_)],axis=1)"
   ]
  },
  {
   "cell_type": "code",
   "execution_count": 91,
   "metadata": {},
   "outputs": [],
   "source": [
    "df = d.sort_values(by=1,ascending=False).reset_index().drop(['index'],axis=1)"
   ]
  },
  {
   "cell_type": "code",
   "execution_count": 92,
   "metadata": {},
   "outputs": [],
   "source": [
    "df.columns = ['ftname','ftimp']"
   ]
  },
  {
   "cell_type": "code",
   "execution_count": 93,
   "metadata": {},
   "outputs": [
    {
     "data": {
      "text/html": [
       "<div>\n",
       "<style scoped>\n",
       "    .dataframe tbody tr th:only-of-type {\n",
       "        vertical-align: middle;\n",
       "    }\n",
       "\n",
       "    .dataframe tbody tr th {\n",
       "        vertical-align: top;\n",
       "    }\n",
       "\n",
       "    .dataframe thead th {\n",
       "        text-align: right;\n",
       "    }\n",
       "</style>\n",
       "<table border=\"1\" class=\"dataframe\">\n",
       "  <thead>\n",
       "    <tr style=\"text-align: right;\">\n",
       "      <th></th>\n",
       "      <th>ftname</th>\n",
       "      <th>ftimp</th>\n",
       "    </tr>\n",
       "  </thead>\n",
       "  <tbody>\n",
       "    <tr>\n",
       "      <th>0</th>\n",
       "      <td>log_ltv</td>\n",
       "      <td>0.052738</td>\n",
       "    </tr>\n",
       "    <tr>\n",
       "      <th>1</th>\n",
       "      <td>log_disbursed_amount</td>\n",
       "      <td>0.048722</td>\n",
       "    </tr>\n",
       "    <tr>\n",
       "      <th>2</th>\n",
       "      <td>asset_cost</td>\n",
       "      <td>0.042638</td>\n",
       "    </tr>\n",
       "    <tr>\n",
       "      <th>3</th>\n",
       "      <td>DisbursalDate_dayofmonth</td>\n",
       "      <td>0.037653</td>\n",
       "    </tr>\n",
       "    <tr>\n",
       "      <th>4</th>\n",
       "      <td>Date.of.Birth.YEAR</td>\n",
       "      <td>0.036605</td>\n",
       "    </tr>\n",
       "    <tr>\n",
       "      <th>5</th>\n",
       "      <td>Date.of.Birth.YEAR.conv</td>\n",
       "      <td>0.035792</td>\n",
       "    </tr>\n",
       "    <tr>\n",
       "      <th>6</th>\n",
       "      <td>Current_pincode_ID_PERFORM_CNS.SCORE_mean</td>\n",
       "      <td>0.029195</td>\n",
       "    </tr>\n",
       "    <tr>\n",
       "      <th>7</th>\n",
       "      <td>Current_pincode_ID_stdev</td>\n",
       "      <td>0.028463</td>\n",
       "    </tr>\n",
       "    <tr>\n",
       "      <th>8</th>\n",
       "      <td>Current_pincode_ID_disbursed_amount_mean</td>\n",
       "      <td>0.027207</td>\n",
       "    </tr>\n",
       "    <tr>\n",
       "      <th>9</th>\n",
       "      <td>Current_pincode_ID_ltv_mean</td>\n",
       "      <td>0.027135</td>\n",
       "    </tr>\n",
       "    <tr>\n",
       "      <th>10</th>\n",
       "      <td>Current_pincode_ID_asset_cost_mean</td>\n",
       "      <td>0.026858</td>\n",
       "    </tr>\n",
       "    <tr>\n",
       "      <th>11</th>\n",
       "      <td>Current_pincode_ID_PRIMARY.INSTAL.AMT_mean</td>\n",
       "      <td>0.026087</td>\n",
       "    </tr>\n",
       "    <tr>\n",
       "      <th>12</th>\n",
       "      <td>Employee_code_ID_PERFORM_CNS.SCORE_mean</td>\n",
       "      <td>0.025965</td>\n",
       "    </tr>\n",
       "    <tr>\n",
       "      <th>13</th>\n",
       "      <td>Current_pincode_ID</td>\n",
       "      <td>0.025950</td>\n",
       "    </tr>\n",
       "    <tr>\n",
       "      <th>14</th>\n",
       "      <td>Employee_code_ID_ltv_mean</td>\n",
       "      <td>0.023304</td>\n",
       "    </tr>\n",
       "    <tr>\n",
       "      <th>15</th>\n",
       "      <td>Employee_code_ID</td>\n",
       "      <td>0.023297</td>\n",
       "    </tr>\n",
       "    <tr>\n",
       "      <th>16</th>\n",
       "      <td>Employee_code_ID_PRIMARY.INSTAL.AMT_mean</td>\n",
       "      <td>0.022909</td>\n",
       "    </tr>\n",
       "    <tr>\n",
       "      <th>17</th>\n",
       "      <td>Employee_code_ID_asset_cost_mean</td>\n",
       "      <td>0.022013</td>\n",
       "    </tr>\n",
       "    <tr>\n",
       "      <th>18</th>\n",
       "      <td>Employee_code_ID_disbursed_amount_mean</td>\n",
       "      <td>0.021386</td>\n",
       "    </tr>\n",
       "    <tr>\n",
       "      <th>19</th>\n",
       "      <td>supplier_id_PERFORM_CNS.SCORE_mean</td>\n",
       "      <td>0.020432</td>\n",
       "    </tr>\n",
       "    <tr>\n",
       "      <th>20</th>\n",
       "      <td>supplier_id</td>\n",
       "      <td>0.019739</td>\n",
       "    </tr>\n",
       "    <tr>\n",
       "      <th>21</th>\n",
       "      <td>supplier_id_PRIMARY.INSTAL.AMT_mean</td>\n",
       "      <td>0.019655</td>\n",
       "    </tr>\n",
       "    <tr>\n",
       "      <th>22</th>\n",
       "      <td>supplier_id_ltv_mean</td>\n",
       "      <td>0.019292</td>\n",
       "    </tr>\n",
       "    <tr>\n",
       "      <th>23</th>\n",
       "      <td>supplier_id_disbursed_amount_mean</td>\n",
       "      <td>0.018265</td>\n",
       "    </tr>\n",
       "    <tr>\n",
       "      <th>24</th>\n",
       "      <td>supplier_id_asset_cost_mean</td>\n",
       "      <td>0.017476</td>\n",
       "    </tr>\n",
       "    <tr>\n",
       "      <th>25</th>\n",
       "      <td>PERFORM_CNS.SCORE</td>\n",
       "      <td>0.016240</td>\n",
       "    </tr>\n",
       "    <tr>\n",
       "      <th>26</th>\n",
       "      <td>PRI.SANCTIONED.AMOUNT</td>\n",
       "      <td>0.013987</td>\n",
       "    </tr>\n",
       "    <tr>\n",
       "      <th>27</th>\n",
       "      <td>PRI.CURRENT.BALANCE</td>\n",
       "      <td>0.013183</td>\n",
       "    </tr>\n",
       "    <tr>\n",
       "      <th>28</th>\n",
       "      <td>AVERAGE.ACCT.AGE.TOTMONS</td>\n",
       "      <td>0.012482</td>\n",
       "    </tr>\n",
       "    <tr>\n",
       "      <th>29</th>\n",
       "      <td>DisbursalDate_month</td>\n",
       "      <td>0.012373</td>\n",
       "    </tr>\n",
       "    <tr>\n",
       "      <th>...</th>\n",
       "      <td>...</td>\n",
       "      <td>...</td>\n",
       "    </tr>\n",
       "    <tr>\n",
       "      <th>66</th>\n",
       "      <td>State_ID_ltv_mean</td>\n",
       "      <td>0.002499</td>\n",
       "    </tr>\n",
       "    <tr>\n",
       "      <th>67</th>\n",
       "      <td>PERFORM_CNS.SCORE.DESCRIPTION_No_Bureau_Histor...</td>\n",
       "      <td>0.001884</td>\n",
       "    </tr>\n",
       "    <tr>\n",
       "      <th>68</th>\n",
       "      <td>PERFORM_CNS.SCORE.DESCRIPTION_M-Very_High_Risk</td>\n",
       "      <td>0.001545</td>\n",
       "    </tr>\n",
       "    <tr>\n",
       "      <th>69</th>\n",
       "      <td>Driving_flag</td>\n",
       "      <td>0.001494</td>\n",
       "    </tr>\n",
       "    <tr>\n",
       "      <th>70</th>\n",
       "      <td>PERFORM_CNS.SCORE.DESCRIPTION_I-Medium_Risk</td>\n",
       "      <td>0.001286</td>\n",
       "    </tr>\n",
       "    <tr>\n",
       "      <th>71</th>\n",
       "      <td>PERFORM_CNS.SCORE.DESCRIPTION_K-High_Risk</td>\n",
       "      <td>0.001183</td>\n",
       "    </tr>\n",
       "    <tr>\n",
       "      <th>72</th>\n",
       "      <td>PERFORM_CNS.SCORE.DESCRIPTION_H-Medium_Risk</td>\n",
       "      <td>0.001180</td>\n",
       "    </tr>\n",
       "    <tr>\n",
       "      <th>73</th>\n",
       "      <td>SEC.NO.OF.ACCTS</td>\n",
       "      <td>0.001158</td>\n",
       "    </tr>\n",
       "    <tr>\n",
       "      <th>74</th>\n",
       "      <td>PERFORM_CNS.SCORE.DESCRIPTION_C-Very_Low_Risk</td>\n",
       "      <td>0.001147</td>\n",
       "    </tr>\n",
       "    <tr>\n",
       "      <th>75</th>\n",
       "      <td>PERFORM_CNS.SCORE.DESCRIPTION_F-Low_Risk</td>\n",
       "      <td>0.001073</td>\n",
       "    </tr>\n",
       "    <tr>\n",
       "      <th>76</th>\n",
       "      <td>PERFORM_CNS.SCORE.DESCRIPTION_D-Very_Low_Risk</td>\n",
       "      <td>0.000982</td>\n",
       "    </tr>\n",
       "    <tr>\n",
       "      <th>77</th>\n",
       "      <td>PERFORM_CNS.SCORE.DESCRIPTION_A-Very_Low_Risk</td>\n",
       "      <td>0.000956</td>\n",
       "    </tr>\n",
       "    <tr>\n",
       "      <th>78</th>\n",
       "      <td>PERFORM_CNS.SCORE.DESCRIPTION_Not_Scored:_Not_...</td>\n",
       "      <td>0.000946</td>\n",
       "    </tr>\n",
       "    <tr>\n",
       "      <th>79</th>\n",
       "      <td>SEC.SANCTIONED.AMOUNT</td>\n",
       "      <td>0.000935</td>\n",
       "    </tr>\n",
       "    <tr>\n",
       "      <th>80</th>\n",
       "      <td>PERFORM_CNS.SCORE.DESCRIPTION_Not_Scored:_Suff...</td>\n",
       "      <td>0.000869</td>\n",
       "    </tr>\n",
       "    <tr>\n",
       "      <th>81</th>\n",
       "      <td>PERFORM_CNS.SCORE.DESCRIPTION_J-High_Risk</td>\n",
       "      <td>0.000822</td>\n",
       "    </tr>\n",
       "    <tr>\n",
       "      <th>82</th>\n",
       "      <td>PERFORM_CNS.SCORE.DESCRIPTION_E-Low_Risk</td>\n",
       "      <td>0.000812</td>\n",
       "    </tr>\n",
       "    <tr>\n",
       "      <th>83</th>\n",
       "      <td>PERFORM_CNS.SCORE.DESCRIPTION_B-Very_Low_Risk</td>\n",
       "      <td>0.000804</td>\n",
       "    </tr>\n",
       "    <tr>\n",
       "      <th>84</th>\n",
       "      <td>SEC.ACTIVE.ACCTS</td>\n",
       "      <td>0.000768</td>\n",
       "    </tr>\n",
       "    <tr>\n",
       "      <th>85</th>\n",
       "      <td>SEC.CURRENT.BALANCE</td>\n",
       "      <td>0.000760</td>\n",
       "    </tr>\n",
       "    <tr>\n",
       "      <th>86</th>\n",
       "      <td>PERFORM_CNS.SCORE.DESCRIPTION_G-Low_Risk</td>\n",
       "      <td>0.000742</td>\n",
       "    </tr>\n",
       "    <tr>\n",
       "      <th>87</th>\n",
       "      <td>SEC.INSTAL.AMT</td>\n",
       "      <td>0.000689</td>\n",
       "    </tr>\n",
       "    <tr>\n",
       "      <th>88</th>\n",
       "      <td>PERFORM_CNS.SCORE.DESCRIPTION_Not_Scored:_No_A...</td>\n",
       "      <td>0.000638</td>\n",
       "    </tr>\n",
       "    <tr>\n",
       "      <th>89</th>\n",
       "      <td>PERFORM_CNS.SCORE.DESCRIPTION_L-Very_High_Risk</td>\n",
       "      <td>0.000502</td>\n",
       "    </tr>\n",
       "    <tr>\n",
       "      <th>90</th>\n",
       "      <td>PERFORM_CNS.SCORE.DESCRIPTION_Not_Scored:_No_U...</td>\n",
       "      <td>0.000397</td>\n",
       "    </tr>\n",
       "    <tr>\n",
       "      <th>91</th>\n",
       "      <td>SEC.OVERDUE.ACCTS</td>\n",
       "      <td>0.000348</td>\n",
       "    </tr>\n",
       "    <tr>\n",
       "      <th>92</th>\n",
       "      <td>Passport_flag</td>\n",
       "      <td>0.000304</td>\n",
       "    </tr>\n",
       "    <tr>\n",
       "      <th>93</th>\n",
       "      <td>PERFORM_CNS.SCORE.DESCRIPTION_Not_Scored:_Only...</td>\n",
       "      <td>0.000283</td>\n",
       "    </tr>\n",
       "    <tr>\n",
       "      <th>94</th>\n",
       "      <td>PERFORM_CNS.SCORE.DESCRIPTION_Not_Scored:_More...</td>\n",
       "      <td>0.000000</td>\n",
       "    </tr>\n",
       "    <tr>\n",
       "      <th>95</th>\n",
       "      <td>MobileNo_Avl_Flag</td>\n",
       "      <td>0.000000</td>\n",
       "    </tr>\n",
       "  </tbody>\n",
       "</table>\n",
       "<p>96 rows × 2 columns</p>\n",
       "</div>"
      ],
      "text/plain": [
       "                                               ftname     ftimp\n",
       "0                                             log_ltv  0.052738\n",
       "1                                log_disbursed_amount  0.048722\n",
       "2                                          asset_cost  0.042638\n",
       "3                            DisbursalDate_dayofmonth  0.037653\n",
       "4                                  Date.of.Birth.YEAR  0.036605\n",
       "5                             Date.of.Birth.YEAR.conv  0.035792\n",
       "6           Current_pincode_ID_PERFORM_CNS.SCORE_mean  0.029195\n",
       "7                            Current_pincode_ID_stdev  0.028463\n",
       "8            Current_pincode_ID_disbursed_amount_mean  0.027207\n",
       "9                         Current_pincode_ID_ltv_mean  0.027135\n",
       "10                 Current_pincode_ID_asset_cost_mean  0.026858\n",
       "11         Current_pincode_ID_PRIMARY.INSTAL.AMT_mean  0.026087\n",
       "12            Employee_code_ID_PERFORM_CNS.SCORE_mean  0.025965\n",
       "13                                 Current_pincode_ID  0.025950\n",
       "14                          Employee_code_ID_ltv_mean  0.023304\n",
       "15                                   Employee_code_ID  0.023297\n",
       "16           Employee_code_ID_PRIMARY.INSTAL.AMT_mean  0.022909\n",
       "17                   Employee_code_ID_asset_cost_mean  0.022013\n",
       "18             Employee_code_ID_disbursed_amount_mean  0.021386\n",
       "19                 supplier_id_PERFORM_CNS.SCORE_mean  0.020432\n",
       "20                                        supplier_id  0.019739\n",
       "21                supplier_id_PRIMARY.INSTAL.AMT_mean  0.019655\n",
       "22                               supplier_id_ltv_mean  0.019292\n",
       "23                  supplier_id_disbursed_amount_mean  0.018265\n",
       "24                        supplier_id_asset_cost_mean  0.017476\n",
       "25                                  PERFORM_CNS.SCORE  0.016240\n",
       "26                              PRI.SANCTIONED.AMOUNT  0.013987\n",
       "27                                PRI.CURRENT.BALANCE  0.013183\n",
       "28                           AVERAGE.ACCT.AGE.TOTMONS  0.012482\n",
       "29                                DisbursalDate_month  0.012373\n",
       "..                                                ...       ...\n",
       "66                                  State_ID_ltv_mean  0.002499\n",
       "67  PERFORM_CNS.SCORE.DESCRIPTION_No_Bureau_Histor...  0.001884\n",
       "68     PERFORM_CNS.SCORE.DESCRIPTION_M-Very_High_Risk  0.001545\n",
       "69                                       Driving_flag  0.001494\n",
       "70        PERFORM_CNS.SCORE.DESCRIPTION_I-Medium_Risk  0.001286\n",
       "71          PERFORM_CNS.SCORE.DESCRIPTION_K-High_Risk  0.001183\n",
       "72        PERFORM_CNS.SCORE.DESCRIPTION_H-Medium_Risk  0.001180\n",
       "73                                    SEC.NO.OF.ACCTS  0.001158\n",
       "74      PERFORM_CNS.SCORE.DESCRIPTION_C-Very_Low_Risk  0.001147\n",
       "75           PERFORM_CNS.SCORE.DESCRIPTION_F-Low_Risk  0.001073\n",
       "76      PERFORM_CNS.SCORE.DESCRIPTION_D-Very_Low_Risk  0.000982\n",
       "77      PERFORM_CNS.SCORE.DESCRIPTION_A-Very_Low_Risk  0.000956\n",
       "78  PERFORM_CNS.SCORE.DESCRIPTION_Not_Scored:_Not_...  0.000946\n",
       "79                              SEC.SANCTIONED.AMOUNT  0.000935\n",
       "80  PERFORM_CNS.SCORE.DESCRIPTION_Not_Scored:_Suff...  0.000869\n",
       "81          PERFORM_CNS.SCORE.DESCRIPTION_J-High_Risk  0.000822\n",
       "82           PERFORM_CNS.SCORE.DESCRIPTION_E-Low_Risk  0.000812\n",
       "83      PERFORM_CNS.SCORE.DESCRIPTION_B-Very_Low_Risk  0.000804\n",
       "84                                   SEC.ACTIVE.ACCTS  0.000768\n",
       "85                                SEC.CURRENT.BALANCE  0.000760\n",
       "86           PERFORM_CNS.SCORE.DESCRIPTION_G-Low_Risk  0.000742\n",
       "87                                     SEC.INSTAL.AMT  0.000689\n",
       "88  PERFORM_CNS.SCORE.DESCRIPTION_Not_Scored:_No_A...  0.000638\n",
       "89     PERFORM_CNS.SCORE.DESCRIPTION_L-Very_High_Risk  0.000502\n",
       "90  PERFORM_CNS.SCORE.DESCRIPTION_Not_Scored:_No_U...  0.000397\n",
       "91                                  SEC.OVERDUE.ACCTS  0.000348\n",
       "92                                      Passport_flag  0.000304\n",
       "93  PERFORM_CNS.SCORE.DESCRIPTION_Not_Scored:_Only...  0.000283\n",
       "94  PERFORM_CNS.SCORE.DESCRIPTION_Not_Scored:_More...  0.000000\n",
       "95                                  MobileNo_Avl_Flag  0.000000\n",
       "\n",
       "[96 rows x 2 columns]"
      ]
     },
     "execution_count": 93,
     "metadata": {},
     "output_type": "execute_result"
    }
   ],
   "source": [
    "df"
   ]
  },
  {
   "cell_type": "code",
   "execution_count": 72,
   "metadata": {},
   "outputs": [],
   "source": [
    "toptfs = list(df.loc[df['ftimp']<=0,:]['ftname'])"
   ]
  },
  {
   "cell_type": "code",
   "execution_count": 73,
   "metadata": {},
   "outputs": [
    {
     "data": {
      "text/plain": [
       "['PERFORM_CNS.SCORE.DESCRIPTION_Not_Scored:_More_than_50_active_Accounts_found',\n",
       " 'MobileNo_Avl_Flag']"
      ]
     },
     "execution_count": 73,
     "metadata": {},
     "output_type": "execute_result"
    }
   ],
   "source": [
    "toptfs"
   ]
  },
  {
   "cell_type": "code",
   "execution_count": null,
   "metadata": {},
   "outputs": [],
   "source": [
    "modelfit(XGBClassifier(), X_train,y_train,X_validation,y_validation,test_df,sub_df,toptfs,outcome,useTrainCV=True, cv_folds=5, early_stopping_rounds=50)"
   ]
  },
  {
   "cell_type": "code",
   "execution_count": null,
   "metadata": {},
   "outputs": [],
   "source": []
  },
  {
   "cell_type": "code",
   "execution_count": null,
   "metadata": {},
   "outputs": [],
   "source": []
  },
  {
   "cell_type": "code",
   "execution_count": null,
   "metadata": {},
   "outputs": [],
   "source": []
  },
  {
   "cell_type": "code",
   "execution_count": null,
   "metadata": {},
   "outputs": [],
   "source": [
    "model1 = XGBClassifier(\n",
    " learning_rate =0.2,\n",
    " n_estimators=500,\n",
    " max_depth=5,\n",
    " min_child_weight=1,\n",
    " gamma=0,\n",
    " subsample=0.8,\n",
    " colsample_bytree=0.8,\n",
    " objective= 'binary:logistic',\n",
    " nthread=-1,\n",
    " scale_pos_weight=1,\n",
    " seed=27)"
   ]
  },
  {
   "cell_type": "code",
   "execution_count": null,
   "metadata": {},
   "outputs": [],
   "source": [
    "%%time\n",
    "#replce top_20_ft with predictors to run model on all the features\n",
    "modelfit(model1, X_train,y_train,X_validation,y_validation,test_df,sub_df,predictors,outcome,useTrainCV=True, cv_folds=5, early_stopping_rounds=50)"
   ]
  },
  {
   "cell_type": "code",
   "execution_count": null,
   "metadata": {},
   "outputs": [],
   "source": [
    "%%time\n",
    "#replce top_20_ft with predictors to run model on all the features\n",
    "modelfit(model1, X_train,y_train,X_validation,y_validation,test_df,sub_df,toptfs,outcome,useTrainCV=True, cv_folds=5, early_stopping_rounds=50)"
   ]
  },
  {
   "cell_type": "code",
   "execution_count": null,
   "metadata": {},
   "outputs": [],
   "source": [
    "top_20_features = pd.Series(model1.get_booster().get_fscore()).sort_values(ascending=False)[:25]"
   ]
  },
  {
   "cell_type": "code",
   "execution_count": null,
   "metadata": {},
   "outputs": [],
   "source": [
    "top_20_ft = list(top_20_features.index)"
   ]
  },
  {
   "cell_type": "code",
   "execution_count": null,
   "metadata": {},
   "outputs": [],
   "source": [
    "top_20_ft"
   ]
  },
  {
   "cell_type": "code",
   "execution_count": null,
   "metadata": {},
   "outputs": [],
   "source": [
    "%%time\n",
    "#top features only\n",
    "modelfit(model1, X_train,y_train,X_validation,y_validation,test_df,sub_df,top_20_ft,outcome,useTrainCV=True, cv_folds=5, early_stopping_rounds=50)"
   ]
  },
  {
   "cell_type": "code",
   "execution_count": null,
   "metadata": {},
   "outputs": [],
   "source": [
    "%%time\n",
    "#top features only\n",
    "modelfit(model1, X_train,y_train,X_validation,y_validation,test_df,sub_df,top_20_ft,outcome,useTrainCV=True, cv_folds=5, early_stopping_rounds=50)"
   ]
  },
  {
   "cell_type": "code",
   "execution_count": null,
   "metadata": {},
   "outputs": [],
   "source": [
    "from sklearn.metrics import roc_curve, auc\n",
    "def Performance(Model,Y,X):\n",
    "    # Perforamnce of the model\n",
    "    fpr, tpr, _ = roc_curve(Y, Model.predict_proba(X)[:,1])\n",
    "    AUC  = auc(fpr, tpr)\n",
    "    print ('the AUC is : %0.4f' %  AUC)\n",
    "    plt.figure()\n",
    "    plt.plot(fpr, tpr, label='ROC curve (area = %0.4f)' % AUC)\n",
    "    plt.plot([0, 1], [0, 1], 'k--')\n",
    "    plt.xlim([0.0, 1.0])\n",
    "    plt.ylim([0.0, 1.05])\n",
    "    plt.xlabel('False Positive Rate')\n",
    "    plt.ylabel('True Positive Rate')\n",
    "    plt.title('ROC Curve')\n",
    "    plt.legend(loc=\"lower right\")\n",
    "    plt.show()"
   ]
  },
  {
   "cell_type": "code",
   "execution_count": null,
   "metadata": {},
   "outputs": [],
   "source": [
    "Performance(model1,y_validation,X_validation)"
   ]
  },
  {
   "cell_type": "code",
   "execution_count": null,
   "metadata": {},
   "outputs": [],
   "source": [
    "from hyperopt import fmin, tpe, hp, STATUS_OK, Trials"
   ]
  },
  {
   "cell_type": "code",
   "execution_count": null,
   "metadata": {},
   "outputs": [],
   "source": [
    "%%time\n",
    "np.linspace(0,1,11)"
   ]
  },
  {
   "cell_type": "code",
   "execution_count": null,
   "metadata": {},
   "outputs": [],
   "source": [
    "%%time\n",
    "from sklearn.model_selection import cross_val_score\n",
    "def acc_model(params):\n",
    "    clf = XGBClassifier(**params)\n",
    "    return cross_val_score(clf, X_train, y_train, scoring='roc_auc',cv=5).mean()\n",
    "\n",
    "param_space = {\n",
    "    'learning_rate': hp.choice('learning_rate', [0.1,0.1]),#np.linspace(0,1,11)),\n",
    "    \n",
    "    'n_estimators': hp.choice('n_estimators', [300,300]),\n",
    "    \n",
    "    'max_depth': hp.choice('max_depth', [3, 5, 7, 9]), #range(1,20)),\n",
    "                               \n",
    "    'min_child_weight': hp.choice('min_child_weight', [1, 3, 5]), #range(1,7)),\n",
    "    \n",
    "    'gamma': hp.choice('gamma', [0,0]),#np.linspace(0,1,11)),\n",
    "    \n",
    "    'subsample': hp.choice('subsample', [0.8,0.8]),#np.linspace(0,1,11)),\n",
    "    \n",
    "    'colsample_bytree': hp.choice('colsample_bytree',[0.8,0.8])# np.linspace(0,1,11)),\n",
    "    \n",
    "#     'max_features': hp.choice('max_features', range(1,55)),\n",
    "    \n",
    "#     'criterion': hp.choice('criterion', [\"gini\", \"entropy\"])\n",
    "#                        \n",
    "     }\n",
    "\n",
    "best = 0\n",
    "def f(params):\n",
    "    global best\n",
    "    acc = acc_model(params)\n",
    "    if acc > best:\n",
    "        best = acc\n",
    "    print ('new best:', best, params)\n",
    "    return {'loss': -acc, 'status': STATUS_OK}\n",
    "\n",
    "trials = Trials()\n",
    "best = fmin(f, param_space, algo=tpe.suggest, max_evals=5, trials=trials)\n",
    "print ('best:')\n",
    "print (best)\n"
   ]
  },
  {
   "cell_type": "code",
   "execution_count": null,
   "metadata": {},
   "outputs": [],
   "source": []
  },
  {
   "cell_type": "code",
   "execution_count": null,
   "metadata": {},
   "outputs": [],
   "source": []
  },
  {
   "cell_type": "code",
   "execution_count": null,
   "metadata": {},
   "outputs": [],
   "source": []
  },
  {
   "cell_type": "code",
   "execution_count": null,
   "metadata": {},
   "outputs": [],
   "source": [
    "from sklearn.model_selection import learning_curve, GridSearchCV"
   ]
  },
  {
   "cell_type": "code",
   "execution_count": null,
   "metadata": {},
   "outputs": [],
   "source": [
    "%%time\n",
    "param_test1 = {\n",
    " 'max_depth':[3, 5, 7],\n",
    " 'min_child_weight':[1, 3, 5]\n",
    "}\n",
    "\n",
    "gsearch1 = GridSearchCV(estimator = XGBClassifier( learning_rate =0.1, n_estimators=118, max_depth=5,\n",
    " min_child_weight=1, gamma=0, subsample=0.8, colsample_bytree=0.8,\n",
    " objective= 'binary:logistic', nthread=6, scale_pos_weight=1, seed=27), \n",
    " param_grid = param_test1, scoring='roc_auc',n_jobs=6,iid=False, cv=5)\n",
    "gsearch1.fit(X_train,y_train)\n",
    "print(gsearch1.best_params_, gsearch1.best_score_)\n"
   ]
  },
  {
   "cell_type": "code",
   "execution_count": null,
   "metadata": {},
   "outputs": [],
   "source": [
    "param_test1 = {\n",
    " 'max_depth':[3, 5, 7],\n",
    " 'min_child_weight':[1, 3, 5]\n",
    "}\n",
    "\n",
    "gsearch1 = GridSearchCV(estimator = XGBClassifier( learning_rate =0.1, n_estimators=118, max_depth=5,\n",
    " min_child_weight=1, gamma=0, subsample=0.8, colsample_bytree=0.8,\n",
    " objective= 'binary:logistic', nthread=6, scale_pos_weight=1, seed=27), \n",
    " param_grid = param_test1, scoring='roc_auc',n_jobs=6,iid=False, cv=5)\n",
    "gsearch1.fit(X_train,y_train)\n",
    "print(gsearch1.best_params_, gsearch1.best_score_)\n"
   ]
  },
  {
   "cell_type": "code",
   "execution_count": null,
   "metadata": {},
   "outputs": [],
   "source": [
    "gsearch1.best_params_"
   ]
  },
  {
   "cell_type": "code",
   "execution_count": null,
   "metadata": {},
   "outputs": [],
   "source": [
    "gsearch1.best_score_"
   ]
  },
  {
   "cell_type": "code",
   "execution_count": null,
   "metadata": {},
   "outputs": [],
   "source": [
    "param_test2 = {\n",
    " 'max_depth':[4, 5, 6],\n",
    " 'min_child_weight':[4,5,6]\n",
    "}\n",
    "\n",
    "gsearch1 = GridSearchCV(estimator = XGBClassifier( learning_rate =0.1, n_estimators=118, max_depth=5,\n",
    " min_child_weight=2, gamma=0, subsample=0.8, colsample_bytree=0.8,\n",
    " objective= 'binary:logistic', nthread=6, scale_pos_weight=1, seed=27), \n",
    " param_grid = param_test2, scoring='roc_auc',n_jobs=6,iid=False, cv=5)\n",
    "gsearch1.fit(X_train,y_train)\n",
    "\n",
    "print(gsearch1.best_params_, gsearch1.best_score_)"
   ]
  },
  {
   "cell_type": "code",
   "execution_count": null,
   "metadata": {},
   "outputs": [],
   "source": [
    "param_test2b = {\n",
    " 'min_child_weight':[5,6,7,8,9]\n",
    "}\n",
    "\n",
    "gsearch2b = GridSearchCV(estimator = XGBClassifier( learning_rate=0.1, n_estimators=118, max_depth=6,\n",
    " min_child_weight=2, gamma=0, subsample=0.8, colsample_bytree=0.8,\n",
    " objective= 'binary:logistic', nthread=6, scale_pos_weight=1,seed=27), \n",
    " param_grid = param_test2b, scoring='roc_auc',n_jobs=6,iid=False, cv=5)\n",
    "gsearch2b.fit(X_train,y_train)\n",
    "\n",
    "print(gsearch2b.best_params_, gsearch2b.best_score_)"
   ]
  },
  {
   "cell_type": "code",
   "execution_count": null,
   "metadata": {},
   "outputs": [],
   "source": [
    "param_test3 = {\n",
    " 'gamma':[i/10.0 for i in range(0,5)]\n",
    "}\n",
    "gsearch3 = GridSearchCV(estimator = XGBClassifier( learning_rate =0.1, n_estimators=118, max_depth=6,\n",
    " min_child_weight=8, gamma=0, subsample=0.8, colsample_bytree=0.8,\n",
    " objective= 'binary:logistic', nthread=-1, scale_pos_weight=1,seed=27), \n",
    " param_grid = param_test3, scoring='roc_auc',n_jobs=4,iid=False, cv=5)\n",
    "gsearch3.fit(X_train,y_train)\n",
    "\n",
    "print(gsearch3.best_params_, gsearch3.best_score_)\n"
   ]
  },
  {
   "cell_type": "code",
   "execution_count": null,
   "metadata": {},
   "outputs": [],
   "source": [
    "xgb1 = XGBClassifier(\n",
    " learning_rate =0.1,\n",
    " n_estimators=1000,\n",
    " max_depth=6,\n",
    " min_child_weight=8,\n",
    " gamma=0,\n",
    " subsample=0.8,\n",
    " colsample_bytree=0.8,\n",
    " objective= 'binary:logistic',\n",
    " nthread=4,\n",
    " scale_pos_weight=1,\n",
    " seed=27)"
   ]
  },
  {
   "cell_type": "code",
   "execution_count": null,
   "metadata": {},
   "outputs": [],
   "source": [
    "modelfit(xgb1, X_train,y_train,X_validation,y_validation,test_df,sub_df,predictors,outcome,useTrainCV=True, cv_folds=5, early_stopping_rounds=50)"
   ]
  },
  {
   "cell_type": "code",
   "execution_count": null,
   "metadata": {},
   "outputs": [],
   "source": [
    "param_test4 = {\n",
    " 'subsample':[i/10.0 for i in range(6,10)],\n",
    " 'colsample_bytree':[i/10.0 for i in range(6,10)]\n",
    "}\n",
    "\n",
    "gsearch4 = GridSearchCV(estimator = XGBClassifier( learning_rate =0.1, n_estimators=200, max_depth=6,\n",
    " min_child_weight=8, gamma=0, subsample=0.8, colsample_bytree=0.8,\n",
    " objective= 'binary:logistic', nthread=-1, scale_pos_weight=1,seed=27), \n",
    " param_grid = param_test4, scoring='roc_auc',n_jobs=4,iid=False, cv=5)\n",
    "gsearch4.fit(X_train,y_train)\n",
    "\n",
    "print(gsearch4.best_params_, gsearch4.best_score_)\n"
   ]
  },
  {
   "cell_type": "code",
   "execution_count": null,
   "metadata": {},
   "outputs": [],
   "source": [
    "param_test5 = {\n",
    " 'subsample':[i/100.0 for i in range(85,100,5)],\n",
    " 'colsample_bytree':[i/100.0 for i in range(65,80,5)]\n",
    "}\n",
    "\n",
    "gsearch5 = GridSearchCV(estimator = XGBClassifier( learning_rate =0.1, n_estimators=200, max_depth=6,\n",
    " min_child_weight=8, gamma=0, subsample=0.8, colsample_bytree=0.8,\n",
    " objective= 'binary:logistic', nthread=4, scale_pos_weight=1,seed=27), \n",
    " param_grid = param_test5, scoring='roc_auc',n_jobs=4,iid=False, cv=5)\n",
    "\n",
    "gsearch5.fit(X_train,y_train)\n",
    "print(gsearch5.best_params_, gsearch5.best_score_)\n"
   ]
  },
  {
   "cell_type": "code",
   "execution_count": null,
   "metadata": {},
   "outputs": [],
   "source": [
    "# param_test6 = {\n",
    "#  'reg_alpha':[1e-5, 1e-2, 0.1, 1, 100]\n",
    "# }\n",
    "\n",
    "# gsearch6 = GridSearchCV(estimator = XGBClassifier( learning_rate =0.1, n_estimators=200, max_depth=6,\n",
    "#  min_child_weight=8, gamma=0, subsample=0.95, colsample_bytree=0.7,\n",
    "#  objective= 'binary:logistic', nthread=-1, scale_pos_weight=1,seed=27), \n",
    "#  param_grid = param_test6, scoring='roc_auc',n_jobs=4,iid=False, cv=5)\n",
    "\n",
    "# gsearch6.fit(X_train,y_train)\n",
    "\n",
    "\n",
    "# print(gsearch6.best_params_, gsearch6.best_score_)"
   ]
  },
  {
   "cell_type": "code",
   "execution_count": null,
   "metadata": {},
   "outputs": [],
   "source": [
    "# param_test7 = {\n",
    "#  'reg_alpha':[0, 0.001, 0.005, 0.01, 0.05,0.09]\n",
    "# }\n",
    "\n",
    "# gsearch7 = GridSearchCV(estimator = XGBClassifier( learning_rate =0.1, n_estimators=200, max_depth=6,\n",
    "#  min_child_weight=8, gamma=0.1,subsample=0.95, colsample_bytree=0.7,\n",
    "#  objective= 'binary:logistic', nthread=-1, scale_pos_weight=1,seed=27), \n",
    "#  param_grid = param_test7, scoring='roc_auc',n_jobs=4,iid=False, cv=5)\n",
    "# gsearch7.fit(X_train,y_train)\n",
    "\n",
    "# print(gsearch7.best_params_, gsearch7.best_score_)\n"
   ]
  },
  {
   "cell_type": "code",
   "execution_count": null,
   "metadata": {},
   "outputs": [],
   "source": []
  },
  {
   "cell_type": "code",
   "execution_count": null,
   "metadata": {},
   "outputs": [],
   "source": []
  },
  {
   "cell_type": "code",
   "execution_count": null,
   "metadata": {},
   "outputs": [],
   "source": []
  },
  {
   "cell_type": "code",
   "execution_count": null,
   "metadata": {},
   "outputs": [],
   "source": [
    "xgb4 = XGBClassifier(\n",
    " learning_rate =0.1,\n",
    " n_estimators=1000,\n",
    " max_depth=6,\n",
    " min_child_weight=8,\n",
    " gamma=0,\n",
    " subsample=0.9,\n",
    " colsample_bytree=1,\n",
    " objective= 'binary:logistic',\n",
    " nthread=-1,\n",
    " scale_pos_weight=1,\n",
    " seed=27)\n"
   ]
  },
  {
   "cell_type": "code",
   "execution_count": null,
   "metadata": {},
   "outputs": [],
   "source": [
    "modelfit(xgb4, X_train,y_train,X_validation,y_validation,test_df,sub_df,predictors,outcome,useTrainCV=True, cv_folds=5, early_stopping_rounds=50)"
   ]
  },
  {
   "cell_type": "code",
   "execution_count": null,
   "metadata": {},
   "outputs": [],
   "source": []
  },
  {
   "cell_type": "code",
   "execution_count": 40,
   "metadata": {},
   "outputs": [],
   "source": [
    "from feature_selector import FeatureSelector\n",
    "# Features are in train and labels are in train_labels\n",
    "fs = FeatureSelector(data = train_df, labels = train_df.loan_default)"
   ]
  },
  {
   "cell_type": "code",
   "execution_count": 41,
   "metadata": {},
   "outputs": [
    {
     "name": "stdout",
     "output_type": "stream",
     "text": [
      "0 features with greater than 0.60 missing values.\n",
      "\n"
     ]
    }
   ],
   "source": [
    "fs.identify_missing(missing_threshold = 0.6)"
   ]
  },
  {
   "cell_type": "code",
   "execution_count": 42,
   "metadata": {},
   "outputs": [
    {
     "name": "stdout",
     "output_type": "stream",
     "text": [
      "12 features with a correlation magnitude greater than 0.98.\n",
      "\n"
     ]
    }
   ],
   "source": [
    "fs.identify_collinear(correlation_threshold = 0.98)"
   ]
  },
  {
   "cell_type": "code",
   "execution_count": 43,
   "metadata": {},
   "outputs": [
    {
     "data": {
      "image/png": "[encoded data removed]",
      "text/plain": [
       "<Figure size 720x576 with 2 Axes>"
      ]
     },
     "metadata": {
      "needs_background": "light"
     },
     "output_type": "display_data"
    }
   ],
   "source": [
    "fs.plot_collinear()"
   ]
  },
  {
   "cell_type": "code",
   "execution_count": 44,
   "metadata": {},
   "outputs": [],
   "source": [
    "# list of collinear features to remove\n",
    "collinear_features = fs.ops['collinear']"
   ]
  },
  {
   "cell_type": "code",
   "execution_count": 51,
   "metadata": {},
   "outputs": [],
   "source": [
    "# dataframe of collinear features\n",
    "l2 = list(fs.record_collinear['drop_feature'])"
   ]
  },
  {
   "cell_type": "code",
   "execution_count": 85,
   "metadata": {},
   "outputs": [],
   "source": [
    "predictors = [x for x in predictors if x not in l2]"
   ]
  },
  {
   "cell_type": "code",
   "execution_count": 82,
   "metadata": {},
   "outputs": [],
   "source": [
    "l2.remove('log_ltv')"
   ]
  },
  {
   "cell_type": "code",
   "execution_count": 83,
   "metadata": {},
   "outputs": [
    {
     "data": {
      "text/plain": [
       "['PRI.DISBURSED.AMOUNT',\n",
       " 'SEC.DISBURSED.AMOUNT',\n",
       " 'CREDIT.HISTORY.LENGTH.TOTMONS',\n",
       " 'Date.of.Birth.AGE',\n",
       " 'branch_id_stdev',\n",
       " 'supplier_id_stdev',\n",
       " 'manufacturer_id_stdev',\n",
       " 'manufacturer_id_stdev',\n",
       " 'State_ID_stdev',\n",
       " 'State_ID_stdev',\n",
       " 'State_ID_stdev',\n",
       " 'State_ID_stdev',\n",
       " 'Employee_code_ID_stdev',\n",
       " 'Employee_code_ID_stdev',\n",
       " 'Employee_code_ID_stdev',\n",
       " 'Employee_code_ID_stdev',\n",
       " 'Employment.Type_Self employed',\n",
       " 'ltv_squared']"
      ]
     },
     "execution_count": 83,
     "metadata": {},
     "output_type": "execute_result"
    }
   ],
   "source": [
    "l2"
   ]
  },
  {
   "cell_type": "code",
   "execution_count": null,
   "metadata": {},
   "outputs": [],
   "source": [
    "# Pass in the appropriate parameters\n",
    "fs.identify_zero_importance(task = 'classification', \n",
    "                            eval_metric = 'auc', \n",
    "                            n_iterations = 1, \n",
    "                             early_stopping = True)\n",
    "# list of zero importance features\n",
    "zero_importance_features = fs.ops['zero_importance']"
   ]
  },
  {
   "cell_type": "code",
   "execution_count": null,
   "metadata": {},
   "outputs": [],
   "source": [
    "fs.identify_low_importance(cumulative_importance = 0.99)"
   ]
  },
  {
   "cell_type": "code",
   "execution_count": null,
   "metadata": {},
   "outputs": [],
   "source": []
  },
  {
   "cell_type": "code",
   "execution_count": null,
   "metadata": {},
   "outputs": [],
   "source": []
  },
  {
   "cell_type": "code",
   "execution_count": null,
   "metadata": {},
   "outputs": [],
   "source": []
  },
  {
   "cell_type": "code",
   "execution_count": null,
   "metadata": {},
   "outputs": [],
   "source": []
  },
  {
   "cell_type": "code",
   "execution_count": null,
   "metadata": {},
   "outputs": [],
   "source": [
    "\n",
    "\n",
    "\n",
    "\n",
    "\n",
    "\n",
    "\n",
    "\n",
    "\n",
    "\n",
    "\n",
    " \n",
    "\n",
    "\n",
    "\n",
    "\n",
    "\n",
    "\n",
    "\n",
    "\n",
    "\n",
    "\n",
    "\n",
    "\n",
    "\n",
    "\n",
    "\n"
   ]
  },
  {
   "cell_type": "code",
   "execution_count": null,
   "metadata": {},
   "outputs": [],
   "source": []
  },
  {
   "cell_type": "code",
   "execution_count": null,
   "metadata": {},
   "outputs": [],
   "source": []
  },
  {
   "cell_type": "code",
   "execution_count": null,
   "metadata": {},
   "outputs": [],
   "source": []
  },
  {
   "cell_type": "code",
   "execution_count": null,
   "metadata": {},
   "outputs": [],
   "source": []
  }
 ],
 "metadata": {
  "kernelspec": {
   "display_name": "tensorflow",
   "language": "python",
   "name": "tensorflow"
  },
  "language_info": {
   "codemirror_mode": {
    "name": "ipython",
    "version": 3
   },
   "file_extension": ".py",
   "mimetype": "text/x-python",
   "name": "python",
   "nbconvert_exporter": "python",
   "pygments_lexer": "ipython3",
   "version": "3.6.8"
  }
 },
 "nbformat": 4,
 "nbformat_minor": 2
}
