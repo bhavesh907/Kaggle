{
 "cells": [
  {
   "cell_type": "code",
   "execution_count": 1,
   "metadata": {},
   "outputs": [],
   "source": [
    "import pandas as pd\n",
    "import numpy as np"
   ]
  },
  {
   "cell_type": "code",
   "execution_count": 2,
   "metadata": {},
   "outputs": [],
   "source": [
    "train_df = pd.read_csv('/home/monster/Downloads/kaggle/AV-L&T-loan/train.csv')\n",
    "test_df = pd.read_csv('/home/monster/Downloads/kaggle/AV-L&T-loan/test.csv')\n",
    "sub_df = pd.read_csv('/home/monster/Downloads/kaggle/AV-L&T-loan/sample_submission.csv')"
   ]
  },
  {
   "cell_type": "code",
   "execution_count": 3,
   "metadata": {},
   "outputs": [
    {
     "data": {
      "text/plain": [
       "((233154, 41), (112392, 40))"
      ]
     },
     "execution_count": 3,
     "metadata": {},
     "output_type": "execute_result"
    }
   ],
   "source": [
    "train_df.shape,test_df.shape"
   ]
  },
  {
   "cell_type": "code",
   "execution_count": 11,
   "metadata": {},
   "outputs": [],
   "source": [
    "train_df['is_train'] = ''\n",
    "test_df['is_train'] = ''\n",
    "data = pd.DataFrame()\n",
    "train_df.loc[:,'is_train'] = 1\n",
    "test_df.loc[:,'is_train'] = 0\n",
    "data = data.append(train_df,sort=False).append(test_df,sort=False)"
   ]
  },
  {
   "cell_type": "code",
   "execution_count": 12,
   "metadata": {},
   "outputs": [],
   "source": [
    "data.reset_index(inplace=True)"
   ]
  },
  {
   "cell_type": "code",
   "execution_count": 13,
   "metadata": {},
   "outputs": [],
   "source": [
    "#Treat missing values\n",
    "#86 % values are no so it is safe to impute NO\n",
    "data['Employment.Type'].fillna('Self employed',inplace=True)"
   ]
  },
  {
   "cell_type": "code",
   "execution_count": 14,
   "metadata": {},
   "outputs": [
    {
     "data": {
      "text/plain": [
       "index                                       0\n",
       "UniqueID                                    0\n",
       "disbursed_amount                            0\n",
       "asset_cost                                  0\n",
       "ltv                                         0\n",
       "branch_id                                   0\n",
       "supplier_id                                 0\n",
       "manufacturer_id                             0\n",
       "Current_pincode_ID                          0\n",
       "Date.of.Birth                               0\n",
       "Employment.Type                             0\n",
       "DisbursalDate                               0\n",
       "State_ID                                    0\n",
       "Employee_code_ID                            0\n",
       "MobileNo_Avl_Flag                           0\n",
       "Aadhar_flag                                 0\n",
       "PAN_flag                                    0\n",
       "VoterID_flag                                0\n",
       "Driving_flag                                0\n",
       "Passport_flag                               0\n",
       "PERFORM_CNS.SCORE                           0\n",
       "PERFORM_CNS.SCORE.DESCRIPTION               0\n",
       "PRI.NO.OF.ACCTS                             0\n",
       "PRI.ACTIVE.ACCTS                            0\n",
       "PRI.OVERDUE.ACCTS                           0\n",
       "PRI.CURRENT.BALANCE                         0\n",
       "PRI.SANCTIONED.AMOUNT                       0\n",
       "PRI.DISBURSED.AMOUNT                        0\n",
       "SEC.NO.OF.ACCTS                             0\n",
       "SEC.ACTIVE.ACCTS                            0\n",
       "SEC.OVERDUE.ACCTS                           0\n",
       "SEC.CURRENT.BALANCE                         0\n",
       "SEC.SANCTIONED.AMOUNT                       0\n",
       "SEC.DISBURSED.AMOUNT                        0\n",
       "PRIMARY.INSTAL.AMT                          0\n",
       "SEC.INSTAL.AMT                              0\n",
       "NEW.ACCTS.IN.LAST.SIX.MONTHS                0\n",
       "DELINQUENT.ACCTS.IN.LAST.SIX.MONTHS         0\n",
       "AVERAGE.ACCT.AGE                            0\n",
       "CREDIT.HISTORY.LENGTH                       0\n",
       "NO.OF_INQUIRIES                             0\n",
       "loan_default                           112392\n",
       "is_train                                    0\n",
       "dtype: int64"
      ]
     },
     "execution_count": 14,
     "metadata": {},
     "output_type": "execute_result"
    }
   ],
   "source": [
    "data.apply(lambda x: sum(x.isnull()),axis=0)"
   ]
  },
  {
   "cell_type": "code",
   "execution_count": 15,
   "metadata": {},
   "outputs": [
    {
     "data": {
      "text/plain": [
       "(345546, 43)"
      ]
     },
     "execution_count": 15,
     "metadata": {},
     "output_type": "execute_result"
    }
   ],
   "source": [
    "data.shape"
   ]
  },
  {
   "cell_type": "code",
   "execution_count": 16,
   "metadata": {},
   "outputs": [
    {
     "data": {
      "text/plain": [
       "index                                    int64\n",
       "UniqueID                                 int64\n",
       "disbursed_amount                         int64\n",
       "asset_cost                               int64\n",
       "ltv                                    float64\n",
       "branch_id                                int64\n",
       "supplier_id                              int64\n",
       "manufacturer_id                          int64\n",
       "Current_pincode_ID                       int64\n",
       "Date.of.Birth                           object\n",
       "Employment.Type                         object\n",
       "DisbursalDate                           object\n",
       "State_ID                                 int64\n",
       "Employee_code_ID                         int64\n",
       "MobileNo_Avl_Flag                        int64\n",
       "Aadhar_flag                              int64\n",
       "PAN_flag                                 int64\n",
       "VoterID_flag                             int64\n",
       "Driving_flag                             int64\n",
       "Passport_flag                            int64\n",
       "PERFORM_CNS.SCORE                        int64\n",
       "PERFORM_CNS.SCORE.DESCRIPTION           object\n",
       "PRI.NO.OF.ACCTS                          int64\n",
       "PRI.ACTIVE.ACCTS                         int64\n",
       "PRI.OVERDUE.ACCTS                        int64\n",
       "PRI.CURRENT.BALANCE                      int64\n",
       "PRI.SANCTIONED.AMOUNT                    int64\n",
       "PRI.DISBURSED.AMOUNT                     int64\n",
       "SEC.NO.OF.ACCTS                          int64\n",
       "SEC.ACTIVE.ACCTS                         int64\n",
       "SEC.OVERDUE.ACCTS                        int64\n",
       "SEC.CURRENT.BALANCE                      int64\n",
       "SEC.SANCTIONED.AMOUNT                    int64\n",
       "SEC.DISBURSED.AMOUNT                     int64\n",
       "PRIMARY.INSTAL.AMT                       int64\n",
       "SEC.INSTAL.AMT                           int64\n",
       "NEW.ACCTS.IN.LAST.SIX.MONTHS             int64\n",
       "DELINQUENT.ACCTS.IN.LAST.SIX.MONTHS      int64\n",
       "AVERAGE.ACCT.AGE                        object\n",
       "CREDIT.HISTORY.LENGTH                   object\n",
       "NO.OF_INQUIRIES                          int64\n",
       "loan_default                           float64\n",
       "is_train                                 int64\n",
       "dtype: object"
      ]
     },
     "execution_count": 16,
     "metadata": {},
     "output_type": "execute_result"
    }
   ],
   "source": [
    "data.dtypes"
   ]
  },
  {
   "cell_type": "code",
   "execution_count": 21,
   "metadata": {},
   "outputs": [
    {
     "data": {
      "text/plain": [
       "(345546, 43)"
      ]
     },
     "execution_count": 21,
     "metadata": {},
     "output_type": "execute_result"
    }
   ],
   "source": [
    "data.shape"
   ]
  },
  {
   "cell_type": "code",
   "execution_count": 20,
   "metadata": {},
   "outputs": [
    {
     "data": {
      "text/plain": [
       "2"
      ]
     },
     "execution_count": 20,
     "metadata": {},
     "output_type": "execute_result"
    }
   ],
   "source": [
    "len(data['Employment.Type'].value_counts())"
   ]
  },
  {
   "cell_type": "code",
   "execution_count": 19,
   "metadata": {},
   "outputs": [
    {
     "data": {
      "text/plain": [
       "20"
      ]
     },
     "execution_count": 19,
     "metadata": {},
     "output_type": "execute_result"
    }
   ],
   "source": [
    "len(data['PERFORM_CNS.SCORE.DESCRIPTION'].value_counts())"
   ]
  },
  {
   "cell_type": "code",
   "execution_count": 27,
   "metadata": {},
   "outputs": [],
   "source": [
    "data['PERFORM_CNS.SCORE.DESCRIPTION'] = data['PERFORM_CNS.SCORE.DESCRIPTION'].replace(' ', '_', regex=True)"
   ]
  },
  {
   "cell_type": "code",
   "execution_count": 35,
   "metadata": {},
   "outputs": [],
   "source": [
    "#treat categorical variables\n",
    "from sklearn.preprocessing import OneHotEncoder\n",
    "\n",
    "d = pd.DataFrame()\n",
    "\n",
    "var_mod = ['Employment.Type','PERFORM_CNS.SCORE.DESCRIPTION']\n",
    "\n",
    "x = pd.get_dummies(data[var_mod])\n",
    "\n",
    "data  = data.drop(var_mod,axis=1)\n",
    "data = pd.concat([data,x], axis=1)\n",
    "    \n",
    "# for i in var_mod:\n",
    "#     print(i)\n",
    "# #     d[str(i)] \n",
    "#     dd = le.fit_transform(data.loc[:,i]).toarray()\n",
    "#     print(dd.shape)\n",
    "# d.dtypes\n"
   ]
  },
  {
   "cell_type": "code",
   "execution_count": 36,
   "metadata": {},
   "outputs": [
    {
     "data": {
      "text/plain": [
       "(345546, 63)"
      ]
     },
     "execution_count": 36,
     "metadata": {},
     "output_type": "execute_result"
    }
   ],
   "source": [
    "data.shape"
   ]
  },
  {
   "cell_type": "code",
   "execution_count": 37,
   "metadata": {},
   "outputs": [
    {
     "data": {
      "text/plain": [
       "str"
      ]
     },
     "execution_count": 37,
     "metadata": {},
     "output_type": "execute_result"
    }
   ],
   "source": [
    "type(data['Date.of.Birth'][0])"
   ]
  },
  {
   "cell_type": "code",
   "execution_count": 38,
   "metadata": {},
   "outputs": [
    {
     "data": {
      "text/plain": [
       "str"
      ]
     },
     "execution_count": 38,
     "metadata": {},
     "output_type": "execute_result"
    }
   ],
   "source": [
    "type(data['DisbursalDate'][0])"
   ]
  },
  {
   "cell_type": "code",
   "execution_count": 39,
   "metadata": {},
   "outputs": [
    {
     "data": {
      "text/plain": [
       "str"
      ]
     },
     "execution_count": 39,
     "metadata": {},
     "output_type": "execute_result"
    }
   ],
   "source": [
    "type(data['AVERAGE.ACCT.AGE'][0])"
   ]
  },
  {
   "cell_type": "code",
   "execution_count": 40,
   "metadata": {},
   "outputs": [
    {
     "data": {
      "text/plain": [
       "str"
      ]
     },
     "execution_count": 40,
     "metadata": {},
     "output_type": "execute_result"
    }
   ],
   "source": [
    "type(data['CREDIT.HISTORY.LENGTH'][0])"
   ]
  },
  {
   "cell_type": "code",
   "execution_count": 41,
   "metadata": {},
   "outputs": [],
   "source": [
    "train_df = data.loc[data['is_train']==1,:]\n",
    "train_df = train_df.drop(['is_train'],axis=1)"
   ]
  },
  {
   "cell_type": "code",
   "execution_count": 42,
   "metadata": {},
   "outputs": [],
   "source": [
    "test_df = data.loc[data['is_train']==0,:]\n",
    "test_df = test_df.drop(['is_train','loan_default'],axis=1)"
   ]
  },
  {
   "cell_type": "code",
   "execution_count": 43,
   "metadata": {},
   "outputs": [
    {
     "data": {
      "text/plain": [
       "index                                                                                    0\n",
       "UniqueID                                                                                 0\n",
       "disbursed_amount                                                                         0\n",
       "asset_cost                                                                               0\n",
       "ltv                                                                                      0\n",
       "branch_id                                                                                0\n",
       "supplier_id                                                                              0\n",
       "manufacturer_id                                                                          0\n",
       "Current_pincode_ID                                                                       0\n",
       "Date.of.Birth                                                                            0\n",
       "DisbursalDate                                                                            0\n",
       "State_ID                                                                                 0\n",
       "Employee_code_ID                                                                         0\n",
       "MobileNo_Avl_Flag                                                                        0\n",
       "Aadhar_flag                                                                              0\n",
       "PAN_flag                                                                                 0\n",
       "VoterID_flag                                                                             0\n",
       "Driving_flag                                                                             0\n",
       "Passport_flag                                                                            0\n",
       "PERFORM_CNS.SCORE                                                                        0\n",
       "PRI.NO.OF.ACCTS                                                                          0\n",
       "PRI.ACTIVE.ACCTS                                                                         0\n",
       "PRI.OVERDUE.ACCTS                                                                        0\n",
       "PRI.CURRENT.BALANCE                                                                      0\n",
       "PRI.SANCTIONED.AMOUNT                                                                    0\n",
       "PRI.DISBURSED.AMOUNT                                                                     0\n",
       "SEC.NO.OF.ACCTS                                                                          0\n",
       "SEC.ACTIVE.ACCTS                                                                         0\n",
       "SEC.OVERDUE.ACCTS                                                                        0\n",
       "SEC.CURRENT.BALANCE                                                                      0\n",
       "                                                                                        ..\n",
       "PRIMARY.INSTAL.AMT                                                                       0\n",
       "SEC.INSTAL.AMT                                                                           0\n",
       "NEW.ACCTS.IN.LAST.SIX.MONTHS                                                             0\n",
       "DELINQUENT.ACCTS.IN.LAST.SIX.MONTHS                                                      0\n",
       "AVERAGE.ACCT.AGE                                                                         0\n",
       "CREDIT.HISTORY.LENGTH                                                                    0\n",
       "NO.OF_INQUIRIES                                                                          0\n",
       "loan_default                                                                             0\n",
       "Employment.Type_Salaried                                                                 0\n",
       "Employment.Type_Self employed                                                            0\n",
       "PERFORM_CNS.SCORE.DESCRIPTION_A-Very_Low_Risk                                            0\n",
       "PERFORM_CNS.SCORE.DESCRIPTION_B-Very_Low_Risk                                            0\n",
       "PERFORM_CNS.SCORE.DESCRIPTION_C-Very_Low_Risk                                            0\n",
       "PERFORM_CNS.SCORE.DESCRIPTION_D-Very_Low_Risk                                            0\n",
       "PERFORM_CNS.SCORE.DESCRIPTION_E-Low_Risk                                                 0\n",
       "PERFORM_CNS.SCORE.DESCRIPTION_F-Low_Risk                                                 0\n",
       "PERFORM_CNS.SCORE.DESCRIPTION_G-Low_Risk                                                 0\n",
       "PERFORM_CNS.SCORE.DESCRIPTION_H-Medium_Risk                                              0\n",
       "PERFORM_CNS.SCORE.DESCRIPTION_I-Medium_Risk                                              0\n",
       "PERFORM_CNS.SCORE.DESCRIPTION_J-High_Risk                                                0\n",
       "PERFORM_CNS.SCORE.DESCRIPTION_K-High_Risk                                                0\n",
       "PERFORM_CNS.SCORE.DESCRIPTION_L-Very_High_Risk                                           0\n",
       "PERFORM_CNS.SCORE.DESCRIPTION_M-Very_High_Risk                                           0\n",
       "PERFORM_CNS.SCORE.DESCRIPTION_No_Bureau_History_Available                                0\n",
       "PERFORM_CNS.SCORE.DESCRIPTION_Not_Scored:_More_than_50_active_Accounts_found             0\n",
       "PERFORM_CNS.SCORE.DESCRIPTION_Not_Scored:_No_Activity_seen_on_the_customer_(Inactive)    0\n",
       "PERFORM_CNS.SCORE.DESCRIPTION_Not_Scored:_No_Updates_available_in_last_36_months         0\n",
       "PERFORM_CNS.SCORE.DESCRIPTION_Not_Scored:_Not_Enough_Info_available_on_the_customer      0\n",
       "PERFORM_CNS.SCORE.DESCRIPTION_Not_Scored:_Only_a_Guarantor                               0\n",
       "PERFORM_CNS.SCORE.DESCRIPTION_Not_Scored:_Sufficient_History_Not_Available               0\n",
       "Length: 62, dtype: int64"
      ]
     },
     "execution_count": 43,
     "metadata": {},
     "output_type": "execute_result"
    }
   ],
   "source": [
    "train_df.apply(lambda x: sum(x.isnull()),axis=0)"
   ]
  },
  {
   "cell_type": "code",
   "execution_count": 44,
   "metadata": {},
   "outputs": [
    {
     "data": {
      "text/plain": [
       "index                                                                                    0\n",
       "UniqueID                                                                                 0\n",
       "disbursed_amount                                                                         0\n",
       "asset_cost                                                                               0\n",
       "ltv                                                                                      0\n",
       "branch_id                                                                                0\n",
       "supplier_id                                                                              0\n",
       "manufacturer_id                                                                          0\n",
       "Current_pincode_ID                                                                       0\n",
       "Date.of.Birth                                                                            0\n",
       "DisbursalDate                                                                            0\n",
       "State_ID                                                                                 0\n",
       "Employee_code_ID                                                                         0\n",
       "MobileNo_Avl_Flag                                                                        0\n",
       "Aadhar_flag                                                                              0\n",
       "PAN_flag                                                                                 0\n",
       "VoterID_flag                                                                             0\n",
       "Driving_flag                                                                             0\n",
       "Passport_flag                                                                            0\n",
       "PERFORM_CNS.SCORE                                                                        0\n",
       "PRI.NO.OF.ACCTS                                                                          0\n",
       "PRI.ACTIVE.ACCTS                                                                         0\n",
       "PRI.OVERDUE.ACCTS                                                                        0\n",
       "PRI.CURRENT.BALANCE                                                                      0\n",
       "PRI.SANCTIONED.AMOUNT                                                                    0\n",
       "PRI.DISBURSED.AMOUNT                                                                     0\n",
       "SEC.NO.OF.ACCTS                                                                          0\n",
       "SEC.ACTIVE.ACCTS                                                                         0\n",
       "SEC.OVERDUE.ACCTS                                                                        0\n",
       "SEC.CURRENT.BALANCE                                                                      0\n",
       "                                                                                        ..\n",
       "SEC.DISBURSED.AMOUNT                                                                     0\n",
       "PRIMARY.INSTAL.AMT                                                                       0\n",
       "SEC.INSTAL.AMT                                                                           0\n",
       "NEW.ACCTS.IN.LAST.SIX.MONTHS                                                             0\n",
       "DELINQUENT.ACCTS.IN.LAST.SIX.MONTHS                                                      0\n",
       "AVERAGE.ACCT.AGE                                                                         0\n",
       "CREDIT.HISTORY.LENGTH                                                                    0\n",
       "NO.OF_INQUIRIES                                                                          0\n",
       "Employment.Type_Salaried                                                                 0\n",
       "Employment.Type_Self employed                                                            0\n",
       "PERFORM_CNS.SCORE.DESCRIPTION_A-Very_Low_Risk                                            0\n",
       "PERFORM_CNS.SCORE.DESCRIPTION_B-Very_Low_Risk                                            0\n",
       "PERFORM_CNS.SCORE.DESCRIPTION_C-Very_Low_Risk                                            0\n",
       "PERFORM_CNS.SCORE.DESCRIPTION_D-Very_Low_Risk                                            0\n",
       "PERFORM_CNS.SCORE.DESCRIPTION_E-Low_Risk                                                 0\n",
       "PERFORM_CNS.SCORE.DESCRIPTION_F-Low_Risk                                                 0\n",
       "PERFORM_CNS.SCORE.DESCRIPTION_G-Low_Risk                                                 0\n",
       "PERFORM_CNS.SCORE.DESCRIPTION_H-Medium_Risk                                              0\n",
       "PERFORM_CNS.SCORE.DESCRIPTION_I-Medium_Risk                                              0\n",
       "PERFORM_CNS.SCORE.DESCRIPTION_J-High_Risk                                                0\n",
       "PERFORM_CNS.SCORE.DESCRIPTION_K-High_Risk                                                0\n",
       "PERFORM_CNS.SCORE.DESCRIPTION_L-Very_High_Risk                                           0\n",
       "PERFORM_CNS.SCORE.DESCRIPTION_M-Very_High_Risk                                           0\n",
       "PERFORM_CNS.SCORE.DESCRIPTION_No_Bureau_History_Available                                0\n",
       "PERFORM_CNS.SCORE.DESCRIPTION_Not_Scored:_More_than_50_active_Accounts_found             0\n",
       "PERFORM_CNS.SCORE.DESCRIPTION_Not_Scored:_No_Activity_seen_on_the_customer_(Inactive)    0\n",
       "PERFORM_CNS.SCORE.DESCRIPTION_Not_Scored:_No_Updates_available_in_last_36_months         0\n",
       "PERFORM_CNS.SCORE.DESCRIPTION_Not_Scored:_Not_Enough_Info_available_on_the_customer      0\n",
       "PERFORM_CNS.SCORE.DESCRIPTION_Not_Scored:_Only_a_Guarantor                               0\n",
       "PERFORM_CNS.SCORE.DESCRIPTION_Not_Scored:_Sufficient_History_Not_Available               0\n",
       "Length: 61, dtype: int64"
      ]
     },
     "execution_count": 44,
     "metadata": {},
     "output_type": "execute_result"
    }
   ],
   "source": [
    "test_df.apply(lambda x: sum(x.isnull()),axis=0)"
   ]
  },
  {
   "cell_type": "code",
   "execution_count": 45,
   "metadata": {},
   "outputs": [
    {
     "data": {
      "text/plain": [
       "((233154, 62), (112392, 61))"
      ]
     },
     "execution_count": 45,
     "metadata": {},
     "output_type": "execute_result"
    }
   ],
   "source": [
    "train_df.shape,test_df.shape"
   ]
  },
  {
   "cell_type": "code",
   "execution_count": 46,
   "metadata": {},
   "outputs": [
    {
     "data": {
      "text/plain": [
       "Index(['index', 'UniqueID', 'disbursed_amount', 'asset_cost', 'ltv',\n",
       "       'branch_id', 'supplier_id', 'manufacturer_id', 'Current_pincode_ID',\n",
       "       'Date.of.Birth', 'DisbursalDate', 'State_ID', 'Employee_code_ID',\n",
       "       'MobileNo_Avl_Flag', 'Aadhar_flag', 'PAN_flag', 'VoterID_flag',\n",
       "       'Driving_flag', 'Passport_flag', 'PERFORM_CNS.SCORE', 'PRI.NO.OF.ACCTS',\n",
       "       'PRI.ACTIVE.ACCTS', 'PRI.OVERDUE.ACCTS', 'PRI.CURRENT.BALANCE',\n",
       "       'PRI.SANCTIONED.AMOUNT', 'PRI.DISBURSED.AMOUNT', 'SEC.NO.OF.ACCTS',\n",
       "       'SEC.ACTIVE.ACCTS', 'SEC.OVERDUE.ACCTS', 'SEC.CURRENT.BALANCE',\n",
       "       'SEC.SANCTIONED.AMOUNT', 'SEC.DISBURSED.AMOUNT', 'PRIMARY.INSTAL.AMT',\n",
       "       'SEC.INSTAL.AMT', 'NEW.ACCTS.IN.LAST.SIX.MONTHS',\n",
       "       'DELINQUENT.ACCTS.IN.LAST.SIX.MONTHS', 'AVERAGE.ACCT.AGE',\n",
       "       'CREDIT.HISTORY.LENGTH', 'NO.OF_INQUIRIES', 'loan_default',\n",
       "       'Employment.Type_Salaried', 'Employment.Type_Self employed',\n",
       "       'PERFORM_CNS.SCORE.DESCRIPTION_A-Very_Low_Risk',\n",
       "       'PERFORM_CNS.SCORE.DESCRIPTION_B-Very_Low_Risk',\n",
       "       'PERFORM_CNS.SCORE.DESCRIPTION_C-Very_Low_Risk',\n",
       "       'PERFORM_CNS.SCORE.DESCRIPTION_D-Very_Low_Risk',\n",
       "       'PERFORM_CNS.SCORE.DESCRIPTION_E-Low_Risk',\n",
       "       'PERFORM_CNS.SCORE.DESCRIPTION_F-Low_Risk',\n",
       "       'PERFORM_CNS.SCORE.DESCRIPTION_G-Low_Risk',\n",
       "       'PERFORM_CNS.SCORE.DESCRIPTION_H-Medium_Risk',\n",
       "       'PERFORM_CNS.SCORE.DESCRIPTION_I-Medium_Risk',\n",
       "       'PERFORM_CNS.SCORE.DESCRIPTION_J-High_Risk',\n",
       "       'PERFORM_CNS.SCORE.DESCRIPTION_K-High_Risk',\n",
       "       'PERFORM_CNS.SCORE.DESCRIPTION_L-Very_High_Risk',\n",
       "       'PERFORM_CNS.SCORE.DESCRIPTION_M-Very_High_Risk',\n",
       "       'PERFORM_CNS.SCORE.DESCRIPTION_No_Bureau_History_Available',\n",
       "       'PERFORM_CNS.SCORE.DESCRIPTION_Not_Scored:_More_than_50_active_Accounts_found',\n",
       "       'PERFORM_CNS.SCORE.DESCRIPTION_Not_Scored:_No_Activity_seen_on_the_customer_(Inactive)',\n",
       "       'PERFORM_CNS.SCORE.DESCRIPTION_Not_Scored:_No_Updates_available_in_last_36_months',\n",
       "       'PERFORM_CNS.SCORE.DESCRIPTION_Not_Scored:_Not_Enough_Info_available_on_the_customer',\n",
       "       'PERFORM_CNS.SCORE.DESCRIPTION_Not_Scored:_Only_a_Guarantor',\n",
       "       'PERFORM_CNS.SCORE.DESCRIPTION_Not_Scored:_Sufficient_History_Not_Available'],\n",
       "      dtype='object')"
      ]
     },
     "execution_count": 46,
     "metadata": {},
     "output_type": "execute_result"
    }
   ],
   "source": [
    "train_df.columns"
   ]
  },
  {
   "cell_type": "code",
   "execution_count": 47,
   "metadata": {},
   "outputs": [],
   "source": [
    "\n",
    "predictors = ['disbursed_amount', 'asset_cost', 'ltv',\n",
    "       'branch_id', 'supplier_id', 'manufacturer_id', 'Current_pincode_ID',\n",
    "       'State_ID', 'Employee_code_ID',\n",
    "       'MobileNo_Avl_Flag', 'Aadhar_flag', 'PAN_flag', 'VoterID_flag',\n",
    "       'Driving_flag', 'Passport_flag', 'PERFORM_CNS.SCORE', 'PRI.NO.OF.ACCTS',\n",
    "       'PRI.ACTIVE.ACCTS', 'PRI.OVERDUE.ACCTS', 'PRI.CURRENT.BALANCE',\n",
    "       'PRI.SANCTIONED.AMOUNT', 'PRI.DISBURSED.AMOUNT', 'SEC.NO.OF.ACCTS',\n",
    "       'SEC.ACTIVE.ACCTS', 'SEC.OVERDUE.ACCTS', 'SEC.CURRENT.BALANCE',\n",
    "       'SEC.SANCTIONED.AMOUNT', 'SEC.DISBURSED.AMOUNT', 'PRIMARY.INSTAL.AMT',\n",
    "       'SEC.INSTAL.AMT', 'NEW.ACCTS.IN.LAST.SIX.MONTHS',\n",
    "       'DELINQUENT.ACCTS.IN.LAST.SIX.MONTHS', 'NO.OF_INQUIRIES',\n",
    "       'Employment.Type_Salaried', 'Employment.Type_Self employed',\n",
    "       'PERFORM_CNS.SCORE.DESCRIPTION_A-Very_Low_Risk',\n",
    "       'PERFORM_CNS.SCORE.DESCRIPTION_B-Very_Low_Risk',\n",
    "       'PERFORM_CNS.SCORE.DESCRIPTION_C-Very_Low_Risk',\n",
    "       'PERFORM_CNS.SCORE.DESCRIPTION_D-Very_Low_Risk',\n",
    "       'PERFORM_CNS.SCORE.DESCRIPTION_E-Low_Risk',\n",
    "       'PERFORM_CNS.SCORE.DESCRIPTION_F-Low_Risk',\n",
    "       'PERFORM_CNS.SCORE.DESCRIPTION_G-Low_Risk',\n",
    "       'PERFORM_CNS.SCORE.DESCRIPTION_H-Medium_Risk',\n",
    "       'PERFORM_CNS.SCORE.DESCRIPTION_I-Medium_Risk',\n",
    "       'PERFORM_CNS.SCORE.DESCRIPTION_J-High_Risk',\n",
    "       'PERFORM_CNS.SCORE.DESCRIPTION_K-High_Risk',\n",
    "       'PERFORM_CNS.SCORE.DESCRIPTION_L-Very_High_Risk',\n",
    "       'PERFORM_CNS.SCORE.DESCRIPTION_M-Very_High_Risk',\n",
    "       'PERFORM_CNS.SCORE.DESCRIPTION_No_Bureau_History_Available',\n",
    "       'PERFORM_CNS.SCORE.DESCRIPTION_Not_Scored:_More_than_50_active_Accounts_found',\n",
    "       'PERFORM_CNS.SCORE.DESCRIPTION_Not_Scored:_No_Activity_seen_on_the_customer_(Inactive)',\n",
    "       'PERFORM_CNS.SCORE.DESCRIPTION_Not_Scored:_No_Updates_available_in_last_36_months',\n",
    "       'PERFORM_CNS.SCORE.DESCRIPTION_Not_Scored:_Not_Enough_Info_available_on_the_customer',\n",
    "       'PERFORM_CNS.SCORE.DESCRIPTION_Not_Scored:_Only_a_Guarantor',\n",
    "       'PERFORM_CNS.SCORE.DESCRIPTION_Not_Scored:_Sufficient_History_Not_Available']\n",
    "\n",
    "outcome = ['loan_default']"
   ]
  },
  {
   "cell_type": "code",
   "execution_count": 48,
   "metadata": {},
   "outputs": [],
   "source": [
    "from sklearn.model_selection import train_test_split\n",
    "\n",
    "X_train, X_validation, y_train, y_validation = train_test_split(train_df[predictors], train_df[outcome], test_size=0.3, random_state=1234)"
   ]
  },
  {
   "cell_type": "code",
   "execution_count": 49,
   "metadata": {},
   "outputs": [
    {
     "data": {
      "text/plain": [
       "((163207, 55), (69947, 55))"
      ]
     },
     "execution_count": 49,
     "metadata": {},
     "output_type": "execute_result"
    }
   ],
   "source": [
    "X_train.shape,X_validation.shape"
   ]
  },
  {
   "cell_type": "code",
   "execution_count": null,
   "metadata": {},
   "outputs": [],
   "source": []
  },
  {
   "cell_type": "code",
   "execution_count": 50,
   "metadata": {},
   "outputs": [],
   "source": [
    "from sklearn.ensemble import RandomForestClassifier\n",
    "alg = RandomForestClassifier()\n"
   ]
  },
  {
   "cell_type": "code",
   "execution_count": 51,
   "metadata": {},
   "outputs": [],
   "source": [
    "import xgboost as xgb\n",
    "from xgboost.sklearn import XGBClassifier\n",
    "from sklearn.model_selection import cross_validate\n",
    "from sklearn import metrics \n",
    "from sklearn.model_selection import GridSearchCV   #Perforing grid search\n",
    "from sklearn.model_selection import cross_validate\n",
    "from sklearn.model_selection import KFold"
   ]
  },
  {
   "cell_type": "code",
   "execution_count": 52,
   "metadata": {},
   "outputs": [
    {
     "name": "stdout",
     "output_type": "stream",
     "text": [
      "training stared\n"
     ]
    },
    {
     "name": "stderr",
     "output_type": "stream",
     "text": [
      "/home/monster/.conda/envs/tensorflow/lib/python3.6/site-packages/sklearn/ensemble/forest.py:246: FutureWarning: The default value of n_estimators will change from 10 in version 0.20 to 100 in 0.22.\n",
      "  \"10 in version 0.20 to 100 in 0.22.\", FutureWarning)\n",
      "/home/monster/.conda/envs/tensorflow/lib/python3.6/site-packages/ipykernel_launcher.py:15: DataConversionWarning: A column-vector y was passed when a 1d array was expected. Please change the shape of y to (n_samples,), for example using ravel().\n",
      "  from ipykernel import kernelapp as app\n"
     ]
    },
    {
     "name": "stdout",
     "output_type": "stream",
     "text": [
      "training finished\n",
      "training stared\n"
     ]
    },
    {
     "name": "stderr",
     "output_type": "stream",
     "text": [
      "/home/monster/.conda/envs/tensorflow/lib/python3.6/site-packages/ipykernel_launcher.py:15: DataConversionWarning: A column-vector y was passed when a 1d array was expected. Please change the shape of y to (n_samples,), for example using ravel().\n",
      "  from ipykernel import kernelapp as app\n"
     ]
    },
    {
     "name": "stdout",
     "output_type": "stream",
     "text": [
      "training finished\n",
      "training stared\n"
     ]
    },
    {
     "name": "stderr",
     "output_type": "stream",
     "text": [
      "/home/monster/.conda/envs/tensorflow/lib/python3.6/site-packages/ipykernel_launcher.py:15: DataConversionWarning: A column-vector y was passed when a 1d array was expected. Please change the shape of y to (n_samples,), for example using ravel().\n",
      "  from ipykernel import kernelapp as app\n"
     ]
    },
    {
     "name": "stdout",
     "output_type": "stream",
     "text": [
      "training finished\n",
      "training stared\n"
     ]
    },
    {
     "name": "stderr",
     "output_type": "stream",
     "text": [
      "/home/monster/.conda/envs/tensorflow/lib/python3.6/site-packages/ipykernel_launcher.py:15: DataConversionWarning: A column-vector y was passed when a 1d array was expected. Please change the shape of y to (n_samples,), for example using ravel().\n",
      "  from ipykernel import kernelapp as app\n"
     ]
    },
    {
     "name": "stdout",
     "output_type": "stream",
     "text": [
      "training finished\n",
      "training stared\n"
     ]
    },
    {
     "name": "stderr",
     "output_type": "stream",
     "text": [
      "/home/monster/.conda/envs/tensorflow/lib/python3.6/site-packages/ipykernel_launcher.py:15: DataConversionWarning: A column-vector y was passed when a 1d array was expected. Please change the shape of y to (n_samples,), for example using ravel().\n",
      "  from ipykernel import kernelapp as app\n"
     ]
    },
    {
     "name": "stdout",
     "output_type": "stream",
     "text": [
      "training finished\n",
      "Cross-Validation AUC Score : 0.518195\n"
     ]
    }
   ],
   "source": [
    "#kf = loo.split(X_train_std[predictor_var])\n",
    "kf = KFold(n_splits=5).split(X_train[predictors])\n",
    "error = []\n",
    "# yavg = pd.DataFrame()\n",
    "\n",
    "for train, test in kf:\n",
    "    # Filter training data\n",
    "    print(\"training stared\")\n",
    "    train_predictors = X_train[predictors].iloc[train,:]\n",
    "\n",
    "    # The target we're using to train the algorithm.\n",
    "    train_target = y_train.iloc[train].values\n",
    "\n",
    "    # Training the algorithm using the predictors and target.\n",
    "    alg.fit(train_predictors, train_target)\n",
    "    y1 = alg.predict(X_train[predictors].iloc[test,:])\n",
    "#     yavg = yavg.append(pd.Series(y1),ignore_index=True)\n",
    "\n",
    "    #Record error from each cross-validation run\n",
    "    error.append(metrics.roc_auc_score(y_train.iloc[test], y1))\n",
    "    print(\"training finished\")\n",
    "print (\"Cross-Validation AUC Score : %f\" % np.mean(error))\n"
   ]
  },
  {
   "cell_type": "code",
   "execution_count": 53,
   "metadata": {},
   "outputs": [
    {
     "data": {
      "text/plain": [
       "(163207, 1)"
      ]
     },
     "execution_count": 53,
     "metadata": {},
     "output_type": "execute_result"
    }
   ],
   "source": [
    "# metrics.roc_auc_score(y_train.iloc[test], )\n",
    "# np.transpose(yavg.loc[yavg['index']=='mean',:])[1:]\n",
    "y_train.shape"
   ]
  },
  {
   "cell_type": "code",
   "execution_count": 55,
   "metadata": {},
   "outputs": [],
   "source": [
    "import matplotlib.pyplot as plt"
   ]
  },
  {
   "cell_type": "code",
   "execution_count": 56,
   "metadata": {},
   "outputs": [],
   "source": [
    "def modelfit(alg, dtrain,ytrain,dtest,ytest,test,sub_df, predictors,outcome_var,useTrainCV=True, cv_folds=5, early_stopping_rounds=50):\n",
    "    \n",
    "    if useTrainCV:\n",
    "        xgb_param = alg.get_xgb_params()\n",
    "        xgtrain = xgb.DMatrix(dtrain[predictors].values, label=ytrain.values)\n",
    "        cvresult = xgb.cv(xgb_param, xgtrain, num_boost_round=alg.get_params()['n_estimators'], nfold=cv_folds,\n",
    "            metrics='auc', early_stopping_rounds=early_stopping_rounds,verbose_eval=True,\n",
    "            show_stdv=True)\n",
    "        alg.set_params(n_estimators=cvresult.shape[0])\n",
    "    \n",
    "    #Fit the algorithm on the data\n",
    "    alg.fit(dtrain[predictors], ytrain,eval_metric='auc')\n",
    "        \n",
    "    #Predict training set:\n",
    "    dtrain_predictions = alg.predict(dtest[predictors])\n",
    "    dtrain_predprob = alg.predict_proba(dtest[predictors])[:,1]\n",
    "    \n",
    "    dtrain_predprob1 = alg.predict_proba(test[predictors])[:,1]\n",
    "    sub_df['loan_default']= dtrain_predprob1\n",
    "    sub_df.to_csv('sub1.csv',index=False)    \n",
    "    #Print model report:\n",
    "    print(\"\\nModel Report\")\n",
    "    print(\"Accuracy : %.4g\" % metrics.accuracy_score(ytest.values, dtrain_predictions))\n",
    "    print(\"AUC Score (Train): %f\" % metrics.roc_auc_score(ytest, dtrain_predprob))\n",
    "                    \n",
    "    feat_imp = pd.Series(alg.get_booster().get_fscore()).sort_values(ascending=False)\n",
    "    feat_imp.plot(kind='bar', title='Feature Importances')\n",
    "    plt.ylabel('Feature Importance Score')  \n",
    "  "
   ]
  },
  {
   "cell_type": "code",
   "execution_count": 57,
   "metadata": {},
   "outputs": [
    {
     "name": "stdout",
     "output_type": "stream",
     "text": [
      "[0]\ttrain-auc:0.60176+0.00149064\ttest-auc:0.600698+0.00195408\n",
      "[1]\ttrain-auc:0.611633+0.00112975\ttest-auc:0.609773+0.00177233\n",
      "[2]\ttrain-auc:0.614285+0.00124445\ttest-auc:0.611846+0.00251387\n",
      "[3]\ttrain-auc:0.616669+0.00169748\ttest-auc:0.613874+0.00148193\n",
      "[4]\ttrain-auc:0.617854+0.000663482\ttest-auc:0.614835+0.00117474\n",
      "[5]\ttrain-auc:0.618968+0.000323856\ttest-auc:0.615729+0.00170642\n",
      "[6]\ttrain-auc:0.61972+0.00111253\ttest-auc:0.616925+0.0024417\n",
      "[7]\ttrain-auc:0.620605+0.000904969\ttest-auc:0.617829+0.00206946\n",
      "[8]\ttrain-auc:0.62201+0.00119396\ttest-auc:0.618907+0.00233823\n",
      "[9]\ttrain-auc:0.622918+0.00138954\ttest-auc:0.619543+0.00213243\n",
      "[10]\ttrain-auc:0.624685+0.00112873\ttest-auc:0.621463+0.00178562\n",
      "[11]\ttrain-auc:0.625294+0.00107161\ttest-auc:0.62207+0.00173243\n",
      "[12]\ttrain-auc:0.626195+0.00136308\ttest-auc:0.622717+0.00194653\n",
      "[13]\ttrain-auc:0.627707+0.000856224\ttest-auc:0.62416+0.00151248\n",
      "[14]\ttrain-auc:0.628616+0.000721556\ttest-auc:0.62503+0.00152558\n",
      "[15]\ttrain-auc:0.629702+0.000778241\ttest-auc:0.625906+0.00168002\n",
      "[16]\ttrain-auc:0.630945+0.000944865\ttest-auc:0.62693+0.00123075\n",
      "[17]\ttrain-auc:0.631843+0.000956939\ttest-auc:0.627964+0.00134193\n",
      "[18]\ttrain-auc:0.632498+0.000913526\ttest-auc:0.628347+0.00123141\n",
      "[19]\ttrain-auc:0.633377+0.000709251\ttest-auc:0.629148+0.00118199\n",
      "[20]\ttrain-auc:0.634343+0.000758591\ttest-auc:0.630142+0.00128166\n",
      "[21]\ttrain-auc:0.635424+0.000691887\ttest-auc:0.631115+0.00119636\n",
      "[22]\ttrain-auc:0.636019+0.000870244\ttest-auc:0.6315+0.00111538\n",
      "[23]\ttrain-auc:0.636805+0.000818962\ttest-auc:0.632294+0.00108301\n",
      "[24]\ttrain-auc:0.637662+0.000849597\ttest-auc:0.633078+0.00131113\n",
      "[25]\ttrain-auc:0.638482+0.000816042\ttest-auc:0.633847+0.00137165\n",
      "[26]\ttrain-auc:0.639238+0.000623183\ttest-auc:0.634601+0.0010754\n",
      "[27]\ttrain-auc:0.640193+0.000324822\ttest-auc:0.635424+0.00136836\n",
      "[28]\ttrain-auc:0.64087+0.000492992\ttest-auc:0.636037+0.00134064\n",
      "[29]\ttrain-auc:0.641479+0.000494194\ttest-auc:0.636506+0.00134265\n",
      "[30]\ttrain-auc:0.642086+0.000531963\ttest-auc:0.637045+0.00146381\n",
      "[31]\ttrain-auc:0.642577+0.000471259\ttest-auc:0.637491+0.00158225\n",
      "[32]\ttrain-auc:0.643162+0.000571022\ttest-auc:0.637997+0.00157826\n",
      "[33]\ttrain-auc:0.643718+0.000526004\ttest-auc:0.638562+0.00169997\n",
      "[34]\ttrain-auc:0.644265+0.000466726\ttest-auc:0.638926+0.00171051\n",
      "[35]\ttrain-auc:0.644806+0.000608297\ttest-auc:0.639353+0.00141468\n",
      "[36]\ttrain-auc:0.64533+0.000663705\ttest-auc:0.63977+0.00148104\n",
      "[37]\ttrain-auc:0.645865+0.000651532\ttest-auc:0.640282+0.00142528\n",
      "[38]\ttrain-auc:0.646399+0.000483928\ttest-auc:0.640768+0.0015702\n",
      "[39]\ttrain-auc:0.646753+0.000479497\ttest-auc:0.641032+0.00156363\n",
      "[40]\ttrain-auc:0.647189+0.00051318\ttest-auc:0.641364+0.00146763\n",
      "[41]\ttrain-auc:0.647685+0.000569952\ttest-auc:0.641745+0.00144132\n",
      "[42]\ttrain-auc:0.648071+0.000592311\ttest-auc:0.641975+0.00155388\n",
      "[43]\ttrain-auc:0.648382+0.000604825\ttest-auc:0.642294+0.00145656\n",
      "[44]\ttrain-auc:0.648659+0.000620605\ttest-auc:0.642627+0.00133667\n",
      "[45]\ttrain-auc:0.649021+0.000533489\ttest-auc:0.642923+0.00139839\n",
      "[46]\ttrain-auc:0.64958+0.000670253\ttest-auc:0.643416+0.00130359\n",
      "[47]\ttrain-auc:0.649886+0.000593195\ttest-auc:0.643624+0.00135815\n",
      "[48]\ttrain-auc:0.650241+0.000482056\ttest-auc:0.643846+0.0013844\n",
      "[49]\ttrain-auc:0.65061+0.000345609\ttest-auc:0.644129+0.00154772\n",
      "[50]\ttrain-auc:0.650913+0.000414527\ttest-auc:0.644349+0.00140405\n",
      "[51]\ttrain-auc:0.651296+0.000456073\ttest-auc:0.644577+0.00138529\n",
      "[52]\ttrain-auc:0.651575+0.000487828\ttest-auc:0.644784+0.00141384\n",
      "[53]\ttrain-auc:0.651929+0.000484619\ttest-auc:0.645096+0.00137172\n",
      "[54]\ttrain-auc:0.652254+0.000357928\ttest-auc:0.64535+0.00156436\n",
      "[55]\ttrain-auc:0.652526+0.000402868\ttest-auc:0.645571+0.00148813\n",
      "[56]\ttrain-auc:0.652743+0.00039589\ttest-auc:0.645705+0.00148896\n",
      "[57]\ttrain-auc:0.652967+0.000420302\ttest-auc:0.645887+0.00143525\n",
      "[58]\ttrain-auc:0.6532+0.000443832\ttest-auc:0.646065+0.00136591\n",
      "[59]\ttrain-auc:0.653436+0.000422662\ttest-auc:0.646151+0.0013011\n",
      "[60]\ttrain-auc:0.653724+0.00033048\ttest-auc:0.646374+0.001385\n",
      "[61]\ttrain-auc:0.654015+0.000278065\ttest-auc:0.646638+0.00143973\n",
      "[62]\ttrain-auc:0.65431+0.000241623\ttest-auc:0.646822+0.00152797\n",
      "[63]\ttrain-auc:0.65454+0.000271516\ttest-auc:0.647016+0.00145687\n",
      "[64]\ttrain-auc:0.654763+0.000276044\ttest-auc:0.64714+0.00144109\n",
      "[65]\ttrain-auc:0.654975+0.000301287\ttest-auc:0.647279+0.00148411\n",
      "[66]\ttrain-auc:0.655285+0.000253756\ttest-auc:0.647536+0.00157201\n",
      "[67]\ttrain-auc:0.655501+0.000246626\ttest-auc:0.647675+0.00155439\n",
      "[68]\ttrain-auc:0.655839+0.00024351\ttest-auc:0.647944+0.00156745\n",
      "[69]\ttrain-auc:0.6561+0.00020034\ttest-auc:0.64813+0.00166686\n",
      "[70]\ttrain-auc:0.656247+0.000188037\ttest-auc:0.6482+0.00166805\n",
      "[71]\ttrain-auc:0.656401+0.000172172\ttest-auc:0.648292+0.00165783\n",
      "[72]\ttrain-auc:0.656584+0.000213332\ttest-auc:0.648392+0.00163059\n",
      "[73]\ttrain-auc:0.656756+0.000215703\ttest-auc:0.648548+0.00161727\n",
      "[74]\ttrain-auc:0.656952+0.000174613\ttest-auc:0.648684+0.00164718\n",
      "[75]\ttrain-auc:0.657195+0.000230197\ttest-auc:0.648768+0.00159385\n",
      "[76]\ttrain-auc:0.657356+0.000161923\ttest-auc:0.648844+0.00167314\n",
      "[77]\ttrain-auc:0.657509+0.000157108\ttest-auc:0.648919+0.00169052\n",
      "[78]\ttrain-auc:0.657671+0.000199547\ttest-auc:0.649069+0.00171551\n",
      "[79]\ttrain-auc:0.657811+0.00021245\ttest-auc:0.649096+0.00169143\n",
      "[80]\ttrain-auc:0.657977+0.000210135\ttest-auc:0.64921+0.00169265\n",
      "[81]\ttrain-auc:0.658223+0.000179971\ttest-auc:0.649406+0.00173064\n",
      "[82]\ttrain-auc:0.658423+0.000203613\ttest-auc:0.649555+0.00173193\n",
      "[83]\ttrain-auc:0.658553+0.000197999\ttest-auc:0.649564+0.00171759\n",
      "[84]\ttrain-auc:0.658723+0.000211857\ttest-auc:0.649692+0.00166305\n",
      "[85]\ttrain-auc:0.658857+0.000198162\ttest-auc:0.64976+0.00169463\n",
      "[86]\ttrain-auc:0.658998+0.000208062\ttest-auc:0.64986+0.00170917\n",
      "[87]\ttrain-auc:0.659187+0.000234171\ttest-auc:0.649994+0.00164588\n",
      "[88]\ttrain-auc:0.659402+0.000228191\ttest-auc:0.650109+0.0016795\n",
      "[89]\ttrain-auc:0.659587+0.000251997\ttest-auc:0.65027+0.00168924\n",
      "[90]\ttrain-auc:0.659759+0.000241602\ttest-auc:0.650386+0.00173803\n",
      "[91]\ttrain-auc:0.659846+0.000254243\ttest-auc:0.650427+0.00171608\n",
      "[92]\ttrain-auc:0.659936+0.000258428\ttest-auc:0.650436+0.00171298\n",
      "[93]\ttrain-auc:0.660099+0.00027112\ttest-auc:0.650526+0.00169515\n",
      "[94]\ttrain-auc:0.660259+0.000226723\ttest-auc:0.65064+0.00177918\n",
      "[95]\ttrain-auc:0.660433+0.000217419\ttest-auc:0.650699+0.00177346\n",
      "[96]\ttrain-auc:0.660604+0.000221593\ttest-auc:0.650801+0.00183297\n",
      "[97]\ttrain-auc:0.660697+0.000246639\ttest-auc:0.65085+0.00181874\n",
      "[98]\ttrain-auc:0.660863+0.000249163\ttest-auc:0.650909+0.00180181\n",
      "[99]\ttrain-auc:0.661036+0.00028495\ttest-auc:0.651023+0.00171588\n"
     ]
    },
    {
     "name": "stderr",
     "output_type": "stream",
     "text": [
      "/home/monster/.conda/envs/tensorflow/lib/python3.6/site-packages/sklearn/preprocessing/label.py:219: DataConversionWarning: A column-vector y was passed when a 1d array was expected. Please change the shape of y to (n_samples, ), for example using ravel().\n",
      "  y = column_or_1d(y, warn=True)\n",
      "/home/monster/.conda/envs/tensorflow/lib/python3.6/site-packages/sklearn/preprocessing/label.py:252: DataConversionWarning: A column-vector y was passed when a 1d array was expected. Please change the shape of y to (n_samples, ), for example using ravel().\n",
      "  y = column_or_1d(y, warn=True)\n"
     ]
    },
    {
     "name": "stdout",
     "output_type": "stream",
     "text": [
      "\n",
      "Model Report\n",
      "Accuracy : 0.7829\n",
      "AUC Score (Train): 0.652443\n"
     ]
    },
    {
     "data": {
      "image/png": "[encoded data removed]",
      "text/plain": [
       "<Figure size 432x288 with 1 Axes>"
      ]
     },
     "metadata": {
      "needs_background": "light"
     },
     "output_type": "display_data"
    }
   ],
   "source": [
    "modelfit(XGBClassifier(), X_train,y_train,X_validation,y_validation,test_df,sub_df,predictors,outcome,useTrainCV=True, cv_folds=5, early_stopping_rounds=50)"
   ]
  },
  {
   "cell_type": "code",
   "execution_count": null,
   "metadata": {},
   "outputs": [],
   "source": [
    "from sklearn.model_selection import cross_val_score\n",
    "from sklearn.svm import SVR\n",
    "model2 = SVR(kernel = 'rbf')\n",
    "\n",
    "from sklearn.metrics import mean_squared_error\n",
    "from sklearn.metrics import r2_score\n",
    "\n",
    "from sklearn.tree import DecisionTreeRegressor\n",
    "model3 = DecisionTreeRegressor(random_state = 50)\n",
    "\n",
    "from sklearn.ensemble import RandomForestRegressor\n",
    "model4 = RandomForestRegressor(n_estimators = 270, max_depth=5,\n",
    "                               min_samples_split=30,min_samples_leaf=12,max_leaf_nodes=30,min_weight_fraction_leaf=0.1,random_state = 50)\n",
    "\n",
    "from xgboost import XGBRegressor\n",
    "model5 = XGBRegressor()\n",
    "\n",
    "from sklearn.neighbors import KNeighborsRegressor\n",
    "model6 = KNeighborsRegressor(n_neighbors =37)\n",
    "\n",
    "from sklearn.linear_model import Ridge, Lasso ,ElasticNet\n",
    "\n",
    "model7 = Ridge()\n",
    "\n",
    "model8 = Lasso(max_iter=1000,alpha=2000)\n",
    "\n",
    "model9 = RandomForestRegressor()\n",
    "\n",
    "model10 = ElasticNet()\n",
    "\n",
    "from vecstack import stacking\n",
    "\n"
   ]
  },
  {
   "cell_type": "code",
   "execution_count": null,
   "metadata": {},
   "outputs": [],
   "source": [
    "model_fn(model4,final_train[predictor_var],final_train[outcome_var],\n",
    "         final_test[predictor_var],final_test[outcome_var],predictor_var,\n",
    "         3,'alg2.csv', False, True, False)"
   ]
  },
  {
   "cell_type": "code",
   "execution_count": 58,
   "metadata": {},
   "outputs": [],
   "source": [
    "model1 = XGBClassifier(\n",
    " learning_rate =0.1,\n",
    " n_estimators=1000,\n",
    " max_depth=5,\n",
    " min_child_weight=1,\n",
    " gamma=0,\n",
    " subsample=0.8,\n",
    " colsample_bytree=1,\n",
    " objective= 'binary:logistic',\n",
    " nthread=4,\n",
    " scale_pos_weight=1,\n",
    " seed=27)"
   ]
  },
  {
   "cell_type": "code",
   "execution_count": 59,
   "metadata": {},
   "outputs": [
    {
     "name": "stdout",
     "output_type": "stream",
     "text": [
      "[0]\ttrain-auc:0.622142+0.00143354\ttest-auc:0.616311+0.00153459\n",
      "[1]\ttrain-auc:0.631133+0.00144282\ttest-auc:0.624928+0.0012643\n",
      "[2]\ttrain-auc:0.633743+0.00144556\ttest-auc:0.626867+0.000879801\n",
      "[3]\ttrain-auc:0.636064+0.00117503\ttest-auc:0.628927+0.000886769\n",
      "[4]\ttrain-auc:0.637434+0.00100616\ttest-auc:0.629737+0.00159849\n",
      "[5]\ttrain-auc:0.639256+0.000529357\ttest-auc:0.631081+0.00131322\n",
      "[6]\ttrain-auc:0.640526+0.000481593\ttest-auc:0.631854+0.00157935\n",
      "[7]\ttrain-auc:0.641623+0.000377759\ttest-auc:0.632665+0.0013102\n",
      "[8]\ttrain-auc:0.642762+0.000651206\ttest-auc:0.633326+0.00109449\n",
      "[9]\ttrain-auc:0.644138+0.000697667\ttest-auc:0.634058+0.00117441\n",
      "[10]\ttrain-auc:0.645339+0.0009032\ttest-auc:0.634944+0.00144661\n",
      "[11]\ttrain-auc:0.646448+0.00102245\ttest-auc:0.635651+0.00174905\n",
      "[12]\ttrain-auc:0.647397+0.000762852\ttest-auc:0.636249+0.00163766\n",
      "[13]\ttrain-auc:0.648501+0.000639194\ttest-auc:0.637252+0.00178621\n",
      "[14]\ttrain-auc:0.64958+0.000908198\ttest-auc:0.638032+0.0018938\n",
      "[15]\ttrain-auc:0.650525+0.000980423\ttest-auc:0.638962+0.0021079\n",
      "[16]\ttrain-auc:0.651532+0.000904273\ttest-auc:0.63982+0.00178676\n",
      "[17]\ttrain-auc:0.652607+0.000815264\ttest-auc:0.640592+0.00153492\n",
      "[18]\ttrain-auc:0.653565+0.000792409\ttest-auc:0.641354+0.00172452\n",
      "[19]\ttrain-auc:0.65421+0.000819936\ttest-auc:0.641732+0.00174973\n",
      "[20]\ttrain-auc:0.655034+0.000729411\ttest-auc:0.642231+0.00171902\n",
      "[21]\ttrain-auc:0.655832+0.00059821\ttest-auc:0.642715+0.00159016\n",
      "[22]\ttrain-auc:0.656545+0.000552399\ttest-auc:0.643114+0.00163847\n",
      "[23]\ttrain-auc:0.657384+0.000478968\ttest-auc:0.643686+0.0016722\n",
      "[24]\ttrain-auc:0.658224+0.000535488\ttest-auc:0.6442+0.00168567\n",
      "[25]\ttrain-auc:0.659058+0.000539986\ttest-auc:0.644781+0.00175432\n",
      "[26]\ttrain-auc:0.659793+0.000541756\ttest-auc:0.645137+0.00184283\n",
      "[27]\ttrain-auc:0.660586+0.000489246\ttest-auc:0.645658+0.00173897\n",
      "[28]\ttrain-auc:0.661359+0.000469409\ttest-auc:0.646252+0.00156864\n",
      "[29]\ttrain-auc:0.661957+0.000496685\ttest-auc:0.646559+0.00154223\n",
      "[30]\ttrain-auc:0.662644+0.000523727\ttest-auc:0.646768+0.00155785\n",
      "[31]\ttrain-auc:0.663412+0.000525425\ttest-auc:0.647147+0.00164852\n",
      "[32]\ttrain-auc:0.664072+0.000525337\ttest-auc:0.647479+0.00158651\n",
      "[33]\ttrain-auc:0.664767+0.000652543\ttest-auc:0.647841+0.00146858\n",
      "[34]\ttrain-auc:0.665422+0.000607531\ttest-auc:0.648076+0.00144404\n",
      "[35]\ttrain-auc:0.666238+0.000505926\ttest-auc:0.648537+0.00149679\n",
      "[36]\ttrain-auc:0.666804+0.000528211\ttest-auc:0.648807+0.00144522\n",
      "[37]\ttrain-auc:0.667441+0.000522429\ttest-auc:0.648952+0.0015163\n",
      "[38]\ttrain-auc:0.668235+0.000612636\ttest-auc:0.649451+0.00130159\n",
      "[39]\ttrain-auc:0.668862+0.000623186\ttest-auc:0.64975+0.00135845\n",
      "[40]\ttrain-auc:0.66936+0.000708292\ttest-auc:0.649936+0.00138463\n",
      "[41]\ttrain-auc:0.669933+0.000665394\ttest-auc:0.650331+0.00133112\n",
      "[42]\ttrain-auc:0.670505+0.000611385\ttest-auc:0.650505+0.00135472\n",
      "[43]\ttrain-auc:0.670986+0.000580012\ttest-auc:0.650678+0.00131655\n",
      "[44]\ttrain-auc:0.671583+0.000569459\ttest-auc:0.650997+0.00123803\n",
      "[45]\ttrain-auc:0.672098+0.000571889\ttest-auc:0.651156+0.00121837\n",
      "[46]\ttrain-auc:0.67251+0.000515444\ttest-auc:0.651345+0.0012474\n",
      "[47]\ttrain-auc:0.672906+0.000524174\ttest-auc:0.651482+0.0011832\n",
      "[48]\ttrain-auc:0.673409+0.000488476\ttest-auc:0.651757+0.00127726\n",
      "[49]\ttrain-auc:0.6739+0.000548299\ttest-auc:0.651949+0.00129951\n",
      "[50]\ttrain-auc:0.674375+0.000655693\ttest-auc:0.652114+0.00128903\n",
      "[51]\ttrain-auc:0.67484+0.000707243\ttest-auc:0.652223+0.00116898\n",
      "[52]\ttrain-auc:0.675285+0.000710233\ttest-auc:0.652424+0.00111107\n",
      "[53]\ttrain-auc:0.675803+0.00060815\ttest-auc:0.652609+0.0011095\n",
      "[54]\ttrain-auc:0.676294+0.000622782\ttest-auc:0.652785+0.00116935\n",
      "[55]\ttrain-auc:0.676707+0.000617984\ttest-auc:0.652933+0.0012286\n",
      "[56]\ttrain-auc:0.677085+0.000547803\ttest-auc:0.653076+0.00126011\n",
      "[57]\ttrain-auc:0.677521+0.000556405\ttest-auc:0.653158+0.00129147\n",
      "[58]\ttrain-auc:0.678042+0.00060293\ttest-auc:0.653343+0.00122768\n",
      "[59]\ttrain-auc:0.678422+0.000614976\ttest-auc:0.65349+0.00135848\n",
      "[60]\ttrain-auc:0.678853+0.000715145\ttest-auc:0.653639+0.00141908\n",
      "[61]\ttrain-auc:0.679364+0.000748092\ttest-auc:0.653765+0.00145394\n",
      "[62]\ttrain-auc:0.679803+0.000596334\ttest-auc:0.653915+0.0014197\n",
      "[63]\ttrain-auc:0.680234+0.000526748\ttest-auc:0.65407+0.00145715\n",
      "[64]\ttrain-auc:0.680648+0.000516998\ttest-auc:0.654144+0.00136392\n",
      "[65]\ttrain-auc:0.681048+0.000555523\ttest-auc:0.654282+0.00127634\n",
      "[66]\ttrain-auc:0.681432+0.000518903\ttest-auc:0.654369+0.00135854\n",
      "[67]\ttrain-auc:0.681677+0.000560436\ttest-auc:0.654432+0.00140835\n",
      "[68]\ttrain-auc:0.682017+0.000616366\ttest-auc:0.654541+0.00137879\n",
      "[69]\ttrain-auc:0.682344+0.000642161\ttest-auc:0.654692+0.00139452\n",
      "[70]\ttrain-auc:0.682619+0.000658106\ttest-auc:0.654744+0.00147428\n",
      "[71]\ttrain-auc:0.683032+0.000643069\ttest-auc:0.654885+0.00153681\n",
      "[72]\ttrain-auc:0.683379+0.00061196\ttest-auc:0.654965+0.00152833\n",
      "[73]\ttrain-auc:0.683733+0.000639356\ttest-auc:0.654996+0.00150937\n",
      "[74]\ttrain-auc:0.684034+0.000591874\ttest-auc:0.655068+0.00143875\n",
      "[75]\ttrain-auc:0.684488+0.00060486\ttest-auc:0.655177+0.00145671\n",
      "[76]\ttrain-auc:0.684933+0.000726836\ttest-auc:0.655253+0.00148527\n",
      "[77]\ttrain-auc:0.685246+0.000625157\ttest-auc:0.655354+0.00148679\n",
      "[78]\ttrain-auc:0.685586+0.000512188\ttest-auc:0.655441+0.00151256\n",
      "[79]\ttrain-auc:0.68588+0.000463476\ttest-auc:0.655455+0.00154291\n",
      "[80]\ttrain-auc:0.686196+0.000492398\ttest-auc:0.655516+0.00155394\n",
      "[81]\ttrain-auc:0.686559+0.00048969\ttest-auc:0.6556+0.00149186\n",
      "[82]\ttrain-auc:0.686897+0.000452435\ttest-auc:0.655732+0.00155078\n",
      "[83]\ttrain-auc:0.687199+0.000466477\ttest-auc:0.655785+0.0015191\n",
      "[84]\ttrain-auc:0.687464+0.000470236\ttest-auc:0.655813+0.00156069\n",
      "[85]\ttrain-auc:0.687837+0.000607468\ttest-auc:0.65593+0.0015143\n",
      "[86]\ttrain-auc:0.688211+0.000522163\ttest-auc:0.656042+0.00153358\n",
      "[87]\ttrain-auc:0.688501+0.000525489\ttest-auc:0.656044+0.00153757\n",
      "[88]\ttrain-auc:0.688771+0.000521574\ttest-auc:0.65612+0.00160342\n",
      "[89]\ttrain-auc:0.689069+0.00048177\ttest-auc:0.656205+0.00155019\n",
      "[90]\ttrain-auc:0.689337+0.000565959\ttest-auc:0.656255+0.00156567\n",
      "[91]\ttrain-auc:0.689649+0.000496079\ttest-auc:0.656308+0.00158099\n",
      "[92]\ttrain-auc:0.689915+0.000461183\ttest-auc:0.656362+0.00150654\n",
      "[93]\ttrain-auc:0.69021+0.000516475\ttest-auc:0.65642+0.00151723\n",
      "[94]\ttrain-auc:0.690462+0.000469721\ttest-auc:0.656455+0.00158611\n",
      "[95]\ttrain-auc:0.690737+0.000455606\ttest-auc:0.656482+0.00157693\n",
      "[96]\ttrain-auc:0.691012+0.00044471\ttest-auc:0.656504+0.00160092\n",
      "[97]\ttrain-auc:0.691229+0.000493772\ttest-auc:0.656554+0.00153809\n",
      "[98]\ttrain-auc:0.691525+0.000559166\ttest-auc:0.656642+0.00148557\n",
      "[99]\ttrain-auc:0.691833+0.000599448\ttest-auc:0.656734+0.00149861\n",
      "[100]\ttrain-auc:0.692118+0.000628101\ttest-auc:0.656819+0.00150153\n",
      "[101]\ttrain-auc:0.692512+0.000457206\ttest-auc:0.656878+0.00138803\n",
      "[102]\ttrain-auc:0.69271+0.000438169\ttest-auc:0.656874+0.00140683\n",
      "[103]\ttrain-auc:0.693029+0.000441619\ttest-auc:0.656961+0.00136317\n",
      "[104]\ttrain-auc:0.693332+0.000438354\ttest-auc:0.656966+0.00134079\n",
      "[105]\ttrain-auc:0.693547+0.000381767\ttest-auc:0.657004+0.00133488\n",
      "[106]\ttrain-auc:0.693834+0.000361047\ttest-auc:0.657054+0.00135022\n",
      "[107]\ttrain-auc:0.694094+0.000448262\ttest-auc:0.657088+0.00134398\n",
      "[108]\ttrain-auc:0.694476+0.000453756\ttest-auc:0.657232+0.00126542\n",
      "[109]\ttrain-auc:0.694746+0.000500302\ttest-auc:0.657287+0.00128225\n",
      "[110]\ttrain-auc:0.695012+0.00045837\ttest-auc:0.657384+0.00127536\n",
      "[111]\ttrain-auc:0.695287+0.000500857\ttest-auc:0.657427+0.00127412\n",
      "[112]\ttrain-auc:0.69555+0.000396016\ttest-auc:0.657464+0.00129377\n",
      "[113]\ttrain-auc:0.695793+0.000435877\ttest-auc:0.657482+0.00127752\n",
      "[114]\ttrain-auc:0.696046+0.000405055\ttest-auc:0.657502+0.00132007\n",
      "[115]\ttrain-auc:0.696341+0.000423188\ttest-auc:0.657488+0.00133584\n",
      "[116]\ttrain-auc:0.696588+0.000304831\ttest-auc:0.65751+0.00136018\n",
      "[117]\ttrain-auc:0.696813+0.000309237\ttest-auc:0.657513+0.00136584\n",
      "[118]\ttrain-auc:0.697082+0.000318349\ttest-auc:0.657591+0.00132438\n",
      "[119]\ttrain-auc:0.697365+0.00030205\ttest-auc:0.65764+0.00141193\n",
      "[120]\ttrain-auc:0.697626+0.000343357\ttest-auc:0.657666+0.00139879\n",
      "[121]\ttrain-auc:0.697878+0.000467768\ttest-auc:0.657724+0.00143763\n",
      "[122]\ttrain-auc:0.698199+0.000471196\ttest-auc:0.65777+0.00145518\n",
      "[123]\ttrain-auc:0.698486+0.00044059\ttest-auc:0.657782+0.0014812\n",
      "[124]\ttrain-auc:0.698729+0.000515882\ttest-auc:0.657795+0.00149864\n",
      "[125]\ttrain-auc:0.698933+0.000509543\ttest-auc:0.657822+0.00154732\n",
      "[126]\ttrain-auc:0.699204+0.000456701\ttest-auc:0.657792+0.0015582\n"
     ]
    },
    {
     "name": "stdout",
     "output_type": "stream",
     "text": [
      "[127]\ttrain-auc:0.699465+0.000444412\ttest-auc:0.657814+0.00147835\n",
      "[128]\ttrain-auc:0.69971+0.000515673\ttest-auc:0.65783+0.00152634\n",
      "[129]\ttrain-auc:0.699937+0.000622646\ttest-auc:0.657873+0.00154803\n",
      "[130]\ttrain-auc:0.700192+0.000662616\ttest-auc:0.657891+0.0015292\n",
      "[131]\ttrain-auc:0.700474+0.000726399\ttest-auc:0.657965+0.00153783\n",
      "[132]\ttrain-auc:0.700769+0.000735369\ttest-auc:0.657947+0.00154602\n",
      "[133]\ttrain-auc:0.700971+0.000708308\ttest-auc:0.65794+0.00152986\n",
      "[134]\ttrain-auc:0.70124+0.000657726\ttest-auc:0.657958+0.00151665\n",
      "[135]\ttrain-auc:0.701578+0.000685761\ttest-auc:0.658008+0.00155253\n",
      "[136]\ttrain-auc:0.701842+0.000675976\ttest-auc:0.658051+0.00151558\n",
      "[137]\ttrain-auc:0.702169+0.000592811\ttest-auc:0.658077+0.00150196\n",
      "[138]\ttrain-auc:0.702427+0.000597358\ttest-auc:0.65811+0.00145549\n",
      "[139]\ttrain-auc:0.702643+0.000621523\ttest-auc:0.658164+0.00149005\n",
      "[140]\ttrain-auc:0.702932+0.000652983\ttest-auc:0.658239+0.00157605\n",
      "[141]\ttrain-auc:0.703121+0.000573388\ttest-auc:0.65822+0.00156459\n",
      "[142]\ttrain-auc:0.703402+0.00058162\ttest-auc:0.658259+0.00158805\n",
      "[143]\ttrain-auc:0.703582+0.000614259\ttest-auc:0.65823+0.00161324\n",
      "[144]\ttrain-auc:0.703835+0.00066721\ttest-auc:0.658204+0.00164111\n",
      "[145]\ttrain-auc:0.704097+0.000701042\ttest-auc:0.658206+0.00167177\n",
      "[146]\ttrain-auc:0.704281+0.00069635\ttest-auc:0.658168+0.00167287\n",
      "[147]\ttrain-auc:0.704504+0.000716892\ttest-auc:0.658156+0.0016818\n",
      "[148]\ttrain-auc:0.704841+0.00065639\ttest-auc:0.658198+0.00163776\n",
      "[149]\ttrain-auc:0.705018+0.00067687\ttest-auc:0.658148+0.00170064\n",
      "[150]\ttrain-auc:0.705272+0.000666542\ttest-auc:0.658168+0.00168527\n",
      "[151]\ttrain-auc:0.705453+0.000621283\ttest-auc:0.658215+0.00168703\n",
      "[152]\ttrain-auc:0.705625+0.000697373\ttest-auc:0.658205+0.00170923\n",
      "[153]\ttrain-auc:0.705858+0.000751633\ttest-auc:0.658282+0.00174701\n",
      "[154]\ttrain-auc:0.706016+0.000718246\ttest-auc:0.658275+0.00173666\n",
      "[155]\ttrain-auc:0.706255+0.000794224\ttest-auc:0.658354+0.00183893\n",
      "[156]\ttrain-auc:0.706543+0.000821181\ttest-auc:0.658364+0.00180852\n",
      "[157]\ttrain-auc:0.706708+0.000879685\ttest-auc:0.658405+0.00182005\n",
      "[158]\ttrain-auc:0.706969+0.000955011\ttest-auc:0.658368+0.00182346\n",
      "[159]\ttrain-auc:0.707189+0.000960322\ttest-auc:0.658383+0.00184131\n",
      "[160]\ttrain-auc:0.707495+0.000910609\ttest-auc:0.658373+0.00180436\n",
      "[161]\ttrain-auc:0.707762+0.000945217\ttest-auc:0.658406+0.00176134\n",
      "[162]\ttrain-auc:0.708024+0.00095572\ttest-auc:0.658442+0.00173894\n",
      "[163]\ttrain-auc:0.708261+0.000930187\ttest-auc:0.658421+0.00172798\n",
      "[164]\ttrain-auc:0.708535+0.000981523\ttest-auc:0.658449+0.00173734\n",
      "[165]\ttrain-auc:0.708765+0.000995248\ttest-auc:0.658485+0.00171712\n",
      "[166]\ttrain-auc:0.708952+0.000924534\ttest-auc:0.658546+0.00175073\n",
      "[167]\ttrain-auc:0.709169+0.000919232\ttest-auc:0.658592+0.00170826\n",
      "[168]\ttrain-auc:0.709315+0.000994873\ttest-auc:0.658605+0.00172452\n",
      "[169]\ttrain-auc:0.709547+0.000976526\ttest-auc:0.658611+0.00177825\n",
      "[170]\ttrain-auc:0.709779+0.000945307\ttest-auc:0.658603+0.00181049\n",
      "[171]\ttrain-auc:0.710041+0.000999944\ttest-auc:0.658605+0.00179841\n",
      "[172]\ttrain-auc:0.710242+0.000946816\ttest-auc:0.658617+0.0018302\n",
      "[173]\ttrain-auc:0.710465+0.000937671\ttest-auc:0.65863+0.00181838\n",
      "[174]\ttrain-auc:0.710725+0.00094511\ttest-auc:0.658638+0.00182779\n",
      "[175]\ttrain-auc:0.710994+0.000898086\ttest-auc:0.658662+0.00180769\n",
      "[176]\ttrain-auc:0.711143+0.000973027\ttest-auc:0.658656+0.00180603\n",
      "[177]\ttrain-auc:0.711415+0.00103006\ttest-auc:0.658734+0.00186589\n",
      "[178]\ttrain-auc:0.711619+0.00106713\ttest-auc:0.658766+0.00188851\n",
      "[179]\ttrain-auc:0.711807+0.00111375\ttest-auc:0.658767+0.00189755\n",
      "[180]\ttrain-auc:0.712053+0.0011223\ttest-auc:0.658873+0.00191288\n",
      "[181]\ttrain-auc:0.712314+0.00120059\ttest-auc:0.658858+0.00193674\n",
      "[182]\ttrain-auc:0.712493+0.0011211\ttest-auc:0.658826+0.00193774\n",
      "[183]\ttrain-auc:0.712694+0.00111176\ttest-auc:0.658834+0.00197256\n",
      "[184]\ttrain-auc:0.71291+0.00103523\ttest-auc:0.658825+0.00199906\n",
      "[185]\ttrain-auc:0.713215+0.00102608\ttest-auc:0.658818+0.00201929\n",
      "[186]\ttrain-auc:0.713403+0.00100095\ttest-auc:0.658809+0.00203579\n",
      "[187]\ttrain-auc:0.713641+0.00106005\ttest-auc:0.658842+0.00209987\n",
      "[188]\ttrain-auc:0.713866+0.00109268\ttest-auc:0.658846+0.00214069\n",
      "[189]\ttrain-auc:0.714071+0.00111645\ttest-auc:0.658863+0.00214314\n",
      "[190]\ttrain-auc:0.71426+0.00111883\ttest-auc:0.658908+0.00214325\n",
      "[191]\ttrain-auc:0.714421+0.00118402\ttest-auc:0.658889+0.00214222\n",
      "[192]\ttrain-auc:0.714646+0.00118411\ttest-auc:0.658906+0.00219931\n",
      "[193]\ttrain-auc:0.714917+0.00126535\ttest-auc:0.658896+0.00220952\n",
      "[194]\ttrain-auc:0.715107+0.00129517\ttest-auc:0.658907+0.00225565\n",
      "[195]\ttrain-auc:0.715348+0.00135574\ttest-auc:0.658933+0.00226877\n",
      "[196]\ttrain-auc:0.715539+0.00129316\ttest-auc:0.65889+0.00227741\n",
      "[197]\ttrain-auc:0.715709+0.00123415\ttest-auc:0.658913+0.00230432\n",
      "[198]\ttrain-auc:0.715889+0.00125856\ttest-auc:0.658957+0.00235034\n",
      "[199]\ttrain-auc:0.71614+0.0013025\ttest-auc:0.658979+0.00237072\n",
      "[200]\ttrain-auc:0.716324+0.00129318\ttest-auc:0.658957+0.00239753\n",
      "[201]\ttrain-auc:0.716509+0.00134546\ttest-auc:0.658907+0.00241582\n",
      "[202]\ttrain-auc:0.716675+0.00136985\ttest-auc:0.658922+0.0024367\n",
      "[203]\ttrain-auc:0.716885+0.00132206\ttest-auc:0.658957+0.00246091\n",
      "[204]\ttrain-auc:0.717175+0.00120328\ttest-auc:0.658952+0.00246266\n",
      "[205]\ttrain-auc:0.717421+0.00125244\ttest-auc:0.658978+0.00236583\n",
      "[206]\ttrain-auc:0.71759+0.00121536\ttest-auc:0.659018+0.00235169\n",
      "[207]\ttrain-auc:0.717858+0.00119309\ttest-auc:0.65909+0.00236516\n",
      "[208]\ttrain-auc:0.718104+0.00117794\ttest-auc:0.659094+0.00237326\n",
      "[209]\ttrain-auc:0.718344+0.00122305\ttest-auc:0.659109+0.00231959\n",
      "[210]\ttrain-auc:0.718494+0.00125864\ttest-auc:0.659137+0.00234087\n",
      "[211]\ttrain-auc:0.718691+0.00131945\ttest-auc:0.65918+0.00239548\n",
      "[212]\ttrain-auc:0.718937+0.00133515\ttest-auc:0.659112+0.0024324\n",
      "[213]\ttrain-auc:0.719158+0.00134009\ttest-auc:0.659136+0.0023868\n",
      "[214]\ttrain-auc:0.719392+0.00132063\ttest-auc:0.659144+0.00240973\n",
      "[215]\ttrain-auc:0.719611+0.00129075\ttest-auc:0.659152+0.00242906\n",
      "[216]\ttrain-auc:0.719788+0.00134852\ttest-auc:0.659164+0.00241342\n",
      "[217]\ttrain-auc:0.720025+0.00136264\ttest-auc:0.659202+0.0023799\n",
      "[218]\ttrain-auc:0.720187+0.00130412\ttest-auc:0.659206+0.00236028\n",
      "[219]\ttrain-auc:0.720421+0.00127305\ttest-auc:0.659208+0.00239826\n",
      "[220]\ttrain-auc:0.72063+0.00124801\ttest-auc:0.659203+0.00243077\n",
      "[221]\ttrain-auc:0.720859+0.0012884\ttest-auc:0.659241+0.00240809\n",
      "[222]\ttrain-auc:0.721081+0.00133971\ttest-auc:0.659229+0.00242476\n",
      "[223]\ttrain-auc:0.721224+0.00138471\ttest-auc:0.659246+0.00245073\n",
      "[224]\ttrain-auc:0.721411+0.00134418\ttest-auc:0.659216+0.00245905\n",
      "[225]\ttrain-auc:0.721663+0.00131643\ttest-auc:0.659243+0.00245606\n",
      "[226]\ttrain-auc:0.721897+0.00135325\ttest-auc:0.65929+0.00246596\n",
      "[227]\ttrain-auc:0.722149+0.00136875\ttest-auc:0.659338+0.00244437\n",
      "[228]\ttrain-auc:0.722335+0.00130422\ttest-auc:0.659361+0.00243337\n",
      "[229]\ttrain-auc:0.722554+0.00129999\ttest-auc:0.659362+0.00245179\n",
      "[230]\ttrain-auc:0.722748+0.0014103\ttest-auc:0.65938+0.0024817\n",
      "[231]\ttrain-auc:0.722996+0.00135597\ttest-auc:0.659403+0.0024394\n",
      "[232]\ttrain-auc:0.723213+0.00131625\ttest-auc:0.659466+0.00241974\n",
      "[233]\ttrain-auc:0.723467+0.0013543\ttest-auc:0.659424+0.0024062\n",
      "[234]\ttrain-auc:0.723645+0.00130466\ttest-auc:0.659403+0.00241213\n",
      "[235]\ttrain-auc:0.723868+0.00131802\ttest-auc:0.659414+0.00242043\n",
      "[236]\ttrain-auc:0.724089+0.0013049\ttest-auc:0.659385+0.0024494\n",
      "[237]\ttrain-auc:0.724241+0.00128141\ttest-auc:0.659374+0.00247096\n",
      "[238]\ttrain-auc:0.724418+0.00126191\ttest-auc:0.65935+0.00245\n",
      "[239]\ttrain-auc:0.724623+0.00122855\ttest-auc:0.659367+0.00243317\n",
      "[240]\ttrain-auc:0.724836+0.00123062\ttest-auc:0.659383+0.00243316\n",
      "[241]\ttrain-auc:0.725035+0.00117707\ttest-auc:0.659356+0.00242878\n",
      "[242]\ttrain-auc:0.725242+0.00112157\ttest-auc:0.659381+0.00244379\n",
      "[243]\ttrain-auc:0.725408+0.00116144\ttest-auc:0.659371+0.00242371\n",
      "[244]\ttrain-auc:0.725582+0.00114091\ttest-auc:0.659411+0.00242747\n",
      "[245]\ttrain-auc:0.72577+0.00115142\ttest-auc:0.659388+0.0024195\n",
      "[246]\ttrain-auc:0.725929+0.00115496\ttest-auc:0.659383+0.00240804\n",
      "[247]\ttrain-auc:0.726131+0.00116492\ttest-auc:0.659405+0.00237078\n",
      "[248]\ttrain-auc:0.726351+0.00119066\ttest-auc:0.65944+0.0023942\n",
      "[249]\ttrain-auc:0.726527+0.00119108\ttest-auc:0.659454+0.00238428\n",
      "[250]\ttrain-auc:0.726754+0.00122862\ttest-auc:0.65944+0.00237877\n",
      "[251]\ttrain-auc:0.72689+0.00117282\ttest-auc:0.659445+0.00237846\n",
      "[252]\ttrain-auc:0.727098+0.00114323\ttest-auc:0.659418+0.00243019\n",
      "[253]\ttrain-auc:0.727257+0.00108812\ttest-auc:0.659397+0.00242105\n"
     ]
    },
    {
     "name": "stdout",
     "output_type": "stream",
     "text": [
      "[254]\ttrain-auc:0.727531+0.00105788\ttest-auc:0.659417+0.00240411\n",
      "[255]\ttrain-auc:0.727752+0.000992307\ttest-auc:0.659343+0.00238525\n",
      "[256]\ttrain-auc:0.727986+0.00100405\ttest-auc:0.65933+0.00238931\n",
      "[257]\ttrain-auc:0.72823+0.00103009\ttest-auc:0.659342+0.00237603\n",
      "[258]\ttrain-auc:0.728377+0.00101736\ttest-auc:0.65932+0.00237924\n",
      "[259]\ttrain-auc:0.728551+0.00100774\ttest-auc:0.659334+0.00238947\n",
      "[260]\ttrain-auc:0.728764+0.000944743\ttest-auc:0.659371+0.0023682\n",
      "[261]\ttrain-auc:0.728898+0.000928903\ttest-auc:0.659354+0.00234923\n",
      "[262]\ttrain-auc:0.729076+0.000947579\ttest-auc:0.659345+0.00232421\n",
      "[263]\ttrain-auc:0.729199+0.000961293\ttest-auc:0.659307+0.00234585\n",
      "[264]\ttrain-auc:0.729373+0.000973619\ttest-auc:0.659278+0.00231931\n",
      "[265]\ttrain-auc:0.729594+0.000902367\ttest-auc:0.659312+0.00228888\n",
      "[266]\ttrain-auc:0.729837+0.000897892\ttest-auc:0.659339+0.0023322\n",
      "[267]\ttrain-auc:0.73005+0.000932239\ttest-auc:0.659386+0.00233871\n",
      "[268]\ttrain-auc:0.730228+0.000898479\ttest-auc:0.65934+0.00232545\n",
      "[269]\ttrain-auc:0.730417+0.000870364\ttest-auc:0.659327+0.0023203\n",
      "[270]\ttrain-auc:0.730608+0.00093294\ttest-auc:0.659325+0.0023315\n",
      "[271]\ttrain-auc:0.730792+0.000978174\ttest-auc:0.6593+0.00235128\n",
      "[272]\ttrain-auc:0.730966+0.00101059\ttest-auc:0.65929+0.00236429\n",
      "[273]\ttrain-auc:0.73117+0.00109997\ttest-auc:0.659313+0.00238629\n",
      "[274]\ttrain-auc:0.731389+0.00111689\ttest-auc:0.659369+0.00232358\n",
      "[275]\ttrain-auc:0.731529+0.0011253\ttest-auc:0.659348+0.00233841\n",
      "[276]\ttrain-auc:0.73168+0.00112312\ttest-auc:0.659372+0.00232855\n",
      "[277]\ttrain-auc:0.731956+0.00112198\ttest-auc:0.659351+0.00233357\n",
      "[278]\ttrain-auc:0.732123+0.00112438\ttest-auc:0.659324+0.00237235\n",
      "[279]\ttrain-auc:0.732349+0.00112831\ttest-auc:0.659279+0.00235205\n",
      "[280]\ttrain-auc:0.732554+0.00116778\ttest-auc:0.659278+0.00235381\n",
      "[281]\ttrain-auc:0.73277+0.00112564\ttest-auc:0.659266+0.0023679\n"
     ]
    },
    {
     "name": "stderr",
     "output_type": "stream",
     "text": [
      "/home/monster/.conda/envs/tensorflow/lib/python3.6/site-packages/sklearn/preprocessing/label.py:219: DataConversionWarning: A column-vector y was passed when a 1d array was expected. Please change the shape of y to (n_samples, ), for example using ravel().\n",
      "  y = column_or_1d(y, warn=True)\n",
      "/home/monster/.conda/envs/tensorflow/lib/python3.6/site-packages/sklearn/preprocessing/label.py:252: DataConversionWarning: A column-vector y was passed when a 1d array was expected. Please change the shape of y to (n_samples, ), for example using ravel().\n",
      "  y = column_or_1d(y, warn=True)\n"
     ]
    },
    {
     "name": "stdout",
     "output_type": "stream",
     "text": [
      "\n",
      "Model Report\n",
      "Accuracy : 0.7835\n",
      "AUC Score (Train): 0.662232\n"
     ]
    },
    {
     "data": {
      "image/png": "[encoded data removed]",
      "text/plain": [
       "<Figure size 432x288 with 1 Axes>"
      ]
     },
     "metadata": {
      "needs_background": "light"
     },
     "output_type": "display_data"
    }
   ],
   "source": [
    "modelfit(model1, X_train,y_train,X_validation,y_validation,test_df,sub_df,predictors,outcome,useTrainCV=True, cv_folds=5, early_stopping_rounds=50)"
   ]
  },
  {
   "cell_type": "code",
   "execution_count": 65,
   "metadata": {},
   "outputs": [],
   "source": [
    "from sklearn.metrics import roc_curve, auc\n",
    "def Performance(Model,Y,X):\n",
    "    # Perforamnce of the model\n",
    "    fpr, tpr, _ = roc_curve(Y, Model.predict_proba(X)[:,1])\n",
    "    AUC  = auc(fpr, tpr)\n",
    "    print ('the AUC is : %0.4f' %  AUC)\n",
    "    plt.figure()\n",
    "    plt.plot(fpr, tpr, label='ROC curve (area = %0.4f)' % AUC)\n",
    "    plt.plot([0, 1], [0, 1], 'k--')\n",
    "    plt.xlim([0.0, 1.0])\n",
    "    plt.ylim([0.0, 1.05])\n",
    "    plt.xlabel('False Positive Rate')\n",
    "    plt.ylabel('True Positive Rate')\n",
    "    plt.title('ROC Curve')\n",
    "    plt.legend(loc=\"lower right\")\n",
    "    plt.show()"
   ]
  },
  {
   "cell_type": "code",
   "execution_count": 66,
   "metadata": {},
   "outputs": [
    {
     "name": "stdout",
     "output_type": "stream",
     "text": [
      "the AUC is : 0.6622\n"
     ]
    },
    {
     "data": {
      "image/png": "[encoded data removed]",
      "text/plain": [
       "<Figure size 432x288 with 1 Axes>"
      ]
     },
     "metadata": {
      "needs_background": "light"
     },
     "output_type": "display_data"
    }
   ],
   "source": [
    "Performance(model1,y_validation,X_validation)"
   ]
  },
  {
   "cell_type": "code",
   "execution_count": 69,
   "metadata": {},
   "outputs": [],
   "source": [
    "from hyperopt import fmin, tpe, hp, STATUS_OK, Trials"
   ]
  },
  {
   "cell_type": "code",
   "execution_count": 83,
   "metadata": {},
   "outputs": [
    {
     "data": {
      "text/plain": [
       "array([0. , 0.1, 0.2, 0.3, 0.4, 0.5, 0.6, 0.7, 0.8, 0.9, 1. ])"
      ]
     },
     "execution_count": 83,
     "metadata": {},
     "output_type": "execute_result"
    }
   ],
   "source": [
    "np.linspace(0,1,11)"
   ]
  },
  {
   "cell_type": "code",
   "execution_count": 87,
   "metadata": {},
   "outputs": [
    {
     "name": "stdout",
     "output_type": "stream",
     "text": [
      "\r",
      "  0%|          | 0/5 [00:00<?, ?it/s, best loss: ?]"
     ]
    },
    {
     "name": "stderr",
     "output_type": "stream",
     "text": [
      "/home/monster/.conda/envs/tensorflow/lib/python3.6/site-packages/sklearn/model_selection/_split.py:2053: FutureWarning: You should specify a value for 'cv' instead of relying on the default value. The default value will change from 3 to 5 in version 0.22.\n",
      "  warnings.warn(CV_WARNING, FutureWarning)\n",
      "\n",
      "/home/monster/.conda/envs/tensorflow/lib/python3.6/site-packages/sklearn/preprocessing/label.py:219: DataConversionWarning: A column-vector y was passed when a 1d array was expected. Please change the shape of y to (n_samples, ), for example using ravel().\n",
      "  y = column_or_1d(y, warn=True)\n",
      "\n",
      "/home/monster/.conda/envs/tensorflow/lib/python3.6/site-packages/sklearn/preprocessing/label.py:252: DataConversionWarning: A column-vector y was passed when a 1d array was expected. Please change the shape of y to (n_samples, ), for example using ravel().\n",
      "  y = column_or_1d(y, warn=True)\n",
      "\n"
     ]
    },
    {
     "name": "stdout",
     "output_type": "stream",
     "text": [
      "new best:                                          \n",
      "0.7423272156401101                                 \n",
      "{'colsample_bytree': 0.5, 'criterion': 'gini', 'gamma': 0.5, 'learning_rate': 0.6000000000000001, 'max_depth': 11, 'max_features': 33, 'min_child_weight': 2, 'n_estimators': 249, 'subsample': 0.9}\n",
      " 20%|██        | 1/5 [03:18<13:14, 198.59s/it, best loss: -0.7423272156401101]"
     ]
    },
    {
     "name": "stderr",
     "output_type": "stream",
     "text": [
      "/home/monster/.conda/envs/tensorflow/lib/python3.6/site-packages/sklearn/model_selection/_split.py:2053: FutureWarning: You should specify a value for 'cv' instead of relying on the default value. The default value will change from 3 to 5 in version 0.22.\n",
      "  warnings.warn(CV_WARNING, FutureWarning)\n",
      "\n",
      "/home/monster/.conda/envs/tensorflow/lib/python3.6/site-packages/sklearn/preprocessing/label.py:219: DataConversionWarning: A column-vector y was passed when a 1d array was expected. Please change the shape of y to (n_samples, ), for example using ravel().\n",
      "  y = column_or_1d(y, warn=True)\n",
      "\n",
      "/home/monster/.conda/envs/tensorflow/lib/python3.6/site-packages/sklearn/preprocessing/label.py:252: DataConversionWarning: A column-vector y was passed when a 1d array was expected. Please change the shape of y to (n_samples, ), for example using ravel().\n",
      "  y = column_or_1d(y, warn=True)\n",
      "\n"
     ]
    },
    {
     "name": "stdout",
     "output_type": "stream",
     "text": [
      "new best:                                                                     \n",
      "0.7423272156401101                                                            \n",
      "{'colsample_bytree': 0.2, 'criterion': 'gini', 'gamma': 0.2, 'learning_rate': 0.9, 'max_depth': 4, 'max_features': 15, 'min_child_weight': 5, 'n_estimators': 310, 'subsample': 0.2}\n",
      " 40%|████      | 2/5 [04:05<07:39, 153.16s/it, best loss: -0.7423272156401101]"
     ]
    },
    {
     "name": "stderr",
     "output_type": "stream",
     "text": [
      "/home/monster/.conda/envs/tensorflow/lib/python3.6/site-packages/sklearn/model_selection/_split.py:2053: FutureWarning: You should specify a value for 'cv' instead of relying on the default value. The default value will change from 3 to 5 in version 0.22.\n",
      "  warnings.warn(CV_WARNING, FutureWarning)\n",
      "\n",
      "/home/monster/.conda/envs/tensorflow/lib/python3.6/site-packages/sklearn/preprocessing/label.py:219: DataConversionWarning: A column-vector y was passed when a 1d array was expected. Please change the shape of y to (n_samples, ), for example using ravel().\n",
      "  y = column_or_1d(y, warn=True)\n",
      "\n",
      "/home/monster/.conda/envs/tensorflow/lib/python3.6/site-packages/sklearn/preprocessing/label.py:252: DataConversionWarning: A column-vector y was passed when a 1d array was expected. Please change the shape of y to (n_samples, ), for example using ravel().\n",
      "  y = column_or_1d(y, warn=True)\n",
      "\n"
     ]
    },
    {
     "name": "stdout",
     "output_type": "stream",
     "text": [
      "new best:                                                                     \n",
      "0.7507521068482458                                                            \n",
      "{'colsample_bytree': 0.2, 'criterion': 'entropy', 'gamma': 0.6000000000000001, 'learning_rate': 0.8, 'max_depth': 8, 'max_features': 43, 'min_child_weight': 6, 'n_estimators': 285, 'subsample': 1.0}\n",
      " 60%|██████    | 3/5 [05:24<04:21, 130.95s/it, best loss: -0.7507521068482458]"
     ]
    },
    {
     "name": "stderr",
     "output_type": "stream",
     "text": [
      "/home/monster/.conda/envs/tensorflow/lib/python3.6/site-packages/sklearn/model_selection/_split.py:2053: FutureWarning: You should specify a value for 'cv' instead of relying on the default value. The default value will change from 3 to 5 in version 0.22.\n",
      "  warnings.warn(CV_WARNING, FutureWarning)\n",
      "\n",
      "/home/monster/.conda/envs/tensorflow/lib/python3.6/site-packages/sklearn/preprocessing/label.py:219: DataConversionWarning: A column-vector y was passed when a 1d array was expected. Please change the shape of y to (n_samples, ), for example using ravel().\n",
      "  y = column_or_1d(y, warn=True)\n",
      "\n",
      "/home/monster/.conda/envs/tensorflow/lib/python3.6/site-packages/sklearn/preprocessing/label.py:252: DataConversionWarning: A column-vector y was passed when a 1d array was expected. Please change the shape of y to (n_samples, ), for example using ravel().\n",
      "  y = column_or_1d(y, warn=True)\n",
      "\n"
     ]
    },
    {
     "name": "stdout",
     "output_type": "stream",
     "text": [
      "new best:                                                                     \n",
      "0.7507521068482458                                                            \n",
      "{'colsample_bytree': 0.30000000000000004, 'criterion': 'entropy', 'gamma': 0.1, 'learning_rate': 0.8, 'max_depth': 19, 'max_features': 32, 'min_child_weight': 1, 'n_estimators': 463, 'subsample': 0.2}\n",
      " 80%|████████  | 4/5 [10:32<03:04, 184.03s/it, best loss: -0.7507521068482458]"
     ]
    },
    {
     "name": "stderr",
     "output_type": "stream",
     "text": [
      "/home/monster/.conda/envs/tensorflow/lib/python3.6/site-packages/sklearn/model_selection/_split.py:2053: FutureWarning: You should specify a value for 'cv' instead of relying on the default value. The default value will change from 3 to 5 in version 0.22.\n",
      "  warnings.warn(CV_WARNING, FutureWarning)\n",
      "\n",
      "/home/monster/.conda/envs/tensorflow/lib/python3.6/site-packages/sklearn/preprocessing/label.py:219: DataConversionWarning: A column-vector y was passed when a 1d array was expected. Please change the shape of y to (n_samples, ), for example using ravel().\n",
      "  y = column_or_1d(y, warn=True)\n",
      "\n",
      "/home/monster/.conda/envs/tensorflow/lib/python3.6/site-packages/sklearn/preprocessing/label.py:252: DataConversionWarning: A column-vector y was passed when a 1d array was expected. Please change the shape of y to (n_samples, ), for example using ravel().\n",
      "  y = column_or_1d(y, warn=True)\n",
      "\n"
     ]
    },
    {
     "name": "stdout",
     "output_type": "stream",
     "text": [
      "\n"
     ]
    },
    {
     "ename": "KeyboardInterrupt",
     "evalue": "",
     "output_type": "error",
     "traceback": [
      "\u001b[0;31m---------------------------------------------------------------------------\u001b[0m",
      "\u001b[0;31mKeyboardInterrupt\u001b[0m                         Traceback (most recent call last)",
      "\u001b[0;32m<ipython-input-87-1408ac69a817>\u001b[0m in \u001b[0;36m<module>\u001b[0;34m\u001b[0m\n\u001b[1;32m     25\u001b[0m \u001b[0;34m\u001b[0m\u001b[0m\n\u001b[1;32m     26\u001b[0m \u001b[0mtrials\u001b[0m \u001b[0;34m=\u001b[0m \u001b[0mTrials\u001b[0m\u001b[0;34m(\u001b[0m\u001b[0;34m)\u001b[0m\u001b[0;34m\u001b[0m\u001b[0;34m\u001b[0m\u001b[0m\n\u001b[0;32m---> 27\u001b[0;31m \u001b[0mbest\u001b[0m \u001b[0;34m=\u001b[0m \u001b[0mfmin\u001b[0m\u001b[0;34m(\u001b[0m\u001b[0mf\u001b[0m\u001b[0;34m,\u001b[0m \u001b[0mparam_space\u001b[0m\u001b[0;34m,\u001b[0m \u001b[0malgo\u001b[0m\u001b[0;34m=\u001b[0m\u001b[0mtpe\u001b[0m\u001b[0;34m.\u001b[0m\u001b[0msuggest\u001b[0m\u001b[0;34m,\u001b[0m \u001b[0mmax_evals\u001b[0m\u001b[0;34m=\u001b[0m\u001b[0;36m5\u001b[0m\u001b[0;34m,\u001b[0m \u001b[0mtrials\u001b[0m\u001b[0;34m=\u001b[0m\u001b[0mtrials\u001b[0m\u001b[0;34m)\u001b[0m\u001b[0;34m\u001b[0m\u001b[0;34m\u001b[0m\u001b[0m\n\u001b[0m\u001b[1;32m     28\u001b[0m \u001b[0mprint\u001b[0m \u001b[0;34m(\u001b[0m\u001b[0;34m'best:'\u001b[0m\u001b[0;34m)\u001b[0m\u001b[0;34m\u001b[0m\u001b[0;34m\u001b[0m\u001b[0m\n\u001b[1;32m     29\u001b[0m \u001b[0mprint\u001b[0m \u001b[0;34m(\u001b[0m\u001b[0mbest\u001b[0m\u001b[0;34m)\u001b[0m\u001b[0;34m\u001b[0m\u001b[0;34m\u001b[0m\u001b[0m\n",
      "\u001b[0;32m~/.conda/envs/tensorflow/lib/python3.6/site-packages/hyperopt/fmin.py\u001b[0m in \u001b[0;36mfmin\u001b[0;34m(fn, space, algo, max_evals, trials, rstate, allow_trials_fmin, pass_expr_memo_ctrl, catch_eval_exceptions, verbose, return_argmin, points_to_evaluate, max_queue_len, show_progressbar)\u001b[0m\n\u001b[1;32m    386\u001b[0m             \u001b[0mcatch_eval_exceptions\u001b[0m\u001b[0;34m=\u001b[0m\u001b[0mcatch_eval_exceptions\u001b[0m\u001b[0;34m,\u001b[0m\u001b[0;34m\u001b[0m\u001b[0;34m\u001b[0m\u001b[0m\n\u001b[1;32m    387\u001b[0m             \u001b[0mreturn_argmin\u001b[0m\u001b[0;34m=\u001b[0m\u001b[0mreturn_argmin\u001b[0m\u001b[0;34m,\u001b[0m\u001b[0;34m\u001b[0m\u001b[0;34m\u001b[0m\u001b[0m\n\u001b[0;32m--> 388\u001b[0;31m             \u001b[0mshow_progressbar\u001b[0m\u001b[0;34m=\u001b[0m\u001b[0mshow_progressbar\u001b[0m\u001b[0;34m,\u001b[0m\u001b[0;34m\u001b[0m\u001b[0;34m\u001b[0m\u001b[0m\n\u001b[0m\u001b[1;32m    389\u001b[0m         )\n\u001b[1;32m    390\u001b[0m \u001b[0;34m\u001b[0m\u001b[0m\n",
      "\u001b[0;32m~/.conda/envs/tensorflow/lib/python3.6/site-packages/hyperopt/base.py\u001b[0m in \u001b[0;36mfmin\u001b[0;34m(self, fn, space, algo, max_evals, rstate, verbose, pass_expr_memo_ctrl, catch_eval_exceptions, return_argmin, show_progressbar)\u001b[0m\n\u001b[1;32m    637\u001b[0m             \u001b[0mcatch_eval_exceptions\u001b[0m\u001b[0;34m=\u001b[0m\u001b[0mcatch_eval_exceptions\u001b[0m\u001b[0;34m,\u001b[0m\u001b[0;34m\u001b[0m\u001b[0;34m\u001b[0m\u001b[0m\n\u001b[1;32m    638\u001b[0m             \u001b[0mreturn_argmin\u001b[0m\u001b[0;34m=\u001b[0m\u001b[0mreturn_argmin\u001b[0m\u001b[0;34m,\u001b[0m\u001b[0;34m\u001b[0m\u001b[0;34m\u001b[0m\u001b[0m\n\u001b[0;32m--> 639\u001b[0;31m             show_progressbar=show_progressbar)\n\u001b[0m\u001b[1;32m    640\u001b[0m \u001b[0;34m\u001b[0m\u001b[0m\n\u001b[1;32m    641\u001b[0m \u001b[0;34m\u001b[0m\u001b[0m\n",
      "\u001b[0;32m~/.conda/envs/tensorflow/lib/python3.6/site-packages/hyperopt/fmin.py\u001b[0m in \u001b[0;36mfmin\u001b[0;34m(fn, space, algo, max_evals, trials, rstate, allow_trials_fmin, pass_expr_memo_ctrl, catch_eval_exceptions, verbose, return_argmin, points_to_evaluate, max_queue_len, show_progressbar)\u001b[0m\n\u001b[1;32m    405\u001b[0m                     show_progressbar=show_progressbar)\n\u001b[1;32m    406\u001b[0m     \u001b[0mrval\u001b[0m\u001b[0;34m.\u001b[0m\u001b[0mcatch_eval_exceptions\u001b[0m \u001b[0;34m=\u001b[0m \u001b[0mcatch_eval_exceptions\u001b[0m\u001b[0;34m\u001b[0m\u001b[0;34m\u001b[0m\u001b[0m\n\u001b[0;32m--> 407\u001b[0;31m     \u001b[0mrval\u001b[0m\u001b[0;34m.\u001b[0m\u001b[0mexhaust\u001b[0m\u001b[0;34m(\u001b[0m\u001b[0;34m)\u001b[0m\u001b[0;34m\u001b[0m\u001b[0;34m\u001b[0m\u001b[0m\n\u001b[0m\u001b[1;32m    408\u001b[0m     \u001b[0;32mif\u001b[0m \u001b[0mreturn_argmin\u001b[0m\u001b[0;34m:\u001b[0m\u001b[0;34m\u001b[0m\u001b[0;34m\u001b[0m\u001b[0m\n\u001b[1;32m    409\u001b[0m         \u001b[0;32mreturn\u001b[0m \u001b[0mtrials\u001b[0m\u001b[0;34m.\u001b[0m\u001b[0margmin\u001b[0m\u001b[0;34m\u001b[0m\u001b[0;34m\u001b[0m\u001b[0m\n",
      "\u001b[0;32m~/.conda/envs/tensorflow/lib/python3.6/site-packages/hyperopt/fmin.py\u001b[0m in \u001b[0;36mexhaust\u001b[0;34m(self)\u001b[0m\n\u001b[1;32m    260\u001b[0m     \u001b[0;32mdef\u001b[0m \u001b[0mexhaust\u001b[0m\u001b[0;34m(\u001b[0m\u001b[0mself\u001b[0m\u001b[0;34m)\u001b[0m\u001b[0;34m:\u001b[0m\u001b[0;34m\u001b[0m\u001b[0;34m\u001b[0m\u001b[0m\n\u001b[1;32m    261\u001b[0m         \u001b[0mn_done\u001b[0m \u001b[0;34m=\u001b[0m \u001b[0mlen\u001b[0m\u001b[0;34m(\u001b[0m\u001b[0mself\u001b[0m\u001b[0;34m.\u001b[0m\u001b[0mtrials\u001b[0m\u001b[0;34m)\u001b[0m\u001b[0;34m\u001b[0m\u001b[0;34m\u001b[0m\u001b[0m\n\u001b[0;32m--> 262\u001b[0;31m         \u001b[0mself\u001b[0m\u001b[0;34m.\u001b[0m\u001b[0mrun\u001b[0m\u001b[0;34m(\u001b[0m\u001b[0mself\u001b[0m\u001b[0;34m.\u001b[0m\u001b[0mmax_evals\u001b[0m \u001b[0;34m-\u001b[0m \u001b[0mn_done\u001b[0m\u001b[0;34m,\u001b[0m \u001b[0mblock_until_done\u001b[0m\u001b[0;34m=\u001b[0m\u001b[0mself\u001b[0m\u001b[0;34m.\u001b[0m\u001b[0masynchronous\u001b[0m\u001b[0;34m)\u001b[0m\u001b[0;34m\u001b[0m\u001b[0;34m\u001b[0m\u001b[0m\n\u001b[0m\u001b[1;32m    263\u001b[0m         \u001b[0mself\u001b[0m\u001b[0;34m.\u001b[0m\u001b[0mtrials\u001b[0m\u001b[0;34m.\u001b[0m\u001b[0mrefresh\u001b[0m\u001b[0;34m(\u001b[0m\u001b[0;34m)\u001b[0m\u001b[0;34m\u001b[0m\u001b[0;34m\u001b[0m\u001b[0m\n\u001b[1;32m    264\u001b[0m         \u001b[0;32mreturn\u001b[0m \u001b[0mself\u001b[0m\u001b[0;34m\u001b[0m\u001b[0;34m\u001b[0m\u001b[0m\n",
      "\u001b[0;32m~/.conda/envs/tensorflow/lib/python3.6/site-packages/hyperopt/fmin.py\u001b[0m in \u001b[0;36mrun\u001b[0;34m(self, N, block_until_done)\u001b[0m\n\u001b[1;32m    225\u001b[0m                     \u001b[0;32melse\u001b[0m\u001b[0;34m:\u001b[0m\u001b[0;34m\u001b[0m\u001b[0;34m\u001b[0m\u001b[0m\n\u001b[1;32m    226\u001b[0m                         \u001b[0;31m# -- loop over trials and do the jobs directly\u001b[0m\u001b[0;34m\u001b[0m\u001b[0;34m\u001b[0m\u001b[0;34m\u001b[0m\u001b[0m\n\u001b[0;32m--> 227\u001b[0;31m                         \u001b[0mself\u001b[0m\u001b[0;34m.\u001b[0m\u001b[0mserial_evaluate\u001b[0m\u001b[0;34m(\u001b[0m\u001b[0;34m)\u001b[0m\u001b[0;34m\u001b[0m\u001b[0;34m\u001b[0m\u001b[0m\n\u001b[0m\u001b[1;32m    228\u001b[0m \u001b[0;34m\u001b[0m\u001b[0m\n\u001b[1;32m    229\u001b[0m                     \u001b[0;32mtry\u001b[0m\u001b[0;34m:\u001b[0m\u001b[0;34m\u001b[0m\u001b[0;34m\u001b[0m\u001b[0m\n",
      "\u001b[0;32m~/.conda/envs/tensorflow/lib/python3.6/site-packages/hyperopt/fmin.py\u001b[0m in \u001b[0;36mserial_evaluate\u001b[0;34m(self, N)\u001b[0m\n\u001b[1;32m    139\u001b[0m                 \u001b[0mctrl\u001b[0m \u001b[0;34m=\u001b[0m \u001b[0mbase\u001b[0m\u001b[0;34m.\u001b[0m\u001b[0mCtrl\u001b[0m\u001b[0;34m(\u001b[0m\u001b[0mself\u001b[0m\u001b[0;34m.\u001b[0m\u001b[0mtrials\u001b[0m\u001b[0;34m,\u001b[0m \u001b[0mcurrent_trial\u001b[0m\u001b[0;34m=\u001b[0m\u001b[0mtrial\u001b[0m\u001b[0;34m)\u001b[0m\u001b[0;34m\u001b[0m\u001b[0;34m\u001b[0m\u001b[0m\n\u001b[1;32m    140\u001b[0m                 \u001b[0;32mtry\u001b[0m\u001b[0;34m:\u001b[0m\u001b[0;34m\u001b[0m\u001b[0;34m\u001b[0m\u001b[0m\n\u001b[0;32m--> 141\u001b[0;31m                     \u001b[0mresult\u001b[0m \u001b[0;34m=\u001b[0m \u001b[0mself\u001b[0m\u001b[0;34m.\u001b[0m\u001b[0mdomain\u001b[0m\u001b[0;34m.\u001b[0m\u001b[0mevaluate\u001b[0m\u001b[0;34m(\u001b[0m\u001b[0mspec\u001b[0m\u001b[0;34m,\u001b[0m \u001b[0mctrl\u001b[0m\u001b[0;34m)\u001b[0m\u001b[0;34m\u001b[0m\u001b[0;34m\u001b[0m\u001b[0m\n\u001b[0m\u001b[1;32m    142\u001b[0m                 \u001b[0;32mexcept\u001b[0m \u001b[0mException\u001b[0m \u001b[0;32mas\u001b[0m \u001b[0me\u001b[0m\u001b[0;34m:\u001b[0m\u001b[0;34m\u001b[0m\u001b[0;34m\u001b[0m\u001b[0m\n\u001b[1;32m    143\u001b[0m                     \u001b[0mlogger\u001b[0m\u001b[0;34m.\u001b[0m\u001b[0minfo\u001b[0m\u001b[0;34m(\u001b[0m\u001b[0;34m'job exception: %s'\u001b[0m \u001b[0;34m%\u001b[0m \u001b[0mstr\u001b[0m\u001b[0;34m(\u001b[0m\u001b[0me\u001b[0m\u001b[0;34m)\u001b[0m\u001b[0;34m)\u001b[0m\u001b[0;34m\u001b[0m\u001b[0;34m\u001b[0m\u001b[0m\n",
      "\u001b[0;32m~/.conda/envs/tensorflow/lib/python3.6/site-packages/hyperopt/base.py\u001b[0m in \u001b[0;36mevaluate\u001b[0;34m(self, config, ctrl, attach_attachments)\u001b[0m\n\u001b[1;32m    842\u001b[0m                 \u001b[0mmemo\u001b[0m\u001b[0;34m=\u001b[0m\u001b[0mmemo\u001b[0m\u001b[0;34m,\u001b[0m\u001b[0;34m\u001b[0m\u001b[0;34m\u001b[0m\u001b[0m\n\u001b[1;32m    843\u001b[0m                 print_node_on_error=self.rec_eval_print_node_on_error)\n\u001b[0;32m--> 844\u001b[0;31m             \u001b[0mrval\u001b[0m \u001b[0;34m=\u001b[0m \u001b[0mself\u001b[0m\u001b[0;34m.\u001b[0m\u001b[0mfn\u001b[0m\u001b[0;34m(\u001b[0m\u001b[0mpyll_rval\u001b[0m\u001b[0;34m)\u001b[0m\u001b[0;34m\u001b[0m\u001b[0;34m\u001b[0m\u001b[0m\n\u001b[0m\u001b[1;32m    845\u001b[0m \u001b[0;34m\u001b[0m\u001b[0m\n\u001b[1;32m    846\u001b[0m         \u001b[0;32mif\u001b[0m \u001b[0misinstance\u001b[0m\u001b[0;34m(\u001b[0m\u001b[0mrval\u001b[0m\u001b[0;34m,\u001b[0m \u001b[0;34m(\u001b[0m\u001b[0mfloat\u001b[0m\u001b[0;34m,\u001b[0m \u001b[0mint\u001b[0m\u001b[0;34m,\u001b[0m \u001b[0mnp\u001b[0m\u001b[0;34m.\u001b[0m\u001b[0mnumber\u001b[0m\u001b[0;34m)\u001b[0m\u001b[0;34m)\u001b[0m\u001b[0;34m:\u001b[0m\u001b[0;34m\u001b[0m\u001b[0;34m\u001b[0m\u001b[0m\n",
      "\u001b[0;32m<ipython-input-87-1408ac69a817>\u001b[0m in \u001b[0;36mf\u001b[0;34m(params)\u001b[0m\n\u001b[1;32m     18\u001b[0m \u001b[0;32mdef\u001b[0m \u001b[0mf\u001b[0m\u001b[0;34m(\u001b[0m\u001b[0mparams\u001b[0m\u001b[0;34m)\u001b[0m\u001b[0;34m:\u001b[0m\u001b[0;34m\u001b[0m\u001b[0;34m\u001b[0m\u001b[0m\n\u001b[1;32m     19\u001b[0m     \u001b[0;32mglobal\u001b[0m \u001b[0mbest\u001b[0m\u001b[0;34m\u001b[0m\u001b[0;34m\u001b[0m\u001b[0m\n\u001b[0;32m---> 20\u001b[0;31m     \u001b[0macc\u001b[0m \u001b[0;34m=\u001b[0m \u001b[0macc_model\u001b[0m\u001b[0;34m(\u001b[0m\u001b[0mparams\u001b[0m\u001b[0;34m)\u001b[0m\u001b[0;34m\u001b[0m\u001b[0;34m\u001b[0m\u001b[0m\n\u001b[0m\u001b[1;32m     21\u001b[0m     \u001b[0;32mif\u001b[0m \u001b[0macc\u001b[0m \u001b[0;34m>\u001b[0m \u001b[0mbest\u001b[0m\u001b[0;34m:\u001b[0m\u001b[0;34m\u001b[0m\u001b[0;34m\u001b[0m\u001b[0m\n\u001b[1;32m     22\u001b[0m         \u001b[0mbest\u001b[0m \u001b[0;34m=\u001b[0m \u001b[0macc\u001b[0m\u001b[0;34m\u001b[0m\u001b[0;34m\u001b[0m\u001b[0m\n",
      "\u001b[0;32m<ipython-input-87-1408ac69a817>\u001b[0m in \u001b[0;36macc_model\u001b[0;34m(params)\u001b[0m\n\u001b[1;32m      2\u001b[0m \u001b[0;32mdef\u001b[0m \u001b[0macc_model\u001b[0m\u001b[0;34m(\u001b[0m\u001b[0mparams\u001b[0m\u001b[0;34m)\u001b[0m\u001b[0;34m:\u001b[0m\u001b[0;34m\u001b[0m\u001b[0;34m\u001b[0m\u001b[0m\n\u001b[1;32m      3\u001b[0m     \u001b[0mclf\u001b[0m \u001b[0;34m=\u001b[0m \u001b[0mXGBClassifier\u001b[0m\u001b[0;34m(\u001b[0m\u001b[0;34m**\u001b[0m\u001b[0mparams\u001b[0m\u001b[0;34m)\u001b[0m\u001b[0;34m\u001b[0m\u001b[0;34m\u001b[0m\u001b[0m\n\u001b[0;32m----> 4\u001b[0;31m     \u001b[0;32mreturn\u001b[0m \u001b[0mcross_val_score\u001b[0m\u001b[0;34m(\u001b[0m\u001b[0mclf\u001b[0m\u001b[0;34m,\u001b[0m \u001b[0mX_train\u001b[0m\u001b[0;34m,\u001b[0m \u001b[0my_train\u001b[0m\u001b[0;34m)\u001b[0m\u001b[0;34m.\u001b[0m\u001b[0mmean\u001b[0m\u001b[0;34m(\u001b[0m\u001b[0;34m)\u001b[0m\u001b[0;34m\u001b[0m\u001b[0;34m\u001b[0m\u001b[0m\n\u001b[0m\u001b[1;32m      5\u001b[0m \u001b[0;34m\u001b[0m\u001b[0m\n\u001b[1;32m      6\u001b[0m param_space = {\n",
      "\u001b[0;32m~/.conda/envs/tensorflow/lib/python3.6/site-packages/sklearn/model_selection/_validation.py\u001b[0m in \u001b[0;36mcross_val_score\u001b[0;34m(estimator, X, y, groups, scoring, cv, n_jobs, verbose, fit_params, pre_dispatch, error_score)\u001b[0m\n\u001b[1;32m    400\u001b[0m                                 \u001b[0mfit_params\u001b[0m\u001b[0;34m=\u001b[0m\u001b[0mfit_params\u001b[0m\u001b[0;34m,\u001b[0m\u001b[0;34m\u001b[0m\u001b[0;34m\u001b[0m\u001b[0m\n\u001b[1;32m    401\u001b[0m                                 \u001b[0mpre_dispatch\u001b[0m\u001b[0;34m=\u001b[0m\u001b[0mpre_dispatch\u001b[0m\u001b[0;34m,\u001b[0m\u001b[0;34m\u001b[0m\u001b[0;34m\u001b[0m\u001b[0m\n\u001b[0;32m--> 402\u001b[0;31m                                 error_score=error_score)\n\u001b[0m\u001b[1;32m    403\u001b[0m     \u001b[0;32mreturn\u001b[0m \u001b[0mcv_results\u001b[0m\u001b[0;34m[\u001b[0m\u001b[0;34m'test_score'\u001b[0m\u001b[0;34m]\u001b[0m\u001b[0;34m\u001b[0m\u001b[0;34m\u001b[0m\u001b[0m\n\u001b[1;32m    404\u001b[0m \u001b[0;34m\u001b[0m\u001b[0m\n",
      "\u001b[0;32m~/.conda/envs/tensorflow/lib/python3.6/site-packages/sklearn/model_selection/_validation.py\u001b[0m in \u001b[0;36mcross_validate\u001b[0;34m(estimator, X, y, groups, scoring, cv, n_jobs, verbose, fit_params, pre_dispatch, return_train_score, return_estimator, error_score)\u001b[0m\n\u001b[1;32m    238\u001b[0m             \u001b[0mreturn_times\u001b[0m\u001b[0;34m=\u001b[0m\u001b[0;32mTrue\u001b[0m\u001b[0;34m,\u001b[0m \u001b[0mreturn_estimator\u001b[0m\u001b[0;34m=\u001b[0m\u001b[0mreturn_estimator\u001b[0m\u001b[0;34m,\u001b[0m\u001b[0;34m\u001b[0m\u001b[0;34m\u001b[0m\u001b[0m\n\u001b[1;32m    239\u001b[0m             error_score=error_score)\n\u001b[0;32m--> 240\u001b[0;31m         for train, test in cv.split(X, y, groups))\n\u001b[0m\u001b[1;32m    241\u001b[0m \u001b[0;34m\u001b[0m\u001b[0m\n\u001b[1;32m    242\u001b[0m     \u001b[0mzipped_scores\u001b[0m \u001b[0;34m=\u001b[0m \u001b[0mlist\u001b[0m\u001b[0;34m(\u001b[0m\u001b[0mzip\u001b[0m\u001b[0;34m(\u001b[0m\u001b[0;34m*\u001b[0m\u001b[0mscores\u001b[0m\u001b[0;34m)\u001b[0m\u001b[0;34m)\u001b[0m\u001b[0;34m\u001b[0m\u001b[0;34m\u001b[0m\u001b[0m\n",
      "\u001b[0;32m~/.conda/envs/tensorflow/lib/python3.6/site-packages/sklearn/externals/joblib/parallel.py\u001b[0m in \u001b[0;36m__call__\u001b[0;34m(self, iterable)\u001b[0m\n\u001b[1;32m    918\u001b[0m                 \u001b[0mself\u001b[0m\u001b[0;34m.\u001b[0m\u001b[0m_iterating\u001b[0m \u001b[0;34m=\u001b[0m \u001b[0mself\u001b[0m\u001b[0;34m.\u001b[0m\u001b[0m_original_iterator\u001b[0m \u001b[0;32mis\u001b[0m \u001b[0;32mnot\u001b[0m \u001b[0;32mNone\u001b[0m\u001b[0;34m\u001b[0m\u001b[0;34m\u001b[0m\u001b[0m\n\u001b[1;32m    919\u001b[0m \u001b[0;34m\u001b[0m\u001b[0m\n\u001b[0;32m--> 920\u001b[0;31m             \u001b[0;32mwhile\u001b[0m \u001b[0mself\u001b[0m\u001b[0;34m.\u001b[0m\u001b[0mdispatch_one_batch\u001b[0m\u001b[0;34m(\u001b[0m\u001b[0miterator\u001b[0m\u001b[0;34m)\u001b[0m\u001b[0;34m:\u001b[0m\u001b[0;34m\u001b[0m\u001b[0;34m\u001b[0m\u001b[0m\n\u001b[0m\u001b[1;32m    921\u001b[0m                 \u001b[0;32mpass\u001b[0m\u001b[0;34m\u001b[0m\u001b[0;34m\u001b[0m\u001b[0m\n\u001b[1;32m    922\u001b[0m \u001b[0;34m\u001b[0m\u001b[0m\n",
      "\u001b[0;32m~/.conda/envs/tensorflow/lib/python3.6/site-packages/sklearn/externals/joblib/parallel.py\u001b[0m in \u001b[0;36mdispatch_one_batch\u001b[0;34m(self, iterator)\u001b[0m\n\u001b[1;32m    757\u001b[0m                 \u001b[0;32mreturn\u001b[0m \u001b[0;32mFalse\u001b[0m\u001b[0;34m\u001b[0m\u001b[0;34m\u001b[0m\u001b[0m\n\u001b[1;32m    758\u001b[0m             \u001b[0;32melse\u001b[0m\u001b[0;34m:\u001b[0m\u001b[0;34m\u001b[0m\u001b[0;34m\u001b[0m\u001b[0m\n\u001b[0;32m--> 759\u001b[0;31m                 \u001b[0mself\u001b[0m\u001b[0;34m.\u001b[0m\u001b[0m_dispatch\u001b[0m\u001b[0;34m(\u001b[0m\u001b[0mtasks\u001b[0m\u001b[0;34m)\u001b[0m\u001b[0;34m\u001b[0m\u001b[0;34m\u001b[0m\u001b[0m\n\u001b[0m\u001b[1;32m    760\u001b[0m                 \u001b[0;32mreturn\u001b[0m \u001b[0;32mTrue\u001b[0m\u001b[0;34m\u001b[0m\u001b[0;34m\u001b[0m\u001b[0m\n\u001b[1;32m    761\u001b[0m \u001b[0;34m\u001b[0m\u001b[0m\n",
      "\u001b[0;32m~/.conda/envs/tensorflow/lib/python3.6/site-packages/sklearn/externals/joblib/parallel.py\u001b[0m in \u001b[0;36m_dispatch\u001b[0;34m(self, batch)\u001b[0m\n\u001b[1;32m    714\u001b[0m         \u001b[0;32mwith\u001b[0m \u001b[0mself\u001b[0m\u001b[0;34m.\u001b[0m\u001b[0m_lock\u001b[0m\u001b[0;34m:\u001b[0m\u001b[0;34m\u001b[0m\u001b[0;34m\u001b[0m\u001b[0m\n\u001b[1;32m    715\u001b[0m             \u001b[0mjob_idx\u001b[0m \u001b[0;34m=\u001b[0m \u001b[0mlen\u001b[0m\u001b[0;34m(\u001b[0m\u001b[0mself\u001b[0m\u001b[0;34m.\u001b[0m\u001b[0m_jobs\u001b[0m\u001b[0;34m)\u001b[0m\u001b[0;34m\u001b[0m\u001b[0;34m\u001b[0m\u001b[0m\n\u001b[0;32m--> 716\u001b[0;31m             \u001b[0mjob\u001b[0m \u001b[0;34m=\u001b[0m \u001b[0mself\u001b[0m\u001b[0;34m.\u001b[0m\u001b[0m_backend\u001b[0m\u001b[0;34m.\u001b[0m\u001b[0mapply_async\u001b[0m\u001b[0;34m(\u001b[0m\u001b[0mbatch\u001b[0m\u001b[0;34m,\u001b[0m \u001b[0mcallback\u001b[0m\u001b[0;34m=\u001b[0m\u001b[0mcb\u001b[0m\u001b[0;34m)\u001b[0m\u001b[0;34m\u001b[0m\u001b[0;34m\u001b[0m\u001b[0m\n\u001b[0m\u001b[1;32m    717\u001b[0m             \u001b[0;31m# A job can complete so quickly than its callback is\u001b[0m\u001b[0;34m\u001b[0m\u001b[0;34m\u001b[0m\u001b[0;34m\u001b[0m\u001b[0m\n\u001b[1;32m    718\u001b[0m             \u001b[0;31m# called before we get here, causing self._jobs to\u001b[0m\u001b[0;34m\u001b[0m\u001b[0;34m\u001b[0m\u001b[0;34m\u001b[0m\u001b[0m\n",
      "\u001b[0;32m~/.conda/envs/tensorflow/lib/python3.6/site-packages/sklearn/externals/joblib/_parallel_backends.py\u001b[0m in \u001b[0;36mapply_async\u001b[0;34m(self, func, callback)\u001b[0m\n\u001b[1;32m    180\u001b[0m     \u001b[0;32mdef\u001b[0m \u001b[0mapply_async\u001b[0m\u001b[0;34m(\u001b[0m\u001b[0mself\u001b[0m\u001b[0;34m,\u001b[0m \u001b[0mfunc\u001b[0m\u001b[0;34m,\u001b[0m \u001b[0mcallback\u001b[0m\u001b[0;34m=\u001b[0m\u001b[0;32mNone\u001b[0m\u001b[0;34m)\u001b[0m\u001b[0;34m:\u001b[0m\u001b[0;34m\u001b[0m\u001b[0;34m\u001b[0m\u001b[0m\n\u001b[1;32m    181\u001b[0m         \u001b[0;34m\"\"\"Schedule a func to be run\"\"\"\u001b[0m\u001b[0;34m\u001b[0m\u001b[0;34m\u001b[0m\u001b[0m\n\u001b[0;32m--> 182\u001b[0;31m         \u001b[0mresult\u001b[0m \u001b[0;34m=\u001b[0m \u001b[0mImmediateResult\u001b[0m\u001b[0;34m(\u001b[0m\u001b[0mfunc\u001b[0m\u001b[0;34m)\u001b[0m\u001b[0;34m\u001b[0m\u001b[0;34m\u001b[0m\u001b[0m\n\u001b[0m\u001b[1;32m    183\u001b[0m         \u001b[0;32mif\u001b[0m \u001b[0mcallback\u001b[0m\u001b[0;34m:\u001b[0m\u001b[0;34m\u001b[0m\u001b[0;34m\u001b[0m\u001b[0m\n\u001b[1;32m    184\u001b[0m             \u001b[0mcallback\u001b[0m\u001b[0;34m(\u001b[0m\u001b[0mresult\u001b[0m\u001b[0;34m)\u001b[0m\u001b[0;34m\u001b[0m\u001b[0;34m\u001b[0m\u001b[0m\n",
      "\u001b[0;32m~/.conda/envs/tensorflow/lib/python3.6/site-packages/sklearn/externals/joblib/_parallel_backends.py\u001b[0m in \u001b[0;36m__init__\u001b[0;34m(self, batch)\u001b[0m\n\u001b[1;32m    547\u001b[0m         \u001b[0;31m# Don't delay the application, to avoid keeping the input\u001b[0m\u001b[0;34m\u001b[0m\u001b[0;34m\u001b[0m\u001b[0;34m\u001b[0m\u001b[0m\n\u001b[1;32m    548\u001b[0m         \u001b[0;31m# arguments in memory\u001b[0m\u001b[0;34m\u001b[0m\u001b[0;34m\u001b[0m\u001b[0;34m\u001b[0m\u001b[0m\n\u001b[0;32m--> 549\u001b[0;31m         \u001b[0mself\u001b[0m\u001b[0;34m.\u001b[0m\u001b[0mresults\u001b[0m \u001b[0;34m=\u001b[0m \u001b[0mbatch\u001b[0m\u001b[0;34m(\u001b[0m\u001b[0;34m)\u001b[0m\u001b[0;34m\u001b[0m\u001b[0;34m\u001b[0m\u001b[0m\n\u001b[0m\u001b[1;32m    550\u001b[0m \u001b[0;34m\u001b[0m\u001b[0m\n\u001b[1;32m    551\u001b[0m     \u001b[0;32mdef\u001b[0m \u001b[0mget\u001b[0m\u001b[0;34m(\u001b[0m\u001b[0mself\u001b[0m\u001b[0;34m)\u001b[0m\u001b[0;34m:\u001b[0m\u001b[0;34m\u001b[0m\u001b[0;34m\u001b[0m\u001b[0m\n",
      "\u001b[0;32m~/.conda/envs/tensorflow/lib/python3.6/site-packages/sklearn/externals/joblib/parallel.py\u001b[0m in \u001b[0;36m__call__\u001b[0;34m(self)\u001b[0m\n\u001b[1;32m    223\u001b[0m         \u001b[0;32mwith\u001b[0m \u001b[0mparallel_backend\u001b[0m\u001b[0;34m(\u001b[0m\u001b[0mself\u001b[0m\u001b[0;34m.\u001b[0m\u001b[0m_backend\u001b[0m\u001b[0;34m,\u001b[0m \u001b[0mn_jobs\u001b[0m\u001b[0;34m=\u001b[0m\u001b[0mself\u001b[0m\u001b[0;34m.\u001b[0m\u001b[0m_n_jobs\u001b[0m\u001b[0;34m)\u001b[0m\u001b[0;34m:\u001b[0m\u001b[0;34m\u001b[0m\u001b[0;34m\u001b[0m\u001b[0m\n\u001b[1;32m    224\u001b[0m             return [func(*args, **kwargs)\n\u001b[0;32m--> 225\u001b[0;31m                     for func, args, kwargs in self.items]\n\u001b[0m\u001b[1;32m    226\u001b[0m \u001b[0;34m\u001b[0m\u001b[0m\n\u001b[1;32m    227\u001b[0m     \u001b[0;32mdef\u001b[0m \u001b[0m__len__\u001b[0m\u001b[0;34m(\u001b[0m\u001b[0mself\u001b[0m\u001b[0;34m)\u001b[0m\u001b[0;34m:\u001b[0m\u001b[0;34m\u001b[0m\u001b[0;34m\u001b[0m\u001b[0m\n",
      "\u001b[0;32m~/.conda/envs/tensorflow/lib/python3.6/site-packages/sklearn/externals/joblib/parallel.py\u001b[0m in \u001b[0;36m<listcomp>\u001b[0;34m(.0)\u001b[0m\n\u001b[1;32m    223\u001b[0m         \u001b[0;32mwith\u001b[0m \u001b[0mparallel_backend\u001b[0m\u001b[0;34m(\u001b[0m\u001b[0mself\u001b[0m\u001b[0;34m.\u001b[0m\u001b[0m_backend\u001b[0m\u001b[0;34m,\u001b[0m \u001b[0mn_jobs\u001b[0m\u001b[0;34m=\u001b[0m\u001b[0mself\u001b[0m\u001b[0;34m.\u001b[0m\u001b[0m_n_jobs\u001b[0m\u001b[0;34m)\u001b[0m\u001b[0;34m:\u001b[0m\u001b[0;34m\u001b[0m\u001b[0;34m\u001b[0m\u001b[0m\n\u001b[1;32m    224\u001b[0m             return [func(*args, **kwargs)\n\u001b[0;32m--> 225\u001b[0;31m                     for func, args, kwargs in self.items]\n\u001b[0m\u001b[1;32m    226\u001b[0m \u001b[0;34m\u001b[0m\u001b[0m\n\u001b[1;32m    227\u001b[0m     \u001b[0;32mdef\u001b[0m \u001b[0m__len__\u001b[0m\u001b[0;34m(\u001b[0m\u001b[0mself\u001b[0m\u001b[0;34m)\u001b[0m\u001b[0;34m:\u001b[0m\u001b[0;34m\u001b[0m\u001b[0;34m\u001b[0m\u001b[0m\n",
      "\u001b[0;32m~/.conda/envs/tensorflow/lib/python3.6/site-packages/sklearn/model_selection/_validation.py\u001b[0m in \u001b[0;36m_fit_and_score\u001b[0;34m(estimator, X, y, scorer, train, test, verbose, parameters, fit_params, return_train_score, return_parameters, return_n_test_samples, return_times, return_estimator, error_score)\u001b[0m\n\u001b[1;32m    526\u001b[0m             \u001b[0mestimator\u001b[0m\u001b[0;34m.\u001b[0m\u001b[0mfit\u001b[0m\u001b[0;34m(\u001b[0m\u001b[0mX_train\u001b[0m\u001b[0;34m,\u001b[0m \u001b[0;34m**\u001b[0m\u001b[0mfit_params\u001b[0m\u001b[0;34m)\u001b[0m\u001b[0;34m\u001b[0m\u001b[0;34m\u001b[0m\u001b[0m\n\u001b[1;32m    527\u001b[0m         \u001b[0;32melse\u001b[0m\u001b[0;34m:\u001b[0m\u001b[0;34m\u001b[0m\u001b[0;34m\u001b[0m\u001b[0m\n\u001b[0;32m--> 528\u001b[0;31m             \u001b[0mestimator\u001b[0m\u001b[0;34m.\u001b[0m\u001b[0mfit\u001b[0m\u001b[0;34m(\u001b[0m\u001b[0mX_train\u001b[0m\u001b[0;34m,\u001b[0m \u001b[0my_train\u001b[0m\u001b[0;34m,\u001b[0m \u001b[0;34m**\u001b[0m\u001b[0mfit_params\u001b[0m\u001b[0;34m)\u001b[0m\u001b[0;34m\u001b[0m\u001b[0;34m\u001b[0m\u001b[0m\n\u001b[0m\u001b[1;32m    529\u001b[0m \u001b[0;34m\u001b[0m\u001b[0m\n\u001b[1;32m    530\u001b[0m     \u001b[0;32mexcept\u001b[0m \u001b[0mException\u001b[0m \u001b[0;32mas\u001b[0m \u001b[0me\u001b[0m\u001b[0;34m:\u001b[0m\u001b[0;34m\u001b[0m\u001b[0;34m\u001b[0m\u001b[0m\n",
      "\u001b[0;32m~/.conda/envs/tensorflow/lib/python3.6/site-packages/xgboost/sklearn.py\u001b[0m in \u001b[0;36mfit\u001b[0;34m(self, X, y, sample_weight, eval_set, eval_metric, early_stopping_rounds, verbose, xgb_model, sample_weight_eval_set, callbacks)\u001b[0m\n\u001b[1;32m    711\u001b[0m                               \u001b[0mevals_result\u001b[0m\u001b[0;34m=\u001b[0m\u001b[0mevals_result\u001b[0m\u001b[0;34m,\u001b[0m \u001b[0mobj\u001b[0m\u001b[0;34m=\u001b[0m\u001b[0mobj\u001b[0m\u001b[0;34m,\u001b[0m \u001b[0mfeval\u001b[0m\u001b[0;34m=\u001b[0m\u001b[0mfeval\u001b[0m\u001b[0;34m,\u001b[0m\u001b[0;34m\u001b[0m\u001b[0;34m\u001b[0m\u001b[0m\n\u001b[1;32m    712\u001b[0m                               \u001b[0mverbose_eval\u001b[0m\u001b[0;34m=\u001b[0m\u001b[0mverbose\u001b[0m\u001b[0;34m,\u001b[0m \u001b[0mxgb_model\u001b[0m\u001b[0;34m=\u001b[0m\u001b[0mxgb_model\u001b[0m\u001b[0;34m,\u001b[0m\u001b[0;34m\u001b[0m\u001b[0;34m\u001b[0m\u001b[0m\n\u001b[0;32m--> 713\u001b[0;31m                               callbacks=callbacks)\n\u001b[0m\u001b[1;32m    714\u001b[0m \u001b[0;34m\u001b[0m\u001b[0m\n\u001b[1;32m    715\u001b[0m         \u001b[0mself\u001b[0m\u001b[0;34m.\u001b[0m\u001b[0mobjective\u001b[0m \u001b[0;34m=\u001b[0m \u001b[0mxgb_options\u001b[0m\u001b[0;34m[\u001b[0m\u001b[0;34m\"objective\"\u001b[0m\u001b[0;34m]\u001b[0m\u001b[0;34m\u001b[0m\u001b[0;34m\u001b[0m\u001b[0m\n",
      "\u001b[0;32m~/.conda/envs/tensorflow/lib/python3.6/site-packages/xgboost/training.py\u001b[0m in \u001b[0;36mtrain\u001b[0;34m(params, dtrain, num_boost_round, evals, obj, feval, maximize, early_stopping_rounds, evals_result, verbose_eval, xgb_model, callbacks, learning_rates)\u001b[0m\n\u001b[1;32m    214\u001b[0m                            \u001b[0mevals\u001b[0m\u001b[0;34m=\u001b[0m\u001b[0mevals\u001b[0m\u001b[0;34m,\u001b[0m\u001b[0;34m\u001b[0m\u001b[0;34m\u001b[0m\u001b[0m\n\u001b[1;32m    215\u001b[0m                            \u001b[0mobj\u001b[0m\u001b[0;34m=\u001b[0m\u001b[0mobj\u001b[0m\u001b[0;34m,\u001b[0m \u001b[0mfeval\u001b[0m\u001b[0;34m=\u001b[0m\u001b[0mfeval\u001b[0m\u001b[0;34m,\u001b[0m\u001b[0;34m\u001b[0m\u001b[0;34m\u001b[0m\u001b[0m\n\u001b[0;32m--> 216\u001b[0;31m                            xgb_model=xgb_model, callbacks=callbacks)\n\u001b[0m\u001b[1;32m    217\u001b[0m \u001b[0;34m\u001b[0m\u001b[0m\n\u001b[1;32m    218\u001b[0m \u001b[0;34m\u001b[0m\u001b[0m\n",
      "\u001b[0;32m~/.conda/envs/tensorflow/lib/python3.6/site-packages/xgboost/training.py\u001b[0m in \u001b[0;36m_train_internal\u001b[0;34m(params, dtrain, num_boost_round, evals, obj, feval, xgb_model, callbacks)\u001b[0m\n\u001b[1;32m     72\u001b[0m         \u001b[0;31m# Skip the first update if it is a recovery step.\u001b[0m\u001b[0;34m\u001b[0m\u001b[0;34m\u001b[0m\u001b[0;34m\u001b[0m\u001b[0m\n\u001b[1;32m     73\u001b[0m         \u001b[0;32mif\u001b[0m \u001b[0mversion\u001b[0m \u001b[0;34m%\u001b[0m \u001b[0;36m2\u001b[0m \u001b[0;34m==\u001b[0m \u001b[0;36m0\u001b[0m\u001b[0;34m:\u001b[0m\u001b[0;34m\u001b[0m\u001b[0;34m\u001b[0m\u001b[0m\n\u001b[0;32m---> 74\u001b[0;31m             \u001b[0mbst\u001b[0m\u001b[0;34m.\u001b[0m\u001b[0mupdate\u001b[0m\u001b[0;34m(\u001b[0m\u001b[0mdtrain\u001b[0m\u001b[0;34m,\u001b[0m \u001b[0mi\u001b[0m\u001b[0;34m,\u001b[0m \u001b[0mobj\u001b[0m\u001b[0;34m)\u001b[0m\u001b[0;34m\u001b[0m\u001b[0;34m\u001b[0m\u001b[0m\n\u001b[0m\u001b[1;32m     75\u001b[0m             \u001b[0mbst\u001b[0m\u001b[0;34m.\u001b[0m\u001b[0msave_rabit_checkpoint\u001b[0m\u001b[0;34m(\u001b[0m\u001b[0;34m)\u001b[0m\u001b[0;34m\u001b[0m\u001b[0;34m\u001b[0m\u001b[0m\n\u001b[1;32m     76\u001b[0m             \u001b[0mversion\u001b[0m \u001b[0;34m+=\u001b[0m \u001b[0;36m1\u001b[0m\u001b[0;34m\u001b[0m\u001b[0;34m\u001b[0m\u001b[0m\n",
      "\u001b[0;32m~/.conda/envs/tensorflow/lib/python3.6/site-packages/xgboost/core.py\u001b[0m in \u001b[0;36mupdate\u001b[0;34m(self, dtrain, iteration, fobj)\u001b[0m\n\u001b[1;32m   1108\u001b[0m         \u001b[0;32mif\u001b[0m \u001b[0mfobj\u001b[0m \u001b[0;32mis\u001b[0m \u001b[0;32mNone\u001b[0m\u001b[0;34m:\u001b[0m\u001b[0;34m\u001b[0m\u001b[0;34m\u001b[0m\u001b[0m\n\u001b[1;32m   1109\u001b[0m             _check_call(_LIB.XGBoosterUpdateOneIter(self.handle, ctypes.c_int(iteration),\n\u001b[0;32m-> 1110\u001b[0;31m                                                     dtrain.handle))\n\u001b[0m\u001b[1;32m   1111\u001b[0m         \u001b[0;32melse\u001b[0m\u001b[0;34m:\u001b[0m\u001b[0;34m\u001b[0m\u001b[0;34m\u001b[0m\u001b[0m\n\u001b[1;32m   1112\u001b[0m             \u001b[0mpred\u001b[0m \u001b[0;34m=\u001b[0m \u001b[0mself\u001b[0m\u001b[0;34m.\u001b[0m\u001b[0mpredict\u001b[0m\u001b[0;34m(\u001b[0m\u001b[0mdtrain\u001b[0m\u001b[0;34m)\u001b[0m\u001b[0;34m\u001b[0m\u001b[0;34m\u001b[0m\u001b[0m\n",
      "\u001b[0;31mKeyboardInterrupt\u001b[0m: "
     ]
    }
   ],
   "source": [
    "from sklearn.model_selection import cross_val_score\n",
    "def acc_model(params):\n",
    "    clf = XGBClassifier(**params)\n",
    "    return cross_val_score(clf, X_train, y_train).mean()\n",
    "\n",
    "param_space = {\n",
    "    'learning_rate': hp.choice('learning_rate', np.linspace(0,1,11)),\n",
    "    'min_child_weight': hp.choice('min_child_weight', range(1,7)),\n",
    "    'gamma': hp.choice('gamma', np.linspace(0,1,11)),\n",
    "    'subsample': hp.choice('subsample', np.linspace(0,1,11)),\n",
    "    'colsample_bytree': hp.choice('colsample_bytree', np.linspace(0,1,11)),\n",
    "    'max_depth': hp.choice('max_depth', range(1,20)),\n",
    "    'max_features': hp.choice('max_features', range(1,55)),\n",
    "    'n_estimators': hp.choice('n_estimators', range(100,500)),\n",
    "    'criterion': hp.choice('criterion', [\"gini\", \"entropy\"])}\n",
    "\n",
    "best = 0\n",
    "def f(params):\n",
    "    global best\n",
    "    acc = acc_model(params)\n",
    "    if acc > best:\n",
    "        best = acc\n",
    "    print ('new best:', best, params)\n",
    "    return {'loss': -acc, 'status': STATUS_OK}\n",
    "\n",
    "trials = Trials()\n",
    "best = fmin(f, param_space, algo=tpe.suggest, max_evals=5, trials=trials)\n",
    "print ('best:')\n",
    "print (best)\n"
   ]
  },
  {
   "cell_type": "code",
   "execution_count": 88,
   "metadata": {},
   "outputs": [
    {
     "name": "stdout",
     "output_type": "stream",
     "text": [
      "[0]\ttrain-auc:0.625973+0.00954142\ttest-auc:0.60547+0.00697482\n",
      "[1]\ttrain-auc:0.640766+0.00908215\ttest-auc:0.616661+0.00500616\n",
      "[2]\ttrain-auc:0.651776+0.00829556\ttest-auc:0.623102+0.00297785\n",
      "[3]\ttrain-auc:0.654437+0.00777416\ttest-auc:0.624752+0.00246926\n",
      "[4]\ttrain-auc:0.660348+0.00731372\ttest-auc:0.629237+0.00321219\n",
      "[5]\ttrain-auc:0.663235+0.00732289\ttest-auc:0.631198+0.0034934\n",
      "[6]\ttrain-auc:0.669894+0.00779869\ttest-auc:0.635298+0.00437958\n",
      "[7]\ttrain-auc:0.672582+0.00846935\ttest-auc:0.636696+0.00435913\n",
      "[8]\ttrain-auc:0.675231+0.00837295\ttest-auc:0.63736+0.0046651\n",
      "[9]\ttrain-auc:0.677744+0.00694475\ttest-auc:0.638446+0.00334715\n",
      "[10]\ttrain-auc:0.679498+0.00674743\ttest-auc:0.639217+0.00300447\n",
      "[11]\ttrain-auc:0.680711+0.00700388\ttest-auc:0.639787+0.00275853\n",
      "[12]\ttrain-auc:0.682234+0.00669763\ttest-auc:0.640557+0.0026594\n",
      "[13]\ttrain-auc:0.68326+0.00702976\ttest-auc:0.641089+0.00311931\n",
      "[14]\ttrain-auc:0.68414+0.00675615\ttest-auc:0.641479+0.00334184\n",
      "[15]\ttrain-auc:0.684902+0.00692728\ttest-auc:0.641955+0.00359369\n",
      "[16]\ttrain-auc:0.686369+0.00682975\ttest-auc:0.642535+0.00332399\n",
      "[17]\ttrain-auc:0.688318+0.0066644\ttest-auc:0.643825+0.00324548\n",
      "[18]\ttrain-auc:0.691186+0.00456609\ttest-auc:0.645231+0.00205937\n",
      "[19]\ttrain-auc:0.692075+0.00432348\ttest-auc:0.646003+0.00212523\n",
      "[20]\ttrain-auc:0.6945+0.0052833\ttest-auc:0.647212+0.00237119\n",
      "[21]\ttrain-auc:0.694876+0.00560908\ttest-auc:0.647385+0.00254331\n",
      "[22]\ttrain-auc:0.696225+0.00566133\ttest-auc:0.648258+0.00181193\n",
      "[23]\ttrain-auc:0.697353+0.00517249\ttest-auc:0.64838+0.00165449\n",
      "[24]\ttrain-auc:0.697998+0.00508256\ttest-auc:0.648353+0.00138336\n",
      "[25]\ttrain-auc:0.699298+0.00356706\ttest-auc:0.649144+0.000939094\n",
      "[26]\ttrain-auc:0.700372+0.00365264\ttest-auc:0.649634+0.00109969\n",
      "[27]\ttrain-auc:0.701506+0.00369669\ttest-auc:0.649957+0.00114046\n",
      "[28]\ttrain-auc:0.702638+0.00440416\ttest-auc:0.650405+0.00120052\n",
      "[29]\ttrain-auc:0.703587+0.00474682\ttest-auc:0.650836+0.00121992\n",
      "[30]\ttrain-auc:0.704526+0.00509233\ttest-auc:0.651164+0.000974529\n",
      "[31]\ttrain-auc:0.705341+0.00460044\ttest-auc:0.651709+0.000938309\n",
      "[32]\ttrain-auc:0.70613+0.00453411\ttest-auc:0.65188+0.000939662\n",
      "[33]\ttrain-auc:0.707133+0.0043708\ttest-auc:0.652232+0.000607127\n",
      "[34]\ttrain-auc:0.707781+0.00450398\ttest-auc:0.652462+0.000533839\n",
      "[35]\ttrain-auc:0.708346+0.00449963\ttest-auc:0.652477+0.000581623\n",
      "[36]\ttrain-auc:0.709097+0.00450992\ttest-auc:0.652647+0.000435995\n",
      "[37]\ttrain-auc:0.71034+0.00378021\ttest-auc:0.65285+0.000492966\n",
      "[38]\ttrain-auc:0.711596+0.00344557\ttest-auc:0.653246+0.000698021\n",
      "[39]\ttrain-auc:0.712202+0.00393639\ttest-auc:0.653518+0.00119281\n",
      "[40]\ttrain-auc:0.713228+0.00396547\ttest-auc:0.653691+0.00128528\n",
      "[41]\ttrain-auc:0.713896+0.00377434\ttest-auc:0.653903+0.00113138\n",
      "[42]\ttrain-auc:0.714547+0.00400973\ttest-auc:0.654087+0.00107345\n",
      "[43]\ttrain-auc:0.714968+0.00357064\ttest-auc:0.654264+0.00125482\n",
      "[44]\ttrain-auc:0.715757+0.0030824\ttest-auc:0.654651+0.0012067\n",
      "[45]\ttrain-auc:0.716511+0.00298049\ttest-auc:0.654886+0.0013639\n",
      "[46]\ttrain-auc:0.717468+0.00277921\ttest-auc:0.655138+0.00145289\n",
      "[47]\ttrain-auc:0.718248+0.00256348\ttest-auc:0.655351+0.00144851\n",
      "[48]\ttrain-auc:0.718829+0.00247669\ttest-auc:0.655498+0.00151818\n",
      "[49]\ttrain-auc:0.719452+0.00230973\ttest-auc:0.655678+0.00164022\n",
      "[50]\ttrain-auc:0.720136+0.00243289\ttest-auc:0.655856+0.00176219\n",
      "[51]\ttrain-auc:0.720755+0.00229039\ttest-auc:0.655905+0.00180094\n",
      "[52]\ttrain-auc:0.721272+0.00234991\ttest-auc:0.655921+0.00175614\n",
      "[53]\ttrain-auc:0.721861+0.00252822\ttest-auc:0.656022+0.0018101\n",
      "[54]\ttrain-auc:0.72245+0.0024683\ttest-auc:0.656097+0.00180094\n",
      "[55]\ttrain-auc:0.722791+0.00259019\ttest-auc:0.656226+0.00180606\n",
      "[56]\ttrain-auc:0.723427+0.00257471\ttest-auc:0.656251+0.00193473\n",
      "[57]\ttrain-auc:0.724249+0.00289135\ttest-auc:0.656217+0.00195129\n",
      "[58]\ttrain-auc:0.724644+0.0026337\ttest-auc:0.656202+0.00183311\n",
      "[59]\ttrain-auc:0.725374+0.00279013\ttest-auc:0.656151+0.00192562\n",
      "[60]\ttrain-auc:0.726191+0.00246969\ttest-auc:0.656367+0.00186686\n",
      "[61]\ttrain-auc:0.727038+0.00237979\ttest-auc:0.656515+0.00187501\n",
      "[62]\ttrain-auc:0.727491+0.0022521\ttest-auc:0.65654+0.00189053\n",
      "[63]\ttrain-auc:0.72796+0.00236513\ttest-auc:0.656442+0.00187944\n",
      "[64]\ttrain-auc:0.728141+0.00235788\ttest-auc:0.656403+0.00184978\n",
      "[65]\ttrain-auc:0.728882+0.00212384\ttest-auc:0.656503+0.00182765\n",
      "[66]\ttrain-auc:0.729448+0.00203737\ttest-auc:0.656559+0.0019022\n",
      "[67]\ttrain-auc:0.729939+0.00205069\ttest-auc:0.656559+0.00196332\n",
      "[68]\ttrain-auc:0.730426+0.00207936\ttest-auc:0.656474+0.00192511\n",
      "[69]\ttrain-auc:0.731443+0.0021577\ttest-auc:0.65676+0.00198046\n",
      "[70]\ttrain-auc:0.732127+0.00214552\ttest-auc:0.656889+0.00196438\n",
      "[71]\ttrain-auc:0.732586+0.0019228\ttest-auc:0.656947+0.00201296\n",
      "[72]\ttrain-auc:0.733211+0.00197236\ttest-auc:0.657082+0.00209697\n",
      "[73]\ttrain-auc:0.733782+0.00198914\ttest-auc:0.657128+0.00218182\n",
      "[74]\ttrain-auc:0.734151+0.00210084\ttest-auc:0.657156+0.00226498\n",
      "[75]\ttrain-auc:0.734745+0.00204198\ttest-auc:0.657237+0.00235723\n",
      "[76]\ttrain-auc:0.735116+0.00221162\ttest-auc:0.657161+0.00231677\n",
      "[77]\ttrain-auc:0.735802+0.0021368\ttest-auc:0.657247+0.00227077\n",
      "[78]\ttrain-auc:0.736223+0.00209554\ttest-auc:0.657309+0.00230109\n",
      "[79]\ttrain-auc:0.73665+0.00200457\ttest-auc:0.657424+0.00239368\n",
      "[80]\ttrain-auc:0.737255+0.00195898\ttest-auc:0.657568+0.00245866\n",
      "[81]\ttrain-auc:0.737694+0.00195233\ttest-auc:0.657563+0.0023867\n",
      "[82]\ttrain-auc:0.738191+0.00190953\ttest-auc:0.657637+0.00245061\n",
      "[83]\ttrain-auc:0.738676+0.00178443\ttest-auc:0.657662+0.00239767\n",
      "[84]\ttrain-auc:0.739089+0.0017471\ttest-auc:0.657645+0.00240175\n",
      "[85]\ttrain-auc:0.739642+0.0015577\ttest-auc:0.657763+0.00246286\n",
      "[86]\ttrain-auc:0.740093+0.00153961\ttest-auc:0.657889+0.00226718\n",
      "[87]\ttrain-auc:0.740538+0.00149437\ttest-auc:0.657865+0.00221202\n",
      "[88]\ttrain-auc:0.74095+0.00157966\ttest-auc:0.657834+0.00222505\n",
      "[89]\ttrain-auc:0.741569+0.00173894\ttest-auc:0.657885+0.00221614\n",
      "[90]\ttrain-auc:0.741974+0.00201391\ttest-auc:0.657912+0.00223266\n",
      "[91]\ttrain-auc:0.742446+0.00213732\ttest-auc:0.657948+0.0021948\n",
      "[92]\ttrain-auc:0.742735+0.00202253\ttest-auc:0.65798+0.002255\n",
      "[93]\ttrain-auc:0.743072+0.00203389\ttest-auc:0.657967+0.00222809\n",
      "[94]\ttrain-auc:0.743443+0.00201299\ttest-auc:0.65803+0.00223504\n",
      "[95]\ttrain-auc:0.74403+0.00212717\ttest-auc:0.658173+0.00221181\n",
      "[96]\ttrain-auc:0.744349+0.00212707\ttest-auc:0.658206+0.0021874\n",
      "[97]\ttrain-auc:0.74475+0.00213757\ttest-auc:0.658229+0.00222412\n",
      "[98]\ttrain-auc:0.745291+0.00196047\ttest-auc:0.658198+0.00231434\n",
      "[99]\ttrain-auc:0.745851+0.00206089\ttest-auc:0.658277+0.00226322\n",
      "[100]\ttrain-auc:0.746301+0.00189655\ttest-auc:0.658308+0.00232917\n",
      "[101]\ttrain-auc:0.746675+0.00195471\ttest-auc:0.658275+0.00229648\n",
      "[102]\ttrain-auc:0.747092+0.00175345\ttest-auc:0.658286+0.00220954\n",
      "[103]\ttrain-auc:0.747524+0.00172098\ttest-auc:0.658324+0.00214179\n",
      "[104]\ttrain-auc:0.74795+0.00160775\ttest-auc:0.658351+0.0020726\n",
      "[105]\ttrain-auc:0.748264+0.00145635\ttest-auc:0.658376+0.0020439\n",
      "[106]\ttrain-auc:0.748623+0.00151195\ttest-auc:0.658347+0.00211036\n",
      "[107]\ttrain-auc:0.748976+0.0014061\ttest-auc:0.65836+0.00209531\n",
      "[108]\ttrain-auc:0.749265+0.00147022\ttest-auc:0.658385+0.00217034\n",
      "[109]\ttrain-auc:0.749828+0.00144385\ttest-auc:0.658479+0.00204905\n",
      "[110]\ttrain-auc:0.750105+0.00152973\ttest-auc:0.658455+0.00209264\n",
      "[111]\ttrain-auc:0.750382+0.00167014\ttest-auc:0.658475+0.00214331\n",
      "[112]\ttrain-auc:0.750853+0.00170095\ttest-auc:0.658535+0.00211734\n",
      "[113]\ttrain-auc:0.751169+0.00174764\ttest-auc:0.658589+0.00215133\n",
      "[114]\ttrain-auc:0.751469+0.00178892\ttest-auc:0.658691+0.00222251\n",
      "[115]\ttrain-auc:0.751848+0.00201847\ttest-auc:0.658677+0.00233068\n",
      "[116]\ttrain-auc:0.752161+0.00212098\ttest-auc:0.658688+0.00231457\n",
      "[117]\ttrain-auc:0.752597+0.00221132\ttest-auc:0.658717+0.00226041\n",
      "[118]\ttrain-auc:0.752893+0.00223874\ttest-auc:0.658826+0.00218796\n",
      "[119]\ttrain-auc:0.753225+0.00230555\ttest-auc:0.658845+0.00221901\n",
      "[120]\ttrain-auc:0.753505+0.00223996\ttest-auc:0.65887+0.00225371\n",
      "[121]\ttrain-auc:0.753728+0.00218198\ttest-auc:0.65883+0.00220196\n",
      "[122]\ttrain-auc:0.754107+0.0022476\ttest-auc:0.658802+0.00220145\n",
      "[123]\ttrain-auc:0.754472+0.00236854\ttest-auc:0.658827+0.00224398\n",
      "[124]\ttrain-auc:0.754801+0.00224155\ttest-auc:0.658811+0.002219\n",
      "[125]\ttrain-auc:0.75515+0.0022695\ttest-auc:0.65879+0.00221648\n",
      "[126]\ttrain-auc:0.755512+0.00230984\ttest-auc:0.658745+0.00223398\n",
      "[127]\ttrain-auc:0.755711+0.00230949\ttest-auc:0.658755+0.00217638\n",
      "[128]\ttrain-auc:0.755919+0.00230914\ttest-auc:0.658775+0.00217899\n"
     ]
    },
    {
     "name": "stdout",
     "output_type": "stream",
     "text": [
      "[129]\ttrain-auc:0.75618+0.00238831\ttest-auc:0.65879+0.00219608\n",
      "[130]\ttrain-auc:0.756534+0.00239272\ttest-auc:0.658743+0.0022238\n",
      "[131]\ttrain-auc:0.756779+0.00235805\ttest-auc:0.65874+0.00224354\n",
      "[132]\ttrain-auc:0.757041+0.00240193\ttest-auc:0.658778+0.00223054\n",
      "[133]\ttrain-auc:0.757334+0.00242519\ttest-auc:0.658787+0.00228488\n",
      "[134]\ttrain-auc:0.757736+0.00226717\ttest-auc:0.658808+0.00229203\n",
      "[135]\ttrain-auc:0.758179+0.00233986\ttest-auc:0.658813+0.00226613\n",
      "[136]\ttrain-auc:0.758628+0.00243785\ttest-auc:0.658743+0.00224353\n",
      "[137]\ttrain-auc:0.758868+0.00249146\ttest-auc:0.658733+0.00224842\n",
      "[138]\ttrain-auc:0.759301+0.00237728\ttest-auc:0.658712+0.00231677\n",
      "[139]\ttrain-auc:0.759669+0.00242131\ttest-auc:0.658757+0.00234982\n",
      "[140]\ttrain-auc:0.759941+0.00240953\ttest-auc:0.658691+0.00236312\n",
      "[141]\ttrain-auc:0.760145+0.00244111\ttest-auc:0.658762+0.0024303\n",
      "[142]\ttrain-auc:0.760338+0.00239495\ttest-auc:0.658772+0.00240994\n",
      "[143]\ttrain-auc:0.760588+0.00246075\ttest-auc:0.658706+0.00236996\n",
      "[144]\ttrain-auc:0.760857+0.0023565\ttest-auc:0.658714+0.00241187\n",
      "[145]\ttrain-auc:0.761294+0.00249994\ttest-auc:0.658776+0.00240123\n",
      "[146]\ttrain-auc:0.761601+0.00227152\ttest-auc:0.658701+0.00241752\n",
      "[147]\ttrain-auc:0.761852+0.00233243\ttest-auc:0.658732+0.00242907\n",
      "[148]\ttrain-auc:0.762187+0.00250034\ttest-auc:0.658767+0.00247377\n",
      "[149]\ttrain-auc:0.762311+0.00252303\ttest-auc:0.658741+0.00251276\n",
      "[150]\ttrain-auc:0.762497+0.00251872\ttest-auc:0.658783+0.00254473\n",
      "[151]\ttrain-auc:0.762749+0.00251401\ttest-auc:0.658739+0.00256638\n",
      "[152]\ttrain-auc:0.763054+0.00257566\ttest-auc:0.65883+0.00263231\n",
      "[153]\ttrain-auc:0.763273+0.00257413\ttest-auc:0.658816+0.00266805\n",
      "[154]\ttrain-auc:0.763616+0.00259082\ttest-auc:0.658857+0.00264287\n",
      "[155]\ttrain-auc:0.763801+0.00257196\ttest-auc:0.658839+0.00266887\n",
      "[156]\ttrain-auc:0.764036+0.00249722\ttest-auc:0.658847+0.00266411\n",
      "[157]\ttrain-auc:0.764275+0.00251453\ttest-auc:0.658803+0.00264118\n",
      "[158]\ttrain-auc:0.76472+0.00237459\ttest-auc:0.658805+0.00272425\n",
      "[159]\ttrain-auc:0.76497+0.00240282\ttest-auc:0.65882+0.00271883\n",
      "[160]\ttrain-auc:0.765289+0.0024135\ttest-auc:0.658816+0.00275002\n",
      "[161]\ttrain-auc:0.765409+0.0024518\ttest-auc:0.658825+0.00269268\n",
      "[162]\ttrain-auc:0.765684+0.00241207\ttest-auc:0.658797+0.00268237\n",
      "[163]\ttrain-auc:0.765865+0.00234985\ttest-auc:0.658769+0.00265552\n",
      "[164]\ttrain-auc:0.766077+0.00226064\ttest-auc:0.65877+0.00265537\n",
      "[165]\ttrain-auc:0.766312+0.00223928\ttest-auc:0.658799+0.00267679\n",
      "[166]\ttrain-auc:0.766624+0.00212973\ttest-auc:0.658857+0.00268759\n",
      "[167]\ttrain-auc:0.766986+0.00190465\ttest-auc:0.658903+0.00271029\n",
      "[168]\ttrain-auc:0.767289+0.00174092\ttest-auc:0.658894+0.00271091\n",
      "[169]\ttrain-auc:0.767472+0.00172969\ttest-auc:0.658898+0.00274658\n",
      "[170]\ttrain-auc:0.767748+0.0017282\ttest-auc:0.658911+0.00272182\n",
      "[171]\ttrain-auc:0.767972+0.00171333\ttest-auc:0.658926+0.0026867\n",
      "[172]\ttrain-auc:0.768226+0.00176275\ttest-auc:0.658874+0.00272253\n",
      "[173]\ttrain-auc:0.768535+0.0016911\ttest-auc:0.658873+0.00275042\n",
      "[174]\ttrain-auc:0.768773+0.00171995\ttest-auc:0.658891+0.00272094\n",
      "[175]\ttrain-auc:0.769053+0.00174486\ttest-auc:0.658865+0.00269878\n",
      "[176]\ttrain-auc:0.76926+0.00161956\ttest-auc:0.658923+0.00271265\n",
      "[177]\ttrain-auc:0.769514+0.00160448\ttest-auc:0.658905+0.00269083\n",
      "[178]\ttrain-auc:0.769782+0.00174956\ttest-auc:0.65892+0.00265157\n",
      "[179]\ttrain-auc:0.769967+0.00181279\ttest-auc:0.658905+0.00267695\n",
      "[180]\ttrain-auc:0.770217+0.00184895\ttest-auc:0.658909+0.00266625\n",
      "[181]\ttrain-auc:0.770402+0.00176338\ttest-auc:0.658903+0.00266059\n",
      "[182]\ttrain-auc:0.770699+0.00181926\ttest-auc:0.658896+0.00264487\n",
      "[183]\ttrain-auc:0.771006+0.00185432\ttest-auc:0.658878+0.00267546\n",
      "[184]\ttrain-auc:0.771213+0.00171117\ttest-auc:0.658894+0.00268174\n",
      "[185]\ttrain-auc:0.771408+0.00176894\ttest-auc:0.658912+0.00269575\n",
      "[186]\ttrain-auc:0.771541+0.00181174\ttest-auc:0.658878+0.00270351\n",
      "[187]\ttrain-auc:0.77174+0.00188066\ttest-auc:0.65881+0.00275079\n",
      "[188]\ttrain-auc:0.771836+0.00184479\ttest-auc:0.658782+0.00274821\n",
      "[189]\ttrain-auc:0.772198+0.0018909\ttest-auc:0.658777+0.00272907\n",
      "[190]\ttrain-auc:0.772469+0.00198558\ttest-auc:0.658778+0.00269283\n",
      "[191]\ttrain-auc:0.772762+0.00210506\ttest-auc:0.658805+0.00274424\n",
      "[192]\ttrain-auc:0.772863+0.00212495\ttest-auc:0.658778+0.00269392\n",
      "[193]\ttrain-auc:0.773014+0.00214111\ttest-auc:0.658798+0.00273157\n",
      "[194]\ttrain-auc:0.773244+0.00210702\ttest-auc:0.658848+0.0027577\n",
      "[195]\ttrain-auc:0.773466+0.00221299\ttest-auc:0.658873+0.00269745\n",
      "[196]\ttrain-auc:0.773748+0.00228671\ttest-auc:0.65888+0.00271095\n",
      "[197]\ttrain-auc:0.773992+0.00221191\ttest-auc:0.658918+0.00272869\n",
      "[198]\ttrain-auc:0.774345+0.00215912\ttest-auc:0.658895+0.00276063\n",
      "[199]\ttrain-auc:0.774622+0.00236015\ttest-auc:0.658867+0.00275189\n",
      "[200]\ttrain-auc:0.774868+0.00221506\ttest-auc:0.658867+0.00277506\n",
      "[201]\ttrain-auc:0.775048+0.00218802\ttest-auc:0.658856+0.00276972\n",
      "[202]\ttrain-auc:0.775323+0.00227748\ttest-auc:0.658841+0.00275485\n",
      "[203]\ttrain-auc:0.775512+0.00227325\ttest-auc:0.658835+0.00277492\n",
      "[204]\ttrain-auc:0.77581+0.00219489\ttest-auc:0.658767+0.00280659\n",
      "[205]\ttrain-auc:0.775998+0.00221159\ttest-auc:0.658784+0.0028362\n",
      "[206]\ttrain-auc:0.776175+0.00217389\ttest-auc:0.658811+0.00284501\n",
      "[207]\ttrain-auc:0.776363+0.00219849\ttest-auc:0.658798+0.00278853\n",
      "[208]\ttrain-auc:0.77655+0.00210288\ttest-auc:0.65876+0.00279511\n",
      "[209]\ttrain-auc:0.776932+0.00215645\ttest-auc:0.658698+0.00282296\n",
      "[210]\ttrain-auc:0.777151+0.00216168\ttest-auc:0.658711+0.00279305\n",
      "[211]\ttrain-auc:0.777298+0.00215825\ttest-auc:0.658665+0.00279811\n",
      "[212]\ttrain-auc:0.77752+0.00222602\ttest-auc:0.658649+0.00282253\n",
      "[213]\ttrain-auc:0.777788+0.00232469\ttest-auc:0.658662+0.00281104\n",
      "[214]\ttrain-auc:0.77811+0.00240348\ttest-auc:0.658608+0.00279374\n",
      "[215]\ttrain-auc:0.778332+0.00240352\ttest-auc:0.658636+0.00280074\n",
      "[216]\ttrain-auc:0.778559+0.00235426\ttest-auc:0.65864+0.00285152\n",
      "[217]\ttrain-auc:0.778783+0.00226252\ttest-auc:0.658685+0.00288916\n",
      "[218]\ttrain-auc:0.778907+0.00225353\ttest-auc:0.658647+0.00290168\n",
      "[219]\ttrain-auc:0.779088+0.00223221\ttest-auc:0.658641+0.00294151\n",
      "[220]\ttrain-auc:0.779243+0.00230728\ttest-auc:0.658661+0.0029757\n"
     ]
    },
    {
     "name": "stderr",
     "output_type": "stream",
     "text": [
      "/home/monster/.conda/envs/tensorflow/lib/python3.6/site-packages/sklearn/preprocessing/label.py:219: DataConversionWarning: A column-vector y was passed when a 1d array was expected. Please change the shape of y to (n_samples, ), for example using ravel().\n",
      "  y = column_or_1d(y, warn=True)\n",
      "/home/monster/.conda/envs/tensorflow/lib/python3.6/site-packages/sklearn/preprocessing/label.py:252: DataConversionWarning: A column-vector y was passed when a 1d array was expected. Please change the shape of y to (n_samples, ), for example using ravel().\n",
      "  y = column_or_1d(y, warn=True)\n"
     ]
    },
    {
     "name": "stdout",
     "output_type": "stream",
     "text": [
      "\n",
      "Model Report\n",
      "Accuracy : 0.7839\n",
      "AUC Score (Train): 0.664734\n"
     ]
    },
    {
     "data": {
      "image/png": "[encoded data removed]",
      "text/plain": [
       "<Figure size 432x288 with 1 Axes>"
      ]
     },
     "metadata": {
      "needs_background": "light"
     },
     "output_type": "display_data"
    }
   ],
   "source": [
    "model1 = XGBClassifier(\n",
    " learning_rate =0.1,\n",
    " n_estimators=300,\n",
    " max_depth=8,\n",
    " min_child_weight=6,\n",
    " gamma=0.6,\n",
    " subsample=0.8,\n",
    " colsample_bytree=0.2,\n",
    " objective= 'binary:logistic',\n",
    " nthread=-1,\n",
    " seed=27)\n",
    "\n",
    "modelfit(model1, X_train,y_train,X_validation,y_validation,test_df,sub_df,predictors,outcome,useTrainCV=True, cv_folds=5, early_stopping_rounds=50)"
   ]
  },
  {
   "cell_type": "code",
   "execution_count": null,
   "metadata": {},
   "outputs": [],
   "source": []
  },
  {
   "cell_type": "code",
   "execution_count": null,
   "metadata": {},
   "outputs": [],
   "source": []
  },
  {
   "cell_type": "code",
   "execution_count": null,
   "metadata": {},
   "outputs": [],
   "source": []
  },
  {
   "cell_type": "code",
   "execution_count": null,
   "metadata": {},
   "outputs": [],
   "source": []
  },
  {
   "cell_type": "code",
   "execution_count": null,
   "metadata": {},
   "outputs": [],
   "source": []
  },
  {
   "cell_type": "code",
   "execution_count": null,
   "metadata": {},
   "outputs": [],
   "source": []
  },
  {
   "cell_type": "code",
   "execution_count": null,
   "metadata": {},
   "outputs": [],
   "source": []
  },
  {
   "cell_type": "code",
   "execution_count": null,
   "metadata": {},
   "outputs": [],
   "source": []
  },
  {
   "cell_type": "code",
   "execution_count": null,
   "metadata": {},
   "outputs": [],
   "source": []
  },
  {
   "cell_type": "code",
   "execution_count": null,
   "metadata": {},
   "outputs": [],
   "source": []
  },
  {
   "cell_type": "code",
   "execution_count": null,
   "metadata": {},
   "outputs": [],
   "source": []
  },
  {
   "cell_type": "code",
   "execution_count": null,
   "metadata": {},
   "outputs": [],
   "source": []
  },
  {
   "cell_type": "code",
   "execution_count": null,
   "metadata": {},
   "outputs": [],
   "source": []
  },
  {
   "cell_type": "code",
   "execution_count": null,
   "metadata": {},
   "outputs": [],
   "source": []
  },
  {
   "cell_type": "code",
   "execution_count": null,
   "metadata": {},
   "outputs": [],
   "source": []
  },
  {
   "cell_type": "code",
   "execution_count": null,
   "metadata": {},
   "outputs": [],
   "source": []
  },
  {
   "cell_type": "code",
   "execution_count": null,
   "metadata": {},
   "outputs": [],
   "source": []
  },
  {
   "cell_type": "code",
   "execution_count": null,
   "metadata": {},
   "outputs": [],
   "source": []
  },
  {
   "cell_type": "code",
   "execution_count": null,
   "metadata": {},
   "outputs": [],
   "source": []
  },
  {
   "cell_type": "code",
   "execution_count": null,
   "metadata": {},
   "outputs": [],
   "source": [
    "\n",
    "\n",
    "\n",
    "\n",
    "\n",
    "\n",
    "\n",
    "\n",
    "\n",
    "\n",
    "\n",
    " \n",
    "\n",
    "\n",
    "\n",
    "\n",
    "\n",
    "\n",
    "\n",
    "\n",
    "\n",
    "\n",
    "\n",
    "\n",
    "\n",
    "\n",
    "\n"
   ]
  },
  {
   "cell_type": "code",
   "execution_count": null,
   "metadata": {},
   "outputs": [],
   "source": []
  },
  {
   "cell_type": "code",
   "execution_count": null,
   "metadata": {},
   "outputs": [],
   "source": []
  },
  {
   "cell_type": "code",
   "execution_count": null,
   "metadata": {},
   "outputs": [],
   "source": []
  },
  {
   "cell_type": "code",
   "execution_count": null,
   "metadata": {},
   "outputs": [],
   "source": []
  }
 ],
 "metadata": {
  "kernelspec": {
   "display_name": "tensorflow",
   "language": "python",
   "name": "tensorflow"
  },
  "language_info": {
   "codemirror_mode": {
    "name": "ipython",
    "version": 3
   },
   "file_extension": ".py",
   "mimetype": "text/x-python",
   "name": "python",
   "nbconvert_exporter": "python",
   "pygments_lexer": "ipython3",
   "version": "3.6.8"
  }
 },
 "nbformat": 4,
 "nbformat_minor": 2
}
