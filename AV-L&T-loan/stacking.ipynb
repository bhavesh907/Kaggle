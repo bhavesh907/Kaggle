{
 "cells": [
  {
   "cell_type": "code",
   "execution_count": 1,
   "metadata": {},
   "outputs": [],
   "source": [
    "import os\n",
    "import pandas as pd\n",
    "import numpy as np"
   ]
  },
  {
   "cell_type": "code",
   "execution_count": 2,
   "metadata": {},
   "outputs": [],
   "source": [
    "csvpath = '/home/monster/Downloads/kaggle/AV-L&T-loan/ensb_csvs'\n",
    "csv_list = os.listdir(csvpath)"
   ]
  },
  {
   "cell_type": "code",
   "execution_count": 3,
   "metadata": {},
   "outputs": [
    {
     "data": {
      "text/plain": [
       "['472_61752_us_ens_4_without_corr_hmean.csv',\n",
       " '472_61752_us_sub1_kHMCvEB.csv',\n",
       " '472_61752_us_ens_1_Dw0KAyv.csv',\n",
       " '472_61752_us_ens_1_ujGJ5Q1.csv',\n",
       " '472_61752_us_sub1_jbuYZTV.csv',\n",
       " '472_61752_us_sub1_42tk3Hq.csv',\n",
       " '472_61752_us_ens_3_without_corr.csv',\n",
       " '472_61752_us_ens_2.csv',\n",
       " '472_61752_us_ens_1_pctrQtR.csv']"
      ]
     },
     "execution_count": 3,
     "metadata": {},
     "output_type": "execute_result"
    }
   ],
   "source": [
    "csv_list"
   ]
  },
  {
   "cell_type": "code",
   "execution_count": 4,
   "metadata": {},
   "outputs": [],
   "source": [
    "df = pd.DataFrame()\n",
    "for i, name in enumerate(csv_list):\n",
    "    tmpdf = pd.read_csv(csvpath+'/'+name)\n",
    "    tmpdf.columns = ['UniqueID_'+str(i), 'loan_default_'+str(i)]\n",
    "    df = pd.concat([df,tmpdf],axis=1)"
   ]
  },
  {
   "cell_type": "code",
   "execution_count": 5,
   "metadata": {},
   "outputs": [
    {
     "data": {
      "text/plain": [
       "(112392, 18)"
      ]
     },
     "execution_count": 5,
     "metadata": {},
     "output_type": "execute_result"
    }
   ],
   "source": [
    "df.shape"
   ]
  },
  {
   "cell_type": "code",
   "execution_count": 6,
   "metadata": {},
   "outputs": [
    {
     "data": {
      "text/plain": [
       "Index(['UniqueID_0', 'loan_default_0', 'UniqueID_1', 'loan_default_1',\n",
       "       'UniqueID_2', 'loan_default_2', 'UniqueID_3', 'loan_default_3',\n",
       "       'UniqueID_4', 'loan_default_4', 'UniqueID_5', 'loan_default_5',\n",
       "       'UniqueID_6', 'loan_default_6', 'UniqueID_7', 'loan_default_7',\n",
       "       'UniqueID_8', 'loan_default_8'],\n",
       "      dtype='object')"
      ]
     },
     "execution_count": 6,
     "metadata": {},
     "output_type": "execute_result"
    }
   ],
   "source": [
    "df.columns"
   ]
  },
  {
   "cell_type": "code",
   "execution_count": 7,
   "metadata": {},
   "outputs": [],
   "source": [
    "df.drop(['UniqueID_1','UniqueID_2','UniqueID_3','UniqueID_4', 'UniqueID_5','UniqueID_6',\n",
    " 'UniqueID_7','UniqueID_8'],axis=1, inplace=True)\n",
    "         \n",
    "#          ,'UniqueID_9','UniqueID_10','UniqueID_11','UniqueID_12','UniqueID_13'],axis=1, inplace=True)"
   ]
  },
  {
   "cell_type": "code",
   "execution_count": 8,
   "metadata": {},
   "outputs": [],
   "source": [
    "df.columns =['UniqueID', 'loan_default_0', 'loan_default_1', 'loan_default_2',\n",
    "       'loan_default_3', 'loan_default_4', 'loan_default_5', 'loan_default_6',\n",
    "       'loan_default_7', 'loan_default_8']"
   ]
  },
  {
   "cell_type": "code",
   "execution_count": null,
   "metadata": {},
   "outputs": [],
   "source": [
    "# df.columns = ['UniqueID', 'loan_default_0', 'loan_default_1', 'loan_default_2',\n",
    "#        'loan_default_3', 'loan_default_4', 'loan_default_5', 'loan_default_6',\n",
    "#        'loan_default_7', 'loan_default_8', 'loan_default_9', 'loan_default_10',\n",
    "#        'loan_default_11','loan_default_12','loan_default_13']"
   ]
  },
  {
   "cell_type": "code",
   "execution_count": 9,
   "metadata": {},
   "outputs": [
    {
     "data": {
      "text/html": [
       "<div>\n",
       "<style scoped>\n",
       "    .dataframe tbody tr th:only-of-type {\n",
       "        vertical-align: middle;\n",
       "    }\n",
       "\n",
       "    .dataframe tbody tr th {\n",
       "        vertical-align: top;\n",
       "    }\n",
       "\n",
       "    .dataframe thead th {\n",
       "        text-align: right;\n",
       "    }\n",
       "</style>\n",
       "<table border=\"1\" class=\"dataframe\">\n",
       "  <thead>\n",
       "    <tr style=\"text-align: right;\">\n",
       "      <th></th>\n",
       "      <th>UniqueID</th>\n",
       "      <th>loan_default_0</th>\n",
       "      <th>loan_default_1</th>\n",
       "      <th>loan_default_2</th>\n",
       "      <th>loan_default_3</th>\n",
       "      <th>loan_default_4</th>\n",
       "      <th>loan_default_5</th>\n",
       "      <th>loan_default_6</th>\n",
       "      <th>loan_default_7</th>\n",
       "      <th>loan_default_8</th>\n",
       "    </tr>\n",
       "  </thead>\n",
       "  <tbody>\n",
       "    <tr>\n",
       "      <th>0</th>\n",
       "      <td>655269</td>\n",
       "      <td>0.241180</td>\n",
       "      <td>0.264024</td>\n",
       "      <td>0.249638</td>\n",
       "      <td>0.249638</td>\n",
       "      <td>0.245546</td>\n",
       "      <td>0.223151</td>\n",
       "      <td>0.242206</td>\n",
       "      <td>0.249638</td>\n",
       "      <td>0.249638</td>\n",
       "    </tr>\n",
       "    <tr>\n",
       "      <th>1</th>\n",
       "      <td>723482</td>\n",
       "      <td>0.302928</td>\n",
       "      <td>0.326950</td>\n",
       "      <td>0.297701</td>\n",
       "      <td>0.297701</td>\n",
       "      <td>0.328811</td>\n",
       "      <td>0.367981</td>\n",
       "      <td>0.303790</td>\n",
       "      <td>0.297701</td>\n",
       "      <td>0.297701</td>\n",
       "    </tr>\n",
       "    <tr>\n",
       "      <th>2</th>\n",
       "      <td>758529</td>\n",
       "      <td>0.309095</td>\n",
       "      <td>0.330641</td>\n",
       "      <td>0.306109</td>\n",
       "      <td>0.306109</td>\n",
       "      <td>0.360254</td>\n",
       "      <td>0.287200</td>\n",
       "      <td>0.310372</td>\n",
       "      <td>0.306109</td>\n",
       "      <td>0.306109</td>\n",
       "    </tr>\n",
       "    <tr>\n",
       "      <th>3</th>\n",
       "      <td>763449</td>\n",
       "      <td>0.296191</td>\n",
       "      <td>0.394687</td>\n",
       "      <td>0.316770</td>\n",
       "      <td>0.316770</td>\n",
       "      <td>0.361883</td>\n",
       "      <td>0.405825</td>\n",
       "      <td>0.297495</td>\n",
       "      <td>0.316770</td>\n",
       "      <td>0.316770</td>\n",
       "    </tr>\n",
       "    <tr>\n",
       "      <th>4</th>\n",
       "      <td>708663</td>\n",
       "      <td>0.329071</td>\n",
       "      <td>0.306807</td>\n",
       "      <td>0.322907</td>\n",
       "      <td>0.322907</td>\n",
       "      <td>0.321524</td>\n",
       "      <td>0.285912</td>\n",
       "      <td>0.329579</td>\n",
       "      <td>0.322907</td>\n",
       "      <td>0.322907</td>\n",
       "    </tr>\n",
       "  </tbody>\n",
       "</table>\n",
       "</div>"
      ],
      "text/plain": [
       "   UniqueID  loan_default_0  loan_default_1  loan_default_2  loan_default_3  \\\n",
       "0    655269        0.241180        0.264024        0.249638        0.249638   \n",
       "1    723482        0.302928        0.326950        0.297701        0.297701   \n",
       "2    758529        0.309095        0.330641        0.306109        0.306109   \n",
       "3    763449        0.296191        0.394687        0.316770        0.316770   \n",
       "4    708663        0.329071        0.306807        0.322907        0.322907   \n",
       "\n",
       "   loan_default_4  loan_default_5  loan_default_6  loan_default_7  \\\n",
       "0        0.245546        0.223151        0.242206        0.249638   \n",
       "1        0.328811        0.367981        0.303790        0.297701   \n",
       "2        0.360254        0.287200        0.310372        0.306109   \n",
       "3        0.361883        0.405825        0.297495        0.316770   \n",
       "4        0.321524        0.285912        0.329579        0.322907   \n",
       "\n",
       "   loan_default_8  \n",
       "0        0.249638  \n",
       "1        0.297701  \n",
       "2        0.306109  \n",
       "3        0.316770  \n",
       "4        0.322907  "
      ]
     },
     "execution_count": 9,
     "metadata": {},
     "output_type": "execute_result"
    }
   ],
   "source": [
    "df.head()"
   ]
  },
  {
   "cell_type": "code",
   "execution_count": null,
   "metadata": {},
   "outputs": [],
   "source": []
  },
  {
   "cell_type": "code",
   "execution_count": null,
   "metadata": {},
   "outputs": [],
   "source": []
  },
  {
   "cell_type": "code",
   "execution_count": null,
   "metadata": {},
   "outputs": [],
   "source": []
  }
 ],
 "metadata": {
  "kernelspec": {
   "display_name": "tensorflow",
   "language": "python",
   "name": "tensorflow"
  },
  "language_info": {
   "codemirror_mode": {
    "name": "ipython",
    "version": 3
   },
   "file_extension": ".py",
   "mimetype": "text/x-python",
   "name": "python",
   "nbconvert_exporter": "python",
   "pygments_lexer": "ipython3",
   "version": "3.6.8"
  }
 },
 "nbformat": 4,
 "nbformat_minor": 2
}
