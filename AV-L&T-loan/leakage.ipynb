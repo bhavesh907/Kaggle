{
 "cells": [
  {
   "cell_type": "code",
   "execution_count": 1,
   "metadata": {},
   "outputs": [],
   "source": [
    "import pandas as pd\n",
    "import numpy as np\n",
    "import matplotlib.pyplot as plt"
   ]
  },
  {
   "cell_type": "code",
   "execution_count": 2,
   "metadata": {},
   "outputs": [],
   "source": [
    "train_df = pd.read_csv('/home/monster/Downloads/kaggle/AV-L&T-loan/train.csv')\n",
    "test_df = pd.read_csv('/home/monster/Downloads/kaggle/AV-L&T-loan/test.csv')\n",
    "sub_df = pd.read_csv('/home/monster/Downloads/kaggle/AV-L&T-loan/sample_submission.csv')"
   ]
  },
  {
   "cell_type": "code",
   "execution_count": 3,
   "metadata": {},
   "outputs": [
    {
     "data": {
      "text/plain": [
       "((233154, 41), (112392, 40))"
      ]
     },
     "execution_count": 3,
     "metadata": {},
     "output_type": "execute_result"
    }
   ],
   "source": [
    "train_df.shape,test_df.shape"
   ]
  },
  {
   "cell_type": "code",
   "execution_count": 4,
   "metadata": {},
   "outputs": [],
   "source": [
    "train_df['is_train'] = ''\n",
    "test_df['is_train'] = ''\n",
    "data = pd.DataFrame()\n",
    "train_df.loc[:,'is_train'] = 1\n",
    "test_df.loc[:,'is_train'] = 0\n",
    "data = data.append(train_df,sort=False).append(test_df,sort=False)"
   ]
  },
  {
   "cell_type": "code",
   "execution_count": 5,
   "metadata": {},
   "outputs": [],
   "source": [
    "data.reset_index(inplace=True)"
   ]
  },
  {
   "cell_type": "code",
   "execution_count": 6,
   "metadata": {},
   "outputs": [],
   "source": [
    "#Treat missing values\n",
    "#86 % values are no so it is safe to impute NO\n",
    "data['Employment.Type'].fillna('Self employed',inplace=True)"
   ]
  },
  {
   "cell_type": "code",
   "execution_count": 7,
   "metadata": {},
   "outputs": [
    {
     "data": {
      "text/plain": [
       "index                                       0\n",
       "UniqueID                                    0\n",
       "disbursed_amount                            0\n",
       "asset_cost                                  0\n",
       "ltv                                         0\n",
       "branch_id                                   0\n",
       "supplier_id                                 0\n",
       "manufacturer_id                             0\n",
       "Current_pincode_ID                          0\n",
       "Date.of.Birth                               0\n",
       "Employment.Type                             0\n",
       "DisbursalDate                               0\n",
       "State_ID                                    0\n",
       "Employee_code_ID                            0\n",
       "MobileNo_Avl_Flag                           0\n",
       "Aadhar_flag                                 0\n",
       "PAN_flag                                    0\n",
       "VoterID_flag                                0\n",
       "Driving_flag                                0\n",
       "Passport_flag                               0\n",
       "PERFORM_CNS.SCORE                           0\n",
       "PERFORM_CNS.SCORE.DESCRIPTION               0\n",
       "PRI.NO.OF.ACCTS                             0\n",
       "PRI.ACTIVE.ACCTS                            0\n",
       "PRI.OVERDUE.ACCTS                           0\n",
       "PRI.CURRENT.BALANCE                         0\n",
       "PRI.SANCTIONED.AMOUNT                       0\n",
       "PRI.DISBURSED.AMOUNT                        0\n",
       "SEC.NO.OF.ACCTS                             0\n",
       "SEC.ACTIVE.ACCTS                            0\n",
       "SEC.OVERDUE.ACCTS                           0\n",
       "SEC.CURRENT.BALANCE                         0\n",
       "SEC.SANCTIONED.AMOUNT                       0\n",
       "SEC.DISBURSED.AMOUNT                        0\n",
       "PRIMARY.INSTAL.AMT                          0\n",
       "SEC.INSTAL.AMT                              0\n",
       "NEW.ACCTS.IN.LAST.SIX.MONTHS                0\n",
       "DELINQUENT.ACCTS.IN.LAST.SIX.MONTHS         0\n",
       "AVERAGE.ACCT.AGE                            0\n",
       "CREDIT.HISTORY.LENGTH                       0\n",
       "NO.OF_INQUIRIES                             0\n",
       "loan_default                           112392\n",
       "is_train                                    0\n",
       "dtype: int64"
      ]
     },
     "execution_count": 7,
     "metadata": {},
     "output_type": "execute_result"
    }
   ],
   "source": [
    "data.apply(lambda x: sum(x.isnull()),axis=0)"
   ]
  },
  {
   "cell_type": "code",
   "execution_count": 8,
   "metadata": {},
   "outputs": [
    {
     "data": {
      "text/plain": [
       "((345546, 43), (233154, 42), (112392, 41))"
      ]
     },
     "execution_count": 8,
     "metadata": {},
     "output_type": "execute_result"
    }
   ],
   "source": [
    "data.shape,train_df.shape,test_df.shape"
   ]
  },
  {
   "cell_type": "code",
   "execution_count": 12,
   "metadata": {},
   "outputs": [],
   "source": [
    "#create mean and st dev features\n",
    "ft_name = ['loan_default']\n",
    "var = ['branch_id','State_ID']\n",
    "fntouse = list([np.mean,np.sum])\n",
    "\n",
    "# temp2 = data.pivot_table(values='ltv',index=['Current_pincode_ID'],aggfunc=np.std)\n",
    "# # temp2.plot(kind='bar')\n",
    "# temp2.reset_index(inplace=True)\n",
    "# temp2.columns = ['Current_pincode_ID', 'ltv_stdev']\n",
    "for ftname in ft_name:\n",
    "    for fn2use in fntouse:\n",
    "        for var_name in var:\n",
    "            temp3 = train_df.pivot_table(values=ftname,index=[var_name],aggfunc=fn2use)\n",
    "            # temp2.plot(kind='bar')\n",
    "            temp3.reset_index(inplace=True)\n",
    "            temp3.columns = [var_name, var_name+'_'+ftname+'_'+str(fn2use).split(' ')[1]]\n",
    "            data = data.merge(temp3,on=var_name, how = 'left')\n",
    "    #         data[var_name+'_stdev'] = data[ftname]-data[var_name+'_'+ftname+'_mean']\n",
    "\n",
    "            # df = pd.concat([temp2,temp3],axis=1)"
   ]
  },
  {
   "cell_type": "code",
   "execution_count": 13,
   "metadata": {},
   "outputs": [
    {
     "data": {
      "text/plain": [
       "index                                       0\n",
       "UniqueID                                    0\n",
       "disbursed_amount                            0\n",
       "asset_cost                                  0\n",
       "ltv                                         0\n",
       "branch_id                                   0\n",
       "supplier_id                                 0\n",
       "manufacturer_id                             0\n",
       "Current_pincode_ID                          0\n",
       "Date.of.Birth                               0\n",
       "Employment.Type                             0\n",
       "DisbursalDate                               0\n",
       "State_ID                                    0\n",
       "Employee_code_ID                            0\n",
       "MobileNo_Avl_Flag                           0\n",
       "Aadhar_flag                                 0\n",
       "PAN_flag                                    0\n",
       "VoterID_flag                                0\n",
       "Driving_flag                                0\n",
       "Passport_flag                               0\n",
       "PERFORM_CNS.SCORE                           0\n",
       "PERFORM_CNS.SCORE.DESCRIPTION               0\n",
       "PRI.NO.OF.ACCTS                             0\n",
       "PRI.ACTIVE.ACCTS                            0\n",
       "PRI.OVERDUE.ACCTS                           0\n",
       "PRI.CURRENT.BALANCE                         0\n",
       "PRI.SANCTIONED.AMOUNT                       0\n",
       "PRI.DISBURSED.AMOUNT                        0\n",
       "SEC.NO.OF.ACCTS                             0\n",
       "SEC.ACTIVE.ACCTS                            0\n",
       "SEC.OVERDUE.ACCTS                           0\n",
       "SEC.CURRENT.BALANCE                         0\n",
       "SEC.SANCTIONED.AMOUNT                       0\n",
       "SEC.DISBURSED.AMOUNT                        0\n",
       "PRIMARY.INSTAL.AMT                          0\n",
       "SEC.INSTAL.AMT                              0\n",
       "NEW.ACCTS.IN.LAST.SIX.MONTHS                0\n",
       "DELINQUENT.ACCTS.IN.LAST.SIX.MONTHS         0\n",
       "AVERAGE.ACCT.AGE                            0\n",
       "CREDIT.HISTORY.LENGTH                       0\n",
       "NO.OF_INQUIRIES                             0\n",
       "loan_default                           112392\n",
       "is_train                                    0\n",
       "branch_id_loan_default_mean                 0\n",
       "State_ID_loan_default_mean                  0\n",
       "branch_id_loan_default_sum                  0\n",
       "State_ID_loan_default_sum                   0\n",
       "dtype: int64"
      ]
     },
     "execution_count": 13,
     "metadata": {},
     "output_type": "execute_result"
    }
   ],
   "source": [
    "data.apply(lambda x: sum(x.isnull()),axis=0)"
   ]
  },
  {
   "cell_type": "code",
   "execution_count": 14,
   "metadata": {},
   "outputs": [
    {
     "data": {
      "text/plain": [
       "Index(['index', 'UniqueID', 'disbursed_amount', 'asset_cost', 'ltv',\n",
       "       'branch_id', 'supplier_id', 'manufacturer_id', 'Current_pincode_ID',\n",
       "       'Date.of.Birth', 'Employment.Type', 'DisbursalDate', 'State_ID',\n",
       "       'Employee_code_ID', 'MobileNo_Avl_Flag', 'Aadhar_flag', 'PAN_flag',\n",
       "       'VoterID_flag', 'Driving_flag', 'Passport_flag', 'PERFORM_CNS.SCORE',\n",
       "       'PERFORM_CNS.SCORE.DESCRIPTION', 'PRI.NO.OF.ACCTS', 'PRI.ACTIVE.ACCTS',\n",
       "       'PRI.OVERDUE.ACCTS', 'PRI.CURRENT.BALANCE', 'PRI.SANCTIONED.AMOUNT',\n",
       "       'PRI.DISBURSED.AMOUNT', 'SEC.NO.OF.ACCTS', 'SEC.ACTIVE.ACCTS',\n",
       "       'SEC.OVERDUE.ACCTS', 'SEC.CURRENT.BALANCE', 'SEC.SANCTIONED.AMOUNT',\n",
       "       'SEC.DISBURSED.AMOUNT', 'PRIMARY.INSTAL.AMT', 'SEC.INSTAL.AMT',\n",
       "       'NEW.ACCTS.IN.LAST.SIX.MONTHS', 'DELINQUENT.ACCTS.IN.LAST.SIX.MONTHS',\n",
       "       'AVERAGE.ACCT.AGE', 'CREDIT.HISTORY.LENGTH', 'NO.OF_INQUIRIES',\n",
       "       'loan_default', 'is_train', 'branch_id_loan_default_mean',\n",
       "       'State_ID_loan_default_mean', 'branch_id_loan_default_sum',\n",
       "       'State_ID_loan_default_sum'],\n",
       "      dtype='object')"
      ]
     },
     "execution_count": 14,
     "metadata": {},
     "output_type": "execute_result"
    }
   ],
   "source": [
    "data.columns"
   ]
  },
  {
   "cell_type": "code",
   "execution_count": null,
   "metadata": {},
   "outputs": [],
   "source": []
  },
  {
   "cell_type": "code",
   "execution_count": null,
   "metadata": {},
   "outputs": [],
   "source": []
  },
  {
   "cell_type": "code",
   "execution_count": 15,
   "metadata": {},
   "outputs": [],
   "source": [
    "data['CREDIT.HISTORY.LENGTH.YEARS'] = data['CREDIT.HISTORY.LENGTH'].map(lambda x : int(x.split(' ')[0][:-3]))"
   ]
  },
  {
   "cell_type": "code",
   "execution_count": 16,
   "metadata": {},
   "outputs": [],
   "source": [
    "data['CREDIT.HISTORY.LENGTH.MONTHS'] = data['CREDIT.HISTORY.LENGTH'].map(lambda x : int(x.split(' ')[1][:-3]))"
   ]
  },
  {
   "cell_type": "code",
   "execution_count": 17,
   "metadata": {},
   "outputs": [],
   "source": [
    "data['CREDIT.HISTORY.LENGTH.TOTMONS'] = data['CREDIT.HISTORY.LENGTH.MONTHS'] + np.dot(data['CREDIT.HISTORY.LENGTH.YEARS'],12)"
   ]
  },
  {
   "cell_type": "code",
   "execution_count": null,
   "metadata": {},
   "outputs": [],
   "source": []
  },
  {
   "cell_type": "code",
   "execution_count": 18,
   "metadata": {},
   "outputs": [],
   "source": [
    "data['AVERAGE.ACCT.AGE.YEARS'] = data['AVERAGE.ACCT.AGE'].map(lambda x : int(x.split(' ')[0][:-3]))\n",
    "\n",
    "data['AVERAGE.ACCT.AGE.MONTHS'] = data['AVERAGE.ACCT.AGE'].map(lambda x : int(x.split(' ')[1][:-3]))\n",
    "\n",
    "data['AVERAGE.ACCT.AGE.TOTMONS'] = data['AVERAGE.ACCT.AGE.MONTHS'] + np.dot(data['AVERAGE.ACCT.AGE.YEARS'],12)"
   ]
  },
  {
   "cell_type": "code",
   "execution_count": null,
   "metadata": {},
   "outputs": [],
   "source": [
    "data['Date.of.Birth'][0]"
   ]
  },
  {
   "cell_type": "code",
   "execution_count": 19,
   "metadata": {},
   "outputs": [],
   "source": [
    "data['Date.of.Birth.YEAR'] = data['Date.of.Birth'].map(lambda x : int(x.split('-')[2]))"
   ]
  },
  {
   "cell_type": "code",
   "execution_count": 20,
   "metadata": {},
   "outputs": [
    {
     "data": {
      "text/plain": [
       "874     16-07-00\n",
       "1300    05-03-00\n",
       "1864    01-01-00\n",
       "1872    18-08-00\n",
       "1874    01-01-00\n",
       "Name: Date.of.Birth, dtype: object"
      ]
     },
     "execution_count": 20,
     "metadata": {},
     "output_type": "execute_result"
    }
   ],
   "source": [
    "data.loc[data['Date.of.Birth.YEAR']==0,'Date.of.Birth'].head()"
   ]
  },
  {
   "cell_type": "code",
   "execution_count": 21,
   "metadata": {},
   "outputs": [],
   "source": [
    "data['Date.of.Birth.YEAR.conv'] = ''"
   ]
  },
  {
   "cell_type": "code",
   "execution_count": 22,
   "metadata": {},
   "outputs": [],
   "source": [
    "data.loc[data['Date.of.Birth.YEAR']==0,'Date.of.Birth.YEAR.conv'] = 2000"
   ]
  },
  {
   "cell_type": "code",
   "execution_count": 23,
   "metadata": {},
   "outputs": [],
   "source": [
    "data.loc[data['Date.of.Birth.YEAR']>0,'Date.of.Birth.YEAR.conv'] = data.loc[data['Date.of.Birth.YEAR']>0,'Date.of.Birth.YEAR']+1900"
   ]
  },
  {
   "cell_type": "code",
   "execution_count": 24,
   "metadata": {},
   "outputs": [],
   "source": [
    "data['Date.of.Birth.AGE'] = ''\n",
    "\n",
    "data['Date.of.Birth.AGE'] = 2019 - data.loc[:,'Date.of.Birth.YEAR.conv']"
   ]
  },
  {
   "cell_type": "code",
   "execution_count": null,
   "metadata": {},
   "outputs": [],
   "source": [
    "#st dev and mean of ltv feature"
   ]
  },
  {
   "cell_type": "code",
   "execution_count": null,
   "metadata": {},
   "outputs": [],
   "source": []
  },
  {
   "cell_type": "code",
   "execution_count": null,
   "metadata": {},
   "outputs": [],
   "source": [
    "temp2 = data.pivot_table(values='loan_default',index=['branch_id'],aggfunc=np.mean)\n",
    "# print('Frequency Table for Credit History:') \n",
    "# print(temp2)\n",
    "\n",
    "# fig = plt.figure(figsize=(8,4))\n",
    "# ax1 = fig.add_subplot(121)\n",
    "# ax1.set_xlabel('Credit_History')\n",
    "# ax1.set_ylabel('Count of Applicants')\n",
    "# ax1.set_title(\"Applicants by Credit_History\")\n",
    "temp2.plot(kind='bar')\n",
    "\n"
   ]
  },
  {
   "cell_type": "code",
   "execution_count": 25,
   "metadata": {},
   "outputs": [],
   "source": [
    "#create mean and st dev features\n",
    "# ft_name = ['disbursed_amount','asset_cost','ltv','PERFORM_CNS.SCORE','PRIMARY.INSTAL.AMT']\n",
    "\n",
    "ft_name = ['disbursed_amount','asset_cost','ltv','PERFORM_CNS.SCORE','PRIMARY.INSTAL.AMT',\n",
    "           'PRI.NO.OF.ACCTS', 'PRI.ACTIVE.ACCTS',\n",
    "       'PRI.OVERDUE.ACCTS', 'PRI.CURRENT.BALANCE', 'PRI.SANCTIONED.AMOUNT',\n",
    "       'PRI.DISBURSED.AMOUNT', 'SEC.NO.OF.ACCTS', 'SEC.ACTIVE.ACCTS',\n",
    "       'SEC.OVERDUE.ACCTS', 'SEC.CURRENT.BALANCE', 'SEC.SANCTIONED.AMOUNT',\n",
    "       'SEC.DISBURSED.AMOUNT', 'SEC.INSTAL.AMT',\n",
    "       'NEW.ACCTS.IN.LAST.SIX.MONTHS', 'DELINQUENT.ACCTS.IN.LAST.SIX.MONTHS',]\n",
    "\n",
    "\n",
    "    \n",
    "var = ['Current_pincode_ID','branch_id','supplier_id','manufacturer_id','State_ID','Employee_code_ID']\n",
    "# temp2 = data.pivot_table(values='ltv',index=['Current_pincode_ID'],aggfunc=np.std)\n",
    "# # temp2.plot(kind='bar')\n",
    "# temp2.reset_index(inplace=True)\n",
    "# temp2.columns = ['Current_pincode_ID', 'ltv_stdev']\n",
    "for ftname in ft_name:\n",
    "    for var_name in var:\n",
    "        temp3 = data.pivot_table(values=ftname,index=[var_name],aggfunc=np.mean)\n",
    "        # temp2.plot(kind='bar')\n",
    "        temp3.reset_index(inplace=True)\n",
    "        temp3.columns = [var_name, var_name+'_'+ftname+'_mean']\n",
    "        data = data.merge(temp3,on=var_name, how = 'left')\n",
    "        data[var_name+'_stdev'] = data[ftname]-data[var_name+'_'+ftname+'_mean']\n",
    "\n",
    "        # df = pd.concat([temp2,temp3],axis=1)"
   ]
  },
  {
   "cell_type": "code",
   "execution_count": null,
   "metadata": {},
   "outputs": [],
   "source": [
    "# data = data.merge(temp3,on='Current_pincode_ID', how = 'left')"
   ]
  },
  {
   "cell_type": "code",
   "execution_count": null,
   "metadata": {},
   "outputs": [],
   "source": [
    "# data['ltv_stdev'] = data['ltv']-data['ltv_mean']"
   ]
  },
  {
   "cell_type": "code",
   "execution_count": null,
   "metadata": {},
   "outputs": [],
   "source": []
  },
  {
   "cell_type": "code",
   "execution_count": null,
   "metadata": {},
   "outputs": [],
   "source": []
  },
  {
   "cell_type": "code",
   "execution_count": null,
   "metadata": {},
   "outputs": [],
   "source": []
  },
  {
   "cell_type": "code",
   "execution_count": 26,
   "metadata": {},
   "outputs": [],
   "source": [
    "data['PERFORM_CNS.SCORE.DESCRIPTION'] = data['PERFORM_CNS.SCORE.DESCRIPTION'].replace(' ', '_', regex=True)"
   ]
  },
  {
   "cell_type": "code",
   "execution_count": 27,
   "metadata": {},
   "outputs": [],
   "source": [
    "#treat categorical variables\n",
    "from sklearn.preprocessing import OneHotEncoder\n",
    "\n",
    "d = pd.DataFrame()\n",
    "\n",
    "var_mod = ['Employment.Type','PERFORM_CNS.SCORE.DESCRIPTION']\n",
    "\n",
    "x = pd.get_dummies(data[var_mod])\n",
    "\n",
    "data  = data.drop(var_mod,axis=1)\n",
    "data = pd.concat([data,x], axis=1)\n",
    "    \n",
    "# for i in var_mod:\n",
    "#     print(i)\n",
    "# #     d[str(i)] \n",
    "#     dd = le.fit_transform(data.loc[:,i]).toarray()\n",
    "#     print(dd.shape)\n",
    "# d.dtypes\n"
   ]
  },
  {
   "cell_type": "code",
   "execution_count": 28,
   "metadata": {},
   "outputs": [
    {
     "data": {
      "text/plain": [
       "(345546, 202)"
      ]
     },
     "execution_count": 28,
     "metadata": {},
     "output_type": "execute_result"
    }
   ],
   "source": [
    "data.shape"
   ]
  },
  {
   "cell_type": "code",
   "execution_count": null,
   "metadata": {},
   "outputs": [],
   "source": [
    "data['ltv'].hist(bins=50)\n",
    "plt.show()"
   ]
  },
  {
   "cell_type": "code",
   "execution_count": null,
   "metadata": {},
   "outputs": [],
   "source": [
    "(data['ltv']**2).hist(bins=50)\n",
    "plt.show()"
   ]
  },
  {
   "cell_type": "code",
   "execution_count": null,
   "metadata": {},
   "outputs": [],
   "source": [
    "(data['ltv']**1/3).hist(bins=50)\n",
    "plt.show()"
   ]
  },
  {
   "cell_type": "code",
   "execution_count": 30,
   "metadata": {},
   "outputs": [],
   "source": [
    "data['log_disbursed_amount'] = np.log(data['disbursed_amount'])\n",
    "data['log_asset_cost'] = np.log(data['asset_cost'])"
   ]
  },
  {
   "cell_type": "code",
   "execution_count": 31,
   "metadata": {},
   "outputs": [],
   "source": [
    "data['ltv_squared'] = data['ltv']**2"
   ]
  },
  {
   "cell_type": "code",
   "execution_count": null,
   "metadata": {},
   "outputs": [],
   "source": []
  },
  {
   "cell_type": "code",
   "execution_count": 32,
   "metadata": {},
   "outputs": [],
   "source": [
    "data['DisbursalDate_month'] = data['DisbursalDate'].map(lambda x : int(x.split('-')[1]))\n",
    "data['DisbursalDate_dayofmonth'] = data['DisbursalDate'].map(lambda x : int(x.split('-')[0]))"
   ]
  },
  {
   "cell_type": "code",
   "execution_count": null,
   "metadata": {},
   "outputs": [],
   "source": []
  },
  {
   "cell_type": "code",
   "execution_count": null,
   "metadata": {},
   "outputs": [],
   "source": [
    "type(data['AVERAGE.ACCT.AGE'][0])"
   ]
  },
  {
   "cell_type": "code",
   "execution_count": null,
   "metadata": {},
   "outputs": [],
   "source": [
    "type(data['CREDIT.HISTORY.LENGTH'][0])"
   ]
  },
  {
   "cell_type": "code",
   "execution_count": 33,
   "metadata": {},
   "outputs": [],
   "source": [
    "train_df = data.loc[data['is_train']==1,:]\n",
    "train_df = train_df.drop(['is_train'],axis=1)"
   ]
  },
  {
   "cell_type": "code",
   "execution_count": 34,
   "metadata": {},
   "outputs": [],
   "source": [
    "test_df = data.loc[data['is_train']==0,:]\n",
    "test_df = test_df.drop(['is_train','loan_default'],axis=1)"
   ]
  },
  {
   "cell_type": "code",
   "execution_count": 35,
   "metadata": {},
   "outputs": [
    {
     "data": {
      "text/plain": [
       "index                                                                                    0\n",
       "UniqueID                                                                                 0\n",
       "disbursed_amount                                                                         0\n",
       "asset_cost                                                                               0\n",
       "ltv                                                                                      0\n",
       "branch_id                                                                                0\n",
       "supplier_id                                                                              0\n",
       "manufacturer_id                                                                          0\n",
       "Current_pincode_ID                                                                       0\n",
       "Date.of.Birth                                                                            0\n",
       "DisbursalDate                                                                            0\n",
       "State_ID                                                                                 0\n",
       "Employee_code_ID                                                                         0\n",
       "MobileNo_Avl_Flag                                                                        0\n",
       "Aadhar_flag                                                                              0\n",
       "PAN_flag                                                                                 0\n",
       "VoterID_flag                                                                             0\n",
       "Driving_flag                                                                             0\n",
       "Passport_flag                                                                            0\n",
       "PERFORM_CNS.SCORE                                                                        0\n",
       "PRI.NO.OF.ACCTS                                                                          0\n",
       "PRI.ACTIVE.ACCTS                                                                         0\n",
       "PRI.OVERDUE.ACCTS                                                                        0\n",
       "PRI.CURRENT.BALANCE                                                                      0\n",
       "PRI.SANCTIONED.AMOUNT                                                                    0\n",
       "PRI.DISBURSED.AMOUNT                                                                     0\n",
       "SEC.NO.OF.ACCTS                                                                          0\n",
       "SEC.ACTIVE.ACCTS                                                                         0\n",
       "SEC.OVERDUE.ACCTS                                                                        0\n",
       "SEC.CURRENT.BALANCE                                                                      0\n",
       "                                                                                        ..\n",
       "manufacturer_id_DELINQUENT.ACCTS.IN.LAST.SIX.MONTHS_mean                                 0\n",
       "State_ID_DELINQUENT.ACCTS.IN.LAST.SIX.MONTHS_mean                                        0\n",
       "Employee_code_ID_DELINQUENT.ACCTS.IN.LAST.SIX.MONTHS_mean                                0\n",
       "Employment.Type_Salaried                                                                 0\n",
       "Employment.Type_Self employed                                                            0\n",
       "PERFORM_CNS.SCORE.DESCRIPTION_A-Very_Low_Risk                                            0\n",
       "PERFORM_CNS.SCORE.DESCRIPTION_B-Very_Low_Risk                                            0\n",
       "PERFORM_CNS.SCORE.DESCRIPTION_C-Very_Low_Risk                                            0\n",
       "PERFORM_CNS.SCORE.DESCRIPTION_D-Very_Low_Risk                                            0\n",
       "PERFORM_CNS.SCORE.DESCRIPTION_E-Low_Risk                                                 0\n",
       "PERFORM_CNS.SCORE.DESCRIPTION_F-Low_Risk                                                 0\n",
       "PERFORM_CNS.SCORE.DESCRIPTION_G-Low_Risk                                                 0\n",
       "PERFORM_CNS.SCORE.DESCRIPTION_H-Medium_Risk                                              0\n",
       "PERFORM_CNS.SCORE.DESCRIPTION_I-Medium_Risk                                              0\n",
       "PERFORM_CNS.SCORE.DESCRIPTION_J-High_Risk                                                0\n",
       "PERFORM_CNS.SCORE.DESCRIPTION_K-High_Risk                                                0\n",
       "PERFORM_CNS.SCORE.DESCRIPTION_L-Very_High_Risk                                           0\n",
       "PERFORM_CNS.SCORE.DESCRIPTION_M-Very_High_Risk                                           0\n",
       "PERFORM_CNS.SCORE.DESCRIPTION_No_Bureau_History_Available                                0\n",
       "PERFORM_CNS.SCORE.DESCRIPTION_Not_Scored:_More_than_50_active_Accounts_found             0\n",
       "PERFORM_CNS.SCORE.DESCRIPTION_Not_Scored:_No_Activity_seen_on_the_customer_(Inactive)    0\n",
       "PERFORM_CNS.SCORE.DESCRIPTION_Not_Scored:_No_Updates_available_in_last_36_months         0\n",
       "PERFORM_CNS.SCORE.DESCRIPTION_Not_Scored:_Not_Enough_Info_available_on_the_customer      0\n",
       "PERFORM_CNS.SCORE.DESCRIPTION_Not_Scored:_Only_a_Guarantor                               0\n",
       "PERFORM_CNS.SCORE.DESCRIPTION_Not_Scored:_Sufficient_History_Not_Available               0\n",
       "log_disbursed_amount                                                                     0\n",
       "log_asset_cost                                                                           0\n",
       "ltv_squared                                                                              0\n",
       "DisbursalDate_month                                                                      0\n",
       "DisbursalDate_dayofmonth                                                                 0\n",
       "Length: 206, dtype: int64"
      ]
     },
     "execution_count": 35,
     "metadata": {},
     "output_type": "execute_result"
    }
   ],
   "source": [
    "train_df.apply(lambda x: sum(x.isnull()),axis=0)"
   ]
  },
  {
   "cell_type": "code",
   "execution_count": null,
   "metadata": {},
   "outputs": [],
   "source": [
    "test_df.apply(lambda x: sum(x.isnull()),axis=0)"
   ]
  },
  {
   "cell_type": "code",
   "execution_count": 36,
   "metadata": {},
   "outputs": [
    {
     "data": {
      "text/plain": [
       "((233154, 206), (112392, 205))"
      ]
     },
     "execution_count": 36,
     "metadata": {},
     "output_type": "execute_result"
    }
   ],
   "source": [
    "train_df.shape,test_df.shape"
   ]
  },
  {
   "cell_type": "code",
   "execution_count": 37,
   "metadata": {},
   "outputs": [
    {
     "data": {
      "text/plain": [
       "['index',\n",
       " 'UniqueID',\n",
       " 'disbursed_amount',\n",
       " 'asset_cost',\n",
       " 'ltv',\n",
       " 'branch_id',\n",
       " 'supplier_id',\n",
       " 'manufacturer_id',\n",
       " 'Current_pincode_ID',\n",
       " 'Date.of.Birth',\n",
       " 'DisbursalDate',\n",
       " 'State_ID',\n",
       " 'Employee_code_ID',\n",
       " 'MobileNo_Avl_Flag',\n",
       " 'Aadhar_flag',\n",
       " 'PAN_flag',\n",
       " 'VoterID_flag',\n",
       " 'Driving_flag',\n",
       " 'Passport_flag',\n",
       " 'PERFORM_CNS.SCORE',\n",
       " 'PRI.NO.OF.ACCTS',\n",
       " 'PRI.ACTIVE.ACCTS',\n",
       " 'PRI.OVERDUE.ACCTS',\n",
       " 'PRI.CURRENT.BALANCE',\n",
       " 'PRI.SANCTIONED.AMOUNT',\n",
       " 'PRI.DISBURSED.AMOUNT',\n",
       " 'SEC.NO.OF.ACCTS',\n",
       " 'SEC.ACTIVE.ACCTS',\n",
       " 'SEC.OVERDUE.ACCTS',\n",
       " 'SEC.CURRENT.BALANCE',\n",
       " 'SEC.SANCTIONED.AMOUNT',\n",
       " 'SEC.DISBURSED.AMOUNT',\n",
       " 'PRIMARY.INSTAL.AMT',\n",
       " 'SEC.INSTAL.AMT',\n",
       " 'NEW.ACCTS.IN.LAST.SIX.MONTHS',\n",
       " 'DELINQUENT.ACCTS.IN.LAST.SIX.MONTHS',\n",
       " 'AVERAGE.ACCT.AGE',\n",
       " 'CREDIT.HISTORY.LENGTH',\n",
       " 'NO.OF_INQUIRIES',\n",
       " 'loan_default',\n",
       " 'branch_id_loan_default_mean',\n",
       " 'State_ID_loan_default_mean',\n",
       " 'branch_id_loan_default_sum',\n",
       " 'State_ID_loan_default_sum',\n",
       " 'CREDIT.HISTORY.LENGTH.YEARS',\n",
       " 'CREDIT.HISTORY.LENGTH.MONTHS',\n",
       " 'CREDIT.HISTORY.LENGTH.TOTMONS',\n",
       " 'AVERAGE.ACCT.AGE.YEARS',\n",
       " 'AVERAGE.ACCT.AGE.MONTHS',\n",
       " 'AVERAGE.ACCT.AGE.TOTMONS',\n",
       " 'Date.of.Birth.YEAR',\n",
       " 'Date.of.Birth.YEAR.conv',\n",
       " 'Date.of.Birth.AGE',\n",
       " 'Current_pincode_ID_disbursed_amount_mean',\n",
       " 'Current_pincode_ID_stdev',\n",
       " 'branch_id_disbursed_amount_mean',\n",
       " 'branch_id_stdev',\n",
       " 'supplier_id_disbursed_amount_mean',\n",
       " 'supplier_id_stdev',\n",
       " 'manufacturer_id_disbursed_amount_mean',\n",
       " 'manufacturer_id_stdev',\n",
       " 'State_ID_disbursed_amount_mean',\n",
       " 'State_ID_stdev',\n",
       " 'Employee_code_ID_disbursed_amount_mean',\n",
       " 'Employee_code_ID_stdev',\n",
       " 'Current_pincode_ID_asset_cost_mean',\n",
       " 'branch_id_asset_cost_mean',\n",
       " 'supplier_id_asset_cost_mean',\n",
       " 'manufacturer_id_asset_cost_mean',\n",
       " 'State_ID_asset_cost_mean',\n",
       " 'Employee_code_ID_asset_cost_mean',\n",
       " 'Current_pincode_ID_ltv_mean',\n",
       " 'branch_id_ltv_mean',\n",
       " 'supplier_id_ltv_mean',\n",
       " 'manufacturer_id_ltv_mean',\n",
       " 'State_ID_ltv_mean',\n",
       " 'Employee_code_ID_ltv_mean',\n",
       " 'Current_pincode_ID_PERFORM_CNS.SCORE_mean',\n",
       " 'branch_id_PERFORM_CNS.SCORE_mean',\n",
       " 'supplier_id_PERFORM_CNS.SCORE_mean',\n",
       " 'manufacturer_id_PERFORM_CNS.SCORE_mean',\n",
       " 'State_ID_PERFORM_CNS.SCORE_mean',\n",
       " 'Employee_code_ID_PERFORM_CNS.SCORE_mean',\n",
       " 'Current_pincode_ID_PRIMARY.INSTAL.AMT_mean',\n",
       " 'branch_id_PRIMARY.INSTAL.AMT_mean',\n",
       " 'supplier_id_PRIMARY.INSTAL.AMT_mean',\n",
       " 'manufacturer_id_PRIMARY.INSTAL.AMT_mean',\n",
       " 'State_ID_PRIMARY.INSTAL.AMT_mean',\n",
       " 'Employee_code_ID_PRIMARY.INSTAL.AMT_mean',\n",
       " 'Current_pincode_ID_PRI.NO.OF.ACCTS_mean',\n",
       " 'branch_id_PRI.NO.OF.ACCTS_mean',\n",
       " 'supplier_id_PRI.NO.OF.ACCTS_mean',\n",
       " 'manufacturer_id_PRI.NO.OF.ACCTS_mean',\n",
       " 'State_ID_PRI.NO.OF.ACCTS_mean',\n",
       " 'Employee_code_ID_PRI.NO.OF.ACCTS_mean',\n",
       " 'Current_pincode_ID_PRI.ACTIVE.ACCTS_mean',\n",
       " 'branch_id_PRI.ACTIVE.ACCTS_mean',\n",
       " 'supplier_id_PRI.ACTIVE.ACCTS_mean',\n",
       " 'manufacturer_id_PRI.ACTIVE.ACCTS_mean',\n",
       " 'State_ID_PRI.ACTIVE.ACCTS_mean',\n",
       " 'Employee_code_ID_PRI.ACTIVE.ACCTS_mean',\n",
       " 'Current_pincode_ID_PRI.OVERDUE.ACCTS_mean',\n",
       " 'branch_id_PRI.OVERDUE.ACCTS_mean',\n",
       " 'supplier_id_PRI.OVERDUE.ACCTS_mean',\n",
       " 'manufacturer_id_PRI.OVERDUE.ACCTS_mean',\n",
       " 'State_ID_PRI.OVERDUE.ACCTS_mean',\n",
       " 'Employee_code_ID_PRI.OVERDUE.ACCTS_mean',\n",
       " 'Current_pincode_ID_PRI.CURRENT.BALANCE_mean',\n",
       " 'branch_id_PRI.CURRENT.BALANCE_mean',\n",
       " 'supplier_id_PRI.CURRENT.BALANCE_mean',\n",
       " 'manufacturer_id_PRI.CURRENT.BALANCE_mean',\n",
       " 'State_ID_PRI.CURRENT.BALANCE_mean',\n",
       " 'Employee_code_ID_PRI.CURRENT.BALANCE_mean',\n",
       " 'Current_pincode_ID_PRI.SANCTIONED.AMOUNT_mean',\n",
       " 'branch_id_PRI.SANCTIONED.AMOUNT_mean',\n",
       " 'supplier_id_PRI.SANCTIONED.AMOUNT_mean',\n",
       " 'manufacturer_id_PRI.SANCTIONED.AMOUNT_mean',\n",
       " 'State_ID_PRI.SANCTIONED.AMOUNT_mean',\n",
       " 'Employee_code_ID_PRI.SANCTIONED.AMOUNT_mean',\n",
       " 'Current_pincode_ID_PRI.DISBURSED.AMOUNT_mean',\n",
       " 'branch_id_PRI.DISBURSED.AMOUNT_mean',\n",
       " 'supplier_id_PRI.DISBURSED.AMOUNT_mean',\n",
       " 'manufacturer_id_PRI.DISBURSED.AMOUNT_mean',\n",
       " 'State_ID_PRI.DISBURSED.AMOUNT_mean',\n",
       " 'Employee_code_ID_PRI.DISBURSED.AMOUNT_mean',\n",
       " 'Current_pincode_ID_SEC.NO.OF.ACCTS_mean',\n",
       " 'branch_id_SEC.NO.OF.ACCTS_mean',\n",
       " 'supplier_id_SEC.NO.OF.ACCTS_mean',\n",
       " 'manufacturer_id_SEC.NO.OF.ACCTS_mean',\n",
       " 'State_ID_SEC.NO.OF.ACCTS_mean',\n",
       " 'Employee_code_ID_SEC.NO.OF.ACCTS_mean',\n",
       " 'Current_pincode_ID_SEC.ACTIVE.ACCTS_mean',\n",
       " 'branch_id_SEC.ACTIVE.ACCTS_mean',\n",
       " 'supplier_id_SEC.ACTIVE.ACCTS_mean',\n",
       " 'manufacturer_id_SEC.ACTIVE.ACCTS_mean',\n",
       " 'State_ID_SEC.ACTIVE.ACCTS_mean',\n",
       " 'Employee_code_ID_SEC.ACTIVE.ACCTS_mean',\n",
       " 'Current_pincode_ID_SEC.OVERDUE.ACCTS_mean',\n",
       " 'branch_id_SEC.OVERDUE.ACCTS_mean',\n",
       " 'supplier_id_SEC.OVERDUE.ACCTS_mean',\n",
       " 'manufacturer_id_SEC.OVERDUE.ACCTS_mean',\n",
       " 'State_ID_SEC.OVERDUE.ACCTS_mean',\n",
       " 'Employee_code_ID_SEC.OVERDUE.ACCTS_mean',\n",
       " 'Current_pincode_ID_SEC.CURRENT.BALANCE_mean',\n",
       " 'branch_id_SEC.CURRENT.BALANCE_mean',\n",
       " 'supplier_id_SEC.CURRENT.BALANCE_mean',\n",
       " 'manufacturer_id_SEC.CURRENT.BALANCE_mean',\n",
       " 'State_ID_SEC.CURRENT.BALANCE_mean',\n",
       " 'Employee_code_ID_SEC.CURRENT.BALANCE_mean',\n",
       " 'Current_pincode_ID_SEC.SANCTIONED.AMOUNT_mean',\n",
       " 'branch_id_SEC.SANCTIONED.AMOUNT_mean',\n",
       " 'supplier_id_SEC.SANCTIONED.AMOUNT_mean',\n",
       " 'manufacturer_id_SEC.SANCTIONED.AMOUNT_mean',\n",
       " 'State_ID_SEC.SANCTIONED.AMOUNT_mean',\n",
       " 'Employee_code_ID_SEC.SANCTIONED.AMOUNT_mean',\n",
       " 'Current_pincode_ID_SEC.DISBURSED.AMOUNT_mean',\n",
       " 'branch_id_SEC.DISBURSED.AMOUNT_mean',\n",
       " 'supplier_id_SEC.DISBURSED.AMOUNT_mean',\n",
       " 'manufacturer_id_SEC.DISBURSED.AMOUNT_mean',\n",
       " 'State_ID_SEC.DISBURSED.AMOUNT_mean',\n",
       " 'Employee_code_ID_SEC.DISBURSED.AMOUNT_mean',\n",
       " 'Current_pincode_ID_SEC.INSTAL.AMT_mean',\n",
       " 'branch_id_SEC.INSTAL.AMT_mean',\n",
       " 'supplier_id_SEC.INSTAL.AMT_mean',\n",
       " 'manufacturer_id_SEC.INSTAL.AMT_mean',\n",
       " 'State_ID_SEC.INSTAL.AMT_mean',\n",
       " 'Employee_code_ID_SEC.INSTAL.AMT_mean',\n",
       " 'Current_pincode_ID_NEW.ACCTS.IN.LAST.SIX.MONTHS_mean',\n",
       " 'branch_id_NEW.ACCTS.IN.LAST.SIX.MONTHS_mean',\n",
       " 'supplier_id_NEW.ACCTS.IN.LAST.SIX.MONTHS_mean',\n",
       " 'manufacturer_id_NEW.ACCTS.IN.LAST.SIX.MONTHS_mean',\n",
       " 'State_ID_NEW.ACCTS.IN.LAST.SIX.MONTHS_mean',\n",
       " 'Employee_code_ID_NEW.ACCTS.IN.LAST.SIX.MONTHS_mean',\n",
       " 'Current_pincode_ID_DELINQUENT.ACCTS.IN.LAST.SIX.MONTHS_mean',\n",
       " 'branch_id_DELINQUENT.ACCTS.IN.LAST.SIX.MONTHS_mean',\n",
       " 'supplier_id_DELINQUENT.ACCTS.IN.LAST.SIX.MONTHS_mean',\n",
       " 'manufacturer_id_DELINQUENT.ACCTS.IN.LAST.SIX.MONTHS_mean',\n",
       " 'State_ID_DELINQUENT.ACCTS.IN.LAST.SIX.MONTHS_mean',\n",
       " 'Employee_code_ID_DELINQUENT.ACCTS.IN.LAST.SIX.MONTHS_mean',\n",
       " 'Employment.Type_Salaried',\n",
       " 'Employment.Type_Self employed',\n",
       " 'PERFORM_CNS.SCORE.DESCRIPTION_A-Very_Low_Risk',\n",
       " 'PERFORM_CNS.SCORE.DESCRIPTION_B-Very_Low_Risk',\n",
       " 'PERFORM_CNS.SCORE.DESCRIPTION_C-Very_Low_Risk',\n",
       " 'PERFORM_CNS.SCORE.DESCRIPTION_D-Very_Low_Risk',\n",
       " 'PERFORM_CNS.SCORE.DESCRIPTION_E-Low_Risk',\n",
       " 'PERFORM_CNS.SCORE.DESCRIPTION_F-Low_Risk',\n",
       " 'PERFORM_CNS.SCORE.DESCRIPTION_G-Low_Risk',\n",
       " 'PERFORM_CNS.SCORE.DESCRIPTION_H-Medium_Risk',\n",
       " 'PERFORM_CNS.SCORE.DESCRIPTION_I-Medium_Risk',\n",
       " 'PERFORM_CNS.SCORE.DESCRIPTION_J-High_Risk',\n",
       " 'PERFORM_CNS.SCORE.DESCRIPTION_K-High_Risk',\n",
       " 'PERFORM_CNS.SCORE.DESCRIPTION_L-Very_High_Risk',\n",
       " 'PERFORM_CNS.SCORE.DESCRIPTION_M-Very_High_Risk',\n",
       " 'PERFORM_CNS.SCORE.DESCRIPTION_No_Bureau_History_Available',\n",
       " 'PERFORM_CNS.SCORE.DESCRIPTION_Not_Scored:_More_than_50_active_Accounts_found',\n",
       " 'PERFORM_CNS.SCORE.DESCRIPTION_Not_Scored:_No_Activity_seen_on_the_customer_(Inactive)',\n",
       " 'PERFORM_CNS.SCORE.DESCRIPTION_Not_Scored:_No_Updates_available_in_last_36_months',\n",
       " 'PERFORM_CNS.SCORE.DESCRIPTION_Not_Scored:_Not_Enough_Info_available_on_the_customer',\n",
       " 'PERFORM_CNS.SCORE.DESCRIPTION_Not_Scored:_Only_a_Guarantor',\n",
       " 'PERFORM_CNS.SCORE.DESCRIPTION_Not_Scored:_Sufficient_History_Not_Available',\n",
       " 'log_disbursed_amount',\n",
       " 'log_asset_cost',\n",
       " 'ltv_squared',\n",
       " 'DisbursalDate_month',\n",
       " 'DisbursalDate_dayofmonth']"
      ]
     },
     "execution_count": 37,
     "metadata": {},
     "output_type": "execute_result"
    }
   ],
   "source": [
    "list(train_df.columns)"
   ]
  },
  {
   "cell_type": "code",
   "execution_count": 38,
   "metadata": {},
   "outputs": [],
   "source": [
    "predictors = [\n",
    " 'disbursed_amount',\n",
    " 'asset_cost',\n",
    " 'ltv',\n",
    " 'branch_id',\n",
    " 'supplier_id',\n",
    " 'manufacturer_id',\n",
    " 'Current_pincode_ID',\n",
    " 'State_ID',\n",
    " 'Employee_code_ID',\n",
    " 'MobileNo_Avl_Flag',\n",
    " 'Aadhar_flag',\n",
    " 'PAN_flag',\n",
    " 'VoterID_flag',\n",
    " 'Driving_flag',\n",
    " 'Passport_flag',\n",
    " 'PERFORM_CNS.SCORE',\n",
    " 'PRI.NO.OF.ACCTS',\n",
    " 'PRI.ACTIVE.ACCTS',\n",
    " 'PRI.OVERDUE.ACCTS',\n",
    " 'PRI.CURRENT.BALANCE',\n",
    " 'PRI.SANCTIONED.AMOUNT',\n",
    " 'PRI.DISBURSED.AMOUNT',\n",
    " 'SEC.NO.OF.ACCTS',\n",
    " 'SEC.ACTIVE.ACCTS',\n",
    " 'SEC.OVERDUE.ACCTS',\n",
    " 'SEC.CURRENT.BALANCE',\n",
    " 'SEC.SANCTIONED.AMOUNT',\n",
    " 'SEC.DISBURSED.AMOUNT',\n",
    " 'PRIMARY.INSTAL.AMT',\n",
    " 'SEC.INSTAL.AMT',\n",
    " 'NEW.ACCTS.IN.LAST.SIX.MONTHS',\n",
    " 'DELINQUENT.ACCTS.IN.LAST.SIX.MONTHS',\n",
    " 'NO.OF_INQUIRIES',\n",
    " 'branch_id_loan_default_mean',\n",
    " 'State_ID_loan_default_mean',\n",
    " 'branch_id_loan_default_sum',\n",
    " 'State_ID_loan_default_sum',\n",
    " 'CREDIT.HISTORY.LENGTH.YEARS',\n",
    " 'CREDIT.HISTORY.LENGTH.MONTHS',\n",
    " 'CREDIT.HISTORY.LENGTH.TOTMONS',\n",
    " 'AVERAGE.ACCT.AGE.YEARS',\n",
    " 'AVERAGE.ACCT.AGE.MONTHS',\n",
    " 'AVERAGE.ACCT.AGE.TOTMONS',\n",
    " 'Date.of.Birth.YEAR',\n",
    " 'Date.of.Birth.YEAR.conv',\n",
    " 'Date.of.Birth.AGE',\n",
    " 'Current_pincode_ID_disbursed_amount_mean',\n",
    " 'Current_pincode_ID_stdev',\n",
    " 'branch_id_disbursed_amount_mean',\n",
    " 'branch_id_stdev',\n",
    " 'supplier_id_disbursed_amount_mean',\n",
    " 'supplier_id_stdev',\n",
    " 'manufacturer_id_disbursed_amount_mean',\n",
    " 'manufacturer_id_stdev',\n",
    " 'State_ID_disbursed_amount_mean',\n",
    " 'State_ID_stdev',\n",
    " 'Employee_code_ID_disbursed_amount_mean',\n",
    " 'Employee_code_ID_stdev',\n",
    " 'Current_pincode_ID_asset_cost_mean',\n",
    " 'branch_id_asset_cost_mean',\n",
    " 'supplier_id_asset_cost_mean',\n",
    " 'manufacturer_id_asset_cost_mean',\n",
    " 'State_ID_asset_cost_mean',\n",
    " 'Employee_code_ID_asset_cost_mean',\n",
    " 'Current_pincode_ID_ltv_mean',\n",
    " 'branch_id_ltv_mean',\n",
    " 'supplier_id_ltv_mean',\n",
    " 'manufacturer_id_ltv_mean',\n",
    " 'State_ID_ltv_mean',\n",
    " 'Employee_code_ID_ltv_mean',\n",
    " 'Current_pincode_ID_PERFORM_CNS.SCORE_mean',\n",
    " 'branch_id_PERFORM_CNS.SCORE_mean',\n",
    " 'supplier_id_PERFORM_CNS.SCORE_mean',\n",
    " 'manufacturer_id_PERFORM_CNS.SCORE_mean',\n",
    " 'State_ID_PERFORM_CNS.SCORE_mean',\n",
    " 'Employee_code_ID_PERFORM_CNS.SCORE_mean',\n",
    " 'Current_pincode_ID_PRIMARY.INSTAL.AMT_mean',\n",
    " 'branch_id_PRIMARY.INSTAL.AMT_mean',\n",
    " 'supplier_id_PRIMARY.INSTAL.AMT_mean',\n",
    " 'manufacturer_id_PRIMARY.INSTAL.AMT_mean',\n",
    " 'State_ID_PRIMARY.INSTAL.AMT_mean',\n",
    " 'Employee_code_ID_PRIMARY.INSTAL.AMT_mean',\n",
    " 'Current_pincode_ID_PRI.NO.OF.ACCTS_mean',\n",
    " 'branch_id_PRI.NO.OF.ACCTS_mean',\n",
    " 'supplier_id_PRI.NO.OF.ACCTS_mean',\n",
    " 'manufacturer_id_PRI.NO.OF.ACCTS_mean',\n",
    " 'State_ID_PRI.NO.OF.ACCTS_mean',\n",
    " 'Employee_code_ID_PRI.NO.OF.ACCTS_mean',\n",
    " 'Current_pincode_ID_PRI.ACTIVE.ACCTS_mean',\n",
    " 'branch_id_PRI.ACTIVE.ACCTS_mean',\n",
    " 'supplier_id_PRI.ACTIVE.ACCTS_mean',\n",
    " 'manufacturer_id_PRI.ACTIVE.ACCTS_mean',\n",
    " 'State_ID_PRI.ACTIVE.ACCTS_mean',\n",
    " 'Employee_code_ID_PRI.ACTIVE.ACCTS_mean',\n",
    " 'Current_pincode_ID_PRI.OVERDUE.ACCTS_mean',\n",
    " 'branch_id_PRI.OVERDUE.ACCTS_mean',\n",
    " 'supplier_id_PRI.OVERDUE.ACCTS_mean',\n",
    " 'manufacturer_id_PRI.OVERDUE.ACCTS_mean',\n",
    " 'State_ID_PRI.OVERDUE.ACCTS_mean',\n",
    " 'Employee_code_ID_PRI.OVERDUE.ACCTS_mean',\n",
    " 'Current_pincode_ID_PRI.CURRENT.BALANCE_mean',\n",
    " 'branch_id_PRI.CURRENT.BALANCE_mean',\n",
    " 'supplier_id_PRI.CURRENT.BALANCE_mean',\n",
    " 'manufacturer_id_PRI.CURRENT.BALANCE_mean',\n",
    " 'State_ID_PRI.CURRENT.BALANCE_mean',\n",
    " 'Employee_code_ID_PRI.CURRENT.BALANCE_mean',\n",
    " 'Current_pincode_ID_PRI.SANCTIONED.AMOUNT_mean',\n",
    " 'branch_id_PRI.SANCTIONED.AMOUNT_mean',\n",
    " 'supplier_id_PRI.SANCTIONED.AMOUNT_mean',\n",
    " 'manufacturer_id_PRI.SANCTIONED.AMOUNT_mean',\n",
    " 'State_ID_PRI.SANCTIONED.AMOUNT_mean',\n",
    " 'Employee_code_ID_PRI.SANCTIONED.AMOUNT_mean',\n",
    " 'Current_pincode_ID_PRI.DISBURSED.AMOUNT_mean',\n",
    " 'branch_id_PRI.DISBURSED.AMOUNT_mean',\n",
    " 'supplier_id_PRI.DISBURSED.AMOUNT_mean',\n",
    " 'manufacturer_id_PRI.DISBURSED.AMOUNT_mean',\n",
    " 'State_ID_PRI.DISBURSED.AMOUNT_mean',\n",
    " 'Employee_code_ID_PRI.DISBURSED.AMOUNT_mean',\n",
    " 'Current_pincode_ID_SEC.NO.OF.ACCTS_mean',\n",
    " 'branch_id_SEC.NO.OF.ACCTS_mean',\n",
    " 'supplier_id_SEC.NO.OF.ACCTS_mean',\n",
    " 'manufacturer_id_SEC.NO.OF.ACCTS_mean',\n",
    " 'State_ID_SEC.NO.OF.ACCTS_mean',\n",
    " 'Employee_code_ID_SEC.NO.OF.ACCTS_mean',\n",
    " 'Current_pincode_ID_SEC.ACTIVE.ACCTS_mean',\n",
    " 'branch_id_SEC.ACTIVE.ACCTS_mean',\n",
    " 'supplier_id_SEC.ACTIVE.ACCTS_mean',\n",
    " 'manufacturer_id_SEC.ACTIVE.ACCTS_mean',\n",
    " 'State_ID_SEC.ACTIVE.ACCTS_mean',\n",
    " 'Employee_code_ID_SEC.ACTIVE.ACCTS_mean',\n",
    " 'Current_pincode_ID_SEC.OVERDUE.ACCTS_mean',\n",
    " 'branch_id_SEC.OVERDUE.ACCTS_mean',\n",
    " 'supplier_id_SEC.OVERDUE.ACCTS_mean',\n",
    " 'manufacturer_id_SEC.OVERDUE.ACCTS_mean',\n",
    " 'State_ID_SEC.OVERDUE.ACCTS_mean',\n",
    " 'Employee_code_ID_SEC.OVERDUE.ACCTS_mean',\n",
    " 'Current_pincode_ID_SEC.CURRENT.BALANCE_mean',\n",
    " 'branch_id_SEC.CURRENT.BALANCE_mean',\n",
    " 'supplier_id_SEC.CURRENT.BALANCE_mean',\n",
    " 'manufacturer_id_SEC.CURRENT.BALANCE_mean',\n",
    " 'State_ID_SEC.CURRENT.BALANCE_mean',\n",
    " 'Employee_code_ID_SEC.CURRENT.BALANCE_mean',\n",
    " 'Current_pincode_ID_SEC.SANCTIONED.AMOUNT_mean',\n",
    " 'branch_id_SEC.SANCTIONED.AMOUNT_mean',\n",
    " 'supplier_id_SEC.SANCTIONED.AMOUNT_mean',\n",
    " 'manufacturer_id_SEC.SANCTIONED.AMOUNT_mean',\n",
    " 'State_ID_SEC.SANCTIONED.AMOUNT_mean',\n",
    " 'Employee_code_ID_SEC.SANCTIONED.AMOUNT_mean',\n",
    " 'Current_pincode_ID_SEC.DISBURSED.AMOUNT_mean',\n",
    " 'branch_id_SEC.DISBURSED.AMOUNT_mean',\n",
    " 'supplier_id_SEC.DISBURSED.AMOUNT_mean',\n",
    " 'manufacturer_id_SEC.DISBURSED.AMOUNT_mean',\n",
    " 'State_ID_SEC.DISBURSED.AMOUNT_mean',\n",
    " 'Employee_code_ID_SEC.DISBURSED.AMOUNT_mean',\n",
    " 'Current_pincode_ID_SEC.INSTAL.AMT_mean',\n",
    " 'branch_id_SEC.INSTAL.AMT_mean',\n",
    " 'supplier_id_SEC.INSTAL.AMT_mean',\n",
    " 'manufacturer_id_SEC.INSTAL.AMT_mean',\n",
    " 'State_ID_SEC.INSTAL.AMT_mean',\n",
    " 'Employee_code_ID_SEC.INSTAL.AMT_mean',\n",
    " 'Current_pincode_ID_NEW.ACCTS.IN.LAST.SIX.MONTHS_mean',\n",
    " 'branch_id_NEW.ACCTS.IN.LAST.SIX.MONTHS_mean',\n",
    " 'supplier_id_NEW.ACCTS.IN.LAST.SIX.MONTHS_mean',\n",
    " 'manufacturer_id_NEW.ACCTS.IN.LAST.SIX.MONTHS_mean',\n",
    " 'State_ID_NEW.ACCTS.IN.LAST.SIX.MONTHS_mean',\n",
    " 'Employee_code_ID_NEW.ACCTS.IN.LAST.SIX.MONTHS_mean',\n",
    " 'Current_pincode_ID_DELINQUENT.ACCTS.IN.LAST.SIX.MONTHS_mean',\n",
    " 'branch_id_DELINQUENT.ACCTS.IN.LAST.SIX.MONTHS_mean',\n",
    " 'supplier_id_DELINQUENT.ACCTS.IN.LAST.SIX.MONTHS_mean',\n",
    " 'manufacturer_id_DELINQUENT.ACCTS.IN.LAST.SIX.MONTHS_mean',\n",
    " 'State_ID_DELINQUENT.ACCTS.IN.LAST.SIX.MONTHS_mean',\n",
    " 'Employee_code_ID_DELINQUENT.ACCTS.IN.LAST.SIX.MONTHS_mean',\n",
    " 'Employment.Type_Salaried',\n",
    " 'Employment.Type_Self employed',\n",
    " 'PERFORM_CNS.SCORE.DESCRIPTION_A-Very_Low_Risk',\n",
    " 'PERFORM_CNS.SCORE.DESCRIPTION_B-Very_Low_Risk',\n",
    " 'PERFORM_CNS.SCORE.DESCRIPTION_C-Very_Low_Risk',\n",
    " 'PERFORM_CNS.SCORE.DESCRIPTION_D-Very_Low_Risk',\n",
    " 'PERFORM_CNS.SCORE.DESCRIPTION_E-Low_Risk',\n",
    " 'PERFORM_CNS.SCORE.DESCRIPTION_F-Low_Risk',\n",
    " 'PERFORM_CNS.SCORE.DESCRIPTION_G-Low_Risk',\n",
    " 'PERFORM_CNS.SCORE.DESCRIPTION_H-Medium_Risk',\n",
    " 'PERFORM_CNS.SCORE.DESCRIPTION_I-Medium_Risk',\n",
    " 'PERFORM_CNS.SCORE.DESCRIPTION_J-High_Risk',\n",
    " 'PERFORM_CNS.SCORE.DESCRIPTION_K-High_Risk',\n",
    " 'PERFORM_CNS.SCORE.DESCRIPTION_L-Very_High_Risk',\n",
    " 'PERFORM_CNS.SCORE.DESCRIPTION_M-Very_High_Risk',\n",
    " 'PERFORM_CNS.SCORE.DESCRIPTION_No_Bureau_History_Available',\n",
    " 'PERFORM_CNS.SCORE.DESCRIPTION_Not_Scored:_More_than_50_active_Accounts_found',\n",
    " 'PERFORM_CNS.SCORE.DESCRIPTION_Not_Scored:_No_Activity_seen_on_the_customer_(Inactive)',\n",
    " 'PERFORM_CNS.SCORE.DESCRIPTION_Not_Scored:_No_Updates_available_in_last_36_months',\n",
    " 'PERFORM_CNS.SCORE.DESCRIPTION_Not_Scored:_Not_Enough_Info_available_on_the_customer',\n",
    " 'PERFORM_CNS.SCORE.DESCRIPTION_Not_Scored:_Only_a_Guarantor',\n",
    " 'PERFORM_CNS.SCORE.DESCRIPTION_Not_Scored:_Sufficient_History_Not_Available',\n",
    " 'log_disbursed_amount',\n",
    " 'log_asset_cost',\n",
    " 'ltv_squared',\n",
    " 'DisbursalDate_month',\n",
    " 'DisbursalDate_dayofmonth'\n",
    "             ]"
   ]
  },
  {
   "cell_type": "code",
   "execution_count": 39,
   "metadata": {},
   "outputs": [],
   "source": [
    "\n",
    "# predictors = ['disbursed_amount', 'asset_cost', 'ltv',\n",
    "# #        'branch_id', 'supplier_id', 'manufacturer_id', 'Current_pincode_ID',\n",
    "# #        'State_ID', 'Employee_code_ID',\n",
    "#        'MobileNo_Avl_Flag', 'Aadhar_flag', 'PAN_flag', 'VoterID_flag',\n",
    "#        'Driving_flag', 'Passport_flag', 'PERFORM_CNS.SCORE', 'PRI.NO.OF.ACCTS',\n",
    "#        'PRI.ACTIVE.ACCTS', 'PRI.OVERDUE.ACCTS', 'PRI.CURRENT.BALANCE',\n",
    "#        'PRI.SANCTIONED.AMOUNT', 'PRI.DISBURSED.AMOUNT', 'SEC.NO.OF.ACCTS',\n",
    "#        'SEC.ACTIVE.ACCTS', 'SEC.OVERDUE.ACCTS', 'SEC.CURRENT.BALANCE',\n",
    "#        'SEC.SANCTIONED.AMOUNT', 'SEC.DISBURSED.AMOUNT', 'PRIMARY.INSTAL.AMT',\n",
    "#        'SEC.INSTAL.AMT', 'NEW.ACCTS.IN.LAST.SIX.MONTHS',\n",
    "#        'DELINQUENT.ACCTS.IN.LAST.SIX.MONTHS', 'NO.OF_INQUIRIES',\n",
    "#        'CREDIT.HISTORY.LENGTH.YEARS', 'CREDIT.HISTORY.LENGTH.MONTHS',\n",
    "#        'CREDIT.HISTORY.LENGTH.TOTMONS', 'AVERAGE.ACCT.AGE.YEARS',\n",
    "#        'AVERAGE.ACCT.AGE.MONTHS', 'AVERAGE.ACCT.AGE.TOTMONS',\n",
    "#        'Date.of.Birth.YEAR', 'Date.of.Birth.YEAR.conv', 'Date.of.Birth.AGE',\n",
    "#        'Employment.Type_Salaried', 'Employment.Type_Self employed',\n",
    "#        'PERFORM_CNS.SCORE.DESCRIPTION_A-Very_Low_Risk',\n",
    "#        'PERFORM_CNS.SCORE.DESCRIPTION_B-Very_Low_Risk',\n",
    "#        'PERFORM_CNS.SCORE.DESCRIPTION_C-Very_Low_Risk',\n",
    "#        'PERFORM_CNS.SCORE.DESCRIPTION_D-Very_Low_Risk',\n",
    "#        'PERFORM_CNS.SCORE.DESCRIPTION_E-Low_Risk',\n",
    "#        'PERFORM_CNS.SCORE.DESCRIPTION_F-Low_Risk',\n",
    "#        'PERFORM_CNS.SCORE.DESCRIPTION_G-Low_Risk',\n",
    "#        'PERFORM_CNS.SCORE.DESCRIPTION_H-Medium_Risk',\n",
    "#        'PERFORM_CNS.SCORE.DESCRIPTION_I-Medium_Risk',\n",
    "#        'PERFORM_CNS.SCORE.DESCRIPTION_J-High_Risk',\n",
    "#        'PERFORM_CNS.SCORE.DESCRIPTION_K-High_Risk',\n",
    "#        'PERFORM_CNS.SCORE.DESCRIPTION_L-Very_High_Risk',\n",
    "#        'PERFORM_CNS.SCORE.DESCRIPTION_M-Very_High_Risk',\n",
    "#        'PERFORM_CNS.SCORE.DESCRIPTION_No_Bureau_History_Available',\n",
    "#        'PERFORM_CNS.SCORE.DESCRIPTION_Not_Scored:_More_than_50_active_Accounts_found',\n",
    "#        'PERFORM_CNS.SCORE.DESCRIPTION_Not_Scored:_No_Activity_seen_on_the_customer_(Inactive)',\n",
    "#        'PERFORM_CNS.SCORE.DESCRIPTION_Not_Scored:_No_Updates_available_in_last_36_months',\n",
    "#        'PERFORM_CNS.SCORE.DESCRIPTION_Not_Scored:_Not_Enough_Info_available_on_the_customer',\n",
    "#        'PERFORM_CNS.SCORE.DESCRIPTION_Not_Scored:_Only_a_Guarantor',\n",
    "#        'PERFORM_CNS.SCORE.DESCRIPTION_Not_Scored:_Sufficient_History_Not_Available',\n",
    "#        'log_disbursed_amount', 'log_asset_cost', 'DisbursalDate_month',\n",
    "#        'DisbursalDate_dayofmonth','Current_pincode_ID_disbursed_amount_mean',\n",
    "#  'Current_pincode_ID_stdev',\n",
    "#  'branch_id_disbursed_amount_mean',\n",
    "#  'branch_id_stdev',\n",
    "#  'supplier_id_disbursed_amount_mean',\n",
    "#  'supplier_id_stdev',\n",
    "#  'manufacturer_id_disbursed_amount_mean',\n",
    "#  'manufacturer_id_stdev',\n",
    "#  'State_ID_disbursed_amount_mean',\n",
    "#  'State_ID_stdev',\n",
    "#  'Employee_code_ID_disbursed_amount_mean',\n",
    "#  'Employee_code_ID_stdev',\n",
    "#  'Current_pincode_ID_asset_cost_mean',\n",
    "#  'branch_id_asset_cost_mean',\n",
    "#  'supplier_id_asset_cost_mean',\n",
    "#  'manufacturer_id_asset_cost_mean',\n",
    "#  'State_ID_asset_cost_mean',\n",
    "#  'Employee_code_ID_asset_cost_mean',\n",
    "#  'Current_pincode_ID_ltv_mean',\n",
    "#  'branch_id_ltv_mean',\n",
    "#  'supplier_id_ltv_mean',\n",
    "#  'manufacturer_id_ltv_mean',\n",
    "#  'State_ID_ltv_mean',\n",
    "#  'Employee_code_ID_ltv_mean',\n",
    "#  'Current_pincode_ID_PERFORM_CNS.SCORE_mean',\n",
    "#  'branch_id_PERFORM_CNS.SCORE_mean',\n",
    "#  'supplier_id_PERFORM_CNS.SCORE_mean',\n",
    "#  'manufacturer_id_PERFORM_CNS.SCORE_mean',\n",
    "#  'State_ID_PERFORM_CNS.SCORE_mean',\n",
    "#  'Employee_code_ID_PERFORM_CNS.SCORE_mean',\n",
    "#  'Current_pincode_ID_PRIMARY.INSTAL.AMT_mean',\n",
    "#  'branch_id_PRIMARY.INSTAL.AMT_mean',\n",
    "#  'supplier_id_PRIMARY.INSTAL.AMT_mean',\n",
    "#  'manufacturer_id_PRIMARY.INSTAL.AMT_mean',\n",
    "#  'State_ID_PRIMARY.INSTAL.AMT_mean',\n",
    "#  'Employee_code_ID_PRIMARY.INSTAL.AMT_mean','branch_id_loan_default_mean',\n",
    "#        'State_ID_loan_default_mean', 'branch_id_loan_default_sum',\n",
    "#        'State_ID_loan_default_sum']\n",
    "\n",
    "\n",
    "outcome = ['loan_default']"
   ]
  },
  {
   "cell_type": "code",
   "execution_count": 40,
   "metadata": {},
   "outputs": [],
   "source": [
    "from sklearn.model_selection import train_test_split\n",
    "\n",
    "X_train, X_validation, y_train, y_validation = train_test_split(train_df[predictors], train_df[outcome], test_size=0.3, random_state=1234)"
   ]
  },
  {
   "cell_type": "code",
   "execution_count": 41,
   "metadata": {},
   "outputs": [
    {
     "data": {
      "text/plain": [
       "((163207, 199), (69947, 199))"
      ]
     },
     "execution_count": 41,
     "metadata": {},
     "output_type": "execute_result"
    }
   ],
   "source": [
    "X_train.shape,X_validation.shape"
   ]
  },
  {
   "cell_type": "code",
   "execution_count": null,
   "metadata": {},
   "outputs": [],
   "source": []
  },
  {
   "cell_type": "code",
   "execution_count": 42,
   "metadata": {},
   "outputs": [],
   "source": [
    "import xgboost as xgb\n",
    "from xgboost.sklearn import XGBClassifier\n",
    "from sklearn.model_selection import cross_validate\n",
    "from sklearn import metrics \n",
    "from sklearn.model_selection import GridSearchCV   #Perforing grid search\n",
    "from sklearn.model_selection import cross_validate\n",
    "from sklearn.model_selection import KFold"
   ]
  },
  {
   "cell_type": "code",
   "execution_count": 43,
   "metadata": {},
   "outputs": [],
   "source": [
    "\n",
    "alg = XGBClassifier()"
   ]
  },
  {
   "cell_type": "code",
   "execution_count": null,
   "metadata": {},
   "outputs": [],
   "source": [
    "#kf = loo.split(X_train_std[predictor_var])\n",
    "kf = KFold(n_splits=10).split(X_train[['State_ID','branch_id']])\n",
    "# ['branch_id', 'supplier_id', 'manufacturer_id', 'Current_pincode_ID','State_ID', 'Employee_code_ID']\n",
    "error = []\n",
    "# yavg = pd.DataFrame()\n",
    "\n",
    "for train, test in kf:\n",
    "    # Filter training data\n",
    "    print(\"training stared\")\n",
    "    train_predictors = X_train[predictors].iloc[train,:]\n",
    "\n",
    "    # The target we're using to train the algorithm.\n",
    "    train_target = y_train.iloc[train].values\n",
    "\n",
    "    # Training the algorithm using the predictors and target.\n",
    "    alg.fit(train_predictors, train_target)\n",
    "    y1 = alg.predict(X_train[predictors].iloc[test,:])\n",
    "#     yavg = yavg.append(pd.Series(y1),ignore_index=True)\n",
    "\n",
    "    #Record error from each cross-validation run\n",
    "    error.append(metrics.roc_auc_score(y_train.iloc[test], y1))\n",
    "    print('score for current fold',metrics.roc_auc_score(y_train.iloc[test], y1))\n",
    "    print(\"training finished\")\n",
    "print (\"Cross-Validation AUC Score : %f\" % np.mean(error))\n"
   ]
  },
  {
   "cell_type": "code",
   "execution_count": null,
   "metadata": {},
   "outputs": [],
   "source": [
    "# metrics.roc_auc_score(y_train.iloc[test], )\n",
    "# np.transpose(yavg.loc[yavg['index']=='mean',:])[1:]\n",
    "y_train.shape"
   ]
  },
  {
   "cell_type": "code",
   "execution_count": null,
   "metadata": {},
   "outputs": [],
   "source": []
  },
  {
   "cell_type": "code",
   "execution_count": 44,
   "metadata": {},
   "outputs": [],
   "source": [
    "def modelfit(alg, dtrain,ytrain,dtest,ytest,test,sub_df, predictors,outcome_var,useTrainCV=True, cv_folds=5, early_stopping_rounds=50):\n",
    "    \n",
    "    if useTrainCV:\n",
    "        xgb_param = alg.get_xgb_params()\n",
    "        xgtrain = xgb.DMatrix(dtrain[predictors].values, label=ytrain.values)\n",
    "        cvresult = xgb.cv(xgb_param, xgtrain, num_boost_round=alg.get_params()['n_estimators'], nfold=cv_folds,\n",
    "            metrics='auc', early_stopping_rounds=early_stopping_rounds,verbose_eval=True,\n",
    "            show_stdv=True)\n",
    "        alg.set_params(n_estimators=cvresult.shape[0])\n",
    "    \n",
    "    #Fit the algorithm on the data\n",
    "    alg.fit(dtrain[predictors], ytrain,eval_metric='auc')\n",
    "        \n",
    "    #Predict training set:\n",
    "    dtrain_predictions = alg.predict(dtest[predictors])\n",
    "    dtrain_predprob = alg.predict_proba(dtest[predictors])[:,1]\n",
    "    \n",
    "    dtrain_predprob1 = alg.predict_proba(test[predictors])[:,1]\n",
    "    sub_df['loan_default']= dtrain_predprob1\n",
    "    sub_df.to_csv('sub1.csv',index=False)    \n",
    "    #Print model report:\n",
    "    print(\"\\nModel Report\")\n",
    "    print(\"Accuracy : %.4g\" % metrics.accuracy_score(ytest.values, dtrain_predictions))\n",
    "    print(\"AUC Score (Train): %f\" % metrics.roc_auc_score(ytest, dtrain_predprob))\n",
    "                    \n",
    "    feat_imp = pd.Series(alg.get_booster().get_fscore()).sort_values(ascending=False)\n",
    "    feat_imp.plot(kind='bar', title='Feature Importances')\n",
    "    plt.ylabel('Feature Importance Score')  \n",
    "  "
   ]
  },
  {
   "cell_type": "code",
   "execution_count": 45,
   "metadata": {},
   "outputs": [
    {
     "name": "stdout",
     "output_type": "stream",
     "text": [
      "[0]\ttrain-auc:0.610117+0.000746588\ttest-auc:0.607335+0.000911082\n",
      "[1]\ttrain-auc:0.617557+0.00308218\ttest-auc:0.615287+0.00296852\n",
      "[2]\ttrain-auc:0.622522+0.00163161\ttest-auc:0.619109+0.00143814\n",
      "[3]\ttrain-auc:0.625764+0.0013077\ttest-auc:0.622846+0.000679349\n",
      "[4]\ttrain-auc:0.627256+0.00140954\ttest-auc:0.624213+0.00157317\n",
      "[5]\ttrain-auc:0.62966+0.00110774\ttest-auc:0.626619+0.00178913\n",
      "[6]\ttrain-auc:0.63049+0.000740288\ttest-auc:0.627662+0.0018219\n",
      "[7]\ttrain-auc:0.633259+0.000693869\ttest-auc:0.630024+0.00186258\n",
      "[8]\ttrain-auc:0.634426+0.000774374\ttest-auc:0.631021+0.00174154\n",
      "[9]\ttrain-auc:0.635223+0.000533772\ttest-auc:0.631786+0.00123351\n",
      "[10]\ttrain-auc:0.637188+0.00022168\ttest-auc:0.633504+0.00121468\n",
      "[11]\ttrain-auc:0.638764+0.000759892\ttest-auc:0.634732+0.00107541\n",
      "[12]\ttrain-auc:0.640077+0.000469079\ttest-auc:0.635952+0.000862609\n",
      "[13]\ttrain-auc:0.640948+0.000551939\ttest-auc:0.636686+0.000652334\n",
      "[14]\ttrain-auc:0.642151+0.000423536\ttest-auc:0.637647+0.000825993\n",
      "[15]\ttrain-auc:0.643102+0.000459249\ttest-auc:0.638492+0.000811101\n",
      "[16]\ttrain-auc:0.644075+0.000497356\ttest-auc:0.639344+0.000873451\n",
      "[17]\ttrain-auc:0.645229+0.000411778\ttest-auc:0.640506+0.000945072\n",
      "[18]\ttrain-auc:0.646076+0.000430714\ttest-auc:0.641217+0.000751188\n",
      "[19]\ttrain-auc:0.647043+0.000462659\ttest-auc:0.642038+0.000836873\n",
      "[20]\ttrain-auc:0.648081+0.000412361\ttest-auc:0.642891+0.000940764\n",
      "[21]\ttrain-auc:0.649251+0.000409685\ttest-auc:0.643928+0.000952841\n",
      "[22]\ttrain-auc:0.650051+0.000489149\ttest-auc:0.644606+0.000757914\n",
      "[23]\ttrain-auc:0.651124+0.000520754\ttest-auc:0.645586+0.000762941\n",
      "[24]\ttrain-auc:0.651898+0.00057277\ttest-auc:0.646262+0.000696943\n",
      "[25]\ttrain-auc:0.652805+0.000638128\ttest-auc:0.646999+0.000693669\n",
      "[26]\ttrain-auc:0.653678+0.000483311\ttest-auc:0.647804+0.000696314\n",
      "[27]\ttrain-auc:0.654478+0.000509442\ttest-auc:0.64847+0.000684691\n",
      "[28]\ttrain-auc:0.65528+0.0005427\ttest-auc:0.649302+0.00071603\n",
      "[29]\ttrain-auc:0.655989+0.000513882\ttest-auc:0.649771+0.000692464\n",
      "[30]\ttrain-auc:0.656844+0.000464503\ttest-auc:0.650557+0.000768484\n",
      "[31]\ttrain-auc:0.657508+0.000522455\ttest-auc:0.650975+0.000724947\n",
      "[32]\ttrain-auc:0.658081+0.000573206\ttest-auc:0.651521+0.000557304\n",
      "[33]\ttrain-auc:0.65873+0.000529595\ttest-auc:0.652073+0.00054379\n",
      "[34]\ttrain-auc:0.659384+0.000434537\ttest-auc:0.652489+0.000844296\n",
      "[35]\ttrain-auc:0.659857+0.000501124\ttest-auc:0.652937+0.000882187\n",
      "[36]\ttrain-auc:0.660369+0.000561648\ttest-auc:0.653234+0.000948574\n",
      "[37]\ttrain-auc:0.66097+0.000572153\ttest-auc:0.653684+0.000835068\n",
      "[38]\ttrain-auc:0.661491+0.00048716\ttest-auc:0.654173+0.000671782\n",
      "[39]\ttrain-auc:0.661936+0.000423074\ttest-auc:0.654521+0.000696143\n",
      "[40]\ttrain-auc:0.662457+0.000464105\ttest-auc:0.654985+0.000696817\n",
      "[41]\ttrain-auc:0.662932+0.000360842\ttest-auc:0.655425+0.000730119\n",
      "[42]\ttrain-auc:0.663374+0.000352154\ttest-auc:0.655694+0.000693346\n",
      "[43]\ttrain-auc:0.663813+0.000443269\ttest-auc:0.655962+0.000640697\n",
      "[44]\ttrain-auc:0.66428+0.00045751\ttest-auc:0.656319+0.000701598\n",
      "[45]\ttrain-auc:0.664589+0.000464199\ttest-auc:0.656543+0.000690593\n",
      "[46]\ttrain-auc:0.665045+0.000465029\ttest-auc:0.656882+0.000714634\n",
      "[47]\ttrain-auc:0.665511+0.00055818\ttest-auc:0.657244+0.000724141\n",
      "[48]\ttrain-auc:0.665783+0.000507829\ttest-auc:0.657387+0.000791071\n",
      "[49]\ttrain-auc:0.666195+0.000483619\ttest-auc:0.657698+0.00074369\n",
      "[50]\ttrain-auc:0.666623+0.000511688\ttest-auc:0.658096+0.000796933\n",
      "[51]\ttrain-auc:0.667031+0.000515791\ttest-auc:0.658395+0.000908026\n",
      "[52]\ttrain-auc:0.667399+0.000470933\ttest-auc:0.658662+0.000830795\n",
      "[53]\ttrain-auc:0.667686+0.000552305\ttest-auc:0.658817+0.000815244\n",
      "[54]\ttrain-auc:0.668109+0.000532956\ttest-auc:0.659145+0.000794778\n",
      "[55]\ttrain-auc:0.668459+0.000542602\ttest-auc:0.659351+0.000702817\n",
      "[56]\ttrain-auc:0.668773+0.000566768\ttest-auc:0.659573+0.000704837\n",
      "[57]\ttrain-auc:0.669167+0.000487281\ttest-auc:0.659896+0.000872959\n",
      "[58]\ttrain-auc:0.669489+0.000537078\ttest-auc:0.660058+0.000926326\n",
      "[59]\ttrain-auc:0.669771+0.000501011\ttest-auc:0.660163+0.000955622\n",
      "[60]\ttrain-auc:0.670064+0.000503022\ttest-auc:0.660407+0.000844471\n",
      "[61]\ttrain-auc:0.670372+0.000543176\ttest-auc:0.660564+0.000821327\n",
      "[62]\ttrain-auc:0.670678+0.000542745\ttest-auc:0.660741+0.000846603\n",
      "[63]\ttrain-auc:0.67098+0.00057371\ttest-auc:0.661001+0.000780279\n",
      "[64]\ttrain-auc:0.671238+0.000559485\ttest-auc:0.661129+0.000742377\n",
      "[65]\ttrain-auc:0.671572+0.00057728\ttest-auc:0.661405+0.000770706\n",
      "[66]\ttrain-auc:0.671891+0.000582953\ttest-auc:0.661634+0.00087468\n",
      "[67]\ttrain-auc:0.672265+0.000528734\ttest-auc:0.661823+0.000956267\n",
      "[68]\ttrain-auc:0.6725+0.000527236\ttest-auc:0.661909+0.00087876\n",
      "[69]\ttrain-auc:0.672731+0.000582001\ttest-auc:0.661987+0.000869896\n",
      "[70]\ttrain-auc:0.673035+0.000558452\ttest-auc:0.662209+0.000855822\n",
      "[71]\ttrain-auc:0.673298+0.000523789\ttest-auc:0.662376+0.000852397\n",
      "[72]\ttrain-auc:0.673548+0.000511671\ttest-auc:0.66251+0.000844274\n",
      "[73]\ttrain-auc:0.673768+0.000507296\ttest-auc:0.662608+0.000850672\n",
      "[74]\ttrain-auc:0.673979+0.000484901\ttest-auc:0.662723+0.000939426\n",
      "[75]\ttrain-auc:0.674244+0.000476325\ttest-auc:0.662819+0.000961264\n",
      "[76]\ttrain-auc:0.674482+0.00053622\ttest-auc:0.663012+0.000894897\n",
      "[77]\ttrain-auc:0.67478+0.000530895\ttest-auc:0.663192+0.000920934\n",
      "[78]\ttrain-auc:0.675009+0.000545255\ttest-auc:0.663314+0.000880053\n",
      "[79]\ttrain-auc:0.675281+0.000597012\ttest-auc:0.663495+0.000867617\n",
      "[80]\ttrain-auc:0.675578+0.00057237\ttest-auc:0.663699+0.00091392\n",
      "[81]\ttrain-auc:0.67576+0.000561437\ttest-auc:0.663793+0.00090168\n",
      "[82]\ttrain-auc:0.676016+0.000606416\ttest-auc:0.663916+0.000861646\n",
      "[83]\ttrain-auc:0.676216+0.000580591\ttest-auc:0.664+0.000892798\n",
      "[84]\ttrain-auc:0.676434+0.000588987\ttest-auc:0.664195+0.000854408\n",
      "[85]\ttrain-auc:0.676698+0.000558048\ttest-auc:0.664376+0.000903229\n",
      "[86]\ttrain-auc:0.67688+0.000526173\ttest-auc:0.664413+0.000934154\n",
      "[87]\ttrain-auc:0.677121+0.000524569\ttest-auc:0.664509+0.000952094\n",
      "[88]\ttrain-auc:0.677299+0.000513895\ttest-auc:0.664575+0.000969316\n",
      "[89]\ttrain-auc:0.67752+0.000550666\ttest-auc:0.664678+0.000938366\n",
      "[90]\ttrain-auc:0.67771+0.000522642\ttest-auc:0.664771+0.000912564\n",
      "[91]\ttrain-auc:0.67791+0.000487169\ttest-auc:0.664857+0.000982563\n",
      "[92]\ttrain-auc:0.678098+0.000509067\ttest-auc:0.664969+0.000950139\n",
      "[93]\ttrain-auc:0.678327+0.000501119\ttest-auc:0.665079+0.000955525\n",
      "[94]\ttrain-auc:0.678579+0.000514242\ttest-auc:0.665222+0.00100284\n",
      "[95]\ttrain-auc:0.678799+0.000467424\ttest-auc:0.665323+0.00102074\n",
      "[96]\ttrain-auc:0.678967+0.000471824\ttest-auc:0.665409+0.00101698\n",
      "[97]\ttrain-auc:0.679203+0.000450095\ttest-auc:0.665564+0.00107264\n",
      "[98]\ttrain-auc:0.679389+0.000454544\ttest-auc:0.665631+0.00108686\n",
      "[99]\ttrain-auc:0.679584+0.000500067\ttest-auc:0.665694+0.00108019\n"
     ]
    },
    {
     "name": "stderr",
     "output_type": "stream",
     "text": [
      "/home/monster/.conda/envs/tensorflow/lib/python3.6/site-packages/sklearn/preprocessing/label.py:219: DataConversionWarning: A column-vector y was passed when a 1d array was expected. Please change the shape of y to (n_samples, ), for example using ravel().\n",
      "  y = column_or_1d(y, warn=True)\n",
      "/home/monster/.conda/envs/tensorflow/lib/python3.6/site-packages/sklearn/preprocessing/label.py:252: DataConversionWarning: A column-vector y was passed when a 1d array was expected. Please change the shape of y to (n_samples, ), for example using ravel().\n",
      "  y = column_or_1d(y, warn=True)\n"
     ]
    },
    {
     "name": "stdout",
     "output_type": "stream",
     "text": [
      "\n",
      "Model Report\n",
      "Accuracy : 0.7835\n",
      "AUC Score (Train): 0.670474\n"
     ]
    },
    {
     "data": {
      "image/png": "[encoded data removed]",
      "text/plain": [
       "<Figure size 432x288 with 1 Axes>"
      ]
     },
     "metadata": {
      "needs_background": "light"
     },
     "output_type": "display_data"
    }
   ],
   "source": [
    "modelfit(XGBClassifier(), X_train,y_train,X_validation,y_validation,test_df,sub_df,predictors,outcome,useTrainCV=True, cv_folds=5, early_stopping_rounds=50)"
   ]
  },
  {
   "cell_type": "code",
   "execution_count": null,
   "metadata": {},
   "outputs": [],
   "source": [
    "from sklearn.model_selection import cross_val_score\n",
    "from sklearn.svm import SVR\n",
    "model2 = SVR(kernel = 'rbf')\n",
    "\n",
    "from sklearn.metrics import mean_squared_error\n",
    "from sklearn.metrics import r2_score\n",
    "\n",
    "from sklearn.tree import DecisionTreeRegressor\n",
    "model3 = DecisionTreeRegressor(random_state = 50)\n",
    "\n",
    "from sklearn.ensemble import RandomForestRegressor\n",
    "model4 = RandomForestRegressor(n_estimators = 270, max_depth=5,\n",
    "                               min_samples_split=30,min_samples_leaf=12,max_leaf_nodes=30,min_weight_fraction_leaf=0.1,random_state = 50)\n",
    "\n",
    "from xgboost import XGBRegressor\n",
    "model5 = XGBRegressor()\n",
    "\n",
    "from sklearn.neighbors import KNeighborsRegressor\n",
    "model6 = KNeighborsRegressor(n_neighbors =37)\n",
    "\n",
    "from sklearn.linear_model import Ridge, Lasso ,ElasticNet\n",
    "\n",
    "model7 = Ridge()\n",
    "\n",
    "model8 = Lasso(max_iter=1000,alpha=2000)\n",
    "\n",
    "model9 = RandomForestRegressor()\n",
    "\n",
    "model10 = ElasticNet()\n",
    "\n",
    "from vecstack import stacking\n",
    "\n"
   ]
  },
  {
   "cell_type": "code",
   "execution_count": null,
   "metadata": {},
   "outputs": [],
   "source": [
    "model_fn(model4,final_train[predictor_var],final_train[outcome_var],\n",
    "         final_test[predictor_var],final_test[outcome_var],predictor_var,\n",
    "         3,'alg2.csv', False, True, False)"
   ]
  },
  {
   "cell_type": "code",
   "execution_count": 46,
   "metadata": {},
   "outputs": [],
   "source": [
    "model1 = XGBClassifier(\n",
    " learning_rate =0.1,\n",
    " n_estimators=500,\n",
    " max_depth=5,\n",
    " min_child_weight=1,\n",
    " gamma=0,\n",
    " subsample=0.8,\n",
    " colsample_bytree=1,\n",
    " objective= 'binary:logistic',\n",
    " nthread=-1,\n",
    " scale_pos_weight=1,\n",
    " seed=27)"
   ]
  },
  {
   "cell_type": "code",
   "execution_count": 47,
   "metadata": {},
   "outputs": [
    {
     "name": "stdout",
     "output_type": "stream",
     "text": [
      "[0]\ttrain-auc:0.631279+0.00049154\ttest-auc:0.624418+0.0028269\n",
      "[1]\ttrain-auc:0.63961+0.00104671\ttest-auc:0.630954+0.00198248\n",
      "[2]\ttrain-auc:0.643767+0.00101096\ttest-auc:0.63448+0.00186469\n",
      "[3]\ttrain-auc:0.646588+0.000628508\ttest-auc:0.63678+0.00205663\n",
      "[4]\ttrain-auc:0.648633+0.000829758\ttest-auc:0.638511+0.00246942\n",
      "[5]\ttrain-auc:0.650511+0.000674974\ttest-auc:0.640529+0.00244095\n",
      "[6]\ttrain-auc:0.65205+0.000536624\ttest-auc:0.641833+0.00275964\n",
      "[7]\ttrain-auc:0.653639+0.000280794\ttest-auc:0.643095+0.00276687\n",
      "[8]\ttrain-auc:0.655132+0.000611887\ttest-auc:0.644177+0.00265001\n",
      "[9]\ttrain-auc:0.656612+0.00049758\ttest-auc:0.645284+0.00270786\n",
      "[10]\ttrain-auc:0.657857+0.000500788\ttest-auc:0.646+0.00243244\n",
      "[11]\ttrain-auc:0.659018+0.000564328\ttest-auc:0.646848+0.00245555\n",
      "[12]\ttrain-auc:0.660501+0.000419007\ttest-auc:0.648085+0.00240561\n",
      "[13]\ttrain-auc:0.661655+0.000511594\ttest-auc:0.649021+0.00247884\n",
      "[14]\ttrain-auc:0.662973+0.000453953\ttest-auc:0.650154+0.00229381\n",
      "[15]\ttrain-auc:0.66416+0.000368135\ttest-auc:0.650907+0.00228407\n",
      "[16]\ttrain-auc:0.665407+0.000349765\ttest-auc:0.651734+0.00225961\n",
      "[17]\ttrain-auc:0.666429+0.000321066\ttest-auc:0.652504+0.002318\n",
      "[18]\ttrain-auc:0.667563+0.000411598\ttest-auc:0.653019+0.00244811\n",
      "[19]\ttrain-auc:0.668454+0.000457056\ttest-auc:0.653586+0.00260876\n",
      "[20]\ttrain-auc:0.669565+0.000467048\ttest-auc:0.65432+0.00254295\n",
      "[21]\ttrain-auc:0.670729+0.00043676\ttest-auc:0.6551+0.00259112\n",
      "[22]\ttrain-auc:0.671782+0.000519231\ttest-auc:0.655729+0.00268263\n",
      "[23]\ttrain-auc:0.672833+0.000496943\ttest-auc:0.656312+0.00280045\n",
      "[24]\ttrain-auc:0.673877+0.000525783\ttest-auc:0.656996+0.00272007\n",
      "[25]\ttrain-auc:0.674754+0.000399166\ttest-auc:0.657548+0.00273677\n",
      "[26]\ttrain-auc:0.675681+0.000308064\ttest-auc:0.658116+0.00256645\n",
      "[27]\ttrain-auc:0.67672+0.000332042\ttest-auc:0.658739+0.00240721\n",
      "[28]\ttrain-auc:0.677689+0.000348064\ttest-auc:0.659282+0.00230739\n",
      "[29]\ttrain-auc:0.67852+0.000428063\ttest-auc:0.659766+0.00224434\n",
      "[30]\ttrain-auc:0.679456+0.000430336\ttest-auc:0.660175+0.00236882\n",
      "[31]\ttrain-auc:0.680375+0.000440907\ttest-auc:0.66078+0.00233663\n",
      "[32]\ttrain-auc:0.681148+0.000467538\ttest-auc:0.661252+0.00239819\n",
      "[33]\ttrain-auc:0.682012+0.000436921\ttest-auc:0.661688+0.00233636\n",
      "[34]\ttrain-auc:0.682885+0.0004091\ttest-auc:0.662056+0.00223589\n",
      "[35]\ttrain-auc:0.683664+0.000393624\ttest-auc:0.662366+0.00225256\n",
      "[36]\ttrain-auc:0.684479+0.000448597\ttest-auc:0.662765+0.00225342\n",
      "[37]\ttrain-auc:0.685285+0.0005202\ttest-auc:0.663161+0.00222307\n",
      "[38]\ttrain-auc:0.686031+0.00048552\ttest-auc:0.663522+0.00215121\n",
      "[39]\ttrain-auc:0.686784+0.000564828\ttest-auc:0.663862+0.00208524\n",
      "[40]\ttrain-auc:0.687483+0.00057696\ttest-auc:0.664195+0.00198768\n",
      "[41]\ttrain-auc:0.688216+0.000613398\ttest-auc:0.664558+0.00212762\n",
      "[42]\ttrain-auc:0.688934+0.000593522\ttest-auc:0.664812+0.00220424\n",
      "[43]\ttrain-auc:0.689604+0.000558359\ttest-auc:0.664982+0.00222436\n",
      "[44]\ttrain-auc:0.69017+0.000612736\ttest-auc:0.665175+0.00223024\n",
      "[45]\ttrain-auc:0.690867+0.000640257\ttest-auc:0.665348+0.00226717\n",
      "[46]\ttrain-auc:0.691496+0.00058502\ttest-auc:0.665552+0.00221285\n",
      "[47]\ttrain-auc:0.692161+0.000527301\ttest-auc:0.665737+0.00219047\n",
      "[48]\ttrain-auc:0.692894+0.00049123\ttest-auc:0.666036+0.00220792\n",
      "[49]\ttrain-auc:0.693449+0.000455521\ttest-auc:0.666213+0.00231637\n",
      "[50]\ttrain-auc:0.694123+0.000420211\ttest-auc:0.666442+0.00246058\n",
      "[51]\ttrain-auc:0.694711+0.0004196\ttest-auc:0.666652+0.00250693\n",
      "[52]\ttrain-auc:0.695278+0.000428948\ttest-auc:0.666818+0.00260247\n",
      "[53]\ttrain-auc:0.69587+0.000441668\ttest-auc:0.667023+0.00266092\n",
      "[54]\ttrain-auc:0.696435+0.000443268\ttest-auc:0.667229+0.00274586\n",
      "[55]\ttrain-auc:0.697087+0.000402972\ttest-auc:0.667411+0.00276514\n",
      "[56]\ttrain-auc:0.697611+0.000408971\ttest-auc:0.667586+0.00288162\n",
      "[57]\ttrain-auc:0.69816+0.00041804\ttest-auc:0.667719+0.00281564\n",
      "[58]\ttrain-auc:0.698739+0.000421323\ttest-auc:0.667874+0.00277089\n",
      "[59]\ttrain-auc:0.699254+0.000412718\ttest-auc:0.66804+0.00277895\n",
      "[60]\ttrain-auc:0.699775+0.000427959\ttest-auc:0.668169+0.00273083\n",
      "[61]\ttrain-auc:0.700357+0.000452026\ttest-auc:0.668336+0.0027325\n",
      "[62]\ttrain-auc:0.700956+0.000457979\ttest-auc:0.668586+0.00273568\n",
      "[63]\ttrain-auc:0.701423+0.000446895\ttest-auc:0.668721+0.00269982\n",
      "[64]\ttrain-auc:0.701909+0.000442649\ttest-auc:0.668881+0.00275225\n",
      "[65]\ttrain-auc:0.702384+0.000447869\ttest-auc:0.669029+0.00275858\n",
      "[66]\ttrain-auc:0.702885+0.00045343\ttest-auc:0.669152+0.00279412\n",
      "[67]\ttrain-auc:0.703394+0.000440161\ttest-auc:0.669283+0.00280281\n",
      "[68]\ttrain-auc:0.703846+0.000449321\ttest-auc:0.669381+0.00275122\n",
      "[69]\ttrain-auc:0.704309+0.000473643\ttest-auc:0.669533+0.00278564\n",
      "[70]\ttrain-auc:0.704781+0.000533688\ttest-auc:0.669649+0.00280007\n",
      "[71]\ttrain-auc:0.705204+0.000537051\ttest-auc:0.669754+0.00286779\n",
      "[72]\ttrain-auc:0.705598+0.000572179\ttest-auc:0.669892+0.0029203\n",
      "[73]\ttrain-auc:0.70606+0.000596645\ttest-auc:0.669976+0.00294976\n",
      "[74]\ttrain-auc:0.706539+0.000613557\ttest-auc:0.670059+0.00293841\n",
      "[75]\ttrain-auc:0.706966+0.000585581\ttest-auc:0.67017+0.00297807\n",
      "[76]\ttrain-auc:0.707378+0.000598827\ttest-auc:0.670265+0.0029652\n",
      "[77]\ttrain-auc:0.707817+0.000579496\ttest-auc:0.670388+0.0030099\n",
      "[78]\ttrain-auc:0.708301+0.000623801\ttest-auc:0.670524+0.00305539\n",
      "[79]\ttrain-auc:0.708716+0.000675452\ttest-auc:0.670542+0.00300467\n",
      "[80]\ttrain-auc:0.709147+0.000663426\ttest-auc:0.670614+0.00296638\n",
      "[81]\ttrain-auc:0.709542+0.000674106\ttest-auc:0.670677+0.00301384\n",
      "[82]\ttrain-auc:0.70996+0.000698396\ttest-auc:0.670774+0.00299928\n",
      "[83]\ttrain-auc:0.710339+0.000719341\ttest-auc:0.670875+0.0029932\n",
      "[84]\ttrain-auc:0.710778+0.000679799\ttest-auc:0.670887+0.00300849\n",
      "[85]\ttrain-auc:0.711161+0.000675609\ttest-auc:0.671059+0.00296944\n",
      "[86]\ttrain-auc:0.711556+0.000719249\ttest-auc:0.671133+0.00296438\n",
      "[87]\ttrain-auc:0.711956+0.000797346\ttest-auc:0.671231+0.00301312\n",
      "[88]\ttrain-auc:0.712326+0.000756216\ttest-auc:0.671273+0.00305356\n",
      "[89]\ttrain-auc:0.712688+0.000669997\ttest-auc:0.671331+0.00310737\n",
      "[90]\ttrain-auc:0.713054+0.000620899\ttest-auc:0.671377+0.0031174\n",
      "[91]\ttrain-auc:0.713441+0.00063648\ttest-auc:0.671444+0.00310342\n",
      "[92]\ttrain-auc:0.713802+0.000559666\ttest-auc:0.671479+0.0030667\n",
      "[93]\ttrain-auc:0.714167+0.000486622\ttest-auc:0.671587+0.00312974\n",
      "[94]\ttrain-auc:0.714531+0.000390444\ttest-auc:0.671683+0.00322521\n",
      "[95]\ttrain-auc:0.714884+0.000358949\ttest-auc:0.6717+0.00322496\n",
      "[96]\ttrain-auc:0.715272+0.000388874\ttest-auc:0.671772+0.00327358\n",
      "[97]\ttrain-auc:0.715605+0.000392985\ttest-auc:0.671844+0.00327308\n",
      "[98]\ttrain-auc:0.715971+0.000451278\ttest-auc:0.671878+0.00326846\n",
      "[99]\ttrain-auc:0.716293+0.000447557\ttest-auc:0.671865+0.0032827\n",
      "[100]\ttrain-auc:0.716673+0.000467412\ttest-auc:0.671938+0.00337744\n",
      "[101]\ttrain-auc:0.71702+0.00049387\ttest-auc:0.671951+0.00339725\n",
      "[102]\ttrain-auc:0.717414+0.000532459\ttest-auc:0.672024+0.00336634\n",
      "[103]\ttrain-auc:0.717756+0.000508381\ttest-auc:0.67209+0.00336265\n",
      "[104]\ttrain-auc:0.718084+0.000542341\ttest-auc:0.672028+0.00337745\n",
      "[105]\ttrain-auc:0.718396+0.000497227\ttest-auc:0.672048+0.00345147\n",
      "[106]\ttrain-auc:0.718753+0.000540428\ttest-auc:0.67204+0.0034563\n",
      "[107]\ttrain-auc:0.719098+0.00053791\ttest-auc:0.672157+0.0034393\n",
      "[108]\ttrain-auc:0.71944+0.000571344\ttest-auc:0.672181+0.00345198\n",
      "[109]\ttrain-auc:0.719793+0.000647227\ttest-auc:0.672276+0.00334753\n",
      "[110]\ttrain-auc:0.720189+0.000717099\ttest-auc:0.67233+0.00334209\n",
      "[111]\ttrain-auc:0.720577+0.000747222\ttest-auc:0.672394+0.00340053\n",
      "[112]\ttrain-auc:0.720885+0.000718973\ttest-auc:0.672402+0.00334517\n",
      "[113]\ttrain-auc:0.721217+0.000721508\ttest-auc:0.672476+0.00332957\n",
      "[114]\ttrain-auc:0.721509+0.000696493\ttest-auc:0.672532+0.00330586\n",
      "[115]\ttrain-auc:0.721838+0.000697092\ttest-auc:0.672567+0.003291\n",
      "[116]\ttrain-auc:0.722111+0.000732558\ttest-auc:0.672675+0.00323673\n",
      "[117]\ttrain-auc:0.722455+0.000744637\ttest-auc:0.672666+0.0033036\n",
      "[118]\ttrain-auc:0.722781+0.000738363\ttest-auc:0.672665+0.00336747\n",
      "[119]\ttrain-auc:0.723118+0.00072452\ttest-auc:0.672705+0.00337192\n",
      "[120]\ttrain-auc:0.723452+0.000725356\ttest-auc:0.672727+0.00335911\n",
      "[121]\ttrain-auc:0.723788+0.000694926\ttest-auc:0.672787+0.00336877\n",
      "[122]\ttrain-auc:0.724096+0.000669264\ttest-auc:0.672839+0.00331926\n",
      "[123]\ttrain-auc:0.724437+0.000653828\ttest-auc:0.672901+0.00331906\n",
      "[124]\ttrain-auc:0.724738+0.000648656\ttest-auc:0.672918+0.00330537\n",
      "[125]\ttrain-auc:0.725034+0.000617737\ttest-auc:0.672925+0.00330692\n",
      "[126]\ttrain-auc:0.725329+0.000570675\ttest-auc:0.672945+0.00333131\n"
     ]
    },
    {
     "name": "stdout",
     "output_type": "stream",
     "text": [
      "[127]\ttrain-auc:0.725643+0.000535525\ttest-auc:0.673003+0.0033494\n",
      "[128]\ttrain-auc:0.725926+0.0005068\ttest-auc:0.673019+0.00336867\n",
      "[129]\ttrain-auc:0.726263+0.000442501\ttest-auc:0.673007+0.0033873\n",
      "[130]\ttrain-auc:0.726537+0.000443321\ttest-auc:0.673026+0.00343254\n",
      "[131]\ttrain-auc:0.726831+0.000512902\ttest-auc:0.673044+0.00342084\n",
      "[132]\ttrain-auc:0.727155+0.000497229\ttest-auc:0.673063+0.00341938\n",
      "[133]\ttrain-auc:0.727459+0.000480485\ttest-auc:0.673076+0.00345643\n",
      "[134]\ttrain-auc:0.727774+0.000413475\ttest-auc:0.67307+0.00342657\n",
      "[135]\ttrain-auc:0.728089+0.000452013\ttest-auc:0.673115+0.00341202\n",
      "[136]\ttrain-auc:0.728352+0.000481161\ttest-auc:0.673127+0.00341373\n",
      "[137]\ttrain-auc:0.7286+0.000450101\ttest-auc:0.673089+0.00339293\n",
      "[138]\ttrain-auc:0.728925+0.000473015\ttest-auc:0.673071+0.00336445\n",
      "[139]\ttrain-auc:0.729204+0.000448709\ttest-auc:0.673112+0.00337346\n",
      "[140]\ttrain-auc:0.729482+0.000453846\ttest-auc:0.673099+0.00344368\n",
      "[141]\ttrain-auc:0.72979+0.000463262\ttest-auc:0.673095+0.0034162\n",
      "[142]\ttrain-auc:0.730057+0.000453103\ttest-auc:0.673108+0.00342136\n",
      "[143]\ttrain-auc:0.730328+0.000502081\ttest-auc:0.673107+0.00337307\n",
      "[144]\ttrain-auc:0.730654+0.000477753\ttest-auc:0.673106+0.00341621\n",
      "[145]\ttrain-auc:0.730932+0.000454613\ttest-auc:0.673098+0.00340702\n",
      "[146]\ttrain-auc:0.731242+0.000493914\ttest-auc:0.673148+0.00343555\n",
      "[147]\ttrain-auc:0.731481+0.000533955\ttest-auc:0.673159+0.00339271\n",
      "[148]\ttrain-auc:0.731773+0.000558594\ttest-auc:0.673178+0.00338834\n",
      "[149]\ttrain-auc:0.73206+0.000520812\ttest-auc:0.673216+0.00342306\n",
      "[150]\ttrain-auc:0.732381+0.000521061\ttest-auc:0.673282+0.00339871\n",
      "[151]\ttrain-auc:0.732624+0.000537363\ttest-auc:0.673307+0.00331791\n",
      "[152]\ttrain-auc:0.732912+0.000546267\ttest-auc:0.673348+0.00335311\n",
      "[153]\ttrain-auc:0.733225+0.000553286\ttest-auc:0.673379+0.00328287\n",
      "[154]\ttrain-auc:0.73347+0.000549875\ttest-auc:0.673405+0.00332268\n",
      "[155]\ttrain-auc:0.733757+0.000561294\ttest-auc:0.673402+0.00335452\n",
      "[156]\ttrain-auc:0.734037+0.00057607\ttest-auc:0.673433+0.00340055\n",
      "[157]\ttrain-auc:0.734352+0.000587542\ttest-auc:0.673461+0.00338451\n",
      "[158]\ttrain-auc:0.734608+0.00058203\ttest-auc:0.67347+0.00330681\n",
      "[159]\ttrain-auc:0.734888+0.000596186\ttest-auc:0.673518+0.0032939\n",
      "[160]\ttrain-auc:0.735178+0.000585977\ttest-auc:0.673559+0.00327216\n",
      "[161]\ttrain-auc:0.73546+0.000581095\ttest-auc:0.673574+0.00325333\n",
      "[162]\ttrain-auc:0.735717+0.000610122\ttest-auc:0.673593+0.00325069\n",
      "[163]\ttrain-auc:0.736003+0.000629486\ttest-auc:0.673628+0.00323388\n",
      "[164]\ttrain-auc:0.736286+0.000599673\ttest-auc:0.673634+0.00326465\n",
      "[165]\ttrain-auc:0.736514+0.00062025\ttest-auc:0.673614+0.00327798\n",
      "[166]\ttrain-auc:0.736774+0.000693561\ttest-auc:0.673606+0.00323333\n",
      "[167]\ttrain-auc:0.737044+0.000728574\ttest-auc:0.673604+0.00318896\n",
      "[168]\ttrain-auc:0.737299+0.00070904\ttest-auc:0.673623+0.0031652\n",
      "[169]\ttrain-auc:0.73758+0.000637438\ttest-auc:0.673636+0.00316385\n",
      "[170]\ttrain-auc:0.737801+0.000639338\ttest-auc:0.673665+0.00318375\n",
      "[171]\ttrain-auc:0.738095+0.000593\ttest-auc:0.67367+0.00323736\n",
      "[172]\ttrain-auc:0.738357+0.000567557\ttest-auc:0.673635+0.00323629\n",
      "[173]\ttrain-auc:0.738615+0.000615363\ttest-auc:0.6736+0.00326416\n",
      "[174]\ttrain-auc:0.738861+0.000675757\ttest-auc:0.673602+0.00328351\n",
      "[175]\ttrain-auc:0.739148+0.000667364\ttest-auc:0.673613+0.00323373\n",
      "[176]\ttrain-auc:0.739443+0.000648829\ttest-auc:0.673582+0.00320031\n",
      "[177]\ttrain-auc:0.739735+0.000636674\ttest-auc:0.673619+0.00319925\n",
      "[178]\ttrain-auc:0.739993+0.000623663\ttest-auc:0.67358+0.00318818\n",
      "[179]\ttrain-auc:0.740269+0.000598931\ttest-auc:0.67355+0.00319276\n",
      "[180]\ttrain-auc:0.740523+0.000562616\ttest-auc:0.673611+0.00315136\n",
      "[181]\ttrain-auc:0.740771+0.000550094\ttest-auc:0.673603+0.00314712\n",
      "[182]\ttrain-auc:0.741016+0.000611706\ttest-auc:0.673634+0.00313792\n",
      "[183]\ttrain-auc:0.741266+0.0006237\ttest-auc:0.673699+0.00314728\n",
      "[184]\ttrain-auc:0.74154+0.000566141\ttest-auc:0.673739+0.00317854\n",
      "[185]\ttrain-auc:0.741806+0.000592782\ttest-auc:0.673735+0.0031857\n",
      "[186]\ttrain-auc:0.742026+0.000571466\ttest-auc:0.673682+0.00317211\n",
      "[187]\ttrain-auc:0.74226+0.000550161\ttest-auc:0.673687+0.00319619\n",
      "[188]\ttrain-auc:0.742476+0.000571766\ttest-auc:0.67371+0.00319142\n",
      "[189]\ttrain-auc:0.74273+0.000581166\ttest-auc:0.673703+0.00319873\n",
      "[190]\ttrain-auc:0.742949+0.00060062\ttest-auc:0.673697+0.00320257\n",
      "[191]\ttrain-auc:0.743241+0.000584659\ttest-auc:0.673719+0.00319195\n",
      "[192]\ttrain-auc:0.743498+0.000604968\ttest-auc:0.67372+0.00320095\n",
      "[193]\ttrain-auc:0.743785+0.000614777\ttest-auc:0.673702+0.00317988\n",
      "[194]\ttrain-auc:0.74408+0.000611283\ttest-auc:0.673708+0.00321675\n",
      "[195]\ttrain-auc:0.744297+0.000664753\ttest-auc:0.673688+0.00322184\n",
      "[196]\ttrain-auc:0.744534+0.000668155\ttest-auc:0.6737+0.00320632\n",
      "[197]\ttrain-auc:0.744804+0.00068252\ttest-auc:0.673692+0.00322431\n",
      "[198]\ttrain-auc:0.745068+0.000686905\ttest-auc:0.67371+0.00324946\n",
      "[199]\ttrain-auc:0.745268+0.000694979\ttest-auc:0.673739+0.00327561\n",
      "[200]\ttrain-auc:0.745509+0.000663976\ttest-auc:0.673726+0.00330272\n",
      "[201]\ttrain-auc:0.745778+0.000655343\ttest-auc:0.673734+0.00328243\n",
      "[202]\ttrain-auc:0.745999+0.000660494\ttest-auc:0.673712+0.00324373\n",
      "[203]\ttrain-auc:0.746244+0.000664781\ttest-auc:0.673727+0.00325354\n",
      "[204]\ttrain-auc:0.746491+0.000701605\ttest-auc:0.673732+0.00326106\n",
      "[205]\ttrain-auc:0.746706+0.00068192\ttest-auc:0.673715+0.00324453\n",
      "[206]\ttrain-auc:0.746964+0.000642466\ttest-auc:0.673736+0.00326469\n",
      "[207]\ttrain-auc:0.747229+0.000614454\ttest-auc:0.673768+0.00327814\n",
      "[208]\ttrain-auc:0.747487+0.00062018\ttest-auc:0.673758+0.00326855\n",
      "[209]\ttrain-auc:0.747679+0.000638092\ttest-auc:0.673764+0.00324113\n",
      "[210]\ttrain-auc:0.747909+0.000641423\ttest-auc:0.673764+0.00323979\n",
      "[211]\ttrain-auc:0.748189+0.000658593\ttest-auc:0.673756+0.00316564\n",
      "[212]\ttrain-auc:0.748414+0.000662022\ttest-auc:0.673766+0.00320683\n",
      "[213]\ttrain-auc:0.74867+0.000664859\ttest-auc:0.673747+0.00322196\n",
      "[214]\ttrain-auc:0.7489+0.000720906\ttest-auc:0.673749+0.0032798\n",
      "[215]\ttrain-auc:0.749119+0.000735629\ttest-auc:0.673767+0.00329649\n",
      "[216]\ttrain-auc:0.749349+0.000741313\ttest-auc:0.673783+0.00335007\n",
      "[217]\ttrain-auc:0.749602+0.000777387\ttest-auc:0.673828+0.00334508\n",
      "[218]\ttrain-auc:0.749808+0.000812929\ttest-auc:0.673813+0.00336038\n",
      "[219]\ttrain-auc:0.750061+0.00078625\ttest-auc:0.673844+0.0033568\n",
      "[220]\ttrain-auc:0.750323+0.000806228\ttest-auc:0.673852+0.00333686\n",
      "[221]\ttrain-auc:0.75059+0.000806807\ttest-auc:0.673838+0.00333683\n",
      "[222]\ttrain-auc:0.750819+0.000790002\ttest-auc:0.673839+0.00331339\n",
      "[223]\ttrain-auc:0.751062+0.000759202\ttest-auc:0.673855+0.00328879\n",
      "[224]\ttrain-auc:0.751259+0.000798214\ttest-auc:0.67385+0.00324505\n",
      "[225]\ttrain-auc:0.751449+0.000814821\ttest-auc:0.67389+0.00325106\n",
      "[226]\ttrain-auc:0.75167+0.000808034\ttest-auc:0.673893+0.00327043\n",
      "[227]\ttrain-auc:0.75189+0.000787593\ttest-auc:0.673844+0.00323564\n",
      "[228]\ttrain-auc:0.752118+0.000747901\ttest-auc:0.673843+0.00323098\n",
      "[229]\ttrain-auc:0.75235+0.000723378\ttest-auc:0.673816+0.00322048\n",
      "[230]\ttrain-auc:0.752596+0.000761431\ttest-auc:0.673808+0.00322398\n",
      "[231]\ttrain-auc:0.752809+0.000773243\ttest-auc:0.673755+0.00324889\n",
      "[232]\ttrain-auc:0.753017+0.000791634\ttest-auc:0.67378+0.00326083\n",
      "[233]\ttrain-auc:0.753212+0.000788657\ttest-auc:0.673772+0.00327153\n",
      "[234]\ttrain-auc:0.753473+0.000809854\ttest-auc:0.673773+0.00328449\n",
      "[235]\ttrain-auc:0.753672+0.00081193\ttest-auc:0.673794+0.00330676\n",
      "[236]\ttrain-auc:0.753892+0.000827454\ttest-auc:0.673822+0.00330573\n",
      "[237]\ttrain-auc:0.754125+0.000862694\ttest-auc:0.673801+0.00330634\n",
      "[238]\ttrain-auc:0.754342+0.000867928\ttest-auc:0.673805+0.00334272\n",
      "[239]\ttrain-auc:0.754543+0.00087352\ttest-auc:0.67382+0.00332345\n",
      "[240]\ttrain-auc:0.754789+0.000859417\ttest-auc:0.673783+0.00330356\n",
      "[241]\ttrain-auc:0.755027+0.000884583\ttest-auc:0.673774+0.00329022\n",
      "[242]\ttrain-auc:0.755277+0.000908923\ttest-auc:0.67377+0.00330077\n",
      "[243]\ttrain-auc:0.755528+0.000903123\ttest-auc:0.67374+0.00331319\n",
      "[244]\ttrain-auc:0.755761+0.000909117\ttest-auc:0.673704+0.00332505\n",
      "[245]\ttrain-auc:0.755973+0.000892619\ttest-auc:0.673639+0.00333705\n",
      "[246]\ttrain-auc:0.756169+0.000893395\ttest-auc:0.67359+0.00338058\n",
      "[247]\ttrain-auc:0.756375+0.000899057\ttest-auc:0.673568+0.00338577\n",
      "[248]\ttrain-auc:0.756613+0.000923833\ttest-auc:0.673537+0.00338955\n",
      "[249]\ttrain-auc:0.756815+0.000887514\ttest-auc:0.673534+0.00334669\n",
      "[250]\ttrain-auc:0.757031+0.000846272\ttest-auc:0.673567+0.00333979\n",
      "[251]\ttrain-auc:0.757267+0.000828339\ttest-auc:0.673597+0.00336038\n",
      "[252]\ttrain-auc:0.757548+0.000794645\ttest-auc:0.673582+0.00335461\n"
     ]
    },
    {
     "name": "stdout",
     "output_type": "stream",
     "text": [
      "[253]\ttrain-auc:0.75777+0.000772619\ttest-auc:0.673553+0.00336012\n",
      "[254]\ttrain-auc:0.757985+0.000756381\ttest-auc:0.673511+0.00335921\n",
      "[255]\ttrain-auc:0.75824+0.000730838\ttest-auc:0.673525+0.00332148\n",
      "[256]\ttrain-auc:0.758486+0.000747653\ttest-auc:0.673526+0.00328704\n",
      "[257]\ttrain-auc:0.75866+0.000726603\ttest-auc:0.67351+0.00328768\n",
      "[258]\ttrain-auc:0.758889+0.000766416\ttest-auc:0.673524+0.00329167\n",
      "[259]\ttrain-auc:0.759121+0.000784679\ttest-auc:0.673497+0.00328134\n",
      "[260]\ttrain-auc:0.759366+0.000803285\ttest-auc:0.673498+0.00331737\n",
      "[261]\ttrain-auc:0.759613+0.000790596\ttest-auc:0.673443+0.00331252\n",
      "[262]\ttrain-auc:0.759854+0.000772019\ttest-auc:0.673422+0.00331423\n",
      "[263]\ttrain-auc:0.760082+0.000785613\ttest-auc:0.673476+0.00331268\n",
      "[264]\ttrain-auc:0.760301+0.000792777\ttest-auc:0.673505+0.00328137\n",
      "[265]\ttrain-auc:0.760526+0.00076079\ttest-auc:0.673443+0.00329422\n",
      "[266]\ttrain-auc:0.760728+0.000753404\ttest-auc:0.67344+0.00330102\n",
      "[267]\ttrain-auc:0.760959+0.000729075\ttest-auc:0.67344+0.00331802\n",
      "[268]\ttrain-auc:0.761142+0.000738716\ttest-auc:0.673456+0.00329358\n",
      "[269]\ttrain-auc:0.761374+0.000765347\ttest-auc:0.673473+0.0033103\n",
      "[270]\ttrain-auc:0.761626+0.000724406\ttest-auc:0.67353+0.00329538\n",
      "[271]\ttrain-auc:0.761836+0.000746013\ttest-auc:0.673492+0.00331927\n",
      "[272]\ttrain-auc:0.761988+0.000742049\ttest-auc:0.673484+0.00330501\n",
      "[273]\ttrain-auc:0.762152+0.000689356\ttest-auc:0.673493+0.00336651\n",
      "[274]\ttrain-auc:0.762328+0.000666849\ttest-auc:0.673466+0.00337565\n",
      "[275]\ttrain-auc:0.762542+0.00070598\ttest-auc:0.673477+0.00334618\n"
     ]
    },
    {
     "name": "stderr",
     "output_type": "stream",
     "text": [
      "/home/monster/.conda/envs/tensorflow/lib/python3.6/site-packages/sklearn/preprocessing/label.py:219: DataConversionWarning: A column-vector y was passed when a 1d array was expected. Please change the shape of y to (n_samples, ), for example using ravel().\n",
      "  y = column_or_1d(y, warn=True)\n",
      "/home/monster/.conda/envs/tensorflow/lib/python3.6/site-packages/sklearn/preprocessing/label.py:252: DataConversionWarning: A column-vector y was passed when a 1d array was expected. Please change the shape of y to (n_samples, ), for example using ravel().\n",
      "  y = column_or_1d(y, warn=True)\n"
     ]
    },
    {
     "name": "stdout",
     "output_type": "stream",
     "text": [
      "\n",
      "Model Report\n",
      "Accuracy : 0.7845\n",
      "AUC Score (Train): 0.677410\n"
     ]
    },
    {
     "data": {
      "image/png": "[encoded data removed]",
      "text/plain": [
       "<Figure size 432x288 with 1 Axes>"
      ]
     },
     "metadata": {
      "needs_background": "light"
     },
     "output_type": "display_data"
    }
   ],
   "source": [
    "#replce top_20_ft with predictors to run model on all the features\n",
    "modelfit(model1, X_train,y_train,X_validation,y_validation,test_df,sub_df,predictors,outcome,useTrainCV=True, cv_folds=10, early_stopping_rounds=50)"
   ]
  },
  {
   "cell_type": "code",
   "execution_count": null,
   "metadata": {},
   "outputs": [],
   "source": [
    "top_20_features = pd.Series(model1.get_booster().get_fscore()).sort_values(ascending=False)[:30]"
   ]
  },
  {
   "cell_type": "code",
   "execution_count": null,
   "metadata": {},
   "outputs": [],
   "source": [
    "top_20_ft = list(top_20_features.index)"
   ]
  },
  {
   "cell_type": "code",
   "execution_count": null,
   "metadata": {},
   "outputs": [],
   "source": [
    "top_20_ft"
   ]
  },
  {
   "cell_type": "code",
   "execution_count": null,
   "metadata": {},
   "outputs": [],
   "source": [
    "from sklearn.metrics import roc_curve, auc\n",
    "def Performance(Model,Y,X):\n",
    "    # Perforamnce of the model\n",
    "    fpr, tpr, _ = roc_curve(Y, Model.predict_proba(X)[:,1])\n",
    "    AUC  = auc(fpr, tpr)\n",
    "    print ('the AUC is : %0.4f' %  AUC)\n",
    "    plt.figure()\n",
    "    plt.plot(fpr, tpr, label='ROC curve (area = %0.4f)' % AUC)\n",
    "    plt.plot([0, 1], [0, 1], 'k--')\n",
    "    plt.xlim([0.0, 1.0])\n",
    "    plt.ylim([0.0, 1.05])\n",
    "    plt.xlabel('False Positive Rate')\n",
    "    plt.ylabel('True Positive Rate')\n",
    "    plt.title('ROC Curve')\n",
    "    plt.legend(loc=\"lower right\")\n",
    "    plt.show()"
   ]
  },
  {
   "cell_type": "code",
   "execution_count": null,
   "metadata": {},
   "outputs": [],
   "source": [
    "Performance(model1,y_validation,X_validation)"
   ]
  },
  {
   "cell_type": "code",
   "execution_count": null,
   "metadata": {},
   "outputs": [],
   "source": [
    "from hyperopt import fmin, tpe, hp, STATUS_OK, Trials"
   ]
  },
  {
   "cell_type": "code",
   "execution_count": null,
   "metadata": {},
   "outputs": [],
   "source": [
    "np.linspace(0,1,11)"
   ]
  },
  {
   "cell_type": "code",
   "execution_count": null,
   "metadata": {},
   "outputs": [],
   "source": [
    "from sklearn.model_selection import cross_val_score\n",
    "def acc_model(params):\n",
    "    clf = XGBClassifier(**params)\n",
    "    return cross_val_score(clf, X_train, y_train).mean()\n",
    "\n",
    "param_space = {\n",
    "    'learning_rate': hp.choice('learning_rate', np.linspace(0,1,11)),\n",
    "    'min_child_weight': hp.choice('min_child_weight', range(1,7)),\n",
    "    'gamma': hp.choice('gamma', np.linspace(0,1,11)),\n",
    "    'subsample': hp.choice('subsample', np.linspace(0,1,11)),\n",
    "    'colsample_bytree': hp.choice('colsample_bytree', np.linspace(0,1,11)),\n",
    "    'max_depth': hp.choice('max_depth', range(1,20)),\n",
    "    'max_features': hp.choice('max_features', range(1,55)),\n",
    "    'n_estimators': hp.choice('n_estimators', range(100,500)),\n",
    "    'criterion': hp.choice('criterion', [\"gini\", \"entropy\"])}\n",
    "\n",
    "best = 0\n",
    "def f(params):\n",
    "    global best\n",
    "    acc = acc_model(params)\n",
    "    if acc > best:\n",
    "        best = acc\n",
    "    print ('new best:', best, params)\n",
    "    return {'loss': -acc, 'status': STATUS_OK}\n",
    "\n",
    "trials = Trials()\n",
    "best = fmin(f, param_space, algo=tpe.suggest, max_evals=5, trials=trials)\n",
    "print ('best:')\n",
    "print (best)\n"
   ]
  },
  {
   "cell_type": "code",
   "execution_count": null,
   "metadata": {},
   "outputs": [],
   "source": [
    "model1 = XGBClassifier(\n",
    " learning_rate =0.1,\n",
    " n_estimators=110,\n",
    " max_depth=5,\n",
    " min_child_weight=1,\n",
    " gamma=0,\n",
    " subsample=0.8,\n",
    " colsample_bytree=1,\n",
    " objective= 'binary:logistic',\n",
    " nthread=-1,\n",
    " scale_pos_weight=1,\n",
    " seed=27)\n",
    "\n",
    "modelfit(model1, X_train,y_train,X_validation,y_validation,test_df,sub_df,predictors,outcome,useTrainCV=True, cv_folds=5, early_stopping_rounds=50)"
   ]
  },
  {
   "cell_type": "code",
   "execution_count": null,
   "metadata": {},
   "outputs": [],
   "source": []
  },
  {
   "cell_type": "code",
   "execution_count": null,
   "metadata": {},
   "outputs": [],
   "source": []
  },
  {
   "cell_type": "code",
   "execution_count": null,
   "metadata": {},
   "outputs": [],
   "source": []
  },
  {
   "cell_type": "code",
   "execution_count": null,
   "metadata": {},
   "outputs": [],
   "source": []
  },
  {
   "cell_type": "code",
   "execution_count": null,
   "metadata": {},
   "outputs": [],
   "source": []
  },
  {
   "cell_type": "code",
   "execution_count": null,
   "metadata": {},
   "outputs": [],
   "source": []
  },
  {
   "cell_type": "code",
   "execution_count": null,
   "metadata": {},
   "outputs": [],
   "source": []
  },
  {
   "cell_type": "code",
   "execution_count": null,
   "metadata": {},
   "outputs": [],
   "source": []
  },
  {
   "cell_type": "code",
   "execution_count": null,
   "metadata": {},
   "outputs": [],
   "source": []
  },
  {
   "cell_type": "code",
   "execution_count": null,
   "metadata": {},
   "outputs": [],
   "source": []
  },
  {
   "cell_type": "code",
   "execution_count": null,
   "metadata": {},
   "outputs": [],
   "source": []
  },
  {
   "cell_type": "code",
   "execution_count": null,
   "metadata": {},
   "outputs": [],
   "source": []
  },
  {
   "cell_type": "code",
   "execution_count": null,
   "metadata": {},
   "outputs": [],
   "source": []
  },
  {
   "cell_type": "code",
   "execution_count": null,
   "metadata": {},
   "outputs": [],
   "source": []
  },
  {
   "cell_type": "code",
   "execution_count": null,
   "metadata": {},
   "outputs": [],
   "source": []
  },
  {
   "cell_type": "code",
   "execution_count": null,
   "metadata": {},
   "outputs": [],
   "source": []
  },
  {
   "cell_type": "code",
   "execution_count": null,
   "metadata": {},
   "outputs": [],
   "source": []
  },
  {
   "cell_type": "code",
   "execution_count": null,
   "metadata": {},
   "outputs": [],
   "source": []
  },
  {
   "cell_type": "code",
   "execution_count": null,
   "metadata": {},
   "outputs": [],
   "source": []
  },
  {
   "cell_type": "code",
   "execution_count": null,
   "metadata": {},
   "outputs": [],
   "source": [
    "\n",
    "\n",
    "\n",
    "\n",
    "\n",
    "\n",
    "\n",
    "\n",
    "\n",
    "\n",
    "\n",
    " \n",
    "\n",
    "\n",
    "\n",
    "\n",
    "\n",
    "\n",
    "\n",
    "\n",
    "\n",
    "\n",
    "\n",
    "\n",
    "\n",
    "\n",
    "\n"
   ]
  },
  {
   "cell_type": "code",
   "execution_count": null,
   "metadata": {},
   "outputs": [],
   "source": []
  },
  {
   "cell_type": "code",
   "execution_count": null,
   "metadata": {},
   "outputs": [],
   "source": []
  },
  {
   "cell_type": "code",
   "execution_count": null,
   "metadata": {},
   "outputs": [],
   "source": []
  },
  {
   "cell_type": "code",
   "execution_count": null,
   "metadata": {},
   "outputs": [],
   "source": []
  }
 ],
 "metadata": {
  "kernelspec": {
   "display_name": "tensorflow",
   "language": "python",
   "name": "tensorflow"
  },
  "language_info": {
   "codemirror_mode": {
    "name": "ipython",
    "version": 3
   },
   "file_extension": ".py",
   "mimetype": "text/x-python",
   "name": "python",
   "nbconvert_exporter": "python",
   "pygments_lexer": "ipython3",
   "version": "3.6.8"
  }
 },
 "nbformat": 4,
 "nbformat_minor": 2
}
