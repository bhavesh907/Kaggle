{
 "cells": [
  {
   "cell_type": "code",
   "execution_count": 38,
   "metadata": {},
   "outputs": [],
   "source": [
    "import pandas as pd\n",
    "import numpy as np\n",
    "import matplotlib.pyplot as plt"
   ]
  },
  {
   "cell_type": "code",
   "execution_count": 39,
   "metadata": {},
   "outputs": [],
   "source": [
    "train_df = pd.read_csv('/home/monster/Downloads/kaggle/AV-L&T-loan/train.csv')\n",
    "test_df = pd.read_csv('/home/monster/Downloads/kaggle/AV-L&T-loan/test.csv')\n",
    "sub_df = pd.read_csv('/home/monster/Downloads/kaggle/AV-L&T-loan/sample_submission.csv')"
   ]
  },
  {
   "cell_type": "code",
   "execution_count": 40,
   "metadata": {},
   "outputs": [
    {
     "data": {
      "text/plain": [
       "((233154, 41), (112392, 40))"
      ]
     },
     "execution_count": 40,
     "metadata": {},
     "output_type": "execute_result"
    }
   ],
   "source": [
    "train_df.shape,test_df.shape"
   ]
  },
  {
   "cell_type": "code",
   "execution_count": 41,
   "metadata": {},
   "outputs": [],
   "source": [
    "train_df['is_train'] = ''\n",
    "test_df['is_train'] = ''\n",
    "data = pd.DataFrame()\n",
    "train_df.loc[:,'is_train'] = 1\n",
    "test_df.loc[:,'is_train'] = 0\n",
    "data = data.append(train_df,sort=False).append(test_df,sort=False)"
   ]
  },
  {
   "cell_type": "code",
   "execution_count": 42,
   "metadata": {},
   "outputs": [],
   "source": [
    "data.reset_index(inplace=True)"
   ]
  },
  {
   "cell_type": "code",
   "execution_count": 43,
   "metadata": {},
   "outputs": [],
   "source": [
    "#Treat missing values\n",
    "#86 % values are no so it is safe to impute NO\n",
    "train_df['Employment.Type'].fillna('Self employed',inplace=True)\n",
    "test_df['Employment.Type'].fillna('Self employed',inplace=True)\n"
   ]
  },
  {
   "cell_type": "code",
   "execution_count": 44,
   "metadata": {},
   "outputs": [
    {
     "data": {
      "text/plain": [
       "UniqueID                               0\n",
       "disbursed_amount                       0\n",
       "asset_cost                             0\n",
       "ltv                                    0\n",
       "branch_id                              0\n",
       "supplier_id                            0\n",
       "manufacturer_id                        0\n",
       "Current_pincode_ID                     0\n",
       "Date.of.Birth                          0\n",
       "Employment.Type                        0\n",
       "DisbursalDate                          0\n",
       "State_ID                               0\n",
       "Employee_code_ID                       0\n",
       "MobileNo_Avl_Flag                      0\n",
       "Aadhar_flag                            0\n",
       "PAN_flag                               0\n",
       "VoterID_flag                           0\n",
       "Driving_flag                           0\n",
       "Passport_flag                          0\n",
       "PERFORM_CNS.SCORE                      0\n",
       "PERFORM_CNS.SCORE.DESCRIPTION          0\n",
       "PRI.NO.OF.ACCTS                        0\n",
       "PRI.ACTIVE.ACCTS                       0\n",
       "PRI.OVERDUE.ACCTS                      0\n",
       "PRI.CURRENT.BALANCE                    0\n",
       "PRI.SANCTIONED.AMOUNT                  0\n",
       "PRI.DISBURSED.AMOUNT                   0\n",
       "SEC.NO.OF.ACCTS                        0\n",
       "SEC.ACTIVE.ACCTS                       0\n",
       "SEC.OVERDUE.ACCTS                      0\n",
       "SEC.CURRENT.BALANCE                    0\n",
       "SEC.SANCTIONED.AMOUNT                  0\n",
       "SEC.DISBURSED.AMOUNT                   0\n",
       "PRIMARY.INSTAL.AMT                     0\n",
       "SEC.INSTAL.AMT                         0\n",
       "NEW.ACCTS.IN.LAST.SIX.MONTHS           0\n",
       "DELINQUENT.ACCTS.IN.LAST.SIX.MONTHS    0\n",
       "AVERAGE.ACCT.AGE                       0\n",
       "CREDIT.HISTORY.LENGTH                  0\n",
       "NO.OF_INQUIRIES                        0\n",
       "loan_default                           0\n",
       "is_train                               0\n",
       "dtype: int64"
      ]
     },
     "execution_count": 44,
     "metadata": {},
     "output_type": "execute_result"
    }
   ],
   "source": [
    "train_df.apply(lambda x: sum(x.isnull()),axis=0)"
   ]
  },
  {
   "cell_type": "code",
   "execution_count": 45,
   "metadata": {},
   "outputs": [
    {
     "data": {
      "text/plain": [
       "((112392, 41), (233154, 42), (112392, 41))"
      ]
     },
     "execution_count": 45,
     "metadata": {},
     "output_type": "execute_result"
    }
   ],
   "source": [
    "test_df.shape,train_df.shape,test_df.shape"
   ]
  },
  {
   "cell_type": "code",
   "execution_count": null,
   "metadata": {},
   "outputs": [],
   "source": []
  },
  {
   "cell_type": "code",
   "execution_count": 46,
   "metadata": {},
   "outputs": [],
   "source": [
    "#create mean and st dev features- leakage features\n",
    "ft_name = ['loan_default']\n",
    "var = ['branch_id','State_ID']\n",
    "fntouse = list([np.mean,np.sum])\n",
    "\n",
    "# temp2 = data.pivot_table(values='ltv',index=['Current_pincode_ID'],aggfunc=np.std)\n",
    "# # temp2.plot(kind='bar')\n",
    "# temp2.reset_index(inplace=True)\n",
    "# temp2.columns = ['Current_pincode_ID', 'ltv_stdev']\n",
    "for ftname in ft_name:\n",
    "    for fn2use in fntouse:\n",
    "        for var_name in var:\n",
    "            temp3 = train_df.pivot_table(values=ftname,index=[var_name],aggfunc=fn2use)\n",
    "            # temp2.plot(kind='bar')\n",
    "            temp3.reset_index(inplace=True)\n",
    "            temp3.columns = [var_name, var_name+'_'+ftname+'_'+str(fn2use).split(' ')[1]]\n",
    "            train_df = train_df.merge(temp3,on=var_name, how = 'left')\n",
    "            test_df = test_df.merge(temp3,on=var_name, how = 'left')\n",
    "    #         data[var_name+'_stdev'] = data[ftname]-data[var_name+'_'+ftname+'_mean']\n",
    "\n",
    "            # df = pd.concat([temp2,temp3],axis=1)"
   ]
  },
  {
   "cell_type": "code",
   "execution_count": null,
   "metadata": {},
   "outputs": [],
   "source": []
  },
  {
   "cell_type": "code",
   "execution_count": null,
   "metadata": {},
   "outputs": [],
   "source": []
  },
  {
   "cell_type": "code",
   "execution_count": 47,
   "metadata": {},
   "outputs": [],
   "source": [
    "train_df['CREDIT.HISTORY.LENGTH.YEARS'] = train_df['CREDIT.HISTORY.LENGTH'].map(lambda x : int(x.split(' ')[0][:-3]))\n",
    "\n",
    "test_df['CREDIT.HISTORY.LENGTH.YEARS'] = test_df['CREDIT.HISTORY.LENGTH'].map(lambda x : int(x.split(' ')[0][:-3]))"
   ]
  },
  {
   "cell_type": "code",
   "execution_count": 48,
   "metadata": {},
   "outputs": [],
   "source": [
    "train_df['CREDIT.HISTORY.LENGTH.MONTHS'] = train_df['CREDIT.HISTORY.LENGTH'].map(lambda x : int(x.split(' ')[1][:-3]))\n",
    "\n",
    "test_df['CREDIT.HISTORY.LENGTH.MONTHS'] = test_df['CREDIT.HISTORY.LENGTH'].map(lambda x : int(x.split(' ')[1][:-3]))"
   ]
  },
  {
   "cell_type": "code",
   "execution_count": 49,
   "metadata": {},
   "outputs": [],
   "source": [
    "train_df['CREDIT.HISTORY.LENGTH.TOTMONS'] = train_df['CREDIT.HISTORY.LENGTH.MONTHS'] + np.dot(train_df['CREDIT.HISTORY.LENGTH.YEARS'],12)\n",
    "\n",
    "test_df['CREDIT.HISTORY.LENGTH.TOTMONS'] = test_df['CREDIT.HISTORY.LENGTH.MONTHS'] + np.dot(test_df['CREDIT.HISTORY.LENGTH.YEARS'],12)"
   ]
  },
  {
   "cell_type": "code",
   "execution_count": null,
   "metadata": {},
   "outputs": [],
   "source": []
  },
  {
   "cell_type": "code",
   "execution_count": 50,
   "metadata": {},
   "outputs": [],
   "source": [
    "train_df['AVERAGE.ACCT.AGE.YEARS'] = train_df['AVERAGE.ACCT.AGE'].map(lambda x : int(x.split(' ')[0][:-3]))\n",
    "\n",
    "train_df['AVERAGE.ACCT.AGE.MONTHS'] = train_df['AVERAGE.ACCT.AGE'].map(lambda x : int(x.split(' ')[1][:-3]))\n",
    "\n",
    "train_df['AVERAGE.ACCT.AGE.TOTMONS'] = train_df['AVERAGE.ACCT.AGE.MONTHS'] + np.dot(train_df['AVERAGE.ACCT.AGE.YEARS'],12)\n",
    "\n",
    "\n",
    "\n",
    "test_df['AVERAGE.ACCT.AGE.YEARS'] = test_df['AVERAGE.ACCT.AGE'].map(lambda x : int(x.split(' ')[0][:-3]))\n",
    "\n",
    "test_df['AVERAGE.ACCT.AGE.MONTHS'] = test_df['AVERAGE.ACCT.AGE'].map(lambda x : int(x.split(' ')[1][:-3]))\n",
    "\n",
    "test_df['AVERAGE.ACCT.AGE.TOTMONS'] = test_df['AVERAGE.ACCT.AGE.MONTHS'] + np.dot(test_df['AVERAGE.ACCT.AGE.YEARS'],12)"
   ]
  },
  {
   "cell_type": "code",
   "execution_count": 51,
   "metadata": {},
   "outputs": [
    {
     "data": {
      "text/plain": [
       "'01-01-84'"
      ]
     },
     "execution_count": 51,
     "metadata": {},
     "output_type": "execute_result"
    }
   ],
   "source": [
    "data['Date.of.Birth'][0]"
   ]
  },
  {
   "cell_type": "code",
   "execution_count": 52,
   "metadata": {},
   "outputs": [],
   "source": [
    "train_df['Date.of.Birth.YEAR'] = train_df['Date.of.Birth'].map(lambda x : int(x.split('-')[2]))\n",
    "\n",
    "test_df['Date.of.Birth.YEAR'] = test_df['Date.of.Birth'].map(lambda x : int(x.split('-')[2]))"
   ]
  },
  {
   "cell_type": "code",
   "execution_count": 53,
   "metadata": {},
   "outputs": [],
   "source": [
    "train_df['Date.of.Birth.YEAR.conv'] = ''\n",
    "\n",
    "test_df['Date.of.Birth.YEAR.conv'] = ''"
   ]
  },
  {
   "cell_type": "code",
   "execution_count": 54,
   "metadata": {},
   "outputs": [],
   "source": [
    "train_df.loc[train_df['Date.of.Birth.YEAR']==0,'Date.of.Birth.YEAR.conv'] = 2000\n",
    "\n",
    "test_df.loc[test_df['Date.of.Birth.YEAR']==0,'Date.of.Birth.YEAR.conv'] = 2000"
   ]
  },
  {
   "cell_type": "code",
   "execution_count": 55,
   "metadata": {},
   "outputs": [],
   "source": [
    "train_df.loc[train_df['Date.of.Birth.YEAR']>0,'Date.of.Birth.YEAR.conv'] = train_df.loc[train_df['Date.of.Birth.YEAR']>0,'Date.of.Birth.YEAR']+1900\n",
    "\n",
    "test_df.loc[test_df['Date.of.Birth.YEAR']>0,'Date.of.Birth.YEAR.conv'] = test_df.loc[test_df['Date.of.Birth.YEAR']>0,'Date.of.Birth.YEAR']+1900"
   ]
  },
  {
   "cell_type": "code",
   "execution_count": 56,
   "metadata": {},
   "outputs": [],
   "source": [
    "train_df['Date.of.Birth.AGE'] = ''\n",
    "\n",
    "train_df['Date.of.Birth.AGE'] = 2019 - train_df.loc[:,'Date.of.Birth.YEAR.conv']\n",
    "\n",
    "test_df['Date.of.Birth.AGE'] = ''\n",
    "\n",
    "test_df['Date.of.Birth.AGE'] = 2019 - test_df.loc[:,'Date.of.Birth.YEAR.conv']"
   ]
  },
  {
   "cell_type": "code",
   "execution_count": 57,
   "metadata": {},
   "outputs": [],
   "source": [
    "#st dev and mean of ltv feature"
   ]
  },
  {
   "cell_type": "code",
   "execution_count": null,
   "metadata": {},
   "outputs": [],
   "source": []
  },
  {
   "cell_type": "code",
   "execution_count": 58,
   "metadata": {},
   "outputs": [
    {
     "data": {
      "text/plain": [
       "<matplotlib.axes._subplots.AxesSubplot at 0x7f084d1b41d0>"
      ]
     },
     "execution_count": 58,
     "metadata": {},
     "output_type": "execute_result"
    },
    {
     "data": {
      "image/png": "[encoded data removed]",
      "text/plain": [
       "<Figure size 432x288 with 1 Axes>"
      ]
     },
     "metadata": {
      "needs_background": "light"
     },
     "output_type": "display_data"
    }
   ],
   "source": [
    "temp2 = data.pivot_table(values='loan_default',index=['branch_id'],aggfunc=np.mean)\n",
    "# print('Frequency Table for Credit History:') \n",
    "# print(temp2)\n",
    "\n",
    "# fig = plt.figure(figsize=(8,4))\n",
    "# ax1 = fig.add_subplot(121)\n",
    "# ax1.set_xlabel('Credit_History')\n",
    "# ax1.set_ylabel('Count of Applicants')\n",
    "# ax1.set_title(\"Applicants by Credit_History\")\n",
    "temp2.plot(kind='bar')\n",
    "\n"
   ]
  },
  {
   "cell_type": "code",
   "execution_count": 59,
   "metadata": {},
   "outputs": [],
   "source": [
    "#create mean and st dev features\n",
    "\n",
    "\n",
    "ft_name = ['disbursed_amount','asset_cost','ltv','PERFORM_CNS.SCORE','PRIMARY.INSTAL.AMT']\n",
    "\n",
    "\n",
    "#All 208 features - aggregated\n",
    "\n",
    "# ft_name = ['disbursed_amount','asset_cost','ltv','PERFORM_CNS.SCORE','PRIMARY.INSTAL.AMT',\n",
    "#            'PRI.NO.OF.ACCTS', 'PRI.ACTIVE.ACCTS',\n",
    "#        'PRI.OVERDUE.ACCTS', 'PRI.CURRENT.BALANCE', 'PRI.SANCTIONED.AMOUNT',\n",
    "#        'PRI.DISBURSED.AMOUNT', 'SEC.NO.OF.ACCTS', 'SEC.ACTIVE.ACCTS',\n",
    "#        'SEC.OVERDUE.ACCTS', 'SEC.CURRENT.BALANCE', 'SEC.SANCTIONED.AMOUNT',\n",
    "#        'SEC.DISBURSED.AMOUNT', 'SEC.INSTAL.AMT',\n",
    "#        'NEW.ACCTS.IN.LAST.SIX.MONTHS', 'DELINQUENT.ACCTS.IN.LAST.SIX.MONTHS',]\n",
    "\n",
    "\n",
    "    \n",
    "var = ['Current_pincode_ID','branch_id','supplier_id','manufacturer_id','State_ID','Employee_code_ID']\n",
    "# temp2 = data.pivot_table(values='ltv',index=['Current_pincode_ID'],aggfunc=np.std)\n",
    "# # temp2.plot(kind='bar')\n",
    "# temp2.reset_index(inplace=True)\n",
    "# temp2.columns = ['Current_pincode_ID', 'ltv_stdev']\n",
    "for ftname in ft_name:\n",
    "    for var_name in var:\n",
    "        temp3 = train_df.pivot_table(values=ftname,index=[var_name],aggfunc=np.mean)\n",
    "        \n",
    "        temp4 = test_df.pivot_table(values=ftname,index=[var_name],aggfunc=np.mean)\n",
    "\n",
    "        # temp2.plot(kind='bar')\n",
    "        temp3.reset_index(inplace=True)\n",
    "        temp4.reset_index(inplace=True)\n",
    "        \n",
    "        temp3.columns = [var_name, var_name+'_'+ftname+'_mean']\n",
    "        temp4.columns = [var_name, var_name+'_'+ftname+'_mean']\n",
    "        \n",
    "        train_df = train_df.merge(temp3,on=var_name, how = 'left')\n",
    "        test_df = test_df.merge(temp4,on=var_name, how = 'left')\n",
    "        \n",
    "        train_df[var_name+'_stdev'] = train_df[ftname]-train_df[var_name+'_'+ftname+'_mean']\n",
    "        \n",
    "        test_df[var_name+'_stdev'] = test_df[ftname]-test_df[var_name+'_'+ftname+'_mean']\n",
    "\n",
    "        # df = pd.concat([temp2,temp3],axis=1)"
   ]
  },
  {
   "cell_type": "code",
   "execution_count": 60,
   "metadata": {},
   "outputs": [],
   "source": [
    "# data = data.merge(temp3,on='Current_pincode_ID', how = 'left')"
   ]
  },
  {
   "cell_type": "code",
   "execution_count": 61,
   "metadata": {},
   "outputs": [],
   "source": [
    "# data['ltv_stdev'] = data['ltv']-data['ltv_mean']"
   ]
  },
  {
   "cell_type": "code",
   "execution_count": null,
   "metadata": {},
   "outputs": [],
   "source": []
  },
  {
   "cell_type": "code",
   "execution_count": null,
   "metadata": {},
   "outputs": [],
   "source": []
  },
  {
   "cell_type": "code",
   "execution_count": null,
   "metadata": {},
   "outputs": [],
   "source": []
  },
  {
   "cell_type": "code",
   "execution_count": 62,
   "metadata": {},
   "outputs": [],
   "source": [
    "train_df['PERFORM_CNS.SCORE.DESCRIPTION'] = train_df['PERFORM_CNS.SCORE.DESCRIPTION'].replace(' ', '_', regex=True)\n",
    "\n",
    "test_df['PERFORM_CNS.SCORE.DESCRIPTION'] = test_df['PERFORM_CNS.SCORE.DESCRIPTION'].replace(' ', '_', regex=True)"
   ]
  },
  {
   "cell_type": "code",
   "execution_count": 63,
   "metadata": {},
   "outputs": [],
   "source": [
    "#treat categorical variables\n",
    "from sklearn.preprocessing import OneHotEncoder\n",
    "\n",
    "d = pd.DataFrame()\n",
    "\n",
    "var_mod = ['Employment.Type','PERFORM_CNS.SCORE.DESCRIPTION']\n",
    "\n",
    "x = pd.get_dummies(train_df[var_mod])\n",
    "x1 = pd.get_dummies(test_df[var_mod])\n",
    "\n",
    "train_df  = train_df.drop(var_mod,axis=1)\n",
    "train_df = pd.concat([train_df,x], axis=1)\n",
    "\n",
    "test_df  = test_df.drop(var_mod,axis=1)\n",
    "test_df = pd.concat([test_df,x1], axis=1)\n",
    "\n",
    "\n",
    "# for i in var_mod:\n",
    "#     print(i)\n",
    "# #     d[str(i)] \n",
    "#     dd = le.fit_transform(data.loc[:,i]).toarray()\n",
    "#     print(dd.shape)\n",
    "# d.dtypes\n"
   ]
  },
  {
   "cell_type": "code",
   "execution_count": 64,
   "metadata": {},
   "outputs": [
    {
     "data": {
      "text/plain": [
       "((233154, 111), (112392, 109))"
      ]
     },
     "execution_count": 64,
     "metadata": {},
     "output_type": "execute_result"
    }
   ],
   "source": [
    "train_df.shape,test_df.shape"
   ]
  },
  {
   "cell_type": "code",
   "execution_count": 65,
   "metadata": {},
   "outputs": [],
   "source": [
    "main_list = np.setdiff1d(list(train_df.columns),list(test_df.columns))"
   ]
  },
  {
   "cell_type": "code",
   "execution_count": 66,
   "metadata": {},
   "outputs": [
    {
     "data": {
      "text/plain": [
       "array(['PERFORM_CNS.SCORE.DESCRIPTION_Not_Scored:_More_than_50_active_Accounts_found',\n",
       "       'loan_default'], dtype='<U85')"
      ]
     },
     "execution_count": 66,
     "metadata": {},
     "output_type": "execute_result"
    }
   ],
   "source": [
    "main_list #need to drop these variables from both test and train"
   ]
  },
  {
   "cell_type": "code",
   "execution_count": null,
   "metadata": {},
   "outputs": [],
   "source": []
  },
  {
   "cell_type": "code",
   "execution_count": null,
   "metadata": {},
   "outputs": [],
   "source": []
  },
  {
   "cell_type": "code",
   "execution_count": null,
   "metadata": {},
   "outputs": [],
   "source": []
  },
  {
   "cell_type": "code",
   "execution_count": null,
   "metadata": {},
   "outputs": [],
   "source": []
  },
  {
   "cell_type": "code",
   "execution_count": null,
   "metadata": {},
   "outputs": [],
   "source": [
    "data['ltv'].hist(bins=50)\n",
    "plt.show()"
   ]
  },
  {
   "cell_type": "code",
   "execution_count": null,
   "metadata": {},
   "outputs": [],
   "source": [
    "(data['ltv']**2).hist(bins=50)\n",
    "plt.show()"
   ]
  },
  {
   "cell_type": "code",
   "execution_count": null,
   "metadata": {},
   "outputs": [],
   "source": [
    "(data['ltv']**1/3).hist(bins=50)\n",
    "plt.show()"
   ]
  },
  {
   "cell_type": "code",
   "execution_count": 67,
   "metadata": {},
   "outputs": [],
   "source": [
    "train_df['log_disbursed_amount'] = np.log(train_df['disbursed_amount'])\n",
    "train_df['log_asset_cost'] = np.log(train_df['asset_cost'])\n",
    "\n",
    "test_df['log_disbursed_amount'] = np.log(test_df['disbursed_amount'])\n",
    "test_df['log_asset_cost'] = np.log(test_df['asset_cost'])"
   ]
  },
  {
   "cell_type": "code",
   "execution_count": 68,
   "metadata": {},
   "outputs": [],
   "source": [
    "train_df['ltv_squared'] = train_df['ltv']**2\n",
    "train_df['log_ltv'] = np.log(train_df['ltv'])\n",
    "\n",
    "test_df['ltv_squared'] = test_df['ltv']**2\n",
    "test_df['log_ltv'] = np.log(test_df['ltv'])"
   ]
  },
  {
   "cell_type": "code",
   "execution_count": 69,
   "metadata": {},
   "outputs": [
    {
     "data": {
      "text/plain": [
       "'03-08-18'"
      ]
     },
     "execution_count": 69,
     "metadata": {},
     "output_type": "execute_result"
    }
   ],
   "source": [
    "train_df['DisbursalDate'][0]"
   ]
  },
  {
   "cell_type": "code",
   "execution_count": 70,
   "metadata": {},
   "outputs": [],
   "source": [
    "train_df['DisbursalDate.YEAR'] = train_df['DisbursalDate'].map(lambda x : int(x.split('-')[2]))\n",
    "\n",
    "test_df['DisbursalDate.YEAR'] = test_df['DisbursalDate'].map(lambda x : int(x.split('-')[2]))\n",
    "\n",
    "train_df['DisbursalDate.YEAR.conv'] = ''\n",
    "\n",
    "test_df['DisbursalDate.YEAR.conv'] = ''\n",
    "\n",
    "train_df.loc[train_df['DisbursalDate.YEAR']==0,'DisbursalDate.YEAR.conv'] = 2000\n",
    "\n",
    "test_df.loc[test_df['DisbursalDate.YEAR']==0,'DisbursalDate.YEAR.conv'] = 2000\n",
    "\n",
    "train_df.loc[train_df['DisbursalDate.YEAR']>0,'DisbursalDate.YEAR.conv'] = train_df.loc[train_df['DisbursalDate.YEAR']>0,'DisbursalDate.YEAR']+1900\n",
    "\n",
    "test_df.loc[test_df['DisbursalDate.YEAR']>0,'DisbursalDate.YEAR.conv'] = test_df.loc[test_df['DisbursalDate.YEAR']>0,'DisbursalDate.YEAR']+1900\n",
    "\n",
    "train_df['DisbursalDate.AGE'] = ''\n",
    "\n",
    "train_df['DisbursalDate.AGE'] = 2019 - train_df.loc[:,'DisbursalDate.YEAR.conv']\n",
    "\n",
    "test_df['DisbursalDate.AGE'] = ''\n",
    "\n",
    "test_df['DisbursalDate.AGE'] = 2019 - test_df.loc[:,'DisbursalDate.YEAR.conv']"
   ]
  },
  {
   "cell_type": "code",
   "execution_count": null,
   "metadata": {},
   "outputs": [],
   "source": []
  },
  {
   "cell_type": "code",
   "execution_count": null,
   "metadata": {},
   "outputs": [],
   "source": []
  },
  {
   "cell_type": "code",
   "execution_count": 71,
   "metadata": {},
   "outputs": [],
   "source": [
    "train_df['DisbursalDate_month'] = train_df['DisbursalDate'].map(lambda x : int(x.split('-')[1]))\n",
    "train_df['DisbursalDate_dayofmonth'] = train_df['DisbursalDate'].map(lambda x : int(x.split('-')[0]))\n",
    "\n",
    "test_df['DisbursalDate_month'] = test_df['DisbursalDate'].map(lambda x : int(x.split('-')[1]))\n",
    "test_df['DisbursalDate_dayofmonth'] = test_df['DisbursalDate'].map(lambda x : int(x.split('-')[0]))\n"
   ]
  },
  {
   "cell_type": "code",
   "execution_count": null,
   "metadata": {},
   "outputs": [],
   "source": []
  },
  {
   "cell_type": "code",
   "execution_count": 72,
   "metadata": {},
   "outputs": [
    {
     "data": {
      "text/plain": [
       "UniqueID                                                                                 0\n",
       "disbursed_amount                                                                         0\n",
       "asset_cost                                                                               0\n",
       "ltv                                                                                      0\n",
       "branch_id                                                                                0\n",
       "supplier_id                                                                              0\n",
       "manufacturer_id                                                                          0\n",
       "Current_pincode_ID                                                                       0\n",
       "Date.of.Birth                                                                            0\n",
       "DisbursalDate                                                                            0\n",
       "State_ID                                                                                 0\n",
       "Employee_code_ID                                                                         0\n",
       "MobileNo_Avl_Flag                                                                        0\n",
       "Aadhar_flag                                                                              0\n",
       "PAN_flag                                                                                 0\n",
       "VoterID_flag                                                                             0\n",
       "Driving_flag                                                                             0\n",
       "Passport_flag                                                                            0\n",
       "PERFORM_CNS.SCORE                                                                        0\n",
       "PRI.NO.OF.ACCTS                                                                          0\n",
       "PRI.ACTIVE.ACCTS                                                                         0\n",
       "PRI.OVERDUE.ACCTS                                                                        0\n",
       "PRI.CURRENT.BALANCE                                                                      0\n",
       "PRI.SANCTIONED.AMOUNT                                                                    0\n",
       "PRI.DISBURSED.AMOUNT                                                                     0\n",
       "SEC.NO.OF.ACCTS                                                                          0\n",
       "SEC.ACTIVE.ACCTS                                                                         0\n",
       "SEC.OVERDUE.ACCTS                                                                        0\n",
       "SEC.CURRENT.BALANCE                                                                      0\n",
       "SEC.SANCTIONED.AMOUNT                                                                    0\n",
       "                                                                                        ..\n",
       "Employment.Type_Self employed                                                            0\n",
       "PERFORM_CNS.SCORE.DESCRIPTION_A-Very_Low_Risk                                            0\n",
       "PERFORM_CNS.SCORE.DESCRIPTION_B-Very_Low_Risk                                            0\n",
       "PERFORM_CNS.SCORE.DESCRIPTION_C-Very_Low_Risk                                            0\n",
       "PERFORM_CNS.SCORE.DESCRIPTION_D-Very_Low_Risk                                            0\n",
       "PERFORM_CNS.SCORE.DESCRIPTION_E-Low_Risk                                                 0\n",
       "PERFORM_CNS.SCORE.DESCRIPTION_F-Low_Risk                                                 0\n",
       "PERFORM_CNS.SCORE.DESCRIPTION_G-Low_Risk                                                 0\n",
       "PERFORM_CNS.SCORE.DESCRIPTION_H-Medium_Risk                                              0\n",
       "PERFORM_CNS.SCORE.DESCRIPTION_I-Medium_Risk                                              0\n",
       "PERFORM_CNS.SCORE.DESCRIPTION_J-High_Risk                                                0\n",
       "PERFORM_CNS.SCORE.DESCRIPTION_K-High_Risk                                                0\n",
       "PERFORM_CNS.SCORE.DESCRIPTION_L-Very_High_Risk                                           0\n",
       "PERFORM_CNS.SCORE.DESCRIPTION_M-Very_High_Risk                                           0\n",
       "PERFORM_CNS.SCORE.DESCRIPTION_No_Bureau_History_Available                                0\n",
       "PERFORM_CNS.SCORE.DESCRIPTION_Not_Scored:_More_than_50_active_Accounts_found             0\n",
       "PERFORM_CNS.SCORE.DESCRIPTION_Not_Scored:_No_Activity_seen_on_the_customer_(Inactive)    0\n",
       "PERFORM_CNS.SCORE.DESCRIPTION_Not_Scored:_No_Updates_available_in_last_36_months         0\n",
       "PERFORM_CNS.SCORE.DESCRIPTION_Not_Scored:_Not_Enough_Info_available_on_the_customer      0\n",
       "PERFORM_CNS.SCORE.DESCRIPTION_Not_Scored:_Only_a_Guarantor                               0\n",
       "PERFORM_CNS.SCORE.DESCRIPTION_Not_Scored:_Sufficient_History_Not_Available               0\n",
       "log_disbursed_amount                                                                     0\n",
       "log_asset_cost                                                                           0\n",
       "ltv_squared                                                                              0\n",
       "log_ltv                                                                                  0\n",
       "DisbursalDate.YEAR                                                                       0\n",
       "DisbursalDate.YEAR.conv                                                                  0\n",
       "DisbursalDate.AGE                                                                        0\n",
       "DisbursalDate_month                                                                      0\n",
       "DisbursalDate_dayofmonth                                                                 0\n",
       "Length: 120, dtype: int64"
      ]
     },
     "execution_count": 72,
     "metadata": {},
     "output_type": "execute_result"
    }
   ],
   "source": [
    "train_df.apply(lambda x: sum(x.isnull()),axis=0)"
   ]
  },
  {
   "cell_type": "code",
   "execution_count": null,
   "metadata": {},
   "outputs": [],
   "source": [
    "test_df.apply(lambda x: sum(x.isnull()),axis=0)"
   ]
  },
  {
   "cell_type": "code",
   "execution_count": 73,
   "metadata": {},
   "outputs": [
    {
     "data": {
      "text/plain": [
       "((233154, 120), (112392, 118))"
      ]
     },
     "execution_count": 73,
     "metadata": {},
     "output_type": "execute_result"
    }
   ],
   "source": [
    "train_df.shape,test_df.shape"
   ]
  },
  {
   "cell_type": "code",
   "execution_count": 75,
   "metadata": {},
   "outputs": [
    {
     "data": {
      "text/plain": [
       "array(['PERFORM_CNS.SCORE.DESCRIPTION_Not_Scored:_More_than_50_active_Accounts_found',\n",
       "       'loan_default'], dtype='<U85')"
      ]
     },
     "execution_count": 75,
     "metadata": {},
     "output_type": "execute_result"
    }
   ],
   "source": [
    "main_list = np.setdiff1d(list(train_df.columns),list(test_df.columns))\n",
    "\n",
    "main_list #need to drop these variables from both test and train"
   ]
  },
  {
   "cell_type": "code",
   "execution_count": 76,
   "metadata": {},
   "outputs": [
    {
     "data": {
      "text/plain": [
       "['UniqueID',\n",
       " 'disbursed_amount',\n",
       " 'asset_cost',\n",
       " 'ltv',\n",
       " 'branch_id',\n",
       " 'supplier_id',\n",
       " 'manufacturer_id',\n",
       " 'Current_pincode_ID',\n",
       " 'Date.of.Birth',\n",
       " 'DisbursalDate',\n",
       " 'State_ID',\n",
       " 'Employee_code_ID',\n",
       " 'MobileNo_Avl_Flag',\n",
       " 'Aadhar_flag',\n",
       " 'PAN_flag',\n",
       " 'VoterID_flag',\n",
       " 'Driving_flag',\n",
       " 'Passport_flag',\n",
       " 'PERFORM_CNS.SCORE',\n",
       " 'PRI.NO.OF.ACCTS',\n",
       " 'PRI.ACTIVE.ACCTS',\n",
       " 'PRI.OVERDUE.ACCTS',\n",
       " 'PRI.CURRENT.BALANCE',\n",
       " 'PRI.SANCTIONED.AMOUNT',\n",
       " 'PRI.DISBURSED.AMOUNT',\n",
       " 'SEC.NO.OF.ACCTS',\n",
       " 'SEC.ACTIVE.ACCTS',\n",
       " 'SEC.OVERDUE.ACCTS',\n",
       " 'SEC.CURRENT.BALANCE',\n",
       " 'SEC.SANCTIONED.AMOUNT',\n",
       " 'SEC.DISBURSED.AMOUNT',\n",
       " 'PRIMARY.INSTAL.AMT',\n",
       " 'SEC.INSTAL.AMT',\n",
       " 'NEW.ACCTS.IN.LAST.SIX.MONTHS',\n",
       " 'DELINQUENT.ACCTS.IN.LAST.SIX.MONTHS',\n",
       " 'AVERAGE.ACCT.AGE',\n",
       " 'CREDIT.HISTORY.LENGTH',\n",
       " 'NO.OF_INQUIRIES',\n",
       " 'loan_default',\n",
       " 'is_train',\n",
       " 'branch_id_loan_default_mean',\n",
       " 'State_ID_loan_default_mean',\n",
       " 'branch_id_loan_default_sum',\n",
       " 'State_ID_loan_default_sum',\n",
       " 'CREDIT.HISTORY.LENGTH.YEARS',\n",
       " 'CREDIT.HISTORY.LENGTH.MONTHS',\n",
       " 'CREDIT.HISTORY.LENGTH.TOTMONS',\n",
       " 'AVERAGE.ACCT.AGE.YEARS',\n",
       " 'AVERAGE.ACCT.AGE.MONTHS',\n",
       " 'AVERAGE.ACCT.AGE.TOTMONS',\n",
       " 'Date.of.Birth.YEAR',\n",
       " 'Date.of.Birth.YEAR.conv',\n",
       " 'Date.of.Birth.AGE',\n",
       " 'Current_pincode_ID_disbursed_amount_mean',\n",
       " 'Current_pincode_ID_stdev',\n",
       " 'branch_id_disbursed_amount_mean',\n",
       " 'branch_id_stdev',\n",
       " 'supplier_id_disbursed_amount_mean',\n",
       " 'supplier_id_stdev',\n",
       " 'manufacturer_id_disbursed_amount_mean',\n",
       " 'manufacturer_id_stdev',\n",
       " 'State_ID_disbursed_amount_mean',\n",
       " 'State_ID_stdev',\n",
       " 'Employee_code_ID_disbursed_amount_mean',\n",
       " 'Employee_code_ID_stdev',\n",
       " 'Current_pincode_ID_asset_cost_mean',\n",
       " 'branch_id_asset_cost_mean',\n",
       " 'supplier_id_asset_cost_mean',\n",
       " 'manufacturer_id_asset_cost_mean',\n",
       " 'State_ID_asset_cost_mean',\n",
       " 'Employee_code_ID_asset_cost_mean',\n",
       " 'Current_pincode_ID_ltv_mean',\n",
       " 'branch_id_ltv_mean',\n",
       " 'supplier_id_ltv_mean',\n",
       " 'manufacturer_id_ltv_mean',\n",
       " 'State_ID_ltv_mean',\n",
       " 'Employee_code_ID_ltv_mean',\n",
       " 'Current_pincode_ID_PERFORM_CNS.SCORE_mean',\n",
       " 'branch_id_PERFORM_CNS.SCORE_mean',\n",
       " 'supplier_id_PERFORM_CNS.SCORE_mean',\n",
       " 'manufacturer_id_PERFORM_CNS.SCORE_mean',\n",
       " 'State_ID_PERFORM_CNS.SCORE_mean',\n",
       " 'Employee_code_ID_PERFORM_CNS.SCORE_mean',\n",
       " 'Current_pincode_ID_PRIMARY.INSTAL.AMT_mean',\n",
       " 'branch_id_PRIMARY.INSTAL.AMT_mean',\n",
       " 'supplier_id_PRIMARY.INSTAL.AMT_mean',\n",
       " 'manufacturer_id_PRIMARY.INSTAL.AMT_mean',\n",
       " 'State_ID_PRIMARY.INSTAL.AMT_mean',\n",
       " 'Employee_code_ID_PRIMARY.INSTAL.AMT_mean',\n",
       " 'Employment.Type_Salaried',\n",
       " 'Employment.Type_Self employed',\n",
       " 'PERFORM_CNS.SCORE.DESCRIPTION_A-Very_Low_Risk',\n",
       " 'PERFORM_CNS.SCORE.DESCRIPTION_B-Very_Low_Risk',\n",
       " 'PERFORM_CNS.SCORE.DESCRIPTION_C-Very_Low_Risk',\n",
       " 'PERFORM_CNS.SCORE.DESCRIPTION_D-Very_Low_Risk',\n",
       " 'PERFORM_CNS.SCORE.DESCRIPTION_E-Low_Risk',\n",
       " 'PERFORM_CNS.SCORE.DESCRIPTION_F-Low_Risk',\n",
       " 'PERFORM_CNS.SCORE.DESCRIPTION_G-Low_Risk',\n",
       " 'PERFORM_CNS.SCORE.DESCRIPTION_H-Medium_Risk',\n",
       " 'PERFORM_CNS.SCORE.DESCRIPTION_I-Medium_Risk',\n",
       " 'PERFORM_CNS.SCORE.DESCRIPTION_J-High_Risk',\n",
       " 'PERFORM_CNS.SCORE.DESCRIPTION_K-High_Risk',\n",
       " 'PERFORM_CNS.SCORE.DESCRIPTION_L-Very_High_Risk',\n",
       " 'PERFORM_CNS.SCORE.DESCRIPTION_M-Very_High_Risk',\n",
       " 'PERFORM_CNS.SCORE.DESCRIPTION_No_Bureau_History_Available',\n",
       " 'PERFORM_CNS.SCORE.DESCRIPTION_Not_Scored:_More_than_50_active_Accounts_found',\n",
       " 'PERFORM_CNS.SCORE.DESCRIPTION_Not_Scored:_No_Activity_seen_on_the_customer_(Inactive)',\n",
       " 'PERFORM_CNS.SCORE.DESCRIPTION_Not_Scored:_No_Updates_available_in_last_36_months',\n",
       " 'PERFORM_CNS.SCORE.DESCRIPTION_Not_Scored:_Not_Enough_Info_available_on_the_customer',\n",
       " 'PERFORM_CNS.SCORE.DESCRIPTION_Not_Scored:_Only_a_Guarantor',\n",
       " 'PERFORM_CNS.SCORE.DESCRIPTION_Not_Scored:_Sufficient_History_Not_Available',\n",
       " 'log_disbursed_amount',\n",
       " 'log_asset_cost',\n",
       " 'ltv_squared',\n",
       " 'log_ltv',\n",
       " 'DisbursalDate.YEAR',\n",
       " 'DisbursalDate.YEAR.conv',\n",
       " 'DisbursalDate.AGE',\n",
       " 'DisbursalDate_month',\n",
       " 'DisbursalDate_dayofmonth']"
      ]
     },
     "execution_count": 76,
     "metadata": {},
     "output_type": "execute_result"
    }
   ],
   "source": [
    "list(train_df.columns)"
   ]
  },
  {
   "cell_type": "code",
   "execution_count": 85,
   "metadata": {},
   "outputs": [],
   "source": [
    "\n",
    "##Single best model predictors\n",
    "\n",
    "\n",
    "\n",
    "predictors = [\n",
    " 'disbursed_amount',\n",
    " 'asset_cost',\n",
    " 'ltv',\n",
    " 'branch_id',\n",
    " 'supplier_id',\n",
    " 'manufacturer_id',\n",
    " 'Current_pincode_ID',\n",
    " 'State_ID',\n",
    " 'Employee_code_ID',\n",
    " 'MobileNo_Avl_Flag',\n",
    " 'Aadhar_flag',\n",
    " 'PAN_flag',\n",
    " 'VoterID_flag',\n",
    " 'Driving_flag',\n",
    " 'Passport_flag',\n",
    " 'PERFORM_CNS.SCORE',\n",
    " 'PRI.NO.OF.ACCTS',\n",
    " 'PRI.ACTIVE.ACCTS',\n",
    " 'PRI.OVERDUE.ACCTS',\n",
    " 'PRI.CURRENT.BALANCE',\n",
    " 'PRI.SANCTIONED.AMOUNT',\n",
    " 'PRI.DISBURSED.AMOUNT',\n",
    " 'SEC.NO.OF.ACCTS',\n",
    " 'SEC.ACTIVE.ACCTS',\n",
    " 'SEC.OVERDUE.ACCTS',\n",
    " 'SEC.CURRENT.BALANCE',\n",
    " 'SEC.SANCTIONED.AMOUNT',\n",
    " 'SEC.DISBURSED.AMOUNT',\n",
    " 'PRIMARY.INSTAL.AMT',\n",
    " 'SEC.INSTAL.AMT',\n",
    " 'NEW.ACCTS.IN.LAST.SIX.MONTHS',\n",
    " 'DELINQUENT.ACCTS.IN.LAST.SIX.MONTHS',\n",
    " 'NO.OF_INQUIRIES',\n",
    " 'branch_id_loan_default_mean',\n",
    " 'State_ID_loan_default_mean',\n",
    " 'branch_id_loan_default_sum',\n",
    " 'State_ID_loan_default_sum',\n",
    " 'CREDIT.HISTORY.LENGTH.YEARS',\n",
    " 'CREDIT.HISTORY.LENGTH.MONTHS',\n",
    " 'CREDIT.HISTORY.LENGTH.TOTMONS',\n",
    " 'AVERAGE.ACCT.AGE.YEARS',\n",
    " 'AVERAGE.ACCT.AGE.MONTHS',\n",
    " 'AVERAGE.ACCT.AGE.TOTMONS',\n",
    " 'Date.of.Birth.YEAR',\n",
    " 'Date.of.Birth.YEAR.conv',\n",
    " 'Date.of.Birth.AGE',\n",
    " 'Current_pincode_ID_disbursed_amount_mean',\n",
    " 'Current_pincode_ID_stdev',\n",
    " 'branch_id_disbursed_amount_mean',\n",
    " 'branch_id_stdev',\n",
    " 'supplier_id_disbursed_amount_mean',\n",
    " 'supplier_id_stdev',\n",
    " 'manufacturer_id_disbursed_amount_mean',\n",
    " 'manufacturer_id_stdev',\n",
    " 'State_ID_disbursed_amount_mean',\n",
    " 'State_ID_stdev',\n",
    " 'Employee_code_ID_disbursed_amount_mean',\n",
    " 'Employee_code_ID_stdev',\n",
    " 'Current_pincode_ID_asset_cost_mean',\n",
    " 'branch_id_asset_cost_mean',\n",
    " 'supplier_id_asset_cost_mean',\n",
    " 'manufacturer_id_asset_cost_mean',\n",
    " 'State_ID_asset_cost_mean',\n",
    " 'Employee_code_ID_asset_cost_mean',\n",
    " 'Current_pincode_ID_ltv_mean',\n",
    " 'branch_id_ltv_mean',\n",
    " 'supplier_id_ltv_mean',\n",
    " 'manufacturer_id_ltv_mean',\n",
    " 'State_ID_ltv_mean',\n",
    " 'Employee_code_ID_ltv_mean',\n",
    " 'Current_pincode_ID_PERFORM_CNS.SCORE_mean',\n",
    " 'branch_id_PERFORM_CNS.SCORE_mean',\n",
    " 'supplier_id_PERFORM_CNS.SCORE_mean',\n",
    " 'manufacturer_id_PERFORM_CNS.SCORE_mean',\n",
    " 'State_ID_PERFORM_CNS.SCORE_mean',\n",
    " 'Employee_code_ID_PERFORM_CNS.SCORE_mean',\n",
    " 'Current_pincode_ID_PRIMARY.INSTAL.AMT_mean',\n",
    " 'branch_id_PRIMARY.INSTAL.AMT_mean',\n",
    " 'supplier_id_PRIMARY.INSTAL.AMT_mean',\n",
    " 'manufacturer_id_PRIMARY.INSTAL.AMT_mean',\n",
    " 'State_ID_PRIMARY.INSTAL.AMT_mean',\n",
    " 'Employee_code_ID_PRIMARY.INSTAL.AMT_mean',\n",
    " 'Employment.Type_Salaried',\n",
    " 'Employment.Type_Self employed',\n",
    " 'PERFORM_CNS.SCORE.DESCRIPTION_A-Very_Low_Risk',\n",
    " 'PERFORM_CNS.SCORE.DESCRIPTION_B-Very_Low_Risk',\n",
    " 'PERFORM_CNS.SCORE.DESCRIPTION_C-Very_Low_Risk',\n",
    " 'PERFORM_CNS.SCORE.DESCRIPTION_D-Very_Low_Risk',\n",
    " 'PERFORM_CNS.SCORE.DESCRIPTION_E-Low_Risk',\n",
    " 'PERFORM_CNS.SCORE.DESCRIPTION_F-Low_Risk',\n",
    " 'PERFORM_CNS.SCORE.DESCRIPTION_G-Low_Risk',\n",
    " 'PERFORM_CNS.SCORE.DESCRIPTION_H-Medium_Risk',\n",
    " 'PERFORM_CNS.SCORE.DESCRIPTION_I-Medium_Risk',\n",
    " 'PERFORM_CNS.SCORE.DESCRIPTION_J-High_Risk',\n",
    " 'PERFORM_CNS.SCORE.DESCRIPTION_K-High_Risk',\n",
    " 'PERFORM_CNS.SCORE.DESCRIPTION_L-Very_High_Risk',\n",
    " 'PERFORM_CNS.SCORE.DESCRIPTION_M-Very_High_Risk',\n",
    " 'PERFORM_CNS.SCORE.DESCRIPTION_No_Bureau_History_Available',\n",
    " 'PERFORM_CNS.SCORE.DESCRIPTION_Not_Scored:_No_Activity_seen_on_the_customer_(Inactive)',\n",
    " 'PERFORM_CNS.SCORE.DESCRIPTION_Not_Scored:_No_Updates_available_in_last_36_months',\n",
    " 'PERFORM_CNS.SCORE.DESCRIPTION_Not_Scored:_Not_Enough_Info_available_on_the_customer',\n",
    " 'PERFORM_CNS.SCORE.DESCRIPTION_Not_Scored:_Only_a_Guarantor',\n",
    " 'PERFORM_CNS.SCORE.DESCRIPTION_Not_Scored:_Sufficient_History_Not_Available',\n",
    " 'log_disbursed_amount',\n",
    " 'log_asset_cost',\n",
    " 'ltv_squared',\n",
    " 'log_ltv',\n",
    " 'DisbursalDate.YEAR',\n",
    " 'DisbursalDate.YEAR.conv',\n",
    " 'DisbursalDate.AGE',\n",
    " 'DisbursalDate_month',\n",
    " 'DisbursalDate_dayofmonth']\n",
    "\n",
    "# PERFORM_CNS.SCORE.DESCRIPTION_Not_Scored:_More_than_50_active_Accounts_found\n",
    "\n",
    "outcome = ['loan_default']"
   ]
  },
  {
   "cell_type": "code",
   "execution_count": 86,
   "metadata": {},
   "outputs": [],
   "source": [
    "from sklearn.model_selection import train_test_split\n",
    "\n",
    "X_train, X_validation, y_train, y_validation = train_test_split(train_df[predictors], train_df[outcome], test_size=0.3, random_state=1234)"
   ]
  },
  {
   "cell_type": "code",
   "execution_count": 87,
   "metadata": {},
   "outputs": [
    {
     "data": {
      "text/plain": [
       "((163207, 112), (69947, 112))"
      ]
     },
     "execution_count": 87,
     "metadata": {},
     "output_type": "execute_result"
    }
   ],
   "source": [
    "X_train.shape,X_validation.shape"
   ]
  },
  {
   "cell_type": "code",
   "execution_count": null,
   "metadata": {},
   "outputs": [],
   "source": []
  },
  {
   "cell_type": "code",
   "execution_count": 80,
   "metadata": {},
   "outputs": [],
   "source": [
    "import xgboost as xgb\n",
    "from xgboost.sklearn import XGBClassifier\n",
    "from sklearn.model_selection import cross_validate\n",
    "from sklearn import metrics \n",
    "from sklearn.model_selection import GridSearchCV   #Perforing grid search\n",
    "from sklearn.model_selection import cross_validate\n",
    "from sklearn.model_selection import KFold"
   ]
  },
  {
   "cell_type": "code",
   "execution_count": 81,
   "metadata": {},
   "outputs": [],
   "source": [
    "\n",
    "alg = XGBClassifier()"
   ]
  },
  {
   "cell_type": "code",
   "execution_count": null,
   "metadata": {},
   "outputs": [],
   "source": [
    "#kf = loo.split(X_train_std[predictor_var])\n",
    "kf = KFold(n_splits=10).split(X_train[['State_ID','branch_id']])\n",
    "# ['branch_id', 'supplier_id', 'manufacturer_id', 'Current_pincode_ID','State_ID', 'Employee_code_ID']\n",
    "error = []\n",
    "# yavg = pd.DataFrame()\n",
    "\n",
    "for train, test in kf:\n",
    "    # Filter training data\n",
    "    print(\"training stared\")\n",
    "    train_predictors = X_train[predictors].iloc[train,:]\n",
    "\n",
    "    # The target we're using to train the algorithm.\n",
    "    train_target = y_train.iloc[train].values\n",
    "\n",
    "    # Training the algorithm using the predictors and target.\n",
    "    alg.fit(train_predictors, train_target)\n",
    "    y1 = alg.predict(X_train[predictors].iloc[test,:])\n",
    "#     yavg = yavg.append(pd.Series(y1),ignore_index=True)\n",
    "\n",
    "    #Record error from each cross-validation run\n",
    "    error.append(metrics.roc_auc_score(y_train.iloc[test], y1))\n",
    "    print('score for current fold',metrics.roc_auc_score(y_train.iloc[test], y1))\n",
    "    print(\"training finished\")\n",
    "print (\"Cross-Validation AUC Score : %f\" % np.mean(error))\n"
   ]
  },
  {
   "cell_type": "code",
   "execution_count": null,
   "metadata": {},
   "outputs": [],
   "source": [
    "# metrics.roc_auc_score(y_train.iloc[test], )\n",
    "# np.transpose(yavg.loc[yavg['index']=='mean',:])[1:]\n",
    "y_train.shape"
   ]
  },
  {
   "cell_type": "code",
   "execution_count": null,
   "metadata": {},
   "outputs": [],
   "source": []
  },
  {
   "cell_type": "code",
   "execution_count": 82,
   "metadata": {},
   "outputs": [],
   "source": [
    "def modelfit(alg, dtrain,ytrain,dtest,ytest,test,sub_df, predictors,outcome_var,useTrainCV=True, cv_folds=5, early_stopping_rounds=50):\n",
    "    \n",
    "    if useTrainCV:\n",
    "        xgb_param = alg.get_xgb_params()\n",
    "        xgtrain = xgb.DMatrix(dtrain[predictors].values, label=ytrain.values)\n",
    "        cvresult = xgb.cv(xgb_param, xgtrain, num_boost_round=alg.get_params()['n_estimators'], nfold=cv_folds,\n",
    "            metrics='auc', early_stopping_rounds=early_stopping_rounds,verbose_eval=True,\n",
    "            show_stdv=True)\n",
    "        alg.set_params(n_estimators=cvresult.shape[0])\n",
    "    \n",
    "    #Fit the algorithm on the data\n",
    "    alg.fit(dtrain[predictors], ytrain,eval_metric='auc')\n",
    "        \n",
    "    #Predict training set:\n",
    "    dtrain_predictions = alg.predict(dtest[predictors])\n",
    "    dtrain_predprob = alg.predict_proba(dtest[predictors])[:,1]\n",
    "    \n",
    "    dtrain_predprob1 = alg.predict_proba(test[predictors])[:,1]\n",
    "    sub_df['loan_default']= dtrain_predprob1\n",
    "    sub_df.to_csv('sub1.csv',index=False)    \n",
    "    #Print model report:\n",
    "    print(\"\\nModel Report\")\n",
    "    print(\"Accuracy : %.4g\" % metrics.accuracy_score(ytest.values, dtrain_predictions))\n",
    "    print(\"AUC Score (Train): %f\" % metrics.roc_auc_score(ytest, dtrain_predprob))\n",
    "                    \n",
    "    feat_imp = pd.Series(alg.get_booster().get_fscore()).sort_values(ascending=False)\n",
    "    feat_imp.plot(kind='bar', title='Feature Importances')\n",
    "    plt.ylabel('Feature Importance Score')  \n",
    "  "
   ]
  },
  {
   "cell_type": "code",
   "execution_count": 83,
   "metadata": {},
   "outputs": [],
   "source": [
    "def modelfit_mod(alg, dtrain,ytrain,dtest,ytest,test,sub_df, predictors,outcome_var,useTrainCV=True, cv_folds=5, early_stopping_rounds=50):\n",
    "    \n",
    "    if useTrainCV:\n",
    "        xgb_param = alg.get_xgb_params()\n",
    "        xgtrain = xgb.DMatrix(dtrain[predictors].values, label=ytrain.values)\n",
    "        cvresult = xgb.cv(xgb_param, xgtrain, num_boost_round=alg.get_params()['n_estimators'], nfold=cv_folds,\n",
    "            metrics='auc', early_stopping_rounds=early_stopping_rounds,verbose_eval=True,\n",
    "            show_stdv=True)\n",
    "        alg.set_params(n_estimators=cvresult.shape[0])\n",
    "    \n",
    "    #Fit the algorithm on the data\n",
    "    alg.fit(dtrain[predictors], ytrain)\n",
    "        \n",
    "    #Predict training set:\n",
    "    dtrain_predictions = alg.predict(dtest[predictors])\n",
    "    dtrain_predprob = alg.predict_proba(dtest[predictors])[:,1]\n",
    "    \n",
    "    dtrain_predprob1 = alg.predict_proba(test[predictors])[:,1]\n",
    "#     sub_df['loan_default']= dtrain_predprob1\n",
    "#     sub_df.to_csv('sub1.csv',index=False)    \n",
    "    #Print model report:\n",
    "    print(\"\\nModel Report\")\n",
    "    print(\"Accuracy : %.4g\" % metrics.accuracy_score(ytest.values, dtrain_predictions))\n",
    "    print(\"AUC Score (Train): %f\" % metrics.roc_auc_score(ytest, dtrain_predprob))\n",
    "                    \n",
    "#     feat_imp = pd.Series(alg.get_booster().get_fscore()).sort_values(ascending=False)\n",
    "#     feat_imp.plot(kind='bar', title='Feature Importances')\n",
    "#     plt.ylabel('Feature Importance Score')  \n",
    "  "
   ]
  },
  {
   "cell_type": "code",
   "execution_count": 88,
   "metadata": {},
   "outputs": [
    {
     "name": "stdout",
     "output_type": "stream",
     "text": [
      "[0]\ttrain-auc:0.6107+0.000623904\ttest-auc:0.608641+0.00103163\n",
      "[1]\ttrain-auc:0.616618+0.00302824\ttest-auc:0.614435+0.00306969\n",
      "[2]\ttrain-auc:0.621832+0.00152077\ttest-auc:0.618592+0.00144529\n",
      "[3]\ttrain-auc:0.624968+0.00120435\ttest-auc:0.62211+0.000851338\n",
      "[4]\ttrain-auc:0.626644+0.00110633\ttest-auc:0.623532+0.00179662\n",
      "[5]\ttrain-auc:0.629156+0.00101006\ttest-auc:0.626108+0.00216922\n",
      "[6]\ttrain-auc:0.629988+0.000745645\ttest-auc:0.62737+0.00196972\n",
      "[7]\ttrain-auc:0.632829+0.00117668\ttest-auc:0.629741+0.00235557\n",
      "[8]\ttrain-auc:0.63435+0.00149388\ttest-auc:0.630859+0.00237723\n",
      "[9]\ttrain-auc:0.635824+0.00162741\ttest-auc:0.632232+0.00254056\n",
      "[10]\ttrain-auc:0.636549+0.00104259\ttest-auc:0.632895+0.00206902\n",
      "[11]\ttrain-auc:0.637768+0.00102287\ttest-auc:0.634035+0.00191861\n",
      "[12]\ttrain-auc:0.638758+0.000745671\ttest-auc:0.634913+0.00156474\n",
      "[13]\ttrain-auc:0.640016+0.000769941\ttest-auc:0.635993+0.00171521\n",
      "[14]\ttrain-auc:0.640947+0.000781011\ttest-auc:0.636553+0.00164169\n",
      "[15]\ttrain-auc:0.641963+0.000646041\ttest-auc:0.637539+0.00159911\n",
      "[16]\ttrain-auc:0.642968+0.000640362\ttest-auc:0.638292+0.00131829\n",
      "[17]\ttrain-auc:0.644134+0.000587685\ttest-auc:0.639311+0.00107875\n",
      "[18]\ttrain-auc:0.645072+0.000509125\ttest-auc:0.640067+0.00109635\n",
      "[19]\ttrain-auc:0.646197+0.000412651\ttest-auc:0.641171+0.00101761\n",
      "[20]\ttrain-auc:0.647062+0.000525375\ttest-auc:0.641924+0.000942813\n",
      "[21]\ttrain-auc:0.648147+0.000379088\ttest-auc:0.642897+0.00124684\n",
      "[22]\ttrain-auc:0.649208+0.000314979\ttest-auc:0.643831+0.00121007\n",
      "[23]\ttrain-auc:0.649961+0.000153501\ttest-auc:0.644485+0.00111681\n",
      "[24]\ttrain-auc:0.651007+0.000365294\ttest-auc:0.645404+0.00131319\n",
      "[25]\ttrain-auc:0.651781+0.000366446\ttest-auc:0.646139+0.00136914\n",
      "[26]\ttrain-auc:0.652672+0.000256404\ttest-auc:0.646943+0.00146073\n",
      "[27]\ttrain-auc:0.653745+0.000179509\ttest-auc:0.64773+0.00155218\n",
      "[28]\ttrain-auc:0.654403+0.00024729\ttest-auc:0.648231+0.00145563\n",
      "[29]\ttrain-auc:0.655034+0.000409685\ttest-auc:0.648737+0.00127059\n",
      "[30]\ttrain-auc:0.655666+0.000340157\ttest-auc:0.649298+0.00119252\n",
      "[31]\ttrain-auc:0.656415+0.000360425\ttest-auc:0.649968+0.00119306\n",
      "[32]\ttrain-auc:0.657289+0.000324188\ttest-auc:0.65063+0.00134295\n",
      "[33]\ttrain-auc:0.657813+0.000313933\ttest-auc:0.651095+0.00133344\n",
      "[34]\ttrain-auc:0.658449+0.000331454\ttest-auc:0.651604+0.00118429\n",
      "[35]\ttrain-auc:0.659083+0.000253547\ttest-auc:0.652111+0.0012189\n",
      "[36]\ttrain-auc:0.65964+0.000322481\ttest-auc:0.652553+0.00125506\n",
      "[37]\ttrain-auc:0.6602+0.000244585\ttest-auc:0.653017+0.00130262\n",
      "[38]\ttrain-auc:0.660646+0.000297868\ttest-auc:0.653361+0.00130689\n",
      "[39]\ttrain-auc:0.66119+0.000263818\ttest-auc:0.653923+0.00130916\n",
      "[40]\ttrain-auc:0.661663+0.000283703\ttest-auc:0.65431+0.00150258\n",
      "[41]\ttrain-auc:0.662167+0.000351115\ttest-auc:0.654758+0.00141941\n",
      "[42]\ttrain-auc:0.662599+0.0003992\ttest-auc:0.655102+0.00132081\n",
      "[43]\ttrain-auc:0.663112+0.000387446\ttest-auc:0.655539+0.00133466\n",
      "[44]\ttrain-auc:0.663592+0.000371937\ttest-auc:0.655942+0.00140531\n",
      "[45]\ttrain-auc:0.663936+0.000435919\ttest-auc:0.656178+0.00133235\n",
      "[46]\ttrain-auc:0.664304+0.000443511\ttest-auc:0.656399+0.00136721\n",
      "[47]\ttrain-auc:0.664759+0.000547878\ttest-auc:0.656715+0.00125389\n",
      "[48]\ttrain-auc:0.665069+0.000533663\ttest-auc:0.656951+0.00135235\n",
      "[49]\ttrain-auc:0.665367+0.000436554\ttest-auc:0.657166+0.00138059\n",
      "[50]\ttrain-auc:0.665663+0.000349729\ttest-auc:0.657422+0.00138039\n",
      "[51]\ttrain-auc:0.666079+0.000421378\ttest-auc:0.657709+0.0013783\n",
      "[52]\ttrain-auc:0.666451+0.000447894\ttest-auc:0.65801+0.00131865\n",
      "[53]\ttrain-auc:0.666824+0.000413325\ttest-auc:0.658259+0.00139171\n",
      "[54]\ttrain-auc:0.667184+0.000377716\ttest-auc:0.658479+0.0014643\n",
      "[55]\ttrain-auc:0.667551+0.000387542\ttest-auc:0.658742+0.00150385\n",
      "[56]\ttrain-auc:0.667842+0.000377118\ttest-auc:0.658954+0.00150164\n",
      "[57]\ttrain-auc:0.668116+0.000388354\ttest-auc:0.659155+0.00148799\n",
      "[58]\ttrain-auc:0.668496+0.000418162\ttest-auc:0.659432+0.00142034\n",
      "[59]\ttrain-auc:0.66881+0.000433508\ttest-auc:0.659639+0.00134208\n",
      "[60]\ttrain-auc:0.669158+0.000359052\ttest-auc:0.65985+0.00146649\n",
      "[61]\ttrain-auc:0.669407+0.000381004\ttest-auc:0.660071+0.00141269\n",
      "[62]\ttrain-auc:0.66964+0.000354347\ttest-auc:0.660216+0.00143496\n",
      "[63]\ttrain-auc:0.669955+0.000381554\ttest-auc:0.66046+0.00143624\n",
      "[64]\ttrain-auc:0.670197+0.000405308\ttest-auc:0.660594+0.00140375\n",
      "[65]\ttrain-auc:0.670557+0.000428131\ttest-auc:0.660743+0.00135277\n",
      "[66]\ttrain-auc:0.670845+0.000419985\ttest-auc:0.660917+0.00137881\n",
      "[67]\ttrain-auc:0.671118+0.000341236\ttest-auc:0.661117+0.00147972\n",
      "[68]\ttrain-auc:0.671412+0.000362317\ttest-auc:0.661338+0.00153652\n",
      "[69]\ttrain-auc:0.671623+0.000351097\ttest-auc:0.661403+0.00151368\n",
      "[70]\ttrain-auc:0.671891+0.000347828\ttest-auc:0.661551+0.00150616\n",
      "[71]\ttrain-auc:0.672134+0.000337785\ttest-auc:0.661751+0.00156958\n",
      "[72]\ttrain-auc:0.672348+0.000353656\ttest-auc:0.66183+0.00149633\n",
      "[73]\ttrain-auc:0.672581+0.000364145\ttest-auc:0.662034+0.00153705\n",
      "[74]\ttrain-auc:0.672822+0.000307549\ttest-auc:0.662174+0.00157849\n",
      "[75]\ttrain-auc:0.673059+0.000329755\ttest-auc:0.662348+0.00156613\n",
      "[76]\ttrain-auc:0.673271+0.00033055\ttest-auc:0.662508+0.00152584\n",
      "[77]\ttrain-auc:0.673519+0.000379366\ttest-auc:0.66269+0.00149025\n",
      "[78]\ttrain-auc:0.673754+0.000388947\ttest-auc:0.662795+0.00141546\n",
      "[79]\ttrain-auc:0.67399+0.000362022\ttest-auc:0.662877+0.00148003\n",
      "[80]\ttrain-auc:0.674277+0.000381885\ttest-auc:0.663053+0.00155256\n",
      "[81]\ttrain-auc:0.674468+0.000421179\ttest-auc:0.663166+0.00150788\n",
      "[82]\ttrain-auc:0.674733+0.000429101\ttest-auc:0.663291+0.00150371\n",
      "[83]\ttrain-auc:0.674964+0.000451381\ttest-auc:0.66343+0.0014452\n",
      "[84]\ttrain-auc:0.675146+0.000466676\ttest-auc:0.663516+0.00145426\n",
      "[85]\ttrain-auc:0.675343+0.000474191\ttest-auc:0.663619+0.00147046\n",
      "[86]\ttrain-auc:0.675611+0.000494277\ttest-auc:0.663823+0.00144946\n",
      "[87]\ttrain-auc:0.675833+0.000491673\ttest-auc:0.663945+0.00143162\n",
      "[88]\ttrain-auc:0.676017+0.000503316\ttest-auc:0.664027+0.00139537\n",
      "[89]\ttrain-auc:0.676204+0.000532343\ttest-auc:0.664158+0.00139228\n",
      "[90]\ttrain-auc:0.676408+0.000487399\ttest-auc:0.664242+0.00139561\n",
      "[91]\ttrain-auc:0.676621+0.00041143\ttest-auc:0.664333+0.00139701\n",
      "[92]\ttrain-auc:0.676777+0.000401572\ttest-auc:0.664458+0.00143608\n",
      "[93]\ttrain-auc:0.676942+0.000395184\ttest-auc:0.664538+0.0014201\n",
      "[94]\ttrain-auc:0.677093+0.00039059\ttest-auc:0.664583+0.00146455\n",
      "[95]\ttrain-auc:0.677293+0.000346198\ttest-auc:0.664679+0.00146843\n",
      "[96]\ttrain-auc:0.677537+0.00038218\ttest-auc:0.664853+0.00145755\n",
      "[97]\ttrain-auc:0.677698+0.000404831\ttest-auc:0.664935+0.0014711\n",
      "[98]\ttrain-auc:0.677851+0.000432979\ttest-auc:0.665028+0.00144358\n",
      "[99]\ttrain-auc:0.678023+0.00042603\ttest-auc:0.665119+0.00149269\n",
      "\n",
      "Model Report\n",
      "Accuracy : 0.7835\n",
      "AUC Score (Train): 0.669277\n",
      "CPU times: user 3min 34s, sys: 700 ms, total: 3min 35s\n",
      "Wall time: 3min 35s\n"
     ]
    },
    {
     "data": {
      "image/png": "[encoded data removed]",
      "text/plain": [
       "<Figure size 432x288 with 1 Axes>"
      ]
     },
     "metadata": {
      "needs_background": "light"
     },
     "output_type": "display_data"
    }
   ],
   "source": [
    "%%time\n",
    "modelfit(XGBClassifier(), X_train,y_train,X_validation,y_validation,test_df,sub_df,predictors,outcome,useTrainCV=True, cv_folds=5, early_stopping_rounds=50)"
   ]
  },
  {
   "cell_type": "code",
   "execution_count": null,
   "metadata": {},
   "outputs": [],
   "source": [
    "from sklearn.ensemble import RandomForestClassifier\n",
    "model6 = RandomForestClassifier(n_estimators = 100, oob_score = True, n_jobs = -1,random_state =50, max_features = \"auto\", min_samples_leaf = 5)\n",
    "\n",
    "modelfit_mod(model6, X_train,y_train,X_validation,y_validation,test_df,sub_df,predictors,outcome,useTrainCV=False, cv_folds=5, early_stopping_rounds=50)"
   ]
  },
  {
   "cell_type": "code",
   "execution_count": null,
   "metadata": {},
   "outputs": [],
   "source": [
    "from sklearn.ensemble import AdaBoostClassifier\n",
    "from sklearn.tree import DecisionTreeClassifier\n",
    "\n",
    "tree = DecisionTreeClassifier(criterion='entropy',max_depth=6)\n",
    "ada = AdaBoostClassifier(base_estimator=tree, n_estimators=29, learning_rate=0.1, random_state=0)\n",
    "\n",
    "modelfit_mod(ada, X_train,y_train,X_validation,y_validation,test_df,sub_df,predictors,outcome,useTrainCV=False, cv_folds=5, early_stopping_rounds=50)"
   ]
  },
  {
   "cell_type": "code",
   "execution_count": null,
   "metadata": {},
   "outputs": [],
   "source": [
    "%%time\n",
    "\n",
    "from sklearn.ensemble import VotingClassifier\n",
    "\n",
    "model9 = VotingClassifier(estimators=[('RF', model6),('Xgb', XGBClassifier()), ('adaboost', ada)], voting='soft')\n",
    "\n",
    "modelfit_mod(model9, X_train,y_train,X_validation,y_validation,test_df,sub_df,predictors,outcome,useTrainCV=False, cv_folds=5, early_stopping_rounds=50)"
   ]
  },
  {
   "cell_type": "code",
   "execution_count": null,
   "metadata": {},
   "outputs": [],
   "source": []
  },
  {
   "cell_type": "code",
   "execution_count": null,
   "metadata": {},
   "outputs": [],
   "source": []
  },
  {
   "cell_type": "code",
   "execution_count": null,
   "metadata": {},
   "outputs": [],
   "source": []
  },
  {
   "cell_type": "code",
   "execution_count": null,
   "metadata": {},
   "outputs": [],
   "source": []
  },
  {
   "cell_type": "code",
   "execution_count": null,
   "metadata": {},
   "outputs": [],
   "source": []
  },
  {
   "cell_type": "code",
   "execution_count": null,
   "metadata": {},
   "outputs": [],
   "source": []
  },
  {
   "cell_type": "code",
   "execution_count": null,
   "metadata": {},
   "outputs": [],
   "source": []
  },
  {
   "cell_type": "code",
   "execution_count": 89,
   "metadata": {},
   "outputs": [],
   "source": [
    "model1 = XGBClassifier(\n",
    " learning_rate =0.1,\n",
    " n_estimators=500,\n",
    " max_depth=5,\n",
    " min_child_weight=1,\n",
    " gamma=0,\n",
    " subsample=0.8,\n",
    " colsample_bytree=1,\n",
    " objective= 'binary:logistic',\n",
    " nthread=-1,\n",
    " scale_pos_weight=1,\n",
    " seed=27)"
   ]
  },
  {
   "cell_type": "code",
   "execution_count": 90,
   "metadata": {},
   "outputs": [
    {
     "name": "stdout",
     "output_type": "stream",
     "text": [
      "[0]\ttrain-auc:0.631518+0.000549918\ttest-auc:0.623656+0.00284832\n",
      "[1]\ttrain-auc:0.639231+0.000680342\ttest-auc:0.631099+0.001794\n",
      "[2]\ttrain-auc:0.642678+0.000867173\ttest-auc:0.633932+0.00149499\n",
      "[3]\ttrain-auc:0.645848+0.00054162\ttest-auc:0.636757+0.0014643\n",
      "[4]\ttrain-auc:0.6483+0.000959876\ttest-auc:0.638455+0.00194235\n",
      "[5]\ttrain-auc:0.650547+0.000670561\ttest-auc:0.640251+0.00234455\n",
      "[6]\ttrain-auc:0.651825+0.000864803\ttest-auc:0.641297+0.00242577\n",
      "[7]\ttrain-auc:0.653853+0.00102027\ttest-auc:0.642791+0.00254882\n",
      "[8]\ttrain-auc:0.65507+0.00110461\ttest-auc:0.643836+0.00227823\n",
      "[9]\ttrain-auc:0.656324+0.000931138\ttest-auc:0.644591+0.00203562\n",
      "[10]\ttrain-auc:0.658103+0.000826982\ttest-auc:0.646015+0.00208558\n",
      "[11]\ttrain-auc:0.659281+0.000912034\ttest-auc:0.646705+0.00208915\n",
      "[12]\ttrain-auc:0.660329+0.000801209\ttest-auc:0.647588+0.00199818\n",
      "[13]\ttrain-auc:0.661594+0.000693501\ttest-auc:0.648502+0.0019236\n",
      "[14]\ttrain-auc:0.662411+0.000784897\ttest-auc:0.649059+0.00195332\n",
      "[15]\ttrain-auc:0.66362+0.000612471\ttest-auc:0.650016+0.00183097\n",
      "[16]\ttrain-auc:0.664714+0.000650685\ttest-auc:0.650795+0.00205631\n",
      "[17]\ttrain-auc:0.665763+0.000629801\ttest-auc:0.651372+0.00201074\n",
      "[18]\ttrain-auc:0.666922+0.000586073\ttest-auc:0.652185+0.00196113\n",
      "[19]\ttrain-auc:0.667949+0.000635247\ttest-auc:0.65289+0.00183749\n",
      "[20]\ttrain-auc:0.668979+0.000573835\ttest-auc:0.653591+0.00173302\n",
      "[21]\ttrain-auc:0.670069+0.000517595\ttest-auc:0.654409+0.00162818\n",
      "[22]\ttrain-auc:0.671129+0.000539384\ttest-auc:0.655169+0.00136986\n",
      "[23]\ttrain-auc:0.672269+0.000377111\ttest-auc:0.655801+0.00136951\n",
      "[24]\ttrain-auc:0.673346+0.000357669\ttest-auc:0.656377+0.00133507\n",
      "[25]\ttrain-auc:0.674345+0.000306884\ttest-auc:0.656967+0.00139985\n",
      "[26]\ttrain-auc:0.675297+0.000428233\ttest-auc:0.657463+0.00121128\n",
      "[27]\ttrain-auc:0.676264+0.00044343\ttest-auc:0.657914+0.00120706\n",
      "[28]\ttrain-auc:0.677151+0.000447754\ttest-auc:0.658424+0.0010048\n",
      "[29]\ttrain-auc:0.67804+0.000380322\ttest-auc:0.658885+0.00100355\n",
      "[30]\ttrain-auc:0.679017+0.000361193\ttest-auc:0.659374+0.00103262\n",
      "[31]\ttrain-auc:0.679986+0.000308636\ttest-auc:0.659711+0.00105584\n",
      "[32]\ttrain-auc:0.680894+0.00026009\ttest-auc:0.660312+0.00102691\n",
      "[33]\ttrain-auc:0.681629+0.000390261\ttest-auc:0.660565+0.000966247\n",
      "[34]\ttrain-auc:0.682363+0.000368345\ttest-auc:0.66088+0.00100361\n",
      "[35]\ttrain-auc:0.683152+0.000431377\ttest-auc:0.661314+0.000916466\n",
      "[36]\ttrain-auc:0.683845+0.000437388\ttest-auc:0.661664+0.000941071\n",
      "[37]\ttrain-auc:0.684702+0.000398916\ttest-auc:0.661967+0.000934247\n",
      "[38]\ttrain-auc:0.685445+0.000455571\ttest-auc:0.662348+0.000916718\n",
      "[39]\ttrain-auc:0.686148+0.000441516\ttest-auc:0.662683+0.000932409\n",
      "[40]\ttrain-auc:0.686811+0.000527587\ttest-auc:0.662921+0.000883369\n",
      "[41]\ttrain-auc:0.687532+0.000575715\ttest-auc:0.663354+0.00100461\n",
      "[42]\ttrain-auc:0.688231+0.000563439\ttest-auc:0.663669+0.00113559\n",
      "[43]\ttrain-auc:0.68895+0.00051782\ttest-auc:0.663968+0.00113955\n",
      "[44]\ttrain-auc:0.689646+0.000499048\ttest-auc:0.664299+0.00122091\n",
      "[45]\ttrain-auc:0.690281+0.000515732\ttest-auc:0.664496+0.00122989\n",
      "[46]\ttrain-auc:0.690924+0.000475013\ttest-auc:0.664741+0.00124558\n",
      "[47]\ttrain-auc:0.691518+0.000439786\ttest-auc:0.664898+0.00125103\n",
      "[48]\ttrain-auc:0.692233+0.000503175\ttest-auc:0.66521+0.0012087\n",
      "[49]\ttrain-auc:0.692827+0.000582653\ttest-auc:0.66542+0.00118106\n",
      "[50]\ttrain-auc:0.693408+0.00060262\ttest-auc:0.665647+0.00115846\n",
      "[51]\ttrain-auc:0.694004+0.000609767\ttest-auc:0.665885+0.00112319\n",
      "[52]\ttrain-auc:0.694658+0.000667968\ttest-auc:0.666081+0.00111336\n",
      "[53]\ttrain-auc:0.69528+0.00057507\ttest-auc:0.666353+0.00117479\n",
      "[54]\ttrain-auc:0.695844+0.000557122\ttest-auc:0.666529+0.00116056\n",
      "[55]\ttrain-auc:0.696426+0.000495295\ttest-auc:0.666632+0.00127077\n",
      "[56]\ttrain-auc:0.696854+0.000515212\ttest-auc:0.666768+0.00129886\n",
      "[57]\ttrain-auc:0.697351+0.000486907\ttest-auc:0.666888+0.0012213\n",
      "[58]\ttrain-auc:0.697901+0.000515734\ttest-auc:0.667042+0.00116524\n",
      "[59]\ttrain-auc:0.698404+0.000499338\ttest-auc:0.667205+0.00119669\n",
      "[60]\ttrain-auc:0.698898+0.000500302\ttest-auc:0.667349+0.00115938\n",
      "[61]\ttrain-auc:0.699407+0.000450665\ttest-auc:0.667431+0.00123629\n",
      "[62]\ttrain-auc:0.699907+0.000535012\ttest-auc:0.667619+0.00118833\n",
      "[63]\ttrain-auc:0.700439+0.000461185\ttest-auc:0.667721+0.00121838\n",
      "[64]\ttrain-auc:0.700899+0.000475261\ttest-auc:0.667825+0.00126472\n",
      "[65]\ttrain-auc:0.701468+0.000576326\ttest-auc:0.667972+0.00120616\n",
      "[66]\ttrain-auc:0.702089+0.000593086\ttest-auc:0.668145+0.00115723\n",
      "[67]\ttrain-auc:0.702594+0.000527986\ttest-auc:0.668238+0.00112904\n",
      "[68]\ttrain-auc:0.702973+0.000552023\ttest-auc:0.668335+0.00117096\n",
      "[69]\ttrain-auc:0.703317+0.000501515\ttest-auc:0.66838+0.00117217\n",
      "[70]\ttrain-auc:0.703721+0.000556767\ttest-auc:0.668468+0.00119002\n",
      "[71]\ttrain-auc:0.704248+0.000493503\ttest-auc:0.668613+0.00123851\n",
      "[72]\ttrain-auc:0.704635+0.00046168\ttest-auc:0.66873+0.00124977\n",
      "[73]\ttrain-auc:0.705197+0.000461193\ttest-auc:0.668803+0.00128768\n",
      "[74]\ttrain-auc:0.70564+0.000438892\ttest-auc:0.668914+0.00128635\n",
      "[75]\ttrain-auc:0.70612+0.000443444\ttest-auc:0.669025+0.00131886\n",
      "[76]\ttrain-auc:0.706595+0.000464801\ttest-auc:0.669133+0.00134805\n",
      "[77]\ttrain-auc:0.707047+0.000468829\ttest-auc:0.669192+0.00138295\n",
      "[78]\ttrain-auc:0.707482+0.000489038\ttest-auc:0.669273+0.00133376\n",
      "[79]\ttrain-auc:0.707881+0.000418489\ttest-auc:0.669302+0.00136643\n",
      "[80]\ttrain-auc:0.708252+0.000438939\ttest-auc:0.669323+0.00130089\n",
      "[81]\ttrain-auc:0.70869+0.000424923\ttest-auc:0.669381+0.00132216\n",
      "[82]\ttrain-auc:0.70912+0.000423721\ttest-auc:0.669489+0.00130578\n",
      "[83]\ttrain-auc:0.709601+0.00039893\ttest-auc:0.669689+0.00131896\n",
      "[84]\ttrain-auc:0.710022+0.000304589\ttest-auc:0.669719+0.00135848\n",
      "[85]\ttrain-auc:0.710299+0.000377501\ttest-auc:0.669808+0.00129345\n",
      "[86]\ttrain-auc:0.710677+0.000372954\ttest-auc:0.669936+0.00124544\n",
      "[87]\ttrain-auc:0.710963+0.000360787\ttest-auc:0.670058+0.00124342\n",
      "[88]\ttrain-auc:0.71131+0.000373194\ttest-auc:0.670122+0.00130066\n",
      "[89]\ttrain-auc:0.711694+0.000408267\ttest-auc:0.670179+0.00125258\n",
      "[90]\ttrain-auc:0.711966+0.000483686\ttest-auc:0.670217+0.00130046\n",
      "[91]\ttrain-auc:0.712279+0.000412923\ttest-auc:0.670267+0.00135694\n",
      "[92]\ttrain-auc:0.712542+0.000376266\ttest-auc:0.670323+0.00130882\n",
      "[93]\ttrain-auc:0.713001+0.00039189\ttest-auc:0.670348+0.00132866\n",
      "[94]\ttrain-auc:0.713314+0.000487255\ttest-auc:0.670444+0.00134447\n",
      "[95]\ttrain-auc:0.713649+0.000486048\ttest-auc:0.670458+0.00136965\n",
      "[96]\ttrain-auc:0.713886+0.000459131\ttest-auc:0.670498+0.00147163\n",
      "[97]\ttrain-auc:0.714265+0.000478912\ttest-auc:0.67059+0.00152164\n",
      "[98]\ttrain-auc:0.714547+0.000517399\ttest-auc:0.670693+0.00151179\n",
      "[99]\ttrain-auc:0.714914+0.000469215\ttest-auc:0.670757+0.00144661\n",
      "[100]\ttrain-auc:0.715348+0.000553325\ttest-auc:0.6708+0.00137208\n",
      "[101]\ttrain-auc:0.715716+0.000530579\ttest-auc:0.670902+0.00130409\n",
      "[102]\ttrain-auc:0.716063+0.000614184\ttest-auc:0.670942+0.00130957\n",
      "[103]\ttrain-auc:0.716376+0.000688786\ttest-auc:0.671019+0.00133057\n",
      "[104]\ttrain-auc:0.716753+0.000616127\ttest-auc:0.671041+0.00131713\n",
      "[105]\ttrain-auc:0.716999+0.000639159\ttest-auc:0.671058+0.00134668\n",
      "[106]\ttrain-auc:0.717408+0.000686396\ttest-auc:0.671075+0.00136181\n",
      "[107]\ttrain-auc:0.71768+0.000764525\ttest-auc:0.671132+0.00135242\n",
      "[108]\ttrain-auc:0.71805+0.000821709\ttest-auc:0.671152+0.0013412\n",
      "[109]\ttrain-auc:0.718346+0.000846094\ttest-auc:0.671154+0.001364\n",
      "[110]\ttrain-auc:0.718681+0.000856062\ttest-auc:0.671217+0.0013649\n",
      "[111]\ttrain-auc:0.71897+0.000942734\ttest-auc:0.671215+0.00133647\n",
      "[112]\ttrain-auc:0.719307+0.000845626\ttest-auc:0.671247+0.00135816\n",
      "[113]\ttrain-auc:0.71966+0.000792692\ttest-auc:0.671291+0.00134384\n",
      "[114]\ttrain-auc:0.719996+0.000837137\ttest-auc:0.671267+0.00139694\n",
      "[115]\ttrain-auc:0.720312+0.000897753\ttest-auc:0.671324+0.00138303\n",
      "[116]\ttrain-auc:0.720646+0.000915429\ttest-auc:0.671421+0.00134348\n",
      "[117]\ttrain-auc:0.720866+0.000905011\ttest-auc:0.671476+0.00133238\n",
      "[118]\ttrain-auc:0.721113+0.000908685\ttest-auc:0.671514+0.00132733\n",
      "[119]\ttrain-auc:0.721402+0.00096356\ttest-auc:0.671498+0.00131211\n",
      "[120]\ttrain-auc:0.721767+0.000950668\ttest-auc:0.671513+0.00131849\n",
      "[121]\ttrain-auc:0.722096+0.000883817\ttest-auc:0.671478+0.00134107\n",
      "[122]\ttrain-auc:0.722423+0.000884196\ttest-auc:0.67162+0.00130509\n",
      "[123]\ttrain-auc:0.722827+0.000881125\ttest-auc:0.671627+0.00123739\n",
      "[124]\ttrain-auc:0.723189+0.000892397\ttest-auc:0.671577+0.00124146\n",
      "[125]\ttrain-auc:0.72356+0.000871822\ttest-auc:0.671594+0.00124182\n",
      "[126]\ttrain-auc:0.723832+0.000843326\ttest-auc:0.671538+0.00121523\n"
     ]
    },
    {
     "name": "stdout",
     "output_type": "stream",
     "text": [
      "[127]\ttrain-auc:0.724169+0.000803186\ttest-auc:0.671568+0.00125026\n",
      "[128]\ttrain-auc:0.7244+0.000787331\ttest-auc:0.67155+0.00127223\n",
      "[129]\ttrain-auc:0.724675+0.000793977\ttest-auc:0.671598+0.00128618\n",
      "[130]\ttrain-auc:0.724992+0.000853935\ttest-auc:0.671608+0.00123357\n",
      "[131]\ttrain-auc:0.725355+0.000830419\ttest-auc:0.671641+0.00128789\n",
      "[132]\ttrain-auc:0.72564+0.000841895\ttest-auc:0.671642+0.00130736\n",
      "[133]\ttrain-auc:0.725969+0.000911513\ttest-auc:0.671707+0.00131197\n",
      "[134]\ttrain-auc:0.726331+0.000933536\ttest-auc:0.671782+0.00133749\n",
      "[135]\ttrain-auc:0.726671+0.000891356\ttest-auc:0.671772+0.00137511\n",
      "[136]\ttrain-auc:0.726958+0.000832433\ttest-auc:0.671786+0.00140026\n",
      "[137]\ttrain-auc:0.727346+0.000820999\ttest-auc:0.671792+0.00140387\n",
      "[138]\ttrain-auc:0.727667+0.000910451\ttest-auc:0.671852+0.00139776\n",
      "[139]\ttrain-auc:0.72798+0.000956518\ttest-auc:0.67187+0.00139076\n",
      "[140]\ttrain-auc:0.728329+0.000923986\ttest-auc:0.67189+0.0013804\n",
      "[141]\ttrain-auc:0.728634+0.00091044\ttest-auc:0.671884+0.00133376\n",
      "[142]\ttrain-auc:0.72891+0.000859961\ttest-auc:0.671891+0.00135422\n",
      "[143]\ttrain-auc:0.72908+0.000911861\ttest-auc:0.671887+0.00138769\n",
      "[144]\ttrain-auc:0.729417+0.00098617\ttest-auc:0.671914+0.00135596\n",
      "[145]\ttrain-auc:0.72968+0.000958337\ttest-auc:0.671938+0.00135997\n",
      "[146]\ttrain-auc:0.730005+0.000928247\ttest-auc:0.671991+0.0013528\n",
      "[147]\ttrain-auc:0.730342+0.000908313\ttest-auc:0.672036+0.00132772\n",
      "[148]\ttrain-auc:0.730636+0.000948028\ttest-auc:0.672068+0.00136794\n",
      "[149]\ttrain-auc:0.730836+0.000960815\ttest-auc:0.672077+0.00133069\n",
      "[150]\ttrain-auc:0.731104+0.000901833\ttest-auc:0.67204+0.0013258\n",
      "[151]\ttrain-auc:0.731406+0.000997657\ttest-auc:0.672076+0.00133192\n",
      "[152]\ttrain-auc:0.731718+0.00103557\ttest-auc:0.672063+0.00137257\n",
      "[153]\ttrain-auc:0.731972+0.00112523\ttest-auc:0.672123+0.00133732\n",
      "[154]\ttrain-auc:0.732277+0.00110845\ttest-auc:0.672163+0.00129493\n",
      "[155]\ttrain-auc:0.732505+0.00112618\ttest-auc:0.672219+0.00132749\n",
      "[156]\ttrain-auc:0.732799+0.00111302\ttest-auc:0.672267+0.00131273\n",
      "[157]\ttrain-auc:0.732968+0.00113404\ttest-auc:0.672297+0.00134362\n",
      "[158]\ttrain-auc:0.733304+0.00122317\ttest-auc:0.672287+0.00136594\n",
      "[159]\ttrain-auc:0.733645+0.00121694\ttest-auc:0.672341+0.00135768\n",
      "[160]\ttrain-auc:0.733981+0.00117636\ttest-auc:0.67233+0.00139043\n",
      "[161]\ttrain-auc:0.73426+0.00118478\ttest-auc:0.672329+0.00133685\n",
      "[162]\ttrain-auc:0.734544+0.00111874\ttest-auc:0.672356+0.00140092\n",
      "[163]\ttrain-auc:0.734834+0.00111954\ttest-auc:0.672352+0.00140788\n",
      "[164]\ttrain-auc:0.735142+0.00108046\ttest-auc:0.672339+0.00143607\n",
      "[165]\ttrain-auc:0.735374+0.00109458\ttest-auc:0.672357+0.00146974\n",
      "[166]\ttrain-auc:0.735604+0.00100625\ttest-auc:0.672326+0.00146914\n",
      "[167]\ttrain-auc:0.735921+0.000951096\ttest-auc:0.6723+0.00149834\n",
      "[168]\ttrain-auc:0.736184+0.000981046\ttest-auc:0.672353+0.00146355\n",
      "[169]\ttrain-auc:0.736476+0.00105335\ttest-auc:0.672332+0.00143987\n",
      "[170]\ttrain-auc:0.736736+0.00108479\ttest-auc:0.672323+0.00148569\n",
      "[171]\ttrain-auc:0.736958+0.00112794\ttest-auc:0.672311+0.00149995\n",
      "[172]\ttrain-auc:0.737217+0.00111842\ttest-auc:0.672294+0.00144487\n",
      "[173]\ttrain-auc:0.737448+0.00111698\ttest-auc:0.672306+0.00146711\n",
      "[174]\ttrain-auc:0.737721+0.00112811\ttest-auc:0.672278+0.00150332\n",
      "[175]\ttrain-auc:0.738051+0.00108943\ttest-auc:0.672308+0.00149273\n",
      "[176]\ttrain-auc:0.738334+0.00103346\ttest-auc:0.672304+0.0015247\n",
      "[177]\ttrain-auc:0.738565+0.0010504\ttest-auc:0.672321+0.0015457\n",
      "[178]\ttrain-auc:0.738836+0.00101533\ttest-auc:0.672329+0.00154643\n",
      "[179]\ttrain-auc:0.739098+0.000970581\ttest-auc:0.672333+0.00155312\n",
      "[180]\ttrain-auc:0.739392+0.000948281\ttest-auc:0.672419+0.0015281\n",
      "[181]\ttrain-auc:0.739604+0.000988275\ttest-auc:0.672438+0.00147159\n",
      "[182]\ttrain-auc:0.739876+0.000978218\ttest-auc:0.672478+0.00156103\n",
      "[183]\ttrain-auc:0.740092+0.000955157\ttest-auc:0.672508+0.00155638\n",
      "[184]\ttrain-auc:0.740344+0.00091309\ttest-auc:0.672482+0.00158906\n",
      "[185]\ttrain-auc:0.740685+0.000897179\ttest-auc:0.67247+0.00161104\n",
      "[186]\ttrain-auc:0.740877+0.000913358\ttest-auc:0.672478+0.00162436\n",
      "[187]\ttrain-auc:0.741136+0.000958654\ttest-auc:0.67246+0.00157841\n",
      "[188]\ttrain-auc:0.741422+0.000969818\ttest-auc:0.672477+0.00158852\n",
      "[189]\ttrain-auc:0.741663+0.000902761\ttest-auc:0.672506+0.00157999\n",
      "[190]\ttrain-auc:0.741965+0.000968456\ttest-auc:0.672516+0.00161659\n",
      "[191]\ttrain-auc:0.742282+0.000963282\ttest-auc:0.672504+0.00161277\n",
      "[192]\ttrain-auc:0.742543+0.00092792\ttest-auc:0.67253+0.0016492\n",
      "[193]\ttrain-auc:0.742798+0.000888419\ttest-auc:0.672517+0.00166197\n",
      "[194]\ttrain-auc:0.743042+0.000882891\ttest-auc:0.672501+0.00162003\n",
      "[195]\ttrain-auc:0.743294+0.000992721\ttest-auc:0.672523+0.00160661\n",
      "[196]\ttrain-auc:0.743578+0.000935657\ttest-auc:0.672531+0.00159535\n",
      "[197]\ttrain-auc:0.74382+0.000908131\ttest-auc:0.672509+0.00158376\n",
      "[198]\ttrain-auc:0.74401+0.000915263\ttest-auc:0.672508+0.00157626\n",
      "[199]\ttrain-auc:0.744251+0.000916659\ttest-auc:0.672515+0.00160027\n",
      "[200]\ttrain-auc:0.744565+0.000924005\ttest-auc:0.672491+0.00156194\n",
      "[201]\ttrain-auc:0.7448+0.000916611\ttest-auc:0.672478+0.0015064\n",
      "[202]\ttrain-auc:0.745048+0.000976947\ttest-auc:0.672517+0.00156204\n",
      "[203]\ttrain-auc:0.745297+0.00101725\ttest-auc:0.672513+0.00157525\n",
      "[204]\ttrain-auc:0.745576+0.00104073\ttest-auc:0.672494+0.00153662\n",
      "[205]\ttrain-auc:0.74584+0.00108825\ttest-auc:0.672502+0.00148959\n",
      "[206]\ttrain-auc:0.746112+0.00103915\ttest-auc:0.672463+0.00146401\n",
      "[207]\ttrain-auc:0.746347+0.00109918\ttest-auc:0.672534+0.00144372\n",
      "[208]\ttrain-auc:0.746605+0.00120023\ttest-auc:0.672561+0.0014812\n",
      "[209]\ttrain-auc:0.746849+0.00121981\ttest-auc:0.672566+0.00148919\n",
      "[210]\ttrain-auc:0.747129+0.00115975\ttest-auc:0.672579+0.00148712\n",
      "[211]\ttrain-auc:0.747314+0.00118829\ttest-auc:0.672553+0.0014532\n",
      "[212]\ttrain-auc:0.747604+0.00110901\ttest-auc:0.672565+0.00144441\n",
      "[213]\ttrain-auc:0.747863+0.0010897\ttest-auc:0.672572+0.00146935\n",
      "[214]\ttrain-auc:0.748055+0.00103307\ttest-auc:0.672594+0.00145624\n",
      "[215]\ttrain-auc:0.748256+0.000985511\ttest-auc:0.672551+0.00146945\n",
      "[216]\ttrain-auc:0.748511+0.00101441\ttest-auc:0.672555+0.00153155\n",
      "[217]\ttrain-auc:0.748844+0.00108356\ttest-auc:0.672538+0.00153379\n",
      "[218]\ttrain-auc:0.749065+0.00102416\ttest-auc:0.672531+0.00158074\n",
      "[219]\ttrain-auc:0.749326+0.00101996\ttest-auc:0.672505+0.0015628\n",
      "[220]\ttrain-auc:0.749492+0.0010469\ttest-auc:0.672513+0.00154582\n",
      "[221]\ttrain-auc:0.749742+0.0010852\ttest-auc:0.672516+0.00153593\n",
      "[222]\ttrain-auc:0.74997+0.00104332\ttest-auc:0.672549+0.00155655\n",
      "[223]\ttrain-auc:0.750213+0.000991094\ttest-auc:0.672552+0.00159631\n",
      "[224]\ttrain-auc:0.750463+0.00100672\ttest-auc:0.672581+0.00158029\n",
      "[225]\ttrain-auc:0.750734+0.00100446\ttest-auc:0.67261+0.00155779\n",
      "[226]\ttrain-auc:0.750992+0.0010807\ttest-auc:0.672581+0.00156292\n",
      "[227]\ttrain-auc:0.751295+0.00108103\ttest-auc:0.672598+0.0015733\n",
      "[228]\ttrain-auc:0.751498+0.00103859\ttest-auc:0.672606+0.00155344\n",
      "[229]\ttrain-auc:0.751788+0.00103622\ttest-auc:0.672608+0.00152372\n",
      "[230]\ttrain-auc:0.752021+0.00107097\ttest-auc:0.6726+0.00155441\n",
      "[231]\ttrain-auc:0.752278+0.00109717\ttest-auc:0.672617+0.00154224\n",
      "[232]\ttrain-auc:0.752471+0.00106303\ttest-auc:0.672617+0.00154114\n",
      "[233]\ttrain-auc:0.752743+0.00108316\ttest-auc:0.6726+0.00158518\n",
      "[234]\ttrain-auc:0.753+0.00107378\ttest-auc:0.672625+0.00159314\n",
      "[235]\ttrain-auc:0.75321+0.00107229\ttest-auc:0.672633+0.00157822\n",
      "[236]\ttrain-auc:0.75338+0.00110936\ttest-auc:0.672645+0.00156977\n",
      "[237]\ttrain-auc:0.753654+0.00111943\ttest-auc:0.672648+0.00160127\n",
      "[238]\ttrain-auc:0.753899+0.00117583\ttest-auc:0.672672+0.00157882\n",
      "[239]\ttrain-auc:0.754084+0.00120141\ttest-auc:0.672663+0.00153959\n",
      "[240]\ttrain-auc:0.754308+0.00118703\ttest-auc:0.672684+0.0015395\n",
      "[241]\ttrain-auc:0.75454+0.00116293\ttest-auc:0.672676+0.00153158\n",
      "[242]\ttrain-auc:0.754788+0.00122282\ttest-auc:0.672696+0.00150795\n",
      "[243]\ttrain-auc:0.755057+0.00120969\ttest-auc:0.672684+0.00156286\n",
      "[244]\ttrain-auc:0.755311+0.0012111\ttest-auc:0.672668+0.0015603\n",
      "[245]\ttrain-auc:0.755577+0.00120529\ttest-auc:0.672651+0.00154746\n",
      "[246]\ttrain-auc:0.755797+0.00125466\ttest-auc:0.67263+0.0016028\n",
      "[247]\ttrain-auc:0.756044+0.00127183\ttest-auc:0.672653+0.0016353\n",
      "[248]\ttrain-auc:0.756304+0.00125287\ttest-auc:0.672619+0.00169619\n",
      "[249]\ttrain-auc:0.756557+0.00129918\ttest-auc:0.672603+0.00171919\n",
      "[250]\ttrain-auc:0.756783+0.0013441\ttest-auc:0.672547+0.00172806\n",
      "[251]\ttrain-auc:0.756957+0.00137022\ttest-auc:0.672513+0.00172283\n",
      "[252]\ttrain-auc:0.757229+0.00130853\ttest-auc:0.672518+0.00174583\n",
      "[253]\ttrain-auc:0.75746+0.00133004\ttest-auc:0.672558+0.00174866\n"
     ]
    },
    {
     "name": "stdout",
     "output_type": "stream",
     "text": [
      "[254]\ttrain-auc:0.757687+0.00132674\ttest-auc:0.67254+0.00175766\n",
      "[255]\ttrain-auc:0.757884+0.00129531\ttest-auc:0.672525+0.00177584\n",
      "[256]\ttrain-auc:0.758058+0.00130191\ttest-auc:0.672487+0.00178383\n",
      "[257]\ttrain-auc:0.758381+0.00132985\ttest-auc:0.672492+0.0017949\n",
      "[258]\ttrain-auc:0.758564+0.00129827\ttest-auc:0.672495+0.00181582\n",
      "[259]\ttrain-auc:0.758894+0.00124472\ttest-auc:0.672475+0.00183566\n",
      "[260]\ttrain-auc:0.759129+0.00129095\ttest-auc:0.672487+0.00182007\n",
      "[261]\ttrain-auc:0.759387+0.0012954\ttest-auc:0.672489+0.00184956\n",
      "[262]\ttrain-auc:0.759647+0.00128288\ttest-auc:0.672482+0.00186376\n",
      "[263]\ttrain-auc:0.759801+0.00127283\ttest-auc:0.672468+0.00185393\n",
      "[264]\ttrain-auc:0.760019+0.00132124\ttest-auc:0.672458+0.00187402\n",
      "[265]\ttrain-auc:0.76028+0.00134374\ttest-auc:0.672466+0.00186041\n",
      "[266]\ttrain-auc:0.760508+0.0013605\ttest-auc:0.67251+0.00190163\n",
      "[267]\ttrain-auc:0.760742+0.00134239\ttest-auc:0.672531+0.00190213\n",
      "[268]\ttrain-auc:0.760987+0.00128234\ttest-auc:0.672451+0.00190127\n",
      "[269]\ttrain-auc:0.761244+0.00124677\ttest-auc:0.67243+0.00194485\n",
      "[270]\ttrain-auc:0.761389+0.00129083\ttest-auc:0.672413+0.00194915\n",
      "[271]\ttrain-auc:0.761587+0.00131537\ttest-auc:0.672411+0.0019378\n",
      "[272]\ttrain-auc:0.761818+0.00133718\ttest-auc:0.672434+0.00189879\n",
      "[273]\ttrain-auc:0.762122+0.00134566\ttest-auc:0.672406+0.00193477\n",
      "[274]\ttrain-auc:0.762406+0.00134812\ttest-auc:0.672418+0.00195988\n",
      "[275]\ttrain-auc:0.762614+0.00131343\ttest-auc:0.672439+0.00200494\n",
      "[276]\ttrain-auc:0.762792+0.00130363\ttest-auc:0.672451+0.00198326\n",
      "[277]\ttrain-auc:0.762973+0.00134154\ttest-auc:0.672455+0.00200497\n",
      "[278]\ttrain-auc:0.76323+0.0013731\ttest-auc:0.672444+0.0019927\n",
      "[279]\ttrain-auc:0.763431+0.00140504\ttest-auc:0.672396+0.00197039\n",
      "[280]\ttrain-auc:0.763704+0.00139442\ttest-auc:0.672406+0.00194985\n",
      "[281]\ttrain-auc:0.763929+0.00140481\ttest-auc:0.672405+0.00200081\n",
      "[282]\ttrain-auc:0.764166+0.00144204\ttest-auc:0.672417+0.00201996\n",
      "[283]\ttrain-auc:0.764379+0.00144141\ttest-auc:0.672457+0.00203868\n",
      "[284]\ttrain-auc:0.764643+0.00144372\ttest-auc:0.672434+0.00201734\n",
      "[285]\ttrain-auc:0.764878+0.00141478\ttest-auc:0.672477+0.00196687\n",
      "[286]\ttrain-auc:0.765174+0.00148393\ttest-auc:0.67248+0.00199632\n",
      "[287]\ttrain-auc:0.765389+0.00146867\ttest-auc:0.672497+0.00198877\n",
      "[288]\ttrain-auc:0.765608+0.00147357\ttest-auc:0.672489+0.0020014\n",
      "[289]\ttrain-auc:0.76587+0.00148937\ttest-auc:0.672476+0.00201791\n",
      "[290]\ttrain-auc:0.766047+0.00145994\ttest-auc:0.672441+0.00197958\n",
      "[291]\ttrain-auc:0.766269+0.00145386\ttest-auc:0.67241+0.00203604\n"
     ]
    },
    {
     "name": "stderr",
     "output_type": "stream",
     "text": [
      "/home/monster/.conda/envs/tensorflow/lib/python3.6/site-packages/sklearn/preprocessing/label.py:219: DataConversionWarning: A column-vector y was passed when a 1d array was expected. Please change the shape of y to (n_samples, ), for example using ravel().\n",
      "  y = column_or_1d(y, warn=True)\n",
      "/home/monster/.conda/envs/tensorflow/lib/python3.6/site-packages/sklearn/preprocessing/label.py:252: DataConversionWarning: A column-vector y was passed when a 1d array was expected. Please change the shape of y to (n_samples, ), for example using ravel().\n",
      "  y = column_or_1d(y, warn=True)\n"
     ]
    },
    {
     "name": "stdout",
     "output_type": "stream",
     "text": [
      "\n",
      "Model Report\n",
      "Accuracy : 0.7845\n",
      "AUC Score (Train): 0.677463\n"
     ]
    },
    {
     "data": {
      "image/png": "[encoded data removed]",
      "text/plain": [
       "<Figure size 432x288 with 1 Axes>"
      ]
     },
     "metadata": {
      "needs_background": "light"
     },
     "output_type": "display_data"
    }
   ],
   "source": [
    "#replce top_20_ft with predictors to run model on all the features\n",
    "modelfit(model1, X_train,y_train,X_validation,y_validation,test_df,sub_df,predictors,outcome,useTrainCV=True, cv_folds=5, early_stopping_rounds=50)"
   ]
  },
  {
   "cell_type": "code",
   "execution_count": null,
   "metadata": {},
   "outputs": [],
   "source": [
    "top_20_features = pd.Series(model1.get_booster().get_fscore()).sort_values(ascending=False)[:25]"
   ]
  },
  {
   "cell_type": "code",
   "execution_count": null,
   "metadata": {},
   "outputs": [],
   "source": [
    "top_20_ft = list(top_20_features.index)"
   ]
  },
  {
   "cell_type": "code",
   "execution_count": null,
   "metadata": {},
   "outputs": [],
   "source": [
    "top_20_ft"
   ]
  },
  {
   "cell_type": "code",
   "execution_count": null,
   "metadata": {},
   "outputs": [],
   "source": [
    "%%time\n",
    "#top features only\n",
    "modelfit(model1, X_train,y_train,X_validation,y_validation,test_df,sub_df,top_20_ft,outcome,useTrainCV=True, cv_folds=5, early_stopping_rounds=50)"
   ]
  },
  {
   "cell_type": "code",
   "execution_count": null,
   "metadata": {},
   "outputs": [],
   "source": [
    "%%time\n",
    "#top features only\n",
    "modelfit(model1, X_train,y_train,X_validation,y_validation,test_df,sub_df,top_20_ft,outcome,useTrainCV=True, cv_folds=5, early_stopping_rounds=50)"
   ]
  },
  {
   "cell_type": "code",
   "execution_count": null,
   "metadata": {},
   "outputs": [],
   "source": [
    "from sklearn.metrics import roc_curve, auc\n",
    "def Performance(Model,Y,X):\n",
    "    # Perforamnce of the model\n",
    "    fpr, tpr, _ = roc_curve(Y, Model.predict_proba(X)[:,1])\n",
    "    AUC  = auc(fpr, tpr)\n",
    "    print ('the AUC is : %0.4f' %  AUC)\n",
    "    plt.figure()\n",
    "    plt.plot(fpr, tpr, label='ROC curve (area = %0.4f)' % AUC)\n",
    "    plt.plot([0, 1], [0, 1], 'k--')\n",
    "    plt.xlim([0.0, 1.0])\n",
    "    plt.ylim([0.0, 1.05])\n",
    "    plt.xlabel('False Positive Rate')\n",
    "    plt.ylabel('True Positive Rate')\n",
    "    plt.title('ROC Curve')\n",
    "    plt.legend(loc=\"lower right\")\n",
    "    plt.show()"
   ]
  },
  {
   "cell_type": "code",
   "execution_count": null,
   "metadata": {},
   "outputs": [],
   "source": [
    "Performance(model1,y_validation,X_validation)"
   ]
  },
  {
   "cell_type": "code",
   "execution_count": null,
   "metadata": {},
   "outputs": [],
   "source": [
    "from hyperopt import fmin, tpe, hp, STATUS_OK, Trials"
   ]
  },
  {
   "cell_type": "code",
   "execution_count": null,
   "metadata": {},
   "outputs": [],
   "source": [
    "%%time\n",
    "np.linspace(0,1,11)"
   ]
  },
  {
   "cell_type": "code",
   "execution_count": null,
   "metadata": {},
   "outputs": [],
   "source": [
    "%%time\n",
    "from sklearn.model_selection import cross_val_score\n",
    "def acc_model(params):\n",
    "    clf = XGBClassifier(**params)\n",
    "    return cross_val_score(clf, X_train, y_train, scoring='roc_auc',cv=5).mean()\n",
    "\n",
    "param_space = {\n",
    "    'learning_rate': hp.choice('learning_rate', [0.1,0.1]),#np.linspace(0,1,11)),\n",
    "    \n",
    "    'n_estimators': hp.choice('n_estimators', [300,300]),\n",
    "    \n",
    "    'max_depth': hp.choice('max_depth', [3, 5, 7, 9]), #range(1,20)),\n",
    "                               \n",
    "    'min_child_weight': hp.choice('min_child_weight', [1, 3, 5]), #range(1,7)),\n",
    "    \n",
    "    'gamma': hp.choice('gamma', [0,0]),#np.linspace(0,1,11)),\n",
    "    \n",
    "    'subsample': hp.choice('subsample', [0.8,0.8]),#np.linspace(0,1,11)),\n",
    "    \n",
    "    'colsample_bytree': hp.choice('colsample_bytree',[0.8,0.8])# np.linspace(0,1,11)),\n",
    "    \n",
    "#     'max_features': hp.choice('max_features', range(1,55)),\n",
    "    \n",
    "#     'criterion': hp.choice('criterion', [\"gini\", \"entropy\"])\n",
    "#                        \n",
    "     }\n",
    "\n",
    "best = 0\n",
    "def f(params):\n",
    "    global best\n",
    "    acc = acc_model(params)\n",
    "    if acc > best:\n",
    "        best = acc\n",
    "    print ('new best:', best, params)\n",
    "    return {'loss': -acc, 'status': STATUS_OK}\n",
    "\n",
    "trials = Trials()\n",
    "best = fmin(f, param_space, algo=tpe.suggest, max_evals=5, trials=trials)\n",
    "print ('best:')\n",
    "print (best)\n"
   ]
  },
  {
   "cell_type": "code",
   "execution_count": null,
   "metadata": {},
   "outputs": [],
   "source": []
  },
  {
   "cell_type": "code",
   "execution_count": null,
   "metadata": {},
   "outputs": [],
   "source": []
  },
  {
   "cell_type": "code",
   "execution_count": null,
   "metadata": {},
   "outputs": [],
   "source": []
  },
  {
   "cell_type": "code",
   "execution_count": null,
   "metadata": {},
   "outputs": [],
   "source": []
  },
  {
   "cell_type": "code",
   "execution_count": null,
   "metadata": {},
   "outputs": [],
   "source": [
    "from sklearn.model_selection import learning_curve, GridSearchCV"
   ]
  },
  {
   "cell_type": "code",
   "execution_count": null,
   "metadata": {},
   "outputs": [],
   "source": [
    "%%time\n",
    "param_test1 = {\n",
    " 'max_depth':[3, 5, 7],\n",
    " 'min_child_weight':[1, 3, 5]\n",
    "}\n",
    "\n",
    "gsearch1 = GridSearchCV(estimator = XGBClassifier( learning_rate =0.1, n_estimators=300, max_depth=5,\n",
    " min_child_weight=1, gamma=0, subsample=0.8, colsample_bytree=0.8,\n",
    " objective= 'binary:logistic', nthread=6, scale_pos_weight=1, seed=27), \n",
    " param_grid = param_test1, scoring='roc_auc',n_jobs=6,iid=False, cv=5)\n",
    "gsearch1.fit(X_train,y_train)\n",
    "gsearch1.grid_scores_, gsearch1.best_params_, gsearch1.best_score_\n"
   ]
  },
  {
   "cell_type": "code",
   "execution_count": null,
   "metadata": {},
   "outputs": [],
   "source": []
  },
  {
   "cell_type": "code",
   "execution_count": null,
   "metadata": {},
   "outputs": [],
   "source": []
  },
  {
   "cell_type": "code",
   "execution_count": null,
   "metadata": {},
   "outputs": [],
   "source": [
    "\n",
    "\n",
    "param_test2 = {\n",
    " 'max_depth':[4, 5, 6],\n",
    " 'min_child_weight':[2,3,4]\n",
    "}\n",
    "\n",
    "gsearch1 = GridSearchCV(estimator = XGBClassifier( learning_rate =0.1, n_estimators=29, max_depth=6,\n",
    " min_child_weight=3, gamma=0, subsample=0.8, colsample_bytree=0.8,\n",
    " objective= 'binary:logistic', nthread=6, scale_pos_weight=1, seed=27), \n",
    " param_grid = param_test2, scoring='roc_auc',n_jobs=6,iid=False, cv=5)\n",
    "gsearch1.fit(X_train_std,y)\n",
    "gsearch1.grid_scores_, gsearch1.best_params_, gsearch1.best_score_\n",
    "\n",
    "param_test2b = {\n",
    " 'min_child_weight':[2,3,4,5,6,7,8]\n",
    "}\n",
    "gsearch2b = GridSearchCV(estimator = XGBClassifier( learning_rate=0.1, n_estimators=29, max_depth=6,\n",
    " min_child_weight=3, gamma=0, subsample=0.8, colsample_bytree=0.8,\n",
    " objective= 'binary:logistic', nthread=6, scale_pos_weight=1,seed=27), \n",
    " param_grid = param_test2b, scoring='roc_auc',n_jobs=6,iid=False, cv=5)\n",
    "gsearch2b.fit(X_train_std,y)\n",
    "gsearch2b.grid_scores_, gsearch2b.best_params_, gsearch2b.best_score_\n",
    "\n",
    "\n",
    "param_test3 = {\n",
    " 'gamma':[i/10.0 for i in range(0,5)]\n",
    "}\n",
    "gsearch3 = GridSearchCV(estimator = XGBClassifier( learning_rate =0.1, n_estimators=29, max_depth=6,\n",
    " min_child_weight=3, gamma=0, subsample=0.8, colsample_bytree=0.8,\n",
    " objective= 'binary:logistic', nthread=4, scale_pos_weight=1,seed=27), \n",
    " param_grid = param_test3, scoring='roc_auc',n_jobs=4,iid=False, cv=5)\n",
    "gsearch3.fit(X_train_std,y)\n",
    "gsearch3.grid_scores_, gsearch3.best_params_, gsearch3.best_score_\n",
    "\n",
    "\n",
    "\n",
    "model2 = XGBClassifier(learning_rate =0.1,\n",
    " n_estimators=29,\n",
    " max_depth=6,\n",
    " min_child_weight=3,\n",
    " gamma=0,\n",
    " subsample=0.8,\n",
    " colsample_bytree=0.75,\n",
    " objective= 'binary:logistic',\n",
    " nthread=6,\n",
    " scale_pos_weight=1,\n",
    " seed=27)\n",
    " \n",
    "#classification_model(model, df,predictor_var,outcome_var)\n",
    "\n",
    "modelfit(model2, X,y, predictor_var,useTrainCV=True, cv_folds=5, early_stopping_rounds=50)\n",
    "\n",
    "param_test4 = {\n",
    " 'subsample':[i/10.0 for i in range(6,10)],\n",
    " 'colsample_bytree':[i/10.0 for i in range(6,10)]\n",
    "}\n",
    "\n",
    "gsearch4 = GridSearchCV(estimator = XGBClassifier( learning_rate =0.1, n_estimators=28, max_depth=6,\n",
    " min_child_weight=3, gamma=0, subsample=0.9, colsample_bytree=0.8,\n",
    " objective= 'binary:logistic', nthread=4, scale_pos_weight=1,seed=27), \n",
    " param_grid = param_test4, scoring='roc_auc',n_jobs=4,iid=False, cv=5)\n",
    "gsearch4.fit(X_train_std,y)\n",
    "gsearch4.grid_scores_, gsearch4.best_params_, gsearch4.best_score_\n",
    "\n",
    "\n",
    "param_test5 = {\n",
    " 'subsample':[i/100.0 for i in range(75,90,5)],\n",
    " 'colsample_bytree':[i/100.0 for i in range(75,90,5)]\n",
    "}\n",
    "gsearch5 = GridSearchCV(estimator = XGBClassifier( learning_rate =0.1, n_estimators=28, max_depth=8,\n",
    " min_child_weight=1, gamma=0, subsample=0.8, colsample_bytree=0.8,\n",
    " objective= 'binary:logistic', nthread=4, scale_pos_weight=1,seed=27), \n",
    " param_grid = param_test5, scoring='roc_auc',n_jobs=4,iid=False, cv=5)\n",
    "gsearch5.fit(df[predictor_var],df[outcome_var])\n",
    "gsearch5.grid_scores_, gsearch5.best_params_, gsearch5.best_score_\n",
    "\n",
    "\n",
    "param_test6 = {\n",
    " 'reg_alpha':[1e-5, 1e-2, 0.1, 1, 100]\n",
    "}\n",
    "gsearch6 = GridSearchCV(estimator = XGBClassifier( learning_rate =0.1, n_estimators=28, max_depth=6,\n",
    " min_child_weight=3, gamma=0, subsample=0.9, colsample_bytree=0.8,\n",
    " objective= 'binary:logistic', nthread=4, scale_pos_weight=1,seed=27), \n",
    " param_grid = param_test6, scoring='roc_auc',n_jobs=4,iid=False, cv=5)\n",
    "gsearch6.fit(X_train_std,y)\n",
    "gsearch6.grid_scores_, gsearch6.best_params_, gsearch6.best_score_\n",
    "\n",
    "\n",
    "param_test7 = {\n",
    " 'reg_alpha':[0, 0.001, 0.005, 0.01, 0.05,0.09]\n",
    "}\n",
    "gsearch7 = GridSearchCV(estimator = XGBClassifier( learning_rate =0.1, n_estimators=28, max_depth=6,\n",
    " min_child_weight=3, gamma=0.1,reg_alpha = 0.01, subsample=0.9, colsample_bytree=0.8,\n",
    " objective= 'binary:logistic', nthread=4, scale_pos_weight=1,seed=27), \n",
    " param_grid = param_test7, scoring='roc_auc',n_jobs=4,iid=False, cv=5)\n",
    "gsearch7.fit(X_train_std,y)\n",
    "gsearch7.grid_scores_, gsearch7.best_params_, gsearch7.best_score_\n",
    "\n",
    "\n",
    "xgb4 = XGBClassifier(\n",
    " learning_rate =0.1,\n",
    " n_estimators=29,\n",
    " max_depth=6,\n",
    " min_child_weight=3,\n",
    " gamma=0.1,\n",
    " subsample=0.9,\n",
    " colsample_bytree=0.8,\n",
    " reg_alpha=0.001,\n",
    " objective= 'binary:logistic',\n",
    " nthread=4,\n",
    " scale_pos_weight=1,\n",
    " seed=27)\n",
    "\n",
    "modelfit(xgb4, X_train_std,y , predictor_var,useTrainCV=True, cv_folds=5)"
   ]
  },
  {
   "cell_type": "code",
   "execution_count": null,
   "metadata": {},
   "outputs": [],
   "source": []
  },
  {
   "cell_type": "code",
   "execution_count": null,
   "metadata": {},
   "outputs": [],
   "source": []
  },
  {
   "cell_type": "code",
   "execution_count": null,
   "metadata": {},
   "outputs": [],
   "source": []
  },
  {
   "cell_type": "code",
   "execution_count": null,
   "metadata": {},
   "outputs": [],
   "source": []
  },
  {
   "cell_type": "code",
   "execution_count": null,
   "metadata": {},
   "outputs": [],
   "source": []
  },
  {
   "cell_type": "code",
   "execution_count": null,
   "metadata": {},
   "outputs": [],
   "source": []
  },
  {
   "cell_type": "code",
   "execution_count": null,
   "metadata": {},
   "outputs": [],
   "source": []
  },
  {
   "cell_type": "code",
   "execution_count": null,
   "metadata": {},
   "outputs": [],
   "source": []
  },
  {
   "cell_type": "code",
   "execution_count": null,
   "metadata": {},
   "outputs": [],
   "source": []
  },
  {
   "cell_type": "code",
   "execution_count": null,
   "metadata": {},
   "outputs": [],
   "source": []
  },
  {
   "cell_type": "code",
   "execution_count": null,
   "metadata": {},
   "outputs": [],
   "source": []
  },
  {
   "cell_type": "code",
   "execution_count": null,
   "metadata": {},
   "outputs": [],
   "source": []
  },
  {
   "cell_type": "code",
   "execution_count": null,
   "metadata": {},
   "outputs": [],
   "source": []
  },
  {
   "cell_type": "code",
   "execution_count": null,
   "metadata": {},
   "outputs": [],
   "source": [
    "\n",
    "\n",
    "\n",
    "\n",
    "\n",
    "\n",
    "\n",
    "\n",
    "\n",
    "\n",
    "\n",
    " \n",
    "\n",
    "\n",
    "\n",
    "\n",
    "\n",
    "\n",
    "\n",
    "\n",
    "\n",
    "\n",
    "\n",
    "\n",
    "\n",
    "\n",
    "\n"
   ]
  },
  {
   "cell_type": "code",
   "execution_count": null,
   "metadata": {},
   "outputs": [],
   "source": []
  },
  {
   "cell_type": "code",
   "execution_count": null,
   "metadata": {},
   "outputs": [],
   "source": []
  },
  {
   "cell_type": "code",
   "execution_count": null,
   "metadata": {},
   "outputs": [],
   "source": []
  },
  {
   "cell_type": "code",
   "execution_count": null,
   "metadata": {},
   "outputs": [],
   "source": []
  }
 ],
 "metadata": {
  "kernelspec": {
   "display_name": "tensorflow",
   "language": "python",
   "name": "tensorflow"
  },
  "language_info": {
   "codemirror_mode": {
    "name": "ipython",
    "version": 3
   },
   "file_extension": ".py",
   "mimetype": "text/x-python",
   "name": "python",
   "nbconvert_exporter": "python",
   "pygments_lexer": "ipython3",
   "version": "3.6.8"
  }
 },
 "nbformat": 4,
 "nbformat_minor": 2
}
