{
 "cells": [
  {
   "cell_type": "code",
   "execution_count": 1,
   "metadata": {},
   "outputs": [],
   "source": [
    "import pandas as pd\n",
    "import numpy as np"
   ]
  },
  {
   "cell_type": "code",
   "execution_count": 2,
   "metadata": {},
   "outputs": [],
   "source": [
    "train_df = pd.read_csv('/home/monster/Downloads/kaggle/AV-L&T-loan/train.csv')\n",
    "test_df = pd.read_csv('/home/monster/Downloads/kaggle/AV-L&T-loan/test.csv')\n",
    "sub_df = pd.read_csv('/home/monster/Downloads/kaggle/AV-L&T-loan/sample_submission.csv')"
   ]
  },
  {
   "cell_type": "code",
   "execution_count": 3,
   "metadata": {},
   "outputs": [
    {
     "data": {
      "text/plain": [
       "((233154, 41), (112392, 40))"
      ]
     },
     "execution_count": 3,
     "metadata": {},
     "output_type": "execute_result"
    }
   ],
   "source": [
    "train_df.shape,test_df.shape"
   ]
  },
  {
   "cell_type": "code",
   "execution_count": 11,
   "metadata": {},
   "outputs": [],
   "source": [
    "train_df['is_train'] = ''\n",
    "test_df['is_train'] = ''\n",
    "data = pd.DataFrame()\n",
    "train_df.loc[:,'is_train'] = 1\n",
    "test_df.loc[:,'is_train'] = 0\n",
    "data = data.append(train_df,sort=False).append(test_df,sort=False)"
   ]
  },
  {
   "cell_type": "code",
   "execution_count": 26,
   "metadata": {},
   "outputs": [],
   "source": [
    "data.reset_index(inplace=True)"
   ]
  },
  {
   "cell_type": "code",
   "execution_count": 14,
   "metadata": {},
   "outputs": [
    {
     "data": {
      "text/plain": [
       "UniqueID                                 int64\n",
       "disbursed_amount                         int64\n",
       "asset_cost                               int64\n",
       "ltv                                    float64\n",
       "branch_id                                int64\n",
       "supplier_id                              int64\n",
       "manufacturer_id                          int64\n",
       "Current_pincode_ID                       int64\n",
       "Date.of.Birth                           object\n",
       "Employment.Type                         object\n",
       "DisbursalDate                           object\n",
       "State_ID                                 int64\n",
       "Employee_code_ID                         int64\n",
       "MobileNo_Avl_Flag                        int64\n",
       "Aadhar_flag                              int64\n",
       "PAN_flag                                 int64\n",
       "VoterID_flag                             int64\n",
       "Driving_flag                             int64\n",
       "Passport_flag                            int64\n",
       "PERFORM_CNS.SCORE                        int64\n",
       "PERFORM_CNS.SCORE.DESCRIPTION           object\n",
       "PRI.NO.OF.ACCTS                          int64\n",
       "PRI.ACTIVE.ACCTS                         int64\n",
       "PRI.OVERDUE.ACCTS                        int64\n",
       "PRI.CURRENT.BALANCE                      int64\n",
       "PRI.SANCTIONED.AMOUNT                    int64\n",
       "PRI.DISBURSED.AMOUNT                     int64\n",
       "SEC.NO.OF.ACCTS                          int64\n",
       "SEC.ACTIVE.ACCTS                         int64\n",
       "SEC.OVERDUE.ACCTS                        int64\n",
       "SEC.CURRENT.BALANCE                      int64\n",
       "SEC.SANCTIONED.AMOUNT                    int64\n",
       "SEC.DISBURSED.AMOUNT                     int64\n",
       "PRIMARY.INSTAL.AMT                       int64\n",
       "SEC.INSTAL.AMT                           int64\n",
       "NEW.ACCTS.IN.LAST.SIX.MONTHS             int64\n",
       "DELINQUENT.ACCTS.IN.LAST.SIX.MONTHS      int64\n",
       "AVERAGE.ACCT.AGE                        object\n",
       "CREDIT.HISTORY.LENGTH                   object\n",
       "NO.OF_INQUIRIES                          int64\n",
       "loan_default                           float64\n",
       "is_train                                 int64\n",
       "dtype: object"
      ]
     },
     "execution_count": 14,
     "metadata": {},
     "output_type": "execute_result"
    }
   ],
   "source": [
    "#Treat missing values\n",
    "#86 % values are no so it is safe to impute NO\n",
    "data['Employment.Type'].fillna('Self_employed',inplace=True)"
   ]
  },
  {
   "cell_type": "code",
   "execution_count": 15,
   "metadata": {},
   "outputs": [
    {
     "data": {
      "text/plain": [
       "UniqueID                                    0\n",
       "disbursed_amount                            0\n",
       "asset_cost                                  0\n",
       "ltv                                         0\n",
       "branch_id                                   0\n",
       "supplier_id                                 0\n",
       "manufacturer_id                             0\n",
       "Current_pincode_ID                          0\n",
       "Date.of.Birth                               0\n",
       "Employment.Type                             0\n",
       "DisbursalDate                               0\n",
       "State_ID                                    0\n",
       "Employee_code_ID                            0\n",
       "MobileNo_Avl_Flag                           0\n",
       "Aadhar_flag                                 0\n",
       "PAN_flag                                    0\n",
       "VoterID_flag                                0\n",
       "Driving_flag                                0\n",
       "Passport_flag                               0\n",
       "PERFORM_CNS.SCORE                           0\n",
       "PERFORM_CNS.SCORE.DESCRIPTION               0\n",
       "PRI.NO.OF.ACCTS                             0\n",
       "PRI.ACTIVE.ACCTS                            0\n",
       "PRI.OVERDUE.ACCTS                           0\n",
       "PRI.CURRENT.BALANCE                         0\n",
       "PRI.SANCTIONED.AMOUNT                       0\n",
       "PRI.DISBURSED.AMOUNT                        0\n",
       "SEC.NO.OF.ACCTS                             0\n",
       "SEC.ACTIVE.ACCTS                            0\n",
       "SEC.OVERDUE.ACCTS                           0\n",
       "SEC.CURRENT.BALANCE                         0\n",
       "SEC.SANCTIONED.AMOUNT                       0\n",
       "SEC.DISBURSED.AMOUNT                        0\n",
       "PRIMARY.INSTAL.AMT                          0\n",
       "SEC.INSTAL.AMT                              0\n",
       "NEW.ACCTS.IN.LAST.SIX.MONTHS                0\n",
       "DELINQUENT.ACCTS.IN.LAST.SIX.MONTHS         0\n",
       "AVERAGE.ACCT.AGE                            0\n",
       "CREDIT.HISTORY.LENGTH                       0\n",
       "NO.OF_INQUIRIES                             0\n",
       "loan_default                           112392\n",
       "is_train                                    0\n",
       "dtype: int64"
      ]
     },
     "execution_count": 15,
     "metadata": {},
     "output_type": "execute_result"
    }
   ],
   "source": [
    "data.apply(lambda x: sum(x.isnull()),axis=0)"
   ]
  },
  {
   "cell_type": "code",
   "execution_count": 16,
   "metadata": {},
   "outputs": [
    {
     "name": "stdout",
     "output_type": "stream",
     "text": [
      "Employment.Type\n",
      "PERFORM_CNS.SCORE.DESCRIPTION\n"
     ]
    },
    {
     "data": {
      "text/plain": [
       "Employment.Type                  int64\n",
       "PERFORM_CNS.SCORE.DESCRIPTION    int64\n",
       "dtype: object"
      ]
     },
     "execution_count": 16,
     "metadata": {},
     "output_type": "execute_result"
    }
   ],
   "source": [
    "#treat categorical variables\n",
    "from sklearn.preprocessing import LabelEncoder\n",
    "\n",
    "d = pd.DataFrame()\n",
    "\n",
    "var_mod = ['Employment.Type','PERFORM_CNS.SCORE.DESCRIPTION']\n",
    "\n",
    "le = LabelEncoder()\n",
    "for i in var_mod:\n",
    "    print(i)\n",
    "    d[str(i)] = le.fit_transform(data.loc[:,i])\n",
    "d.dtypes\n"
   ]
  },
  {
   "cell_type": "code",
   "execution_count": 18,
   "metadata": {},
   "outputs": [
    {
     "data": {
      "text/plain": [
       "((345546, 42), (345546, 2))"
      ]
     },
     "execution_count": 18,
     "metadata": {},
     "output_type": "execute_result"
    }
   ],
   "source": [
    "data.shape,d.shape"
   ]
  },
  {
   "cell_type": "code",
   "execution_count": 19,
   "metadata": {},
   "outputs": [],
   "source": [
    "data.loc[:,'Employment.Type'] = d.loc[:,'Employment.Type']\n",
    "data.loc[:,'PERFORM_CNS.SCORE.DESCRIPTION'] = d.loc[:,'PERFORM_CNS.SCORE.DESCRIPTION']"
   ]
  },
  {
   "cell_type": "code",
   "execution_count": 28,
   "metadata": {},
   "outputs": [
    {
     "data": {
      "text/plain": [
       "Date.of.Birth            object\n",
       "DisbursalDate            object\n",
       "AVERAGE.ACCT.AGE         object\n",
       "CREDIT.HISTORY.LENGTH    object\n",
       "dtype: object"
      ]
     },
     "execution_count": 28,
     "metadata": {},
     "output_type": "execute_result"
    }
   ],
   "source": [
    "data.dtypes[data.dtypes=='object']"
   ]
  },
  {
   "cell_type": "code",
   "execution_count": 30,
   "metadata": {},
   "outputs": [
    {
     "data": {
      "text/plain": [
       "str"
      ]
     },
     "execution_count": 30,
     "metadata": {},
     "output_type": "execute_result"
    }
   ],
   "source": [
    "type(data['Date.of.Birth'][0])"
   ]
  },
  {
   "cell_type": "code",
   "execution_count": 31,
   "metadata": {},
   "outputs": [
    {
     "data": {
      "text/plain": [
       "str"
      ]
     },
     "execution_count": 31,
     "metadata": {},
     "output_type": "execute_result"
    }
   ],
   "source": [
    "type(data['DisbursalDate'][0])"
   ]
  },
  {
   "cell_type": "code",
   "execution_count": 32,
   "metadata": {},
   "outputs": [
    {
     "data": {
      "text/plain": [
       "str"
      ]
     },
     "execution_count": 32,
     "metadata": {},
     "output_type": "execute_result"
    }
   ],
   "source": [
    "type(data['AVERAGE.ACCT.AGE'][0])"
   ]
  },
  {
   "cell_type": "code",
   "execution_count": 33,
   "metadata": {},
   "outputs": [
    {
     "data": {
      "text/plain": [
       "str"
      ]
     },
     "execution_count": 33,
     "metadata": {},
     "output_type": "execute_result"
    }
   ],
   "source": [
    "type(data['CREDIT.HISTORY.LENGTH'][0])"
   ]
  },
  {
   "cell_type": "code",
   "execution_count": 43,
   "metadata": {},
   "outputs": [],
   "source": [
    "train_df = data.loc[data['is_train']==1,:]\n",
    "train_df = train_df.drop(['is_train'],axis=1)"
   ]
  },
  {
   "cell_type": "code",
   "execution_count": 51,
   "metadata": {},
   "outputs": [],
   "source": [
    "test_df = data.loc[data['is_train']==0,:]\n",
    "test_df = test_df.drop(['is_train','loan_default'],axis=1)"
   ]
  },
  {
   "cell_type": "code",
   "execution_count": 47,
   "metadata": {},
   "outputs": [
    {
     "data": {
      "text/plain": [
       "index                                  0\n",
       "UniqueID                               0\n",
       "disbursed_amount                       0\n",
       "asset_cost                             0\n",
       "ltv                                    0\n",
       "branch_id                              0\n",
       "supplier_id                            0\n",
       "manufacturer_id                        0\n",
       "Current_pincode_ID                     0\n",
       "Date.of.Birth                          0\n",
       "Employment.Type                        0\n",
       "DisbursalDate                          0\n",
       "State_ID                               0\n",
       "Employee_code_ID                       0\n",
       "MobileNo_Avl_Flag                      0\n",
       "Aadhar_flag                            0\n",
       "PAN_flag                               0\n",
       "VoterID_flag                           0\n",
       "Driving_flag                           0\n",
       "Passport_flag                          0\n",
       "PERFORM_CNS.SCORE                      0\n",
       "PERFORM_CNS.SCORE.DESCRIPTION          0\n",
       "PRI.NO.OF.ACCTS                        0\n",
       "PRI.ACTIVE.ACCTS                       0\n",
       "PRI.OVERDUE.ACCTS                      0\n",
       "PRI.CURRENT.BALANCE                    0\n",
       "PRI.SANCTIONED.AMOUNT                  0\n",
       "PRI.DISBURSED.AMOUNT                   0\n",
       "SEC.NO.OF.ACCTS                        0\n",
       "SEC.ACTIVE.ACCTS                       0\n",
       "SEC.OVERDUE.ACCTS                      0\n",
       "SEC.CURRENT.BALANCE                    0\n",
       "SEC.SANCTIONED.AMOUNT                  0\n",
       "SEC.DISBURSED.AMOUNT                   0\n",
       "PRIMARY.INSTAL.AMT                     0\n",
       "SEC.INSTAL.AMT                         0\n",
       "NEW.ACCTS.IN.LAST.SIX.MONTHS           0\n",
       "DELINQUENT.ACCTS.IN.LAST.SIX.MONTHS    0\n",
       "AVERAGE.ACCT.AGE                       0\n",
       "CREDIT.HISTORY.LENGTH                  0\n",
       "NO.OF_INQUIRIES                        0\n",
       "loan_default                           0\n",
       "dtype: int64"
      ]
     },
     "execution_count": 47,
     "metadata": {},
     "output_type": "execute_result"
    }
   ],
   "source": [
    "train_df.apply(lambda x: sum(x.isnull()),axis=0)"
   ]
  },
  {
   "cell_type": "code",
   "execution_count": 52,
   "metadata": {},
   "outputs": [
    {
     "data": {
      "text/plain": [
       "index                                  0\n",
       "UniqueID                               0\n",
       "disbursed_amount                       0\n",
       "asset_cost                             0\n",
       "ltv                                    0\n",
       "branch_id                              0\n",
       "supplier_id                            0\n",
       "manufacturer_id                        0\n",
       "Current_pincode_ID                     0\n",
       "Date.of.Birth                          0\n",
       "Employment.Type                        0\n",
       "DisbursalDate                          0\n",
       "State_ID                               0\n",
       "Employee_code_ID                       0\n",
       "MobileNo_Avl_Flag                      0\n",
       "Aadhar_flag                            0\n",
       "PAN_flag                               0\n",
       "VoterID_flag                           0\n",
       "Driving_flag                           0\n",
       "Passport_flag                          0\n",
       "PERFORM_CNS.SCORE                      0\n",
       "PERFORM_CNS.SCORE.DESCRIPTION          0\n",
       "PRI.NO.OF.ACCTS                        0\n",
       "PRI.ACTIVE.ACCTS                       0\n",
       "PRI.OVERDUE.ACCTS                      0\n",
       "PRI.CURRENT.BALANCE                    0\n",
       "PRI.SANCTIONED.AMOUNT                  0\n",
       "PRI.DISBURSED.AMOUNT                   0\n",
       "SEC.NO.OF.ACCTS                        0\n",
       "SEC.ACTIVE.ACCTS                       0\n",
       "SEC.OVERDUE.ACCTS                      0\n",
       "SEC.CURRENT.BALANCE                    0\n",
       "SEC.SANCTIONED.AMOUNT                  0\n",
       "SEC.DISBURSED.AMOUNT                   0\n",
       "PRIMARY.INSTAL.AMT                     0\n",
       "SEC.INSTAL.AMT                         0\n",
       "NEW.ACCTS.IN.LAST.SIX.MONTHS           0\n",
       "DELINQUENT.ACCTS.IN.LAST.SIX.MONTHS    0\n",
       "AVERAGE.ACCT.AGE                       0\n",
       "CREDIT.HISTORY.LENGTH                  0\n",
       "NO.OF_INQUIRIES                        0\n",
       "dtype: int64"
      ]
     },
     "execution_count": 52,
     "metadata": {},
     "output_type": "execute_result"
    }
   ],
   "source": [
    "test_df.apply(lambda x: sum(x.isnull()),axis=0)"
   ]
  },
  {
   "cell_type": "code",
   "execution_count": 53,
   "metadata": {},
   "outputs": [
    {
     "data": {
      "text/plain": [
       "((233154, 42), (112392, 41))"
      ]
     },
     "execution_count": 53,
     "metadata": {},
     "output_type": "execute_result"
    }
   ],
   "source": [
    "train_df.shape,test_df.shape"
   ]
  },
  {
   "cell_type": "code",
   "execution_count": 54,
   "metadata": {},
   "outputs": [
    {
     "data": {
      "text/plain": [
       "Index(['index', 'UniqueID', 'disbursed_amount', 'asset_cost', 'ltv',\n",
       "       'branch_id', 'supplier_id', 'manufacturer_id', 'Current_pincode_ID',\n",
       "       'Date.of.Birth', 'Employment.Type', 'DisbursalDate', 'State_ID',\n",
       "       'Employee_code_ID', 'MobileNo_Avl_Flag', 'Aadhar_flag', 'PAN_flag',\n",
       "       'VoterID_flag', 'Driving_flag', 'Passport_flag', 'PERFORM_CNS.SCORE',\n",
       "       'PERFORM_CNS.SCORE.DESCRIPTION', 'PRI.NO.OF.ACCTS', 'PRI.ACTIVE.ACCTS',\n",
       "       'PRI.OVERDUE.ACCTS', 'PRI.CURRENT.BALANCE', 'PRI.SANCTIONED.AMOUNT',\n",
       "       'PRI.DISBURSED.AMOUNT', 'SEC.NO.OF.ACCTS', 'SEC.ACTIVE.ACCTS',\n",
       "       'SEC.OVERDUE.ACCTS', 'SEC.CURRENT.BALANCE', 'SEC.SANCTIONED.AMOUNT',\n",
       "       'SEC.DISBURSED.AMOUNT', 'PRIMARY.INSTAL.AMT', 'SEC.INSTAL.AMT',\n",
       "       'NEW.ACCTS.IN.LAST.SIX.MONTHS', 'DELINQUENT.ACCTS.IN.LAST.SIX.MONTHS',\n",
       "       'AVERAGE.ACCT.AGE', 'CREDIT.HISTORY.LENGTH', 'NO.OF_INQUIRIES',\n",
       "       'loan_default'],\n",
       "      dtype='object')"
      ]
     },
     "execution_count": 54,
     "metadata": {},
     "output_type": "execute_result"
    }
   ],
   "source": [
    "train_df.columns"
   ]
  },
  {
   "cell_type": "code",
   "execution_count": 79,
   "metadata": {},
   "outputs": [],
   "source": [
    "\n",
    "predictors = ['disbursed_amount', 'asset_cost', 'ltv',\n",
    "       'branch_id', 'supplier_id', 'manufacturer_id', 'Current_pincode_ID',\n",
    "              'Employment.Type', 'State_ID',\n",
    "       'Employee_code_ID', 'MobileNo_Avl_Flag', 'Aadhar_flag', 'PAN_flag',\n",
    "       'VoterID_flag', 'Driving_flag', 'Passport_flag', 'PERFORM_CNS.SCORE',\n",
    "       'PERFORM_CNS.SCORE.DESCRIPTION', 'PRI.NO.OF.ACCTS', 'PRI.ACTIVE.ACCTS',\n",
    "       'PRI.OVERDUE.ACCTS', 'PRI.CURRENT.BALANCE', 'PRI.SANCTIONED.AMOUNT',\n",
    "       'PRI.DISBURSED.AMOUNT', 'SEC.NO.OF.ACCTS', 'SEC.ACTIVE.ACCTS',\n",
    "       'SEC.OVERDUE.ACCTS', 'SEC.CURRENT.BALANCE', 'SEC.SANCTIONED.AMOUNT',\n",
    "       'SEC.DISBURSED.AMOUNT', 'PRIMARY.INSTAL.AMT', 'SEC.INSTAL.AMT',\n",
    "       'NEW.ACCTS.IN.LAST.SIX.MONTHS', 'DELINQUENT.ACCTS.IN.LAST.SIX.MONTHS',\n",
    "       'NO.OF_INQUIRIES']\n",
    "\n",
    "outcome = ['loan_default']"
   ]
  },
  {
   "cell_type": "code",
   "execution_count": 80,
   "metadata": {},
   "outputs": [],
   "source": [
    "from sklearn.model_selection import train_test_split\n",
    "\n",
    "X_train, X_validation, y_train, y_validation = train_test_split(train_df[predictors], train_df[outcome], test_size=0.3, random_state=1234)"
   ]
  },
  {
   "cell_type": "code",
   "execution_count": 81,
   "metadata": {},
   "outputs": [
    {
     "data": {
      "text/plain": [
       "((163207, 35), (69947, 35))"
      ]
     },
     "execution_count": 81,
     "metadata": {},
     "output_type": "execute_result"
    }
   ],
   "source": [
    "X_train.shape,X_validation.shape"
   ]
  },
  {
   "cell_type": "code",
   "execution_count": null,
   "metadata": {},
   "outputs": [],
   "source": []
  },
  {
   "cell_type": "code",
   "execution_count": 110,
   "metadata": {},
   "outputs": [],
   "source": [
    "from sklearn.ensemble import RandomForestClassifier\n",
    "alg = RandomForestClassifier()\n"
   ]
  },
  {
   "cell_type": "code",
   "execution_count": 74,
   "metadata": {},
   "outputs": [],
   "source": [
    "import xgboost as xgb\n",
    "from xgboost.sklearn import XGBClassifier\n",
    "from sklearn.model_selection import cross_validate\n",
    "from sklearn import metrics \n",
    "from sklearn.model_selection import GridSearchCV   #Perforing grid search\n",
    "from sklearn.model_selection import cross_validate\n",
    "from sklearn.model_selection import KFold"
   ]
  },
  {
   "cell_type": "code",
   "execution_count": 111,
   "metadata": {},
   "outputs": [
    {
     "name": "stdout",
     "output_type": "stream",
     "text": [
      "training stared\n"
     ]
    },
    {
     "name": "stderr",
     "output_type": "stream",
     "text": [
      "/home/monster/.conda/envs/tensorflow/lib/python3.6/site-packages/sklearn/ensemble/forest.py:246: FutureWarning: The default value of n_estimators will change from 10 in version 0.20 to 100 in 0.22.\n",
      "  \"10 in version 0.20 to 100 in 0.22.\", FutureWarning)\n",
      "/home/monster/.conda/envs/tensorflow/lib/python3.6/site-packages/ipykernel_launcher.py:15: DataConversionWarning: A column-vector y was passed when a 1d array was expected. Please change the shape of y to (n_samples,), for example using ravel().\n",
      "  from ipykernel import kernelapp as app\n"
     ]
    },
    {
     "name": "stdout",
     "output_type": "stream",
     "text": [
      "training finished\n",
      "training stared\n"
     ]
    },
    {
     "name": "stderr",
     "output_type": "stream",
     "text": [
      "/home/monster/.conda/envs/tensorflow/lib/python3.6/site-packages/ipykernel_launcher.py:15: DataConversionWarning: A column-vector y was passed when a 1d array was expected. Please change the shape of y to (n_samples,), for example using ravel().\n",
      "  from ipykernel import kernelapp as app\n"
     ]
    },
    {
     "name": "stdout",
     "output_type": "stream",
     "text": [
      "training finished\n",
      "training stared\n"
     ]
    },
    {
     "name": "stderr",
     "output_type": "stream",
     "text": [
      "/home/monster/.conda/envs/tensorflow/lib/python3.6/site-packages/ipykernel_launcher.py:15: DataConversionWarning: A column-vector y was passed when a 1d array was expected. Please change the shape of y to (n_samples,), for example using ravel().\n",
      "  from ipykernel import kernelapp as app\n"
     ]
    },
    {
     "name": "stdout",
     "output_type": "stream",
     "text": [
      "training finished\n",
      "training stared\n"
     ]
    },
    {
     "name": "stderr",
     "output_type": "stream",
     "text": [
      "/home/monster/.conda/envs/tensorflow/lib/python3.6/site-packages/ipykernel_launcher.py:15: DataConversionWarning: A column-vector y was passed when a 1d array was expected. Please change the shape of y to (n_samples,), for example using ravel().\n",
      "  from ipykernel import kernelapp as app\n"
     ]
    },
    {
     "name": "stdout",
     "output_type": "stream",
     "text": [
      "training finished\n",
      "training stared\n"
     ]
    },
    {
     "name": "stderr",
     "output_type": "stream",
     "text": [
      "/home/monster/.conda/envs/tensorflow/lib/python3.6/site-packages/ipykernel_launcher.py:15: DataConversionWarning: A column-vector y was passed when a 1d array was expected. Please change the shape of y to (n_samples,), for example using ravel().\n",
      "  from ipykernel import kernelapp as app\n"
     ]
    },
    {
     "name": "stdout",
     "output_type": "stream",
     "text": [
      "training finished\n",
      "Cross-Validation AUC Score : 0.518834\n"
     ]
    }
   ],
   "source": [
    "#kf = loo.split(X_train_std[predictor_var])\n",
    "kf = KFold(n_splits=5).split(X_train[predictors])\n",
    "error = []\n",
    "# yavg = pd.DataFrame()\n",
    "\n",
    "for train, test in kf:\n",
    "    # Filter training data\n",
    "    print(\"training stared\")\n",
    "    train_predictors = X_train[predictors].iloc[train,:]\n",
    "\n",
    "    # The target we're using to train the algorithm.\n",
    "    train_target = y_train.iloc[train].values\n",
    "\n",
    "    # Training the algorithm using the predictors and target.\n",
    "    alg.fit(train_predictors, train_target)\n",
    "    y1 = alg.predict(X_train[predictors].iloc[test,:])\n",
    "#     yavg = yavg.append(pd.Series(y1),ignore_index=True)\n",
    "\n",
    "    #Record error from each cross-validation run\n",
    "    error.append(metrics.roc_auc_score(y_train.iloc[test], y1))\n",
    "    print(\"training finished\")\n",
    "print (\"Cross-Validation AUC Score : %f\" % np.mean(error))\n"
   ]
  },
  {
   "cell_type": "code",
   "execution_count": 120,
   "metadata": {},
   "outputs": [
    {
     "data": {
      "text/plain": [
       "(163207, 1)"
      ]
     },
     "execution_count": 120,
     "metadata": {},
     "output_type": "execute_result"
    }
   ],
   "source": [
    "# metrics.roc_auc_score(y_train.iloc[test], )\n",
    "# np.transpose(yavg.loc[yavg['index']=='mean',:])[1:]\n",
    "y_train.shape"
   ]
  },
  {
   "cell_type": "code",
   "execution_count": 136,
   "metadata": {},
   "outputs": [
    {
     "data": {
      "text/html": [
       "<div>\n",
       "<style scoped>\n",
       "    .dataframe tbody tr th:only-of-type {\n",
       "        vertical-align: middle;\n",
       "    }\n",
       "\n",
       "    .dataframe tbody tr th {\n",
       "        vertical-align: top;\n",
       "    }\n",
       "\n",
       "    .dataframe thead th {\n",
       "        text-align: right;\n",
       "    }\n",
       "</style>\n",
       "<table border=\"1\" class=\"dataframe\">\n",
       "  <thead>\n",
       "    <tr style=\"text-align: right;\">\n",
       "      <th></th>\n",
       "      <th>UniqueID</th>\n",
       "      <th>loan_default</th>\n",
       "    </tr>\n",
       "  </thead>\n",
       "  <tbody>\n",
       "    <tr>\n",
       "      <th>0</th>\n",
       "      <td>655269</td>\n",
       "      <td>0</td>\n",
       "    </tr>\n",
       "    <tr>\n",
       "      <th>1</th>\n",
       "      <td>723482</td>\n",
       "      <td>0</td>\n",
       "    </tr>\n",
       "    <tr>\n",
       "      <th>2</th>\n",
       "      <td>758529</td>\n",
       "      <td>0</td>\n",
       "    </tr>\n",
       "    <tr>\n",
       "      <th>3</th>\n",
       "      <td>763449</td>\n",
       "      <td>0</td>\n",
       "    </tr>\n",
       "    <tr>\n",
       "      <th>4</th>\n",
       "      <td>708663</td>\n",
       "      <td>0</td>\n",
       "    </tr>\n",
       "    <tr>\n",
       "      <th>5</th>\n",
       "      <td>725530</td>\n",
       "      <td>0</td>\n",
       "    </tr>\n",
       "    <tr>\n",
       "      <th>6</th>\n",
       "      <td>708592</td>\n",
       "      <td>0</td>\n",
       "    </tr>\n",
       "    <tr>\n",
       "      <th>7</th>\n",
       "      <td>714975</td>\n",
       "      <td>0</td>\n",
       "    </tr>\n",
       "    <tr>\n",
       "      <th>8</th>\n",
       "      <td>712795</td>\n",
       "      <td>0</td>\n",
       "    </tr>\n",
       "    <tr>\n",
       "      <th>9</th>\n",
       "      <td>708656</td>\n",
       "      <td>0</td>\n",
       "    </tr>\n",
       "    <tr>\n",
       "      <th>10</th>\n",
       "      <td>712520</td>\n",
       "      <td>0</td>\n",
       "    </tr>\n",
       "    <tr>\n",
       "      <th>11</th>\n",
       "      <td>753695</td>\n",
       "      <td>0</td>\n",
       "    </tr>\n",
       "    <tr>\n",
       "      <th>12</th>\n",
       "      <td>708646</td>\n",
       "      <td>0</td>\n",
       "    </tr>\n",
       "    <tr>\n",
       "      <th>13</th>\n",
       "      <td>730225</td>\n",
       "      <td>0</td>\n",
       "    </tr>\n",
       "    <tr>\n",
       "      <th>14</th>\n",
       "      <td>714877</td>\n",
       "      <td>0</td>\n",
       "    </tr>\n",
       "    <tr>\n",
       "      <th>15</th>\n",
       "      <td>769166</td>\n",
       "      <td>0</td>\n",
       "    </tr>\n",
       "    <tr>\n",
       "      <th>16</th>\n",
       "      <td>710254</td>\n",
       "      <td>0</td>\n",
       "    </tr>\n",
       "    <tr>\n",
       "      <th>17</th>\n",
       "      <td>708812</td>\n",
       "      <td>0</td>\n",
       "    </tr>\n",
       "    <tr>\n",
       "      <th>18</th>\n",
       "      <td>726172</td>\n",
       "      <td>0</td>\n",
       "    </tr>\n",
       "    <tr>\n",
       "      <th>19</th>\n",
       "      <td>716959</td>\n",
       "      <td>0</td>\n",
       "    </tr>\n",
       "    <tr>\n",
       "      <th>20</th>\n",
       "      <td>725935</td>\n",
       "      <td>0</td>\n",
       "    </tr>\n",
       "    <tr>\n",
       "      <th>21</th>\n",
       "      <td>736039</td>\n",
       "      <td>0</td>\n",
       "    </tr>\n",
       "    <tr>\n",
       "      <th>22</th>\n",
       "      <td>748400</td>\n",
       "      <td>0</td>\n",
       "    </tr>\n",
       "    <tr>\n",
       "      <th>23</th>\n",
       "      <td>753652</td>\n",
       "      <td>0</td>\n",
       "    </tr>\n",
       "    <tr>\n",
       "      <th>24</th>\n",
       "      <td>695108</td>\n",
       "      <td>0</td>\n",
       "    </tr>\n",
       "    <tr>\n",
       "      <th>25</th>\n",
       "      <td>695320</td>\n",
       "      <td>0</td>\n",
       "    </tr>\n",
       "    <tr>\n",
       "      <th>26</th>\n",
       "      <td>662145</td>\n",
       "      <td>0</td>\n",
       "    </tr>\n",
       "    <tr>\n",
       "      <th>27</th>\n",
       "      <td>688068</td>\n",
       "      <td>0</td>\n",
       "    </tr>\n",
       "    <tr>\n",
       "      <th>28</th>\n",
       "      <td>662099</td>\n",
       "      <td>0</td>\n",
       "    </tr>\n",
       "    <tr>\n",
       "      <th>29</th>\n",
       "      <td>723985</td>\n",
       "      <td>0</td>\n",
       "    </tr>\n",
       "    <tr>\n",
       "      <th>...</th>\n",
       "      <td>...</td>\n",
       "      <td>...</td>\n",
       "    </tr>\n",
       "    <tr>\n",
       "      <th>112362</th>\n",
       "      <td>752805</td>\n",
       "      <td>0</td>\n",
       "    </tr>\n",
       "    <tr>\n",
       "      <th>112363</th>\n",
       "      <td>717500</td>\n",
       "      <td>0</td>\n",
       "    </tr>\n",
       "    <tr>\n",
       "      <th>112364</th>\n",
       "      <td>724306</td>\n",
       "      <td>0</td>\n",
       "    </tr>\n",
       "    <tr>\n",
       "      <th>112365</th>\n",
       "      <td>711416</td>\n",
       "      <td>0</td>\n",
       "    </tr>\n",
       "    <tr>\n",
       "      <th>112366</th>\n",
       "      <td>748123</td>\n",
       "      <td>0</td>\n",
       "    </tr>\n",
       "    <tr>\n",
       "      <th>112367</th>\n",
       "      <td>693692</td>\n",
       "      <td>0</td>\n",
       "    </tr>\n",
       "    <tr>\n",
       "      <th>112368</th>\n",
       "      <td>755025</td>\n",
       "      <td>0</td>\n",
       "    </tr>\n",
       "    <tr>\n",
       "      <th>112369</th>\n",
       "      <td>736372</td>\n",
       "      <td>0</td>\n",
       "    </tr>\n",
       "    <tr>\n",
       "      <th>112370</th>\n",
       "      <td>742701</td>\n",
       "      <td>0</td>\n",
       "    </tr>\n",
       "    <tr>\n",
       "      <th>112371</th>\n",
       "      <td>693666</td>\n",
       "      <td>0</td>\n",
       "    </tr>\n",
       "    <tr>\n",
       "      <th>112372</th>\n",
       "      <td>756379</td>\n",
       "      <td>0</td>\n",
       "    </tr>\n",
       "    <tr>\n",
       "      <th>112373</th>\n",
       "      <td>684778</td>\n",
       "      <td>0</td>\n",
       "    </tr>\n",
       "    <tr>\n",
       "      <th>112374</th>\n",
       "      <td>764397</td>\n",
       "      <td>0</td>\n",
       "    </tr>\n",
       "    <tr>\n",
       "      <th>112375</th>\n",
       "      <td>755459</td>\n",
       "      <td>0</td>\n",
       "    </tr>\n",
       "    <tr>\n",
       "      <th>112376</th>\n",
       "      <td>703659</td>\n",
       "      <td>0</td>\n",
       "    </tr>\n",
       "    <tr>\n",
       "      <th>112377</th>\n",
       "      <td>760921</td>\n",
       "      <td>0</td>\n",
       "    </tr>\n",
       "    <tr>\n",
       "      <th>112378</th>\n",
       "      <td>670693</td>\n",
       "      <td>0</td>\n",
       "    </tr>\n",
       "    <tr>\n",
       "      <th>112379</th>\n",
       "      <td>741933</td>\n",
       "      <td>0</td>\n",
       "    </tr>\n",
       "    <tr>\n",
       "      <th>112380</th>\n",
       "      <td>742851</td>\n",
       "      <td>0</td>\n",
       "    </tr>\n",
       "    <tr>\n",
       "      <th>112381</th>\n",
       "      <td>699787</td>\n",
       "      <td>0</td>\n",
       "    </tr>\n",
       "    <tr>\n",
       "      <th>112382</th>\n",
       "      <td>669006</td>\n",
       "      <td>0</td>\n",
       "    </tr>\n",
       "    <tr>\n",
       "      <th>112383</th>\n",
       "      <td>708464</td>\n",
       "      <td>0</td>\n",
       "    </tr>\n",
       "    <tr>\n",
       "      <th>112384</th>\n",
       "      <td>762274</td>\n",
       "      <td>0</td>\n",
       "    </tr>\n",
       "    <tr>\n",
       "      <th>112385</th>\n",
       "      <td>767673</td>\n",
       "      <td>0</td>\n",
       "    </tr>\n",
       "    <tr>\n",
       "      <th>112386</th>\n",
       "      <td>743207</td>\n",
       "      <td>0</td>\n",
       "    </tr>\n",
       "    <tr>\n",
       "      <th>112387</th>\n",
       "      <td>755547</td>\n",
       "      <td>0</td>\n",
       "    </tr>\n",
       "    <tr>\n",
       "      <th>112388</th>\n",
       "      <td>716994</td>\n",
       "      <td>0</td>\n",
       "    </tr>\n",
       "    <tr>\n",
       "      <th>112389</th>\n",
       "      <td>709352</td>\n",
       "      <td>0</td>\n",
       "    </tr>\n",
       "    <tr>\n",
       "      <th>112390</th>\n",
       "      <td>699795</td>\n",
       "      <td>0</td>\n",
       "    </tr>\n",
       "    <tr>\n",
       "      <th>112391</th>\n",
       "      <td>755244</td>\n",
       "      <td>0</td>\n",
       "    </tr>\n",
       "  </tbody>\n",
       "</table>\n",
       "<p>112392 rows × 2 columns</p>\n",
       "</div>"
      ],
      "text/plain": [
       "        UniqueID  loan_default\n",
       "0         655269             0\n",
       "1         723482             0\n",
       "2         758529             0\n",
       "3         763449             0\n",
       "4         708663             0\n",
       "5         725530             0\n",
       "6         708592             0\n",
       "7         714975             0\n",
       "8         712795             0\n",
       "9         708656             0\n",
       "10        712520             0\n",
       "11        753695             0\n",
       "12        708646             0\n",
       "13        730225             0\n",
       "14        714877             0\n",
       "15        769166             0\n",
       "16        710254             0\n",
       "17        708812             0\n",
       "18        726172             0\n",
       "19        716959             0\n",
       "20        725935             0\n",
       "21        736039             0\n",
       "22        748400             0\n",
       "23        753652             0\n",
       "24        695108             0\n",
       "25        695320             0\n",
       "26        662145             0\n",
       "27        688068             0\n",
       "28        662099             0\n",
       "29        723985             0\n",
       "...          ...           ...\n",
       "112362    752805             0\n",
       "112363    717500             0\n",
       "112364    724306             0\n",
       "112365    711416             0\n",
       "112366    748123             0\n",
       "112367    693692             0\n",
       "112368    755025             0\n",
       "112369    736372             0\n",
       "112370    742701             0\n",
       "112371    693666             0\n",
       "112372    756379             0\n",
       "112373    684778             0\n",
       "112374    764397             0\n",
       "112375    755459             0\n",
       "112376    703659             0\n",
       "112377    760921             0\n",
       "112378    670693             0\n",
       "112379    741933             0\n",
       "112380    742851             0\n",
       "112381    699787             0\n",
       "112382    669006             0\n",
       "112383    708464             0\n",
       "112384    762274             0\n",
       "112385    767673             0\n",
       "112386    743207             0\n",
       "112387    755547             0\n",
       "112388    716994             0\n",
       "112389    709352             0\n",
       "112390    699795             0\n",
       "112391    755244             0\n",
       "\n",
       "[112392 rows x 2 columns]"
      ]
     },
     "execution_count": 136,
     "metadata": {},
     "output_type": "execute_result"
    }
   ],
   "source": [
    "sub_df"
   ]
  },
  {
   "cell_type": "code",
   "execution_count": 133,
   "metadata": {},
   "outputs": [],
   "source": [
    "import matplotlib.pyplot as plt"
   ]
  },
  {
   "cell_type": "code",
   "execution_count": 137,
   "metadata": {},
   "outputs": [],
   "source": [
    "def modelfit(alg, dtrain,ytrain,dtest,ytest,test,sub_df, predictors,outcome_var,useTrainCV=True, cv_folds=5, early_stopping_rounds=50):\n",
    "    \n",
    "    if useTrainCV:\n",
    "        xgb_param = alg.get_xgb_params()\n",
    "        xgtrain = xgb.DMatrix(dtrain[predictors].values, label=ytrain.values)\n",
    "        cvresult = xgb.cv(xgb_param, xgtrain, num_boost_round=alg.get_params()['n_estimators'], nfold=cv_folds,\n",
    "            metrics='auc', early_stopping_rounds=early_stopping_rounds,verbose_eval=True,\n",
    "            show_stdv=True)\n",
    "        alg.set_params(n_estimators=cvresult.shape[0])\n",
    "    \n",
    "    #Fit the algorithm on the data\n",
    "    alg.fit(dtrain[predictors], ytrain,eval_metric='auc')\n",
    "        \n",
    "    #Predict training set:\n",
    "    dtrain_predictions = alg.predict(dtest[predictors])\n",
    "    dtrain_predprob = alg.predict_proba(dtest[predictors])[:,1]\n",
    "    \n",
    "    dtrain_predprob1 = alg.predict_proba(test[predictors])[:,1]\n",
    "    sub_df['loan_default']= dtrain_predprob1\n",
    "    sub_df.to_csv('sub1.csv',index=False)    \n",
    "    #Print model report:\n",
    "    print(\"\\nModel Report\")\n",
    "    print(\"Accuracy : %.4g\" % metrics.accuracy_score(ytest.values, dtrain_predictions))\n",
    "    print(\"AUC Score (Train): %f\" % metrics.roc_auc_score(ytest, dtrain_predprob))\n",
    "                    \n",
    "    feat_imp = pd.Series(alg.get_booster().get_fscore()).sort_values(ascending=False)\n",
    "    feat_imp.plot(kind='bar', title='Feature Importances')\n",
    "    plt.ylabel('Feature Importance Score')  \n",
    "  "
   ]
  },
  {
   "cell_type": "code",
   "execution_count": 138,
   "metadata": {},
   "outputs": [
    {
     "name": "stdout",
     "output_type": "stream",
     "text": [
      "[0]\ttrain-auc:0.60176+0.00149064\ttest-auc:0.600698+0.00195408\n",
      "[1]\ttrain-auc:0.611633+0.00112975\ttest-auc:0.609773+0.00177233\n",
      "[2]\ttrain-auc:0.614285+0.00124445\ttest-auc:0.611846+0.00251387\n",
      "[3]\ttrain-auc:0.616669+0.00169748\ttest-auc:0.613874+0.00148193\n",
      "[4]\ttrain-auc:0.617854+0.000663482\ttest-auc:0.614835+0.00117474\n",
      "[5]\ttrain-auc:0.618968+0.000323856\ttest-auc:0.615729+0.00170642\n",
      "[6]\ttrain-auc:0.61972+0.00111253\ttest-auc:0.616925+0.0024417\n",
      "[7]\ttrain-auc:0.620605+0.000904969\ttest-auc:0.617829+0.00206946\n",
      "[8]\ttrain-auc:0.62201+0.00119396\ttest-auc:0.618907+0.00233823\n",
      "[9]\ttrain-auc:0.622918+0.00138954\ttest-auc:0.619543+0.00213243\n",
      "[10]\ttrain-auc:0.624685+0.00112873\ttest-auc:0.621463+0.00178562\n",
      "[11]\ttrain-auc:0.625294+0.00107161\ttest-auc:0.62207+0.00173243\n",
      "[12]\ttrain-auc:0.626195+0.00136308\ttest-auc:0.622717+0.00194653\n",
      "[13]\ttrain-auc:0.627707+0.000856224\ttest-auc:0.62416+0.00151248\n",
      "[14]\ttrain-auc:0.628616+0.000721556\ttest-auc:0.62503+0.00152558\n",
      "[15]\ttrain-auc:0.629697+0.000775266\ttest-auc:0.625908+0.00167917\n",
      "[16]\ttrain-auc:0.630938+0.000939808\ttest-auc:0.626934+0.00122826\n",
      "[17]\ttrain-auc:0.631816+0.000922825\ttest-auc:0.627931+0.00134399\n",
      "[18]\ttrain-auc:0.632444+0.000860446\ttest-auc:0.628283+0.00124064\n",
      "[19]\ttrain-auc:0.633443+0.000775995\ttest-auc:0.629224+0.00115924\n",
      "[20]\ttrain-auc:0.634412+0.000781699\ttest-auc:0.630127+0.0012816\n",
      "[21]\ttrain-auc:0.635391+0.000693205\ttest-auc:0.631041+0.00125067\n",
      "[22]\ttrain-auc:0.635931+0.00082776\ttest-auc:0.631546+0.00107503\n",
      "[23]\ttrain-auc:0.636734+0.000783353\ttest-auc:0.632381+0.00101693\n",
      "[24]\ttrain-auc:0.637644+0.000848911\ttest-auc:0.633286+0.00119994\n",
      "[25]\ttrain-auc:0.638459+0.000815996\ttest-auc:0.633979+0.00125587\n",
      "[26]\ttrain-auc:0.639169+0.000579756\ttest-auc:0.634598+0.00107032\n",
      "[27]\ttrain-auc:0.64015+0.000308629\ttest-auc:0.635471+0.00131731\n",
      "[28]\ttrain-auc:0.640719+0.000497671\ttest-auc:0.635988+0.00136446\n",
      "[29]\ttrain-auc:0.641379+0.000513254\ttest-auc:0.636556+0.0013055\n",
      "[30]\ttrain-auc:0.64199+0.000571073\ttest-auc:0.637097+0.00142464\n",
      "[31]\ttrain-auc:0.642568+0.000526403\ttest-auc:0.637566+0.00148521\n",
      "[32]\ttrain-auc:0.643011+0.000527991\ttest-auc:0.637911+0.00154121\n",
      "[33]\ttrain-auc:0.643578+0.000554245\ttest-auc:0.638355+0.0016784\n",
      "[34]\ttrain-auc:0.644099+0.000505095\ttest-auc:0.638808+0.00166779\n",
      "[35]\ttrain-auc:0.644726+0.000534229\ttest-auc:0.639295+0.00138826\n",
      "[36]\ttrain-auc:0.645242+0.000615033\ttest-auc:0.639743+0.00139605\n",
      "[37]\ttrain-auc:0.645722+0.000594312\ttest-auc:0.640208+0.00139785\n",
      "[38]\ttrain-auc:0.646253+0.000382771\ttest-auc:0.640649+0.00164057\n",
      "[39]\ttrain-auc:0.64664+0.000361522\ttest-auc:0.640941+0.00166221\n",
      "[40]\ttrain-auc:0.646975+0.000424715\ttest-auc:0.641204+0.00152144\n",
      "[41]\ttrain-auc:0.64739+0.000456798\ttest-auc:0.641462+0.0014791\n",
      "[42]\ttrain-auc:0.647752+0.000483896\ttest-auc:0.64181+0.00154044\n",
      "[43]\ttrain-auc:0.6481+0.00050135\ttest-auc:0.642103+0.00146615\n",
      "[44]\ttrain-auc:0.648467+0.000499968\ttest-auc:0.64238+0.00144458\n",
      "[45]\ttrain-auc:0.648825+0.000422394\ttest-auc:0.642637+0.00154559\n",
      "[46]\ttrain-auc:0.649162+0.000430638\ttest-auc:0.642911+0.00155705\n",
      "[47]\ttrain-auc:0.649515+0.000407987\ttest-auc:0.643148+0.00154911\n",
      "[48]\ttrain-auc:0.649958+0.0003778\ttest-auc:0.643469+0.00152531\n",
      "[49]\ttrain-auc:0.65031+0.000223672\ttest-auc:0.643784+0.00171405\n",
      "[50]\ttrain-auc:0.650701+0.000304863\ttest-auc:0.644122+0.00151981\n",
      "[51]\ttrain-auc:0.650984+0.0002789\ttest-auc:0.644344+0.00148262\n",
      "[52]\ttrain-auc:0.651352+0.000408183\ttest-auc:0.644639+0.00142112\n",
      "[53]\ttrain-auc:0.651726+0.000354385\ttest-auc:0.6449+0.00148428\n",
      "[54]\ttrain-auc:0.651991+0.000399742\ttest-auc:0.645048+0.00147362\n",
      "[55]\ttrain-auc:0.652225+0.000429215\ttest-auc:0.645297+0.00143066\n",
      "[56]\ttrain-auc:0.652465+0.000460471\ttest-auc:0.645433+0.00138287\n",
      "[57]\ttrain-auc:0.652739+0.000486144\ttest-auc:0.645654+0.00136852\n",
      "[58]\ttrain-auc:0.653051+0.000478747\ttest-auc:0.64591+0.00132888\n",
      "[59]\ttrain-auc:0.653303+0.000461503\ttest-auc:0.646123+0.00134464\n",
      "[60]\ttrain-auc:0.653601+0.000334673\ttest-auc:0.646399+0.00149825\n",
      "[61]\ttrain-auc:0.65389+0.000352548\ttest-auc:0.646609+0.00149266\n",
      "[62]\ttrain-auc:0.654206+0.00042306\ttest-auc:0.646818+0.00144303\n",
      "[63]\ttrain-auc:0.654458+0.000378018\ttest-auc:0.646975+0.0015323\n",
      "[64]\ttrain-auc:0.654713+0.000406971\ttest-auc:0.64712+0.00149849\n",
      "[65]\ttrain-auc:0.655084+0.000421044\ttest-auc:0.647396+0.00152108\n",
      "[66]\ttrain-auc:0.655319+0.000432842\ttest-auc:0.647531+0.00146596\n",
      "[67]\ttrain-auc:0.655493+0.000424453\ttest-auc:0.647618+0.00142326\n",
      "[68]\ttrain-auc:0.655668+0.000399035\ttest-auc:0.6477+0.00144486\n",
      "[69]\ttrain-auc:0.655872+0.000401959\ttest-auc:0.647838+0.00145696\n",
      "[70]\ttrain-auc:0.656081+0.000373932\ttest-auc:0.648034+0.00150877\n",
      "[71]\ttrain-auc:0.656296+0.000305478\ttest-auc:0.648205+0.00160665\n",
      "[72]\ttrain-auc:0.656522+0.000371466\ttest-auc:0.648365+0.00155049\n",
      "[73]\ttrain-auc:0.656801+0.000389468\ttest-auc:0.648503+0.00155315\n",
      "[74]\ttrain-auc:0.656993+0.000413301\ttest-auc:0.648617+0.00160758\n",
      "[75]\ttrain-auc:0.657244+0.000396797\ttest-auc:0.648792+0.0017327\n",
      "[76]\ttrain-auc:0.657439+0.000431478\ttest-auc:0.648924+0.00171514\n",
      "[77]\ttrain-auc:0.65761+0.000401758\ttest-auc:0.649023+0.00163588\n",
      "[78]\ttrain-auc:0.657843+0.000371064\ttest-auc:0.649173+0.00167628\n",
      "[79]\ttrain-auc:0.657984+0.000376695\ttest-auc:0.649238+0.00170792\n",
      "[80]\ttrain-auc:0.658167+0.000356592\ttest-auc:0.64936+0.0016708\n",
      "[81]\ttrain-auc:0.658425+0.000358954\ttest-auc:0.649546+0.00169724\n",
      "[82]\ttrain-auc:0.658559+0.000363186\ttest-auc:0.649628+0.00169935\n",
      "[83]\ttrain-auc:0.658712+0.000384194\ttest-auc:0.649711+0.00168983\n",
      "[84]\ttrain-auc:0.658854+0.000303565\ttest-auc:0.649778+0.00178272\n",
      "[85]\ttrain-auc:0.658988+0.000290785\ttest-auc:0.649849+0.00175903\n",
      "[86]\ttrain-auc:0.659156+0.00030653\ttest-auc:0.649946+0.00172069\n",
      "[87]\ttrain-auc:0.659328+0.000331592\ttest-auc:0.65005+0.00169997\n",
      "[88]\ttrain-auc:0.659492+0.000350959\ttest-auc:0.65018+0.00166832\n",
      "[89]\ttrain-auc:0.659673+0.000356809\ttest-auc:0.650237+0.0016549\n",
      "[90]\ttrain-auc:0.659842+0.000390838\ttest-auc:0.650328+0.00166947\n",
      "[91]\ttrain-auc:0.659946+0.000387909\ttest-auc:0.650366+0.00170085\n",
      "[92]\ttrain-auc:0.660087+0.000370819\ttest-auc:0.65046+0.0016889\n",
      "[93]\ttrain-auc:0.660246+0.000347184\ttest-auc:0.650573+0.00172709\n",
      "[94]\ttrain-auc:0.660397+0.000381812\ttest-auc:0.650614+0.0017063\n",
      "[95]\ttrain-auc:0.66053+0.000379424\ttest-auc:0.650738+0.00168359\n",
      "[96]\ttrain-auc:0.660688+0.000380377\ttest-auc:0.650865+0.00170976\n",
      "[97]\ttrain-auc:0.660834+0.000397409\ttest-auc:0.650931+0.00171234\n",
      "[98]\ttrain-auc:0.660974+0.00040373\ttest-auc:0.651028+0.00173195\n",
      "[99]\ttrain-auc:0.66108+0.000398479\ttest-auc:0.651065+0.00173083\n"
     ]
    },
    {
     "name": "stderr",
     "output_type": "stream",
     "text": [
      "/home/monster/.conda/envs/tensorflow/lib/python3.6/site-packages/sklearn/preprocessing/label.py:219: DataConversionWarning: A column-vector y was passed when a 1d array was expected. Please change the shape of y to (n_samples, ), for example using ravel().\n",
      "  y = column_or_1d(y, warn=True)\n",
      "/home/monster/.conda/envs/tensorflow/lib/python3.6/site-packages/sklearn/preprocessing/label.py:252: DataConversionWarning: A column-vector y was passed when a 1d array was expected. Please change the shape of y to (n_samples, ), for example using ravel().\n",
      "  y = column_or_1d(y, warn=True)\n"
     ]
    },
    {
     "name": "stdout",
     "output_type": "stream",
     "text": [
      "\n",
      "Model Report\n",
      "Accuracy : 0.7829\n",
      "AUC Score (Train): 0.652232\n"
     ]
    },
    {
     "data": {
      "image/png": "[encoded data removed]",
      "text/plain": [
       "<Figure size 432x288 with 1 Axes>"
      ]
     },
     "metadata": {
      "needs_background": "light"
     },
     "output_type": "display_data"
    }
   ],
   "source": [
    "modelfit(XGBClassifier(), X_train,y_train,X_validation,y_validation,test_df,sub_df,predictors,outcome,useTrainCV=True, cv_folds=5, early_stopping_rounds=50)"
   ]
  },
  {
   "cell_type": "code",
   "execution_count": null,
   "metadata": {},
   "outputs": [],
   "source": [
    "def model_fn(alg, X_train, Y_train, X_test, Y_test, predictor_var, degree,filename,is_poly=True,is_final=True, treemod =True):\n",
    "    \n",
    "    #Kfold cross validation\n",
    "    \n",
    "    #kf = loo.split(X_train_std[predictor_var])\n",
    "    kf = KFold(n_splits=5).split(X_train[predictor_var])\n",
    "    error = []\n",
    "    for train, test in kf:\n",
    "        # Filter training data\n",
    "        train_predictors = (X_train[predictor_var].iloc[train,:])\n",
    "        \n",
    "        # The target we're using to train the algorithm.\n",
    "        train_target = Y_train.iloc[train]\n",
    "        \n",
    "        # Training the algorithm using the predictors and target.\n",
    "        alg.fit(train_predictors, train_target)\n",
    "        y1 = alg.predict(X_train[predictor_var].iloc[test,:])\n",
    "        \n",
    "        #Record error from each cross-validation run\n",
    "        error.append(np.sqrt(metrics.mean_squared_error(Y_train.iloc[test], y1)))\n",
    "     \n",
    "    print (\"Cross-Validation RMSE Score : %f\" % np.mean(error))\n",
    "    \n",
    "    if treemod:\n",
    "        xgb_param = alg.get_xgb_params()\n",
    "        xgtrain = xgb.DMatrix(X_train[predictor_var], label=Y_train.values)\n",
    "        cvresult = xgb.cv(xgb_param, xgtrain, num_boost_round=alg.get_params()['n_estimators'], nfold=5,\n",
    "            metrics='rmse', early_stopping_rounds=50,verbose_eval=True,\n",
    "            show_stdv=True)\n",
    "        print('best n_estimator',cvresult.shape[0])\n",
    "        alg.set_params(n_estimators=cvresult.shape[0])\n",
    "        \n",
    "        feat_imp = pd.Series(alg.booster().get_score()).sort_values(ascending=False)\n",
    "        print(feat_imp.transpose)\n",
    "        feat_imp.plot(kind='bar', title='Feature Importances')\n",
    "        plt.ylabel('Feature Importance Score')\n",
    "\n",
    "    else:\n",
    "        #Fit the algorithm on the data\n",
    "        alg.fit(X_train[predictor_var], Y_train)\n",
    "        \n",
    "    #Predict training set:\n",
    "    dtrain_predictions = alg.predict(X_train[predictor_var])\n",
    "    \n",
    "    dvalid_predictions = alg.predict(X_test[predictor_var])\n",
    "    \n",
    "    if is_final:\n",
    "        #Print model report:\n",
    "        print(\"Writing Final Csv\")\n",
    "        print(\"\\nModel Report\")\n",
    "        print(\"RMSE_Score_(Train): %f\" % np.sqrt(metrics.mean_squared_error(Y_train.values, dtrain_predictions)))\n",
    "        #print(\"R2_Score_(Train): %f\" % alg.score(X_train[predictor_var],Y_train))\n",
    "        print(\"R2_Score_(Train): %f\" % metrics.r2_score(Y_train,dtrain_predictions))\n",
    "        \n",
    "        df_final = pd.DataFrame()\n",
    "        df_final['id'] = final_test['id']\n",
    "        df_final['kda_ratio'] = dvalid_predictions\n",
    "        #df_final['kda_ratio'] = df_final['kda_ratio'].astype('str')\n",
    "        df_final.to_csv(filename, index=False)\n",
    "    \n",
    "    else:\n",
    "        #Print model report:\n",
    "        print(\"\\nModel Report\")\n",
    "        print(\"RMSE_Score_(Train): %f\" % np.sqrt(metrics.mean_squared_error(Y_train.values, dtrain_predictions)))\n",
    "        #print(\"R2_Score_(Train): %f\" % alg.score(X_train[predictor_var],Y_train))\n",
    "        print(\"R2_Score_(Train): %f\" % metrics.r2_score(Y_train,dtrain_predictions))\n",
    "    \n",
    "        print(\"RMSE Score (Test): %f\" % np.sqrt(metrics.mean_squared_error(Y_test.values, dvalid_predictions)))\n",
    "        #print(\"R2 Score (Test): %f\" % alg.score(X_test[predictor_var],Y_test))\n",
    "        print(\"R2_Score_(Test): %f\" % metrics.r2_score(Y_test,dvalid_predictions))\n",
    "        \n",
    "        "
   ]
  },
  {
   "cell_type": "code",
   "execution_count": null,
   "metadata": {},
   "outputs": [],
   "source": [
    "from sklearn.model_selection import cross_val_score\n",
    "from sklearn.svm import SVR\n",
    "model2 = SVR(kernel = 'rbf')\n",
    "\n",
    "from sklearn.metrics import mean_squared_error\n",
    "from sklearn.metrics import r2_score\n",
    "\n",
    "from sklearn.tree import DecisionTreeRegressor\n",
    "model3 = DecisionTreeRegressor(random_state = 50)\n",
    "\n",
    "from sklearn.ensemble import RandomForestRegressor\n",
    "model4 = RandomForestRegressor(n_estimators = 270, max_depth=5,\n",
    "                               min_samples_split=30,min_samples_leaf=12,max_leaf_nodes=30,min_weight_fraction_leaf=0.1,random_state = 50)\n",
    "\n",
    "from xgboost import XGBRegressor\n",
    "model5 = XGBRegressor()\n",
    "\n",
    "from sklearn.neighbors import KNeighborsRegressor\n",
    "model6 = KNeighborsRegressor(n_neighbors =37)\n",
    "\n",
    "from sklearn.linear_model import Ridge, Lasso ,ElasticNet\n",
    "\n",
    "model7 = Ridge()\n",
    "\n",
    "model8 = Lasso(max_iter=1000,alpha=2000)\n",
    "\n",
    "model9 = RandomForestRegressor()\n",
    "\n",
    "model10 = ElasticNet()\n",
    "\n",
    "from vecstack import stacking\n",
    "\n"
   ]
  },
  {
   "cell_type": "code",
   "execution_count": null,
   "metadata": {},
   "outputs": [],
   "source": [
    "model_fn(model4,final_train[predictor_var],final_train[outcome_var],\n",
    "         final_test[predictor_var],final_test[outcome_var],predictor_var,\n",
    "         3,'alg2.csv', False, True, False)"
   ]
  },
  {
   "cell_type": "code",
   "execution_count": null,
   "metadata": {},
   "outputs": [],
   "source": []
  },
  {
   "cell_type": "code",
   "execution_count": null,
   "metadata": {},
   "outputs": [],
   "source": []
  },
  {
   "cell_type": "code",
   "execution_count": null,
   "metadata": {},
   "outputs": [],
   "source": []
  },
  {
   "cell_type": "code",
   "execution_count": null,
   "metadata": {},
   "outputs": [],
   "source": []
  },
  {
   "cell_type": "code",
   "execution_count": null,
   "metadata": {},
   "outputs": [],
   "source": []
  },
  {
   "cell_type": "code",
   "execution_count": null,
   "metadata": {},
   "outputs": [],
   "source": []
  }
 ],
 "metadata": {
  "kernelspec": {
   "display_name": "tensorflow",
   "language": "python",
   "name": "tensorflow"
  },
  "language_info": {
   "codemirror_mode": {
    "name": "ipython",
    "version": 3
   },
   "file_extension": ".py",
   "mimetype": "text/x-python",
   "name": "python",
   "nbconvert_exporter": "python",
   "pygments_lexer": "ipython3",
   "version": "3.6.8"
  }
 },
 "nbformat": 4,
 "nbformat_minor": 2
}
