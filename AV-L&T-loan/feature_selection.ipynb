{
 "cells": [
  {
   "cell_type": "code",
   "execution_count": 1,
   "metadata": {},
   "outputs": [],
   "source": [
    "import pandas as pd\n",
    "import numpy as np\n",
    "import matplotlib.pyplot as plt"
   ]
  },
  {
   "cell_type": "code",
   "execution_count": null,
   "metadata": {},
   "outputs": [],
   "source": [
    "from feature_selector import FeatureSelector"
   ]
  },
  {
   "cell_type": "code",
   "execution_count": 2,
   "metadata": {},
   "outputs": [],
   "source": [
    "train_df = pd.read_csv('/home/monster/Downloads/kaggle/AV-L&T-loan/train.csv')\n",
    "test_df = pd.read_csv('/home/monster/Downloads/kaggle/AV-L&T-loan/test.csv')\n",
    "sub_df = pd.read_csv('/home/monster/Downloads/kaggle/AV-L&T-loan/sample_submission.csv')"
   ]
  },
  {
   "cell_type": "code",
   "execution_count": 3,
   "metadata": {},
   "outputs": [
    {
     "data": {
      "text/plain": [
       "((233154, 41), (112392, 40))"
      ]
     },
     "execution_count": 3,
     "metadata": {},
     "output_type": "execute_result"
    }
   ],
   "source": [
    "train_df.shape,test_df.shape"
   ]
  },
  {
   "cell_type": "code",
   "execution_count": 4,
   "metadata": {},
   "outputs": [],
   "source": [
    "train_df['is_train'] = ''\n",
    "test_df['is_train'] = ''\n",
    "data = pd.DataFrame()\n",
    "train_df.loc[:,'is_train'] = 1\n",
    "test_df.loc[:,'is_train'] = 0\n",
    "data = data.append(train_df,sort=False).append(test_df,sort=False)"
   ]
  },
  {
   "cell_type": "code",
   "execution_count": 5,
   "metadata": {},
   "outputs": [],
   "source": [
    "data.reset_index(inplace=True)"
   ]
  },
  {
   "cell_type": "code",
   "execution_count": 6,
   "metadata": {},
   "outputs": [],
   "source": [
    "#Treat missing values\n",
    "#86 % values are no so it is safe to impute NO\n",
    "data['Employment.Type'].fillna('Self employed',inplace=True)"
   ]
  },
  {
   "cell_type": "code",
   "execution_count": null,
   "metadata": {},
   "outputs": [],
   "source": [
    "data.apply(lambda x: sum(x.isnull()),axis=0)"
   ]
  },
  {
   "cell_type": "code",
   "execution_count": 7,
   "metadata": {},
   "outputs": [
    {
     "data": {
      "text/plain": [
       "((345546, 43), (233154, 42), (112392, 41))"
      ]
     },
     "execution_count": 7,
     "metadata": {},
     "output_type": "execute_result"
    }
   ],
   "source": [
    "data.shape,train_df.shape,test_df.shape"
   ]
  },
  {
   "cell_type": "code",
   "execution_count": 8,
   "metadata": {},
   "outputs": [],
   "source": [
    "#create mean and st dev features- leakage features\n",
    "ft_name = ['loan_default']\n",
    "var = ['branch_id','State_ID']\n",
    "fntouse = list([np.mean,np.sum])\n",
    "\n",
    "# temp2 = data.pivot_table(values='ltv',index=['Current_pincode_ID'],aggfunc=np.std)\n",
    "# # temp2.plot(kind='bar')\n",
    "# temp2.reset_index(inplace=True)\n",
    "# temp2.columns = ['Current_pincode_ID', 'ltv_stdev']\n",
    "for ftname in ft_name:\n",
    "    for fn2use in fntouse:\n",
    "        for var_name in var:\n",
    "            temp3 = train_df.pivot_table(values=ftname,index=[var_name],aggfunc=fn2use)\n",
    "            # temp2.plot(kind='bar')\n",
    "            temp3.reset_index(inplace=True)\n",
    "            temp3.columns = [var_name, var_name+'_'+ftname+'_'+str(fn2use).split(' ')[1]]\n",
    "            data = data.merge(temp3,on=var_name, how = 'left')\n",
    "    #         data[var_name+'_stdev'] = data[ftname]-data[var_name+'_'+ftname+'_mean']\n",
    "\n",
    "            # df = pd.concat([temp2,temp3],axis=1)"
   ]
  },
  {
   "cell_type": "code",
   "execution_count": null,
   "metadata": {},
   "outputs": [],
   "source": [
    "data.apply(lambda x: sum(x.isnull()),axis=0)"
   ]
  },
  {
   "cell_type": "code",
   "execution_count": null,
   "metadata": {},
   "outputs": [],
   "source": [
    "data.columns"
   ]
  },
  {
   "cell_type": "code",
   "execution_count": null,
   "metadata": {},
   "outputs": [],
   "source": []
  },
  {
   "cell_type": "code",
   "execution_count": null,
   "metadata": {},
   "outputs": [],
   "source": []
  },
  {
   "cell_type": "code",
   "execution_count": 9,
   "metadata": {},
   "outputs": [],
   "source": [
    "data['CREDIT.HISTORY.LENGTH.YEARS'] = data['CREDIT.HISTORY.LENGTH'].map(lambda x : int(x.split(' ')[0][:-3]))"
   ]
  },
  {
   "cell_type": "code",
   "execution_count": 10,
   "metadata": {},
   "outputs": [],
   "source": [
    "data['CREDIT.HISTORY.LENGTH.MONTHS'] = data['CREDIT.HISTORY.LENGTH'].map(lambda x : int(x.split(' ')[1][:-3]))"
   ]
  },
  {
   "cell_type": "code",
   "execution_count": 11,
   "metadata": {},
   "outputs": [],
   "source": [
    "data['CREDIT.HISTORY.LENGTH.TOTMONS'] = data['CREDIT.HISTORY.LENGTH.MONTHS'] + np.dot(data['CREDIT.HISTORY.LENGTH.YEARS'],12)"
   ]
  },
  {
   "cell_type": "code",
   "execution_count": null,
   "metadata": {},
   "outputs": [],
   "source": []
  },
  {
   "cell_type": "code",
   "execution_count": 12,
   "metadata": {},
   "outputs": [],
   "source": [
    "data['AVERAGE.ACCT.AGE.YEARS'] = data['AVERAGE.ACCT.AGE'].map(lambda x : int(x.split(' ')[0][:-3]))\n",
    "\n",
    "data['AVERAGE.ACCT.AGE.MONTHS'] = data['AVERAGE.ACCT.AGE'].map(lambda x : int(x.split(' ')[1][:-3]))\n",
    "\n",
    "data['AVERAGE.ACCT.AGE.TOTMONS'] = data['AVERAGE.ACCT.AGE.MONTHS'] + np.dot(data['AVERAGE.ACCT.AGE.YEARS'],12)"
   ]
  },
  {
   "cell_type": "code",
   "execution_count": null,
   "metadata": {},
   "outputs": [],
   "source": [
    "data['Date.of.Birth'][0]"
   ]
  },
  {
   "cell_type": "code",
   "execution_count": 13,
   "metadata": {},
   "outputs": [],
   "source": [
    "data['Date.of.Birth.YEAR'] = data['Date.of.Birth'].map(lambda x : int(x.split('-')[2]))"
   ]
  },
  {
   "cell_type": "code",
   "execution_count": 14,
   "metadata": {},
   "outputs": [
    {
     "data": {
      "text/plain": [
       "874     16-07-00\n",
       "1300    05-03-00\n",
       "1864    01-01-00\n",
       "1872    18-08-00\n",
       "1874    01-01-00\n",
       "Name: Date.of.Birth, dtype: object"
      ]
     },
     "execution_count": 14,
     "metadata": {},
     "output_type": "execute_result"
    }
   ],
   "source": [
    "data.loc[data['Date.of.Birth.YEAR']==0,'Date.of.Birth'].head()"
   ]
  },
  {
   "cell_type": "code",
   "execution_count": 15,
   "metadata": {},
   "outputs": [],
   "source": [
    "data['Date.of.Birth.YEAR.conv'] = ''"
   ]
  },
  {
   "cell_type": "code",
   "execution_count": 16,
   "metadata": {},
   "outputs": [],
   "source": [
    "data.loc[data['Date.of.Birth.YEAR']==0,'Date.of.Birth.YEAR.conv'] = 2000"
   ]
  },
  {
   "cell_type": "code",
   "execution_count": 17,
   "metadata": {},
   "outputs": [],
   "source": [
    "data.loc[data['Date.of.Birth.YEAR']>0,'Date.of.Birth.YEAR.conv'] = data.loc[data['Date.of.Birth.YEAR']>0,'Date.of.Birth.YEAR']+1900"
   ]
  },
  {
   "cell_type": "code",
   "execution_count": 18,
   "metadata": {},
   "outputs": [],
   "source": [
    "data['Date.of.Birth.AGE'] = ''\n",
    "\n",
    "data['Date.of.Birth.AGE'] = 2019 - data.loc[:,'Date.of.Birth.YEAR.conv']"
   ]
  },
  {
   "cell_type": "code",
   "execution_count": null,
   "metadata": {},
   "outputs": [],
   "source": [
    "#st dev and mean of ltv feature"
   ]
  },
  {
   "cell_type": "code",
   "execution_count": null,
   "metadata": {},
   "outputs": [],
   "source": []
  },
  {
   "cell_type": "code",
   "execution_count": null,
   "metadata": {},
   "outputs": [],
   "source": [
    "temp2 = data.pivot_table(values='loan_default',index=['branch_id'],aggfunc=np.mean)\n",
    "# print('Frequency Table for Credit History:') \n",
    "# print(temp2)\n",
    "\n",
    "# fig = plt.figure(figsize=(8,4))\n",
    "# ax1 = fig.add_subplot(121)\n",
    "# ax1.set_xlabel('Credit_History')\n",
    "# ax1.set_ylabel('Count of Applicants')\n",
    "# ax1.set_title(\"Applicants by Credit_History\")\n",
    "temp2.plot(kind='bar')\n",
    "\n"
   ]
  },
  {
   "cell_type": "code",
   "execution_count": 19,
   "metadata": {},
   "outputs": [],
   "source": [
    "#create mean and st dev features\n",
    "\n",
    "\n",
    "ft_name = ['disbursed_amount','asset_cost','ltv','PERFORM_CNS.SCORE','PRIMARY.INSTAL.AMT']\n",
    "\n",
    "\n",
    "#All 208 features - aggregated\n",
    "\n",
    "# ft_name = ['disbursed_amount','asset_cost','ltv','PERFORM_CNS.SCORE','PRIMARY.INSTAL.AMT',\n",
    "#            'PRI.NO.OF.ACCTS', 'PRI.ACTIVE.ACCTS',\n",
    "#        'PRI.OVERDUE.ACCTS', 'PRI.CURRENT.BALANCE', 'PRI.SANCTIONED.AMOUNT',\n",
    "#        'PRI.DISBURSED.AMOUNT', 'SEC.NO.OF.ACCTS', 'SEC.ACTIVE.ACCTS',\n",
    "#        'SEC.OVERDUE.ACCTS', 'SEC.CURRENT.BALANCE', 'SEC.SANCTIONED.AMOUNT',\n",
    "#        'SEC.DISBURSED.AMOUNT', 'SEC.INSTAL.AMT',\n",
    "#        'NEW.ACCTS.IN.LAST.SIX.MONTHS', 'DELINQUENT.ACCTS.IN.LAST.SIX.MONTHS',]\n",
    "\n",
    "\n",
    "    \n",
    "var = ['Current_pincode_ID','branch_id','supplier_id','manufacturer_id','State_ID','Employee_code_ID']\n",
    "# temp2 = data.pivot_table(values='ltv',index=['Current_pincode_ID'],aggfunc=np.std)\n",
    "# # temp2.plot(kind='bar')\n",
    "# temp2.reset_index(inplace=True)\n",
    "# temp2.columns = ['Current_pincode_ID', 'ltv_stdev']\n",
    "for ftname in ft_name:\n",
    "    for var_name in var:\n",
    "        temp3 = data.pivot_table(values=ftname,index=[var_name],aggfunc=np.mean)\n",
    "        # temp2.plot(kind='bar')\n",
    "        temp3.reset_index(inplace=True)\n",
    "        temp3.columns = [var_name, var_name+'_'+ftname+'_mean']\n",
    "        data = data.merge(temp3,on=var_name, how = 'left')\n",
    "        data[var_name+'_stdev'] = data[ftname]-data[var_name+'_'+ftname+'_mean']\n",
    "\n",
    "        # df = pd.concat([temp2,temp3],axis=1)"
   ]
  },
  {
   "cell_type": "code",
   "execution_count": null,
   "metadata": {},
   "outputs": [],
   "source": [
    "# data = data.merge(temp3,on='Current_pincode_ID', how = 'left')"
   ]
  },
  {
   "cell_type": "code",
   "execution_count": null,
   "metadata": {},
   "outputs": [],
   "source": [
    "# data['ltv_stdev'] = data['ltv']-data['ltv_mean']"
   ]
  },
  {
   "cell_type": "code",
   "execution_count": null,
   "metadata": {},
   "outputs": [],
   "source": []
  },
  {
   "cell_type": "code",
   "execution_count": null,
   "metadata": {},
   "outputs": [],
   "source": []
  },
  {
   "cell_type": "code",
   "execution_count": null,
   "metadata": {},
   "outputs": [],
   "source": []
  },
  {
   "cell_type": "code",
   "execution_count": 20,
   "metadata": {},
   "outputs": [],
   "source": [
    "data['PERFORM_CNS.SCORE.DESCRIPTION'] = data['PERFORM_CNS.SCORE.DESCRIPTION'].replace(' ', '_', regex=True)"
   ]
  },
  {
   "cell_type": "code",
   "execution_count": 21,
   "metadata": {},
   "outputs": [],
   "source": [
    "#treat categorical variables\n",
    "from sklearn.preprocessing import OneHotEncoder\n",
    "\n",
    "d = pd.DataFrame()\n",
    "\n",
    "var_mod = ['Employment.Type','PERFORM_CNS.SCORE.DESCRIPTION']\n",
    "\n",
    "x = pd.get_dummies(data[var_mod])\n",
    "\n",
    "data  = data.drop(var_mod,axis=1)\n",
    "data = pd.concat([data,x], axis=1)\n",
    "    \n",
    "# for i in var_mod:\n",
    "#     print(i)\n",
    "# #     d[str(i)] \n",
    "#     dd = le.fit_transform(data.loc[:,i]).toarray()\n",
    "#     print(dd.shape)\n",
    "# d.dtypes\n"
   ]
  },
  {
   "cell_type": "code",
   "execution_count": null,
   "metadata": {},
   "outputs": [],
   "source": [
    "data.shape"
   ]
  },
  {
   "cell_type": "code",
   "execution_count": null,
   "metadata": {},
   "outputs": [],
   "source": [
    "data['ltv'].hist(bins=50)\n",
    "plt.show()"
   ]
  },
  {
   "cell_type": "code",
   "execution_count": null,
   "metadata": {},
   "outputs": [],
   "source": [
    "(data['ltv']**2).hist(bins=50)\n",
    "plt.show()"
   ]
  },
  {
   "cell_type": "code",
   "execution_count": null,
   "metadata": {},
   "outputs": [],
   "source": [
    "(data['ltv']**1/3).hist(bins=50)\n",
    "plt.show()"
   ]
  },
  {
   "cell_type": "code",
   "execution_count": 22,
   "metadata": {},
   "outputs": [],
   "source": [
    "data['log_disbursed_amount'] = np.log(data['disbursed_amount'])\n",
    "data['log_asset_cost'] = np.log(data['asset_cost'])"
   ]
  },
  {
   "cell_type": "code",
   "execution_count": 23,
   "metadata": {},
   "outputs": [],
   "source": [
    "data['ltv_squared'] = data['ltv']**2\n",
    "data['log_ltv'] = np.log(data['ltv'])"
   ]
  },
  {
   "cell_type": "code",
   "execution_count": null,
   "metadata": {},
   "outputs": [],
   "source": []
  },
  {
   "cell_type": "code",
   "execution_count": 24,
   "metadata": {},
   "outputs": [],
   "source": [
    "data['DisbursalDate_month'] = data['DisbursalDate'].map(lambda x : int(x.split('-')[1]))\n",
    "data['DisbursalDate_dayofmonth'] = data['DisbursalDate'].map(lambda x : int(x.split('-')[0]))"
   ]
  },
  {
   "cell_type": "code",
   "execution_count": null,
   "metadata": {},
   "outputs": [],
   "source": []
  },
  {
   "cell_type": "code",
   "execution_count": null,
   "metadata": {},
   "outputs": [],
   "source": [
    "type(data['AVERAGE.ACCT.AGE'][0])"
   ]
  },
  {
   "cell_type": "code",
   "execution_count": null,
   "metadata": {},
   "outputs": [],
   "source": [
    "type(data['CREDIT.HISTORY.LENGTH'][0])"
   ]
  },
  {
   "cell_type": "code",
   "execution_count": 25,
   "metadata": {},
   "outputs": [],
   "source": [
    "train_df = data.loc[data['is_train']==1,:]\n",
    "train_df = train_df.drop(['is_train'],axis=1)"
   ]
  },
  {
   "cell_type": "code",
   "execution_count": 26,
   "metadata": {},
   "outputs": [],
   "source": [
    "test_df = data.loc[data['is_train']==0,:]\n",
    "test_df = test_df.drop(['is_train','loan_default'],axis=1)"
   ]
  },
  {
   "cell_type": "code",
   "execution_count": null,
   "metadata": {},
   "outputs": [],
   "source": [
    "train_df.apply(lambda x: sum(x.isnull()),axis=0)"
   ]
  },
  {
   "cell_type": "code",
   "execution_count": null,
   "metadata": {},
   "outputs": [],
   "source": [
    "test_df.apply(lambda x: sum(x.isnull()),axis=0)"
   ]
  },
  {
   "cell_type": "code",
   "execution_count": null,
   "metadata": {},
   "outputs": [],
   "source": [
    "train_df.shape,test_df.shape"
   ]
  },
  {
   "cell_type": "code",
   "execution_count": null,
   "metadata": {},
   "outputs": [],
   "source": [
    "list(train_df.columns)"
   ]
  },
  {
   "cell_type": "code",
   "execution_count": 96,
   "metadata": {},
   "outputs": [],
   "source": [
    "predictors = [\n",
    "#  'disbursed_amount',\n",
    " 'asset_cost',\n",
    "#  'ltv',\n",
    " 'branch_id',\n",
    " 'supplier_id',\n",
    " 'manufacturer_id',\n",
    " 'Current_pincode_ID',\n",
    " 'State_ID',\n",
    " 'Employee_code_ID',\n",
    "#  'MobileNo_Avl_Flag',\n",
    " 'Aadhar_flag',\n",
    " 'PAN_flag',\n",
    " 'VoterID_flag',\n",
    " 'Driving_flag',\n",
    " 'Passport_flag',\n",
    " 'PERFORM_CNS.SCORE',\n",
    " 'PRI.NO.OF.ACCTS',\n",
    " 'PRI.ACTIVE.ACCTS',\n",
    " 'PRI.OVERDUE.ACCTS',\n",
    " 'PRI.CURRENT.BALANCE',\n",
    " 'PRI.SANCTIONED.AMOUNT',\n",
    " 'PRI.DISBURSED.AMOUNT',\n",
    " 'SEC.NO.OF.ACCTS',\n",
    " 'SEC.ACTIVE.ACCTS',\n",
    " 'SEC.OVERDUE.ACCTS',\n",
    " 'SEC.CURRENT.BALANCE',\n",
    " 'SEC.SANCTIONED.AMOUNT',\n",
    " 'SEC.DISBURSED.AMOUNT',\n",
    " 'PRIMARY.INSTAL.AMT',\n",
    " 'SEC.INSTAL.AMT',\n",
    " 'NEW.ACCTS.IN.LAST.SIX.MONTHS',\n",
    " 'DELINQUENT.ACCTS.IN.LAST.SIX.MONTHS',\n",
    " 'NO.OF_INQUIRIES',\n",
    " 'branch_id_loan_default_mean',\n",
    " 'State_ID_loan_default_mean',\n",
    " 'branch_id_loan_default_sum',\n",
    " 'State_ID_loan_default_sum',\n",
    " 'CREDIT.HISTORY.LENGTH.YEARS',\n",
    " 'CREDIT.HISTORY.LENGTH.MONTHS',\n",
    " 'CREDIT.HISTORY.LENGTH.TOTMONS',\n",
    " 'AVERAGE.ACCT.AGE.YEARS',\n",
    " 'AVERAGE.ACCT.AGE.MONTHS',\n",
    " 'AVERAGE.ACCT.AGE.TOTMONS',\n",
    " 'Date.of.Birth.YEAR',\n",
    " 'Date.of.Birth.YEAR.conv',\n",
    " 'Date.of.Birth.AGE',\n",
    " 'Current_pincode_ID_disbursed_amount_mean',\n",
    " 'Current_pincode_ID_stdev',\n",
    " 'branch_id_disbursed_amount_mean',\n",
    " 'branch_id_stdev',\n",
    " 'supplier_id_disbursed_amount_mean',\n",
    " 'supplier_id_stdev',\n",
    " 'manufacturer_id_disbursed_amount_mean',\n",
    " 'manufacturer_id_stdev',\n",
    " 'State_ID_disbursed_amount_mean',\n",
    " 'State_ID_stdev',\n",
    " 'Employee_code_ID_disbursed_amount_mean',\n",
    " 'Employee_code_ID_stdev',\n",
    " 'Current_pincode_ID_asset_cost_mean',\n",
    " 'branch_id_asset_cost_mean',\n",
    " 'supplier_id_asset_cost_mean',\n",
    " 'manufacturer_id_asset_cost_mean',\n",
    " 'State_ID_asset_cost_mean',\n",
    " 'Employee_code_ID_asset_cost_mean',\n",
    " 'Current_pincode_ID_ltv_mean',\n",
    " 'branch_id_ltv_mean',\n",
    " 'supplier_id_ltv_mean',\n",
    " 'manufacturer_id_ltv_mean',\n",
    " 'State_ID_ltv_mean',\n",
    " 'Employee_code_ID_ltv_mean',\n",
    " 'Current_pincode_ID_PERFORM_CNS.SCORE_mean',\n",
    " 'branch_id_PERFORM_CNS.SCORE_mean',\n",
    " 'supplier_id_PERFORM_CNS.SCORE_mean',\n",
    " 'manufacturer_id_PERFORM_CNS.SCORE_mean',\n",
    " 'State_ID_PERFORM_CNS.SCORE_mean',\n",
    " 'Employee_code_ID_PERFORM_CNS.SCORE_mean',\n",
    " 'Current_pincode_ID_PRIMARY.INSTAL.AMT_mean',\n",
    " 'branch_id_PRIMARY.INSTAL.AMT_mean',\n",
    " 'supplier_id_PRIMARY.INSTAL.AMT_mean',\n",
    " 'manufacturer_id_PRIMARY.INSTAL.AMT_mean',\n",
    " 'State_ID_PRIMARY.INSTAL.AMT_mean',\n",
    " 'Employee_code_ID_PRIMARY.INSTAL.AMT_mean',\n",
    " 'Employment.Type_Salaried',\n",
    " 'Employment.Type_Self employed',\n",
    " 'PERFORM_CNS.SCORE.DESCRIPTION_A-Very_Low_Risk',\n",
    " 'PERFORM_CNS.SCORE.DESCRIPTION_B-Very_Low_Risk',\n",
    " 'PERFORM_CNS.SCORE.DESCRIPTION_C-Very_Low_Risk',\n",
    " 'PERFORM_CNS.SCORE.DESCRIPTION_D-Very_Low_Risk',\n",
    " 'PERFORM_CNS.SCORE.DESCRIPTION_E-Low_Risk',\n",
    " 'PERFORM_CNS.SCORE.DESCRIPTION_F-Low_Risk',\n",
    " 'PERFORM_CNS.SCORE.DESCRIPTION_G-Low_Risk',\n",
    " 'PERFORM_CNS.SCORE.DESCRIPTION_H-Medium_Risk',\n",
    " 'PERFORM_CNS.SCORE.DESCRIPTION_I-Medium_Risk',\n",
    " 'PERFORM_CNS.SCORE.DESCRIPTION_J-High_Risk',\n",
    " 'PERFORM_CNS.SCORE.DESCRIPTION_K-High_Risk',\n",
    " 'PERFORM_CNS.SCORE.DESCRIPTION_L-Very_High_Risk',\n",
    " 'PERFORM_CNS.SCORE.DESCRIPTION_M-Very_High_Risk',\n",
    " 'PERFORM_CNS.SCORE.DESCRIPTION_No_Bureau_History_Available',\n",
    "#  'PERFORM_CNS.SCORE.DESCRIPTION_Not_Scored:_More_than_50_active_Accounts_found',\n",
    " 'PERFORM_CNS.SCORE.DESCRIPTION_Not_Scored:_No_Activity_seen_on_the_customer_(Inactive)',\n",
    " 'PERFORM_CNS.SCORE.DESCRIPTION_Not_Scored:_No_Updates_available_in_last_36_months',\n",
    " 'PERFORM_CNS.SCORE.DESCRIPTION_Not_Scored:_Not_Enough_Info_available_on_the_customer',\n",
    " 'PERFORM_CNS.SCORE.DESCRIPTION_Not_Scored:_Only_a_Guarantor',\n",
    " 'PERFORM_CNS.SCORE.DESCRIPTION_Not_Scored:_Sufficient_History_Not_Available',\n",
    " 'log_disbursed_amount',\n",
    "#  'log_asset_cost',\n",
    "#  'ltv_squared',\n",
    " 'log_ltv',\n",
    " 'DisbursalDate_month',\n",
    " 'DisbursalDate_dayofmonth']"
   ]
  },
  {
   "cell_type": "code",
   "execution_count": 28,
   "metadata": {},
   "outputs": [],
   "source": [
    "\n",
    "##Single best model predictors\n",
    "\n",
    "\n",
    "\n",
    "# predictors = ['disbursed_amount', 'asset_cost', 'ltv',\n",
    "#        'branch_id', 'supplier_id', 'manufacturer_id', 'Current_pincode_ID',\n",
    "#        'State_ID', 'Employee_code_ID',\n",
    "#        'MobileNo_Avl_Flag', 'Aadhar_flag', 'PAN_flag', 'VoterID_flag',\n",
    "#        'Driving_flag', 'Passport_flag', 'PERFORM_CNS.SCORE', 'PRI.NO.OF.ACCTS',\n",
    "#        'PRI.ACTIVE.ACCTS', 'PRI.OVERDUE.ACCTS', 'PRI.CURRENT.BALANCE',\n",
    "#        'PRI.SANCTIONED.AMOUNT', 'PRI.DISBURSED.AMOUNT', 'SEC.NO.OF.ACCTS',\n",
    "#        'SEC.ACTIVE.ACCTS', 'SEC.OVERDUE.ACCTS', 'SEC.CURRENT.BALANCE',\n",
    "#        'SEC.SANCTIONED.AMOUNT', 'SEC.DISBURSED.AMOUNT', 'PRIMARY.INSTAL.AMT',\n",
    "#        'SEC.INSTAL.AMT', 'NEW.ACCTS.IN.LAST.SIX.MONTHS',\n",
    "#        'DELINQUENT.ACCTS.IN.LAST.SIX.MONTHS', 'NO.OF_INQUIRIES',\n",
    "#        'CREDIT.HISTORY.LENGTH.YEARS', 'CREDIT.HISTORY.LENGTH.MONTHS',\n",
    "#        'CREDIT.HISTORY.LENGTH.TOTMONS', 'AVERAGE.ACCT.AGE.YEARS',\n",
    "#        'AVERAGE.ACCT.AGE.MONTHS', 'AVERAGE.ACCT.AGE.TOTMONS',\n",
    "#        'Date.of.Birth.YEAR', 'Date.of.Birth.YEAR.conv', 'Date.of.Birth.AGE',\n",
    "#        'Employment.Type_Salaried', 'Employment.Type_Self employed',\n",
    "#        'PERFORM_CNS.SCORE.DESCRIPTION_A-Very_Low_Risk',\n",
    "#        'PERFORM_CNS.SCORE.DESCRIPTION_B-Very_Low_Risk',\n",
    "#        'PERFORM_CNS.SCORE.DESCRIPTION_C-Very_Low_Risk',\n",
    "#        'PERFORM_CNS.SCORE.DESCRIPTION_D-Very_Low_Risk',\n",
    "#        'PERFORM_CNS.SCORE.DESCRIPTION_E-Low_Risk',\n",
    "#        'PERFORM_CNS.SCORE.DESCRIPTION_F-Low_Risk',\n",
    "#        'PERFORM_CNS.SCORE.DESCRIPTION_G-Low_Risk',\n",
    "#        'PERFORM_CNS.SCORE.DESCRIPTION_H-Medium_Risk',\n",
    "#        'PERFORM_CNS.SCORE.DESCRIPTION_I-Medium_Risk',\n",
    "#        'PERFORM_CNS.SCORE.DESCRIPTION_J-High_Risk',\n",
    "#        'PERFORM_CNS.SCORE.DESCRIPTION_K-High_Risk',\n",
    "#        'PERFORM_CNS.SCORE.DESCRIPTION_L-Very_High_Risk',\n",
    "#        'PERFORM_CNS.SCORE.DESCRIPTION_M-Very_High_Risk',\n",
    "#        'PERFORM_CNS.SCORE.DESCRIPTION_No_Bureau_History_Available',\n",
    "#        'PERFORM_CNS.SCORE.DESCRIPTION_Not_Scored:_More_than_50_active_Accounts_found',\n",
    "#        'PERFORM_CNS.SCORE.DESCRIPTION_Not_Scored:_No_Activity_seen_on_the_customer_(Inactive)',\n",
    "#        'PERFORM_CNS.SCORE.DESCRIPTION_Not_Scored:_No_Updates_available_in_last_36_months',\n",
    "#        'PERFORM_CNS.SCORE.DESCRIPTION_Not_Scored:_Not_Enough_Info_available_on_the_customer',\n",
    "#        'PERFORM_CNS.SCORE.DESCRIPTION_Not_Scored:_Only_a_Guarantor',\n",
    "#        'PERFORM_CNS.SCORE.DESCRIPTION_Not_Scored:_Sufficient_History_Not_Available',\n",
    "#        'log_disbursed_amount', 'log_asset_cost', 'DisbursalDate_month',\n",
    "#        'DisbursalDate_dayofmonth','Current_pincode_ID_disbursed_amount_mean',\n",
    "#  'Current_pincode_ID_stdev',\n",
    "#  'branch_id_disbursed_amount_mean',\n",
    "#  'branch_id_stdev',\n",
    "#  'supplier_id_disbursed_amount_mean',\n",
    "#  'supplier_id_stdev',\n",
    "#  'manufacturer_id_disbursed_amount_mean',\n",
    "#  'manufacturer_id_stdev',\n",
    "#  'State_ID_disbursed_amount_mean',\n",
    "#  'State_ID_stdev',\n",
    "#  'Employee_code_ID_disbursed_amount_mean',\n",
    "#  'Employee_code_ID_stdev',\n",
    "#  'Current_pincode_ID_asset_cost_mean',\n",
    "#  'branch_id_asset_cost_mean',\n",
    "#  'supplier_id_asset_cost_mean',\n",
    "#  'manufacturer_id_asset_cost_mean',\n",
    "#  'State_ID_asset_cost_mean',\n",
    "#  'Employee_code_ID_asset_cost_mean',\n",
    "#  'Current_pincode_ID_ltv_mean',\n",
    "#  'branch_id_ltv_mean',\n",
    "#  'supplier_id_ltv_mean',\n",
    "#  'manufacturer_id_ltv_mean',\n",
    "#  'State_ID_ltv_mean',\n",
    "#  'Employee_code_ID_ltv_mean',\n",
    "#  'Current_pincode_ID_PERFORM_CNS.SCORE_mean',\n",
    "#  'branch_id_PERFORM_CNS.SCORE_mean',\n",
    "#  'supplier_id_PERFORM_CNS.SCORE_mean',\n",
    "#  'manufacturer_id_PERFORM_CNS.SCORE_mean',\n",
    "#  'State_ID_PERFORM_CNS.SCORE_mean',\n",
    "#  'Employee_code_ID_PERFORM_CNS.SCORE_mean',\n",
    "#  'Current_pincode_ID_PRIMARY.INSTAL.AMT_mean',\n",
    "#  'branch_id_PRIMARY.INSTAL.AMT_mean',\n",
    "#  'supplier_id_PRIMARY.INSTAL.AMT_mean',\n",
    "#  'manufacturer_id_PRIMARY.INSTAL.AMT_mean',\n",
    "#  'State_ID_PRIMARY.INSTAL.AMT_mean',\n",
    "#  'Employee_code_ID_PRIMARY.INSTAL.AMT_mean','branch_id_loan_default_mean',\n",
    "#        'State_ID_loan_default_mean', 'branch_id_loan_default_sum',\n",
    "#        'State_ID_loan_default_sum','ltv_squared','log_ltv']\n",
    "\n",
    "\n",
    "outcome = ['loan_default']"
   ]
  },
  {
   "cell_type": "code",
   "execution_count": 98,
   "metadata": {},
   "outputs": [],
   "source": [
    "from sklearn.model_selection import train_test_split\n",
    "\n",
    "X_train, X_validation, y_train, y_validation = train_test_split(train_df[predictors], train_df[outcome], test_size=0.3, random_state=1234)"
   ]
  },
  {
   "cell_type": "code",
   "execution_count": 99,
   "metadata": {},
   "outputs": [
    {
     "data": {
      "text/plain": [
       "((163207, 42), (69947, 42))"
      ]
     },
     "execution_count": 99,
     "metadata": {},
     "output_type": "execute_result"
    }
   ],
   "source": [
    "X_train.shape,X_validation.shape"
   ]
  },
  {
   "cell_type": "code",
   "execution_count": null,
   "metadata": {},
   "outputs": [],
   "source": []
  },
  {
   "cell_type": "code",
   "execution_count": 57,
   "metadata": {},
   "outputs": [],
   "source": [
    "import xgboost as xgb\n",
    "from xgboost.sklearn import XGBClassifier\n",
    "from sklearn.model_selection import cross_validate\n",
    "from sklearn import metrics \n",
    "from sklearn.model_selection import GridSearchCV   #Perforing grid search\n",
    "from sklearn.model_selection import cross_validate\n",
    "from sklearn.model_selection import KFold"
   ]
  },
  {
   "cell_type": "code",
   "execution_count": null,
   "metadata": {},
   "outputs": [],
   "source": [
    "\n",
    "alg = XGBClassifier()"
   ]
  },
  {
   "cell_type": "code",
   "execution_count": null,
   "metadata": {},
   "outputs": [],
   "source": [
    "#kf = loo.split(X_train_std[predictor_var])\n",
    "kf = KFold(n_splits=10).split(X_train[['State_ID','branch_id']])\n",
    "# ['branch_id', 'supplier_id', 'manufacturer_id', 'Current_pincode_ID','State_ID', 'Employee_code_ID']\n",
    "error = []\n",
    "# yavg = pd.DataFrame()\n",
    "\n",
    "for train, test in kf:\n",
    "    # Filter training data\n",
    "    print(\"training stared\")\n",
    "    train_predictors = X_train[predictors].iloc[train,:]\n",
    "\n",
    "    # The target we're using to train the algorithm.\n",
    "    train_target = y_train.iloc[train].values\n",
    "\n",
    "    # Training the algorithm using the predictors and target.\n",
    "    alg.fit(train_predictors, train_target)\n",
    "    y1 = alg.predict(X_train[predictors].iloc[test,:])\n",
    "#     yavg = yavg.append(pd.Series(y1),ignore_index=True)\n",
    "\n",
    "    #Record error from each cross-validation run\n",
    "    error.append(metrics.roc_auc_score(y_train.iloc[test], y1))\n",
    "    print('score for current fold',metrics.roc_auc_score(y_train.iloc[test], y1))\n",
    "    print(\"training finished\")\n",
    "print (\"Cross-Validation AUC Score : %f\" % np.mean(error))\n"
   ]
  },
  {
   "cell_type": "code",
   "execution_count": null,
   "metadata": {},
   "outputs": [],
   "source": []
  },
  {
   "cell_type": "code",
   "execution_count": 32,
   "metadata": {},
   "outputs": [],
   "source": [
    "def modelfit(alg, dtrain,ytrain,dtest,ytest,test,sub_df, predictors,outcome_var,useTrainCV=True, cv_folds=5, early_stopping_rounds=50):\n",
    "    \n",
    "    if useTrainCV:\n",
    "        xgb_param = alg.get_xgb_params()\n",
    "        xgtrain = xgb.DMatrix(dtrain[predictors].values, label=ytrain.values)\n",
    "        cvresult = xgb.cv(xgb_param, xgtrain, num_boost_round=alg.get_params()['n_estimators'], nfold=cv_folds,\n",
    "            metrics='auc', early_stopping_rounds=early_stopping_rounds,verbose_eval=True,\n",
    "            show_stdv=True)\n",
    "        alg.set_params(n_estimators=cvresult.shape[0])\n",
    "    \n",
    "    #Fit the algorithm on the data\n",
    "    alg.fit(dtrain[predictors], ytrain,eval_metric='auc')\n",
    "        \n",
    "    #Predict training set:\n",
    "    dtrain_predictions = alg.predict(dtest[predictors])\n",
    "    dtrain_predprob = alg.predict_proba(dtest[predictors])[:,1]\n",
    "    \n",
    "    dtrain_predprob1 = alg.predict_proba(test[predictors])[:,1]\n",
    "    sub_df['loan_default']= dtrain_predprob1\n",
    "    sub_df.to_csv('sub1.csv',index=False)    \n",
    "    #Print model report:\n",
    "    print(\"\\nModel Report\")\n",
    "    print(\"Accuracy : %.4g\" % metrics.accuracy_score(ytest.values, dtrain_predictions))\n",
    "    print(\"AUC Score (Train): %f\" % metrics.roc_auc_score(ytest, dtrain_predprob))\n",
    "                    \n",
    "    feat_imp = pd.Series(alg.get_booster().get_fscore()).sort_values(ascending=False)\n",
    "    feat_imp.plot(kind='bar', title='Feature Importances')\n",
    "    plt.ylabel('Feature Importance Score')  \n",
    "  "
   ]
  },
  {
   "cell_type": "code",
   "execution_count": 33,
   "metadata": {},
   "outputs": [],
   "source": [
    "def modelfit_mod(alg, dtrain,ytrain,dtest,ytest,test,sub_df, predictors,outcome_var,useTrainCV=True, cv_folds=5, early_stopping_rounds=50):\n",
    "    \n",
    "    if useTrainCV:\n",
    "        xgb_param = alg.get_xgb_params()\n",
    "        xgtrain = xgb.DMatrix(dtrain[predictors].values, label=ytrain.values)\n",
    "        cvresult = xgb.cv(xgb_param, xgtrain, num_boost_round=alg.get_params()['n_estimators'], nfold=cv_folds,\n",
    "            metrics='auc', early_stopping_rounds=early_stopping_rounds,verbose_eval=True,\n",
    "            show_stdv=True)\n",
    "        alg.set_params(n_estimators=cvresult.shape[0])\n",
    "    \n",
    "    #Fit the algorithm on the data\n",
    "    alg.fit(dtrain[predictors], ytrain)\n",
    "        \n",
    "    #Predict training set:\n",
    "    dtrain_predictions = alg.predict(dtest[predictors])\n",
    "    dtrain_predprob = alg.predict_proba(dtest[predictors])[:,1]\n",
    "    \n",
    "    dtrain_predprob1 = alg.predict_proba(test[predictors])[:,1]\n",
    "#     sub_df['loan_default']= dtrain_predprob1\n",
    "#     sub_df.to_csv('sub1.csv',index=False)    \n",
    "    #Print model report:\n",
    "    print(\"\\nModel Report\")\n",
    "    print(\"Accuracy : %.4g\" % metrics.accuracy_score(ytest.values, dtrain_predictions))\n",
    "    print(\"AUC Score (Train): %f\" % metrics.roc_auc_score(ytest, dtrain_predprob))\n",
    "                    \n",
    "#     feat_imp = pd.Series(alg.get_booster().get_fscore()).sort_values(ascending=False)\n",
    "#     feat_imp.plot(kind='bar', title='Feature Importances')\n",
    "#     plt.ylabel('Feature Importance Score')  \n",
    "  "
   ]
  },
  {
   "cell_type": "code",
   "execution_count": 100,
   "metadata": {},
   "outputs": [
    {
     "name": "stdout",
     "output_type": "stream",
     "text": [
      "[0]\ttrain-auc:0.604389+0.00191184\ttest-auc:0.601683+0.002534\n",
      "[1]\ttrain-auc:0.613671+0.00344063\ttest-auc:0.610323+0.00415648\n",
      "[2]\ttrain-auc:0.619054+0.00210949\ttest-auc:0.615289+0.00357365\n",
      "[3]\ttrain-auc:0.62152+0.00118036\ttest-auc:0.617899+0.00167271\n",
      "[4]\ttrain-auc:0.6225+0.000631539\ttest-auc:0.618772+0.00217464\n",
      "[5]\ttrain-auc:0.624102+0.000387153\ttest-auc:0.620697+0.00135444\n",
      "[6]\ttrain-auc:0.624541+0.000596362\ttest-auc:0.621037+0.00142272\n",
      "[7]\ttrain-auc:0.625316+0.000844097\ttest-auc:0.621486+0.00163763\n",
      "[8]\ttrain-auc:0.626886+0.000334378\ttest-auc:0.623035+0.000981644\n",
      "[9]\ttrain-auc:0.627528+0.000190167\ttest-auc:0.623801+0.00127272\n",
      "[10]\ttrain-auc:0.628598+0.000627757\ttest-auc:0.624685+0.00161706\n",
      "[11]\ttrain-auc:0.629722+0.000628231\ttest-auc:0.625429+0.00173595\n",
      "[12]\ttrain-auc:0.630189+0.000550001\ttest-auc:0.625829+0.0010778\n",
      "[13]\ttrain-auc:0.630898+0.000596218\ttest-auc:0.626516+0.00119057\n",
      "[14]\ttrain-auc:0.631821+0.000375509\ttest-auc:0.627246+0.00100893\n",
      "[15]\ttrain-auc:0.632529+0.000394868\ttest-auc:0.627873+0.00104808\n",
      "[16]\ttrain-auc:0.633205+0.000392831\ttest-auc:0.628448+0.000984332\n",
      "[17]\ttrain-auc:0.634057+0.00043464\ttest-auc:0.629458+0.00117165\n",
      "[18]\ttrain-auc:0.63466+0.000514801\ttest-auc:0.629919+0.00108242\n",
      "[19]\ttrain-auc:0.635361+0.000681649\ttest-auc:0.630407+0.000965229\n",
      "[20]\ttrain-auc:0.63625+0.00091391\ttest-auc:0.631128+0.00127788\n",
      "[21]\ttrain-auc:0.637113+0.000820583\ttest-auc:0.631984+0.00119158\n",
      "[22]\ttrain-auc:0.637967+0.00117492\ttest-auc:0.632663+0.00139299\n",
      "[23]\ttrain-auc:0.638822+0.000953765\ttest-auc:0.633501+0.00139083\n",
      "[24]\ttrain-auc:0.639576+0.000710272\ttest-auc:0.634267+0.00123008\n",
      "[25]\ttrain-auc:0.640375+0.000908286\ttest-auc:0.635022+0.0011393\n",
      "[26]\ttrain-auc:0.641146+0.000774684\ttest-auc:0.635698+0.00126755\n",
      "[27]\ttrain-auc:0.641848+0.000795275\ttest-auc:0.63622+0.00142329\n",
      "[28]\ttrain-auc:0.64268+0.000829499\ttest-auc:0.636971+0.00140632\n",
      "[29]\ttrain-auc:0.643574+0.000977847\ttest-auc:0.637792+0.00101767\n",
      "[30]\ttrain-auc:0.644284+0.000936477\ttest-auc:0.638447+0.00081709\n",
      "[31]\ttrain-auc:0.64511+0.000696302\ttest-auc:0.639135+0.00102091\n",
      "[32]\ttrain-auc:0.645713+0.000861436\ttest-auc:0.639638+0.000870939\n",
      "[33]\ttrain-auc:0.646598+0.000875759\ttest-auc:0.640304+0.00106628\n",
      "[34]\ttrain-auc:0.647196+0.000917763\ttest-auc:0.640751+0.00112293\n",
      "[35]\ttrain-auc:0.647868+0.00106644\ttest-auc:0.641277+0.00140381\n",
      "[36]\ttrain-auc:0.648449+0.00123379\ttest-auc:0.641616+0.00144258\n",
      "[37]\ttrain-auc:0.649052+0.00106913\ttest-auc:0.642093+0.00144128\n",
      "[38]\ttrain-auc:0.649823+0.000901468\ttest-auc:0.642811+0.00164725\n",
      "[39]\ttrain-auc:0.650449+0.00088604\ttest-auc:0.643256+0.00156242\n",
      "[40]\ttrain-auc:0.650988+0.000920016\ttest-auc:0.643664+0.00145715\n",
      "[41]\ttrain-auc:0.651564+0.000988237\ttest-auc:0.644111+0.00140173\n",
      "[42]\ttrain-auc:0.652221+0.00108773\ttest-auc:0.644574+0.0015949\n",
      "[43]\ttrain-auc:0.652816+0.00125497\ttest-auc:0.645077+0.00150605\n",
      "[44]\ttrain-auc:0.653515+0.00110242\ttest-auc:0.645686+0.00134608\n",
      "[45]\ttrain-auc:0.654105+0.00115895\ttest-auc:0.646087+0.00147503\n",
      "[46]\ttrain-auc:0.654672+0.00109037\ttest-auc:0.646634+0.00149634\n",
      "[47]\ttrain-auc:0.655099+0.000974059\ttest-auc:0.646929+0.00168967\n",
      "[48]\ttrain-auc:0.655675+0.000852319\ttest-auc:0.647432+0.00177618\n",
      "[49]\ttrain-auc:0.656242+0.000760871\ttest-auc:0.647938+0.00168404\n",
      "[50]\ttrain-auc:0.656727+0.000675907\ttest-auc:0.648306+0.00180578\n",
      "[51]\ttrain-auc:0.657099+0.000824095\ttest-auc:0.648563+0.0017593\n",
      "[52]\ttrain-auc:0.657479+0.000786403\ttest-auc:0.648824+0.00172864\n",
      "[53]\ttrain-auc:0.658038+0.000790717\ttest-auc:0.649213+0.0018069\n",
      "[54]\ttrain-auc:0.658439+0.000713997\ttest-auc:0.649542+0.00176892\n",
      "[55]\ttrain-auc:0.658872+0.000635646\ttest-auc:0.649845+0.00189639\n",
      "[56]\ttrain-auc:0.659257+0.000619276\ttest-auc:0.650154+0.00189166\n",
      "[57]\ttrain-auc:0.659605+0.000628833\ttest-auc:0.650419+0.00186962\n",
      "[58]\ttrain-auc:0.66003+0.000740341\ttest-auc:0.65073+0.00179764\n",
      "[59]\ttrain-auc:0.660389+0.000693554\ttest-auc:0.650964+0.00184671\n",
      "[60]\ttrain-auc:0.660811+0.000689048\ttest-auc:0.651232+0.00174904\n",
      "[61]\ttrain-auc:0.66116+0.00073098\ttest-auc:0.651467+0.00179387\n",
      "[62]\ttrain-auc:0.66149+0.000749248\ttest-auc:0.651657+0.0018767\n",
      "[63]\ttrain-auc:0.661905+0.00073893\ttest-auc:0.651898+0.00183518\n",
      "[64]\ttrain-auc:0.662137+0.000663493\ttest-auc:0.652009+0.00186915\n",
      "[65]\ttrain-auc:0.662451+0.000687265\ttest-auc:0.652222+0.00178415\n",
      "[66]\ttrain-auc:0.662876+0.000678219\ttest-auc:0.652588+0.00175283\n",
      "[67]\ttrain-auc:0.663281+0.000715801\ttest-auc:0.652843+0.00178467\n",
      "[68]\ttrain-auc:0.663615+0.000706534\ttest-auc:0.653104+0.00178658\n",
      "[69]\ttrain-auc:0.663959+0.000633622\ttest-auc:0.653252+0.00179469\n",
      "[70]\ttrain-auc:0.664312+0.000609276\ttest-auc:0.653541+0.00180763\n",
      "[71]\ttrain-auc:0.66459+0.000605272\ttest-auc:0.653723+0.00183472\n",
      "[72]\ttrain-auc:0.664866+0.000650441\ttest-auc:0.65395+0.00180868\n",
      "[73]\ttrain-auc:0.665203+0.000732691\ttest-auc:0.654167+0.00170448\n",
      "[74]\ttrain-auc:0.665503+0.000651167\ttest-auc:0.65441+0.00177449\n",
      "[75]\ttrain-auc:0.665767+0.000624766\ttest-auc:0.654503+0.00181735\n",
      "[76]\ttrain-auc:0.666053+0.000569114\ttest-auc:0.654724+0.00188802\n",
      "[77]\ttrain-auc:0.666404+0.000546367\ttest-auc:0.654962+0.00194895\n",
      "[78]\ttrain-auc:0.666683+0.000512804\ttest-auc:0.655116+0.00199612\n",
      "[79]\ttrain-auc:0.666914+0.000529763\ttest-auc:0.655253+0.00204293\n",
      "[80]\ttrain-auc:0.667164+0.000557324\ttest-auc:0.655476+0.00202643\n",
      "[81]\ttrain-auc:0.667409+0.000535347\ttest-auc:0.65554+0.00211069\n",
      "[82]\ttrain-auc:0.667701+0.000610027\ttest-auc:0.655708+0.00204654\n",
      "[83]\ttrain-auc:0.667953+0.00064667\ttest-auc:0.655908+0.00192431\n",
      "[84]\ttrain-auc:0.668221+0.00062477\ttest-auc:0.65607+0.00187962\n",
      "[85]\ttrain-auc:0.668472+0.000553877\ttest-auc:0.656206+0.00187128\n",
      "[86]\ttrain-auc:0.668706+0.000580109\ttest-auc:0.656313+0.0018701\n",
      "[87]\ttrain-auc:0.668937+0.000597902\ttest-auc:0.656454+0.00178661\n",
      "[88]\ttrain-auc:0.669156+0.000595234\ttest-auc:0.656565+0.00178326\n",
      "[89]\ttrain-auc:0.669355+0.000629456\ttest-auc:0.656679+0.00177446\n",
      "[90]\ttrain-auc:0.669546+0.000638597\ttest-auc:0.656779+0.00176039\n",
      "[91]\ttrain-auc:0.669809+0.000626153\ttest-auc:0.656924+0.00171748\n",
      "[92]\ttrain-auc:0.67005+0.00058638\ttest-auc:0.657067+0.00182933\n",
      "[93]\ttrain-auc:0.670277+0.000530219\ttest-auc:0.657222+0.0018063\n",
      "[94]\ttrain-auc:0.670442+0.000484793\ttest-auc:0.657356+0.00189802\n",
      "[95]\ttrain-auc:0.670651+0.000453612\ttest-auc:0.657507+0.00191936\n",
      "[96]\ttrain-auc:0.670868+0.000473723\ttest-auc:0.657656+0.00185608\n",
      "[97]\ttrain-auc:0.671096+0.000454382\ttest-auc:0.657787+0.00186819\n",
      "[98]\ttrain-auc:0.671253+0.000446895\ttest-auc:0.657853+0.00188714\n",
      "[99]\ttrain-auc:0.67142+0.000456548\ttest-auc:0.657925+0.00186435\n"
     ]
    },
    {
     "name": "stderr",
     "output_type": "stream",
     "text": [
      "/home/monster/.conda/envs/tensorflow/lib/python3.6/site-packages/sklearn/preprocessing/label.py:219: DataConversionWarning: A column-vector y was passed when a 1d array was expected. Please change the shape of y to (n_samples, ), for example using ravel().\n",
      "  y = column_or_1d(y, warn=True)\n",
      "/home/monster/.conda/envs/tensorflow/lib/python3.6/site-packages/sklearn/preprocessing/label.py:252: DataConversionWarning: A column-vector y was passed when a 1d array was expected. Please change the shape of y to (n_samples, ), for example using ravel().\n",
      "  y = column_or_1d(y, warn=True)\n"
     ]
    },
    {
     "name": "stdout",
     "output_type": "stream",
     "text": [
      "\n",
      "Model Report\n",
      "Accuracy : 0.7835\n",
      "AUC Score (Train): 0.660940\n",
      "CPU times: user 2min 2s, sys: 256 ms, total: 2min 2s\n",
      "Wall time: 2min 2s\n"
     ]
    },
    {
     "data": {
      "image/png": "[encoded data removed]",
      "text/plain": [
       "<Figure size 432x288 with 1 Axes>"
      ]
     },
     "metadata": {
      "needs_background": "light"
     },
     "output_type": "display_data"
    }
   ],
   "source": [
    "%%time\n",
    "modelfit(XGBClassifier(), X_train,y_train,X_validation,y_validation,test_df,sub_df,predictors,outcome,useTrainCV=True, cv_folds=5, early_stopping_rounds=50)"
   ]
  },
  {
   "cell_type": "code",
   "execution_count": null,
   "metadata": {},
   "outputs": [],
   "source": [
    "from sklearn.ensemble import RandomForestClassifier\n",
    "model6 = RandomForestClassifier()\n",
    "\n",
    "modelfit_mod(model6, X_train,y_train,X_validation,y_validation,test_df,sub_df,predictors,outcome,useTrainCV=False, cv_folds=5, early_stopping_rounds=50)"
   ]
  },
  {
   "cell_type": "code",
   "execution_count": null,
   "metadata": {},
   "outputs": [],
   "source": [
    "from sklearn.ensemble import AdaBoostClassifier\n",
    "from sklearn.tree import DecisionTreeClassifier\n",
    "\n",
    "tree = DecisionTreeClassifier(criterion='entropy',max_depth=6)\n",
    "ada = AdaBoostClassifier(base_estimator=tree, n_estimators=29, learning_rate=0.1, random_state=0)\n",
    "\n",
    "modelfit_mod(ada, X_train,y_train,X_validation,y_validation,test_df,sub_df,predictors,outcome,useTrainCV=False, cv_folds=5, early_stopping_rounds=50)"
   ]
  },
  {
   "cell_type": "code",
   "execution_count": null,
   "metadata": {},
   "outputs": [],
   "source": [
    "%%time\n",
    "\n",
    "from sklearn.ensemble import VotingClassifier\n",
    "\n",
    "model9 = VotingClassifier(estimators=[('RF', model6),('Xgb', XGBClassifier()), ('adaboost', ada)], voting='soft')\n",
    "\n",
    "modelfit_mod(model9, X_train,y_train,X_validation,y_validation,test_df,sub_df,predictors,outcome,useTrainCV=False, cv_folds=5, early_stopping_rounds=50)"
   ]
  },
  {
   "cell_type": "code",
   "execution_count": 101,
   "metadata": {},
   "outputs": [
    {
     "name": "stderr",
     "output_type": "stream",
     "text": [
      "/home/monster/.conda/envs/tensorflow/lib/python3.6/site-packages/sklearn/ensemble/forest.py:246: FutureWarning: The default value of n_estimators will change from 10 in version 0.20 to 100 in 0.22.\n",
      "  \"10 in version 0.20 to 100 in 0.22.\", FutureWarning)\n",
      "/home/monster/.conda/envs/tensorflow/lib/python3.6/site-packages/ipykernel_launcher.py:10: DataConversionWarning: A column-vector y was passed when a 1d array was expected. Please change the shape of y to (n_samples,), for example using ravel().\n",
      "  # Remove the CWD from sys.path while we load stuff.\n"
     ]
    },
    {
     "name": "stdout",
     "output_type": "stream",
     "text": [
      "[0.04435253 0.02316933 0.0305265  0.02653066 0.020291   0.01323873\n",
      " 0.01406983 0.01311056 0.00155935 0.00944875 0.0108255  0.01471242\n",
      " 0.01423724 0.03112729 0.03082794 0.03074285 0.02899591 0.02843346\n",
      " 0.0176812  0.02141067 0.02263985 0.01525911 0.01480965 0.02387223\n",
      " 0.02455769 0.02846488 0.02241882 0.0251811  0.02958412 0.02217681\n",
      " 0.0256612  0.03282145 0.02509268 0.02896133 0.02887504 0.0206477\n",
      " 0.02415447 0.00601111 0.04975969 0.05499912 0.01144517 0.03731503]\n"
     ]
    }
   ],
   "source": [
    "# Feature Importance\n",
    "from sklearn import datasets\n",
    "from sklearn.ensemble import RandomForestClassifier\n",
    "# from sklearn import metrics\n",
    "# from sklearn.ensemble import ExtraTreesClassifier\n",
    "# load the iris datasets\n",
    "# dataset = datasets.load_iris()\n",
    "# fit an Extra Trees model to the data\n",
    "model = RandomForestClassifier()\n",
    "model.fit(X_train, y_train)\n",
    "# display the relative importance of each attribute\n",
    "print(model.feature_importances_)"
   ]
  },
  {
   "cell_type": "code",
   "execution_count": 102,
   "metadata": {},
   "outputs": [],
   "source": [
    "fimp = pd.Series(X_train.columns)\n",
    "\n",
    "d = pd.concat([fimp,pd.Series(model.feature_importances_)],axis=1)"
   ]
  },
  {
   "cell_type": "code",
   "execution_count": 103,
   "metadata": {},
   "outputs": [],
   "source": [
    "df = d.sort_values(by=1,ascending=False).reset_index().drop(['index'],axis=1)"
   ]
  },
  {
   "cell_type": "code",
   "execution_count": 104,
   "metadata": {},
   "outputs": [],
   "source": [
    "df.columns = ['ftname','ftimp']"
   ]
  },
  {
   "cell_type": "code",
   "execution_count": 105,
   "metadata": {},
   "outputs": [
    {
     "data": {
      "text/html": [
       "<div>\n",
       "<style scoped>\n",
       "    .dataframe tbody tr th:only-of-type {\n",
       "        vertical-align: middle;\n",
       "    }\n",
       "\n",
       "    .dataframe tbody tr th {\n",
       "        vertical-align: top;\n",
       "    }\n",
       "\n",
       "    .dataframe thead th {\n",
       "        text-align: right;\n",
       "    }\n",
       "</style>\n",
       "<table border=\"1\" class=\"dataframe\">\n",
       "  <thead>\n",
       "    <tr style=\"text-align: right;\">\n",
       "      <th></th>\n",
       "      <th>ftname</th>\n",
       "      <th>ftimp</th>\n",
       "    </tr>\n",
       "  </thead>\n",
       "  <tbody>\n",
       "    <tr>\n",
       "      <th>0</th>\n",
       "      <td>log_ltv</td>\n",
       "      <td>0.054999</td>\n",
       "    </tr>\n",
       "    <tr>\n",
       "      <th>1</th>\n",
       "      <td>log_disbursed_amount</td>\n",
       "      <td>0.049760</td>\n",
       "    </tr>\n",
       "    <tr>\n",
       "      <th>2</th>\n",
       "      <td>asset_cost</td>\n",
       "      <td>0.044353</td>\n",
       "    </tr>\n",
       "    <tr>\n",
       "      <th>3</th>\n",
       "      <td>DisbursalDate_dayofmonth</td>\n",
       "      <td>0.037315</td>\n",
       "    </tr>\n",
       "    <tr>\n",
       "      <th>4</th>\n",
       "      <td>Current_pincode_ID_PERFORM_CNS.SCORE_mean</td>\n",
       "      <td>0.032821</td>\n",
       "    </tr>\n",
       "    <tr>\n",
       "      <th>5</th>\n",
       "      <td>Date.of.Birth.YEAR</td>\n",
       "      <td>0.031127</td>\n",
       "    </tr>\n",
       "    <tr>\n",
       "      <th>6</th>\n",
       "      <td>Date.of.Birth.YEAR.conv</td>\n",
       "      <td>0.030828</td>\n",
       "    </tr>\n",
       "    <tr>\n",
       "      <th>7</th>\n",
       "      <td>Date.of.Birth.AGE</td>\n",
       "      <td>0.030743</td>\n",
       "    </tr>\n",
       "    <tr>\n",
       "      <th>8</th>\n",
       "      <td>Current_pincode_ID</td>\n",
       "      <td>0.030526</td>\n",
       "    </tr>\n",
       "    <tr>\n",
       "      <th>9</th>\n",
       "      <td>Current_pincode_ID_ltv_mean</td>\n",
       "      <td>0.029584</td>\n",
       "    </tr>\n",
       "    <tr>\n",
       "      <th>10</th>\n",
       "      <td>Current_pincode_ID_disbursed_amount_mean</td>\n",
       "      <td>0.028996</td>\n",
       "    </tr>\n",
       "    <tr>\n",
       "      <th>11</th>\n",
       "      <td>Employee_code_ID_PERFORM_CNS.SCORE_mean</td>\n",
       "      <td>0.028961</td>\n",
       "    </tr>\n",
       "    <tr>\n",
       "      <th>12</th>\n",
       "      <td>Current_pincode_ID_PRIMARY.INSTAL.AMT_mean</td>\n",
       "      <td>0.028875</td>\n",
       "    </tr>\n",
       "    <tr>\n",
       "      <th>13</th>\n",
       "      <td>Current_pincode_ID_asset_cost_mean</td>\n",
       "      <td>0.028465</td>\n",
       "    </tr>\n",
       "    <tr>\n",
       "      <th>14</th>\n",
       "      <td>Current_pincode_ID_stdev</td>\n",
       "      <td>0.028433</td>\n",
       "    </tr>\n",
       "    <tr>\n",
       "      <th>15</th>\n",
       "      <td>Employee_code_ID</td>\n",
       "      <td>0.026531</td>\n",
       "    </tr>\n",
       "    <tr>\n",
       "      <th>16</th>\n",
       "      <td>Employee_code_ID_ltv_mean</td>\n",
       "      <td>0.025661</td>\n",
       "    </tr>\n",
       "    <tr>\n",
       "      <th>17</th>\n",
       "      <td>Employee_code_ID_asset_cost_mean</td>\n",
       "      <td>0.025181</td>\n",
       "    </tr>\n",
       "    <tr>\n",
       "      <th>18</th>\n",
       "      <td>supplier_id_PERFORM_CNS.SCORE_mean</td>\n",
       "      <td>0.025093</td>\n",
       "    </tr>\n",
       "    <tr>\n",
       "      <th>19</th>\n",
       "      <td>Employee_code_ID_stdev</td>\n",
       "      <td>0.024558</td>\n",
       "    </tr>\n",
       "    <tr>\n",
       "      <th>20</th>\n",
       "      <td>Employee_code_ID_PRIMARY.INSTAL.AMT_mean</td>\n",
       "      <td>0.024154</td>\n",
       "    </tr>\n",
       "    <tr>\n",
       "      <th>21</th>\n",
       "      <td>Employee_code_ID_disbursed_amount_mean</td>\n",
       "      <td>0.023872</td>\n",
       "    </tr>\n",
       "    <tr>\n",
       "      <th>22</th>\n",
       "      <td>supplier_id</td>\n",
       "      <td>0.023169</td>\n",
       "    </tr>\n",
       "    <tr>\n",
       "      <th>23</th>\n",
       "      <td>supplier_id_stdev</td>\n",
       "      <td>0.022640</td>\n",
       "    </tr>\n",
       "    <tr>\n",
       "      <th>24</th>\n",
       "      <td>supplier_id_asset_cost_mean</td>\n",
       "      <td>0.022419</td>\n",
       "    </tr>\n",
       "    <tr>\n",
       "      <th>25</th>\n",
       "      <td>supplier_id_ltv_mean</td>\n",
       "      <td>0.022177</td>\n",
       "    </tr>\n",
       "    <tr>\n",
       "      <th>26</th>\n",
       "      <td>supplier_id_disbursed_amount_mean</td>\n",
       "      <td>0.021411</td>\n",
       "    </tr>\n",
       "    <tr>\n",
       "      <th>27</th>\n",
       "      <td>supplier_id_PRIMARY.INSTAL.AMT_mean</td>\n",
       "      <td>0.020648</td>\n",
       "    </tr>\n",
       "    <tr>\n",
       "      <th>28</th>\n",
       "      <td>PERFORM_CNS.SCORE</td>\n",
       "      <td>0.020291</td>\n",
       "    </tr>\n",
       "    <tr>\n",
       "      <th>29</th>\n",
       "      <td>branch_id_stdev</td>\n",
       "      <td>0.017681</td>\n",
       "    </tr>\n",
       "    <tr>\n",
       "      <th>30</th>\n",
       "      <td>manufacturer_id_stdev</td>\n",
       "      <td>0.015259</td>\n",
       "    </tr>\n",
       "    <tr>\n",
       "      <th>31</th>\n",
       "      <td>State_ID_stdev</td>\n",
       "      <td>0.014810</td>\n",
       "    </tr>\n",
       "    <tr>\n",
       "      <th>32</th>\n",
       "      <td>CREDIT.HISTORY.LENGTH.TOTMONS</td>\n",
       "      <td>0.014712</td>\n",
       "    </tr>\n",
       "    <tr>\n",
       "      <th>33</th>\n",
       "      <td>AVERAGE.ACCT.AGE.TOTMONS</td>\n",
       "      <td>0.014237</td>\n",
       "    </tr>\n",
       "    <tr>\n",
       "      <th>34</th>\n",
       "      <td>PRI.SANCTIONED.AMOUNT</td>\n",
       "      <td>0.014070</td>\n",
       "    </tr>\n",
       "    <tr>\n",
       "      <th>35</th>\n",
       "      <td>PRI.CURRENT.BALANCE</td>\n",
       "      <td>0.013239</td>\n",
       "    </tr>\n",
       "    <tr>\n",
       "      <th>36</th>\n",
       "      <td>PRI.DISBURSED.AMOUNT</td>\n",
       "      <td>0.013111</td>\n",
       "    </tr>\n",
       "    <tr>\n",
       "      <th>37</th>\n",
       "      <td>DisbursalDate_month</td>\n",
       "      <td>0.011445</td>\n",
       "    </tr>\n",
       "    <tr>\n",
       "      <th>38</th>\n",
       "      <td>CREDIT.HISTORY.LENGTH.MONTHS</td>\n",
       "      <td>0.010825</td>\n",
       "    </tr>\n",
       "    <tr>\n",
       "      <th>39</th>\n",
       "      <td>PRIMARY.INSTAL.AMT</td>\n",
       "      <td>0.009449</td>\n",
       "    </tr>\n",
       "    <tr>\n",
       "      <th>40</th>\n",
       "      <td>Employment.Type_Self employed</td>\n",
       "      <td>0.006011</td>\n",
       "    </tr>\n",
       "    <tr>\n",
       "      <th>41</th>\n",
       "      <td>SEC.DISBURSED.AMOUNT</td>\n",
       "      <td>0.001559</td>\n",
       "    </tr>\n",
       "  </tbody>\n",
       "</table>\n",
       "</div>"
      ],
      "text/plain": [
       "                                        ftname     ftimp\n",
       "0                                      log_ltv  0.054999\n",
       "1                         log_disbursed_amount  0.049760\n",
       "2                                   asset_cost  0.044353\n",
       "3                     DisbursalDate_dayofmonth  0.037315\n",
       "4    Current_pincode_ID_PERFORM_CNS.SCORE_mean  0.032821\n",
       "5                           Date.of.Birth.YEAR  0.031127\n",
       "6                      Date.of.Birth.YEAR.conv  0.030828\n",
       "7                            Date.of.Birth.AGE  0.030743\n",
       "8                           Current_pincode_ID  0.030526\n",
       "9                  Current_pincode_ID_ltv_mean  0.029584\n",
       "10    Current_pincode_ID_disbursed_amount_mean  0.028996\n",
       "11     Employee_code_ID_PERFORM_CNS.SCORE_mean  0.028961\n",
       "12  Current_pincode_ID_PRIMARY.INSTAL.AMT_mean  0.028875\n",
       "13          Current_pincode_ID_asset_cost_mean  0.028465\n",
       "14                    Current_pincode_ID_stdev  0.028433\n",
       "15                            Employee_code_ID  0.026531\n",
       "16                   Employee_code_ID_ltv_mean  0.025661\n",
       "17            Employee_code_ID_asset_cost_mean  0.025181\n",
       "18          supplier_id_PERFORM_CNS.SCORE_mean  0.025093\n",
       "19                      Employee_code_ID_stdev  0.024558\n",
       "20    Employee_code_ID_PRIMARY.INSTAL.AMT_mean  0.024154\n",
       "21      Employee_code_ID_disbursed_amount_mean  0.023872\n",
       "22                                 supplier_id  0.023169\n",
       "23                           supplier_id_stdev  0.022640\n",
       "24                 supplier_id_asset_cost_mean  0.022419\n",
       "25                        supplier_id_ltv_mean  0.022177\n",
       "26           supplier_id_disbursed_amount_mean  0.021411\n",
       "27         supplier_id_PRIMARY.INSTAL.AMT_mean  0.020648\n",
       "28                           PERFORM_CNS.SCORE  0.020291\n",
       "29                             branch_id_stdev  0.017681\n",
       "30                       manufacturer_id_stdev  0.015259\n",
       "31                              State_ID_stdev  0.014810\n",
       "32               CREDIT.HISTORY.LENGTH.TOTMONS  0.014712\n",
       "33                    AVERAGE.ACCT.AGE.TOTMONS  0.014237\n",
       "34                       PRI.SANCTIONED.AMOUNT  0.014070\n",
       "35                         PRI.CURRENT.BALANCE  0.013239\n",
       "36                        PRI.DISBURSED.AMOUNT  0.013111\n",
       "37                         DisbursalDate_month  0.011445\n",
       "38                CREDIT.HISTORY.LENGTH.MONTHS  0.010825\n",
       "39                          PRIMARY.INSTAL.AMT  0.009449\n",
       "40               Employment.Type_Self employed  0.006011\n",
       "41                        SEC.DISBURSED.AMOUNT  0.001559"
      ]
     },
     "execution_count": 105,
     "metadata": {},
     "output_type": "execute_result"
    }
   ],
   "source": [
    "df"
   ]
  },
  {
   "cell_type": "code",
   "execution_count": 106,
   "metadata": {},
   "outputs": [],
   "source": [
    "toptfs = list(df.loc[df['ftimp']<=0.01,:]['ftname'])"
   ]
  },
  {
   "cell_type": "code",
   "execution_count": 107,
   "metadata": {},
   "outputs": [
    {
     "data": {
      "text/plain": [
       "['PRIMARY.INSTAL.AMT', 'Employment.Type_Self employed', 'SEC.DISBURSED.AMOUNT']"
      ]
     },
     "execution_count": 107,
     "metadata": {},
     "output_type": "execute_result"
    }
   ],
   "source": [
    "toptfs"
   ]
  },
  {
   "cell_type": "code",
   "execution_count": null,
   "metadata": {},
   "outputs": [],
   "source": [
    "modelfit(XGBClassifier(), X_train,y_train,X_validation,y_validation,test_df,sub_df,toptfs,outcome,useTrainCV=True, cv_folds=5, early_stopping_rounds=50)"
   ]
  },
  {
   "cell_type": "code",
   "execution_count": null,
   "metadata": {},
   "outputs": [],
   "source": []
  },
  {
   "cell_type": "code",
   "execution_count": null,
   "metadata": {},
   "outputs": [],
   "source": []
  },
  {
   "cell_type": "code",
   "execution_count": null,
   "metadata": {},
   "outputs": [],
   "source": []
  },
  {
   "cell_type": "code",
   "execution_count": null,
   "metadata": {},
   "outputs": [],
   "source": [
    "model1 = XGBClassifier(\n",
    " learning_rate =0.2,\n",
    " n_estimators=500,\n",
    " max_depth=5,\n",
    " min_child_weight=1,\n",
    " gamma=0,\n",
    " subsample=0.8,\n",
    " colsample_bytree=0.8,\n",
    " objective= 'binary:logistic',\n",
    " nthread=-1,\n",
    " scale_pos_weight=1,\n",
    " seed=27)"
   ]
  },
  {
   "cell_type": "code",
   "execution_count": null,
   "metadata": {},
   "outputs": [],
   "source": [
    "%%time\n",
    "#replce top_20_ft with predictors to run model on all the features\n",
    "modelfit(model1, X_train,y_train,X_validation,y_validation,test_df,sub_df,predictors,outcome,useTrainCV=True, cv_folds=5, early_stopping_rounds=50)"
   ]
  },
  {
   "cell_type": "code",
   "execution_count": null,
   "metadata": {},
   "outputs": [],
   "source": [
    "%%time\n",
    "#replce top_20_ft with predictors to run model on all the features\n",
    "modelfit(model1, X_train,y_train,X_validation,y_validation,test_df,sub_df,toptfs,outcome,useTrainCV=True, cv_folds=5, early_stopping_rounds=50)"
   ]
  },
  {
   "cell_type": "code",
   "execution_count": null,
   "metadata": {},
   "outputs": [],
   "source": [
    "top_20_features = pd.Series(model1.get_booster().get_fscore()).sort_values(ascending=False)[:25]"
   ]
  },
  {
   "cell_type": "code",
   "execution_count": null,
   "metadata": {},
   "outputs": [],
   "source": [
    "top_20_ft = list(top_20_features.index)"
   ]
  },
  {
   "cell_type": "code",
   "execution_count": null,
   "metadata": {},
   "outputs": [],
   "source": [
    "top_20_ft"
   ]
  },
  {
   "cell_type": "code",
   "execution_count": null,
   "metadata": {},
   "outputs": [],
   "source": [
    "%%time\n",
    "#top features only\n",
    "modelfit(model1, X_train,y_train,X_validation,y_validation,test_df,sub_df,top_20_ft,outcome,useTrainCV=True, cv_folds=5, early_stopping_rounds=50)"
   ]
  },
  {
   "cell_type": "code",
   "execution_count": null,
   "metadata": {},
   "outputs": [],
   "source": [
    "%%time\n",
    "#top features only\n",
    "modelfit(model1, X_train,y_train,X_validation,y_validation,test_df,sub_df,top_20_ft,outcome,useTrainCV=True, cv_folds=5, early_stopping_rounds=50)"
   ]
  },
  {
   "cell_type": "code",
   "execution_count": null,
   "metadata": {},
   "outputs": [],
   "source": [
    "from sklearn.metrics import roc_curve, auc\n",
    "def Performance(Model,Y,X):\n",
    "    # Perforamnce of the model\n",
    "    fpr, tpr, _ = roc_curve(Y, Model.predict_proba(X)[:,1])\n",
    "    AUC  = auc(fpr, tpr)\n",
    "    print ('the AUC is : %0.4f' %  AUC)\n",
    "    plt.figure()\n",
    "    plt.plot(fpr, tpr, label='ROC curve (area = %0.4f)' % AUC)\n",
    "    plt.plot([0, 1], [0, 1], 'k--')\n",
    "    plt.xlim([0.0, 1.0])\n",
    "    plt.ylim([0.0, 1.05])\n",
    "    plt.xlabel('False Positive Rate')\n",
    "    plt.ylabel('True Positive Rate')\n",
    "    plt.title('ROC Curve')\n",
    "    plt.legend(loc=\"lower right\")\n",
    "    plt.show()"
   ]
  },
  {
   "cell_type": "code",
   "execution_count": null,
   "metadata": {},
   "outputs": [],
   "source": [
    "Performance(model1,y_validation,X_validation)"
   ]
  },
  {
   "cell_type": "code",
   "execution_count": null,
   "metadata": {},
   "outputs": [],
   "source": [
    "from hyperopt import fmin, tpe, hp, STATUS_OK, Trials"
   ]
  },
  {
   "cell_type": "code",
   "execution_count": null,
   "metadata": {},
   "outputs": [],
   "source": [
    "%%time\n",
    "np.linspace(0,1,11)"
   ]
  },
  {
   "cell_type": "code",
   "execution_count": null,
   "metadata": {},
   "outputs": [],
   "source": [
    "%%time\n",
    "from sklearn.model_selection import cross_val_score\n",
    "def acc_model(params):\n",
    "    clf = XGBClassifier(**params)\n",
    "    return cross_val_score(clf, X_train, y_train, scoring='roc_auc',cv=5).mean()\n",
    "\n",
    "param_space = {\n",
    "    'learning_rate': hp.choice('learning_rate', [0.1,0.1]),#np.linspace(0,1,11)),\n",
    "    \n",
    "    'n_estimators': hp.choice('n_estimators', [300,300]),\n",
    "    \n",
    "    'max_depth': hp.choice('max_depth', [3, 5, 7, 9]), #range(1,20)),\n",
    "                               \n",
    "    'min_child_weight': hp.choice('min_child_weight', [1, 3, 5]), #range(1,7)),\n",
    "    \n",
    "    'gamma': hp.choice('gamma', [0,0]),#np.linspace(0,1,11)),\n",
    "    \n",
    "    'subsample': hp.choice('subsample', [0.8,0.8]),#np.linspace(0,1,11)),\n",
    "    \n",
    "    'colsample_bytree': hp.choice('colsample_bytree',[0.8,0.8])# np.linspace(0,1,11)),\n",
    "    \n",
    "#     'max_features': hp.choice('max_features', range(1,55)),\n",
    "    \n",
    "#     'criterion': hp.choice('criterion', [\"gini\", \"entropy\"])\n",
    "#                        \n",
    "     }\n",
    "\n",
    "best = 0\n",
    "def f(params):\n",
    "    global best\n",
    "    acc = acc_model(params)\n",
    "    if acc > best:\n",
    "        best = acc\n",
    "    print ('new best:', best, params)\n",
    "    return {'loss': -acc, 'status': STATUS_OK}\n",
    "\n",
    "trials = Trials()\n",
    "best = fmin(f, param_space, algo=tpe.suggest, max_evals=5, trials=trials)\n",
    "print ('best:')\n",
    "print (best)\n"
   ]
  },
  {
   "cell_type": "code",
   "execution_count": null,
   "metadata": {},
   "outputs": [],
   "source": []
  },
  {
   "cell_type": "code",
   "execution_count": null,
   "metadata": {},
   "outputs": [],
   "source": []
  },
  {
   "cell_type": "code",
   "execution_count": null,
   "metadata": {},
   "outputs": [],
   "source": []
  },
  {
   "cell_type": "code",
   "execution_count": null,
   "metadata": {},
   "outputs": [],
   "source": [
    "from sklearn.model_selection import learning_curve, GridSearchCV"
   ]
  },
  {
   "cell_type": "code",
   "execution_count": null,
   "metadata": {},
   "outputs": [],
   "source": [
    "%%time\n",
    "param_test1 = {\n",
    " 'max_depth':[3, 5, 7],\n",
    " 'min_child_weight':[1, 3, 5]\n",
    "}\n",
    "\n",
    "gsearch1 = GridSearchCV(estimator = XGBClassifier( learning_rate =0.1, n_estimators=118, max_depth=5,\n",
    " min_child_weight=1, gamma=0, subsample=0.8, colsample_bytree=0.8,\n",
    " objective= 'binary:logistic', nthread=6, scale_pos_weight=1, seed=27), \n",
    " param_grid = param_test1, scoring='roc_auc',n_jobs=6,iid=False, cv=5)\n",
    "gsearch1.fit(X_train,y_train)\n",
    "print(gsearch1.best_params_, gsearch1.best_score_)\n"
   ]
  },
  {
   "cell_type": "code",
   "execution_count": null,
   "metadata": {},
   "outputs": [],
   "source": [
    "param_test1 = {\n",
    " 'max_depth':[3, 5, 7],\n",
    " 'min_child_weight':[1, 3, 5]\n",
    "}\n",
    "\n",
    "gsearch1 = GridSearchCV(estimator = XGBClassifier( learning_rate =0.1, n_estimators=118, max_depth=5,\n",
    " min_child_weight=1, gamma=0, subsample=0.8, colsample_bytree=0.8,\n",
    " objective= 'binary:logistic', nthread=6, scale_pos_weight=1, seed=27), \n",
    " param_grid = param_test1, scoring='roc_auc',n_jobs=6,iid=False, cv=5)\n",
    "gsearch1.fit(X_train,y_train)\n",
    "print(gsearch1.best_params_, gsearch1.best_score_)\n"
   ]
  },
  {
   "cell_type": "code",
   "execution_count": null,
   "metadata": {},
   "outputs": [],
   "source": [
    "gsearch1.best_params_"
   ]
  },
  {
   "cell_type": "code",
   "execution_count": null,
   "metadata": {},
   "outputs": [],
   "source": [
    "gsearch1.best_score_"
   ]
  },
  {
   "cell_type": "code",
   "execution_count": null,
   "metadata": {},
   "outputs": [],
   "source": [
    "param_test2 = {\n",
    " 'max_depth':[4, 5, 6],\n",
    " 'min_child_weight':[4,5,6]\n",
    "}\n",
    "\n",
    "gsearch1 = GridSearchCV(estimator = XGBClassifier( learning_rate =0.1, n_estimators=118, max_depth=5,\n",
    " min_child_weight=2, gamma=0, subsample=0.8, colsample_bytree=0.8,\n",
    " objective= 'binary:logistic', nthread=6, scale_pos_weight=1, seed=27), \n",
    " param_grid = param_test2, scoring='roc_auc',n_jobs=6,iid=False, cv=5)\n",
    "gsearch1.fit(X_train,y_train)\n",
    "\n",
    "print(gsearch1.best_params_, gsearch1.best_score_)"
   ]
  },
  {
   "cell_type": "code",
   "execution_count": null,
   "metadata": {},
   "outputs": [],
   "source": [
    "param_test2b = {\n",
    " 'min_child_weight':[5,6,7,8,9]\n",
    "}\n",
    "\n",
    "gsearch2b = GridSearchCV(estimator = XGBClassifier( learning_rate=0.1, n_estimators=118, max_depth=6,\n",
    " min_child_weight=2, gamma=0, subsample=0.8, colsample_bytree=0.8,\n",
    " objective= 'binary:logistic', nthread=6, scale_pos_weight=1,seed=27), \n",
    " param_grid = param_test2b, scoring='roc_auc',n_jobs=6,iid=False, cv=5)\n",
    "gsearch2b.fit(X_train,y_train)\n",
    "\n",
    "print(gsearch2b.best_params_, gsearch2b.best_score_)"
   ]
  },
  {
   "cell_type": "code",
   "execution_count": null,
   "metadata": {},
   "outputs": [],
   "source": [
    "param_test3 = {\n",
    " 'gamma':[i/10.0 for i in range(0,5)]\n",
    "}\n",
    "gsearch3 = GridSearchCV(estimator = XGBClassifier( learning_rate =0.1, n_estimators=118, max_depth=6,\n",
    " min_child_weight=8, gamma=0, subsample=0.8, colsample_bytree=0.8,\n",
    " objective= 'binary:logistic', nthread=-1, scale_pos_weight=1,seed=27), \n",
    " param_grid = param_test3, scoring='roc_auc',n_jobs=4,iid=False, cv=5)\n",
    "gsearch3.fit(X_train,y_train)\n",
    "\n",
    "print(gsearch3.best_params_, gsearch3.best_score_)\n"
   ]
  },
  {
   "cell_type": "code",
   "execution_count": null,
   "metadata": {},
   "outputs": [],
   "source": [
    "xgb1 = XGBClassifier(\n",
    " learning_rate =0.1,\n",
    " n_estimators=1000,\n",
    " max_depth=6,\n",
    " min_child_weight=8,\n",
    " gamma=0,\n",
    " subsample=0.8,\n",
    " colsample_bytree=0.8,\n",
    " objective= 'binary:logistic',\n",
    " nthread=4,\n",
    " scale_pos_weight=1,\n",
    " seed=27)"
   ]
  },
  {
   "cell_type": "code",
   "execution_count": null,
   "metadata": {},
   "outputs": [],
   "source": [
    "modelfit(xgb1, X_train,y_train,X_validation,y_validation,test_df,sub_df,predictors,outcome,useTrainCV=True, cv_folds=5, early_stopping_rounds=50)"
   ]
  },
  {
   "cell_type": "code",
   "execution_count": null,
   "metadata": {},
   "outputs": [],
   "source": [
    "param_test4 = {\n",
    " 'subsample':[i/10.0 for i in range(6,10)],\n",
    " 'colsample_bytree':[i/10.0 for i in range(6,10)]\n",
    "}\n",
    "\n",
    "gsearch4 = GridSearchCV(estimator = XGBClassifier( learning_rate =0.1, n_estimators=200, max_depth=6,\n",
    " min_child_weight=8, gamma=0, subsample=0.8, colsample_bytree=0.8,\n",
    " objective= 'binary:logistic', nthread=-1, scale_pos_weight=1,seed=27), \n",
    " param_grid = param_test4, scoring='roc_auc',n_jobs=4,iid=False, cv=5)\n",
    "gsearch4.fit(X_train,y_train)\n",
    "\n",
    "print(gsearch4.best_params_, gsearch4.best_score_)\n"
   ]
  },
  {
   "cell_type": "code",
   "execution_count": null,
   "metadata": {},
   "outputs": [],
   "source": [
    "param_test5 = {\n",
    " 'subsample':[i/100.0 for i in range(85,100,5)],\n",
    " 'colsample_bytree':[i/100.0 for i in range(65,80,5)]\n",
    "}\n",
    "\n",
    "gsearch5 = GridSearchCV(estimator = XGBClassifier( learning_rate =0.1, n_estimators=200, max_depth=6,\n",
    " min_child_weight=8, gamma=0, subsample=0.8, colsample_bytree=0.8,\n",
    " objective= 'binary:logistic', nthread=4, scale_pos_weight=1,seed=27), \n",
    " param_grid = param_test5, scoring='roc_auc',n_jobs=4,iid=False, cv=5)\n",
    "\n",
    "gsearch5.fit(X_train,y_train)\n",
    "print(gsearch5.best_params_, gsearch5.best_score_)\n"
   ]
  },
  {
   "cell_type": "code",
   "execution_count": null,
   "metadata": {},
   "outputs": [],
   "source": [
    "# param_test6 = {\n",
    "#  'reg_alpha':[1e-5, 1e-2, 0.1, 1, 100]\n",
    "# }\n",
    "\n",
    "# gsearch6 = GridSearchCV(estimator = XGBClassifier( learning_rate =0.1, n_estimators=200, max_depth=6,\n",
    "#  min_child_weight=8, gamma=0, subsample=0.95, colsample_bytree=0.7,\n",
    "#  objective= 'binary:logistic', nthread=-1, scale_pos_weight=1,seed=27), \n",
    "#  param_grid = param_test6, scoring='roc_auc',n_jobs=4,iid=False, cv=5)\n",
    "\n",
    "# gsearch6.fit(X_train,y_train)\n",
    "\n",
    "\n",
    "# print(gsearch6.best_params_, gsearch6.best_score_)"
   ]
  },
  {
   "cell_type": "code",
   "execution_count": null,
   "metadata": {},
   "outputs": [],
   "source": [
    "# param_test7 = {\n",
    "#  'reg_alpha':[0, 0.001, 0.005, 0.01, 0.05,0.09]\n",
    "# }\n",
    "\n",
    "# gsearch7 = GridSearchCV(estimator = XGBClassifier( learning_rate =0.1, n_estimators=200, max_depth=6,\n",
    "#  min_child_weight=8, gamma=0.1,subsample=0.95, colsample_bytree=0.7,\n",
    "#  objective= 'binary:logistic', nthread=-1, scale_pos_weight=1,seed=27), \n",
    "#  param_grid = param_test7, scoring='roc_auc',n_jobs=4,iid=False, cv=5)\n",
    "# gsearch7.fit(X_train,y_train)\n",
    "\n",
    "# print(gsearch7.best_params_, gsearch7.best_score_)\n"
   ]
  },
  {
   "cell_type": "code",
   "execution_count": null,
   "metadata": {},
   "outputs": [],
   "source": []
  },
  {
   "cell_type": "code",
   "execution_count": null,
   "metadata": {},
   "outputs": [],
   "source": []
  },
  {
   "cell_type": "code",
   "execution_count": null,
   "metadata": {},
   "outputs": [],
   "source": []
  },
  {
   "cell_type": "code",
   "execution_count": 110,
   "metadata": {},
   "outputs": [],
   "source": [
    "xgb4 = XGBClassifier(\n",
    " learning_rate =0.1,\n",
    " n_estimators=50,\n",
    " max_depth=6,\n",
    " min_child_weight=8,\n",
    " gamma=0,\n",
    " subsample=0.9,\n",
    " colsample_bytree=1,\n",
    " objective= 'binary:logistic',\n",
    " nthread=-1,\n",
    " scale_pos_weight=1,\n",
    " seed=27)\n"
   ]
  },
  {
   "cell_type": "code",
   "execution_count": 111,
   "metadata": {},
   "outputs": [
    {
     "name": "stdout",
     "output_type": "stream",
     "text": [
      "[0]\ttrain-auc:0.635303+0.001539\ttest-auc:0.621358+0.0018295\n",
      "[1]\ttrain-auc:0.645787+0.00103031\ttest-auc:0.630537+0.00195317\n",
      "[2]\ttrain-auc:0.650116+0.00139175\ttest-auc:0.633182+0.00196781\n",
      "[3]\ttrain-auc:0.65316+0.000843062\ttest-auc:0.635472+0.00115545\n",
      "[4]\ttrain-auc:0.655292+0.000991109\ttest-auc:0.636952+0.00166309\n",
      "[5]\ttrain-auc:0.657572+0.000922207\ttest-auc:0.638385+0.00145036\n",
      "[6]\ttrain-auc:0.659321+0.000807155\ttest-auc:0.639419+0.00133391\n",
      "[7]\ttrain-auc:0.66072+0.000738039\ttest-auc:0.640228+0.00147219\n",
      "[8]\ttrain-auc:0.662134+0.000637591\ttest-auc:0.641102+0.00152232\n",
      "[9]\ttrain-auc:0.66346+0.000147882\ttest-auc:0.641967+0.00165615\n",
      "[10]\ttrain-auc:0.664844+0.000409894\ttest-auc:0.642924+0.00156477\n",
      "[11]\ttrain-auc:0.666186+0.00056718\ttest-auc:0.643974+0.00161264\n",
      "[12]\ttrain-auc:0.667574+0.000555912\ttest-auc:0.644844+0.00150038\n",
      "[13]\ttrain-auc:0.669199+0.000494893\ttest-auc:0.645817+0.00164419\n",
      "[14]\ttrain-auc:0.670396+0.000642458\ttest-auc:0.646318+0.00141857\n",
      "[15]\ttrain-auc:0.671854+0.00047768\ttest-auc:0.646912+0.00141322\n",
      "[16]\ttrain-auc:0.673262+0.00047656\ttest-auc:0.647575+0.00155256\n",
      "[17]\ttrain-auc:0.674691+0.000493817\ttest-auc:0.648082+0.00163848\n",
      "[18]\ttrain-auc:0.676011+0.000475985\ttest-auc:0.648627+0.00173785\n",
      "[19]\ttrain-auc:0.677142+0.000431826\ttest-auc:0.649195+0.00170988\n",
      "[20]\ttrain-auc:0.678472+0.000494311\ttest-auc:0.649974+0.00180834\n",
      "[21]\ttrain-auc:0.679818+0.000356485\ttest-auc:0.650501+0.00180907\n",
      "[22]\ttrain-auc:0.681094+0.000316685\ttest-auc:0.650929+0.00171254\n",
      "[23]\ttrain-auc:0.682581+0.000356074\ttest-auc:0.651519+0.0016828\n",
      "[24]\ttrain-auc:0.684103+0.000288213\ttest-auc:0.652177+0.0017288\n",
      "[25]\ttrain-auc:0.685591+0.000580856\ttest-auc:0.652869+0.00141646\n",
      "[26]\ttrain-auc:0.686906+0.000531536\ttest-auc:0.653516+0.00171502\n",
      "[27]\ttrain-auc:0.688099+0.000505341\ttest-auc:0.654013+0.00181036\n",
      "[28]\ttrain-auc:0.689469+0.000240417\ttest-auc:0.654683+0.00162949\n",
      "[29]\ttrain-auc:0.690504+0.000124914\ttest-auc:0.655162+0.00167568\n",
      "[30]\ttrain-auc:0.691772+0.000210118\ttest-auc:0.655622+0.00157725\n",
      "[31]\ttrain-auc:0.692779+0.00031684\ttest-auc:0.655982+0.0016741\n",
      "[32]\ttrain-auc:0.693908+0.000345833\ttest-auc:0.656436+0.0015627\n",
      "[33]\ttrain-auc:0.695003+0.000455598\ttest-auc:0.656788+0.00155357\n",
      "[34]\ttrain-auc:0.69596+0.000420108\ttest-auc:0.657098+0.00166411\n",
      "[35]\ttrain-auc:0.696911+0.000433567\ttest-auc:0.657437+0.00181495\n",
      "[36]\ttrain-auc:0.698095+0.000509019\ttest-auc:0.657943+0.0018342\n",
      "[37]\ttrain-auc:0.699311+0.000575076\ttest-auc:0.658396+0.00181965\n",
      "[38]\ttrain-auc:0.700343+0.000745575\ttest-auc:0.658707+0.00180994\n",
      "[39]\ttrain-auc:0.701386+0.000862143\ttest-auc:0.659053+0.0017509\n",
      "[40]\ttrain-auc:0.702498+0.000748284\ttest-auc:0.659332+0.00176558\n",
      "[41]\ttrain-auc:0.703303+0.000720829\ttest-auc:0.659538+0.00170483\n",
      "[42]\ttrain-auc:0.704174+0.000680112\ttest-auc:0.659847+0.00170802\n",
      "[43]\ttrain-auc:0.705+0.000733413\ttest-auc:0.660029+0.00170725\n",
      "[44]\ttrain-auc:0.705768+0.000666295\ttest-auc:0.660153+0.00170476\n",
      "[45]\ttrain-auc:0.706495+0.000606404\ttest-auc:0.660323+0.00179513\n",
      "[46]\ttrain-auc:0.707347+0.000685083\ttest-auc:0.660532+0.00186189\n",
      "[47]\ttrain-auc:0.707922+0.00058261\ttest-auc:0.660759+0.00195821\n",
      "[48]\ttrain-auc:0.708704+0.000554535\ttest-auc:0.660902+0.00188247\n",
      "[49]\ttrain-auc:0.709518+0.000738735\ttest-auc:0.661131+0.00181935\n"
     ]
    },
    {
     "name": "stderr",
     "output_type": "stream",
     "text": [
      "/home/monster/.conda/envs/tensorflow/lib/python3.6/site-packages/sklearn/preprocessing/label.py:219: DataConversionWarning: A column-vector y was passed when a 1d array was expected. Please change the shape of y to (n_samples, ), for example using ravel().\n",
      "  y = column_or_1d(y, warn=True)\n",
      "/home/monster/.conda/envs/tensorflow/lib/python3.6/site-packages/sklearn/preprocessing/label.py:252: DataConversionWarning: A column-vector y was passed when a 1d array was expected. Please change the shape of y to (n_samples, ), for example using ravel().\n",
      "  y = column_or_1d(y, warn=True)\n"
     ]
    },
    {
     "name": "stdout",
     "output_type": "stream",
     "text": [
      "\n",
      "Model Report\n",
      "Accuracy : 0.7837\n",
      "AUC Score (Train): 0.665473\n"
     ]
    },
    {
     "data": {
      "image/png": "[encoded data removed]",
      "text/plain": [
       "<Figure size 432x288 with 1 Axes>"
      ]
     },
     "metadata": {
      "needs_background": "light"
     },
     "output_type": "display_data"
    }
   ],
   "source": [
    "modelfit(xgb4, X_train,y_train,X_validation,y_validation,test_df,sub_df,predictors,outcome,useTrainCV=True, cv_folds=5, early_stopping_rounds=50)"
   ]
  },
  {
   "cell_type": "code",
   "execution_count": null,
   "metadata": {},
   "outputs": [],
   "source": []
  },
  {
   "cell_type": "code",
   "execution_count": 40,
   "metadata": {},
   "outputs": [],
   "source": [
    "from feature_selector import FeatureSelector\n",
    "# Features are in train and labels are in train_labels\n",
    "fs = FeatureSelector(data = train_df, labels = train_df.loan_default)"
   ]
  },
  {
   "cell_type": "code",
   "execution_count": 41,
   "metadata": {},
   "outputs": [
    {
     "name": "stdout",
     "output_type": "stream",
     "text": [
      "0 features with greater than 0.60 missing values.\n",
      "\n"
     ]
    }
   ],
   "source": [
    "fs.identify_missing(missing_threshold = 0.6)"
   ]
  },
  {
   "cell_type": "code",
   "execution_count": 42,
   "metadata": {},
   "outputs": [
    {
     "name": "stdout",
     "output_type": "stream",
     "text": [
      "12 features with a correlation magnitude greater than 0.98.\n",
      "\n"
     ]
    }
   ],
   "source": [
    "fs.identify_collinear(correlation_threshold = 0.98)"
   ]
  },
  {
   "cell_type": "code",
   "execution_count": 43,
   "metadata": {},
   "outputs": [
    {
     "data": {
      "image/png": "[encoded data removed]",
      "text/plain": [
       "<Figure size 720x576 with 2 Axes>"
      ]
     },
     "metadata": {
      "needs_background": "light"
     },
     "output_type": "display_data"
    }
   ],
   "source": [
    "fs.plot_collinear()"
   ]
  },
  {
   "cell_type": "code",
   "execution_count": 44,
   "metadata": {},
   "outputs": [],
   "source": [
    "# list of collinear features to remove\n",
    "collinear_features = fs.ops['collinear']"
   ]
  },
  {
   "cell_type": "code",
   "execution_count": 51,
   "metadata": {},
   "outputs": [],
   "source": [
    "# dataframe of collinear features\n",
    "l2 = list(fs.record_collinear['drop_feature'])"
   ]
  },
  {
   "cell_type": "code",
   "execution_count": 85,
   "metadata": {},
   "outputs": [],
   "source": [
    "predictors = [x for x in predictors if x not in l2]"
   ]
  },
  {
   "cell_type": "code",
   "execution_count": 97,
   "metadata": {},
   "outputs": [],
   "source": [
    "predictors = [x for x in predictors if x not in toptfs]"
   ]
  },
  {
   "cell_type": "code",
   "execution_count": 82,
   "metadata": {},
   "outputs": [],
   "source": [
    "l2.remove('log_ltv')"
   ]
  },
  {
   "cell_type": "code",
   "execution_count": 83,
   "metadata": {},
   "outputs": [
    {
     "data": {
      "text/plain": [
       "['PRI.DISBURSED.AMOUNT',\n",
       " 'SEC.DISBURSED.AMOUNT',\n",
       " 'CREDIT.HISTORY.LENGTH.TOTMONS',\n",
       " 'Date.of.Birth.AGE',\n",
       " 'branch_id_stdev',\n",
       " 'supplier_id_stdev',\n",
       " 'manufacturer_id_stdev',\n",
       " 'manufacturer_id_stdev',\n",
       " 'State_ID_stdev',\n",
       " 'State_ID_stdev',\n",
       " 'State_ID_stdev',\n",
       " 'State_ID_stdev',\n",
       " 'Employee_code_ID_stdev',\n",
       " 'Employee_code_ID_stdev',\n",
       " 'Employee_code_ID_stdev',\n",
       " 'Employee_code_ID_stdev',\n",
       " 'Employment.Type_Self employed',\n",
       " 'ltv_squared']"
      ]
     },
     "execution_count": 83,
     "metadata": {},
     "output_type": "execute_result"
    }
   ],
   "source": [
    "l2"
   ]
  },
  {
   "cell_type": "code",
   "execution_count": null,
   "metadata": {},
   "outputs": [],
   "source": [
    "predictorsictors"
   ]
  },
  {
   "cell_type": "code",
   "execution_count": null,
   "metadata": {},
   "outputs": [],
   "source": [
    "# Pass in the appropriate parameters\n",
    "fs.identify_zero_importance(task = 'classification', \n",
    "                            eval_metric = 'auc', \n",
    "                            n_iterations = 1, \n",
    "                             early_stopping = True)\n",
    "# list of zero importance features\n",
    "zero_importance_features = fs.ops['zero_importance']"
   ]
  },
  {
   "cell_type": "code",
   "execution_count": null,
   "metadata": {},
   "outputs": [],
   "source": [
    "fs.identify_low_importance(cumulative_importance = 0.99)"
   ]
  },
  {
   "cell_type": "code",
   "execution_count": null,
   "metadata": {},
   "outputs": [],
   "source": []
  },
  {
   "cell_type": "code",
   "execution_count": null,
   "metadata": {},
   "outputs": [],
   "source": []
  },
  {
   "cell_type": "code",
   "execution_count": null,
   "metadata": {},
   "outputs": [],
   "source": []
  },
  {
   "cell_type": "code",
   "execution_count": null,
   "metadata": {},
   "outputs": [],
   "source": []
  },
  {
   "cell_type": "code",
   "execution_count": null,
   "metadata": {},
   "outputs": [],
   "source": [
    "\n",
    "\n",
    "\n",
    "\n",
    "\n",
    "\n",
    "\n",
    "\n",
    "\n",
    "\n",
    "\n",
    " \n",
    "\n",
    "\n",
    "\n",
    "\n",
    "\n",
    "\n",
    "\n",
    "\n",
    "\n",
    "\n",
    "\n",
    "\n",
    "\n",
    "\n",
    "\n"
   ]
  },
  {
   "cell_type": "code",
   "execution_count": null,
   "metadata": {},
   "outputs": [],
   "source": []
  },
  {
   "cell_type": "code",
   "execution_count": null,
   "metadata": {},
   "outputs": [],
   "source": []
  },
  {
   "cell_type": "code",
   "execution_count": null,
   "metadata": {},
   "outputs": [],
   "source": []
  },
  {
   "cell_type": "code",
   "execution_count": null,
   "metadata": {},
   "outputs": [],
   "source": []
  }
 ],
 "metadata": {
  "kernelspec": {
   "display_name": "tensorflow",
   "language": "python",
   "name": "tensorflow"
  },
  "language_info": {
   "codemirror_mode": {
    "name": "ipython",
    "version": 3
   },
   "file_extension": ".py",
   "mimetype": "text/x-python",
   "name": "python",
   "nbconvert_exporter": "python",
   "pygments_lexer": "ipython3",
   "version": "3.6.8"
  }
 },
 "nbformat": 4,
 "nbformat_minor": 2
}
