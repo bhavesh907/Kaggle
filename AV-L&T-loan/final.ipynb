{
 "cells": [
  {
   "cell_type": "code",
   "execution_count": 1,
   "metadata": {},
   "outputs": [],
   "source": [
    "import pandas as pd\n",
    "import numpy as np\n",
    "import matplotlib.pyplot as plt"
   ]
  },
  {
   "cell_type": "code",
   "execution_count": 2,
   "metadata": {},
   "outputs": [],
   "source": [
    "train_df = pd.read_csv('/home/monster/Downloads/kaggle/AV-L&T-loan/train.csv')\n",
    "test_df = pd.read_csv('/home/monster/Downloads/kaggle/AV-L&T-loan/test.csv')\n",
    "sub_df = pd.read_csv('/home/monster/Downloads/kaggle/AV-L&T-loan/sample_submission.csv')"
   ]
  },
  {
   "cell_type": "code",
   "execution_count": 3,
   "metadata": {},
   "outputs": [
    {
     "data": {
      "text/plain": [
       "((233154, 41), (112392, 40))"
      ]
     },
     "execution_count": 3,
     "metadata": {},
     "output_type": "execute_result"
    }
   ],
   "source": [
    "train_df.shape,test_df.shape"
   ]
  },
  {
   "cell_type": "code",
   "execution_count": 4,
   "metadata": {},
   "outputs": [],
   "source": [
    "train_df['is_train'] = ''\n",
    "test_df['is_train'] = ''\n",
    "data = pd.DataFrame()\n",
    "train_df.loc[:,'is_train'] = 1\n",
    "test_df.loc[:,'is_train'] = 0\n",
    "data = data.append(train_df,sort=False).append(test_df,sort=False)"
   ]
  },
  {
   "cell_type": "code",
   "execution_count": 5,
   "metadata": {},
   "outputs": [],
   "source": [
    "data.reset_index(inplace=True)"
   ]
  },
  {
   "cell_type": "code",
   "execution_count": 6,
   "metadata": {},
   "outputs": [],
   "source": [
    "#Treat missing values\n",
    "#86 % values are no so it is safe to impute NO\n",
    "data['Employment.Type'].fillna('Self employed',inplace=True)"
   ]
  },
  {
   "cell_type": "code",
   "execution_count": 7,
   "metadata": {},
   "outputs": [
    {
     "data": {
      "text/plain": [
       "index                                       0\n",
       "UniqueID                                    0\n",
       "disbursed_amount                            0\n",
       "asset_cost                                  0\n",
       "ltv                                         0\n",
       "branch_id                                   0\n",
       "supplier_id                                 0\n",
       "manufacturer_id                             0\n",
       "Current_pincode_ID                          0\n",
       "Date.of.Birth                               0\n",
       "Employment.Type                             0\n",
       "DisbursalDate                               0\n",
       "State_ID                                    0\n",
       "Employee_code_ID                            0\n",
       "MobileNo_Avl_Flag                           0\n",
       "Aadhar_flag                                 0\n",
       "PAN_flag                                    0\n",
       "VoterID_flag                                0\n",
       "Driving_flag                                0\n",
       "Passport_flag                               0\n",
       "PERFORM_CNS.SCORE                           0\n",
       "PERFORM_CNS.SCORE.DESCRIPTION               0\n",
       "PRI.NO.OF.ACCTS                             0\n",
       "PRI.ACTIVE.ACCTS                            0\n",
       "PRI.OVERDUE.ACCTS                           0\n",
       "PRI.CURRENT.BALANCE                         0\n",
       "PRI.SANCTIONED.AMOUNT                       0\n",
       "PRI.DISBURSED.AMOUNT                        0\n",
       "SEC.NO.OF.ACCTS                             0\n",
       "SEC.ACTIVE.ACCTS                            0\n",
       "SEC.OVERDUE.ACCTS                           0\n",
       "SEC.CURRENT.BALANCE                         0\n",
       "SEC.SANCTIONED.AMOUNT                       0\n",
       "SEC.DISBURSED.AMOUNT                        0\n",
       "PRIMARY.INSTAL.AMT                          0\n",
       "SEC.INSTAL.AMT                              0\n",
       "NEW.ACCTS.IN.LAST.SIX.MONTHS                0\n",
       "DELINQUENT.ACCTS.IN.LAST.SIX.MONTHS         0\n",
       "AVERAGE.ACCT.AGE                            0\n",
       "CREDIT.HISTORY.LENGTH                       0\n",
       "NO.OF_INQUIRIES                             0\n",
       "loan_default                           112392\n",
       "is_train                                    0\n",
       "dtype: int64"
      ]
     },
     "execution_count": 7,
     "metadata": {},
     "output_type": "execute_result"
    }
   ],
   "source": [
    "data.apply(lambda x: sum(x.isnull()),axis=0)"
   ]
  },
  {
   "cell_type": "code",
   "execution_count": 8,
   "metadata": {},
   "outputs": [
    {
     "data": {
      "text/plain": [
       "((345546, 43), (233154, 42), (112392, 41))"
      ]
     },
     "execution_count": 8,
     "metadata": {},
     "output_type": "execute_result"
    }
   ],
   "source": [
    "data.shape,train_df.shape,test_df.shape"
   ]
  },
  {
   "cell_type": "code",
   "execution_count": 9,
   "metadata": {},
   "outputs": [],
   "source": [
    "#create mean and st dev features- leakage features\n",
    "ft_name = ['loan_default']\n",
    "var = ['branch_id','State_ID']\n",
    "fntouse = list([np.mean,np.sum])\n",
    "\n",
    "# temp2 = data.pivot_table(values='ltv',index=['Current_pincode_ID'],aggfunc=np.std)\n",
    "# # temp2.plot(kind='bar')\n",
    "# temp2.reset_index(inplace=True)\n",
    "# temp2.columns = ['Current_pincode_ID', 'ltv_stdev']\n",
    "for ftname in ft_name:\n",
    "    for fn2use in fntouse:\n",
    "        for var_name in var:\n",
    "            temp3 = train_df.pivot_table(values=ftname,index=[var_name],aggfunc=fn2use)\n",
    "            # temp2.plot(kind='bar')\n",
    "            temp3.reset_index(inplace=True)\n",
    "            temp3.columns = [var_name, var_name+'_'+ftname+'_'+str(fn2use).split(' ')[1]]\n",
    "            data = data.merge(temp3,on=var_name, how = 'left')\n",
    "    #         data[var_name+'_stdev'] = data[ftname]-data[var_name+'_'+ftname+'_mean']\n",
    "\n",
    "            # df = pd.concat([temp2,temp3],axis=1)"
   ]
  },
  {
   "cell_type": "code",
   "execution_count": 10,
   "metadata": {},
   "outputs": [
    {
     "data": {
      "text/plain": [
       "index                                       0\n",
       "UniqueID                                    0\n",
       "disbursed_amount                            0\n",
       "asset_cost                                  0\n",
       "ltv                                         0\n",
       "branch_id                                   0\n",
       "supplier_id                                 0\n",
       "manufacturer_id                             0\n",
       "Current_pincode_ID                          0\n",
       "Date.of.Birth                               0\n",
       "Employment.Type                             0\n",
       "DisbursalDate                               0\n",
       "State_ID                                    0\n",
       "Employee_code_ID                            0\n",
       "MobileNo_Avl_Flag                           0\n",
       "Aadhar_flag                                 0\n",
       "PAN_flag                                    0\n",
       "VoterID_flag                                0\n",
       "Driving_flag                                0\n",
       "Passport_flag                               0\n",
       "PERFORM_CNS.SCORE                           0\n",
       "PERFORM_CNS.SCORE.DESCRIPTION               0\n",
       "PRI.NO.OF.ACCTS                             0\n",
       "PRI.ACTIVE.ACCTS                            0\n",
       "PRI.OVERDUE.ACCTS                           0\n",
       "PRI.CURRENT.BALANCE                         0\n",
       "PRI.SANCTIONED.AMOUNT                       0\n",
       "PRI.DISBURSED.AMOUNT                        0\n",
       "SEC.NO.OF.ACCTS                             0\n",
       "SEC.ACTIVE.ACCTS                            0\n",
       "SEC.OVERDUE.ACCTS                           0\n",
       "SEC.CURRENT.BALANCE                         0\n",
       "SEC.SANCTIONED.AMOUNT                       0\n",
       "SEC.DISBURSED.AMOUNT                        0\n",
       "PRIMARY.INSTAL.AMT                          0\n",
       "SEC.INSTAL.AMT                              0\n",
       "NEW.ACCTS.IN.LAST.SIX.MONTHS                0\n",
       "DELINQUENT.ACCTS.IN.LAST.SIX.MONTHS         0\n",
       "AVERAGE.ACCT.AGE                            0\n",
       "CREDIT.HISTORY.LENGTH                       0\n",
       "NO.OF_INQUIRIES                             0\n",
       "loan_default                           112392\n",
       "is_train                                    0\n",
       "branch_id_loan_default_mean                 0\n",
       "State_ID_loan_default_mean                  0\n",
       "branch_id_loan_default_sum                  0\n",
       "State_ID_loan_default_sum                   0\n",
       "dtype: int64"
      ]
     },
     "execution_count": 10,
     "metadata": {},
     "output_type": "execute_result"
    }
   ],
   "source": [
    "data.apply(lambda x: sum(x.isnull()),axis=0)"
   ]
  },
  {
   "cell_type": "code",
   "execution_count": null,
   "metadata": {},
   "outputs": [],
   "source": [
    "data.columns"
   ]
  },
  {
   "cell_type": "code",
   "execution_count": null,
   "metadata": {},
   "outputs": [],
   "source": []
  },
  {
   "cell_type": "code",
   "execution_count": null,
   "metadata": {},
   "outputs": [],
   "source": []
  },
  {
   "cell_type": "code",
   "execution_count": 11,
   "metadata": {},
   "outputs": [],
   "source": [
    "data['CREDIT.HISTORY.LENGTH.YEARS'] = data['CREDIT.HISTORY.LENGTH'].map(lambda x : int(x.split(' ')[0][:-3]))"
   ]
  },
  {
   "cell_type": "code",
   "execution_count": 12,
   "metadata": {},
   "outputs": [],
   "source": [
    "data['CREDIT.HISTORY.LENGTH.MONTHS'] = data['CREDIT.HISTORY.LENGTH'].map(lambda x : int(x.split(' ')[1][:-3]))"
   ]
  },
  {
   "cell_type": "code",
   "execution_count": 13,
   "metadata": {},
   "outputs": [],
   "source": [
    "data['CREDIT.HISTORY.LENGTH.TOTMONS'] = data['CREDIT.HISTORY.LENGTH.MONTHS'] + np.dot(data['CREDIT.HISTORY.LENGTH.YEARS'],12)"
   ]
  },
  {
   "cell_type": "code",
   "execution_count": null,
   "metadata": {},
   "outputs": [],
   "source": []
  },
  {
   "cell_type": "code",
   "execution_count": 14,
   "metadata": {},
   "outputs": [],
   "source": [
    "data['AVERAGE.ACCT.AGE.YEARS'] = data['AVERAGE.ACCT.AGE'].map(lambda x : int(x.split(' ')[0][:-3]))\n",
    "\n",
    "data['AVERAGE.ACCT.AGE.MONTHS'] = data['AVERAGE.ACCT.AGE'].map(lambda x : int(x.split(' ')[1][:-3]))\n",
    "\n",
    "data['AVERAGE.ACCT.AGE.TOTMONS'] = data['AVERAGE.ACCT.AGE.MONTHS'] + np.dot(data['AVERAGE.ACCT.AGE.YEARS'],12)"
   ]
  },
  {
   "cell_type": "code",
   "execution_count": 15,
   "metadata": {},
   "outputs": [
    {
     "data": {
      "text/plain": [
       "'01-01-84'"
      ]
     },
     "execution_count": 15,
     "metadata": {},
     "output_type": "execute_result"
    }
   ],
   "source": [
    "data['Date.of.Birth'][0]"
   ]
  },
  {
   "cell_type": "code",
   "execution_count": 16,
   "metadata": {},
   "outputs": [],
   "source": [
    "data['Date.of.Birth.YEAR'] = data['Date.of.Birth'].map(lambda x : int(x.split('-')[2]))"
   ]
  },
  {
   "cell_type": "code",
   "execution_count": 17,
   "metadata": {},
   "outputs": [
    {
     "data": {
      "text/plain": [
       "874     16-07-00\n",
       "1300    05-03-00\n",
       "1864    01-01-00\n",
       "1872    18-08-00\n",
       "1874    01-01-00\n",
       "Name: Date.of.Birth, dtype: object"
      ]
     },
     "execution_count": 17,
     "metadata": {},
     "output_type": "execute_result"
    }
   ],
   "source": [
    "data.loc[data['Date.of.Birth.YEAR']==0,'Date.of.Birth'].head()"
   ]
  },
  {
   "cell_type": "code",
   "execution_count": 18,
   "metadata": {},
   "outputs": [],
   "source": [
    "data['Date.of.Birth.YEAR.conv'] = ''"
   ]
  },
  {
   "cell_type": "code",
   "execution_count": 19,
   "metadata": {},
   "outputs": [],
   "source": [
    "data.loc[data['Date.of.Birth.YEAR']==0,'Date.of.Birth.YEAR.conv'] = 2000"
   ]
  },
  {
   "cell_type": "code",
   "execution_count": 20,
   "metadata": {},
   "outputs": [],
   "source": [
    "data.loc[data['Date.of.Birth.YEAR']>0,'Date.of.Birth.YEAR.conv'] = data.loc[data['Date.of.Birth.YEAR']>0,'Date.of.Birth.YEAR']+1900"
   ]
  },
  {
   "cell_type": "code",
   "execution_count": 21,
   "metadata": {},
   "outputs": [],
   "source": [
    "data['Date.of.Birth.AGE'] = ''\n",
    "\n",
    "data['Date.of.Birth.AGE'] = 2019 - data.loc[:,'Date.of.Birth.YEAR.conv']"
   ]
  },
  {
   "cell_type": "code",
   "execution_count": null,
   "metadata": {},
   "outputs": [],
   "source": [
    "#st dev and mean of ltv feature"
   ]
  },
  {
   "cell_type": "code",
   "execution_count": null,
   "metadata": {},
   "outputs": [],
   "source": []
  },
  {
   "cell_type": "code",
   "execution_count": null,
   "metadata": {},
   "outputs": [],
   "source": [
    "temp2 = data.pivot_table(values='loan_default',index=['branch_id'],aggfunc=np.mean)\n",
    "# print('Frequency Table for Credit History:') \n",
    "# print(temp2)\n",
    "\n",
    "# fig = plt.figure(figsize=(8,4))\n",
    "# ax1 = fig.add_subplot(121)\n",
    "# ax1.set_xlabel('Credit_History')\n",
    "# ax1.set_ylabel('Count of Applicants')\n",
    "# ax1.set_title(\"Applicants by Credit_History\")\n",
    "temp2.plot(kind='bar')\n",
    "\n"
   ]
  },
  {
   "cell_type": "code",
   "execution_count": 22,
   "metadata": {},
   "outputs": [],
   "source": [
    "#create mean and st dev features\n",
    "\n",
    "\n",
    "ft_name = ['disbursed_amount','asset_cost','ltv','PERFORM_CNS.SCORE','PRIMARY.INSTAL.AMT']\n",
    "\n",
    "\n",
    "#All 208 features - aggregated\n",
    "\n",
    "# ft_name = ['disbursed_amount','asset_cost','ltv','PERFORM_CNS.SCORE','PRIMARY.INSTAL.AMT',\n",
    "#            'PRI.NO.OF.ACCTS', 'PRI.ACTIVE.ACCTS',\n",
    "#        'PRI.OVERDUE.ACCTS', 'PRI.CURRENT.BALANCE', 'PRI.SANCTIONED.AMOUNT',\n",
    "#        'PRI.DISBURSED.AMOUNT', 'SEC.NO.OF.ACCTS', 'SEC.ACTIVE.ACCTS',\n",
    "#        'SEC.OVERDUE.ACCTS', 'SEC.CURRENT.BALANCE', 'SEC.SANCTIONED.AMOUNT',\n",
    "#        'SEC.DISBURSED.AMOUNT', 'SEC.INSTAL.AMT',\n",
    "#        'NEW.ACCTS.IN.LAST.SIX.MONTHS', 'DELINQUENT.ACCTS.IN.LAST.SIX.MONTHS',]\n",
    "\n",
    "\n",
    "    \n",
    "var = ['Current_pincode_ID','branch_id','supplier_id','manufacturer_id','State_ID','Employee_code_ID']\n",
    "# temp2 = data.pivot_table(values='ltv',index=['Current_pincode_ID'],aggfunc=np.std)\n",
    "# # temp2.plot(kind='bar')\n",
    "# temp2.reset_index(inplace=True)\n",
    "# temp2.columns = ['Current_pincode_ID', 'ltv_stdev']\n",
    "for ftname in ft_name:\n",
    "    for var_name in var:\n",
    "        temp3 = data.pivot_table(values=ftname,index=[var_name],aggfunc=np.mean)\n",
    "        # temp2.plot(kind='bar')\n",
    "        temp3.reset_index(inplace=True)\n",
    "        temp3.columns = [var_name, var_name+'_'+ftname+'_mean']\n",
    "        data = data.merge(temp3,on=var_name, how = 'left')\n",
    "        data[var_name+'_stdev'] = data[ftname]-data[var_name+'_'+ftname+'_mean']\n",
    "\n",
    "        # df = pd.concat([temp2,temp3],axis=1)"
   ]
  },
  {
   "cell_type": "code",
   "execution_count": null,
   "metadata": {},
   "outputs": [],
   "source": [
    "# data = data.merge(temp3,on='Current_pincode_ID', how = 'left')"
   ]
  },
  {
   "cell_type": "code",
   "execution_count": null,
   "metadata": {},
   "outputs": [],
   "source": [
    "# data['ltv_stdev'] = data['ltv']-data['ltv_mean']"
   ]
  },
  {
   "cell_type": "code",
   "execution_count": null,
   "metadata": {},
   "outputs": [],
   "source": []
  },
  {
   "cell_type": "code",
   "execution_count": null,
   "metadata": {},
   "outputs": [],
   "source": []
  },
  {
   "cell_type": "code",
   "execution_count": null,
   "metadata": {},
   "outputs": [],
   "source": []
  },
  {
   "cell_type": "code",
   "execution_count": 23,
   "metadata": {},
   "outputs": [],
   "source": [
    "data['PERFORM_CNS.SCORE.DESCRIPTION'] = data['PERFORM_CNS.SCORE.DESCRIPTION'].replace(' ', '_', regex=True)"
   ]
  },
  {
   "cell_type": "code",
   "execution_count": 24,
   "metadata": {},
   "outputs": [],
   "source": [
    "#treat categorical variables\n",
    "from sklearn.preprocessing import OneHotEncoder\n",
    "\n",
    "d = pd.DataFrame()\n",
    "\n",
    "var_mod = ['Employment.Type','PERFORM_CNS.SCORE.DESCRIPTION']\n",
    "\n",
    "x = pd.get_dummies(data[var_mod])\n",
    "\n",
    "data  = data.drop(var_mod,axis=1)\n",
    "data = pd.concat([data,x], axis=1)\n",
    "    \n",
    "# for i in var_mod:\n",
    "#     print(i)\n",
    "# #     d[str(i)] \n",
    "#     dd = le.fit_transform(data.loc[:,i]).toarray()\n",
    "#     print(dd.shape)\n",
    "# d.dtypes\n"
   ]
  },
  {
   "cell_type": "code",
   "execution_count": 25,
   "metadata": {},
   "outputs": [
    {
     "data": {
      "text/plain": [
       "(345546, 112)"
      ]
     },
     "execution_count": 25,
     "metadata": {},
     "output_type": "execute_result"
    }
   ],
   "source": [
    "data.shape"
   ]
  },
  {
   "cell_type": "code",
   "execution_count": 26,
   "metadata": {},
   "outputs": [
    {
     "data": {
      "image/png": "[encoded data removed]",
      "text/plain": [
       "<Figure size 432x288 with 1 Axes>"
      ]
     },
     "metadata": {
      "needs_background": "light"
     },
     "output_type": "display_data"
    }
   ],
   "source": [
    "data['ltv'].hist(bins=50)\n",
    "plt.show()"
   ]
  },
  {
   "cell_type": "code",
   "execution_count": null,
   "metadata": {},
   "outputs": [],
   "source": [
    "(data['ltv']**2).hist(bins=50)\n",
    "plt.show()"
   ]
  },
  {
   "cell_type": "code",
   "execution_count": null,
   "metadata": {},
   "outputs": [],
   "source": [
    "(data['ltv']**1/3).hist(bins=50)\n",
    "plt.show()"
   ]
  },
  {
   "cell_type": "code",
   "execution_count": 27,
   "metadata": {},
   "outputs": [],
   "source": [
    "data['log_disbursed_amount'] = np.log(data['disbursed_amount'])\n",
    "data['log_asset_cost'] = np.log(data['asset_cost'])"
   ]
  },
  {
   "cell_type": "code",
   "execution_count": 28,
   "metadata": {},
   "outputs": [],
   "source": [
    "data['ltv_squared'] = data['ltv']**2\n",
    "data['log_ltv'] = np.log(data['ltv'])"
   ]
  },
  {
   "cell_type": "code",
   "execution_count": null,
   "metadata": {},
   "outputs": [],
   "source": []
  },
  {
   "cell_type": "code",
   "execution_count": 29,
   "metadata": {},
   "outputs": [],
   "source": [
    "data['DisbursalDate_month'] = data['DisbursalDate'].map(lambda x : int(x.split('-')[1]))\n",
    "data['DisbursalDate_dayofmonth'] = data['DisbursalDate'].map(lambda x : int(x.split('-')[0]))"
   ]
  },
  {
   "cell_type": "code",
   "execution_count": null,
   "metadata": {},
   "outputs": [],
   "source": []
  },
  {
   "cell_type": "code",
   "execution_count": null,
   "metadata": {},
   "outputs": [],
   "source": [
    "type(data['AVERAGE.ACCT.AGE'][0])"
   ]
  },
  {
   "cell_type": "code",
   "execution_count": null,
   "metadata": {},
   "outputs": [],
   "source": [
    "type(data['CREDIT.HISTORY.LENGTH'][0])"
   ]
  },
  {
   "cell_type": "code",
   "execution_count": 30,
   "metadata": {},
   "outputs": [],
   "source": [
    "train_df = data.loc[data['is_train']==1,:]\n",
    "train_df = train_df.drop(['is_train'],axis=1)"
   ]
  },
  {
   "cell_type": "code",
   "execution_count": 31,
   "metadata": {},
   "outputs": [],
   "source": [
    "test_df = data.loc[data['is_train']==0,:]\n",
    "test_df = test_df.drop(['is_train','loan_default'],axis=1)"
   ]
  },
  {
   "cell_type": "code",
   "execution_count": 32,
   "metadata": {},
   "outputs": [
    {
     "data": {
      "text/plain": [
       "index                                                                                    0\n",
       "UniqueID                                                                                 0\n",
       "disbursed_amount                                                                         0\n",
       "asset_cost                                                                               0\n",
       "ltv                                                                                      0\n",
       "branch_id                                                                                0\n",
       "supplier_id                                                                              0\n",
       "manufacturer_id                                                                          0\n",
       "Current_pincode_ID                                                                       0\n",
       "Date.of.Birth                                                                            0\n",
       "DisbursalDate                                                                            0\n",
       "State_ID                                                                                 0\n",
       "Employee_code_ID                                                                         0\n",
       "MobileNo_Avl_Flag                                                                        0\n",
       "Aadhar_flag                                                                              0\n",
       "PAN_flag                                                                                 0\n",
       "VoterID_flag                                                                             0\n",
       "Driving_flag                                                                             0\n",
       "Passport_flag                                                                            0\n",
       "PERFORM_CNS.SCORE                                                                        0\n",
       "PRI.NO.OF.ACCTS                                                                          0\n",
       "PRI.ACTIVE.ACCTS                                                                         0\n",
       "PRI.OVERDUE.ACCTS                                                                        0\n",
       "PRI.CURRENT.BALANCE                                                                      0\n",
       "PRI.SANCTIONED.AMOUNT                                                                    0\n",
       "PRI.DISBURSED.AMOUNT                                                                     0\n",
       "SEC.NO.OF.ACCTS                                                                          0\n",
       "SEC.ACTIVE.ACCTS                                                                         0\n",
       "SEC.OVERDUE.ACCTS                                                                        0\n",
       "SEC.CURRENT.BALANCE                                                                      0\n",
       "                                                                                        ..\n",
       "State_ID_PRIMARY.INSTAL.AMT_mean                                                         0\n",
       "Employee_code_ID_PRIMARY.INSTAL.AMT_mean                                                 0\n",
       "Employment.Type_Salaried                                                                 0\n",
       "Employment.Type_Self employed                                                            0\n",
       "PERFORM_CNS.SCORE.DESCRIPTION_A-Very_Low_Risk                                            0\n",
       "PERFORM_CNS.SCORE.DESCRIPTION_B-Very_Low_Risk                                            0\n",
       "PERFORM_CNS.SCORE.DESCRIPTION_C-Very_Low_Risk                                            0\n",
       "PERFORM_CNS.SCORE.DESCRIPTION_D-Very_Low_Risk                                            0\n",
       "PERFORM_CNS.SCORE.DESCRIPTION_E-Low_Risk                                                 0\n",
       "PERFORM_CNS.SCORE.DESCRIPTION_F-Low_Risk                                                 0\n",
       "PERFORM_CNS.SCORE.DESCRIPTION_G-Low_Risk                                                 0\n",
       "PERFORM_CNS.SCORE.DESCRIPTION_H-Medium_Risk                                              0\n",
       "PERFORM_CNS.SCORE.DESCRIPTION_I-Medium_Risk                                              0\n",
       "PERFORM_CNS.SCORE.DESCRIPTION_J-High_Risk                                                0\n",
       "PERFORM_CNS.SCORE.DESCRIPTION_K-High_Risk                                                0\n",
       "PERFORM_CNS.SCORE.DESCRIPTION_L-Very_High_Risk                                           0\n",
       "PERFORM_CNS.SCORE.DESCRIPTION_M-Very_High_Risk                                           0\n",
       "PERFORM_CNS.SCORE.DESCRIPTION_No_Bureau_History_Available                                0\n",
       "PERFORM_CNS.SCORE.DESCRIPTION_Not_Scored:_More_than_50_active_Accounts_found             0\n",
       "PERFORM_CNS.SCORE.DESCRIPTION_Not_Scored:_No_Activity_seen_on_the_customer_(Inactive)    0\n",
       "PERFORM_CNS.SCORE.DESCRIPTION_Not_Scored:_No_Updates_available_in_last_36_months         0\n",
       "PERFORM_CNS.SCORE.DESCRIPTION_Not_Scored:_Not_Enough_Info_available_on_the_customer      0\n",
       "PERFORM_CNS.SCORE.DESCRIPTION_Not_Scored:_Only_a_Guarantor                               0\n",
       "PERFORM_CNS.SCORE.DESCRIPTION_Not_Scored:_Sufficient_History_Not_Available               0\n",
       "log_disbursed_amount                                                                     0\n",
       "log_asset_cost                                                                           0\n",
       "ltv_squared                                                                              0\n",
       "log_ltv                                                                                  0\n",
       "DisbursalDate_month                                                                      0\n",
       "DisbursalDate_dayofmonth                                                                 0\n",
       "Length: 117, dtype: int64"
      ]
     },
     "execution_count": 32,
     "metadata": {},
     "output_type": "execute_result"
    }
   ],
   "source": [
    "train_df.apply(lambda x: sum(x.isnull()),axis=0)"
   ]
  },
  {
   "cell_type": "code",
   "execution_count": null,
   "metadata": {},
   "outputs": [],
   "source": [
    "test_df.apply(lambda x: sum(x.isnull()),axis=0)"
   ]
  },
  {
   "cell_type": "code",
   "execution_count": 33,
   "metadata": {},
   "outputs": [
    {
     "data": {
      "text/plain": [
       "((233154, 117), (112392, 116))"
      ]
     },
     "execution_count": 33,
     "metadata": {},
     "output_type": "execute_result"
    }
   ],
   "source": [
    "train_df.shape,test_df.shape"
   ]
  },
  {
   "cell_type": "code",
   "execution_count": 34,
   "metadata": {},
   "outputs": [
    {
     "data": {
      "text/plain": [
       "['index',\n",
       " 'UniqueID',\n",
       " 'disbursed_amount',\n",
       " 'asset_cost',\n",
       " 'ltv',\n",
       " 'branch_id',\n",
       " 'supplier_id',\n",
       " 'manufacturer_id',\n",
       " 'Current_pincode_ID',\n",
       " 'Date.of.Birth',\n",
       " 'DisbursalDate',\n",
       " 'State_ID',\n",
       " 'Employee_code_ID',\n",
       " 'MobileNo_Avl_Flag',\n",
       " 'Aadhar_flag',\n",
       " 'PAN_flag',\n",
       " 'VoterID_flag',\n",
       " 'Driving_flag',\n",
       " 'Passport_flag',\n",
       " 'PERFORM_CNS.SCORE',\n",
       " 'PRI.NO.OF.ACCTS',\n",
       " 'PRI.ACTIVE.ACCTS',\n",
       " 'PRI.OVERDUE.ACCTS',\n",
       " 'PRI.CURRENT.BALANCE',\n",
       " 'PRI.SANCTIONED.AMOUNT',\n",
       " 'PRI.DISBURSED.AMOUNT',\n",
       " 'SEC.NO.OF.ACCTS',\n",
       " 'SEC.ACTIVE.ACCTS',\n",
       " 'SEC.OVERDUE.ACCTS',\n",
       " 'SEC.CURRENT.BALANCE',\n",
       " 'SEC.SANCTIONED.AMOUNT',\n",
       " 'SEC.DISBURSED.AMOUNT',\n",
       " 'PRIMARY.INSTAL.AMT',\n",
       " 'SEC.INSTAL.AMT',\n",
       " 'NEW.ACCTS.IN.LAST.SIX.MONTHS',\n",
       " 'DELINQUENT.ACCTS.IN.LAST.SIX.MONTHS',\n",
       " 'AVERAGE.ACCT.AGE',\n",
       " 'CREDIT.HISTORY.LENGTH',\n",
       " 'NO.OF_INQUIRIES',\n",
       " 'loan_default',\n",
       " 'branch_id_loan_default_mean',\n",
       " 'State_ID_loan_default_mean',\n",
       " 'branch_id_loan_default_sum',\n",
       " 'State_ID_loan_default_sum',\n",
       " 'CREDIT.HISTORY.LENGTH.YEARS',\n",
       " 'CREDIT.HISTORY.LENGTH.MONTHS',\n",
       " 'CREDIT.HISTORY.LENGTH.TOTMONS',\n",
       " 'AVERAGE.ACCT.AGE.YEARS',\n",
       " 'AVERAGE.ACCT.AGE.MONTHS',\n",
       " 'AVERAGE.ACCT.AGE.TOTMONS',\n",
       " 'Date.of.Birth.YEAR',\n",
       " 'Date.of.Birth.YEAR.conv',\n",
       " 'Date.of.Birth.AGE',\n",
       " 'Current_pincode_ID_disbursed_amount_mean',\n",
       " 'Current_pincode_ID_stdev',\n",
       " 'branch_id_disbursed_amount_mean',\n",
       " 'branch_id_stdev',\n",
       " 'supplier_id_disbursed_amount_mean',\n",
       " 'supplier_id_stdev',\n",
       " 'manufacturer_id_disbursed_amount_mean',\n",
       " 'manufacturer_id_stdev',\n",
       " 'State_ID_disbursed_amount_mean',\n",
       " 'State_ID_stdev',\n",
       " 'Employee_code_ID_disbursed_amount_mean',\n",
       " 'Employee_code_ID_stdev',\n",
       " 'Current_pincode_ID_asset_cost_mean',\n",
       " 'branch_id_asset_cost_mean',\n",
       " 'supplier_id_asset_cost_mean',\n",
       " 'manufacturer_id_asset_cost_mean',\n",
       " 'State_ID_asset_cost_mean',\n",
       " 'Employee_code_ID_asset_cost_mean',\n",
       " 'Current_pincode_ID_ltv_mean',\n",
       " 'branch_id_ltv_mean',\n",
       " 'supplier_id_ltv_mean',\n",
       " 'manufacturer_id_ltv_mean',\n",
       " 'State_ID_ltv_mean',\n",
       " 'Employee_code_ID_ltv_mean',\n",
       " 'Current_pincode_ID_PERFORM_CNS.SCORE_mean',\n",
       " 'branch_id_PERFORM_CNS.SCORE_mean',\n",
       " 'supplier_id_PERFORM_CNS.SCORE_mean',\n",
       " 'manufacturer_id_PERFORM_CNS.SCORE_mean',\n",
       " 'State_ID_PERFORM_CNS.SCORE_mean',\n",
       " 'Employee_code_ID_PERFORM_CNS.SCORE_mean',\n",
       " 'Current_pincode_ID_PRIMARY.INSTAL.AMT_mean',\n",
       " 'branch_id_PRIMARY.INSTAL.AMT_mean',\n",
       " 'supplier_id_PRIMARY.INSTAL.AMT_mean',\n",
       " 'manufacturer_id_PRIMARY.INSTAL.AMT_mean',\n",
       " 'State_ID_PRIMARY.INSTAL.AMT_mean',\n",
       " 'Employee_code_ID_PRIMARY.INSTAL.AMT_mean',\n",
       " 'Employment.Type_Salaried',\n",
       " 'Employment.Type_Self employed',\n",
       " 'PERFORM_CNS.SCORE.DESCRIPTION_A-Very_Low_Risk',\n",
       " 'PERFORM_CNS.SCORE.DESCRIPTION_B-Very_Low_Risk',\n",
       " 'PERFORM_CNS.SCORE.DESCRIPTION_C-Very_Low_Risk',\n",
       " 'PERFORM_CNS.SCORE.DESCRIPTION_D-Very_Low_Risk',\n",
       " 'PERFORM_CNS.SCORE.DESCRIPTION_E-Low_Risk',\n",
       " 'PERFORM_CNS.SCORE.DESCRIPTION_F-Low_Risk',\n",
       " 'PERFORM_CNS.SCORE.DESCRIPTION_G-Low_Risk',\n",
       " 'PERFORM_CNS.SCORE.DESCRIPTION_H-Medium_Risk',\n",
       " 'PERFORM_CNS.SCORE.DESCRIPTION_I-Medium_Risk',\n",
       " 'PERFORM_CNS.SCORE.DESCRIPTION_J-High_Risk',\n",
       " 'PERFORM_CNS.SCORE.DESCRIPTION_K-High_Risk',\n",
       " 'PERFORM_CNS.SCORE.DESCRIPTION_L-Very_High_Risk',\n",
       " 'PERFORM_CNS.SCORE.DESCRIPTION_M-Very_High_Risk',\n",
       " 'PERFORM_CNS.SCORE.DESCRIPTION_No_Bureau_History_Available',\n",
       " 'PERFORM_CNS.SCORE.DESCRIPTION_Not_Scored:_More_than_50_active_Accounts_found',\n",
       " 'PERFORM_CNS.SCORE.DESCRIPTION_Not_Scored:_No_Activity_seen_on_the_customer_(Inactive)',\n",
       " 'PERFORM_CNS.SCORE.DESCRIPTION_Not_Scored:_No_Updates_available_in_last_36_months',\n",
       " 'PERFORM_CNS.SCORE.DESCRIPTION_Not_Scored:_Not_Enough_Info_available_on_the_customer',\n",
       " 'PERFORM_CNS.SCORE.DESCRIPTION_Not_Scored:_Only_a_Guarantor',\n",
       " 'PERFORM_CNS.SCORE.DESCRIPTION_Not_Scored:_Sufficient_History_Not_Available',\n",
       " 'log_disbursed_amount',\n",
       " 'log_asset_cost',\n",
       " 'ltv_squared',\n",
       " 'log_ltv',\n",
       " 'DisbursalDate_month',\n",
       " 'DisbursalDate_dayofmonth']"
      ]
     },
     "execution_count": 34,
     "metadata": {},
     "output_type": "execute_result"
    }
   ],
   "source": [
    "list(train_df.columns)"
   ]
  },
  {
   "cell_type": "code",
   "execution_count": 38,
   "metadata": {},
   "outputs": [],
   "source": [
    "predictors = [\n",
    " 'disbursed_amount',\n",
    " 'asset_cost',\n",
    " 'ltv',\n",
    " 'branch_id',\n",
    " 'supplier_id',\n",
    " 'manufacturer_id',\n",
    " 'Current_pincode_ID',\n",
    " 'State_ID',\n",
    " 'Employee_code_ID',\n",
    " 'MobileNo_Avl_Flag',\n",
    " 'Aadhar_flag',\n",
    " 'PAN_flag',\n",
    " 'VoterID_flag',\n",
    " 'Driving_flag',\n",
    " 'Passport_flag',\n",
    " 'PERFORM_CNS.SCORE',\n",
    " 'PRI.NO.OF.ACCTS',\n",
    " 'PRI.ACTIVE.ACCTS',\n",
    " 'PRI.OVERDUE.ACCTS',\n",
    " 'PRI.CURRENT.BALANCE',\n",
    " 'PRI.SANCTIONED.AMOUNT',\n",
    " 'PRI.DISBURSED.AMOUNT',\n",
    " 'SEC.NO.OF.ACCTS',\n",
    " 'SEC.ACTIVE.ACCTS',\n",
    " 'SEC.OVERDUE.ACCTS',\n",
    " 'SEC.CURRENT.BALANCE',\n",
    " 'SEC.SANCTIONED.AMOUNT',\n",
    " 'SEC.DISBURSED.AMOUNT',\n",
    " 'PRIMARY.INSTAL.AMT',\n",
    " 'SEC.INSTAL.AMT',\n",
    " 'NEW.ACCTS.IN.LAST.SIX.MONTHS',\n",
    " 'DELINQUENT.ACCTS.IN.LAST.SIX.MONTHS',\n",
    " 'NO.OF_INQUIRIES',\n",
    " 'branch_id_loan_default_mean',\n",
    " 'State_ID_loan_default_mean',\n",
    " 'branch_id_loan_default_sum',\n",
    " 'State_ID_loan_default_sum',\n",
    " 'CREDIT.HISTORY.LENGTH.YEARS',\n",
    " 'CREDIT.HISTORY.LENGTH.MONTHS',\n",
    " 'CREDIT.HISTORY.LENGTH.TOTMONS',\n",
    " 'AVERAGE.ACCT.AGE.YEARS',\n",
    " 'AVERAGE.ACCT.AGE.MONTHS',\n",
    " 'AVERAGE.ACCT.AGE.TOTMONS',\n",
    " 'Date.of.Birth.YEAR',\n",
    " 'Date.of.Birth.YEAR.conv',\n",
    " 'Date.of.Birth.AGE',\n",
    " 'Current_pincode_ID_disbursed_amount_mean',\n",
    " 'Current_pincode_ID_stdev',\n",
    " 'branch_id_disbursed_amount_mean',\n",
    " 'branch_id_stdev',\n",
    " 'supplier_id_disbursed_amount_mean',\n",
    " 'supplier_id_stdev',\n",
    " 'manufacturer_id_disbursed_amount_mean',\n",
    " 'manufacturer_id_stdev',\n",
    " 'State_ID_disbursed_amount_mean',\n",
    " 'State_ID_stdev',\n",
    " 'Employee_code_ID_disbursed_amount_mean',\n",
    " 'Employee_code_ID_stdev',\n",
    " 'Current_pincode_ID_asset_cost_mean',\n",
    " 'branch_id_asset_cost_mean',\n",
    " 'supplier_id_asset_cost_mean',\n",
    " 'manufacturer_id_asset_cost_mean',\n",
    " 'State_ID_asset_cost_mean',\n",
    " 'Employee_code_ID_asset_cost_mean',\n",
    " 'Current_pincode_ID_ltv_mean',\n",
    " 'branch_id_ltv_mean',\n",
    " 'supplier_id_ltv_mean',\n",
    " 'manufacturer_id_ltv_mean',\n",
    " 'State_ID_ltv_mean',\n",
    " 'Employee_code_ID_ltv_mean',\n",
    " 'Current_pincode_ID_PERFORM_CNS.SCORE_mean',\n",
    " 'branch_id_PERFORM_CNS.SCORE_mean',\n",
    " 'supplier_id_PERFORM_CNS.SCORE_mean',\n",
    " 'manufacturer_id_PERFORM_CNS.SCORE_mean',\n",
    " 'State_ID_PERFORM_CNS.SCORE_mean',\n",
    " 'Employee_code_ID_PERFORM_CNS.SCORE_mean',\n",
    " 'Current_pincode_ID_PRIMARY.INSTAL.AMT_mean',\n",
    " 'branch_id_PRIMARY.INSTAL.AMT_mean',\n",
    " 'supplier_id_PRIMARY.INSTAL.AMT_mean',\n",
    " 'manufacturer_id_PRIMARY.INSTAL.AMT_mean',\n",
    " 'State_ID_PRIMARY.INSTAL.AMT_mean',\n",
    " 'Employee_code_ID_PRIMARY.INSTAL.AMT_mean',\n",
    " 'Employment.Type_Salaried',\n",
    " 'Employment.Type_Self employed',\n",
    " 'PERFORM_CNS.SCORE.DESCRIPTION_A-Very_Low_Risk',\n",
    " 'PERFORM_CNS.SCORE.DESCRIPTION_B-Very_Low_Risk',\n",
    " 'PERFORM_CNS.SCORE.DESCRIPTION_C-Very_Low_Risk',\n",
    " 'PERFORM_CNS.SCORE.DESCRIPTION_D-Very_Low_Risk',\n",
    " 'PERFORM_CNS.SCORE.DESCRIPTION_E-Low_Risk',\n",
    " 'PERFORM_CNS.SCORE.DESCRIPTION_F-Low_Risk',\n",
    " 'PERFORM_CNS.SCORE.DESCRIPTION_G-Low_Risk',\n",
    " 'PERFORM_CNS.SCORE.DESCRIPTION_H-Medium_Risk',\n",
    " 'PERFORM_CNS.SCORE.DESCRIPTION_I-Medium_Risk',\n",
    " 'PERFORM_CNS.SCORE.DESCRIPTION_J-High_Risk',\n",
    " 'PERFORM_CNS.SCORE.DESCRIPTION_K-High_Risk',\n",
    " 'PERFORM_CNS.SCORE.DESCRIPTION_L-Very_High_Risk',\n",
    " 'PERFORM_CNS.SCORE.DESCRIPTION_M-Very_High_Risk',\n",
    " 'PERFORM_CNS.SCORE.DESCRIPTION_No_Bureau_History_Available',\n",
    " 'PERFORM_CNS.SCORE.DESCRIPTION_Not_Scored:_More_than_50_active_Accounts_found',\n",
    " 'PERFORM_CNS.SCORE.DESCRIPTION_Not_Scored:_No_Activity_seen_on_the_customer_(Inactive)',\n",
    " 'PERFORM_CNS.SCORE.DESCRIPTION_Not_Scored:_No_Updates_available_in_last_36_months',\n",
    " 'PERFORM_CNS.SCORE.DESCRIPTION_Not_Scored:_Not_Enough_Info_available_on_the_customer',\n",
    " 'PERFORM_CNS.SCORE.DESCRIPTION_Not_Scored:_Only_a_Guarantor',\n",
    " 'PERFORM_CNS.SCORE.DESCRIPTION_Not_Scored:_Sufficient_History_Not_Available',\n",
    " 'log_disbursed_amount',\n",
    " 'log_asset_cost',\n",
    " 'ltv_squared',\n",
    " 'log_ltv',\n",
    " 'DisbursalDate_month',\n",
    " 'DisbursalDate_dayofmonth']"
   ]
  },
  {
   "cell_type": "code",
   "execution_count": 36,
   "metadata": {},
   "outputs": [],
   "source": [
    "\n",
    "##Single best model predictors\n",
    "\n",
    "\n",
    "\n",
    "# predictors = ['disbursed_amount', 'asset_cost', 'ltv',\n",
    "#        'branch_id', 'supplier_id', 'manufacturer_id', 'Current_pincode_ID',\n",
    "#        'State_ID', 'Employee_code_ID',\n",
    "#        'MobileNo_Avl_Flag', 'Aadhar_flag', 'PAN_flag', 'VoterID_flag',\n",
    "#        'Driving_flag', 'Passport_flag', 'PERFORM_CNS.SCORE', 'PRI.NO.OF.ACCTS',\n",
    "#        'PRI.ACTIVE.ACCTS', 'PRI.OVERDUE.ACCTS', 'PRI.CURRENT.BALANCE',\n",
    "#        'PRI.SANCTIONED.AMOUNT', 'PRI.DISBURSED.AMOUNT', 'SEC.NO.OF.ACCTS',\n",
    "#        'SEC.ACTIVE.ACCTS', 'SEC.OVERDUE.ACCTS', 'SEC.CURRENT.BALANCE',\n",
    "#        'SEC.SANCTIONED.AMOUNT', 'SEC.DISBURSED.AMOUNT', 'PRIMARY.INSTAL.AMT',\n",
    "#        'SEC.INSTAL.AMT', 'NEW.ACCTS.IN.LAST.SIX.MONTHS',\n",
    "#        'DELINQUENT.ACCTS.IN.LAST.SIX.MONTHS', 'NO.OF_INQUIRIES',\n",
    "#        'CREDIT.HISTORY.LENGTH.YEARS', 'CREDIT.HISTORY.LENGTH.MONTHS',\n",
    "#        'CREDIT.HISTORY.LENGTH.TOTMONS', 'AVERAGE.ACCT.AGE.YEARS',\n",
    "#        'AVERAGE.ACCT.AGE.MONTHS', 'AVERAGE.ACCT.AGE.TOTMONS',\n",
    "#        'Date.of.Birth.YEAR', 'Date.of.Birth.YEAR.conv', 'Date.of.Birth.AGE',\n",
    "#        'Employment.Type_Salaried', 'Employment.Type_Self employed',\n",
    "#        'PERFORM_CNS.SCORE.DESCRIPTION_A-Very_Low_Risk',\n",
    "#        'PERFORM_CNS.SCORE.DESCRIPTION_B-Very_Low_Risk',\n",
    "#        'PERFORM_CNS.SCORE.DESCRIPTION_C-Very_Low_Risk',\n",
    "#        'PERFORM_CNS.SCORE.DESCRIPTION_D-Very_Low_Risk',\n",
    "#        'PERFORM_CNS.SCORE.DESCRIPTION_E-Low_Risk',\n",
    "#        'PERFORM_CNS.SCORE.DESCRIPTION_F-Low_Risk',\n",
    "#        'PERFORM_CNS.SCORE.DESCRIPTION_G-Low_Risk',\n",
    "#        'PERFORM_CNS.SCORE.DESCRIPTION_H-Medium_Risk',\n",
    "#        'PERFORM_CNS.SCORE.DESCRIPTION_I-Medium_Risk',\n",
    "#        'PERFORM_CNS.SCORE.DESCRIPTION_J-High_Risk',\n",
    "#        'PERFORM_CNS.SCORE.DESCRIPTION_K-High_Risk',\n",
    "#        'PERFORM_CNS.SCORE.DESCRIPTION_L-Very_High_Risk',\n",
    "#        'PERFORM_CNS.SCORE.DESCRIPTION_M-Very_High_Risk',\n",
    "#        'PERFORM_CNS.SCORE.DESCRIPTION_No_Bureau_History_Available',\n",
    "#        'PERFORM_CNS.SCORE.DESCRIPTION_Not_Scored:_More_than_50_active_Accounts_found',\n",
    "#        'PERFORM_CNS.SCORE.DESCRIPTION_Not_Scored:_No_Activity_seen_on_the_customer_(Inactive)',\n",
    "#        'PERFORM_CNS.SCORE.DESCRIPTION_Not_Scored:_No_Updates_available_in_last_36_months',\n",
    "#        'PERFORM_CNS.SCORE.DESCRIPTION_Not_Scored:_Not_Enough_Info_available_on_the_customer',\n",
    "#        'PERFORM_CNS.SCORE.DESCRIPTION_Not_Scored:_Only_a_Guarantor',\n",
    "#        'PERFORM_CNS.SCORE.DESCRIPTION_Not_Scored:_Sufficient_History_Not_Available',\n",
    "#        'log_disbursed_amount', 'log_asset_cost', 'DisbursalDate_month',\n",
    "#        'DisbursalDate_dayofmonth','Current_pincode_ID_disbursed_amount_mean',\n",
    "#  'Current_pincode_ID_stdev',\n",
    "#  'branch_id_disbursed_amount_mean',\n",
    "#  'branch_id_stdev',\n",
    "#  'supplier_id_disbursed_amount_mean',\n",
    "#  'supplier_id_stdev',\n",
    "#  'manufacturer_id_disbursed_amount_mean',\n",
    "#  'manufacturer_id_stdev',\n",
    "#  'State_ID_disbursed_amount_mean',\n",
    "#  'State_ID_stdev',\n",
    "#  'Employee_code_ID_disbursed_amount_mean',\n",
    "#  'Employee_code_ID_stdev',\n",
    "#  'Current_pincode_ID_asset_cost_mean',\n",
    "#  'branch_id_asset_cost_mean',\n",
    "#  'supplier_id_asset_cost_mean',\n",
    "#  'manufacturer_id_asset_cost_mean',\n",
    "#  'State_ID_asset_cost_mean',\n",
    "#  'Employee_code_ID_asset_cost_mean',\n",
    "#  'Current_pincode_ID_ltv_mean',\n",
    "#  'branch_id_ltv_mean',\n",
    "#  'supplier_id_ltv_mean',\n",
    "#  'manufacturer_id_ltv_mean',\n",
    "#  'State_ID_ltv_mean',\n",
    "#  'Employee_code_ID_ltv_mean',\n",
    "#  'Current_pincode_ID_PERFORM_CNS.SCORE_mean',\n",
    "#  'branch_id_PERFORM_CNS.SCORE_mean',\n",
    "#  'supplier_id_PERFORM_CNS.SCORE_mean',\n",
    "#  'manufacturer_id_PERFORM_CNS.SCORE_mean',\n",
    "#  'State_ID_PERFORM_CNS.SCORE_mean',\n",
    "#  'Employee_code_ID_PERFORM_CNS.SCORE_mean',\n",
    "#  'Current_pincode_ID_PRIMARY.INSTAL.AMT_mean',\n",
    "#  'branch_id_PRIMARY.INSTAL.AMT_mean',\n",
    "#  'supplier_id_PRIMARY.INSTAL.AMT_mean',\n",
    "#  'manufacturer_id_PRIMARY.INSTAL.AMT_mean',\n",
    "#  'State_ID_PRIMARY.INSTAL.AMT_mean',\n",
    "#  'Employee_code_ID_PRIMARY.INSTAL.AMT_mean','branch_id_loan_default_mean',\n",
    "#        'State_ID_loan_default_mean', 'branch_id_loan_default_sum',\n",
    "#        'State_ID_loan_default_sum','ltv_squared','log_ltv']\n",
    "\n",
    "\n",
    "outcome = ['loan_default']"
   ]
  },
  {
   "cell_type": "code",
   "execution_count": 39,
   "metadata": {},
   "outputs": [],
   "source": [
    "from sklearn.model_selection import train_test_split\n",
    "\n",
    "X_train, X_validation, y_train, y_validation = train_test_split(train_df[predictors], train_df[outcome], test_size=0.3, random_state=1234)"
   ]
  },
  {
   "cell_type": "code",
   "execution_count": 40,
   "metadata": {},
   "outputs": [
    {
     "data": {
      "text/plain": [
       "((163207, 110), (69947, 110))"
      ]
     },
     "execution_count": 40,
     "metadata": {},
     "output_type": "execute_result"
    }
   ],
   "source": [
    "X_train.shape,X_validation.shape"
   ]
  },
  {
   "cell_type": "code",
   "execution_count": null,
   "metadata": {},
   "outputs": [],
   "source": []
  },
  {
   "cell_type": "code",
   "execution_count": 41,
   "metadata": {},
   "outputs": [],
   "source": [
    "import xgboost as xgb\n",
    "from xgboost.sklearn import XGBClassifier\n",
    "from sklearn.model_selection import cross_validate\n",
    "from sklearn import metrics \n",
    "from sklearn.model_selection import GridSearchCV   #Perforing grid search\n",
    "from sklearn.model_selection import cross_validate\n",
    "from sklearn.model_selection import KFold"
   ]
  },
  {
   "cell_type": "code",
   "execution_count": null,
   "metadata": {},
   "outputs": [],
   "source": [
    "\n",
    "alg = XGBClassifier()"
   ]
  },
  {
   "cell_type": "code",
   "execution_count": null,
   "metadata": {},
   "outputs": [],
   "source": [
    "#kf = loo.split(X_train_std[predictor_var])\n",
    "kf = KFold(n_splits=10).split(X_train[['State_ID','branch_id']])\n",
    "# ['branch_id', 'supplier_id', 'manufacturer_id', 'Current_pincode_ID','State_ID', 'Employee_code_ID']\n",
    "error = []\n",
    "# yavg = pd.DataFrame()\n",
    "\n",
    "for train, test in kf:\n",
    "    # Filter training data\n",
    "    print(\"training stared\")\n",
    "    train_predictors = X_train[predictors].iloc[train,:]\n",
    "\n",
    "    # The target we're using to train the algorithm.\n",
    "    train_target = y_train.iloc[train].values\n",
    "\n",
    "    # Training the algorithm using the predictors and target.\n",
    "    alg.fit(train_predictors, train_target)\n",
    "    y1 = alg.predict(X_train[predictors].iloc[test,:])\n",
    "#     yavg = yavg.append(pd.Series(y1),ignore_index=True)\n",
    "\n",
    "    #Record error from each cross-validation run\n",
    "    error.append(metrics.roc_auc_score(y_train.iloc[test], y1))\n",
    "    print('score for current fold',metrics.roc_auc_score(y_train.iloc[test], y1))\n",
    "    print(\"training finished\")\n",
    "print (\"Cross-Validation AUC Score : %f\" % np.mean(error))\n"
   ]
  },
  {
   "cell_type": "code",
   "execution_count": null,
   "metadata": {},
   "outputs": [],
   "source": []
  },
  {
   "cell_type": "code",
   "execution_count": 42,
   "metadata": {},
   "outputs": [],
   "source": [
    "def modelfit(alg, dtrain,ytrain,dtest,ytest,test,sub_df, predictors,outcome_var,useTrainCV=True, cv_folds=5, early_stopping_rounds=50):\n",
    "    \n",
    "    if useTrainCV:\n",
    "        xgb_param = alg.get_xgb_params()\n",
    "        xgtrain = xgb.DMatrix(dtrain[predictors].values, label=ytrain.values)\n",
    "        cvresult = xgb.cv(xgb_param, xgtrain, num_boost_round=alg.get_params()['n_estimators'], nfold=cv_folds,\n",
    "            metrics='auc', early_stopping_rounds=early_stopping_rounds,verbose_eval=True,\n",
    "            show_stdv=True)\n",
    "        alg.set_params(n_estimators=cvresult.shape[0])\n",
    "    \n",
    "    #Fit the algorithm on the data\n",
    "    alg.fit(dtrain[predictors], ytrain,eval_metric='auc')\n",
    "        \n",
    "    #Predict training set:\n",
    "    dtrain_predictions = alg.predict(dtest[predictors])\n",
    "    dtrain_predprob = alg.predict_proba(dtest[predictors])[:,1]\n",
    "    \n",
    "    dtrain_predprob1 = alg.predict_proba(test[predictors])[:,1]\n",
    "    sub_df['loan_default']= dtrain_predprob1\n",
    "    sub_df.to_csv('sub1.csv',index=False)    \n",
    "    #Print model report:\n",
    "    print(\"\\nModel Report\")\n",
    "    print(\"Accuracy : %.4g\" % metrics.accuracy_score(ytest.values, dtrain_predictions))\n",
    "    print(\"AUC Score (Train): %f\" % metrics.roc_auc_score(ytest, dtrain_predprob))\n",
    "                    \n",
    "    feat_imp = pd.Series(alg.get_booster().get_fscore()).sort_values(ascending=False)\n",
    "    feat_imp.plot(kind='bar', title='Feature Importances')\n",
    "    plt.ylabel('Feature Importance Score')  \n",
    "  "
   ]
  },
  {
   "cell_type": "code",
   "execution_count": 43,
   "metadata": {},
   "outputs": [],
   "source": [
    "def modelfit_mod(alg, dtrain,ytrain,dtest,ytest,test,sub_df, predictors,outcome_var,useTrainCV=True, cv_folds=5, early_stopping_rounds=50):\n",
    "    \n",
    "    if useTrainCV:\n",
    "        xgb_param = alg.get_xgb_params()\n",
    "        xgtrain = xgb.DMatrix(dtrain[predictors].values, label=ytrain.values)\n",
    "        cvresult = xgb.cv(xgb_param, xgtrain, num_boost_round=alg.get_params()['n_estimators'], nfold=cv_folds,\n",
    "            metrics='auc', early_stopping_rounds=early_stopping_rounds,verbose_eval=True,\n",
    "            show_stdv=True)\n",
    "        alg.set_params(n_estimators=cvresult.shape[0])\n",
    "    \n",
    "    #Fit the algorithm on the data\n",
    "    alg.fit(dtrain[predictors], ytrain)\n",
    "        \n",
    "    #Predict training set:\n",
    "    dtrain_predictions = alg.predict(dtest[predictors])\n",
    "    dtrain_predprob = alg.predict_proba(dtest[predictors])[:,1]\n",
    "    \n",
    "    dtrain_predprob1 = alg.predict_proba(test[predictors])[:,1]\n",
    "#     sub_df['loan_default']= dtrain_predprob1\n",
    "#     sub_df.to_csv('sub1.csv',index=False)    \n",
    "    #Print model report:\n",
    "    print(\"\\nModel Report\")\n",
    "    print(\"Accuracy : %.4g\" % metrics.accuracy_score(ytest.values, dtrain_predictions))\n",
    "    print(\"AUC Score (Train): %f\" % metrics.roc_auc_score(ytest, dtrain_predprob))\n",
    "                    \n",
    "#     feat_imp = pd.Series(alg.get_booster().get_fscore()).sort_values(ascending=False)\n",
    "#     feat_imp.plot(kind='bar', title='Feature Importances')\n",
    "#     plt.ylabel('Feature Importance Score')  \n",
    "  "
   ]
  },
  {
   "cell_type": "code",
   "execution_count": 44,
   "metadata": {},
   "outputs": [
    {
     "name": "stdout",
     "output_type": "stream",
     "text": [
      "[0]\ttrain-auc:0.610541+0.000759099\ttest-auc:0.608001+0.000770768\n",
      "[1]\ttrain-auc:0.616707+0.00308687\ttest-auc:0.614294+0.00301279\n",
      "[2]\ttrain-auc:0.621948+0.00171709\ttest-auc:0.618501+0.0015573\n",
      "[3]\ttrain-auc:0.625117+0.00132889\ttest-auc:0.622304+0.000774875\n",
      "[4]\ttrain-auc:0.626773+0.00111993\ttest-auc:0.623818+0.00148455\n",
      "[5]\ttrain-auc:0.629158+0.00098187\ttest-auc:0.626304+0.00187701\n",
      "[6]\ttrain-auc:0.63008+0.000691722\ttest-auc:0.627567+0.00184645\n",
      "[7]\ttrain-auc:0.633112+0.000862982\ttest-auc:0.630159+0.00183385\n",
      "[8]\ttrain-auc:0.634534+0.00070832\ttest-auc:0.631273+0.00171884\n",
      "[9]\ttrain-auc:0.635772+0.000536233\ttest-auc:0.632467+0.0014084\n",
      "[10]\ttrain-auc:0.636994+0.000579151\ttest-auc:0.633637+0.000922018\n",
      "[11]\ttrain-auc:0.63804+0.000501377\ttest-auc:0.634479+0.000924505\n",
      "[12]\ttrain-auc:0.639134+0.000417817\ttest-auc:0.635352+0.00106833\n",
      "[13]\ttrain-auc:0.640158+0.000440898\ttest-auc:0.635976+0.00102493\n",
      "[14]\ttrain-auc:0.641281+0.000425281\ttest-auc:0.636981+0.00101497\n",
      "[15]\ttrain-auc:0.642283+0.000370615\ttest-auc:0.63784+0.00109166\n",
      "[16]\ttrain-auc:0.643158+0.00042877\ttest-auc:0.638587+0.00123229\n",
      "[17]\ttrain-auc:0.644+0.000363854\ttest-auc:0.639316+0.00110115\n",
      "[18]\ttrain-auc:0.645108+0.00047589\ttest-auc:0.640246+0.00105301\n",
      "[19]\ttrain-auc:0.64615+0.000458031\ttest-auc:0.641145+0.00111013\n",
      "[20]\ttrain-auc:0.647098+0.000484384\ttest-auc:0.642002+0.00124157\n",
      "[21]\ttrain-auc:0.648029+0.000294042\ttest-auc:0.642885+0.00116289\n",
      "[22]\ttrain-auc:0.64895+0.000365159\ttest-auc:0.643656+0.00110208\n",
      "[23]\ttrain-auc:0.650036+0.000426459\ttest-auc:0.644615+0.000993276\n",
      "[24]\ttrain-auc:0.65093+0.000383195\ttest-auc:0.645195+0.00103667\n",
      "[25]\ttrain-auc:0.651869+0.000463024\ttest-auc:0.646032+0.000945509\n",
      "[26]\ttrain-auc:0.652666+0.000419527\ttest-auc:0.646697+0.00102664\n",
      "[27]\ttrain-auc:0.653459+0.000516821\ttest-auc:0.647461+0.000986429\n",
      "[28]\ttrain-auc:0.65414+0.000554855\ttest-auc:0.647968+0.00114539\n",
      "[29]\ttrain-auc:0.655074+0.000501995\ttest-auc:0.648826+0.00106273\n",
      "[30]\ttrain-auc:0.655845+0.000480942\ttest-auc:0.649397+0.00104022\n",
      "[31]\ttrain-auc:0.656457+0.000541455\ttest-auc:0.649997+0.000823602\n",
      "[32]\ttrain-auc:0.657194+0.000497293\ttest-auc:0.650529+0.00102531\n",
      "[33]\ttrain-auc:0.657817+0.000480652\ttest-auc:0.651024+0.00103573\n",
      "[34]\ttrain-auc:0.658322+0.000560848\ttest-auc:0.651405+0.00100634\n",
      "[35]\ttrain-auc:0.658968+0.000517754\ttest-auc:0.651804+0.00113324\n",
      "[36]\ttrain-auc:0.659569+0.000448255\ttest-auc:0.652269+0.00110086\n",
      "[37]\ttrain-auc:0.660201+0.00053922\ttest-auc:0.65279+0.000957351\n",
      "[38]\ttrain-auc:0.660833+0.000498259\ttest-auc:0.653312+0.00107963\n",
      "[39]\ttrain-auc:0.661191+0.000486642\ttest-auc:0.653735+0.00108301\n",
      "[40]\ttrain-auc:0.661712+0.000525521\ttest-auc:0.654079+0.000904653\n",
      "[41]\ttrain-auc:0.662215+0.000455955\ttest-auc:0.654461+0.000915529\n",
      "[42]\ttrain-auc:0.662766+0.000385479\ttest-auc:0.655028+0.000957945\n",
      "[43]\ttrain-auc:0.663202+0.000304225\ttest-auc:0.655367+0.00103019\n",
      "[44]\ttrain-auc:0.663652+0.000380776\ttest-auc:0.655699+0.000972881\n",
      "[45]\ttrain-auc:0.664082+0.0003862\ttest-auc:0.655945+0.00100988\n",
      "[46]\ttrain-auc:0.664613+0.00044882\ttest-auc:0.656353+0.00105327\n",
      "[47]\ttrain-auc:0.664988+0.00040472\ttest-auc:0.656715+0.00101343\n",
      "[48]\ttrain-auc:0.665422+0.000464533\ttest-auc:0.657045+0.00106122\n",
      "[49]\ttrain-auc:0.665713+0.000416576\ttest-auc:0.657305+0.00107311\n",
      "[50]\ttrain-auc:0.666044+0.000402226\ttest-auc:0.657529+0.000978336\n",
      "[51]\ttrain-auc:0.666456+0.000419013\ttest-auc:0.657849+0.000967998\n",
      "[52]\ttrain-auc:0.666775+0.000409823\ttest-auc:0.65801+0.00102015\n",
      "[53]\ttrain-auc:0.667057+0.000473312\ttest-auc:0.658315+0.000994719\n",
      "[54]\ttrain-auc:0.667349+0.000452364\ttest-auc:0.658511+0.00104733\n",
      "[55]\ttrain-auc:0.667714+0.000379668\ttest-auc:0.658814+0.00117752\n",
      "[56]\ttrain-auc:0.668059+0.000366094\ttest-auc:0.6591+0.00120665\n",
      "[57]\ttrain-auc:0.668308+0.000429473\ttest-auc:0.659248+0.0011841\n",
      "[58]\ttrain-auc:0.668597+0.000401999\ttest-auc:0.659437+0.00121105\n",
      "[59]\ttrain-auc:0.668875+0.000428171\ttest-auc:0.659657+0.00120363\n",
      "[60]\ttrain-auc:0.66922+0.000417201\ttest-auc:0.65998+0.00125867\n",
      "[61]\ttrain-auc:0.669531+0.000440205\ttest-auc:0.660201+0.00118963\n",
      "[62]\ttrain-auc:0.669814+0.000408452\ttest-auc:0.66037+0.00120536\n",
      "[63]\ttrain-auc:0.670125+0.000421126\ttest-auc:0.660564+0.00120605\n",
      "[64]\ttrain-auc:0.67038+0.000430725\ttest-auc:0.660678+0.00118482\n",
      "[65]\ttrain-auc:0.670745+0.000350055\ttest-auc:0.66092+0.00130363\n",
      "[66]\ttrain-auc:0.671022+0.000414189\ttest-auc:0.661129+0.00113987\n",
      "[67]\ttrain-auc:0.671298+0.000485743\ttest-auc:0.66132+0.00117741\n",
      "[68]\ttrain-auc:0.671528+0.000489836\ttest-auc:0.66143+0.00118903\n",
      "[69]\ttrain-auc:0.671783+0.000545013\ttest-auc:0.661579+0.00123513\n",
      "[70]\ttrain-auc:0.671977+0.000478343\ttest-auc:0.661691+0.00125373\n",
      "[71]\ttrain-auc:0.672194+0.00049056\ttest-auc:0.661823+0.00122768\n",
      "[72]\ttrain-auc:0.672412+0.000450969\ttest-auc:0.661951+0.00129999\n",
      "[73]\ttrain-auc:0.672665+0.000450851\ttest-auc:0.662157+0.00126274\n",
      "[74]\ttrain-auc:0.672927+0.000444179\ttest-auc:0.662327+0.00127636\n",
      "[75]\ttrain-auc:0.673216+0.000503385\ttest-auc:0.662528+0.00127324\n",
      "[76]\ttrain-auc:0.67342+0.000481946\ttest-auc:0.662646+0.0012677\n",
      "[77]\ttrain-auc:0.673658+0.000475611\ttest-auc:0.662792+0.00129731\n",
      "[78]\ttrain-auc:0.673944+0.000497058\ttest-auc:0.662979+0.00130078\n",
      "[79]\ttrain-auc:0.674165+0.000500459\ttest-auc:0.663093+0.00129414\n",
      "[80]\ttrain-auc:0.674418+0.000459442\ttest-auc:0.663296+0.001315\n",
      "[81]\ttrain-auc:0.67461+0.00043956\ttest-auc:0.663365+0.00130801\n",
      "[82]\ttrain-auc:0.674864+0.00044791\ttest-auc:0.663503+0.0013292\n",
      "[83]\ttrain-auc:0.675108+0.000396488\ttest-auc:0.663644+0.00134675\n",
      "[84]\ttrain-auc:0.675321+0.000419217\ttest-auc:0.6638+0.00130791\n",
      "[85]\ttrain-auc:0.675592+0.000425323\ttest-auc:0.663954+0.00129831\n",
      "[86]\ttrain-auc:0.675755+0.000386116\ttest-auc:0.664027+0.00132341\n",
      "[87]\ttrain-auc:0.675934+0.000391456\ttest-auc:0.664103+0.0013313\n",
      "[88]\ttrain-auc:0.676197+0.000356389\ttest-auc:0.664261+0.00133479\n",
      "[89]\ttrain-auc:0.676365+0.000380224\ttest-auc:0.664325+0.00133993\n",
      "[90]\ttrain-auc:0.676575+0.000416201\ttest-auc:0.664446+0.001355\n",
      "[91]\ttrain-auc:0.676778+0.000459462\ttest-auc:0.66455+0.00134883\n",
      "[92]\ttrain-auc:0.676971+0.000467671\ttest-auc:0.664667+0.00134058\n",
      "[93]\ttrain-auc:0.677136+0.000468182\ttest-auc:0.664731+0.00126317\n",
      "[94]\ttrain-auc:0.677334+0.000449369\ttest-auc:0.664854+0.00124601\n",
      "[95]\ttrain-auc:0.677507+0.000432344\ttest-auc:0.664959+0.00128238\n",
      "[96]\ttrain-auc:0.677684+0.000426142\ttest-auc:0.665077+0.0013007\n",
      "[97]\ttrain-auc:0.677868+0.000442808\ttest-auc:0.665159+0.00125793\n",
      "[98]\ttrain-auc:0.678092+0.000444085\ttest-auc:0.665297+0.0012354\n",
      "[99]\ttrain-auc:0.678275+0.000429486\ttest-auc:0.6654+0.00128853\n"
     ]
    },
    {
     "name": "stderr",
     "output_type": "stream",
     "text": [
      "/home/monster/.conda/envs/tensorflow/lib/python3.6/site-packages/sklearn/preprocessing/label.py:219: DataConversionWarning: A column-vector y was passed when a 1d array was expected. Please change the shape of y to (n_samples, ), for example using ravel().\n",
      "  y = column_or_1d(y, warn=True)\n",
      "/home/monster/.conda/envs/tensorflow/lib/python3.6/site-packages/sklearn/preprocessing/label.py:252: DataConversionWarning: A column-vector y was passed when a 1d array was expected. Please change the shape of y to (n_samples, ), for example using ravel().\n",
      "  y = column_or_1d(y, warn=True)\n"
     ]
    },
    {
     "name": "stdout",
     "output_type": "stream",
     "text": [
      "\n",
      "Model Report\n",
      "Accuracy : 0.7835\n",
      "AUC Score (Train): 0.669649\n",
      "CPU times: user 3min 31s, sys: 576 ms, total: 3min 32s\n",
      "Wall time: 3min 32s\n"
     ]
    },
    {
     "data": {
      "image/png": "[encoded data removed]",
      "text/plain": [
       "<Figure size 432x288 with 1 Axes>"
      ]
     },
     "metadata": {
      "needs_background": "light"
     },
     "output_type": "display_data"
    }
   ],
   "source": [
    "%%time\n",
    "modelfit(XGBClassifier(), X_train,y_train,X_validation,y_validation,test_df,sub_df,predictors,outcome,useTrainCV=True, cv_folds=5, early_stopping_rounds=50)"
   ]
  },
  {
   "cell_type": "code",
   "execution_count": 45,
   "metadata": {},
   "outputs": [
    {
     "name": "stderr",
     "output_type": "stream",
     "text": [
      "/home/monster/.conda/envs/tensorflow/lib/python3.6/site-packages/sklearn/ensemble/forest.py:246: FutureWarning: The default value of n_estimators will change from 10 in version 0.20 to 100 in 0.22.\n",
      "  \"10 in version 0.20 to 100 in 0.22.\", FutureWarning)\n",
      "/home/monster/.conda/envs/tensorflow/lib/python3.6/site-packages/ipykernel_launcher.py:12: DataConversionWarning: A column-vector y was passed when a 1d array was expected. Please change the shape of y to (n_samples,), for example using ravel().\n",
      "  if sys.path[0] == '':\n"
     ]
    },
    {
     "name": "stdout",
     "output_type": "stream",
     "text": [
      "\n",
      "Model Report\n",
      "Accuracy : 0.7695\n",
      "AUC Score (Train): 0.593768\n"
     ]
    }
   ],
   "source": [
    "from sklearn.ensemble import RandomForestClassifier\n",
    "model6 = RandomForestClassifier()\n",
    "\n",
    "modelfit_mod(model6, X_train,y_train,X_validation,y_validation,test_df,sub_df,predictors,outcome,useTrainCV=False, cv_folds=5, early_stopping_rounds=50)"
   ]
  },
  {
   "cell_type": "code",
   "execution_count": null,
   "metadata": {},
   "outputs": [],
   "source": [
    "from sklearn.ensemble import AdaBoostClassifier\n",
    "from sklearn.tree import DecisionTreeClassifier\n",
    "\n",
    "tree = DecisionTreeClassifier(criterion='entropy',max_depth=6)\n",
    "ada = AdaBoostClassifier(base_estimator=tree, n_estimators=29, learning_rate=0.1, random_state=0)\n",
    "\n",
    "modelfit_mod(ada, X_train,y_train,X_validation,y_validation,test_df,sub_df,predictors,outcome,useTrainCV=False, cv_folds=5, early_stopping_rounds=50)"
   ]
  },
  {
   "cell_type": "code",
   "execution_count": null,
   "metadata": {},
   "outputs": [],
   "source": [
    "%%time\n",
    "\n",
    "from sklearn.ensemble import VotingClassifier\n",
    "\n",
    "model9 = VotingClassifier(estimators=[('RF', model6),('Xgb', XGBClassifier()), ('adaboost', ada)], voting='soft')\n",
    "\n",
    "modelfit_mod(model9, X_train,y_train,X_validation,y_validation,test_df,sub_df,predictors,outcome,useTrainCV=False, cv_folds=5, early_stopping_rounds=50)"
   ]
  },
  {
   "cell_type": "code",
   "execution_count": 74,
   "metadata": {},
   "outputs": [
    {
     "name": "stderr",
     "output_type": "stream",
     "text": [
      "/home/monster/.conda/envs/tensorflow/lib/python3.6/site-packages/sklearn/ensemble/forest.py:246: FutureWarning: The default value of n_estimators will change from 10 in version 0.20 to 100 in 0.22.\n",
      "  \"10 in version 0.20 to 100 in 0.22.\", FutureWarning)\n",
      "/home/monster/.conda/envs/tensorflow/lib/python3.6/site-packages/ipykernel_launcher.py:9: DataConversionWarning: A column-vector y was passed when a 1d array was expected. Please change the shape of y to (n_samples,), for example using ravel().\n",
      "  if __name__ == '__main__':\n"
     ]
    },
    {
     "name": "stdout",
     "output_type": "stream",
     "text": [
      "[0.02925127 0.02730224 0.02881618 0.00599948 0.01695355 0.00359568\n",
      " 0.0203659  0.00401371 0.020462   0.         0.00268597 0.00206016\n",
      " 0.00296389 0.00130153 0.0001674  0.01418885 0.00714467 0.00493279\n",
      " 0.00324162 0.010136   0.00944844 0.00990672 0.0008397  0.00063635\n",
      " 0.00027269 0.00064048 0.00067902 0.00061723 0.00696423 0.00053233\n",
      " 0.00357864 0.00292299 0.00585124 0.01074502 0.0031601  0.00622633\n",
      " 0.00286684 0.00487877 0.00711018 0.00938159 0.00359786 0.00735275\n",
      " 0.00956697 0.02313191 0.02421325 0.02293236 0.02227557 0.0226645\n",
      " 0.00551727 0.01056846 0.01523803 0.01764297 0.00366104 0.0097817\n",
      " 0.002722   0.00869108 0.01840836 0.01976626 0.02097248 0.00563704\n",
      " 0.01531755 0.00375137 0.00270313 0.01877708 0.02261929 0.00600917\n",
      " 0.01617205 0.00359627 0.0029012  0.01855887 0.02437174 0.00644394\n",
      " 0.01679827 0.00358928 0.00367282 0.0214244  0.02179862 0.00591904\n",
      " 0.01532389 0.00372086 0.00258543 0.01844453 0.00394531 0.00379004\n",
      " 0.00079826 0.00061095 0.0008355  0.00064315 0.00066928 0.00079177\n",
      " 0.00046137 0.00091158 0.00119151 0.00077274 0.00098196 0.00045319\n",
      " 0.00126135 0.00119384 0.         0.00052515 0.00035489 0.00074799\n",
      " 0.00025694 0.00066312 0.02920217 0.02728119 0.03135195 0.03219739\n",
      " 0.00834799 0.02807706]\n"
     ]
    }
   ],
   "source": [
    "# Feature Importance\n",
    "from sklearn import datasets\n",
    "# from sklearn import metrics\n",
    "# from sklearn.ensemble import ExtraTreesClassifier\n",
    "# load the iris datasets\n",
    "# dataset = datasets.load_iris()\n",
    "# fit an Extra Trees model to the data\n",
    "model = RandomForestClassifier()\n",
    "model.fit(X_train, y_train)\n",
    "# display the relative importance of each attribute\n",
    "print(model.feature_importances_)"
   ]
  },
  {
   "cell_type": "code",
   "execution_count": 75,
   "metadata": {},
   "outputs": [],
   "source": [
    "fimp = pd.Series(X_train.columns)\n",
    "\n",
    "d = pd.concat([fimp,pd.Series(model.feature_importances_)],axis=1)"
   ]
  },
  {
   "cell_type": "code",
   "execution_count": 76,
   "metadata": {},
   "outputs": [],
   "source": [
    "df = d.sort_values(by=1,ascending=False).reset_index().drop(['index'],axis=1)"
   ]
  },
  {
   "cell_type": "code",
   "execution_count": 77,
   "metadata": {},
   "outputs": [],
   "source": [
    "df.columns = ['ftname','ftimp']"
   ]
  },
  {
   "cell_type": "code",
   "execution_count": 85,
   "metadata": {},
   "outputs": [
    {
     "data": {
      "text/plain": [
       "Text(0, 0.5, 'Feature Importance Score')"
      ]
     },
     "execution_count": 85,
     "metadata": {},
     "output_type": "execute_result"
    },
    {
     "data": {
      "image/png": "[encoded data removed]",
      "text/plain": [
       "<Figure size 432x288 with 1 Axes>"
      ]
     },
     "metadata": {
      "needs_background": "light"
     },
     "output_type": "display_data"
    }
   ],
   "source": [
    "# df.iloc[:20,:].plot(kind='bar', title='Feature Importances')\n",
    "\n",
    "ax = df.plot.bar(x='ftname', y='ftimp', rot=0)\n",
    "\n",
    "plt.ylabel('Feature Importance Score')  "
   ]
  },
  {
   "cell_type": "code",
   "execution_count": 78,
   "metadata": {},
   "outputs": [],
   "source": [
    "toptfs = list(df.loc[df['ftimp']>0.01,:]['ftname'])"
   ]
  },
  {
   "cell_type": "code",
   "execution_count": 79,
   "metadata": {},
   "outputs": [
    {
     "data": {
      "text/plain": [
       "['log_ltv',\n",
       " 'ltv_squared',\n",
       " 'disbursed_amount',\n",
       " 'log_disbursed_amount',\n",
       " 'ltv',\n",
       " 'DisbursalDate_dayofmonth',\n",
       " 'asset_cost',\n",
       " 'log_asset_cost',\n",
       " 'Current_pincode_ID_PERFORM_CNS.SCORE_mean',\n",
       " 'Date.of.Birth.YEAR.conv',\n",
       " 'Date.of.Birth.YEAR',\n",
       " 'Date.of.Birth.AGE',\n",
       " 'Current_pincode_ID_stdev',\n",
       " 'Current_pincode_ID_ltv_mean',\n",
       " 'Current_pincode_ID_disbursed_amount_mean',\n",
       " 'Current_pincode_ID_PRIMARY.INSTAL.AMT_mean',\n",
       " 'Employee_code_ID_PERFORM_CNS.SCORE_mean',\n",
       " 'Current_pincode_ID_asset_cost_mean',\n",
       " 'Employee_code_ID',\n",
       " 'Current_pincode_ID',\n",
       " 'Employee_code_ID_stdev',\n",
       " 'Employee_code_ID_asset_cost_mean',\n",
       " 'Employee_code_ID_ltv_mean',\n",
       " 'Employee_code_ID_PRIMARY.INSTAL.AMT_mean',\n",
       " 'Employee_code_ID_disbursed_amount_mean',\n",
       " 'supplier_id_stdev',\n",
       " 'supplier_id',\n",
       " 'supplier_id_PERFORM_CNS.SCORE_mean',\n",
       " 'supplier_id_ltv_mean',\n",
       " 'supplier_id_PRIMARY.INSTAL.AMT_mean',\n",
       " 'supplier_id_asset_cost_mean',\n",
       " 'supplier_id_disbursed_amount_mean',\n",
       " 'PERFORM_CNS.SCORE',\n",
       " 'branch_id_loan_default_mean',\n",
       " 'branch_id_stdev',\n",
       " 'PRI.CURRENT.BALANCE']"
      ]
     },
     "execution_count": 79,
     "metadata": {},
     "output_type": "execute_result"
    }
   ],
   "source": [
    "toptfs"
   ]
  },
  {
   "cell_type": "code",
   "execution_count": 80,
   "metadata": {},
   "outputs": [
    {
     "name": "stdout",
     "output_type": "stream",
     "text": [
      "[0]\ttrain-auc:0.610541+0.000759099\ttest-auc:0.608001+0.000770768\n",
      "[1]\ttrain-auc:0.616707+0.00308687\ttest-auc:0.614294+0.00301279\n",
      "[2]\ttrain-auc:0.621779+0.00156168\ttest-auc:0.618441+0.00149912\n",
      "[3]\ttrain-auc:0.624924+0.00139854\ttest-auc:0.622116+0.000625399\n",
      "[4]\ttrain-auc:0.62609+0.00141622\ttest-auc:0.62322+0.00136825\n",
      "[5]\ttrain-auc:0.62822+0.000961964\ttest-auc:0.62546+0.00147935\n",
      "[6]\ttrain-auc:0.628898+0.000697655\ttest-auc:0.626441+0.00148372\n",
      "[7]\ttrain-auc:0.631288+0.000772138\ttest-auc:0.62852+0.00151351\n",
      "[8]\ttrain-auc:0.632323+0.00089204\ttest-auc:0.629304+0.00189371\n",
      "[9]\ttrain-auc:0.632952+0.000552828\ttest-auc:0.629697+0.00194227\n",
      "[10]\ttrain-auc:0.633501+0.000903961\ttest-auc:0.630182+0.00194765\n",
      "[11]\ttrain-auc:0.634791+0.000675269\ttest-auc:0.63138+0.00170863\n",
      "[12]\ttrain-auc:0.635353+0.000524404\ttest-auc:0.631814+0.00184489\n",
      "[13]\ttrain-auc:0.636095+0.000761605\ttest-auc:0.632237+0.0018816\n",
      "[14]\ttrain-auc:0.636819+0.000599476\ttest-auc:0.632852+0.00154934\n",
      "[15]\ttrain-auc:0.637276+0.000643437\ttest-auc:0.633084+0.00156882\n",
      "[16]\ttrain-auc:0.63796+0.000527754\ttest-auc:0.633639+0.00151231\n",
      "[17]\ttrain-auc:0.638535+0.000482711\ttest-auc:0.634203+0.00161483\n",
      "[18]\ttrain-auc:0.639654+0.000693607\ttest-auc:0.635183+0.00165399\n",
      "[19]\ttrain-auc:0.640487+0.000833338\ttest-auc:0.635958+0.001715\n",
      "[20]\ttrain-auc:0.641134+0.000840322\ttest-auc:0.636478+0.00171701\n",
      "[21]\ttrain-auc:0.641669+0.000785733\ttest-auc:0.636806+0.0017365\n",
      "[22]\ttrain-auc:0.642383+0.000937191\ttest-auc:0.637389+0.00189152\n",
      "[23]\ttrain-auc:0.643329+0.000790348\ttest-auc:0.63832+0.00213336\n",
      "[24]\ttrain-auc:0.643758+0.000755557\ttest-auc:0.638657+0.0022378\n",
      "[25]\ttrain-auc:0.644266+0.000711374\ttest-auc:0.639118+0.0022804\n",
      "[26]\ttrain-auc:0.644907+0.000709665\ttest-auc:0.639597+0.00194795\n",
      "[27]\ttrain-auc:0.645297+0.000741273\ttest-auc:0.639846+0.00189256\n",
      "[28]\ttrain-auc:0.645742+0.000679497\ttest-auc:0.640161+0.0018258\n",
      "[29]\ttrain-auc:0.646167+0.000638046\ttest-auc:0.640478+0.00183709\n",
      "[30]\ttrain-auc:0.646851+0.00054478\ttest-auc:0.641032+0.00192693\n",
      "[31]\ttrain-auc:0.647262+0.000501234\ttest-auc:0.641309+0.00196341\n",
      "[32]\ttrain-auc:0.647845+0.000643233\ttest-auc:0.641697+0.00199642\n",
      "[33]\ttrain-auc:0.648485+0.000613693\ttest-auc:0.642247+0.00192355\n",
      "[34]\ttrain-auc:0.648851+0.00059285\ttest-auc:0.642482+0.0019165\n",
      "[35]\ttrain-auc:0.649389+0.000751609\ttest-auc:0.642863+0.00189064\n",
      "[36]\ttrain-auc:0.649931+0.000669497\ttest-auc:0.643373+0.00197476\n",
      "[37]\ttrain-auc:0.650383+0.000536363\ttest-auc:0.643837+0.00198476\n",
      "[38]\ttrain-auc:0.650715+0.000496629\ttest-auc:0.644038+0.00192468\n",
      "[39]\ttrain-auc:0.651077+0.000529771\ttest-auc:0.644253+0.00197168\n",
      "[40]\ttrain-auc:0.65134+0.000515343\ttest-auc:0.644453+0.00197845\n",
      "[41]\ttrain-auc:0.651841+0.000395175\ttest-auc:0.644817+0.0018817\n",
      "[42]\ttrain-auc:0.65218+0.000350977\ttest-auc:0.645068+0.00189399\n",
      "[43]\ttrain-auc:0.652552+0.000542198\ttest-auc:0.6453+0.00187856\n",
      "[44]\ttrain-auc:0.653011+0.000445963\ttest-auc:0.645663+0.00190855\n",
      "[45]\ttrain-auc:0.653497+0.000493518\ttest-auc:0.646031+0.00172866\n",
      "[46]\ttrain-auc:0.653922+0.00054153\ttest-auc:0.646355+0.00178058\n",
      "[47]\ttrain-auc:0.65431+0.000497697\ttest-auc:0.646693+0.00174373\n",
      "[48]\ttrain-auc:0.654612+0.000516976\ttest-auc:0.646879+0.0017216\n",
      "[49]\ttrain-auc:0.654915+0.00049953\ttest-auc:0.647086+0.00177744\n",
      "[50]\ttrain-auc:0.655262+0.000555279\ttest-auc:0.647276+0.0017175\n",
      "[51]\ttrain-auc:0.655624+0.000572367\ttest-auc:0.647487+0.00173996\n",
      "[52]\ttrain-auc:0.655972+0.000485804\ttest-auc:0.64775+0.00185268\n",
      "[53]\ttrain-auc:0.656244+0.000469418\ttest-auc:0.647934+0.00187327\n",
      "[54]\ttrain-auc:0.656634+0.000494465\ttest-auc:0.648193+0.00178616\n",
      "[55]\ttrain-auc:0.656909+0.000473103\ttest-auc:0.648378+0.00166445\n",
      "[56]\ttrain-auc:0.657214+0.000413427\ttest-auc:0.648634+0.00161982\n",
      "[57]\ttrain-auc:0.65753+0.000410935\ttest-auc:0.648834+0.00163373\n",
      "[58]\ttrain-auc:0.657811+0.000490314\ttest-auc:0.649031+0.0016261\n",
      "[59]\ttrain-auc:0.658046+0.000512514\ttest-auc:0.649214+0.00157265\n",
      "[60]\ttrain-auc:0.658297+0.000514247\ttest-auc:0.649329+0.0015767\n",
      "[61]\ttrain-auc:0.658555+0.000501417\ttest-auc:0.649455+0.00159644\n",
      "[62]\ttrain-auc:0.658835+0.000451817\ttest-auc:0.649592+0.00161378\n",
      "[63]\ttrain-auc:0.659097+0.000437869\ttest-auc:0.649737+0.00161235\n",
      "[64]\ttrain-auc:0.659376+0.000442861\ttest-auc:0.649948+0.00149263\n",
      "[65]\ttrain-auc:0.659599+0.000382423\ttest-auc:0.650021+0.00147701\n",
      "[66]\ttrain-auc:0.659848+0.000403113\ttest-auc:0.65015+0.00146482\n",
      "[67]\ttrain-auc:0.660069+0.0004688\ttest-auc:0.650279+0.00138421\n",
      "[68]\ttrain-auc:0.660332+0.000473235\ttest-auc:0.650458+0.00141801\n",
      "[69]\ttrain-auc:0.660593+0.000453351\ttest-auc:0.650597+0.00146708\n",
      "[70]\ttrain-auc:0.660835+0.000464896\ttest-auc:0.650683+0.00147544\n",
      "[71]\ttrain-auc:0.661078+0.000476119\ttest-auc:0.650886+0.00148491\n",
      "[72]\ttrain-auc:0.661268+0.000487962\ttest-auc:0.650975+0.00144302\n",
      "[73]\ttrain-auc:0.661467+0.000506016\ttest-auc:0.65105+0.00141328\n",
      "[74]\ttrain-auc:0.66167+0.000525619\ttest-auc:0.651136+0.00141531\n",
      "[75]\ttrain-auc:0.66187+0.00051264\ttest-auc:0.651242+0.00142374\n",
      "[76]\ttrain-auc:0.662092+0.000467653\ttest-auc:0.651341+0.00139569\n",
      "[77]\ttrain-auc:0.662288+0.000471684\ttest-auc:0.651446+0.00145885\n",
      "[78]\ttrain-auc:0.662501+0.000437127\ttest-auc:0.65159+0.00147007\n",
      "[79]\ttrain-auc:0.66269+0.000475306\ttest-auc:0.651661+0.0014561\n",
      "[80]\ttrain-auc:0.662954+0.000469202\ttest-auc:0.651803+0.00143231\n",
      "[81]\ttrain-auc:0.663131+0.000439815\ttest-auc:0.651866+0.00147322\n",
      "[82]\ttrain-auc:0.663334+0.000409572\ttest-auc:0.651976+0.00154125\n",
      "[83]\ttrain-auc:0.663527+0.000447364\ttest-auc:0.652057+0.00148632\n",
      "[84]\ttrain-auc:0.663694+0.000464156\ttest-auc:0.65209+0.00144695\n",
      "[85]\ttrain-auc:0.663887+0.000517186\ttest-auc:0.652216+0.00145249\n",
      "[86]\ttrain-auc:0.664048+0.000528371\ttest-auc:0.652329+0.001519\n",
      "[87]\ttrain-auc:0.66422+0.000561707\ttest-auc:0.652406+0.00148686\n",
      "[88]\ttrain-auc:0.664416+0.000531518\ttest-auc:0.652497+0.00146878\n",
      "[89]\ttrain-auc:0.664598+0.000573782\ttest-auc:0.652593+0.0014474\n",
      "[90]\ttrain-auc:0.664759+0.000569152\ttest-auc:0.652655+0.00144509\n",
      "[91]\ttrain-auc:0.664919+0.00058566\ttest-auc:0.652729+0.00147848\n",
      "[92]\ttrain-auc:0.665105+0.000590287\ttest-auc:0.652846+0.00146997\n",
      "[93]\ttrain-auc:0.66528+0.000636301\ttest-auc:0.65293+0.00143775\n",
      "[94]\ttrain-auc:0.665441+0.000650922\ttest-auc:0.652994+0.0014092\n",
      "[95]\ttrain-auc:0.665635+0.000643672\ttest-auc:0.653116+0.00144013\n",
      "[96]\ttrain-auc:0.665792+0.000634954\ttest-auc:0.653181+0.00141802\n",
      "[97]\ttrain-auc:0.665935+0.000627817\ttest-auc:0.653228+0.00146617\n",
      "[98]\ttrain-auc:0.666059+0.000625234\ttest-auc:0.65329+0.00146222\n",
      "[99]\ttrain-auc:0.666216+0.00060494\ttest-auc:0.653334+0.00144165\n"
     ]
    },
    {
     "name": "stderr",
     "output_type": "stream",
     "text": [
      "/home/monster/.conda/envs/tensorflow/lib/python3.6/site-packages/sklearn/preprocessing/label.py:219: DataConversionWarning: A column-vector y was passed when a 1d array was expected. Please change the shape of y to (n_samples, ), for example using ravel().\n",
      "  y = column_or_1d(y, warn=True)\n",
      "/home/monster/.conda/envs/tensorflow/lib/python3.6/site-packages/sklearn/preprocessing/label.py:252: DataConversionWarning: A column-vector y was passed when a 1d array was expected. Please change the shape of y to (n_samples, ), for example using ravel().\n",
      "  y = column_or_1d(y, warn=True)\n"
     ]
    },
    {
     "name": "stdout",
     "output_type": "stream",
     "text": [
      "\n",
      "Model Report\n",
      "Accuracy : 0.7834\n",
      "AUC Score (Train): 0.656826\n"
     ]
    },
    {
     "data": {
      "image/png": "[encoded data removed]",
      "text/plain": [
       "<Figure size 432x288 with 1 Axes>"
      ]
     },
     "metadata": {
      "needs_background": "light"
     },
     "output_type": "display_data"
    }
   ],
   "source": [
    "modelfit(XGBClassifier(), X_train,y_train,X_validation,y_validation,test_df,sub_df,toptfs,outcome,useTrainCV=True, cv_folds=5, early_stopping_rounds=50)"
   ]
  },
  {
   "cell_type": "code",
   "execution_count": null,
   "metadata": {},
   "outputs": [],
   "source": []
  },
  {
   "cell_type": "code",
   "execution_count": null,
   "metadata": {},
   "outputs": [],
   "source": []
  },
  {
   "cell_type": "code",
   "execution_count": null,
   "metadata": {},
   "outputs": [],
   "source": []
  },
  {
   "cell_type": "code",
   "execution_count": 71,
   "metadata": {},
   "outputs": [],
   "source": [
    "model1 = XGBClassifier(\n",
    " learning_rate =0.2,\n",
    " n_estimators=500,\n",
    " max_depth=5,\n",
    " min_child_weight=1,\n",
    " gamma=0,\n",
    " subsample=0.8,\n",
    " colsample_bytree=0.8,\n",
    " objective= 'binary:logistic',\n",
    " nthread=-1,\n",
    " scale_pos_weight=1,\n",
    " seed=27)"
   ]
  },
  {
   "cell_type": "code",
   "execution_count": 72,
   "metadata": {},
   "outputs": [
    {
     "name": "stdout",
     "output_type": "stream",
     "text": [
      "[0]\ttrain-auc:0.629448+0.00165395\ttest-auc:0.621804+0.00121316\n",
      "[1]\ttrain-auc:0.641992+0.00132029\ttest-auc:0.633017+0.00138346\n",
      "[2]\ttrain-auc:0.646683+0.00140449\ttest-auc:0.636866+0.00189979\n",
      "[3]\ttrain-auc:0.65132+0.000808481\ttest-auc:0.640912+0.00199978\n",
      "[4]\ttrain-auc:0.654844+0.00101138\ttest-auc:0.643123+0.00216226\n",
      "[5]\ttrain-auc:0.657219+0.000376911\ttest-auc:0.644814+0.00196798\n",
      "[6]\ttrain-auc:0.65992+0.000271909\ttest-auc:0.646878+0.00208534\n",
      "[7]\ttrain-auc:0.662603+0.000576103\ttest-auc:0.648755+0.00200092\n",
      "[8]\ttrain-auc:0.66437+0.000290649\ttest-auc:0.649851+0.00202759\n",
      "[9]\ttrain-auc:0.66635+0.000686449\ttest-auc:0.650872+0.00184098\n",
      "[10]\ttrain-auc:0.66823+0.000809655\ttest-auc:0.651763+0.00185042\n",
      "[11]\ttrain-auc:0.670446+0.000903604\ttest-auc:0.653121+0.00195462\n",
      "[12]\ttrain-auc:0.672351+0.00084121\ttest-auc:0.654326+0.0018915\n",
      "[13]\ttrain-auc:0.674195+0.000679994\ttest-auc:0.655347+0.00172615\n",
      "[14]\ttrain-auc:0.676084+0.000752696\ttest-auc:0.656682+0.00185213\n",
      "[15]\ttrain-auc:0.677902+0.000896081\ttest-auc:0.657641+0.0018357\n",
      "[16]\ttrain-auc:0.679471+0.000850389\ttest-auc:0.658336+0.00163151\n",
      "[17]\ttrain-auc:0.681072+0.00106291\ttest-auc:0.658981+0.00158695\n",
      "[18]\ttrain-auc:0.682321+0.00106744\ttest-auc:0.659633+0.00147706\n",
      "[19]\ttrain-auc:0.683686+0.00108619\ttest-auc:0.660396+0.00156754\n",
      "[20]\ttrain-auc:0.68516+0.00087259\ttest-auc:0.66104+0.00152721\n",
      "[21]\ttrain-auc:0.686434+0.000830951\ttest-auc:0.661612+0.00156272\n",
      "[22]\ttrain-auc:0.687652+0.000820147\ttest-auc:0.66227+0.00152125\n",
      "[23]\ttrain-auc:0.688915+0.000777879\ttest-auc:0.662944+0.00138442\n",
      "[24]\ttrain-auc:0.690127+0.000711195\ttest-auc:0.663244+0.00156566\n",
      "[25]\ttrain-auc:0.691488+0.000651901\ttest-auc:0.663826+0.00151056\n",
      "[26]\ttrain-auc:0.692524+0.000837763\ttest-auc:0.663965+0.00162725\n",
      "[27]\ttrain-auc:0.69382+0.000747339\ttest-auc:0.664506+0.00172427\n",
      "[28]\ttrain-auc:0.694825+0.00072243\ttest-auc:0.664663+0.00163343\n",
      "[29]\ttrain-auc:0.695853+0.000660705\ttest-auc:0.664948+0.00168565\n",
      "[30]\ttrain-auc:0.696958+0.000735834\ttest-auc:0.665449+0.00184049\n",
      "[31]\ttrain-auc:0.697838+0.000787919\ttest-auc:0.665633+0.00184364\n",
      "[32]\ttrain-auc:0.698822+0.000778119\ttest-auc:0.665852+0.00168542\n",
      "[33]\ttrain-auc:0.699618+0.000851769\ttest-auc:0.666082+0.00173988\n",
      "[34]\ttrain-auc:0.700394+0.000800133\ttest-auc:0.666251+0.00182584\n",
      "[35]\ttrain-auc:0.701216+0.00089539\ttest-auc:0.666341+0.00176829\n",
      "[36]\ttrain-auc:0.702102+0.00101631\ttest-auc:0.66653+0.00176005\n",
      "[37]\ttrain-auc:0.703111+0.00098394\ttest-auc:0.666839+0.00183827\n",
      "[38]\ttrain-auc:0.703935+0.000883554\ttest-auc:0.667086+0.00195511\n",
      "[39]\ttrain-auc:0.704613+0.000826234\ttest-auc:0.667191+0.00206127\n",
      "[40]\ttrain-auc:0.705563+0.000702744\ttest-auc:0.66752+0.00223735\n",
      "[41]\ttrain-auc:0.706395+0.000720299\ttest-auc:0.667613+0.00214887\n",
      "[42]\ttrain-auc:0.707153+0.000814826\ttest-auc:0.667647+0.00217418\n",
      "[43]\ttrain-auc:0.707755+0.000828151\ttest-auc:0.667796+0.0020904\n",
      "[44]\ttrain-auc:0.708426+0.000888053\ttest-auc:0.667882+0.00216986\n",
      "[45]\ttrain-auc:0.709024+0.000904918\ttest-auc:0.667987+0.00218897\n",
      "[46]\ttrain-auc:0.70975+0.000801105\ttest-auc:0.668103+0.00230134\n",
      "[47]\ttrain-auc:0.710283+0.000846227\ttest-auc:0.668084+0.00227391\n",
      "[48]\ttrain-auc:0.710965+0.000788781\ttest-auc:0.668252+0.00223603\n",
      "[49]\ttrain-auc:0.711549+0.000786102\ttest-auc:0.668302+0.00217107\n",
      "[50]\ttrain-auc:0.712309+0.000814505\ttest-auc:0.66836+0.00215248\n",
      "[51]\ttrain-auc:0.712938+0.000839863\ttest-auc:0.668271+0.00214932\n",
      "[52]\ttrain-auc:0.71339+0.000862098\ttest-auc:0.668393+0.0021815\n",
      "[53]\ttrain-auc:0.713868+0.000690332\ttest-auc:0.66848+0.00214269\n",
      "[54]\ttrain-auc:0.714472+0.000666453\ttest-auc:0.668537+0.00225613\n",
      "[55]\ttrain-auc:0.715121+0.000720803\ttest-auc:0.668608+0.00223071\n",
      "[56]\ttrain-auc:0.715663+0.000574702\ttest-auc:0.668754+0.00217123\n",
      "[57]\ttrain-auc:0.716268+0.000543464\ttest-auc:0.668716+0.00210117\n",
      "[58]\ttrain-auc:0.7167+0.000425445\ttest-auc:0.66864+0.00200943\n",
      "[59]\ttrain-auc:0.717067+0.000406359\ttest-auc:0.668733+0.00202192\n",
      "[60]\ttrain-auc:0.717595+0.00038448\ttest-auc:0.668797+0.0020112\n",
      "[61]\ttrain-auc:0.718276+0.000436753\ttest-auc:0.668904+0.00205547\n",
      "[62]\ttrain-auc:0.719044+0.000428357\ttest-auc:0.669087+0.00211873\n",
      "[63]\ttrain-auc:0.719755+0.000318048\ttest-auc:0.669077+0.00222807\n",
      "[64]\ttrain-auc:0.720416+0.000318803\ttest-auc:0.669137+0.00226453\n",
      "[65]\ttrain-auc:0.72098+0.000322396\ttest-auc:0.66904+0.0022167\n",
      "[66]\ttrain-auc:0.721471+0.000332338\ttest-auc:0.669059+0.002196\n",
      "[67]\ttrain-auc:0.722037+0.000353485\ttest-auc:0.669014+0.0022358\n",
      "[68]\ttrain-auc:0.722609+0.000471049\ttest-auc:0.669002+0.00226828\n",
      "[69]\ttrain-auc:0.723223+0.000440866\ttest-auc:0.669006+0.00229916\n",
      "[70]\ttrain-auc:0.72385+0.000555836\ttest-auc:0.669068+0.00240354\n",
      "[71]\ttrain-auc:0.724394+0.000556948\ttest-auc:0.669094+0.00243102\n",
      "[72]\ttrain-auc:0.724867+0.000591692\ttest-auc:0.669005+0.00245097\n",
      "[73]\ttrain-auc:0.725373+0.000550516\ttest-auc:0.668992+0.00241851\n",
      "[74]\ttrain-auc:0.725944+0.000613976\ttest-auc:0.669073+0.00247598\n",
      "[75]\ttrain-auc:0.726485+0.000568043\ttest-auc:0.669144+0.00248278\n",
      "[76]\ttrain-auc:0.727017+0.000565831\ttest-auc:0.669124+0.00251328\n",
      "[77]\ttrain-auc:0.727471+0.000489009\ttest-auc:0.669143+0.00249804\n",
      "[78]\ttrain-auc:0.728+0.000450659\ttest-auc:0.669192+0.00244831\n",
      "[79]\ttrain-auc:0.728547+0.000474505\ttest-auc:0.669255+0.00251596\n",
      "[80]\ttrain-auc:0.729033+0.000599159\ttest-auc:0.66929+0.00247602\n",
      "[81]\ttrain-auc:0.729579+0.000515533\ttest-auc:0.669306+0.00251715\n",
      "[82]\ttrain-auc:0.730175+0.000512353\ttest-auc:0.66927+0.00247847\n",
      "[83]\ttrain-auc:0.730636+0.000482284\ttest-auc:0.669238+0.00254389\n",
      "[84]\ttrain-auc:0.731109+0.000458306\ttest-auc:0.669322+0.00256746\n",
      "[85]\ttrain-auc:0.731608+0.000586875\ttest-auc:0.669331+0.00257193\n",
      "[86]\ttrain-auc:0.732149+0.000479826\ttest-auc:0.669327+0.00256745\n",
      "[87]\ttrain-auc:0.732622+0.000464922\ttest-auc:0.669256+0.00255146\n",
      "[88]\ttrain-auc:0.733047+0.000510744\ttest-auc:0.669394+0.00258265\n",
      "[89]\ttrain-auc:0.73361+0.000438936\ttest-auc:0.669415+0.00255423\n",
      "[90]\ttrain-auc:0.734079+0.000316568\ttest-auc:0.669475+0.00254784\n",
      "[91]\ttrain-auc:0.734644+0.000317567\ttest-auc:0.669528+0.00253936\n",
      "[92]\ttrain-auc:0.73513+0.000511551\ttest-auc:0.66961+0.00255424\n",
      "[93]\ttrain-auc:0.735526+0.000576639\ttest-auc:0.669619+0.00259727\n",
      "[94]\ttrain-auc:0.735915+0.00064727\ttest-auc:0.669672+0.00263425\n",
      "[95]\ttrain-auc:0.736477+0.000745348\ttest-auc:0.669703+0.00266912\n",
      "[96]\ttrain-auc:0.736937+0.000784697\ttest-auc:0.66972+0.002721\n",
      "[97]\ttrain-auc:0.737487+0.000795678\ttest-auc:0.669765+0.00266878\n",
      "[98]\ttrain-auc:0.738016+0.000863846\ttest-auc:0.669707+0.00259557\n",
      "[99]\ttrain-auc:0.738439+0.00078982\ttest-auc:0.669673+0.00253762\n",
      "[100]\ttrain-auc:0.738923+0.000726006\ttest-auc:0.669655+0.00261947\n",
      "[101]\ttrain-auc:0.73943+0.000748304\ttest-auc:0.669693+0.0026338\n",
      "[102]\ttrain-auc:0.739852+0.000912585\ttest-auc:0.669612+0.00264311\n",
      "[103]\ttrain-auc:0.740178+0.000905522\ttest-auc:0.669683+0.00260636\n",
      "[104]\ttrain-auc:0.740547+0.000938508\ttest-auc:0.669623+0.00267844\n",
      "[105]\ttrain-auc:0.741106+0.000845217\ttest-auc:0.669613+0.00271723\n",
      "[106]\ttrain-auc:0.741575+0.00090777\ttest-auc:0.6697+0.00272678\n",
      "[107]\ttrain-auc:0.741988+0.000963369\ttest-auc:0.669645+0.00278702\n",
      "[108]\ttrain-auc:0.742454+0.000880887\ttest-auc:0.669605+0.00274657\n",
      "[109]\ttrain-auc:0.742888+0.000883889\ttest-auc:0.669601+0.00271012\n",
      "[110]\ttrain-auc:0.743328+0.000854486\ttest-auc:0.669631+0.00276482\n",
      "[111]\ttrain-auc:0.743716+0.000730559\ttest-auc:0.669637+0.00277391\n",
      "[112]\ttrain-auc:0.744127+0.000768789\ttest-auc:0.669615+0.00283322\n",
      "[113]\ttrain-auc:0.744519+0.000771187\ttest-auc:0.669514+0.00277711\n",
      "[114]\ttrain-auc:0.744975+0.000771304\ttest-auc:0.669496+0.00282495\n",
      "[115]\ttrain-auc:0.745443+0.000732353\ttest-auc:0.669469+0.002755\n",
      "[116]\ttrain-auc:0.7458+0.000594082\ttest-auc:0.669464+0.00272396\n",
      "[117]\ttrain-auc:0.74637+0.000497521\ttest-auc:0.66949+0.00275214\n",
      "[118]\ttrain-auc:0.746859+0.000462643\ttest-auc:0.669407+0.00272936\n",
      "[119]\ttrain-auc:0.747276+0.000525965\ttest-auc:0.669382+0.00266\n",
      "[120]\ttrain-auc:0.747794+0.000558483\ttest-auc:0.669413+0.00261692\n",
      "[121]\ttrain-auc:0.748175+0.000560786\ttest-auc:0.669443+0.00266011\n",
      "[122]\ttrain-auc:0.748571+0.000570478\ttest-auc:0.66941+0.00266832\n",
      "[123]\ttrain-auc:0.748931+0.000564589\ttest-auc:0.669472+0.00268511\n",
      "[124]\ttrain-auc:0.749467+0.000616453\ttest-auc:0.66941+0.0026893\n",
      "[125]\ttrain-auc:0.749903+0.000686396\ttest-auc:0.669402+0.00271889\n",
      "[126]\ttrain-auc:0.750234+0.000750246\ttest-auc:0.669346+0.00271667\n"
     ]
    },
    {
     "name": "stdout",
     "output_type": "stream",
     "text": [
      "[127]\ttrain-auc:0.750652+0.000898343\ttest-auc:0.669282+0.00266616\n",
      "[128]\ttrain-auc:0.751066+0.000904387\ttest-auc:0.669285+0.00265228\n",
      "[129]\ttrain-auc:0.751491+0.00100092\ttest-auc:0.669259+0.00265042\n",
      "[130]\ttrain-auc:0.751842+0.000957869\ttest-auc:0.669331+0.00264109\n",
      "[131]\ttrain-auc:0.752348+0.000922824\ttest-auc:0.669427+0.00264667\n",
      "[132]\ttrain-auc:0.752775+0.000880384\ttest-auc:0.669411+0.00258828\n",
      "[133]\ttrain-auc:0.753254+0.000932177\ttest-auc:0.669317+0.00267013\n",
      "[134]\ttrain-auc:0.753683+0.0010153\ttest-auc:0.669362+0.00260221\n",
      "[135]\ttrain-auc:0.754074+0.00101053\ttest-auc:0.669437+0.00260468\n",
      "[136]\ttrain-auc:0.754494+0.00108063\ttest-auc:0.66934+0.00258569\n",
      "[137]\ttrain-auc:0.754908+0.00105393\ttest-auc:0.669361+0.00255954\n",
      "[138]\ttrain-auc:0.75534+0.00103216\ttest-auc:0.669282+0.00264076\n",
      "[139]\ttrain-auc:0.755688+0.00106624\ttest-auc:0.669258+0.00266004\n",
      "[140]\ttrain-auc:0.756194+0.0010003\ttest-auc:0.669166+0.0026422\n",
      "[141]\ttrain-auc:0.756645+0.00101669\ttest-auc:0.669088+0.00267321\n",
      "[142]\ttrain-auc:0.75699+0.00102509\ttest-auc:0.669097+0.00262834\n",
      "[143]\ttrain-auc:0.757485+0.00100319\ttest-auc:0.669012+0.0025977\n",
      "[144]\ttrain-auc:0.757889+0.00107277\ttest-auc:0.669008+0.00255286\n",
      "[145]\ttrain-auc:0.758329+0.00100289\ttest-auc:0.669037+0.00250225\n",
      "[146]\ttrain-auc:0.758703+0.000995791\ttest-auc:0.669005+0.00246707\n"
     ]
    },
    {
     "name": "stderr",
     "output_type": "stream",
     "text": [
      "/home/monster/.conda/envs/tensorflow/lib/python3.6/site-packages/sklearn/preprocessing/label.py:219: DataConversionWarning: A column-vector y was passed when a 1d array was expected. Please change the shape of y to (n_samples, ), for example using ravel().\n",
      "  y = column_or_1d(y, warn=True)\n",
      "/home/monster/.conda/envs/tensorflow/lib/python3.6/site-packages/sklearn/preprocessing/label.py:252: DataConversionWarning: A column-vector y was passed when a 1d array was expected. Please change the shape of y to (n_samples, ), for example using ravel().\n",
      "  y = column_or_1d(y, warn=True)\n"
     ]
    },
    {
     "name": "stdout",
     "output_type": "stream",
     "text": [
      "\n",
      "Model Report\n",
      "Accuracy : 0.7834\n",
      "AUC Score (Train): 0.674916\n",
      "CPU times: user 7min 1s, sys: 596 ms, total: 7min 2s\n",
      "Wall time: 7min 2s\n"
     ]
    },
    {
     "data": {
      "image/png": "[encoded data removed]",
      "text/plain": [
       "<Figure size 432x288 with 1 Axes>"
      ]
     },
     "metadata": {
      "needs_background": "light"
     },
     "output_type": "display_data"
    }
   ],
   "source": [
    "%%time\n",
    "#replce top_20_ft with predictors to run model on all the features\n",
    "modelfit(model1, X_train,y_train,X_validation,y_validation,test_df,sub_df,predictors,outcome,useTrainCV=True, cv_folds=5, early_stopping_rounds=50)"
   ]
  },
  {
   "cell_type": "code",
   "execution_count": 73,
   "metadata": {},
   "outputs": [
    {
     "name": "stdout",
     "output_type": "stream",
     "text": [
      "[0]\ttrain-auc:0.618627+0.00284239\ttest-auc:0.610394+0.00363036\n",
      "[1]\ttrain-auc:0.630994+0.0013796\ttest-auc:0.621662+0.00136544\n",
      "[2]\ttrain-auc:0.635263+0.00145172\ttest-auc:0.625071+0.00186937\n",
      "[3]\ttrain-auc:0.638169+0.000943085\ttest-auc:0.626899+0.00176297\n",
      "[4]\ttrain-auc:0.6405+0.00105193\ttest-auc:0.628752+0.00187617\n",
      "[5]\ttrain-auc:0.642725+0.000920735\ttest-auc:0.630069+0.00132282\n",
      "[6]\ttrain-auc:0.644391+0.000732707\ttest-auc:0.631183+0.00140595\n",
      "[7]\ttrain-auc:0.64607+0.000413525\ttest-auc:0.632377+0.00153286\n",
      "[8]\ttrain-auc:0.647659+0.000493018\ttest-auc:0.633135+0.00133288\n",
      "[9]\ttrain-auc:0.649664+0.000272342\ttest-auc:0.634478+0.00138979\n",
      "[10]\ttrain-auc:0.651191+0.000142335\ttest-auc:0.634834+0.00110034\n",
      "[11]\ttrain-auc:0.652907+0.000597578\ttest-auc:0.635682+0.00128498\n",
      "[12]\ttrain-auc:0.65433+0.000645502\ttest-auc:0.636299+0.00121799\n",
      "[13]\ttrain-auc:0.655963+0.000569946\ttest-auc:0.637329+0.000969044\n",
      "[14]\ttrain-auc:0.657385+0.000690994\ttest-auc:0.637868+0.00106565\n",
      "[15]\ttrain-auc:0.658886+0.000819334\ttest-auc:0.638524+0.00120883\n",
      "[16]\ttrain-auc:0.660113+0.000873532\ttest-auc:0.638937+0.00128653\n",
      "[17]\ttrain-auc:0.661696+0.000903254\ttest-auc:0.639604+0.00101929\n",
      "[18]\ttrain-auc:0.662843+0.000708745\ttest-auc:0.640092+0.000962242\n",
      "[19]\ttrain-auc:0.664076+0.000680115\ttest-auc:0.640462+0.000897308\n",
      "[20]\ttrain-auc:0.665412+0.00065116\ttest-auc:0.640987+0.00105364\n",
      "[21]\ttrain-auc:0.666576+0.000619362\ttest-auc:0.641259+0.000947425\n",
      "[22]\ttrain-auc:0.667779+0.000788483\ttest-auc:0.641464+0.000928456\n",
      "[23]\ttrain-auc:0.668917+0.00058006\ttest-auc:0.641722+0.000999059\n",
      "[24]\ttrain-auc:0.670044+0.000631486\ttest-auc:0.641813+0.00094507\n",
      "[25]\ttrain-auc:0.670956+0.000600427\ttest-auc:0.641812+0.000923144\n",
      "[26]\ttrain-auc:0.671992+0.000853154\ttest-auc:0.642178+0.000762052\n",
      "[27]\ttrain-auc:0.672922+0.000956073\ttest-auc:0.642407+0.000815135\n",
      "[28]\ttrain-auc:0.673727+0.000759701\ttest-auc:0.642606+0.00101795\n",
      "[29]\ttrain-auc:0.674596+0.000787625\ttest-auc:0.642658+0.000965089\n",
      "[30]\ttrain-auc:0.675423+0.000862616\ttest-auc:0.642613+0.00106905\n",
      "[31]\ttrain-auc:0.676353+0.000777293\ttest-auc:0.642852+0.00111782\n",
      "[32]\ttrain-auc:0.676997+0.000617931\ttest-auc:0.642889+0.00116951\n",
      "[33]\ttrain-auc:0.677862+0.000790658\ttest-auc:0.642908+0.000935226\n",
      "[34]\ttrain-auc:0.678773+0.000891258\ttest-auc:0.643048+0.00104156\n",
      "[35]\ttrain-auc:0.679439+0.000874901\ttest-auc:0.643254+0.00108895\n",
      "[36]\ttrain-auc:0.680173+0.000725487\ttest-auc:0.643515+0.000992626\n",
      "[37]\ttrain-auc:0.681002+0.000719526\ttest-auc:0.643675+0.00111649\n",
      "[38]\ttrain-auc:0.681883+0.000717288\ttest-auc:0.643709+0.00112522\n",
      "[39]\ttrain-auc:0.682506+0.000538683\ttest-auc:0.643775+0.00124557\n",
      "[40]\ttrain-auc:0.683255+0.000565749\ttest-auc:0.643791+0.00134444\n",
      "[41]\ttrain-auc:0.684012+0.000609768\ttest-auc:0.64383+0.00129427\n",
      "[42]\ttrain-auc:0.684576+0.000392609\ttest-auc:0.643852+0.00127573\n",
      "[43]\ttrain-auc:0.685181+0.000519329\ttest-auc:0.643817+0.00116778\n",
      "[44]\ttrain-auc:0.686011+0.000397692\ttest-auc:0.644033+0.00123414\n",
      "[45]\ttrain-auc:0.686698+0.000324248\ttest-auc:0.644133+0.00122291\n",
      "[46]\ttrain-auc:0.687353+0.000458777\ttest-auc:0.644269+0.00106796\n",
      "[47]\ttrain-auc:0.688095+0.000489241\ttest-auc:0.64443+0.00108489\n",
      "[48]\ttrain-auc:0.688803+0.000380857\ttest-auc:0.644434+0.00115756\n",
      "[49]\ttrain-auc:0.689528+0.000284485\ttest-auc:0.644452+0.00116744\n",
      "[50]\ttrain-auc:0.690112+0.000313376\ttest-auc:0.644369+0.00108321\n",
      "[51]\ttrain-auc:0.690708+0.000363779\ttest-auc:0.644447+0.0010615\n",
      "[52]\ttrain-auc:0.691335+0.000213994\ttest-auc:0.644473+0.00107661\n",
      "[53]\ttrain-auc:0.691881+0.000293416\ttest-auc:0.644517+0.0010582\n",
      "[54]\ttrain-auc:0.692461+0.000387264\ttest-auc:0.644558+0.00102472\n",
      "[55]\ttrain-auc:0.693115+0.000565249\ttest-auc:0.644643+0.00099218\n",
      "[56]\ttrain-auc:0.693846+0.000603084\ttest-auc:0.644747+0.00090335\n",
      "[57]\ttrain-auc:0.694482+0.000730676\ttest-auc:0.644719+0.00101199\n",
      "[58]\ttrain-auc:0.695065+0.000790626\ttest-auc:0.644771+0.00101303\n",
      "[59]\ttrain-auc:0.695701+0.000931393\ttest-auc:0.644764+0.00104114\n",
      "[60]\ttrain-auc:0.696429+0.000924786\ttest-auc:0.644766+0.00102613\n",
      "[61]\ttrain-auc:0.697058+0.000872778\ttest-auc:0.64484+0.00112364\n",
      "[62]\ttrain-auc:0.697688+0.00091352\ttest-auc:0.64486+0.00116356\n",
      "[63]\ttrain-auc:0.698313+0.000829793\ttest-auc:0.644961+0.00123517\n",
      "[64]\ttrain-auc:0.698975+0.000894733\ttest-auc:0.64486+0.00127447\n",
      "[65]\ttrain-auc:0.699577+0.00103877\ttest-auc:0.64501+0.00128647\n",
      "[66]\ttrain-auc:0.700261+0.0011909\ttest-auc:0.645055+0.00123344\n",
      "[67]\ttrain-auc:0.700733+0.0013062\ttest-auc:0.645043+0.00119646\n",
      "[68]\ttrain-auc:0.701403+0.00126543\ttest-auc:0.645101+0.00112393\n",
      "[69]\ttrain-auc:0.701983+0.00123621\ttest-auc:0.645223+0.00128149\n",
      "[70]\ttrain-auc:0.702566+0.00120242\ttest-auc:0.645219+0.00131417\n",
      "[71]\ttrain-auc:0.703144+0.00116841\ttest-auc:0.645097+0.00136081\n",
      "[72]\ttrain-auc:0.703818+0.00132936\ttest-auc:0.645109+0.00135331\n",
      "[73]\ttrain-auc:0.704283+0.00136491\ttest-auc:0.645004+0.00133671\n",
      "[74]\ttrain-auc:0.70477+0.00134951\ttest-auc:0.645065+0.00125616\n",
      "[75]\ttrain-auc:0.705309+0.00134809\ttest-auc:0.645163+0.00126422\n",
      "[76]\ttrain-auc:0.705845+0.00128022\ttest-auc:0.645187+0.00121039\n",
      "[77]\ttrain-auc:0.706499+0.00121823\ttest-auc:0.645076+0.0012058\n",
      "[78]\ttrain-auc:0.70699+0.00114019\ttest-auc:0.645052+0.001252\n",
      "[79]\ttrain-auc:0.707451+0.00109786\ttest-auc:0.645049+0.00120944\n",
      "[80]\ttrain-auc:0.708047+0.00119691\ttest-auc:0.645052+0.00120006\n",
      "[81]\ttrain-auc:0.708671+0.0010879\ttest-auc:0.645079+0.00125799\n",
      "[82]\ttrain-auc:0.709307+0.0011405\ttest-auc:0.645013+0.00142383\n",
      "[83]\ttrain-auc:0.709709+0.00111543\ttest-auc:0.644967+0.00136836\n",
      "[84]\ttrain-auc:0.710174+0.00122186\ttest-auc:0.644954+0.00133259\n",
      "[85]\ttrain-auc:0.710626+0.00119317\ttest-auc:0.64487+0.00139503\n",
      "[86]\ttrain-auc:0.711247+0.00126474\ttest-auc:0.644846+0.00143114\n",
      "[87]\ttrain-auc:0.711787+0.00115062\ttest-auc:0.644859+0.00145973\n",
      "[88]\ttrain-auc:0.712296+0.00123258\ttest-auc:0.64492+0.00154002\n",
      "[89]\ttrain-auc:0.712714+0.0012665\ttest-auc:0.644869+0.00158525\n",
      "[90]\ttrain-auc:0.713095+0.00116834\ttest-auc:0.644911+0.00157771\n",
      "[91]\ttrain-auc:0.713446+0.00102745\ttest-auc:0.644936+0.00157237\n",
      "[92]\ttrain-auc:0.714048+0.00103935\ttest-auc:0.644991+0.00159862\n",
      "[93]\ttrain-auc:0.714623+0.000900905\ttest-auc:0.644909+0.00163974\n",
      "[94]\ttrain-auc:0.715083+0.000993625\ttest-auc:0.644907+0.00171198\n",
      "[95]\ttrain-auc:0.71557+0.00107704\ttest-auc:0.644847+0.00168129\n",
      "[96]\ttrain-auc:0.715893+0.0011777\ttest-auc:0.644756+0.00165707\n",
      "[97]\ttrain-auc:0.716494+0.00108448\ttest-auc:0.644736+0.00166121\n"
     ]
    },
    {
     "name": "stderr",
     "output_type": "stream",
     "text": [
      "/home/monster/.conda/envs/tensorflow/lib/python3.6/site-packages/sklearn/preprocessing/label.py:219: DataConversionWarning: A column-vector y was passed when a 1d array was expected. Please change the shape of y to (n_samples, ), for example using ravel().\n",
      "  y = column_or_1d(y, warn=True)\n",
      "/home/monster/.conda/envs/tensorflow/lib/python3.6/site-packages/sklearn/preprocessing/label.py:252: DataConversionWarning: A column-vector y was passed when a 1d array was expected. Please change the shape of y to (n_samples, ), for example using ravel().\n",
      "  y = column_or_1d(y, warn=True)\n"
     ]
    },
    {
     "name": "stdout",
     "output_type": "stream",
     "text": [
      "\n",
      "Model Report\n",
      "Accuracy : 0.7834\n",
      "AUC Score (Train): 0.653918\n",
      "CPU times: user 2min 35s, sys: 184 ms, total: 2min 35s\n",
      "Wall time: 2min 35s\n"
     ]
    },
    {
     "data": {
      "image/png": "[encoded data removed]",
      "text/plain": [
       "<Figure size 432x288 with 1 Axes>"
      ]
     },
     "metadata": {
      "needs_background": "light"
     },
     "output_type": "display_data"
    }
   ],
   "source": [
    "%%time\n",
    "#replce top_20_ft with predictors to run model on all the features\n",
    "modelfit(model1, X_train,y_train,X_validation,y_validation,test_df,sub_df,toptfs,outcome,useTrainCV=True, cv_folds=5, early_stopping_rounds=50)"
   ]
  },
  {
   "cell_type": "code",
   "execution_count": null,
   "metadata": {},
   "outputs": [],
   "source": [
    "top_20_features = pd.Series(model1.get_booster().get_fscore()).sort_values(ascending=False)[:25]"
   ]
  },
  {
   "cell_type": "code",
   "execution_count": null,
   "metadata": {},
   "outputs": [],
   "source": [
    "top_20_ft = list(top_20_features.index)"
   ]
  },
  {
   "cell_type": "code",
   "execution_count": null,
   "metadata": {},
   "outputs": [],
   "source": [
    "top_20_ft"
   ]
  },
  {
   "cell_type": "code",
   "execution_count": null,
   "metadata": {},
   "outputs": [],
   "source": [
    "%%time\n",
    "#top features only\n",
    "modelfit(model1, X_train,y_train,X_validation,y_validation,test_df,sub_df,top_20_ft,outcome,useTrainCV=True, cv_folds=5, early_stopping_rounds=50)"
   ]
  },
  {
   "cell_type": "code",
   "execution_count": null,
   "metadata": {},
   "outputs": [],
   "source": [
    "%%time\n",
    "#top features only\n",
    "modelfit(model1, X_train,y_train,X_validation,y_validation,test_df,sub_df,top_20_ft,outcome,useTrainCV=True, cv_folds=5, early_stopping_rounds=50)"
   ]
  },
  {
   "cell_type": "code",
   "execution_count": null,
   "metadata": {},
   "outputs": [],
   "source": [
    "from sklearn.metrics import roc_curve, auc\n",
    "def Performance(Model,Y,X):\n",
    "    # Perforamnce of the model\n",
    "    fpr, tpr, _ = roc_curve(Y, Model.predict_proba(X)[:,1])\n",
    "    AUC  = auc(fpr, tpr)\n",
    "    print ('the AUC is : %0.4f' %  AUC)\n",
    "    plt.figure()\n",
    "    plt.plot(fpr, tpr, label='ROC curve (area = %0.4f)' % AUC)\n",
    "    plt.plot([0, 1], [0, 1], 'k--')\n",
    "    plt.xlim([0.0, 1.0])\n",
    "    plt.ylim([0.0, 1.05])\n",
    "    plt.xlabel('False Positive Rate')\n",
    "    plt.ylabel('True Positive Rate')\n",
    "    plt.title('ROC Curve')\n",
    "    plt.legend(loc=\"lower right\")\n",
    "    plt.show()"
   ]
  },
  {
   "cell_type": "code",
   "execution_count": null,
   "metadata": {},
   "outputs": [],
   "source": [
    "Performance(model1,y_validation,X_validation)"
   ]
  },
  {
   "cell_type": "code",
   "execution_count": null,
   "metadata": {},
   "outputs": [],
   "source": [
    "from hyperopt import fmin, tpe, hp, STATUS_OK, Trials"
   ]
  },
  {
   "cell_type": "code",
   "execution_count": null,
   "metadata": {},
   "outputs": [],
   "source": [
    "%%time\n",
    "np.linspace(0,1,11)"
   ]
  },
  {
   "cell_type": "code",
   "execution_count": null,
   "metadata": {},
   "outputs": [],
   "source": [
    "%%time\n",
    "from sklearn.model_selection import cross_val_score\n",
    "def acc_model(params):\n",
    "    clf = XGBClassifier(**params)\n",
    "    return cross_val_score(clf, X_train, y_train, scoring='roc_auc',cv=5).mean()\n",
    "\n",
    "param_space = {\n",
    "    'learning_rate': hp.choice('learning_rate', [0.1,0.1]),#np.linspace(0,1,11)),\n",
    "    \n",
    "    'n_estimators': hp.choice('n_estimators', [300,300]),\n",
    "    \n",
    "    'max_depth': hp.choice('max_depth', [3, 5, 7, 9]), #range(1,20)),\n",
    "                               \n",
    "    'min_child_weight': hp.choice('min_child_weight', [1, 3, 5]), #range(1,7)),\n",
    "    \n",
    "    'gamma': hp.choice('gamma', [0,0]),#np.linspace(0,1,11)),\n",
    "    \n",
    "    'subsample': hp.choice('subsample', [0.8,0.8]),#np.linspace(0,1,11)),\n",
    "    \n",
    "    'colsample_bytree': hp.choice('colsample_bytree',[0.8,0.8])# np.linspace(0,1,11)),\n",
    "    \n",
    "#     'max_features': hp.choice('max_features', range(1,55)),\n",
    "    \n",
    "#     'criterion': hp.choice('criterion', [\"gini\", \"entropy\"])\n",
    "#                        \n",
    "     }\n",
    "\n",
    "best = 0\n",
    "def f(params):\n",
    "    global best\n",
    "    acc = acc_model(params)\n",
    "    if acc > best:\n",
    "        best = acc\n",
    "    print ('new best:', best, params)\n",
    "    return {'loss': -acc, 'status': STATUS_OK}\n",
    "\n",
    "trials = Trials()\n",
    "best = fmin(f, param_space, algo=tpe.suggest, max_evals=5, trials=trials)\n",
    "print ('best:')\n",
    "print (best)\n"
   ]
  },
  {
   "cell_type": "code",
   "execution_count": null,
   "metadata": {},
   "outputs": [],
   "source": []
  },
  {
   "cell_type": "code",
   "execution_count": null,
   "metadata": {},
   "outputs": [],
   "source": []
  },
  {
   "cell_type": "code",
   "execution_count": null,
   "metadata": {},
   "outputs": [],
   "source": []
  },
  {
   "cell_type": "code",
   "execution_count": null,
   "metadata": {},
   "outputs": [],
   "source": [
    "from sklearn.model_selection import learning_curve, GridSearchCV"
   ]
  },
  {
   "cell_type": "code",
   "execution_count": null,
   "metadata": {},
   "outputs": [],
   "source": [
    "%%time\n",
    "param_test1 = {\n",
    " 'max_depth':[3, 5, 7],\n",
    " 'min_child_weight':[1, 3, 5]\n",
    "}\n",
    "\n",
    "gsearch1 = GridSearchCV(estimator = XGBClassifier( learning_rate =0.1, n_estimators=118, max_depth=5,\n",
    " min_child_weight=1, gamma=0, subsample=0.8, colsample_bytree=0.8,\n",
    " objective= 'binary:logistic', nthread=6, scale_pos_weight=1, seed=27), \n",
    " param_grid = param_test1, scoring='roc_auc',n_jobs=6,iid=False, cv=5)\n",
    "gsearch1.fit(X_train,y_train)\n",
    "print(gsearch1.best_params_, gsearch1.best_score_)\n"
   ]
  },
  {
   "cell_type": "code",
   "execution_count": null,
   "metadata": {},
   "outputs": [],
   "source": [
    "param_test1 = {\n",
    " 'max_depth':[3, 5, 7],\n",
    " 'min_child_weight':[1, 3, 5]\n",
    "}\n",
    "\n",
    "gsearch1 = GridSearchCV(estimator = XGBClassifier( learning_rate =0.1, n_estimators=118, max_depth=5,\n",
    " min_child_weight=1, gamma=0, subsample=0.8, colsample_bytree=0.8,\n",
    " objective= 'binary:logistic', nthread=6, scale_pos_weight=1, seed=27), \n",
    " param_grid = param_test1, scoring='roc_auc',n_jobs=6,iid=False, cv=5)\n",
    "gsearch1.fit(X_train,y_train)\n",
    "print(gsearch1.best_params_, gsearch1.best_score_)\n"
   ]
  },
  {
   "cell_type": "code",
   "execution_count": null,
   "metadata": {},
   "outputs": [],
   "source": [
    "gsearch1.best_params_"
   ]
  },
  {
   "cell_type": "code",
   "execution_count": null,
   "metadata": {},
   "outputs": [],
   "source": [
    "gsearch1.best_score_"
   ]
  },
  {
   "cell_type": "code",
   "execution_count": null,
   "metadata": {},
   "outputs": [],
   "source": [
    "param_test2 = {\n",
    " 'max_depth':[4, 5, 6],\n",
    " 'min_child_weight':[4,5,6]\n",
    "}\n",
    "\n",
    "gsearch1 = GridSearchCV(estimator = XGBClassifier( learning_rate =0.1, n_estimators=118, max_depth=5,\n",
    " min_child_weight=2, gamma=0, subsample=0.8, colsample_bytree=0.8,\n",
    " objective= 'binary:logistic', nthread=6, scale_pos_weight=1, seed=27), \n",
    " param_grid = param_test2, scoring='roc_auc',n_jobs=6,iid=False, cv=5)\n",
    "gsearch1.fit(X_train,y_train)\n",
    "\n",
    "print(gsearch1.best_params_, gsearch1.best_score_)"
   ]
  },
  {
   "cell_type": "code",
   "execution_count": null,
   "metadata": {},
   "outputs": [],
   "source": [
    "param_test2b = {\n",
    " 'min_child_weight':[5,6,7,8,9]\n",
    "}\n",
    "\n",
    "gsearch2b = GridSearchCV(estimator = XGBClassifier( learning_rate=0.1, n_estimators=118, max_depth=6,\n",
    " min_child_weight=2, gamma=0, subsample=0.8, colsample_bytree=0.8,\n",
    " objective= 'binary:logistic', nthread=6, scale_pos_weight=1,seed=27), \n",
    " param_grid = param_test2b, scoring='roc_auc',n_jobs=6,iid=False, cv=5)\n",
    "gsearch2b.fit(X_train,y_train)\n",
    "\n",
    "print(gsearch2b.best_params_, gsearch2b.best_score_)"
   ]
  },
  {
   "cell_type": "code",
   "execution_count": null,
   "metadata": {},
   "outputs": [],
   "source": [
    "param_test3 = {\n",
    " 'gamma':[i/10.0 for i in range(0,5)]\n",
    "}\n",
    "gsearch3 = GridSearchCV(estimator = XGBClassifier( learning_rate =0.1, n_estimators=118, max_depth=6,\n",
    " min_child_weight=8, gamma=0, subsample=0.8, colsample_bytree=0.8,\n",
    " objective= 'binary:logistic', nthread=-1, scale_pos_weight=1,seed=27), \n",
    " param_grid = param_test3, scoring='roc_auc',n_jobs=4,iid=False, cv=5)\n",
    "gsearch3.fit(X_train,y_train)\n",
    "\n",
    "print(gsearch3.best_params_, gsearch3.best_score_)\n"
   ]
  },
  {
   "cell_type": "code",
   "execution_count": null,
   "metadata": {},
   "outputs": [],
   "source": [
    "xgb1 = XGBClassifier(\n",
    " learning_rate =0.1,\n",
    " n_estimators=1000,\n",
    " max_depth=6,\n",
    " min_child_weight=8,\n",
    " gamma=0,\n",
    " subsample=0.8,\n",
    " colsample_bytree=0.8,\n",
    " objective= 'binary:logistic',\n",
    " nthread=4,\n",
    " scale_pos_weight=1,\n",
    " seed=27)"
   ]
  },
  {
   "cell_type": "code",
   "execution_count": null,
   "metadata": {},
   "outputs": [],
   "source": [
    "modelfit(xgb1, X_train,y_train,X_validation,y_validation,test_df,sub_df,predictors,outcome,useTrainCV=True, cv_folds=5, early_stopping_rounds=50)"
   ]
  },
  {
   "cell_type": "code",
   "execution_count": null,
   "metadata": {},
   "outputs": [],
   "source": [
    "param_test4 = {\n",
    " 'subsample':[i/10.0 for i in range(6,10)],\n",
    " 'colsample_bytree':[i/10.0 for i in range(6,10)]\n",
    "}\n",
    "\n",
    "gsearch4 = GridSearchCV(estimator = XGBClassifier( learning_rate =0.1, n_estimators=200, max_depth=6,\n",
    " min_child_weight=8, gamma=0, subsample=0.8, colsample_bytree=0.8,\n",
    " objective= 'binary:logistic', nthread=-1, scale_pos_weight=1,seed=27), \n",
    " param_grid = param_test4, scoring='roc_auc',n_jobs=4,iid=False, cv=5)\n",
    "gsearch4.fit(X_train,y_train)\n",
    "\n",
    "print(gsearch4.best_params_, gsearch4.best_score_)\n"
   ]
  },
  {
   "cell_type": "code",
   "execution_count": null,
   "metadata": {},
   "outputs": [],
   "source": [
    "param_test5 = {\n",
    " 'subsample':[i/100.0 for i in range(85,100,5)],\n",
    " 'colsample_bytree':[i/100.0 for i in range(65,80,5)]\n",
    "}\n",
    "\n",
    "gsearch5 = GridSearchCV(estimator = XGBClassifier( learning_rate =0.1, n_estimators=200, max_depth=6,\n",
    " min_child_weight=8, gamma=0, subsample=0.8, colsample_bytree=0.8,\n",
    " objective= 'binary:logistic', nthread=4, scale_pos_weight=1,seed=27), \n",
    " param_grid = param_test5, scoring='roc_auc',n_jobs=4,iid=False, cv=5)\n",
    "\n",
    "gsearch5.fit(X_train,y_train)\n",
    "print(gsearch5.best_params_, gsearch5.best_score_)\n"
   ]
  },
  {
   "cell_type": "code",
   "execution_count": null,
   "metadata": {},
   "outputs": [],
   "source": [
    "# param_test6 = {\n",
    "#  'reg_alpha':[1e-5, 1e-2, 0.1, 1, 100]\n",
    "# }\n",
    "\n",
    "# gsearch6 = GridSearchCV(estimator = XGBClassifier( learning_rate =0.1, n_estimators=200, max_depth=6,\n",
    "#  min_child_weight=8, gamma=0, subsample=0.95, colsample_bytree=0.7,\n",
    "#  objective= 'binary:logistic', nthread=-1, scale_pos_weight=1,seed=27), \n",
    "#  param_grid = param_test6, scoring='roc_auc',n_jobs=4,iid=False, cv=5)\n",
    "\n",
    "# gsearch6.fit(X_train,y_train)\n",
    "\n",
    "\n",
    "# print(gsearch6.best_params_, gsearch6.best_score_)"
   ]
  },
  {
   "cell_type": "code",
   "execution_count": null,
   "metadata": {},
   "outputs": [],
   "source": [
    "# param_test7 = {\n",
    "#  'reg_alpha':[0, 0.001, 0.005, 0.01, 0.05,0.09]\n",
    "# }\n",
    "\n",
    "# gsearch7 = GridSearchCV(estimator = XGBClassifier( learning_rate =0.1, n_estimators=200, max_depth=6,\n",
    "#  min_child_weight=8, gamma=0.1,subsample=0.95, colsample_bytree=0.7,\n",
    "#  objective= 'binary:logistic', nthread=-1, scale_pos_weight=1,seed=27), \n",
    "#  param_grid = param_test7, scoring='roc_auc',n_jobs=4,iid=False, cv=5)\n",
    "# gsearch7.fit(X_train,y_train)\n",
    "\n",
    "# print(gsearch7.best_params_, gsearch7.best_score_)\n"
   ]
  },
  {
   "cell_type": "code",
   "execution_count": null,
   "metadata": {},
   "outputs": [],
   "source": []
  },
  {
   "cell_type": "code",
   "execution_count": null,
   "metadata": {},
   "outputs": [],
   "source": []
  },
  {
   "cell_type": "code",
   "execution_count": null,
   "metadata": {},
   "outputs": [],
   "source": []
  },
  {
   "cell_type": "code",
   "execution_count": null,
   "metadata": {},
   "outputs": [],
   "source": [
    "xgb4 = XGBClassifier(\n",
    " learning_rate =0.1,\n",
    " n_estimators=1000,\n",
    " max_depth=6,\n",
    " min_child_weight=8,\n",
    " gamma=0,\n",
    " subsample=0.9,\n",
    " colsample_bytree=1,\n",
    " objective= 'binary:logistic',\n",
    " nthread=-1,\n",
    " scale_pos_weight=1,\n",
    " seed=27)\n"
   ]
  },
  {
   "cell_type": "code",
   "execution_count": null,
   "metadata": {},
   "outputs": [],
   "source": [
    "modelfit(xgb4, X_train,y_train,X_validation,y_validation,test_df,sub_df,predictors,outcome,useTrainCV=True, cv_folds=5, early_stopping_rounds=50)"
   ]
  },
  {
   "cell_type": "code",
   "execution_count": null,
   "metadata": {},
   "outputs": [],
   "source": []
  },
  {
   "cell_type": "code",
   "execution_count": null,
   "metadata": {},
   "outputs": [],
   "source": []
  },
  {
   "cell_type": "code",
   "execution_count": null,
   "metadata": {},
   "outputs": [],
   "source": []
  },
  {
   "cell_type": "code",
   "execution_count": null,
   "metadata": {},
   "outputs": [],
   "source": []
  },
  {
   "cell_type": "code",
   "execution_count": null,
   "metadata": {},
   "outputs": [],
   "source": []
  },
  {
   "cell_type": "code",
   "execution_count": null,
   "metadata": {},
   "outputs": [],
   "source": []
  },
  {
   "cell_type": "code",
   "execution_count": null,
   "metadata": {},
   "outputs": [],
   "source": []
  },
  {
   "cell_type": "code",
   "execution_count": null,
   "metadata": {},
   "outputs": [],
   "source": []
  },
  {
   "cell_type": "code",
   "execution_count": null,
   "metadata": {},
   "outputs": [],
   "source": []
  },
  {
   "cell_type": "code",
   "execution_count": null,
   "metadata": {},
   "outputs": [],
   "source": []
  },
  {
   "cell_type": "code",
   "execution_count": null,
   "metadata": {},
   "outputs": [],
   "source": []
  },
  {
   "cell_type": "code",
   "execution_count": null,
   "metadata": {},
   "outputs": [],
   "source": []
  },
  {
   "cell_type": "code",
   "execution_count": null,
   "metadata": {},
   "outputs": [],
   "source": [
    "\n",
    "\n",
    "\n",
    "\n",
    "\n",
    "\n",
    "\n",
    "\n",
    "\n",
    "\n",
    "\n",
    " \n",
    "\n",
    "\n",
    "\n",
    "\n",
    "\n",
    "\n",
    "\n",
    "\n",
    "\n",
    "\n",
    "\n",
    "\n",
    "\n",
    "\n",
    "\n"
   ]
  },
  {
   "cell_type": "code",
   "execution_count": null,
   "metadata": {},
   "outputs": [],
   "source": []
  },
  {
   "cell_type": "code",
   "execution_count": null,
   "metadata": {},
   "outputs": [],
   "source": []
  },
  {
   "cell_type": "code",
   "execution_count": null,
   "metadata": {},
   "outputs": [],
   "source": []
  },
  {
   "cell_type": "code",
   "execution_count": null,
   "metadata": {},
   "outputs": [],
   "source": []
  }
 ],
 "metadata": {
  "kernelspec": {
   "display_name": "tensorflow",
   "language": "python",
   "name": "tensorflow"
  },
  "language_info": {
   "codemirror_mode": {
    "name": "ipython",
    "version": 3
   },
   "file_extension": ".py",
   "mimetype": "text/x-python",
   "name": "python",
   "nbconvert_exporter": "python",
   "pygments_lexer": "ipython3",
   "version": "3.6.8"
  }
 },
 "nbformat": 4,
 "nbformat_minor": 2
}
